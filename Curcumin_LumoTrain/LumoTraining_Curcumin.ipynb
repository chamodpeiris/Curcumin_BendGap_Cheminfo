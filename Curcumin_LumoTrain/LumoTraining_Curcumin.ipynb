{
 "cells": [
  {
   "cell_type": "code",
   "execution_count": 6,
   "metadata": {},
   "outputs": [
    {
     "name": "stdout",
     "output_type": "stream",
     "text": [
      "CPU times: total: 156 ms\n",
      "Wall time: 146 ms\n"
     ]
    },
    {
     "data": {
      "text/html": [
       "<div>\n",
       "<style scoped>\n",
       "    .dataframe tbody tr th:only-of-type {\n",
       "        vertical-align: middle;\n",
       "    }\n",
       "\n",
       "    .dataframe tbody tr th {\n",
       "        vertical-align: top;\n",
       "    }\n",
       "\n",
       "    .dataframe thead th {\n",
       "        text-align: right;\n",
       "    }\n",
       "</style>\n",
       "<table border=\"1\" class=\"dataframe\">\n",
       "  <thead>\n",
       "    <tr style=\"text-align: right;\">\n",
       "      <th></th>\n",
       "      <th>Molecule</th>\n",
       "      <th>Molecular Weight</th>\n",
       "      <th>LogP</th>\n",
       "      <th>Homo (eV)</th>\n",
       "      <th>Lumo (eV)</th>\n",
       "      <th>Homo-Lumo Gap (eV)</th>\n",
       "      <th>Smiles</th>\n",
       "      <th>morgan_0</th>\n",
       "      <th>morgan_1</th>\n",
       "      <th>morgan_2</th>\n",
       "      <th>...</th>\n",
       "      <th>morgan_2038</th>\n",
       "      <th>morgan_2039</th>\n",
       "      <th>morgan_2040</th>\n",
       "      <th>morgan_2041</th>\n",
       "      <th>morgan_2042</th>\n",
       "      <th>morgan_2043</th>\n",
       "      <th>morgan_2044</th>\n",
       "      <th>morgan_2045</th>\n",
       "      <th>morgan_2046</th>\n",
       "      <th>morgan_2047</th>\n",
       "    </tr>\n",
       "  </thead>\n",
       "  <tbody>\n",
       "    <tr>\n",
       "      <th>0</th>\n",
       "      <td>2-ADMeO3</td>\n",
       "      <td>532.345</td>\n",
       "      <td>5.02930</td>\n",
       "      <td>-5.1876</td>\n",
       "      <td>-2.1106</td>\n",
       "      <td>3.077</td>\n",
       "      <td>COc3cc(OC)c(C/C=C/C2=CC(/C=C/Cc1c(OC)cc(OC)cc1...</td>\n",
       "      <td>0</td>\n",
       "      <td>0</td>\n",
       "      <td>0</td>\n",
       "      <td>...</td>\n",
       "      <td>0</td>\n",
       "      <td>0</td>\n",
       "      <td>0</td>\n",
       "      <td>0</td>\n",
       "      <td>0</td>\n",
       "      <td>0</td>\n",
       "      <td>0</td>\n",
       "      <td>0</td>\n",
       "      <td>0</td>\n",
       "      <td>0</td>\n",
       "    </tr>\n",
       "    <tr>\n",
       "      <th>1</th>\n",
       "      <td>3-MR83a</td>\n",
       "      <td>472.293</td>\n",
       "      <td>5.01210</td>\n",
       "      <td>-5.4716</td>\n",
       "      <td>-2.3994</td>\n",
       "      <td>3.072</td>\n",
       "      <td>COc3ccc(C/C=C/C2=[O+][B-](F)(F)OC(/C=C/Cc1c(OC...</td>\n",
       "      <td>0</td>\n",
       "      <td>0</td>\n",
       "      <td>0</td>\n",
       "      <td>...</td>\n",
       "      <td>0</td>\n",
       "      <td>0</td>\n",
       "      <td>0</td>\n",
       "      <td>0</td>\n",
       "      <td>0</td>\n",
       "      <td>0</td>\n",
       "      <td>0</td>\n",
       "      <td>0</td>\n",
       "      <td>0</td>\n",
       "      <td>0</td>\n",
       "    </tr>\n",
       "    <tr>\n",
       "      <th>2</th>\n",
       "      <td>AD-10</td>\n",
       "      <td>472.293</td>\n",
       "      <td>5.01210</td>\n",
       "      <td>-5.5685</td>\n",
       "      <td>-2.3092</td>\n",
       "      <td>3.259</td>\n",
       "      <td>COc3ccc(C/C=C/C2=CC(/C=C/Cc1ccc(OC)cc1OC)=[O+]...</td>\n",
       "      <td>0</td>\n",
       "      <td>0</td>\n",
       "      <td>0</td>\n",
       "      <td>...</td>\n",
       "      <td>0</td>\n",
       "      <td>0</td>\n",
       "      <td>0</td>\n",
       "      <td>0</td>\n",
       "      <td>0</td>\n",
       "      <td>0</td>\n",
       "      <td>0</td>\n",
       "      <td>0</td>\n",
       "      <td>0</td>\n",
       "      <td>0</td>\n",
       "    </tr>\n",
       "    <tr>\n",
       "      <th>3</th>\n",
       "      <td>AD-1013</td>\n",
       "      <td>482.335</td>\n",
       "      <td>7.29270</td>\n",
       "      <td>-5.5091</td>\n",
       "      <td>-2.8837</td>\n",
       "      <td>2.625</td>\n",
       "      <td>COc5ccc(C/C=C/C4=[O+][B-](F)(F)OC(/C=C/Cc2c1cc...</td>\n",
       "      <td>0</td>\n",
       "      <td>0</td>\n",
       "      <td>0</td>\n",
       "      <td>...</td>\n",
       "      <td>0</td>\n",
       "      <td>0</td>\n",
       "      <td>0</td>\n",
       "      <td>0</td>\n",
       "      <td>0</td>\n",
       "      <td>0</td>\n",
       "      <td>0</td>\n",
       "      <td>0</td>\n",
       "      <td>0</td>\n",
       "      <td>0</td>\n",
       "    </tr>\n",
       "    <tr>\n",
       "      <th>4</th>\n",
       "      <td>AD-1022</td>\n",
       "      <td>472.293</td>\n",
       "      <td>5.01210</td>\n",
       "      <td>-5.6217</td>\n",
       "      <td>-2.6840</td>\n",
       "      <td>2.938</td>\n",
       "      <td>COc3ccc(OC)c(C/C=C/C2=CC(/C=C/Cc1cc(OC)ccc1OC)...</td>\n",
       "      <td>0</td>\n",
       "      <td>0</td>\n",
       "      <td>0</td>\n",
       "      <td>...</td>\n",
       "      <td>0</td>\n",
       "      <td>0</td>\n",
       "      <td>0</td>\n",
       "      <td>0</td>\n",
       "      <td>0</td>\n",
       "      <td>0</td>\n",
       "      <td>0</td>\n",
       "      <td>0</td>\n",
       "      <td>0</td>\n",
       "      <td>0</td>\n",
       "    </tr>\n",
       "    <tr>\n",
       "      <th>5</th>\n",
       "      <td>AD-11</td>\n",
       "      <td>444.239</td>\n",
       "      <td>4.40610</td>\n",
       "      <td>-5.6347</td>\n",
       "      <td>-2.6890</td>\n",
       "      <td>2.946</td>\n",
       "      <td>COc3cc(C/C=C/C2=CC(/C=C/Cc1ccc(O)c(OC)c1)=[O+]...</td>\n",
       "      <td>0</td>\n",
       "      <td>0</td>\n",
       "      <td>0</td>\n",
       "      <td>...</td>\n",
       "      <td>0</td>\n",
       "      <td>0</td>\n",
       "      <td>0</td>\n",
       "      <td>0</td>\n",
       "      <td>0</td>\n",
       "      <td>0</td>\n",
       "      <td>0</td>\n",
       "      <td>0</td>\n",
       "      <td>0</td>\n",
       "      <td>0</td>\n",
       "    </tr>\n",
       "    <tr>\n",
       "      <th>6</th>\n",
       "      <td>AD-14-Moore</td>\n",
       "      <td>438.327</td>\n",
       "      <td>5.10970</td>\n",
       "      <td>-5.1710</td>\n",
       "      <td>-2.3595</td>\n",
       "      <td>2.811</td>\n",
       "      <td>CN(C)c3ccc(C/C=C/C2=CC(/C=C/Cc1ccc(N(C)C)cc1)=...</td>\n",
       "      <td>0</td>\n",
       "      <td>0</td>\n",
       "      <td>0</td>\n",
       "      <td>...</td>\n",
       "      <td>0</td>\n",
       "      <td>0</td>\n",
       "      <td>0</td>\n",
       "      <td>0</td>\n",
       "      <td>0</td>\n",
       "      <td>0</td>\n",
       "      <td>0</td>\n",
       "      <td>0</td>\n",
       "      <td>0</td>\n",
       "      <td>0</td>\n",
       "    </tr>\n",
       "    <tr>\n",
       "      <th>7</th>\n",
       "      <td>AD-16-DMF</td>\n",
       "      <td>377.199</td>\n",
       "      <td>4.84938</td>\n",
       "      <td>-6.6011</td>\n",
       "      <td>-3.3695</td>\n",
       "      <td>3.231</td>\n",
       "      <td>N#Cc3ccc(C/C=C/C2=[O+][B-](F)(F)OC(/C=C/Cc1ccc...</td>\n",
       "      <td>0</td>\n",
       "      <td>0</td>\n",
       "      <td>0</td>\n",
       "      <td>...</td>\n",
       "      <td>0</td>\n",
       "      <td>0</td>\n",
       "      <td>0</td>\n",
       "      <td>0</td>\n",
       "      <td>0</td>\n",
       "      <td>0</td>\n",
       "      <td>0</td>\n",
       "      <td>0</td>\n",
       "      <td>0</td>\n",
       "      <td>0</td>\n",
       "    </tr>\n",
       "    <tr>\n",
       "      <th>8</th>\n",
       "      <td>AD-18</td>\n",
       "      <td>506.357</td>\n",
       "      <td>7.88370</td>\n",
       "      <td>-5.6247</td>\n",
       "      <td>-2.8896</td>\n",
       "      <td>2.735</td>\n",
       "      <td>COc6ccc(C/C=C/C5=CC(/C=C/Cc1cc2ccc3cccc4ccc(c1...</td>\n",
       "      <td>0</td>\n",
       "      <td>0</td>\n",
       "      <td>0</td>\n",
       "      <td>...</td>\n",
       "      <td>0</td>\n",
       "      <td>0</td>\n",
       "      <td>0</td>\n",
       "      <td>0</td>\n",
       "      <td>0</td>\n",
       "      <td>0</td>\n",
       "      <td>0</td>\n",
       "      <td>0</td>\n",
       "      <td>0</td>\n",
       "      <td>0</td>\n",
       "    </tr>\n",
       "    <tr>\n",
       "      <th>9</th>\n",
       "      <td>AD-24</td>\n",
       "      <td>512.361</td>\n",
       "      <td>7.30130</td>\n",
       "      <td>-5.5399</td>\n",
       "      <td>-2.6622</td>\n",
       "      <td>2.878</td>\n",
       "      <td>COc4ccc(C/C=C/C3=CC(/C=C/Cc1ccc(OC)c2ccccc12)=...</td>\n",
       "      <td>0</td>\n",
       "      <td>0</td>\n",
       "      <td>0</td>\n",
       "      <td>...</td>\n",
       "      <td>0</td>\n",
       "      <td>0</td>\n",
       "      <td>0</td>\n",
       "      <td>0</td>\n",
       "      <td>0</td>\n",
       "      <td>0</td>\n",
       "      <td>0</td>\n",
       "      <td>0</td>\n",
       "      <td>0</td>\n",
       "      <td>0</td>\n",
       "    </tr>\n",
       "    <tr>\n",
       "      <th>10</th>\n",
       "      <td>AD-25</td>\n",
       "      <td>538.447</td>\n",
       "      <td>7.41610</td>\n",
       "      <td>-5.3205</td>\n",
       "      <td>-2.6347</td>\n",
       "      <td>2.686</td>\n",
       "      <td>CN(C)c4ccc(C/C=C/C3=CC(/C=C/Cc1ccc(N(C)C)c2ccc...</td>\n",
       "      <td>0</td>\n",
       "      <td>0</td>\n",
       "      <td>0</td>\n",
       "      <td>...</td>\n",
       "      <td>0</td>\n",
       "      <td>0</td>\n",
       "      <td>0</td>\n",
       "      <td>0</td>\n",
       "      <td>0</td>\n",
       "      <td>0</td>\n",
       "      <td>0</td>\n",
       "      <td>0</td>\n",
       "      <td>0</td>\n",
       "      <td>0</td>\n",
       "    </tr>\n",
       "    <tr>\n",
       "      <th>11</th>\n",
       "      <td>AD-35</td>\n",
       "      <td>606.651</td>\n",
       "      <td>9.79090</td>\n",
       "      <td>-5.0740</td>\n",
       "      <td>-2.3040</td>\n",
       "      <td>2.770</td>\n",
       "      <td>CCCCN(CCCC)c3ccc(C/C=C/C2=CC(/C=C/Cc1ccc(N(CCC...</td>\n",
       "      <td>0</td>\n",
       "      <td>0</td>\n",
       "      <td>0</td>\n",
       "      <td>...</td>\n",
       "      <td>0</td>\n",
       "      <td>0</td>\n",
       "      <td>0</td>\n",
       "      <td>0</td>\n",
       "      <td>0</td>\n",
       "      <td>0</td>\n",
       "      <td>0</td>\n",
       "      <td>0</td>\n",
       "      <td>0</td>\n",
       "      <td>0</td>\n",
       "    </tr>\n",
       "    <tr>\n",
       "      <th>12</th>\n",
       "      <td>AD-4</td>\n",
       "      <td>407.225</td>\n",
       "      <td>4.85798</td>\n",
       "      <td>-6.2168</td>\n",
       "      <td>-3.2160</td>\n",
       "      <td>3.001</td>\n",
       "      <td>COc3ccc(C/C=C/C2=CC(/C=C/Cc1ccc(C#N)cc1)=[O+][...</td>\n",
       "      <td>0</td>\n",
       "      <td>0</td>\n",
       "      <td>0</td>\n",
       "      <td>...</td>\n",
       "      <td>0</td>\n",
       "      <td>0</td>\n",
       "      <td>0</td>\n",
       "      <td>0</td>\n",
       "      <td>0</td>\n",
       "      <td>0</td>\n",
       "      <td>0</td>\n",
       "      <td>0</td>\n",
       "      <td>0</td>\n",
       "      <td>0</td>\n",
       "    </tr>\n",
       "    <tr>\n",
       "      <th>13</th>\n",
       "      <td>AD-48</td>\n",
       "      <td>542.479</td>\n",
       "      <td>7.89550</td>\n",
       "      <td>-4.9084</td>\n",
       "      <td>-2.2062</td>\n",
       "      <td>2.702</td>\n",
       "      <td>CN5/C(=C\\C\\C=C\\C3=CC(/C=C/C/C=C/2N(C)c1ccccc1C...</td>\n",
       "      <td>0</td>\n",
       "      <td>0</td>\n",
       "      <td>0</td>\n",
       "      <td>...</td>\n",
       "      <td>0</td>\n",
       "      <td>0</td>\n",
       "      <td>0</td>\n",
       "      <td>0</td>\n",
       "      <td>0</td>\n",
       "      <td>0</td>\n",
       "      <td>0</td>\n",
       "      <td>0</td>\n",
       "      <td>0</td>\n",
       "      <td>0</td>\n",
       "    </tr>\n",
       "    <tr>\n",
       "      <th>14</th>\n",
       "      <td>AD-5</td>\n",
       "      <td>428.309</td>\n",
       "      <td>5.70820</td>\n",
       "      <td>-5.7404</td>\n",
       "      <td>-2.7706</td>\n",
       "      <td>2.970</td>\n",
       "      <td>COc3ccc(C/C=C/C2=[O+][B-](F)(F)OC(/C=C/Cc1ccc(...</td>\n",
       "      <td>0</td>\n",
       "      <td>0</td>\n",
       "      <td>0</td>\n",
       "      <td>...</td>\n",
       "      <td>0</td>\n",
       "      <td>0</td>\n",
       "      <td>0</td>\n",
       "      <td>0</td>\n",
       "      <td>0</td>\n",
       "      <td>0</td>\n",
       "      <td>0</td>\n",
       "      <td>0</td>\n",
       "      <td>0</td>\n",
       "      <td>0</td>\n",
       "    </tr>\n",
       "    <tr>\n",
       "      <th>15</th>\n",
       "      <td>AD-6</td>\n",
       "      <td>444.377</td>\n",
       "      <td>6.42150</td>\n",
       "      <td>-5.7209</td>\n",
       "      <td>-2.8307</td>\n",
       "      <td>2.890</td>\n",
       "      <td>CSc3ccc(C/C=C/C2=CC(/C=C/Cc1ccc(SC)cc1)=[O+][B...</td>\n",
       "      <td>0</td>\n",
       "      <td>0</td>\n",
       "      <td>0</td>\n",
       "      <td>...</td>\n",
       "      <td>0</td>\n",
       "      <td>0</td>\n",
       "      <td>0</td>\n",
       "      <td>0</td>\n",
       "      <td>0</td>\n",
       "      <td>0</td>\n",
       "      <td>0</td>\n",
       "      <td>0</td>\n",
       "      <td>0</td>\n",
       "      <td>0</td>\n",
       "    </tr>\n",
       "    <tr>\n",
       "      <th>16</th>\n",
       "      <td>AD-7</td>\n",
       "      <td>425.284</td>\n",
       "      <td>5.05230</td>\n",
       "      <td>-5.3831</td>\n",
       "      <td>-2.5237</td>\n",
       "      <td>2.859</td>\n",
       "      <td>COc3ccc(C/C=C/C2=CC(/C=C/Cc1ccc(N(C)C)cc1)=[O+...</td>\n",
       "      <td>0</td>\n",
       "      <td>0</td>\n",
       "      <td>0</td>\n",
       "      <td>...</td>\n",
       "      <td>0</td>\n",
       "      <td>0</td>\n",
       "      <td>0</td>\n",
       "      <td>0</td>\n",
       "      <td>0</td>\n",
       "      <td>0</td>\n",
       "      <td>0</td>\n",
       "      <td>0</td>\n",
       "      <td>0</td>\n",
       "      <td>0</td>\n",
       "    </tr>\n",
       "    <tr>\n",
       "      <th>17</th>\n",
       "      <td>AD-9</td>\n",
       "      <td>412.241</td>\n",
       "      <td>4.99490</td>\n",
       "      <td>-5.8692</td>\n",
       "      <td>-2.7325</td>\n",
       "      <td>3.137</td>\n",
       "      <td>COc1ccccc1C/C=C/C3=CC(/C=C/Cc2ccccc2OC)=[O+][B...</td>\n",
       "      <td>0</td>\n",
       "      <td>0</td>\n",
       "      <td>0</td>\n",
       "      <td>...</td>\n",
       "      <td>0</td>\n",
       "      <td>0</td>\n",
       "      <td>0</td>\n",
       "      <td>0</td>\n",
       "      <td>0</td>\n",
       "      <td>0</td>\n",
       "      <td>0</td>\n",
       "      <td>0</td>\n",
       "      <td>0</td>\n",
       "      <td>0</td>\n",
       "    </tr>\n",
       "    <tr>\n",
       "      <th>18</th>\n",
       "      <td>YD-30</td>\n",
       "      <td>752.933</td>\n",
       "      <td>14.70550</td>\n",
       "      <td>-5.4390</td>\n",
       "      <td>-2.9139</td>\n",
       "      <td>2.525</td>\n",
       "      <td>CCCCCC(CC)c5ccc(c4ccc(C/C=C/C3=CC(/C=C/Cc2ccc(...</td>\n",
       "      <td>0</td>\n",
       "      <td>1</td>\n",
       "      <td>0</td>\n",
       "      <td>...</td>\n",
       "      <td>0</td>\n",
       "      <td>0</td>\n",
       "      <td>0</td>\n",
       "      <td>1</td>\n",
       "      <td>0</td>\n",
       "      <td>0</td>\n",
       "      <td>0</td>\n",
       "      <td>0</td>\n",
       "      <td>0</td>\n",
       "      <td>0</td>\n",
       "    </tr>\n",
       "  </tbody>\n",
       "</table>\n",
       "<p>19 rows × 2055 columns</p>\n",
       "</div>"
      ],
      "text/plain": [
       "       Molecule  Molecular Weight      LogP  Homo (eV)  Lumo (eV)  \\\n",
       "0      2-ADMeO3           532.345   5.02930    -5.1876    -2.1106   \n",
       "1       3-MR83a           472.293   5.01210    -5.4716    -2.3994   \n",
       "2         AD-10           472.293   5.01210    -5.5685    -2.3092   \n",
       "3       AD-1013           482.335   7.29270    -5.5091    -2.8837   \n",
       "4       AD-1022           472.293   5.01210    -5.6217    -2.6840   \n",
       "5         AD-11           444.239   4.40610    -5.6347    -2.6890   \n",
       "6   AD-14-Moore           438.327   5.10970    -5.1710    -2.3595   \n",
       "7     AD-16-DMF           377.199   4.84938    -6.6011    -3.3695   \n",
       "8         AD-18           506.357   7.88370    -5.6247    -2.8896   \n",
       "9         AD-24           512.361   7.30130    -5.5399    -2.6622   \n",
       "10        AD-25           538.447   7.41610    -5.3205    -2.6347   \n",
       "11        AD-35           606.651   9.79090    -5.0740    -2.3040   \n",
       "12         AD-4           407.225   4.85798    -6.2168    -3.2160   \n",
       "13        AD-48           542.479   7.89550    -4.9084    -2.2062   \n",
       "14         AD-5           428.309   5.70820    -5.7404    -2.7706   \n",
       "15         AD-6           444.377   6.42150    -5.7209    -2.8307   \n",
       "16         AD-7           425.284   5.05230    -5.3831    -2.5237   \n",
       "17         AD-9           412.241   4.99490    -5.8692    -2.7325   \n",
       "18        YD-30           752.933  14.70550    -5.4390    -2.9139   \n",
       "\n",
       "    Homo-Lumo Gap (eV)                                             Smiles  \\\n",
       "0                3.077  COc3cc(OC)c(C/C=C/C2=CC(/C=C/Cc1c(OC)cc(OC)cc1...   \n",
       "1                3.072  COc3ccc(C/C=C/C2=[O+][B-](F)(F)OC(/C=C/Cc1c(OC...   \n",
       "2                3.259  COc3ccc(C/C=C/C2=CC(/C=C/Cc1ccc(OC)cc1OC)=[O+]...   \n",
       "3                2.625  COc5ccc(C/C=C/C4=[O+][B-](F)(F)OC(/C=C/Cc2c1cc...   \n",
       "4                2.938  COc3ccc(OC)c(C/C=C/C2=CC(/C=C/Cc1cc(OC)ccc1OC)...   \n",
       "5                2.946  COc3cc(C/C=C/C2=CC(/C=C/Cc1ccc(O)c(OC)c1)=[O+]...   \n",
       "6                2.811  CN(C)c3ccc(C/C=C/C2=CC(/C=C/Cc1ccc(N(C)C)cc1)=...   \n",
       "7                3.231  N#Cc3ccc(C/C=C/C2=[O+][B-](F)(F)OC(/C=C/Cc1ccc...   \n",
       "8                2.735  COc6ccc(C/C=C/C5=CC(/C=C/Cc1cc2ccc3cccc4ccc(c1...   \n",
       "9                2.878  COc4ccc(C/C=C/C3=CC(/C=C/Cc1ccc(OC)c2ccccc12)=...   \n",
       "10               2.686  CN(C)c4ccc(C/C=C/C3=CC(/C=C/Cc1ccc(N(C)C)c2ccc...   \n",
       "11               2.770  CCCCN(CCCC)c3ccc(C/C=C/C2=CC(/C=C/Cc1ccc(N(CCC...   \n",
       "12               3.001  COc3ccc(C/C=C/C2=CC(/C=C/Cc1ccc(C#N)cc1)=[O+][...   \n",
       "13               2.702  CN5/C(=C\\C\\C=C\\C3=CC(/C=C/C/C=C/2N(C)c1ccccc1C...   \n",
       "14               2.970  COc3ccc(C/C=C/C2=[O+][B-](F)(F)OC(/C=C/Cc1ccc(...   \n",
       "15               2.890  CSc3ccc(C/C=C/C2=CC(/C=C/Cc1ccc(SC)cc1)=[O+][B...   \n",
       "16               2.859  COc3ccc(C/C=C/C2=CC(/C=C/Cc1ccc(N(C)C)cc1)=[O+...   \n",
       "17               3.137  COc1ccccc1C/C=C/C3=CC(/C=C/Cc2ccccc2OC)=[O+][B...   \n",
       "18               2.525  CCCCCC(CC)c5ccc(c4ccc(C/C=C/C3=CC(/C=C/Cc2ccc(...   \n",
       "\n",
       "    morgan_0  morgan_1  morgan_2  ...  morgan_2038  morgan_2039  morgan_2040  \\\n",
       "0          0         0         0  ...            0            0            0   \n",
       "1          0         0         0  ...            0            0            0   \n",
       "2          0         0         0  ...            0            0            0   \n",
       "3          0         0         0  ...            0            0            0   \n",
       "4          0         0         0  ...            0            0            0   \n",
       "5          0         0         0  ...            0            0            0   \n",
       "6          0         0         0  ...            0            0            0   \n",
       "7          0         0         0  ...            0            0            0   \n",
       "8          0         0         0  ...            0            0            0   \n",
       "9          0         0         0  ...            0            0            0   \n",
       "10         0         0         0  ...            0            0            0   \n",
       "11         0         0         0  ...            0            0            0   \n",
       "12         0         0         0  ...            0            0            0   \n",
       "13         0         0         0  ...            0            0            0   \n",
       "14         0         0         0  ...            0            0            0   \n",
       "15         0         0         0  ...            0            0            0   \n",
       "16         0         0         0  ...            0            0            0   \n",
       "17         0         0         0  ...            0            0            0   \n",
       "18         0         1         0  ...            0            0            0   \n",
       "\n",
       "    morgan_2041  morgan_2042  morgan_2043  morgan_2044  morgan_2045  \\\n",
       "0             0            0            0            0            0   \n",
       "1             0            0            0            0            0   \n",
       "2             0            0            0            0            0   \n",
       "3             0            0            0            0            0   \n",
       "4             0            0            0            0            0   \n",
       "5             0            0            0            0            0   \n",
       "6             0            0            0            0            0   \n",
       "7             0            0            0            0            0   \n",
       "8             0            0            0            0            0   \n",
       "9             0            0            0            0            0   \n",
       "10            0            0            0            0            0   \n",
       "11            0            0            0            0            0   \n",
       "12            0            0            0            0            0   \n",
       "13            0            0            0            0            0   \n",
       "14            0            0            0            0            0   \n",
       "15            0            0            0            0            0   \n",
       "16            0            0            0            0            0   \n",
       "17            0            0            0            0            0   \n",
       "18            1            0            0            0            0   \n",
       "\n",
       "    morgan_2046  morgan_2047  \n",
       "0             0            0  \n",
       "1             0            0  \n",
       "2             0            0  \n",
       "3             0            0  \n",
       "4             0            0  \n",
       "5             0            0  \n",
       "6             0            0  \n",
       "7             0            0  \n",
       "8             0            0  \n",
       "9             0            0  \n",
       "10            0            0  \n",
       "11            0            0  \n",
       "12            0            0  \n",
       "13            0            0  \n",
       "14            0            0  \n",
       "15            0            0  \n",
       "16            0            0  \n",
       "17            0            0  \n",
       "18            0            0  \n",
       "\n",
       "[19 rows x 2055 columns]"
      ]
     },
     "execution_count": 6,
     "metadata": {},
     "output_type": "execute_result"
    }
   ],
   "source": [
    "%%time\n",
    "%reset -f\n",
    "\n",
    "import pandas as pd\n",
    "from rdkit.Chem import AllChem, Draw, Descriptors   \n",
    "from rdkit import Chem, DataStructs\n",
    "from rdkit.Avalon.pyAvalonTools import GetAvalonFP\n",
    "from rdkit.Chem import rdMolDescriptors\n",
    "from rdkit.DataStructs import ExplicitBitVect\n",
    "\n",
    "curcumin_variants = (\n",
    "    \"COc3cc(OC)c(C/C=C/C2=CC(/C=C/Cc1c(OC)cc(OC)cc1OC)=[O+][B-](F)(F)O2)c(OC)c3\",\n",
    "    \"COc3ccc(C/C=C/C2=[O+][B-](F)(F)OC(/C=C/Cc1c(OC)cc(OC)cc1OC)=C2)cc3\",\n",
    "    \"COc3ccc(C/C=C/C2=CC(/C=C/Cc1ccc(OC)cc1OC)=[O+][B-](F)(F)O2)c(OC)c3\",\n",
    "    \"COc5ccc(C/C=C/C4=[O+][B-](F)(F)OC(/C=C/Cc2c1ccccc1cc3ccccc23)=C4)cc5\",\n",
    "    \"COc3ccc(OC)c(C/C=C/C2=CC(/C=C/Cc1cc(OC)ccc1OC)=[O+][B-](F)(F)O2)c3\",\n",
    "    \"COc3cc(C/C=C/C2=CC(/C=C/Cc1ccc(O)c(OC)c1)=[O+][B-](F)(F)O2)ccc3O\",\n",
    "    \"CN(C)c3ccc(C/C=C/C2=CC(/C=C/Cc1ccc(N(C)C)cc1)=[O+][B-](F)(F)O2)cc3\",\n",
    "    \"N#Cc3ccc(C/C=C/C2=[O+][B-](F)(F)OC(/C=C/Cc1ccccc1)=C2)cc3\",\n",
    "    \"COc6ccc(C/C=C/C5=CC(/C=C/Cc1cc2ccc3cccc4ccc(c1)c2c34)=[O+][B-](F)(F)O5)cc6\",\n",
    "    \"COc4ccc(C/C=C/C3=CC(/C=C/Cc1ccc(OC)c2ccccc12)=[O+][B-](F)(F)O3)c5ccccc45\",\n",
    "    \"CN(C)c4ccc(C/C=C/C3=CC(/C=C/Cc1ccc(N(C)C)c2ccccc12)=[O+][B-](F)(F)O3)c5ccccc45\",\n",
    "    \"CCCCN(CCCC)c3ccc(C/C=C/C2=CC(/C=C/Cc1ccc(N(CCCC)CCCC)cc1)=[O+][B-](F)(F)O2)cc3\",\n",
    "    \"COc3ccc(C/C=C/C2=CC(/C=C/Cc1ccc(C#N)cc1)=[O+][B-](F)(F)O2)cc3\",\n",
    "    \"CN5/C(=C\\C\\C=C\\C3=CC(/C=C/C/C=C/2N(C)c1ccccc1C2(C)C)=[O+][B-](F)(F)O3)C(C)(C)c4ccccc45\",\n",
    "    \"COc3ccc(C/C=C/C2=[O+][B-](F)(F)OC(/C=C/Cc1ccc(SC)cc1)=C2)cc3\",\n",
    "    \"CSc3ccc(C/C=C/C2=CC(/C=C/Cc1ccc(SC)cc1)=[O+][B-](F)(F)O2)cc3\",\n",
    "    \"COc3ccc(C/C=C/C2=CC(/C=C/Cc1ccc(N(C)C)cc1)=[O+][B-](F)(F)O2)cc3\",\n",
    "    \"COc1ccccc1C/C=C/C3=CC(/C=C/Cc2ccccc2OC)=[O+][B-](F)(F)O3\",\n",
    "    \"CCCCCC(CC)c5ccc(c4ccc(C/C=C/C3=CC(/C=C/Cc2ccc(c1ccc(C(CC)CCCCC)s1)s2)=[O+][B-](F)(F)O3)s4)s5\"\n",
    ")\n",
    "\n",
    "molecule_names = [\n",
    "    '2-ADMeO3', '3-MR83a', 'AD-10', 'AD-1013', 'AD-1022', 'AD-11', 'AD-14-Moore', 'AD-16-DMF', \n",
    "    'AD-18', 'AD-24', 'AD-25', 'AD-35', 'AD-4', 'AD-48', 'AD-5', 'AD-6', 'AD-7', 'AD-9', 'YD-30']\n",
    "homo_lumo_gap = [\n",
    "    3.077, 3.072, 3.259, 2.625, 2.938, 2.946, 2.811, 3.231, 2.735, \n",
    "    2.878, 2.686, 2.77, 3.001, 2.702, 2.97, 2.89, 2.859, 3.137, 2.525]\n",
    "Homo_eV = [\n",
    "    -5.1876, -5.4716, -5.5685, -5.5091, -5.6217, -5.6347, -5.1710, -6.6011, \n",
    "    -5.6247, -5.5399, -5.3205, -5.0740, -6.2168, -4.9084, -5.7404, -5.7209, \n",
    "    -5.3831, -5.8692, -5.4390]\n",
    "Lumo_eV = [\n",
    "    -2.1106, -2.3994, -2.3092, -2.8837, -2.6840, -2.6890, -2.3595, -3.3695, \n",
    "    -2.8896, -2.6622, -2.6347, -2.3040, -3.2160, -2.2062, -2.7706, -2.8307, \n",
    "    -2.5237, -2.7325, -2.9139]\n",
    "\n",
    "molecules = [Chem.MolFromSmiles(smiles) for smiles in curcumin_variants]\n",
    "mws = [round(Descriptors.MolWt(mol),3) for mol in molecules]\n",
    "logp = [Descriptors.MolLogP(mol) for mol in molecules]\n",
    "\n",
    "# Create the initial DataFrame of Curcumin\n",
    "data = {\n",
    "    'Molecule': molecule_names,\n",
    "    'Molecular Weight': mws,\n",
    "    'LogP': logp,\n",
    "    'Homo (eV)': Homo_eV,\n",
    "    'Lumo (eV)': Lumo_eV,\n",
    "    'Homo-Lumo Gap (eV)': homo_lumo_gap,\n",
    "    'Smiles': curcumin_variants\n",
    "}\n",
    "curcumin_df = pd.DataFrame(data)\n",
    "\n",
    "def generate_morgan_fingerprint_safe(smiles):\n",
    "    \"\"\"Generate Morgan fingerprint and handle errors gracefully.\"\"\"\n",
    "    try:\n",
    "        mol = Chem.MolFromSmiles(smiles)\n",
    "        if mol:\n",
    "            return list(AllChem.GetMorganFingerprintAsBitVect(mol, 2, nBits=2048))\n",
    "    except Exception:\n",
    "        return None\n",
    "    return None\n",
    "\n",
    "# apply morgan fingerprint to the curcumin_df dataframe\n",
    "curcumin_df['Morgan_Fingerprints'] = curcumin_df['Smiles'].apply(generate_morgan_fingerprint_safe)\n",
    "curcumin_df = curcumin_df[curcumin_df['Morgan_Fingerprints'].notnull()].reset_index(drop=True)\n",
    "morgan_df = pd.DataFrame(curcumin_df['Morgan_Fingerprints'].tolist(), columns=[f'morgan_{i}' for i in range(2048)])\n",
    "\n",
    "curcumin_df_mf = pd.concat([curcumin_df.drop(columns=['Morgan_Fingerprints']), morgan_df], axis=1)\n",
    "curcumin_df_mf"
   ]
  },
  {
   "cell_type": "code",
   "execution_count": 7,
   "metadata": {},
   "outputs": [
    {
     "data": {
      "text/html": [
       "<div>\n",
       "<style scoped>\n",
       "    .dataframe tbody tr th:only-of-type {\n",
       "        vertical-align: middle;\n",
       "    }\n",
       "\n",
       "    .dataframe tbody tr th {\n",
       "        vertical-align: top;\n",
       "    }\n",
       "\n",
       "    .dataframe thead th {\n",
       "        text-align: right;\n",
       "    }\n",
       "</style>\n",
       "<table border=\"1\" class=\"dataframe\">\n",
       "  <thead>\n",
       "    <tr style=\"text-align: right;\">\n",
       "      <th></th>\n",
       "      <th>smiles</th>\n",
       "      <th>HOMO_calc</th>\n",
       "      <th>LUMO_calc</th>\n",
       "      <th>LUMO_calib</th>\n",
       "      <th>HOMO_calib</th>\n",
       "      <th>GAP_calib</th>\n",
       "      <th>GAP_calc</th>\n",
       "      <th>mol</th>\n",
       "    </tr>\n",
       "  </thead>\n",
       "  <tbody>\n",
       "    <tr>\n",
       "      <th>0</th>\n",
       "      <td>CN1C(=O)C2=C(C3=C(C#N)C(=C(C#N)C#N)SC3=O)N(C)C...</td>\n",
       "      <td>-6.884480</td>\n",
       "      <td>-5.415066</td>\n",
       "      <td>-5.785082</td>\n",
       "      <td>-6.877951</td>\n",
       "      <td>1.092869</td>\n",
       "      <td>1.469415</td>\n",
       "      <td>&lt;rdkit.Chem.rdchem.Mol object at 0x00000249D9B...</td>\n",
       "    </tr>\n",
       "    <tr>\n",
       "      <th>1</th>\n",
       "      <td>N#CC(C#N)=C1SC(=O)C(c2cnc(C3=C(C#N)C(=C(C#N)C#...</td>\n",
       "      <td>-7.972936</td>\n",
       "      <td>-5.351299</td>\n",
       "      <td>-5.658418</td>\n",
       "      <td>-8.008956</td>\n",
       "      <td>2.350538</td>\n",
       "      <td>2.621637</td>\n",
       "      <td>&lt;rdkit.Chem.rdchem.Mol object at 0x00000249D9B...</td>\n",
       "    </tr>\n",
       "    <tr>\n",
       "      <th>2</th>\n",
       "      <td>O=C(O)c1noc(-c2c3c(c(-c4onc(C(=O)O)c4C(=O)O)c4...</td>\n",
       "      <td>-7.091046</td>\n",
       "      <td>-5.349517</td>\n",
       "      <td>-5.779633</td>\n",
       "      <td>-7.231863</td>\n",
       "      <td>1.452230</td>\n",
       "      <td>1.741529</td>\n",
       "      <td>&lt;rdkit.Chem.rdchem.Mol object at 0x00000249D93...</td>\n",
       "    </tr>\n",
       "    <tr>\n",
       "      <th>3</th>\n",
       "      <td>N#CC(C#N)=C1C=C(C(=O)O)OC(c2c3c(c(C4=CC(=C(C#N...</td>\n",
       "      <td>-6.754826</td>\n",
       "      <td>-5.224586</td>\n",
       "      <td>-5.484103</td>\n",
       "      <td>-6.830958</td>\n",
       "      <td>1.346855</td>\n",
       "      <td>1.530241</td>\n",
       "      <td>&lt;rdkit.Chem.rdchem.Mol object at 0x00000249D93...</td>\n",
       "    </tr>\n",
       "    <tr>\n",
       "      <th>4</th>\n",
       "      <td>N#Cc1noc(-c2c3c(c(-c4onc(C#N)c4C(=O)O)c4cscc24...</td>\n",
       "      <td>-6.993326</td>\n",
       "      <td>-5.185199</td>\n",
       "      <td>-5.519700</td>\n",
       "      <td>-7.083920</td>\n",
       "      <td>1.564220</td>\n",
       "      <td>1.808127</td>\n",
       "      <td>&lt;rdkit.Chem.rdchem.Mol object at 0x00000249D93...</td>\n",
       "    </tr>\n",
       "    <tr>\n",
       "      <th>...</th>\n",
       "      <td>...</td>\n",
       "      <td>...</td>\n",
       "      <td>...</td>\n",
       "      <td>...</td>\n",
       "      <td>...</td>\n",
       "      <td>...</td>\n",
       "      <td>...</td>\n",
       "      <td>...</td>\n",
       "    </tr>\n",
       "    <tr>\n",
       "      <th>12717</th>\n",
       "      <td>CN1C(=O)C(=Cc2nc3ccc(-c4cocc4C(=O)c4ccc(C(F)(F...</td>\n",
       "      <td>-6.654575</td>\n",
       "      <td>-3.500147</td>\n",
       "      <td>-3.991776</td>\n",
       "      <td>-6.753528</td>\n",
       "      <td>2.761752</td>\n",
       "      <td>3.154428</td>\n",
       "      <td>&lt;rdkit.Chem.rdchem.Mol object at 0x00000249D9A...</td>\n",
       "    </tr>\n",
       "    <tr>\n",
       "      <th>12718</th>\n",
       "      <td>CN1C(=O)C(=Cc2ncc(-c3ccnc(-c4c5ccsc5nc5sc(F)c(...</td>\n",
       "      <td>-6.205515</td>\n",
       "      <td>-3.500108</td>\n",
       "      <td>-4.002464</td>\n",
       "      <td>-6.292875</td>\n",
       "      <td>2.290410</td>\n",
       "      <td>2.705406</td>\n",
       "      <td>&lt;rdkit.Chem.rdchem.Mol object at 0x00000249FFC...</td>\n",
       "    </tr>\n",
       "    <tr>\n",
       "      <th>12719</th>\n",
       "      <td>CN1C(=O)C(=Cc2nccc(C=CC(=O)C=Cc3ccnc(C=C4SC(=S...</td>\n",
       "      <td>-6.304187</td>\n",
       "      <td>-3.500102</td>\n",
       "      <td>-3.838015</td>\n",
       "      <td>-6.314939</td>\n",
       "      <td>2.476924</td>\n",
       "      <td>2.804085</td>\n",
       "      <td>&lt;rdkit.Chem.rdchem.Mol object at 0x00000249D93...</td>\n",
       "    </tr>\n",
       "    <tr>\n",
       "      <th>12720</th>\n",
       "      <td>CN1C(=O)C(=Cc2onc(-c3ncnc([SiH]4C=C5OCCOC5=C4)...</td>\n",
       "      <td>-6.185529</td>\n",
       "      <td>-3.500038</td>\n",
       "      <td>-4.152998</td>\n",
       "      <td>-6.280591</td>\n",
       "      <td>2.127593</td>\n",
       "      <td>2.685491</td>\n",
       "      <td>&lt;rdkit.Chem.rdchem.Mol object at 0x00000249D93...</td>\n",
       "    </tr>\n",
       "    <tr>\n",
       "      <th>12721</th>\n",
       "      <td>CN1C(=O)C(=CC(=C(c2ccc(C(=O)O)cc2)c2cnc(-c3cnc...</td>\n",
       "      <td>-6.523969</td>\n",
       "      <td>-3.500005</td>\n",
       "      <td>-3.990842</td>\n",
       "      <td>-6.571124</td>\n",
       "      <td>2.580281</td>\n",
       "      <td>3.023964</td>\n",
       "      <td>&lt;rdkit.Chem.rdchem.Mol object at 0x00000249FFC...</td>\n",
       "    </tr>\n",
       "  </tbody>\n",
       "</table>\n",
       "<p>12722 rows × 8 columns</p>\n",
       "</div>"
      ],
      "text/plain": [
       "                                                  smiles  HOMO_calc  \\\n",
       "0      CN1C(=O)C2=C(C3=C(C#N)C(=C(C#N)C#N)SC3=O)N(C)C...  -6.884480   \n",
       "1      N#CC(C#N)=C1SC(=O)C(c2cnc(C3=C(C#N)C(=C(C#N)C#...  -7.972936   \n",
       "2      O=C(O)c1noc(-c2c3c(c(-c4onc(C(=O)O)c4C(=O)O)c4...  -7.091046   \n",
       "3      N#CC(C#N)=C1C=C(C(=O)O)OC(c2c3c(c(C4=CC(=C(C#N...  -6.754826   \n",
       "4      N#Cc1noc(-c2c3c(c(-c4onc(C#N)c4C(=O)O)c4cscc24...  -6.993326   \n",
       "...                                                  ...        ...   \n",
       "12717  CN1C(=O)C(=Cc2nc3ccc(-c4cocc4C(=O)c4ccc(C(F)(F...  -6.654575   \n",
       "12718  CN1C(=O)C(=Cc2ncc(-c3ccnc(-c4c5ccsc5nc5sc(F)c(...  -6.205515   \n",
       "12719  CN1C(=O)C(=Cc2nccc(C=CC(=O)C=Cc3ccnc(C=C4SC(=S...  -6.304187   \n",
       "12720  CN1C(=O)C(=Cc2onc(-c3ncnc([SiH]4C=C5OCCOC5=C4)...  -6.185529   \n",
       "12721  CN1C(=O)C(=CC(=C(c2ccc(C(=O)O)cc2)c2cnc(-c3cnc...  -6.523969   \n",
       "\n",
       "       LUMO_calc  LUMO_calib  HOMO_calib  GAP_calib  GAP_calc  \\\n",
       "0      -5.415066   -5.785082   -6.877951   1.092869  1.469415   \n",
       "1      -5.351299   -5.658418   -8.008956   2.350538  2.621637   \n",
       "2      -5.349517   -5.779633   -7.231863   1.452230  1.741529   \n",
       "3      -5.224586   -5.484103   -6.830958   1.346855  1.530241   \n",
       "4      -5.185199   -5.519700   -7.083920   1.564220  1.808127   \n",
       "...          ...         ...         ...        ...       ...   \n",
       "12717  -3.500147   -3.991776   -6.753528   2.761752  3.154428   \n",
       "12718  -3.500108   -4.002464   -6.292875   2.290410  2.705406   \n",
       "12719  -3.500102   -3.838015   -6.314939   2.476924  2.804085   \n",
       "12720  -3.500038   -4.152998   -6.280591   2.127593  2.685491   \n",
       "12721  -3.500005   -3.990842   -6.571124   2.580281  3.023964   \n",
       "\n",
       "                                                     mol  \n",
       "0      <rdkit.Chem.rdchem.Mol object at 0x00000249D9B...  \n",
       "1      <rdkit.Chem.rdchem.Mol object at 0x00000249D9B...  \n",
       "2      <rdkit.Chem.rdchem.Mol object at 0x00000249D93...  \n",
       "3      <rdkit.Chem.rdchem.Mol object at 0x00000249D93...  \n",
       "4      <rdkit.Chem.rdchem.Mol object at 0x00000249D93...  \n",
       "...                                                  ...  \n",
       "12717  <rdkit.Chem.rdchem.Mol object at 0x00000249D9A...  \n",
       "12718  <rdkit.Chem.rdchem.Mol object at 0x00000249FFC...  \n",
       "12719  <rdkit.Chem.rdchem.Mol object at 0x00000249D93...  \n",
       "12720  <rdkit.Chem.rdchem.Mol object at 0x00000249D93...  \n",
       "12721  <rdkit.Chem.rdchem.Mol object at 0x00000249FFC...  \n",
       "\n",
       "[12722 rows x 8 columns]"
      ]
     },
     "execution_count": 7,
     "metadata": {},
     "output_type": "execute_result"
    }
   ],
   "source": [
    "# Harvard OPV dataset import\n",
    "data = pd.read_csv('https://raw.githubusercontent.com/AjStephan/havard-smile-opv/main/Non-fullerene%20small-molecules%20acceptors.csv')\n",
    "opv_df = data.drop(columns=[\n",
    "    'index', 'inchikey', 'LUMO_calib_stds', 'HOMO_calib_stds',\n",
    "    'molW', 'PCE_calc', 'Voc_calc', 'Jsc_calc',\n",
    "    'FF_calc', 'EQE_calc', 'PCE_calib', 'Voc_calib', 'Jsc_calib', 'FF_calib',\n",
    "    'EQE_calib', 'PCE_cdiff', 'PCE_calib_plus'], axis=1)\n",
    "\n",
    "opv_df['mol'] = opv_df['smiles'].apply(Chem.MolFromSmiles)\n",
    "\n",
    "opv_df_sorted = opv_df.sort_values(by='LUMO_calc')\n",
    "opv_df_filtered = opv_df_sorted[opv_df_sorted['LUMO_calc'] <= -3.5]\n",
    "opv_df_filtered.reset_index(drop=True, inplace=True)\n",
    "opv_df_filtered"
   ]
  },
  {
   "cell_type": "code",
   "execution_count": 8,
   "metadata": {},
   "outputs": [
    {
     "name": "stdout",
     "output_type": "stream",
     "text": [
      "Finished processing morgan fingerprints\n",
      "Finished processing maccs fingerprints\n",
      "Finished processing atom_pair fingerprints\n",
      "Finished processing fcfp fingerprints\n",
      "CPU times: total: 59 s\n",
      "Wall time: 59.5 s\n"
     ]
    }
   ],
   "source": [
    "%%time\n",
    "import pandas as pd\n",
    "from rdkit import Chem\n",
    "from rdkit.Chem import AllChem, MACCSkeys, rdMolDescriptors\n",
    "from rdkit.DataStructs import ExplicitBitVect\n",
    "import numpy as np\n",
    "\n",
    "# Functions to generate fingerprints\n",
    "def generate_morgan_fingerprint(mol, radius=2, nBits=2048):\n",
    "    return AllChem.GetMorganFingerprintAsBitVect(mol, radius, nBits=nBits)\n",
    "\n",
    "def generate_maccs166_fingerprint(mol):\n",
    "    return MACCSkeys.GenMACCSKeys(mol)\n",
    "\n",
    "def generate_atom_pair_fingerprint(mol, nBits=2048):\n",
    "    fp = rdMolDescriptors.GetAtomPairFingerprint(mol)\n",
    "    return convert_to_bit_vector(fp, nBits)\n",
    "\n",
    "def generate_fcfp_fingerprint(mol, radius=2, nBits=2048):\n",
    "    return AllChem.GetMorganFingerprintAsBitVect(mol, radius, nBits=nBits, useFeatures=True)\n",
    "\n",
    "# Convert any fingerprint to a bit vector\n",
    "def convert_to_bit_vector(fp, nBits=2048):\n",
    "    bit_vector = ExplicitBitVect(nBits)\n",
    "    for bit in fp.GetNonzeroElements().keys():\n",
    "        bit_vector.SetBit(bit % nBits)\n",
    "    return bit_vector\n",
    "\n",
    "# Function to add fingerprint to dataframe\n",
    "def add_fingerprint_to_df(df, fingerprint_func, fp_name):\n",
    "    df[fp_name] = df['mol'].apply(fingerprint_func)\n",
    "    return df\n",
    "\n",
    "# Function to split fingerprints into separate bit columns\n",
    "def split_fingerprint_bits(df, fp_column, prefix):\n",
    "    bit_array = np.array([list(fp) for fp in df[fp_column].values])\n",
    "    bit_columns = pd.DataFrame(bit_array, columns=[f'{prefix}_{i}' for i in range(bit_array.shape[1])])\n",
    "    df = pd.concat([df.drop(columns=[fp_column]), bit_columns], axis=1)\n",
    "    return df\n",
    "\n",
    "# Assuming opv_df is already defined and 'mol' column has been created\n",
    "# List of fingerprint generation functions and names\n",
    "fingerprint_functions = [\n",
    "    (generate_morgan_fingerprint, 'morgan_fp', 'morgan'),\n",
    "    (generate_maccs166_fingerprint, 'maccs_fp', 'maccs'),\n",
    "    (generate_atom_pair_fingerprint, 'atom_pair_fp', 'atom_pair'),\n",
    "    (generate_fcfp_fingerprint, 'fcfp_fp', 'fcfp')\n",
    "]\n",
    "\n",
    "# List to store resulting dataframes\n",
    "resulting_dfs = []\n",
    "\n",
    "# Generate and store dataframes with fingerprints\n",
    "for fp_func, fp_name, prefix in fingerprint_functions:\n",
    "    df_copy = opv_df_filtered.copy()\n",
    "    df_copy = add_fingerprint_to_df(df_copy, fp_func, fp_name)\n",
    "    df_copy = split_fingerprint_bits(df_copy, fp_name, prefix)\n",
    "    resulting_dfs.append(df_copy)\n",
    "    print(f'Finished processing {prefix} fingerprints')\n",
    "\n",
    "# The resulting_dfs list now contains your four dataframes with split fingerprint columns\n",
    "opv_df_morgan = resulting_dfs[0]\n",
    "opv_df_maccs = resulting_dfs[1]\n",
    "opv_df_atom_pair = resulting_dfs[2]\n",
    "opv_df_fcfp = resulting_dfs[3]"
   ]
  },
  {
   "cell_type": "code",
   "execution_count": 16,
   "metadata": {},
   "outputs": [
    {
     "name": "stdout",
     "output_type": "stream",
     "text": [
      "Finished processing Morgan fingerprints with Bayesian Ridge model:\n",
      "Finished processing Morgan fingerprints with KNN Regressor model:\n",
      "[LightGBM] [Info] Auto-choosing row-wise multi-threading, the overhead of testing was 0.009798 seconds.\n",
      "You can set `force_row_wise=true` to remove the overhead.\n",
      "And if memory is not enough, you can set `force_col_wise=true`.\n",
      "[LightGBM] [Info] Total Bins 2290\n",
      "[LightGBM] [Info] Number of data points in the train set: 9541, number of used features: 1145\n",
      "[LightGBM] [Info] Start training from score -3.792905\n",
      "Finished processing Morgan fingerprints with LightGBM model:\n",
      "Finished processing Morgan fingerprints with Ridge Regression model:\n",
      "Finished processing Morgan fingerprints with Decision Tree model:\n",
      "Finished processing Morgan fingerprints with Random Forest model:\n",
      "Finished processing Morgan fingerprints with Gradient Boosting model:\n",
      "Finished processing Morgan fingerprints with SVR model:\n",
      "Finished processing Morgan fingerprints with ElasticNet model:\n",
      "Finished processing Morgan fingerprints with Extra Trees model:\n",
      "Finished processing Morgan fingerprints\n",
      "Finished processing MACCS fingerprints with Bayesian Ridge model:\n",
      "Finished processing MACCS fingerprints with KNN Regressor model:\n",
      "[LightGBM] [Info] Auto-choosing row-wise multi-threading, the overhead of testing was 0.000668 seconds.\n",
      "You can set `force_row_wise=true` to remove the overhead.\n",
      "And if memory is not enough, you can set `force_col_wise=true`.\n",
      "[LightGBM] [Info] Total Bins 204\n",
      "[LightGBM] [Info] Number of data points in the train set: 9541, number of used features: 102\n",
      "[LightGBM] [Info] Start training from score -3.792905\n",
      "Finished processing MACCS fingerprints with LightGBM model:\n",
      "Finished processing MACCS fingerprints with Ridge Regression model:\n",
      "Finished processing MACCS fingerprints with Decision Tree model:\n",
      "Finished processing MACCS fingerprints with Random Forest model:\n",
      "Finished processing MACCS fingerprints with Gradient Boosting model:\n",
      "Finished processing MACCS fingerprints with SVR model:\n",
      "Finished processing MACCS fingerprints with ElasticNet model:\n",
      "Finished processing MACCS fingerprints with Extra Trees model:\n",
      "Finished processing MACCS fingerprints\n",
      "Finished processing Atom Pair fingerprints with Bayesian Ridge model:\n",
      "Finished processing Atom Pair fingerprints with KNN Regressor model:\n",
      "[LightGBM] [Info] Auto-choosing row-wise multi-threading, the overhead of testing was 0.002560 seconds.\n",
      "You can set `force_row_wise=true` to remove the overhead.\n",
      "And if memory is not enough, you can set `force_col_wise=true`.\n",
      "[LightGBM] [Info] Total Bins 580\n",
      "[LightGBM] [Info] Number of data points in the train set: 9541, number of used features: 290\n",
      "[LightGBM] [Info] Start training from score -3.792905\n",
      "Finished processing Atom Pair fingerprints with LightGBM model:\n",
      "Finished processing Atom Pair fingerprints with Ridge Regression model:\n",
      "Finished processing Atom Pair fingerprints with Decision Tree model:\n",
      "Finished processing Atom Pair fingerprints with Random Forest model:\n",
      "Finished processing Atom Pair fingerprints with Gradient Boosting model:\n",
      "Finished processing Atom Pair fingerprints with SVR model:\n",
      "Finished processing Atom Pair fingerprints with ElasticNet model:\n",
      "Finished processing Atom Pair fingerprints with Extra Trees model:\n",
      "Finished processing Atom Pair fingerprints\n",
      "Finished processing FCFP fingerprints with Bayesian Ridge model:\n",
      "Finished processing FCFP fingerprints with KNN Regressor model:\n",
      "[LightGBM] [Info] Auto-choosing row-wise multi-threading, the overhead of testing was 0.005078 seconds.\n",
      "You can set `force_row_wise=true` to remove the overhead.\n",
      "And if memory is not enough, you can set `force_col_wise=true`.\n",
      "[LightGBM] [Info] Total Bins 1322\n",
      "[LightGBM] [Info] Number of data points in the train set: 9541, number of used features: 661\n",
      "[LightGBM] [Info] Start training from score -3.792905\n",
      "Finished processing FCFP fingerprints with LightGBM model:\n",
      "Finished processing FCFP fingerprints with Ridge Regression model:\n",
      "Finished processing FCFP fingerprints with Decision Tree model:\n",
      "Finished processing FCFP fingerprints with Random Forest model:\n",
      "Finished processing FCFP fingerprints with Gradient Boosting model:\n",
      "Finished processing FCFP fingerprints with SVR model:\n",
      "Finished processing FCFP fingerprints with ElasticNet model:\n",
      "Finished processing FCFP fingerprints with Extra Trees model:\n",
      "Finished processing FCFP fingerprints\n",
      "CPU times: total: 9min 40s\n",
      "Wall time: 2h 3min 22s\n"
     ]
    },
    {
     "data": {
      "text/html": [
       "<div>\n",
       "<style scoped>\n",
       "    .dataframe tbody tr th:only-of-type {\n",
       "        vertical-align: middle;\n",
       "    }\n",
       "\n",
       "    .dataframe tbody tr th {\n",
       "        vertical-align: top;\n",
       "    }\n",
       "\n",
       "    .dataframe thead th {\n",
       "        text-align: right;\n",
       "    }\n",
       "</style>\n",
       "<table border=\"1\" class=\"dataframe\">\n",
       "  <thead>\n",
       "    <tr style=\"text-align: right;\">\n",
       "      <th></th>\n",
       "      <th>Fingerprint Type</th>\n",
       "      <th>Regression Model</th>\n",
       "      <th>R² Score</th>\n",
       "      <th>RMSE</th>\n",
       "      <th>MAE</th>\n",
       "      <th>MSE</th>\n",
       "    </tr>\n",
       "  </thead>\n",
       "  <tbody>\n",
       "    <tr>\n",
       "      <th>0</th>\n",
       "      <td>Morgan</td>\n",
       "      <td>Bayesian Ridge</td>\n",
       "      <td>0.792692</td>\n",
       "      <td>0.109169</td>\n",
       "      <td>0.080328</td>\n",
       "      <td>0.011918</td>\n",
       "    </tr>\n",
       "    <tr>\n",
       "      <th>1</th>\n",
       "      <td>Morgan</td>\n",
       "      <td>KNN Regressor</td>\n",
       "      <td>0.621642</td>\n",
       "      <td>0.147483</td>\n",
       "      <td>0.113055</td>\n",
       "      <td>0.021751</td>\n",
       "    </tr>\n",
       "    <tr>\n",
       "      <th>2</th>\n",
       "      <td>Morgan</td>\n",
       "      <td>LightGBM</td>\n",
       "      <td>0.785115</td>\n",
       "      <td>0.111146</td>\n",
       "      <td>0.083294</td>\n",
       "      <td>0.012353</td>\n",
       "    </tr>\n",
       "    <tr>\n",
       "      <th>3</th>\n",
       "      <td>Morgan</td>\n",
       "      <td>Ridge Regression</td>\n",
       "      <td>0.792956</td>\n",
       "      <td>0.109099</td>\n",
       "      <td>0.079975</td>\n",
       "      <td>0.011903</td>\n",
       "    </tr>\n",
       "    <tr>\n",
       "      <th>4</th>\n",
       "      <td>Morgan</td>\n",
       "      <td>Decision Tree</td>\n",
       "      <td>0.505810</td>\n",
       "      <td>0.168553</td>\n",
       "      <td>0.115335</td>\n",
       "      <td>0.028410</td>\n",
       "    </tr>\n",
       "    <tr>\n",
       "      <th>5</th>\n",
       "      <td>Morgan</td>\n",
       "      <td>Random Forest</td>\n",
       "      <td>0.741119</td>\n",
       "      <td>0.121994</td>\n",
       "      <td>0.086863</td>\n",
       "      <td>0.014883</td>\n",
       "    </tr>\n",
       "    <tr>\n",
       "      <th>6</th>\n",
       "      <td>Morgan</td>\n",
       "      <td>Gradient Boosting</td>\n",
       "      <td>0.564655</td>\n",
       "      <td>0.158200</td>\n",
       "      <td>0.122232</td>\n",
       "      <td>0.025027</td>\n",
       "    </tr>\n",
       "    <tr>\n",
       "      <th>7</th>\n",
       "      <td>Morgan</td>\n",
       "      <td>SVR</td>\n",
       "      <td>0.831488</td>\n",
       "      <td>0.098425</td>\n",
       "      <td>0.074544</td>\n",
       "      <td>0.009687</td>\n",
       "    </tr>\n",
       "    <tr>\n",
       "      <th>8</th>\n",
       "      <td>Morgan</td>\n",
       "      <td>ElasticNet</td>\n",
       "      <td>-0.001209</td>\n",
       "      <td>0.239912</td>\n",
       "      <td>0.187603</td>\n",
       "      <td>0.057558</td>\n",
       "    </tr>\n",
       "    <tr>\n",
       "      <th>9</th>\n",
       "      <td>Morgan</td>\n",
       "      <td>Extra Trees</td>\n",
       "      <td>0.557567</td>\n",
       "      <td>0.159483</td>\n",
       "      <td>0.109738</td>\n",
       "      <td>0.025435</td>\n",
       "    </tr>\n",
       "    <tr>\n",
       "      <th>10</th>\n",
       "      <td>MACCS</td>\n",
       "      <td>Bayesian Ridge</td>\n",
       "      <td>0.257287</td>\n",
       "      <td>0.206633</td>\n",
       "      <td>0.158447</td>\n",
       "      <td>0.042697</td>\n",
       "    </tr>\n",
       "    <tr>\n",
       "      <th>11</th>\n",
       "      <td>MACCS</td>\n",
       "      <td>KNN Regressor</td>\n",
       "      <td>0.350949</td>\n",
       "      <td>0.193165</td>\n",
       "      <td>0.147676</td>\n",
       "      <td>0.037313</td>\n",
       "    </tr>\n",
       "    <tr>\n",
       "      <th>12</th>\n",
       "      <td>MACCS</td>\n",
       "      <td>LightGBM</td>\n",
       "      <td>0.463747</td>\n",
       "      <td>0.175580</td>\n",
       "      <td>0.135529</td>\n",
       "      <td>0.030828</td>\n",
       "    </tr>\n",
       "    <tr>\n",
       "      <th>13</th>\n",
       "      <td>MACCS</td>\n",
       "      <td>Ridge Regression</td>\n",
       "      <td>0.257661</td>\n",
       "      <td>0.206581</td>\n",
       "      <td>0.158456</td>\n",
       "      <td>0.042676</td>\n",
       "    </tr>\n",
       "    <tr>\n",
       "      <th>14</th>\n",
       "      <td>MACCS</td>\n",
       "      <td>Decision Tree</td>\n",
       "      <td>0.309343</td>\n",
       "      <td>0.199260</td>\n",
       "      <td>0.145346</td>\n",
       "      <td>0.039705</td>\n",
       "    </tr>\n",
       "    <tr>\n",
       "      <th>15</th>\n",
       "      <td>MACCS</td>\n",
       "      <td>Random Forest</td>\n",
       "      <td>0.440020</td>\n",
       "      <td>0.179422</td>\n",
       "      <td>0.135132</td>\n",
       "      <td>0.032192</td>\n",
       "    </tr>\n",
       "    <tr>\n",
       "      <th>16</th>\n",
       "      <td>MACCS</td>\n",
       "      <td>Gradient Boosting</td>\n",
       "      <td>0.316312</td>\n",
       "      <td>0.198253</td>\n",
       "      <td>0.153574</td>\n",
       "      <td>0.039304</td>\n",
       "    </tr>\n",
       "    <tr>\n",
       "      <th>17</th>\n",
       "      <td>MACCS</td>\n",
       "      <td>SVR</td>\n",
       "      <td>0.457455</td>\n",
       "      <td>0.176607</td>\n",
       "      <td>0.134002</td>\n",
       "      <td>0.031190</td>\n",
       "    </tr>\n",
       "    <tr>\n",
       "      <th>18</th>\n",
       "      <td>MACCS</td>\n",
       "      <td>ElasticNet</td>\n",
       "      <td>-0.001209</td>\n",
       "      <td>0.239912</td>\n",
       "      <td>0.187603</td>\n",
       "      <td>0.057558</td>\n",
       "    </tr>\n",
       "    <tr>\n",
       "      <th>19</th>\n",
       "      <td>MACCS</td>\n",
       "      <td>Extra Trees</td>\n",
       "      <td>0.309244</td>\n",
       "      <td>0.199275</td>\n",
       "      <td>0.144855</td>\n",
       "      <td>0.039710</td>\n",
       "    </tr>\n",
       "    <tr>\n",
       "      <th>20</th>\n",
       "      <td>Atom Pair</td>\n",
       "      <td>Bayesian Ridge</td>\n",
       "      <td>0.354009</td>\n",
       "      <td>0.192709</td>\n",
       "      <td>0.146432</td>\n",
       "      <td>0.037137</td>\n",
       "    </tr>\n",
       "    <tr>\n",
       "      <th>21</th>\n",
       "      <td>Atom Pair</td>\n",
       "      <td>KNN Regressor</td>\n",
       "      <td>0.465257</td>\n",
       "      <td>0.175333</td>\n",
       "      <td>0.131694</td>\n",
       "      <td>0.030742</td>\n",
       "    </tr>\n",
       "    <tr>\n",
       "      <th>22</th>\n",
       "      <td>Atom Pair</td>\n",
       "      <td>LightGBM</td>\n",
       "      <td>0.590802</td>\n",
       "      <td>0.153376</td>\n",
       "      <td>0.117476</td>\n",
       "      <td>0.023524</td>\n",
       "    </tr>\n",
       "    <tr>\n",
       "      <th>23</th>\n",
       "      <td>Atom Pair</td>\n",
       "      <td>Ridge Regression</td>\n",
       "      <td>0.350168</td>\n",
       "      <td>0.193282</td>\n",
       "      <td>0.147344</td>\n",
       "      <td>0.037358</td>\n",
       "    </tr>\n",
       "    <tr>\n",
       "      <th>24</th>\n",
       "      <td>Atom Pair</td>\n",
       "      <td>Decision Tree</td>\n",
       "      <td>0.327544</td>\n",
       "      <td>0.196617</td>\n",
       "      <td>0.134186</td>\n",
       "      <td>0.038658</td>\n",
       "    </tr>\n",
       "    <tr>\n",
       "      <th>25</th>\n",
       "      <td>Atom Pair</td>\n",
       "      <td>Random Forest</td>\n",
       "      <td>0.631134</td>\n",
       "      <td>0.145621</td>\n",
       "      <td>0.108180</td>\n",
       "      <td>0.021205</td>\n",
       "    </tr>\n",
       "    <tr>\n",
       "      <th>26</th>\n",
       "      <td>Atom Pair</td>\n",
       "      <td>Gradient Boosting</td>\n",
       "      <td>0.389496</td>\n",
       "      <td>0.187342</td>\n",
       "      <td>0.143750</td>\n",
       "      <td>0.035097</td>\n",
       "    </tr>\n",
       "    <tr>\n",
       "      <th>27</th>\n",
       "      <td>Atom Pair</td>\n",
       "      <td>SVR</td>\n",
       "      <td>0.591570</td>\n",
       "      <td>0.153232</td>\n",
       "      <td>0.113323</td>\n",
       "      <td>0.023480</td>\n",
       "    </tr>\n",
       "    <tr>\n",
       "      <th>28</th>\n",
       "      <td>Atom Pair</td>\n",
       "      <td>ElasticNet</td>\n",
       "      <td>-0.001209</td>\n",
       "      <td>0.239912</td>\n",
       "      <td>0.187603</td>\n",
       "      <td>0.057558</td>\n",
       "    </tr>\n",
       "    <tr>\n",
       "      <th>29</th>\n",
       "      <td>Atom Pair</td>\n",
       "      <td>Extra Trees</td>\n",
       "      <td>0.385930</td>\n",
       "      <td>0.187888</td>\n",
       "      <td>0.129066</td>\n",
       "      <td>0.035302</td>\n",
       "    </tr>\n",
       "    <tr>\n",
       "      <th>30</th>\n",
       "      <td>FCFP</td>\n",
       "      <td>Bayesian Ridge</td>\n",
       "      <td>0.734118</td>\n",
       "      <td>0.123633</td>\n",
       "      <td>0.091989</td>\n",
       "      <td>0.015285</td>\n",
       "    </tr>\n",
       "    <tr>\n",
       "      <th>31</th>\n",
       "      <td>FCFP</td>\n",
       "      <td>KNN Regressor</td>\n",
       "      <td>0.587418</td>\n",
       "      <td>0.154009</td>\n",
       "      <td>0.114294</td>\n",
       "      <td>0.023719</td>\n",
       "    </tr>\n",
       "    <tr>\n",
       "      <th>32</th>\n",
       "      <td>FCFP</td>\n",
       "      <td>LightGBM</td>\n",
       "      <td>0.755617</td>\n",
       "      <td>0.118529</td>\n",
       "      <td>0.088074</td>\n",
       "      <td>0.014049</td>\n",
       "    </tr>\n",
       "    <tr>\n",
       "      <th>33</th>\n",
       "      <td>FCFP</td>\n",
       "      <td>Ridge Regression</td>\n",
       "      <td>0.736430</td>\n",
       "      <td>0.123094</td>\n",
       "      <td>0.091553</td>\n",
       "      <td>0.015152</td>\n",
       "    </tr>\n",
       "    <tr>\n",
       "      <th>34</th>\n",
       "      <td>FCFP</td>\n",
       "      <td>Decision Tree</td>\n",
       "      <td>0.516595</td>\n",
       "      <td>0.166704</td>\n",
       "      <td>0.113500</td>\n",
       "      <td>0.027790</td>\n",
       "    </tr>\n",
       "    <tr>\n",
       "      <th>35</th>\n",
       "      <td>FCFP</td>\n",
       "      <td>Random Forest</td>\n",
       "      <td>0.724960</td>\n",
       "      <td>0.125744</td>\n",
       "      <td>0.089841</td>\n",
       "      <td>0.015812</td>\n",
       "    </tr>\n",
       "    <tr>\n",
       "      <th>36</th>\n",
       "      <td>FCFP</td>\n",
       "      <td>Gradient Boosting</td>\n",
       "      <td>0.537287</td>\n",
       "      <td>0.163097</td>\n",
       "      <td>0.124566</td>\n",
       "      <td>0.026601</td>\n",
       "    </tr>\n",
       "    <tr>\n",
       "      <th>37</th>\n",
       "      <td>FCFP</td>\n",
       "      <td>SVR</td>\n",
       "      <td>0.800809</td>\n",
       "      <td>0.107010</td>\n",
       "      <td>0.079169</td>\n",
       "      <td>0.011451</td>\n",
       "    </tr>\n",
       "    <tr>\n",
       "      <th>38</th>\n",
       "      <td>FCFP</td>\n",
       "      <td>ElasticNet</td>\n",
       "      <td>-0.001209</td>\n",
       "      <td>0.239912</td>\n",
       "      <td>0.187603</td>\n",
       "      <td>0.057558</td>\n",
       "    </tr>\n",
       "    <tr>\n",
       "      <th>39</th>\n",
       "      <td>FCFP</td>\n",
       "      <td>Extra Trees</td>\n",
       "      <td>0.566460</td>\n",
       "      <td>0.157872</td>\n",
       "      <td>0.108446</td>\n",
       "      <td>0.024924</td>\n",
       "    </tr>\n",
       "  </tbody>\n",
       "</table>\n",
       "</div>"
      ],
      "text/plain": [
       "   Fingerprint Type   Regression Model  R² Score      RMSE       MAE       MSE\n",
       "0            Morgan     Bayesian Ridge  0.792692  0.109169  0.080328  0.011918\n",
       "1            Morgan      KNN Regressor  0.621642  0.147483  0.113055  0.021751\n",
       "2            Morgan           LightGBM  0.785115  0.111146  0.083294  0.012353\n",
       "3            Morgan   Ridge Regression  0.792956  0.109099  0.079975  0.011903\n",
       "4            Morgan      Decision Tree  0.505810  0.168553  0.115335  0.028410\n",
       "5            Morgan      Random Forest  0.741119  0.121994  0.086863  0.014883\n",
       "6            Morgan  Gradient Boosting  0.564655  0.158200  0.122232  0.025027\n",
       "7            Morgan                SVR  0.831488  0.098425  0.074544  0.009687\n",
       "8            Morgan         ElasticNet -0.001209  0.239912  0.187603  0.057558\n",
       "9            Morgan        Extra Trees  0.557567  0.159483  0.109738  0.025435\n",
       "10            MACCS     Bayesian Ridge  0.257287  0.206633  0.158447  0.042697\n",
       "11            MACCS      KNN Regressor  0.350949  0.193165  0.147676  0.037313\n",
       "12            MACCS           LightGBM  0.463747  0.175580  0.135529  0.030828\n",
       "13            MACCS   Ridge Regression  0.257661  0.206581  0.158456  0.042676\n",
       "14            MACCS      Decision Tree  0.309343  0.199260  0.145346  0.039705\n",
       "15            MACCS      Random Forest  0.440020  0.179422  0.135132  0.032192\n",
       "16            MACCS  Gradient Boosting  0.316312  0.198253  0.153574  0.039304\n",
       "17            MACCS                SVR  0.457455  0.176607  0.134002  0.031190\n",
       "18            MACCS         ElasticNet -0.001209  0.239912  0.187603  0.057558\n",
       "19            MACCS        Extra Trees  0.309244  0.199275  0.144855  0.039710\n",
       "20        Atom Pair     Bayesian Ridge  0.354009  0.192709  0.146432  0.037137\n",
       "21        Atom Pair      KNN Regressor  0.465257  0.175333  0.131694  0.030742\n",
       "22        Atom Pair           LightGBM  0.590802  0.153376  0.117476  0.023524\n",
       "23        Atom Pair   Ridge Regression  0.350168  0.193282  0.147344  0.037358\n",
       "24        Atom Pair      Decision Tree  0.327544  0.196617  0.134186  0.038658\n",
       "25        Atom Pair      Random Forest  0.631134  0.145621  0.108180  0.021205\n",
       "26        Atom Pair  Gradient Boosting  0.389496  0.187342  0.143750  0.035097\n",
       "27        Atom Pair                SVR  0.591570  0.153232  0.113323  0.023480\n",
       "28        Atom Pair         ElasticNet -0.001209  0.239912  0.187603  0.057558\n",
       "29        Atom Pair        Extra Trees  0.385930  0.187888  0.129066  0.035302\n",
       "30             FCFP     Bayesian Ridge  0.734118  0.123633  0.091989  0.015285\n",
       "31             FCFP      KNN Regressor  0.587418  0.154009  0.114294  0.023719\n",
       "32             FCFP           LightGBM  0.755617  0.118529  0.088074  0.014049\n",
       "33             FCFP   Ridge Regression  0.736430  0.123094  0.091553  0.015152\n",
       "34             FCFP      Decision Tree  0.516595  0.166704  0.113500  0.027790\n",
       "35             FCFP      Random Forest  0.724960  0.125744  0.089841  0.015812\n",
       "36             FCFP  Gradient Boosting  0.537287  0.163097  0.124566  0.026601\n",
       "37             FCFP                SVR  0.800809  0.107010  0.079169  0.011451\n",
       "38             FCFP         ElasticNet -0.001209  0.239912  0.187603  0.057558\n",
       "39             FCFP        Extra Trees  0.566460  0.157872  0.108446  0.024924"
      ]
     },
     "execution_count": 16,
     "metadata": {},
     "output_type": "execute_result"
    }
   ],
   "source": [
    "%%time\n",
    "import pandas as pd\n",
    "from sklearn.model_selection import train_test_split\n",
    "from sklearn.metrics import r2_score, mean_squared_error, mean_absolute_error\n",
    "from lightgbm import LGBMRegressor\n",
    "from sklearn.linear_model import BayesianRidge, LinearRegression, Ridge, ElasticNet\n",
    "from sklearn.neighbors import KNeighborsRegressor\n",
    "from sklearn.tree import DecisionTreeRegressor\n",
    "from sklearn.ensemble import RandomForestRegressor, GradientBoostingRegressor, ExtraTreesRegressor\n",
    "from sklearn.svm import SVR\n",
    "import numpy as np\n",
    "\n",
    "# Define models\n",
    "models = {\n",
    "    'Bayesian Ridge': BayesianRidge(),\n",
    "    'KNN Regressor': KNeighborsRegressor(),\n",
    "    'LightGBM': LGBMRegressor(),\n",
    "    'Ridge Regression': Ridge(),\n",
    "    'Decision Tree': DecisionTreeRegressor(),\n",
    "    'Random Forest': RandomForestRegressor(),\n",
    "    'Gradient Boosting': GradientBoostingRegressor(),\n",
    "    'SVR': SVR(),\n",
    "    'ElasticNet': ElasticNet(),\n",
    "    'Extra Trees': ExtraTreesRegressor()\n",
    "}\n",
    "\n",
    "results = []\n",
    "\n",
    "# Loop through each fingerprint dataset\n",
    "for i, df in enumerate([opv_df_morgan, opv_df_maccs, opv_df_atom_pair, opv_df_fcfp]):\n",
    "    fingerprint_type = ['Morgan', 'MACCS', 'Atom Pair', 'FCFP'][i]\n",
    "    \n",
    "    X = df.iloc[:, 8:]  \n",
    "    y = df[\"LUMO_calc\"] \n",
    "    \n",
    "    # Split the data into training and testing sets\n",
    "    X_train, X_test, y_train, y_test = train_test_split(X, y, test_size=0.25, random_state=42)\n",
    "    \n",
    "    # Loop through each model\n",
    "    for model_name, model in models.items():\n",
    "        model.fit(X_train, y_train)\n",
    "        y_pred = model.predict(X_test)\n",
    "        \n",
    "        # Calculate metrics\n",
    "        r2 = r2_score(y_test, y_pred)\n",
    "        rmse = np.sqrt(mean_squared_error(y_test, y_pred))\n",
    "        mae = mean_absolute_error(y_test, y_pred)\n",
    "        mse = mean_squared_error(y_test, y_pred)\n",
    "\n",
    "        # Print progress and store results\n",
    "        print(f'Finished processing {fingerprint_type} fingerprints with {model_name} model:')\n",
    "        \n",
    "        results.append({\n",
    "            'Fingerprint Type': fingerprint_type,\n",
    "            'Regression Model': model_name,\n",
    "            'R² Score': r2,\n",
    "            'RMSE': rmse,\n",
    "            'MAE': mae,\n",
    "            'MSE': mse\n",
    "        })\n",
    "    print(f'Finished processing {fingerprint_type} fingerprints')\n",
    "\n",
    "# Convert results to DataFrame\n",
    "results_df = pd.DataFrame(results)\n",
    "results_df"
   ]
  },
  {
   "cell_type": "code",
   "execution_count": 17,
   "metadata": {},
   "outputs": [],
   "source": [
    "results_df.to_csv(r\"C:\\Users\\Chamod Peiris\\Documents\\Initial Models Results.csv\", index=False)"
   ]
  },
  {
   "cell_type": "code",
   "execution_count": 20,
   "metadata": {},
   "outputs": [
    {
     "data": {
      "application/vnd.plotly.v1+json": {
       "config": {
        "plotlyServerURL": "https://plot.ly"
       },
       "data": [
        {
         "marker": {
          "color": "#1f77b4"
         },
         "name": "Morgan",
         "text": [
          "0.79269",
          "0.62164",
          "0.78512",
          "0.79296",
          "0.50581",
          "0.74112",
          "0.56465",
          "0.83149",
          "0.55757"
         ],
         "textposition": "inside",
         "type": "bar",
         "x": [
          "Bayesian Ridge",
          "KNN Regressor",
          "LightGBM",
          "Ridge Regression",
          "Decision Tree",
          "Random Forest",
          "Gradient Boosting",
          "SVR",
          "Extra Trees"
         ],
         "y": [
          0.7926918705930335,
          0.6216417630441801,
          0.7851150090880172,
          0.7929556087446903,
          0.5058102718971434,
          0.741119236604602,
          0.5646545542375025,
          0.8314880926178985,
          0.5575668889833639
         ]
        },
        {
         "marker": {
          "color": "#ff7f0e"
         },
         "name": "MACCS",
         "text": [
          "0.25729",
          "0.35095",
          "0.46375",
          "0.25766",
          "0.30934",
          "0.44002",
          "0.31631",
          "0.45745",
          "0.30924"
         ],
         "textposition": "inside",
         "type": "bar",
         "x": [
          "Bayesian Ridge",
          "KNN Regressor",
          "LightGBM",
          "Ridge Regression",
          "Decision Tree",
          "Random Forest",
          "Gradient Boosting",
          "SVR",
          "Extra Trees"
         ],
         "y": [
          0.2572868105037214,
          0.3509493476219122,
          0.4637465224199089,
          0.2576614037753622,
          0.30934310377282837,
          0.44002003627651387,
          0.31631156948177674,
          0.4574546326505342,
          0.3092435168140024
         ]
        },
        {
         "marker": {
          "color": "#2ca02c"
         },
         "name": "Atom Pair",
         "text": [
          "0.35401",
          "0.46526",
          "0.59080",
          "0.35017",
          "0.32754",
          "0.63113",
          "0.38950",
          "0.59157",
          "0.38593"
         ],
         "textposition": "inside",
         "type": "bar",
         "x": [
          "Bayesian Ridge",
          "KNN Regressor",
          "LightGBM",
          "Ridge Regression",
          "Decision Tree",
          "Random Forest",
          "Gradient Boosting",
          "SVR",
          "Extra Trees"
         ],
         "y": [
          0.3540093951148977,
          0.4652566922767678,
          0.5908015127656456,
          0.3501677677113382,
          0.32754421240607345,
          0.6311340915115489,
          0.3894959151913343,
          0.5915698181869238,
          0.385930234411892
         ]
        },
        {
         "marker": {
          "color": "#d62728"
         },
         "name": "FCFP",
         "text": [
          "0.73412",
          "0.58742",
          "0.75562",
          "0.73643",
          "0.51660",
          "0.72496",
          "0.53729",
          "0.80081",
          "0.56646"
         ],
         "textposition": "inside",
         "type": "bar",
         "x": [
          "Bayesian Ridge",
          "KNN Regressor",
          "LightGBM",
          "Ridge Regression",
          "Decision Tree",
          "Random Forest",
          "Gradient Boosting",
          "SVR",
          "Extra Trees"
         ],
         "y": [
          0.7341182076122588,
          0.5874175641611141,
          0.7556170652470382,
          0.7364295917213769,
          0.5165952377914587,
          0.7249604350099161,
          0.5372870168025391,
          0.8008092809818821,
          0.5664599727648176
         ]
        }
       ],
       "layout": {
        "barmode": "group",
        "legend": {
         "title": {
          "text": "Fingerprint Type"
         }
        },
        "template": {
         "data": {
          "bar": [
           {
            "error_x": {
             "color": "#2a3f5f"
            },
            "error_y": {
             "color": "#2a3f5f"
            },
            "marker": {
             "line": {
              "color": "#E5ECF6",
              "width": 0.5
             },
             "pattern": {
              "fillmode": "overlay",
              "size": 10,
              "solidity": 0.2
             }
            },
            "type": "bar"
           }
          ],
          "barpolar": [
           {
            "marker": {
             "line": {
              "color": "#E5ECF6",
              "width": 0.5
             },
             "pattern": {
              "fillmode": "overlay",
              "size": 10,
              "solidity": 0.2
             }
            },
            "type": "barpolar"
           }
          ],
          "carpet": [
           {
            "aaxis": {
             "endlinecolor": "#2a3f5f",
             "gridcolor": "white",
             "linecolor": "white",
             "minorgridcolor": "white",
             "startlinecolor": "#2a3f5f"
            },
            "baxis": {
             "endlinecolor": "#2a3f5f",
             "gridcolor": "white",
             "linecolor": "white",
             "minorgridcolor": "white",
             "startlinecolor": "#2a3f5f"
            },
            "type": "carpet"
           }
          ],
          "choropleth": [
           {
            "colorbar": {
             "outlinewidth": 0,
             "ticks": ""
            },
            "type": "choropleth"
           }
          ],
          "contour": [
           {
            "colorbar": {
             "outlinewidth": 0,
             "ticks": ""
            },
            "colorscale": [
             [
              0,
              "#0d0887"
             ],
             [
              0.1111111111111111,
              "#46039f"
             ],
             [
              0.2222222222222222,
              "#7201a8"
             ],
             [
              0.3333333333333333,
              "#9c179e"
             ],
             [
              0.4444444444444444,
              "#bd3786"
             ],
             [
              0.5555555555555556,
              "#d8576b"
             ],
             [
              0.6666666666666666,
              "#ed7953"
             ],
             [
              0.7777777777777778,
              "#fb9f3a"
             ],
             [
              0.8888888888888888,
              "#fdca26"
             ],
             [
              1,
              "#f0f921"
             ]
            ],
            "type": "contour"
           }
          ],
          "contourcarpet": [
           {
            "colorbar": {
             "outlinewidth": 0,
             "ticks": ""
            },
            "type": "contourcarpet"
           }
          ],
          "heatmap": [
           {
            "colorbar": {
             "outlinewidth": 0,
             "ticks": ""
            },
            "colorscale": [
             [
              0,
              "#0d0887"
             ],
             [
              0.1111111111111111,
              "#46039f"
             ],
             [
              0.2222222222222222,
              "#7201a8"
             ],
             [
              0.3333333333333333,
              "#9c179e"
             ],
             [
              0.4444444444444444,
              "#bd3786"
             ],
             [
              0.5555555555555556,
              "#d8576b"
             ],
             [
              0.6666666666666666,
              "#ed7953"
             ],
             [
              0.7777777777777778,
              "#fb9f3a"
             ],
             [
              0.8888888888888888,
              "#fdca26"
             ],
             [
              1,
              "#f0f921"
             ]
            ],
            "type": "heatmap"
           }
          ],
          "heatmapgl": [
           {
            "colorbar": {
             "outlinewidth": 0,
             "ticks": ""
            },
            "colorscale": [
             [
              0,
              "#0d0887"
             ],
             [
              0.1111111111111111,
              "#46039f"
             ],
             [
              0.2222222222222222,
              "#7201a8"
             ],
             [
              0.3333333333333333,
              "#9c179e"
             ],
             [
              0.4444444444444444,
              "#bd3786"
             ],
             [
              0.5555555555555556,
              "#d8576b"
             ],
             [
              0.6666666666666666,
              "#ed7953"
             ],
             [
              0.7777777777777778,
              "#fb9f3a"
             ],
             [
              0.8888888888888888,
              "#fdca26"
             ],
             [
              1,
              "#f0f921"
             ]
            ],
            "type": "heatmapgl"
           }
          ],
          "histogram": [
           {
            "marker": {
             "pattern": {
              "fillmode": "overlay",
              "size": 10,
              "solidity": 0.2
             }
            },
            "type": "histogram"
           }
          ],
          "histogram2d": [
           {
            "colorbar": {
             "outlinewidth": 0,
             "ticks": ""
            },
            "colorscale": [
             [
              0,
              "#0d0887"
             ],
             [
              0.1111111111111111,
              "#46039f"
             ],
             [
              0.2222222222222222,
              "#7201a8"
             ],
             [
              0.3333333333333333,
              "#9c179e"
             ],
             [
              0.4444444444444444,
              "#bd3786"
             ],
             [
              0.5555555555555556,
              "#d8576b"
             ],
             [
              0.6666666666666666,
              "#ed7953"
             ],
             [
              0.7777777777777778,
              "#fb9f3a"
             ],
             [
              0.8888888888888888,
              "#fdca26"
             ],
             [
              1,
              "#f0f921"
             ]
            ],
            "type": "histogram2d"
           }
          ],
          "histogram2dcontour": [
           {
            "colorbar": {
             "outlinewidth": 0,
             "ticks": ""
            },
            "colorscale": [
             [
              0,
              "#0d0887"
             ],
             [
              0.1111111111111111,
              "#46039f"
             ],
             [
              0.2222222222222222,
              "#7201a8"
             ],
             [
              0.3333333333333333,
              "#9c179e"
             ],
             [
              0.4444444444444444,
              "#bd3786"
             ],
             [
              0.5555555555555556,
              "#d8576b"
             ],
             [
              0.6666666666666666,
              "#ed7953"
             ],
             [
              0.7777777777777778,
              "#fb9f3a"
             ],
             [
              0.8888888888888888,
              "#fdca26"
             ],
             [
              1,
              "#f0f921"
             ]
            ],
            "type": "histogram2dcontour"
           }
          ],
          "mesh3d": [
           {
            "colorbar": {
             "outlinewidth": 0,
             "ticks": ""
            },
            "type": "mesh3d"
           }
          ],
          "parcoords": [
           {
            "line": {
             "colorbar": {
              "outlinewidth": 0,
              "ticks": ""
             }
            },
            "type": "parcoords"
           }
          ],
          "pie": [
           {
            "automargin": true,
            "type": "pie"
           }
          ],
          "scatter": [
           {
            "fillpattern": {
             "fillmode": "overlay",
             "size": 10,
             "solidity": 0.2
            },
            "type": "scatter"
           }
          ],
          "scatter3d": [
           {
            "line": {
             "colorbar": {
              "outlinewidth": 0,
              "ticks": ""
             }
            },
            "marker": {
             "colorbar": {
              "outlinewidth": 0,
              "ticks": ""
             }
            },
            "type": "scatter3d"
           }
          ],
          "scattercarpet": [
           {
            "marker": {
             "colorbar": {
              "outlinewidth": 0,
              "ticks": ""
             }
            },
            "type": "scattercarpet"
           }
          ],
          "scattergeo": [
           {
            "marker": {
             "colorbar": {
              "outlinewidth": 0,
              "ticks": ""
             }
            },
            "type": "scattergeo"
           }
          ],
          "scattergl": [
           {
            "marker": {
             "colorbar": {
              "outlinewidth": 0,
              "ticks": ""
             }
            },
            "type": "scattergl"
           }
          ],
          "scattermapbox": [
           {
            "marker": {
             "colorbar": {
              "outlinewidth": 0,
              "ticks": ""
             }
            },
            "type": "scattermapbox"
           }
          ],
          "scatterpolar": [
           {
            "marker": {
             "colorbar": {
              "outlinewidth": 0,
              "ticks": ""
             }
            },
            "type": "scatterpolar"
           }
          ],
          "scatterpolargl": [
           {
            "marker": {
             "colorbar": {
              "outlinewidth": 0,
              "ticks": ""
             }
            },
            "type": "scatterpolargl"
           }
          ],
          "scatterternary": [
           {
            "marker": {
             "colorbar": {
              "outlinewidth": 0,
              "ticks": ""
             }
            },
            "type": "scatterternary"
           }
          ],
          "surface": [
           {
            "colorbar": {
             "outlinewidth": 0,
             "ticks": ""
            },
            "colorscale": [
             [
              0,
              "#0d0887"
             ],
             [
              0.1111111111111111,
              "#46039f"
             ],
             [
              0.2222222222222222,
              "#7201a8"
             ],
             [
              0.3333333333333333,
              "#9c179e"
             ],
             [
              0.4444444444444444,
              "#bd3786"
             ],
             [
              0.5555555555555556,
              "#d8576b"
             ],
             [
              0.6666666666666666,
              "#ed7953"
             ],
             [
              0.7777777777777778,
              "#fb9f3a"
             ],
             [
              0.8888888888888888,
              "#fdca26"
             ],
             [
              1,
              "#f0f921"
             ]
            ],
            "type": "surface"
           }
          ],
          "table": [
           {
            "cells": {
             "fill": {
              "color": "#EBF0F8"
             },
             "line": {
              "color": "white"
             }
            },
            "header": {
             "fill": {
              "color": "#C8D4E3"
             },
             "line": {
              "color": "white"
             }
            },
            "type": "table"
           }
          ]
         },
         "layout": {
          "annotationdefaults": {
           "arrowcolor": "#2a3f5f",
           "arrowhead": 0,
           "arrowwidth": 1
          },
          "autotypenumbers": "strict",
          "coloraxis": {
           "colorbar": {
            "outlinewidth": 0,
            "ticks": ""
           }
          },
          "colorscale": {
           "diverging": [
            [
             0,
             "#8e0152"
            ],
            [
             0.1,
             "#c51b7d"
            ],
            [
             0.2,
             "#de77ae"
            ],
            [
             0.3,
             "#f1b6da"
            ],
            [
             0.4,
             "#fde0ef"
            ],
            [
             0.5,
             "#f7f7f7"
            ],
            [
             0.6,
             "#e6f5d0"
            ],
            [
             0.7,
             "#b8e186"
            ],
            [
             0.8,
             "#7fbc41"
            ],
            [
             0.9,
             "#4d9221"
            ],
            [
             1,
             "#276419"
            ]
           ],
           "sequential": [
            [
             0,
             "#0d0887"
            ],
            [
             0.1111111111111111,
             "#46039f"
            ],
            [
             0.2222222222222222,
             "#7201a8"
            ],
            [
             0.3333333333333333,
             "#9c179e"
            ],
            [
             0.4444444444444444,
             "#bd3786"
            ],
            [
             0.5555555555555556,
             "#d8576b"
            ],
            [
             0.6666666666666666,
             "#ed7953"
            ],
            [
             0.7777777777777778,
             "#fb9f3a"
            ],
            [
             0.8888888888888888,
             "#fdca26"
            ],
            [
             1,
             "#f0f921"
            ]
           ],
           "sequentialminus": [
            [
             0,
             "#0d0887"
            ],
            [
             0.1111111111111111,
             "#46039f"
            ],
            [
             0.2222222222222222,
             "#7201a8"
            ],
            [
             0.3333333333333333,
             "#9c179e"
            ],
            [
             0.4444444444444444,
             "#bd3786"
            ],
            [
             0.5555555555555556,
             "#d8576b"
            ],
            [
             0.6666666666666666,
             "#ed7953"
            ],
            [
             0.7777777777777778,
             "#fb9f3a"
            ],
            [
             0.8888888888888888,
             "#fdca26"
            ],
            [
             1,
             "#f0f921"
            ]
           ]
          },
          "colorway": [
           "#636efa",
           "#EF553B",
           "#00cc96",
           "#ab63fa",
           "#FFA15A",
           "#19d3f3",
           "#FF6692",
           "#B6E880",
           "#FF97FF",
           "#FECB52"
          ],
          "font": {
           "color": "#2a3f5f"
          },
          "geo": {
           "bgcolor": "white",
           "lakecolor": "white",
           "landcolor": "#E5ECF6",
           "showlakes": true,
           "showland": true,
           "subunitcolor": "white"
          },
          "hoverlabel": {
           "align": "left"
          },
          "hovermode": "closest",
          "mapbox": {
           "style": "light"
          },
          "paper_bgcolor": "white",
          "plot_bgcolor": "#E5ECF6",
          "polar": {
           "angularaxis": {
            "gridcolor": "white",
            "linecolor": "white",
            "ticks": ""
           },
           "bgcolor": "#E5ECF6",
           "radialaxis": {
            "gridcolor": "white",
            "linecolor": "white",
            "ticks": ""
           }
          },
          "scene": {
           "xaxis": {
            "backgroundcolor": "#E5ECF6",
            "gridcolor": "white",
            "gridwidth": 2,
            "linecolor": "white",
            "showbackground": true,
            "ticks": "",
            "zerolinecolor": "white"
           },
           "yaxis": {
            "backgroundcolor": "#E5ECF6",
            "gridcolor": "white",
            "gridwidth": 2,
            "linecolor": "white",
            "showbackground": true,
            "ticks": "",
            "zerolinecolor": "white"
           },
           "zaxis": {
            "backgroundcolor": "#E5ECF6",
            "gridcolor": "white",
            "gridwidth": 2,
            "linecolor": "white",
            "showbackground": true,
            "ticks": "",
            "zerolinecolor": "white"
           }
          },
          "shapedefaults": {
           "line": {
            "color": "#2a3f5f"
           }
          },
          "ternary": {
           "aaxis": {
            "gridcolor": "white",
            "linecolor": "white",
            "ticks": ""
           },
           "baxis": {
            "gridcolor": "white",
            "linecolor": "white",
            "ticks": ""
           },
           "bgcolor": "#E5ECF6",
           "caxis": {
            "gridcolor": "white",
            "linecolor": "white",
            "ticks": ""
           }
          },
          "title": {
           "x": 0.05
          },
          "xaxis": {
           "automargin": true,
           "gridcolor": "white",
           "linecolor": "white",
           "ticks": "",
           "title": {
            "standoff": 15
           },
           "zerolinecolor": "white",
           "zerolinewidth": 2
          },
          "yaxis": {
           "automargin": true,
           "gridcolor": "white",
           "linecolor": "white",
           "ticks": "",
           "title": {
            "standoff": 15
           },
           "zerolinecolor": "white",
           "zerolinewidth": 2
          }
         }
        },
        "title": {
         "text": "R² Score by Regression Model and Fingerprint Type"
        },
        "xaxis": {
         "title": {
          "text": "Regression Model"
         }
        },
        "yaxis": {
         "title": {
          "text": "R² Score"
         }
        }
       }
      }
     },
     "metadata": {},
     "output_type": "display_data"
    },
    {
     "data": {
      "application/vnd.plotly.v1+json": {
       "config": {
        "plotlyServerURL": "https://plot.ly"
       },
       "data": [
        {
         "marker": {
          "color": "#1f77b4"
         },
         "name": "Morgan",
         "text": [
          "0.10917",
          "0.14748",
          "0.11115",
          "0.10910",
          "0.16855",
          "0.12199",
          "0.15820",
          "0.09842",
          "0.23991",
          "0.15948"
         ],
         "textposition": "inside",
         "type": "bar",
         "x": [
          "Bayesian Ridge",
          "KNN Regressor",
          "LightGBM",
          "Ridge Regression",
          "Decision Tree",
          "Random Forest",
          "Gradient Boosting",
          "SVR",
          "ElasticNet",
          "Extra Trees"
         ],
         "y": [
          0.10916870260690052,
          0.14748286959797147,
          0.11114579171789862,
          0.10909923809756693,
          0.16855313698725924,
          0.12199439368208437,
          0.15820018440256087,
          0.09842496744058007,
          0.23991225051501155,
          0.15948277850472517
         ]
        },
        {
         "marker": {
          "color": "#ff7f0e"
         },
         "name": "MACCS",
         "text": [
          "0.20663",
          "0.19317",
          "0.17558",
          "0.20658",
          "0.19926",
          "0.17942",
          "0.19825",
          "0.17661",
          "0.23991",
          "0.19927"
         ],
         "textposition": "inside",
         "type": "bar",
         "x": [
          "Bayesian Ridge",
          "KNN Regressor",
          "LightGBM",
          "Ridge Regression",
          "Decision Tree",
          "Random Forest",
          "Gradient Boosting",
          "SVR",
          "ElasticNet",
          "Extra Trees"
         ],
         "y": [
          0.2066334138258039,
          0.19316537342419712,
          0.1755799994751872,
          0.20658129865548155,
          0.19926047391931134,
          0.17942222029682556,
          0.1982526942037679,
          0.1766070402841475,
          0.23991225051501155,
          0.1992748392499453
         ]
        },
        {
         "marker": {
          "color": "#2ca02c"
         },
         "name": "Atom Pair",
         "text": [
          "0.19271",
          "0.17533",
          "0.15338",
          "0.19328",
          "0.19662",
          "0.14562",
          "0.18734",
          "0.15323",
          "0.23991",
          "0.18789"
         ],
         "textposition": "inside",
         "type": "bar",
         "x": [
          "Bayesian Ridge",
          "KNN Regressor",
          "LightGBM",
          "Ridge Regression",
          "Decision Tree",
          "Random Forest",
          "Gradient Boosting",
          "SVR",
          "ElasticNet",
          "Extra Trees"
         ],
         "y": [
          0.19270948175867397,
          0.17533259542416849,
          0.15337585345156385,
          0.19328164227910363,
          0.19661735546713804,
          0.14562107804585048,
          0.18734161925113132,
          0.15323179760969172,
          0.23991225051501155,
          0.18788791197282628
         ]
        },
        {
         "marker": {
          "color": "#d62728"
         },
         "name": "FCFP",
         "text": [
          "0.12363",
          "0.15401",
          "0.11853",
          "0.12309",
          "0.16670",
          "0.12574",
          "0.16310",
          "0.10701",
          "0.23991",
          "0.15787"
         ],
         "textposition": "inside",
         "type": "bar",
         "x": [
          "Bayesian Ridge",
          "KNN Regressor",
          "LightGBM",
          "Ridge Regression",
          "Decision Tree",
          "Random Forest",
          "Gradient Boosting",
          "SVR",
          "ElasticNet",
          "Extra Trees"
         ],
         "y": [
          0.1236329640804219,
          0.15400873383699243,
          0.11852921838055748,
          0.1230944032503487,
          0.1667037789645351,
          0.12574408610703747,
          0.16309694465256974,
          0.10701004144026198,
          0.23991225051501155,
          0.1578718080717047
         ]
        }
       ],
       "layout": {
        "barmode": "group",
        "legend": {
         "title": {
          "text": "Fingerprint Type"
         }
        },
        "template": {
         "data": {
          "bar": [
           {
            "error_x": {
             "color": "#2a3f5f"
            },
            "error_y": {
             "color": "#2a3f5f"
            },
            "marker": {
             "line": {
              "color": "#E5ECF6",
              "width": 0.5
             },
             "pattern": {
              "fillmode": "overlay",
              "size": 10,
              "solidity": 0.2
             }
            },
            "type": "bar"
           }
          ],
          "barpolar": [
           {
            "marker": {
             "line": {
              "color": "#E5ECF6",
              "width": 0.5
             },
             "pattern": {
              "fillmode": "overlay",
              "size": 10,
              "solidity": 0.2
             }
            },
            "type": "barpolar"
           }
          ],
          "carpet": [
           {
            "aaxis": {
             "endlinecolor": "#2a3f5f",
             "gridcolor": "white",
             "linecolor": "white",
             "minorgridcolor": "white",
             "startlinecolor": "#2a3f5f"
            },
            "baxis": {
             "endlinecolor": "#2a3f5f",
             "gridcolor": "white",
             "linecolor": "white",
             "minorgridcolor": "white",
             "startlinecolor": "#2a3f5f"
            },
            "type": "carpet"
           }
          ],
          "choropleth": [
           {
            "colorbar": {
             "outlinewidth": 0,
             "ticks": ""
            },
            "type": "choropleth"
           }
          ],
          "contour": [
           {
            "colorbar": {
             "outlinewidth": 0,
             "ticks": ""
            },
            "colorscale": [
             [
              0,
              "#0d0887"
             ],
             [
              0.1111111111111111,
              "#46039f"
             ],
             [
              0.2222222222222222,
              "#7201a8"
             ],
             [
              0.3333333333333333,
              "#9c179e"
             ],
             [
              0.4444444444444444,
              "#bd3786"
             ],
             [
              0.5555555555555556,
              "#d8576b"
             ],
             [
              0.6666666666666666,
              "#ed7953"
             ],
             [
              0.7777777777777778,
              "#fb9f3a"
             ],
             [
              0.8888888888888888,
              "#fdca26"
             ],
             [
              1,
              "#f0f921"
             ]
            ],
            "type": "contour"
           }
          ],
          "contourcarpet": [
           {
            "colorbar": {
             "outlinewidth": 0,
             "ticks": ""
            },
            "type": "contourcarpet"
           }
          ],
          "heatmap": [
           {
            "colorbar": {
             "outlinewidth": 0,
             "ticks": ""
            },
            "colorscale": [
             [
              0,
              "#0d0887"
             ],
             [
              0.1111111111111111,
              "#46039f"
             ],
             [
              0.2222222222222222,
              "#7201a8"
             ],
             [
              0.3333333333333333,
              "#9c179e"
             ],
             [
              0.4444444444444444,
              "#bd3786"
             ],
             [
              0.5555555555555556,
              "#d8576b"
             ],
             [
              0.6666666666666666,
              "#ed7953"
             ],
             [
              0.7777777777777778,
              "#fb9f3a"
             ],
             [
              0.8888888888888888,
              "#fdca26"
             ],
             [
              1,
              "#f0f921"
             ]
            ],
            "type": "heatmap"
           }
          ],
          "heatmapgl": [
           {
            "colorbar": {
             "outlinewidth": 0,
             "ticks": ""
            },
            "colorscale": [
             [
              0,
              "#0d0887"
             ],
             [
              0.1111111111111111,
              "#46039f"
             ],
             [
              0.2222222222222222,
              "#7201a8"
             ],
             [
              0.3333333333333333,
              "#9c179e"
             ],
             [
              0.4444444444444444,
              "#bd3786"
             ],
             [
              0.5555555555555556,
              "#d8576b"
             ],
             [
              0.6666666666666666,
              "#ed7953"
             ],
             [
              0.7777777777777778,
              "#fb9f3a"
             ],
             [
              0.8888888888888888,
              "#fdca26"
             ],
             [
              1,
              "#f0f921"
             ]
            ],
            "type": "heatmapgl"
           }
          ],
          "histogram": [
           {
            "marker": {
             "pattern": {
              "fillmode": "overlay",
              "size": 10,
              "solidity": 0.2
             }
            },
            "type": "histogram"
           }
          ],
          "histogram2d": [
           {
            "colorbar": {
             "outlinewidth": 0,
             "ticks": ""
            },
            "colorscale": [
             [
              0,
              "#0d0887"
             ],
             [
              0.1111111111111111,
              "#46039f"
             ],
             [
              0.2222222222222222,
              "#7201a8"
             ],
             [
              0.3333333333333333,
              "#9c179e"
             ],
             [
              0.4444444444444444,
              "#bd3786"
             ],
             [
              0.5555555555555556,
              "#d8576b"
             ],
             [
              0.6666666666666666,
              "#ed7953"
             ],
             [
              0.7777777777777778,
              "#fb9f3a"
             ],
             [
              0.8888888888888888,
              "#fdca26"
             ],
             [
              1,
              "#f0f921"
             ]
            ],
            "type": "histogram2d"
           }
          ],
          "histogram2dcontour": [
           {
            "colorbar": {
             "outlinewidth": 0,
             "ticks": ""
            },
            "colorscale": [
             [
              0,
              "#0d0887"
             ],
             [
              0.1111111111111111,
              "#46039f"
             ],
             [
              0.2222222222222222,
              "#7201a8"
             ],
             [
              0.3333333333333333,
              "#9c179e"
             ],
             [
              0.4444444444444444,
              "#bd3786"
             ],
             [
              0.5555555555555556,
              "#d8576b"
             ],
             [
              0.6666666666666666,
              "#ed7953"
             ],
             [
              0.7777777777777778,
              "#fb9f3a"
             ],
             [
              0.8888888888888888,
              "#fdca26"
             ],
             [
              1,
              "#f0f921"
             ]
            ],
            "type": "histogram2dcontour"
           }
          ],
          "mesh3d": [
           {
            "colorbar": {
             "outlinewidth": 0,
             "ticks": ""
            },
            "type": "mesh3d"
           }
          ],
          "parcoords": [
           {
            "line": {
             "colorbar": {
              "outlinewidth": 0,
              "ticks": ""
             }
            },
            "type": "parcoords"
           }
          ],
          "pie": [
           {
            "automargin": true,
            "type": "pie"
           }
          ],
          "scatter": [
           {
            "fillpattern": {
             "fillmode": "overlay",
             "size": 10,
             "solidity": 0.2
            },
            "type": "scatter"
           }
          ],
          "scatter3d": [
           {
            "line": {
             "colorbar": {
              "outlinewidth": 0,
              "ticks": ""
             }
            },
            "marker": {
             "colorbar": {
              "outlinewidth": 0,
              "ticks": ""
             }
            },
            "type": "scatter3d"
           }
          ],
          "scattercarpet": [
           {
            "marker": {
             "colorbar": {
              "outlinewidth": 0,
              "ticks": ""
             }
            },
            "type": "scattercarpet"
           }
          ],
          "scattergeo": [
           {
            "marker": {
             "colorbar": {
              "outlinewidth": 0,
              "ticks": ""
             }
            },
            "type": "scattergeo"
           }
          ],
          "scattergl": [
           {
            "marker": {
             "colorbar": {
              "outlinewidth": 0,
              "ticks": ""
             }
            },
            "type": "scattergl"
           }
          ],
          "scattermapbox": [
           {
            "marker": {
             "colorbar": {
              "outlinewidth": 0,
              "ticks": ""
             }
            },
            "type": "scattermapbox"
           }
          ],
          "scatterpolar": [
           {
            "marker": {
             "colorbar": {
              "outlinewidth": 0,
              "ticks": ""
             }
            },
            "type": "scatterpolar"
           }
          ],
          "scatterpolargl": [
           {
            "marker": {
             "colorbar": {
              "outlinewidth": 0,
              "ticks": ""
             }
            },
            "type": "scatterpolargl"
           }
          ],
          "scatterternary": [
           {
            "marker": {
             "colorbar": {
              "outlinewidth": 0,
              "ticks": ""
             }
            },
            "type": "scatterternary"
           }
          ],
          "surface": [
           {
            "colorbar": {
             "outlinewidth": 0,
             "ticks": ""
            },
            "colorscale": [
             [
              0,
              "#0d0887"
             ],
             [
              0.1111111111111111,
              "#46039f"
             ],
             [
              0.2222222222222222,
              "#7201a8"
             ],
             [
              0.3333333333333333,
              "#9c179e"
             ],
             [
              0.4444444444444444,
              "#bd3786"
             ],
             [
              0.5555555555555556,
              "#d8576b"
             ],
             [
              0.6666666666666666,
              "#ed7953"
             ],
             [
              0.7777777777777778,
              "#fb9f3a"
             ],
             [
              0.8888888888888888,
              "#fdca26"
             ],
             [
              1,
              "#f0f921"
             ]
            ],
            "type": "surface"
           }
          ],
          "table": [
           {
            "cells": {
             "fill": {
              "color": "#EBF0F8"
             },
             "line": {
              "color": "white"
             }
            },
            "header": {
             "fill": {
              "color": "#C8D4E3"
             },
             "line": {
              "color": "white"
             }
            },
            "type": "table"
           }
          ]
         },
         "layout": {
          "annotationdefaults": {
           "arrowcolor": "#2a3f5f",
           "arrowhead": 0,
           "arrowwidth": 1
          },
          "autotypenumbers": "strict",
          "coloraxis": {
           "colorbar": {
            "outlinewidth": 0,
            "ticks": ""
           }
          },
          "colorscale": {
           "diverging": [
            [
             0,
             "#8e0152"
            ],
            [
             0.1,
             "#c51b7d"
            ],
            [
             0.2,
             "#de77ae"
            ],
            [
             0.3,
             "#f1b6da"
            ],
            [
             0.4,
             "#fde0ef"
            ],
            [
             0.5,
             "#f7f7f7"
            ],
            [
             0.6,
             "#e6f5d0"
            ],
            [
             0.7,
             "#b8e186"
            ],
            [
             0.8,
             "#7fbc41"
            ],
            [
             0.9,
             "#4d9221"
            ],
            [
             1,
             "#276419"
            ]
           ],
           "sequential": [
            [
             0,
             "#0d0887"
            ],
            [
             0.1111111111111111,
             "#46039f"
            ],
            [
             0.2222222222222222,
             "#7201a8"
            ],
            [
             0.3333333333333333,
             "#9c179e"
            ],
            [
             0.4444444444444444,
             "#bd3786"
            ],
            [
             0.5555555555555556,
             "#d8576b"
            ],
            [
             0.6666666666666666,
             "#ed7953"
            ],
            [
             0.7777777777777778,
             "#fb9f3a"
            ],
            [
             0.8888888888888888,
             "#fdca26"
            ],
            [
             1,
             "#f0f921"
            ]
           ],
           "sequentialminus": [
            [
             0,
             "#0d0887"
            ],
            [
             0.1111111111111111,
             "#46039f"
            ],
            [
             0.2222222222222222,
             "#7201a8"
            ],
            [
             0.3333333333333333,
             "#9c179e"
            ],
            [
             0.4444444444444444,
             "#bd3786"
            ],
            [
             0.5555555555555556,
             "#d8576b"
            ],
            [
             0.6666666666666666,
             "#ed7953"
            ],
            [
             0.7777777777777778,
             "#fb9f3a"
            ],
            [
             0.8888888888888888,
             "#fdca26"
            ],
            [
             1,
             "#f0f921"
            ]
           ]
          },
          "colorway": [
           "#636efa",
           "#EF553B",
           "#00cc96",
           "#ab63fa",
           "#FFA15A",
           "#19d3f3",
           "#FF6692",
           "#B6E880",
           "#FF97FF",
           "#FECB52"
          ],
          "font": {
           "color": "#2a3f5f"
          },
          "geo": {
           "bgcolor": "white",
           "lakecolor": "white",
           "landcolor": "#E5ECF6",
           "showlakes": true,
           "showland": true,
           "subunitcolor": "white"
          },
          "hoverlabel": {
           "align": "left"
          },
          "hovermode": "closest",
          "mapbox": {
           "style": "light"
          },
          "paper_bgcolor": "white",
          "plot_bgcolor": "#E5ECF6",
          "polar": {
           "angularaxis": {
            "gridcolor": "white",
            "linecolor": "white",
            "ticks": ""
           },
           "bgcolor": "#E5ECF6",
           "radialaxis": {
            "gridcolor": "white",
            "linecolor": "white",
            "ticks": ""
           }
          },
          "scene": {
           "xaxis": {
            "backgroundcolor": "#E5ECF6",
            "gridcolor": "white",
            "gridwidth": 2,
            "linecolor": "white",
            "showbackground": true,
            "ticks": "",
            "zerolinecolor": "white"
           },
           "yaxis": {
            "backgroundcolor": "#E5ECF6",
            "gridcolor": "white",
            "gridwidth": 2,
            "linecolor": "white",
            "showbackground": true,
            "ticks": "",
            "zerolinecolor": "white"
           },
           "zaxis": {
            "backgroundcolor": "#E5ECF6",
            "gridcolor": "white",
            "gridwidth": 2,
            "linecolor": "white",
            "showbackground": true,
            "ticks": "",
            "zerolinecolor": "white"
           }
          },
          "shapedefaults": {
           "line": {
            "color": "#2a3f5f"
           }
          },
          "ternary": {
           "aaxis": {
            "gridcolor": "white",
            "linecolor": "white",
            "ticks": ""
           },
           "baxis": {
            "gridcolor": "white",
            "linecolor": "white",
            "ticks": ""
           },
           "bgcolor": "#E5ECF6",
           "caxis": {
            "gridcolor": "white",
            "linecolor": "white",
            "ticks": ""
           }
          },
          "title": {
           "x": 0.05
          },
          "xaxis": {
           "automargin": true,
           "gridcolor": "white",
           "linecolor": "white",
           "ticks": "",
           "title": {
            "standoff": 15
           },
           "zerolinecolor": "white",
           "zerolinewidth": 2
          },
          "yaxis": {
           "automargin": true,
           "gridcolor": "white",
           "linecolor": "white",
           "ticks": "",
           "title": {
            "standoff": 15
           },
           "zerolinecolor": "white",
           "zerolinewidth": 2
          }
         }
        },
        "title": {
         "text": "RMSE by Regression Model and Fingerprint Type"
        },
        "xaxis": {
         "title": {
          "text": "Regression Model"
         }
        },
        "yaxis": {
         "title": {
          "text": "RMSE"
         }
        }
       }
      }
     },
     "metadata": {},
     "output_type": "display_data"
    },
    {
     "data": {
      "application/vnd.plotly.v1+json": {
       "config": {
        "plotlyServerURL": "https://plot.ly"
       },
       "data": [
        {
         "marker": {
          "color": "#1f77b4"
         },
         "name": "Morgan",
         "text": [
          "0.08033",
          "0.11306",
          "0.08329",
          "0.07997",
          "0.11533",
          "0.08686",
          "0.12223",
          "0.07454",
          "0.18760",
          "0.10974"
         ],
         "textposition": "inside",
         "type": "bar",
         "x": [
          "Bayesian Ridge",
          "KNN Regressor",
          "LightGBM",
          "Ridge Regression",
          "Decision Tree",
          "Random Forest",
          "Gradient Boosting",
          "SVR",
          "ElasticNet",
          "Extra Trees"
         ],
         "y": [
          0.08032810149263948,
          0.11305511184768638,
          0.08329429387953846,
          0.07997470438775119,
          0.11533468863430997,
          0.08686281288341509,
          0.12223152415476089,
          0.07454364218812065,
          0.1876025943968052,
          0.10973762195059733
         ]
        },
        {
         "marker": {
          "color": "#ff7f0e"
         },
         "name": "MACCS",
         "text": [
          "0.15845",
          "0.14768",
          "0.13553",
          "0.15846",
          "0.14535",
          "0.13513",
          "0.15357",
          "0.13400",
          "0.18760",
          "0.14485"
         ],
         "textposition": "inside",
         "type": "bar",
         "x": [
          "Bayesian Ridge",
          "KNN Regressor",
          "LightGBM",
          "Ridge Regression",
          "Decision Tree",
          "Random Forest",
          "Gradient Boosting",
          "SVR",
          "ElasticNet",
          "Extra Trees"
         ],
         "y": [
          0.15844664565781788,
          0.14767639252546108,
          0.13552851352975445,
          0.15845620933077548,
          0.14534614340503757,
          0.13513201310170658,
          0.15357385636515636,
          0.13400198602219046,
          0.1876025943968052,
          0.14485455210642212
         ]
        },
        {
         "marker": {
          "color": "#2ca02c"
         },
         "name": "Atom Pair",
         "text": [
          "0.14643",
          "0.13169",
          "0.11748",
          "0.14734",
          "0.13419",
          "0.10818",
          "0.14375",
          "0.11332",
          "0.18760",
          "0.12907"
         ],
         "textposition": "inside",
         "type": "bar",
         "x": [
          "Bayesian Ridge",
          "KNN Regressor",
          "LightGBM",
          "Ridge Regression",
          "Decision Tree",
          "Random Forest",
          "Gradient Boosting",
          "SVR",
          "ElasticNet",
          "Extra Trees"
         ],
         "y": [
          0.14643155169195043,
          0.13169421636548057,
          0.11747564335475606,
          0.14734438017649662,
          0.13418606850615664,
          0.10818018534138471,
          0.143750059992889,
          0.11332311080931722,
          0.1876025943968052,
          0.12906593356680865
         ]
        },
        {
         "marker": {
          "color": "#d62728"
         },
         "name": "FCFP",
         "text": [
          "0.09199",
          "0.11429",
          "0.08807",
          "0.09155",
          "0.11350",
          "0.08984",
          "0.12457",
          "0.07917",
          "0.18760",
          "0.10845"
         ],
         "textposition": "inside",
         "type": "bar",
         "x": [
          "Bayesian Ridge",
          "KNN Regressor",
          "LightGBM",
          "Ridge Regression",
          "Decision Tree",
          "Random Forest",
          "Gradient Boosting",
          "SVR",
          "ElasticNet",
          "Extra Trees"
         ],
         "y": [
          0.09198911149229298,
          0.11429421074704037,
          0.088074259741614,
          0.09155324655222005,
          0.1134998793910267,
          0.08984082840707071,
          0.1245663571558673,
          0.0791689440677895,
          0.1876025943968052,
          0.10844609050949418
         ]
        }
       ],
       "layout": {
        "barmode": "group",
        "legend": {
         "title": {
          "text": "Fingerprint Type"
         }
        },
        "template": {
         "data": {
          "bar": [
           {
            "error_x": {
             "color": "#2a3f5f"
            },
            "error_y": {
             "color": "#2a3f5f"
            },
            "marker": {
             "line": {
              "color": "#E5ECF6",
              "width": 0.5
             },
             "pattern": {
              "fillmode": "overlay",
              "size": 10,
              "solidity": 0.2
             }
            },
            "type": "bar"
           }
          ],
          "barpolar": [
           {
            "marker": {
             "line": {
              "color": "#E5ECF6",
              "width": 0.5
             },
             "pattern": {
              "fillmode": "overlay",
              "size": 10,
              "solidity": 0.2
             }
            },
            "type": "barpolar"
           }
          ],
          "carpet": [
           {
            "aaxis": {
             "endlinecolor": "#2a3f5f",
             "gridcolor": "white",
             "linecolor": "white",
             "minorgridcolor": "white",
             "startlinecolor": "#2a3f5f"
            },
            "baxis": {
             "endlinecolor": "#2a3f5f",
             "gridcolor": "white",
             "linecolor": "white",
             "minorgridcolor": "white",
             "startlinecolor": "#2a3f5f"
            },
            "type": "carpet"
           }
          ],
          "choropleth": [
           {
            "colorbar": {
             "outlinewidth": 0,
             "ticks": ""
            },
            "type": "choropleth"
           }
          ],
          "contour": [
           {
            "colorbar": {
             "outlinewidth": 0,
             "ticks": ""
            },
            "colorscale": [
             [
              0,
              "#0d0887"
             ],
             [
              0.1111111111111111,
              "#46039f"
             ],
             [
              0.2222222222222222,
              "#7201a8"
             ],
             [
              0.3333333333333333,
              "#9c179e"
             ],
             [
              0.4444444444444444,
              "#bd3786"
             ],
             [
              0.5555555555555556,
              "#d8576b"
             ],
             [
              0.6666666666666666,
              "#ed7953"
             ],
             [
              0.7777777777777778,
              "#fb9f3a"
             ],
             [
              0.8888888888888888,
              "#fdca26"
             ],
             [
              1,
              "#f0f921"
             ]
            ],
            "type": "contour"
           }
          ],
          "contourcarpet": [
           {
            "colorbar": {
             "outlinewidth": 0,
             "ticks": ""
            },
            "type": "contourcarpet"
           }
          ],
          "heatmap": [
           {
            "colorbar": {
             "outlinewidth": 0,
             "ticks": ""
            },
            "colorscale": [
             [
              0,
              "#0d0887"
             ],
             [
              0.1111111111111111,
              "#46039f"
             ],
             [
              0.2222222222222222,
              "#7201a8"
             ],
             [
              0.3333333333333333,
              "#9c179e"
             ],
             [
              0.4444444444444444,
              "#bd3786"
             ],
             [
              0.5555555555555556,
              "#d8576b"
             ],
             [
              0.6666666666666666,
              "#ed7953"
             ],
             [
              0.7777777777777778,
              "#fb9f3a"
             ],
             [
              0.8888888888888888,
              "#fdca26"
             ],
             [
              1,
              "#f0f921"
             ]
            ],
            "type": "heatmap"
           }
          ],
          "heatmapgl": [
           {
            "colorbar": {
             "outlinewidth": 0,
             "ticks": ""
            },
            "colorscale": [
             [
              0,
              "#0d0887"
             ],
             [
              0.1111111111111111,
              "#46039f"
             ],
             [
              0.2222222222222222,
              "#7201a8"
             ],
             [
              0.3333333333333333,
              "#9c179e"
             ],
             [
              0.4444444444444444,
              "#bd3786"
             ],
             [
              0.5555555555555556,
              "#d8576b"
             ],
             [
              0.6666666666666666,
              "#ed7953"
             ],
             [
              0.7777777777777778,
              "#fb9f3a"
             ],
             [
              0.8888888888888888,
              "#fdca26"
             ],
             [
              1,
              "#f0f921"
             ]
            ],
            "type": "heatmapgl"
           }
          ],
          "histogram": [
           {
            "marker": {
             "pattern": {
              "fillmode": "overlay",
              "size": 10,
              "solidity": 0.2
             }
            },
            "type": "histogram"
           }
          ],
          "histogram2d": [
           {
            "colorbar": {
             "outlinewidth": 0,
             "ticks": ""
            },
            "colorscale": [
             [
              0,
              "#0d0887"
             ],
             [
              0.1111111111111111,
              "#46039f"
             ],
             [
              0.2222222222222222,
              "#7201a8"
             ],
             [
              0.3333333333333333,
              "#9c179e"
             ],
             [
              0.4444444444444444,
              "#bd3786"
             ],
             [
              0.5555555555555556,
              "#d8576b"
             ],
             [
              0.6666666666666666,
              "#ed7953"
             ],
             [
              0.7777777777777778,
              "#fb9f3a"
             ],
             [
              0.8888888888888888,
              "#fdca26"
             ],
             [
              1,
              "#f0f921"
             ]
            ],
            "type": "histogram2d"
           }
          ],
          "histogram2dcontour": [
           {
            "colorbar": {
             "outlinewidth": 0,
             "ticks": ""
            },
            "colorscale": [
             [
              0,
              "#0d0887"
             ],
             [
              0.1111111111111111,
              "#46039f"
             ],
             [
              0.2222222222222222,
              "#7201a8"
             ],
             [
              0.3333333333333333,
              "#9c179e"
             ],
             [
              0.4444444444444444,
              "#bd3786"
             ],
             [
              0.5555555555555556,
              "#d8576b"
             ],
             [
              0.6666666666666666,
              "#ed7953"
             ],
             [
              0.7777777777777778,
              "#fb9f3a"
             ],
             [
              0.8888888888888888,
              "#fdca26"
             ],
             [
              1,
              "#f0f921"
             ]
            ],
            "type": "histogram2dcontour"
           }
          ],
          "mesh3d": [
           {
            "colorbar": {
             "outlinewidth": 0,
             "ticks": ""
            },
            "type": "mesh3d"
           }
          ],
          "parcoords": [
           {
            "line": {
             "colorbar": {
              "outlinewidth": 0,
              "ticks": ""
             }
            },
            "type": "parcoords"
           }
          ],
          "pie": [
           {
            "automargin": true,
            "type": "pie"
           }
          ],
          "scatter": [
           {
            "fillpattern": {
             "fillmode": "overlay",
             "size": 10,
             "solidity": 0.2
            },
            "type": "scatter"
           }
          ],
          "scatter3d": [
           {
            "line": {
             "colorbar": {
              "outlinewidth": 0,
              "ticks": ""
             }
            },
            "marker": {
             "colorbar": {
              "outlinewidth": 0,
              "ticks": ""
             }
            },
            "type": "scatter3d"
           }
          ],
          "scattercarpet": [
           {
            "marker": {
             "colorbar": {
              "outlinewidth": 0,
              "ticks": ""
             }
            },
            "type": "scattercarpet"
           }
          ],
          "scattergeo": [
           {
            "marker": {
             "colorbar": {
              "outlinewidth": 0,
              "ticks": ""
             }
            },
            "type": "scattergeo"
           }
          ],
          "scattergl": [
           {
            "marker": {
             "colorbar": {
              "outlinewidth": 0,
              "ticks": ""
             }
            },
            "type": "scattergl"
           }
          ],
          "scattermapbox": [
           {
            "marker": {
             "colorbar": {
              "outlinewidth": 0,
              "ticks": ""
             }
            },
            "type": "scattermapbox"
           }
          ],
          "scatterpolar": [
           {
            "marker": {
             "colorbar": {
              "outlinewidth": 0,
              "ticks": ""
             }
            },
            "type": "scatterpolar"
           }
          ],
          "scatterpolargl": [
           {
            "marker": {
             "colorbar": {
              "outlinewidth": 0,
              "ticks": ""
             }
            },
            "type": "scatterpolargl"
           }
          ],
          "scatterternary": [
           {
            "marker": {
             "colorbar": {
              "outlinewidth": 0,
              "ticks": ""
             }
            },
            "type": "scatterternary"
           }
          ],
          "surface": [
           {
            "colorbar": {
             "outlinewidth": 0,
             "ticks": ""
            },
            "colorscale": [
             [
              0,
              "#0d0887"
             ],
             [
              0.1111111111111111,
              "#46039f"
             ],
             [
              0.2222222222222222,
              "#7201a8"
             ],
             [
              0.3333333333333333,
              "#9c179e"
             ],
             [
              0.4444444444444444,
              "#bd3786"
             ],
             [
              0.5555555555555556,
              "#d8576b"
             ],
             [
              0.6666666666666666,
              "#ed7953"
             ],
             [
              0.7777777777777778,
              "#fb9f3a"
             ],
             [
              0.8888888888888888,
              "#fdca26"
             ],
             [
              1,
              "#f0f921"
             ]
            ],
            "type": "surface"
           }
          ],
          "table": [
           {
            "cells": {
             "fill": {
              "color": "#EBF0F8"
             },
             "line": {
              "color": "white"
             }
            },
            "header": {
             "fill": {
              "color": "#C8D4E3"
             },
             "line": {
              "color": "white"
             }
            },
            "type": "table"
           }
          ]
         },
         "layout": {
          "annotationdefaults": {
           "arrowcolor": "#2a3f5f",
           "arrowhead": 0,
           "arrowwidth": 1
          },
          "autotypenumbers": "strict",
          "coloraxis": {
           "colorbar": {
            "outlinewidth": 0,
            "ticks": ""
           }
          },
          "colorscale": {
           "diverging": [
            [
             0,
             "#8e0152"
            ],
            [
             0.1,
             "#c51b7d"
            ],
            [
             0.2,
             "#de77ae"
            ],
            [
             0.3,
             "#f1b6da"
            ],
            [
             0.4,
             "#fde0ef"
            ],
            [
             0.5,
             "#f7f7f7"
            ],
            [
             0.6,
             "#e6f5d0"
            ],
            [
             0.7,
             "#b8e186"
            ],
            [
             0.8,
             "#7fbc41"
            ],
            [
             0.9,
             "#4d9221"
            ],
            [
             1,
             "#276419"
            ]
           ],
           "sequential": [
            [
             0,
             "#0d0887"
            ],
            [
             0.1111111111111111,
             "#46039f"
            ],
            [
             0.2222222222222222,
             "#7201a8"
            ],
            [
             0.3333333333333333,
             "#9c179e"
            ],
            [
             0.4444444444444444,
             "#bd3786"
            ],
            [
             0.5555555555555556,
             "#d8576b"
            ],
            [
             0.6666666666666666,
             "#ed7953"
            ],
            [
             0.7777777777777778,
             "#fb9f3a"
            ],
            [
             0.8888888888888888,
             "#fdca26"
            ],
            [
             1,
             "#f0f921"
            ]
           ],
           "sequentialminus": [
            [
             0,
             "#0d0887"
            ],
            [
             0.1111111111111111,
             "#46039f"
            ],
            [
             0.2222222222222222,
             "#7201a8"
            ],
            [
             0.3333333333333333,
             "#9c179e"
            ],
            [
             0.4444444444444444,
             "#bd3786"
            ],
            [
             0.5555555555555556,
             "#d8576b"
            ],
            [
             0.6666666666666666,
             "#ed7953"
            ],
            [
             0.7777777777777778,
             "#fb9f3a"
            ],
            [
             0.8888888888888888,
             "#fdca26"
            ],
            [
             1,
             "#f0f921"
            ]
           ]
          },
          "colorway": [
           "#636efa",
           "#EF553B",
           "#00cc96",
           "#ab63fa",
           "#FFA15A",
           "#19d3f3",
           "#FF6692",
           "#B6E880",
           "#FF97FF",
           "#FECB52"
          ],
          "font": {
           "color": "#2a3f5f"
          },
          "geo": {
           "bgcolor": "white",
           "lakecolor": "white",
           "landcolor": "#E5ECF6",
           "showlakes": true,
           "showland": true,
           "subunitcolor": "white"
          },
          "hoverlabel": {
           "align": "left"
          },
          "hovermode": "closest",
          "mapbox": {
           "style": "light"
          },
          "paper_bgcolor": "white",
          "plot_bgcolor": "#E5ECF6",
          "polar": {
           "angularaxis": {
            "gridcolor": "white",
            "linecolor": "white",
            "ticks": ""
           },
           "bgcolor": "#E5ECF6",
           "radialaxis": {
            "gridcolor": "white",
            "linecolor": "white",
            "ticks": ""
           }
          },
          "scene": {
           "xaxis": {
            "backgroundcolor": "#E5ECF6",
            "gridcolor": "white",
            "gridwidth": 2,
            "linecolor": "white",
            "showbackground": true,
            "ticks": "",
            "zerolinecolor": "white"
           },
           "yaxis": {
            "backgroundcolor": "#E5ECF6",
            "gridcolor": "white",
            "gridwidth": 2,
            "linecolor": "white",
            "showbackground": true,
            "ticks": "",
            "zerolinecolor": "white"
           },
           "zaxis": {
            "backgroundcolor": "#E5ECF6",
            "gridcolor": "white",
            "gridwidth": 2,
            "linecolor": "white",
            "showbackground": true,
            "ticks": "",
            "zerolinecolor": "white"
           }
          },
          "shapedefaults": {
           "line": {
            "color": "#2a3f5f"
           }
          },
          "ternary": {
           "aaxis": {
            "gridcolor": "white",
            "linecolor": "white",
            "ticks": ""
           },
           "baxis": {
            "gridcolor": "white",
            "linecolor": "white",
            "ticks": ""
           },
           "bgcolor": "#E5ECF6",
           "caxis": {
            "gridcolor": "white",
            "linecolor": "white",
            "ticks": ""
           }
          },
          "title": {
           "x": 0.05
          },
          "xaxis": {
           "automargin": true,
           "gridcolor": "white",
           "linecolor": "white",
           "ticks": "",
           "title": {
            "standoff": 15
           },
           "zerolinecolor": "white",
           "zerolinewidth": 2
          },
          "yaxis": {
           "automargin": true,
           "gridcolor": "white",
           "linecolor": "white",
           "ticks": "",
           "title": {
            "standoff": 15
           },
           "zerolinecolor": "white",
           "zerolinewidth": 2
          }
         }
        },
        "title": {
         "text": "MAE by Regression Model and Fingerprint Type"
        },
        "xaxis": {
         "title": {
          "text": "Regression Model"
         }
        },
        "yaxis": {
         "title": {
          "text": "MAE"
         }
        }
       }
      }
     },
     "metadata": {},
     "output_type": "display_data"
    }
   ],
   "source": [
    "import plotly.graph_objects as go\n",
    "import pandas as pd\n",
    "\n",
    "# Define colors\n",
    "colors = ['#1f77b4', '#ff7f0e', '#2ca02c', '#d62728', '#9467bd', '#8c564b']\n",
    "\n",
    "# Create traces for R² Score\n",
    "fig_r2 = go.Figure()\n",
    "for idx, fingerprint_type in enumerate(results_df['Fingerprint Type'].unique()):\n",
    "    subset = results_df[results_df['Fingerprint Type'] == fingerprint_type]\n",
    "    subset = subset[subset['Regression Model'] != 'ElasticNet']\n",
    "    fig_r2.add_trace(go.Bar(\n",
    "        x=subset['Regression Model'],\n",
    "        y=subset['R² Score'],\n",
    "        name=fingerprint_type,\n",
    "        text=[f'{val:.5f}' for val in subset['R² Score']],\n",
    "        textposition='inside',\n",
    "        marker_color=colors[idx % len(colors)],\n",
    "    ))\n",
    "\n",
    "fig_r2.update_layout(\n",
    "    title='R² Score by Regression Model and Fingerprint Type',\n",
    "    xaxis_title='Regression Model',\n",
    "    yaxis_title='R² Score',\n",
    "    barmode='group',\n",
    "    legend_title='Fingerprint Type'\n",
    ")\n",
    "\n",
    "# Create traces for RMSE\n",
    "fig_rmse = go.Figure()\n",
    "for idx, fingerprint_type in enumerate(results_df['Fingerprint Type'].unique()):\n",
    "    subset = results_df[results_df['Fingerprint Type'] == fingerprint_type]\n",
    "    fig_rmse.add_trace(go.Bar(\n",
    "        x=subset['Regression Model'],\n",
    "        y=subset['RMSE'],\n",
    "        name=fingerprint_type,\n",
    "        text=[f'{val:.5f}' for val in subset['RMSE']],\n",
    "        textposition='inside',\n",
    "        marker_color=colors[idx % len(colors)],\n",
    "    ))\n",
    "\n",
    "fig_rmse.update_layout(\n",
    "    title='RMSE by Regression Model and Fingerprint Type',\n",
    "    xaxis_title='Regression Model',\n",
    "    yaxis_title='RMSE',\n",
    "    barmode='group',\n",
    "    legend_title='Fingerprint Type'\n",
    ")\n",
    "\n",
    "# Create traces for MAE\n",
    "fig_mae = go.Figure()\n",
    "for idx, fingerprint_type in enumerate(results_df['Fingerprint Type'].unique()):\n",
    "    subset = results_df[results_df['Fingerprint Type'] == fingerprint_type]\n",
    "    fig_mae.add_trace(go.Bar(\n",
    "        x=subset['Regression Model'],\n",
    "        y=subset['MAE'],\n",
    "        name=fingerprint_type,\n",
    "        text=[f'{val:.5f}' for val in subset['MAE']],\n",
    "        textposition='inside',\n",
    "        marker_color=colors[idx % len(colors)],\n",
    "    ))\n",
    "\n",
    "fig_mae.update_layout(\n",
    "    title='MAE by Regression Model and Fingerprint Type',\n",
    "    xaxis_title='Regression Model',\n",
    "    yaxis_title='MAE',\n",
    "    barmode='group',\n",
    "    legend_title='Fingerprint Type'\n",
    ")\n",
    "\n",
    "# Show the plots\n",
    "fig_r2.show()\n",
    "fig_rmse.show()\n",
    "fig_mae.show()"
   ]
  },
  {
   "cell_type": "code",
   "execution_count": 23,
   "metadata": {},
   "outputs": [
    {
     "name": "stdout",
     "output_type": "stream",
     "text": [
      "Starting grid search for SVR model with Morgan fingerprints...\n",
      "Finished processing Morgan fingerprints with optimized SVR model\n"
     ]
    },
    {
     "data": {
      "text/html": [
       "<div>\n",
       "<style scoped>\n",
       "    .dataframe tbody tr th:only-of-type {\n",
       "        vertical-align: middle;\n",
       "    }\n",
       "\n",
       "    .dataframe tbody tr th {\n",
       "        vertical-align: top;\n",
       "    }\n",
       "\n",
       "    .dataframe thead th {\n",
       "        text-align: right;\n",
       "    }\n",
       "</style>\n",
       "<table border=\"1\" class=\"dataframe\">\n",
       "  <thead>\n",
       "    <tr style=\"text-align: right;\">\n",
       "      <th></th>\n",
       "      <th>Fingerprint Type</th>\n",
       "      <th>Regression Model</th>\n",
       "      <th>Best Parameters</th>\n",
       "      <th>R² Score</th>\n",
       "      <th>RMSE</th>\n",
       "      <th>MAE</th>\n",
       "      <th>MSE</th>\n",
       "    </tr>\n",
       "  </thead>\n",
       "  <tbody>\n",
       "    <tr>\n",
       "      <th>0</th>\n",
       "      <td>Morgan</td>\n",
       "      <td>SVR</td>\n",
       "      <td>{'C': 10, 'epsilon': 0.01, 'kernel': 'rbf'}</td>\n",
       "      <td>0.886226</td>\n",
       "      <td>0.080874</td>\n",
       "      <td>0.05618</td>\n",
       "      <td>0.006541</td>\n",
       "    </tr>\n",
       "  </tbody>\n",
       "</table>\n",
       "</div>"
      ],
      "text/plain": [
       "  Fingerprint Type Regression Model  \\\n",
       "0           Morgan              SVR   \n",
       "\n",
       "                               Best Parameters  R² Score      RMSE      MAE  \\\n",
       "0  {'C': 10, 'epsilon': 0.01, 'kernel': 'rbf'}  0.886226  0.080874  0.05618   \n",
       "\n",
       "        MSE  \n",
       "0  0.006541  "
      ]
     },
     "execution_count": 23,
     "metadata": {},
     "output_type": "execute_result"
    }
   ],
   "source": [
    "import pandas as pd\n",
    "from sklearn.model_selection import train_test_split, GridSearchCV\n",
    "from sklearn.metrics import r2_score, mean_squared_error, mean_absolute_error\n",
    "from sklearn.svm import SVR\n",
    "import numpy as np\n",
    "\n",
    "# Define parameter grid for SVR only\n",
    "param_grid_svr = {\n",
    "    'kernel': ['linear', 'rbf'],\n",
    "    'C': [0.1, 1, 10],\n",
    "    'epsilon': [0.01, 0.1, 0.5]\n",
    "}\n",
    "\n",
    "# Initialize an empty list to store the optimized results\n",
    "optimized_results = []\n",
    "\n",
    "# Iterate over the four dataframes\n",
    "for i, df in enumerate([opv_df_morgan]):\n",
    "    fingerprint_type = ['Morgan'][i]\n",
    "    \n",
    "    X = df.iloc[:, 8:]\n",
    "    y = df[\"LUMO_calc\"] \n",
    "    \n",
    "    X_train, X_test, y_train, y_test = train_test_split(X, y, test_size=0.25, random_state=42)\n",
    "    \n",
    "    # Perform grid search for SVR model\n",
    "    model_name = 'SVR'\n",
    "    print(f'Starting grid search for {model_name} model with {fingerprint_type} fingerprints...')\n",
    "    \n",
    "    grid_search = GridSearchCV(SVR(), param_grid_svr, cv=5, scoring='neg_mean_squared_error', n_jobs=-1)\n",
    "    grid_search.fit(X_train, y_train)\n",
    "    \n",
    "    # Get the best model after grid search\n",
    "    best_model = grid_search.best_estimator_\n",
    "    \n",
    "    # Make predictions using the optimized model\n",
    "    y_pred = best_model.predict(X_test)\n",
    "    \n",
    "    # Calculate metrics\n",
    "    r2 = r2_score(y_test, y_pred)\n",
    "    rmse = np.sqrt(mean_squared_error(y_test, y_pred))\n",
    "    mae = mean_absolute_error(y_test, y_pred)\n",
    "    mse = mean_squared_error(y_test, y_pred)\n",
    "    \n",
    "    # Append the results to the optimized_results list\n",
    "    optimized_results.append({\n",
    "        'Fingerprint Type': fingerprint_type,\n",
    "        'Regression Model': model_name,\n",
    "        'Best Parameters': grid_search.best_params_,\n",
    "        'R² Score': r2,\n",
    "        'RMSE': rmse,\n",
    "        'MAE': mae,\n",
    "        'MSE': mse\n",
    "    })\n",
    "    \n",
    "    print(f'Finished processing {fingerprint_type} fingerprints with optimized {model_name} model')\n",
    "\n",
    "# Convert the results to a DataFrame for analysis\n",
    "optimized_results_df = pd.DataFrame(optimized_results)\n",
    "optimized_results_df"
   ]
  },
  {
   "cell_type": "markdown",
   "metadata": {},
   "source": [
    "**SVR Regression Model Grid Search**\n",
    "\n",
    "- Best Parameters = {'C': 10, 'epsilon': 0.01, 'kernel': 'rbf'}\t"
   ]
  },
  {
   "cell_type": "code",
   "execution_count": 27,
   "metadata": {},
   "outputs": [
    {
     "data": {
      "image/png": "[encoded data removed]",
      "text/plain": [
       "<Figure size 1200x1000 with 4 Axes>"
      ]
     },
     "metadata": {},
     "output_type": "display_data"
    },
    {
     "data": {
      "image/png": "[encoded data removed]",
      "text/plain": [
       "<Figure size 1200x500 with 2 Axes>"
      ]
     },
     "metadata": {},
     "output_type": "display_data"
    }
   ],
   "source": [
    "import matplotlib.pyplot as plt\n",
    "import pandas as pd\n",
    "import numpy as np\n",
    "from sklearn.model_selection import train_test_split\n",
    "from sklearn.metrics import mean_squared_error\n",
    "from sklearn.svm import SVR\n",
    "\n",
    "# Define the dataframes and corresponding names\n",
    "dataframes = {\n",
    "    'Morgan': opv_df_morgan,\n",
    "    'MACCS': opv_df_maccs,\n",
    "    'Atom Pair': opv_df_atom_pair,\n",
    "    'FCFP': opv_df_fcfp\n",
    "}\n",
    "\n",
    "# Set up the plot for each fingerprint type using default SVR\n",
    "fig, axes = plt.subplots(2, 2, figsize=(12, 10))\n",
    "axes = axes.flatten()  # Flatten the 2x2 array of axes for easier iteration\n",
    "\n",
    "# Iterate over the dataframes and plot actual vs predicted for default SVR\n",
    "for idx, (fingerprint_name, df) in enumerate(dataframes.items()):\n",
    "    X = df.iloc[:, 8:]  \n",
    "    y = df[\"LUMO_calc\"] \n",
    "\n",
    "    # Split the data into training and testing sets\n",
    "    X_train, X_test, y_train, y_test = train_test_split(X, y, test_size=0.25, random_state=42)\n",
    "\n",
    "    # Define and train the default SVR model\n",
    "    svr_model = SVR()\n",
    "    svr_model.fit(X_train, y_train)\n",
    "\n",
    "    # Predict on the test set\n",
    "    y_pred = svr_model.predict(X_test)\n",
    "\n",
    "    # Calculate R² Score\n",
    "    r2_score = svr_model.score(X_test, y_test)\n",
    "\n",
    "    # Calculate RMSE and MAE\n",
    "    rmse = np.sqrt(mean_squared_error(y_test, y_pred))\n",
    "    mae = np.mean(np.abs(y_test - y_pred))\n",
    "\n",
    "    # Plot the actual vs predicted\n",
    "    axes[idx].scatter(y_test, y_pred, alpha=0.6)\n",
    "    axes[idx].plot([y.min(), y.max()], [y.min(), y.max()], color='red', linestyle='--')  # 45-degree line\n",
    "    axes[idx].set_title(f'{fingerprint_name} Fingerprint - R² Score: {r2_score:.2f}', fontsize=12, weight='bold', color='navy')\n",
    "    axes[idx].set_xlabel('Actual GAP_calib')\n",
    "    axes[idx].set_ylabel('Predicted GAP_calib')\n",
    "\n",
    "    # X and Y limits\n",
    "    axes[idx].set_xlim(-3.5, -5.5)\n",
    "    axes[idx].set_ylim(-3.5, -5.5)\n",
    "\n",
    "    # Add RMSE and MAE to the plot\n",
    "    axes[idx].text(-3.8, -5.15, f'RMSE: {rmse:.5f}', fontsize=10, color='black', weight='bold')\n",
    "    axes[idx].text(-3.8, -4.85, f'MAE: {mae:.5f}', fontsize=10, color='black', weight='bold')\n",
    "\n",
    "    # Draw a rectangle for the text background\n",
    "    axes[idx].add_patch(plt.Rectangle((-3.6, -4.4), 1.6, 0.8, fill=True, color='white', alpha=0.1))\n",
    "\n",
    "# Adjust layout for the main plot\n",
    "plt.tight_layout()\n",
    "plt.show()\n",
    "\n",
    "# Now, compare the default and optimized SVR models for Morgan fingerprint side-by-side\n",
    "# Set up the plot for Morgan fingerprint\n",
    "fig, (ax1, ax2) = plt.subplots(1, 2, figsize=(12, 5))\n",
    "\n",
    "# Default SVR Model\n",
    "X_morgan = opv_df_morgan.iloc[:, 8:]  # Features for Morgan fingerprint\n",
    "y_morgan = opv_df_morgan[\"LUMO_calc\"]  # Target for LUMO_calc\n",
    "\n",
    "X_train, X_test, y_train, y_test = train_test_split(X_morgan, y_morgan, test_size=0.2, random_state=42)\n",
    "\n",
    "# Default SVR model\n",
    "default_svr = SVR()\n",
    "default_svr.fit(X_train, y_train)\n",
    "y_pred_default = default_svr.predict(X_test)\n",
    "r2_default = default_svr.score(X_test, y_test)\n",
    "rmse_default = np.sqrt(mean_squared_error(y_test, y_pred_default))\n",
    "mae_default = np.mean(np.abs(y_test - y_pred_default))\n",
    "\n",
    "# Plot default model results\n",
    "ax1.scatter(y_test, y_pred_default, alpha=0.6)\n",
    "ax1.plot([y.min(), y.max()], [y.min(), y.max()], color='red', linestyle='--')\n",
    "ax1.set_title(f'Morgan Fingerprint - Default SVR\\nR² Score: {r2_default:.4f}', fontsize=12, weight='bold', color='navy')\n",
    "ax1.set_xlabel('Actual GAP_calib')\n",
    "ax1.set_ylabel('Predicted GAP_calib')\n",
    "ax1.set_xlim(-3.5, -5.5)\n",
    "ax1.set_ylim(-3.5, -5.5)\n",
    "ax1.text(-3.8, -5.15, f'RMSE: {rmse_default:.5f}', fontsize=10, color='black', weight='bold')\n",
    "ax1.text(-3.8, -4.85, f'MAE: {mae_default:.5f}', fontsize=10, color='black', weight='bold')\n",
    "\n",
    "# Optimized SVR Model\n",
    "optimized_svr = SVR(C=10, epsilon=0.01, kernel='rbf')\n",
    "optimized_svr.fit(X_train, y_train)\n",
    "y_pred_optimized = optimized_svr.predict(X_test)\n",
    "r2_optimized = optimized_svr.score(X_test, y_test)\n",
    "rmse_optimized = np.sqrt(mean_squared_error(y_test, y_pred_optimized))\n",
    "mae_optimized = np.mean(np.abs(y_test - y_pred_optimized))\n",
    "\n",
    "# Plot optimized model results\n",
    "ax2.scatter(y_test, y_pred_optimized, alpha=0.6)\n",
    "ax2.plot([y.min(), y.max()], [y.min(), y.max()], color='red', linestyle='--')\n",
    "ax2.set_title(f'Morgan Fingerprint - Optimized SVR\\nR² Score: {r2_optimized:.4f}', fontsize=12, weight='bold', color='navy')\n",
    "ax2.set_xlabel('Actual GAP_calib')\n",
    "ax2.set_ylabel('Predicted GAP_calib')\n",
    "ax2.set_xlim(-3.5, -5.5)\n",
    "ax2.set_ylim(-3.5, -5.5)\n",
    "ax2.text(-3.8, -5.15, f'RMSE: {rmse_optimized:.5f}', fontsize=10, color='black', weight='bold')\n",
    "ax2.text(-3.8, -4.85, f'MAE: {mae_optimized:.5f}', fontsize=10, color='black', weight='bold')\n",
    "\n",
    "# Adjust layout and show the plots\n",
    "plt.tight_layout()\n",
    "plt.show()"
   ]
  }
 ],
 "metadata": {
  "kernelspec": {
   "display_name": ".venv",
   "language": "python",
   "name": "python3"
  },
  "language_info": {
   "codemirror_mode": {
    "name": "ipython",
    "version": 3
   },
   "file_extension": ".py",
   "mimetype": "text/x-python",
   "name": "python",
   "nbconvert_exporter": "python",
   "pygments_lexer": "ipython3",
   "version": "3.11.5"
  }
 },
 "nbformat": 4,
 "nbformat_minor": 2
}
