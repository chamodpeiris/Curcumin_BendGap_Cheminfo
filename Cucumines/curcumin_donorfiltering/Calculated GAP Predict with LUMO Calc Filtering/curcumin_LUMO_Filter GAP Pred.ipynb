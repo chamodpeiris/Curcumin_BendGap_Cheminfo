{
 "cells": [
  {
   "cell_type": "code",
   "execution_count": 1,
   "metadata": {},
   "outputs": [
    {
     "name": "stdout",
     "output_type": "stream",
     "text": [
      "CPU times: total: 10.8 s\n",
      "Wall time: 13.1 s\n"
     ]
    }
   ],
   "source": [
    "%%time\n",
    "import pandas as pd\n",
    "import numpy as np\n",
    "from rdkit import Chem, DataStructs\n",
    "from rdkit.Chem import AllChem, MACCSkeys, Descriptors\n",
    "\n",
    "# Defining the SMILES strings for the cucumin varients\n",
    "curcumin_variants = (\n",
    "    \"COc3cc(OC)c(C/C=C/C2=CC(/C=C/Cc1c(OC)cc(OC)cc1OC)=[O+][B-](F)(F)O2)c(OC)c3\",\n",
    "    \"COc3ccc(C/C=C/C2=[O+][B-](F)(F)OC(/C=C/Cc1c(OC)cc(OC)cc1OC)=C2)cc3\",\n",
    "    \"COc3ccc(C/C=C/C2=CC(/C=C/Cc1ccc(OC)cc1OC)=[O+][B-](F)(F)O2)c(OC)c3\",\n",
    "    \"COc5ccc(C/C=C/C4=[O+][B-](F)(F)OC(/C=C/Cc2c1ccccc1cc3ccccc23)=C4)cc5\",\n",
    "    \"COc3ccc(OC)c(C/C=C/C2=CC(/C=C/Cc1cc(OC)ccc1OC)=[O+][B-](F)(F)O2)c3\",\n",
    "    \"COc3cc(C/C=C/C2=CC(/C=C/Cc1ccc(O)c(OC)c1)=[O+][B-](F)(F)O2)ccc3O\",\n",
    "    \"CN(C)c3ccc(C/C=C/C2=CC(/C=C/Cc1ccc(N(C)C)cc1)=[O+][B-](F)(F)O2)cc3\",\n",
    "    \"N#Cc3ccc(C/C=C/C2=[O+][B-](F)(F)OC(/C=C/Cc1ccccc1)=C2)cc3\",\n",
    "    \"COc6ccc(C/C=C/C5=CC(/C=C/Cc1cc2ccc3cccc4ccc(c1)c2c34)=[O+][B-](F)(F)O5)cc6\",\n",
    "    \"COc4ccc(C/C=C/C3=CC(/C=C/Cc1ccc(OC)c2ccccc12)=[O+][B-](F)(F)O3)c5ccccc45\",\n",
    "    \"CN(C)c4ccc(C/C=C/C3=CC(/C=C/Cc1ccc(N(C)C)c2ccccc12)=[O+][B-](F)(F)O3)c5ccccc45\",\n",
    "    \"CCCCN(CCCC)c3ccc(C/C=C/C2=CC(/C=C/Cc1ccc(N(CCCC)CCCC)cc1)=[O+][B-](F)(F)O2)cc3\",\n",
    "    \"COc3ccc(C/C=C/C2=CC(/C=C/Cc1ccc(C#N)cc1)=[O+][B-](F)(F)O2)cc3\",\n",
    "    \"CN5/C(=C\\C\\C=C\\C3=CC(/C=C/C/C=C/2N(C)c1ccccc1C2(C)C)=[O+][B-](F)(F)O3)C(C)(C)c4ccccc45\",\n",
    "    \"COc3ccc(C/C=C/C2=[O+][B-](F)(F)OC(/C=C/Cc1ccc(SC)cc1)=C2)cc3\",\n",
    "    \"CSc3ccc(C/C=C/C2=CC(/C=C/Cc1ccc(SC)cc1)=[O+][B-](F)(F)O2)cc3\",\n",
    "    \"COc3ccc(C/C=C/C2=CC(/C=C/Cc1ccc(N(C)C)cc1)=[O+][B-](F)(F)O2)cc3\",\n",
    "    \"COc1ccccc1C/C=C/C3=CC(/C=C/Cc2ccccc2OC)=[O+][B-](F)(F)O3\",\n",
    "    \"CCCCCC(CC)c5ccc(c4ccc(C/C=C/C3=CC(/C=C/Cc2ccc(c1ccc(C(CC)CCCCC)s1)s2)=[O+][B-](F)(F)O3)s4)s5\"\n",
    ")\n",
    "\n",
    "molecule_names = ['2-ADMeO3', '3-MR83a', 'AD-10', 'AD-1013', 'AD-1022', 'AD-11', 'AD-14-Moore', 'AD-16-DMF', 'AD-18', 'AD-24', 'AD-25', 'AD-35', 'AD-4', 'AD-48', 'AD-5', 'AD-6', 'AD-7', 'AD-9', 'YD-30']\n",
    "homo_lumo_gap = [3.077, 3.072, 3.259, 2.625, 2.938, 2.946, 2.811, 3.231, 2.735, 2.878, 2.686, 2.77, 3.001, 2.702, 2.97, 2.89, 2.859, 3.137, 2.525]\n",
    "\n",
    "molecules = [Chem.MolFromSmiles(smiles) for smiles in curcumin_variants]\n",
    "mws = [round(Descriptors.MolWt(mol),3) for mol in molecules]\n",
    "logp = [Descriptors.MolLogP(mol) for mol in molecules]\n",
    "\n",
    "# Create the initial DataFrame\n",
    "data = {\n",
    "    'Molecule': molecule_names,\n",
    "    'Molecular Weight': mws,\n",
    "    'LogP': logp,\n",
    "    'Homo-Lumo Gap (eV)': homo_lumo_gap,\n",
    "    'Smiles': curcumin_variants\n",
    "}\n",
    "curcumin_df = pd.DataFrame(data)\n",
    "curcumin_df['mol'] = curcumin_df['Smiles'].apply(Chem.MolFromSmiles)\n",
    "\n",
    "# Harvard OPV dataset import\n",
    "data = pd.read_csv('https://raw.githubusercontent.com/AjStephan/havard-smile-opv/main/Non-fullerene%20small-molecules%20acceptors.csv')\n",
    "opv_df = data.drop(columns=[\n",
    "    'index', 'inchikey', 'LUMO_calib_stds', 'HOMO_calib_stds',\n",
    "    'molW', 'PCE_calc', 'Voc_calc', 'Jsc_calc',\n",
    "    'FF_calc', 'EQE_calc', 'PCE_calib', 'Voc_calib', 'Jsc_calib', 'FF_calib',\n",
    "    'EQE_calib', 'PCE_cdiff', 'PCE_calib_plus'], axis=1)\n",
    "\n",
    "opv_df['mol'] = opv_df['smiles'].apply(Chem.MolFromSmiles)"
   ]
  },
  {
   "cell_type": "code",
   "execution_count": 2,
   "metadata": {},
   "outputs": [
    {
     "data": {
      "text/html": [
       "<div>\n",
       "<style scoped>\n",
       "    .dataframe tbody tr th:only-of-type {\n",
       "        vertical-align: middle;\n",
       "    }\n",
       "\n",
       "    .dataframe tbody tr th {\n",
       "        vertical-align: top;\n",
       "    }\n",
       "\n",
       "    .dataframe thead th {\n",
       "        text-align: right;\n",
       "    }\n",
       "</style>\n",
       "<table border=\"1\" class=\"dataframe\">\n",
       "  <thead>\n",
       "    <tr style=\"text-align: right;\">\n",
       "      <th></th>\n",
       "      <th>smiles</th>\n",
       "      <th>HOMO_calc</th>\n",
       "      <th>LUMO_calc</th>\n",
       "      <th>LUMO_calib</th>\n",
       "      <th>HOMO_calib</th>\n",
       "      <th>GAP_calib</th>\n",
       "      <th>GAP_calc</th>\n",
       "      <th>mol</th>\n",
       "    </tr>\n",
       "  </thead>\n",
       "  <tbody>\n",
       "    <tr>\n",
       "      <th>0</th>\n",
       "      <td>CN1C(=O)C2=C(C3=C(C#N)C(=C(C#N)C#N)SC3=O)N(C)C...</td>\n",
       "      <td>-6.884480</td>\n",
       "      <td>-5.415066</td>\n",
       "      <td>-5.785082</td>\n",
       "      <td>-6.877951</td>\n",
       "      <td>1.092869</td>\n",
       "      <td>1.469415</td>\n",
       "      <td>&lt;rdkit.Chem.rdchem.Mol object at 0x000001C2225...</td>\n",
       "    </tr>\n",
       "    <tr>\n",
       "      <th>1</th>\n",
       "      <td>N#CC(C#N)=C1SC(=O)C(c2cnc(C3=C(C#N)C(=C(C#N)C#...</td>\n",
       "      <td>-7.972936</td>\n",
       "      <td>-5.351299</td>\n",
       "      <td>-5.658418</td>\n",
       "      <td>-8.008956</td>\n",
       "      <td>2.350538</td>\n",
       "      <td>2.621637</td>\n",
       "      <td>&lt;rdkit.Chem.rdchem.Mol object at 0x000001C2225...</td>\n",
       "    </tr>\n",
       "    <tr>\n",
       "      <th>2</th>\n",
       "      <td>O=C(O)c1noc(-c2c3c(c(-c4onc(C(=O)O)c4C(=O)O)c4...</td>\n",
       "      <td>-7.091046</td>\n",
       "      <td>-5.349517</td>\n",
       "      <td>-5.779633</td>\n",
       "      <td>-7.231863</td>\n",
       "      <td>1.452230</td>\n",
       "      <td>1.741529</td>\n",
       "      <td>&lt;rdkit.Chem.rdchem.Mol object at 0x000001C220B...</td>\n",
       "    </tr>\n",
       "    <tr>\n",
       "      <th>3</th>\n",
       "      <td>N#CC(C#N)=C1C=C(C(=O)O)OC(c2c3c(c(C4=CC(=C(C#N...</td>\n",
       "      <td>-6.754826</td>\n",
       "      <td>-5.224586</td>\n",
       "      <td>-5.484103</td>\n",
       "      <td>-6.830958</td>\n",
       "      <td>1.346855</td>\n",
       "      <td>1.530241</td>\n",
       "      <td>&lt;rdkit.Chem.rdchem.Mol object at 0x000001C2223...</td>\n",
       "    </tr>\n",
       "    <tr>\n",
       "      <th>4</th>\n",
       "      <td>N#Cc1noc(-c2c3c(c(-c4onc(C#N)c4C(=O)O)c4cscc24...</td>\n",
       "      <td>-6.993326</td>\n",
       "      <td>-5.185199</td>\n",
       "      <td>-5.519700</td>\n",
       "      <td>-7.083920</td>\n",
       "      <td>1.564220</td>\n",
       "      <td>1.808127</td>\n",
       "      <td>&lt;rdkit.Chem.rdchem.Mol object at 0x000001C220B...</td>\n",
       "    </tr>\n",
       "    <tr>\n",
       "      <th>...</th>\n",
       "      <td>...</td>\n",
       "      <td>...</td>\n",
       "      <td>...</td>\n",
       "      <td>...</td>\n",
       "      <td>...</td>\n",
       "      <td>...</td>\n",
       "      <td>...</td>\n",
       "      <td>...</td>\n",
       "    </tr>\n",
       "    <tr>\n",
       "      <th>12717</th>\n",
       "      <td>CN1C(=O)C(=Cc2nc3ccc(-c4cocc4C(=O)c4ccc(C(F)(F...</td>\n",
       "      <td>-6.654575</td>\n",
       "      <td>-3.500147</td>\n",
       "      <td>-3.991776</td>\n",
       "      <td>-6.753528</td>\n",
       "      <td>2.761752</td>\n",
       "      <td>3.154428</td>\n",
       "      <td>&lt;rdkit.Chem.rdchem.Mol object at 0x000001C220A...</td>\n",
       "    </tr>\n",
       "    <tr>\n",
       "      <th>12718</th>\n",
       "      <td>CN1C(=O)C(=Cc2ncc(-c3ccnc(-c4c5ccsc5nc5sc(F)c(...</td>\n",
       "      <td>-6.205515</td>\n",
       "      <td>-3.500108</td>\n",
       "      <td>-4.002464</td>\n",
       "      <td>-6.292875</td>\n",
       "      <td>2.290410</td>\n",
       "      <td>2.705406</td>\n",
       "      <td>&lt;rdkit.Chem.rdchem.Mol object at 0x000001C2695...</td>\n",
       "    </tr>\n",
       "    <tr>\n",
       "      <th>12719</th>\n",
       "      <td>CN1C(=O)C(=Cc2nccc(C=CC(=O)C=Cc3ccnc(C=C4SC(=S...</td>\n",
       "      <td>-6.304187</td>\n",
       "      <td>-3.500102</td>\n",
       "      <td>-3.838015</td>\n",
       "      <td>-6.314939</td>\n",
       "      <td>2.476924</td>\n",
       "      <td>2.804085</td>\n",
       "      <td>&lt;rdkit.Chem.rdchem.Mol object at 0x000001C220B...</td>\n",
       "    </tr>\n",
       "    <tr>\n",
       "      <th>12720</th>\n",
       "      <td>CN1C(=O)C(=Cc2onc(-c3ncnc([SiH]4C=C5OCCOC5=C4)...</td>\n",
       "      <td>-6.185529</td>\n",
       "      <td>-3.500038</td>\n",
       "      <td>-4.152998</td>\n",
       "      <td>-6.280591</td>\n",
       "      <td>2.127593</td>\n",
       "      <td>2.685491</td>\n",
       "      <td>&lt;rdkit.Chem.rdchem.Mol object at 0x000001C220A...</td>\n",
       "    </tr>\n",
       "    <tr>\n",
       "      <th>12721</th>\n",
       "      <td>CN1C(=O)C(=CC(=C(c2ccc(C(=O)O)cc2)c2cnc(-c3cnc...</td>\n",
       "      <td>-6.523969</td>\n",
       "      <td>-3.500005</td>\n",
       "      <td>-3.990842</td>\n",
       "      <td>-6.571124</td>\n",
       "      <td>2.580281</td>\n",
       "      <td>3.023964</td>\n",
       "      <td>&lt;rdkit.Chem.rdchem.Mol object at 0x000001C2695...</td>\n",
       "    </tr>\n",
       "  </tbody>\n",
       "</table>\n",
       "<p>12722 rows × 8 columns</p>\n",
       "</div>"
      ],
      "text/plain": [
       "                                                  smiles  HOMO_calc  \\\n",
       "0      CN1C(=O)C2=C(C3=C(C#N)C(=C(C#N)C#N)SC3=O)N(C)C...  -6.884480   \n",
       "1      N#CC(C#N)=C1SC(=O)C(c2cnc(C3=C(C#N)C(=C(C#N)C#...  -7.972936   \n",
       "2      O=C(O)c1noc(-c2c3c(c(-c4onc(C(=O)O)c4C(=O)O)c4...  -7.091046   \n",
       "3      N#CC(C#N)=C1C=C(C(=O)O)OC(c2c3c(c(C4=CC(=C(C#N...  -6.754826   \n",
       "4      N#Cc1noc(-c2c3c(c(-c4onc(C#N)c4C(=O)O)c4cscc24...  -6.993326   \n",
       "...                                                  ...        ...   \n",
       "12717  CN1C(=O)C(=Cc2nc3ccc(-c4cocc4C(=O)c4ccc(C(F)(F...  -6.654575   \n",
       "12718  CN1C(=O)C(=Cc2ncc(-c3ccnc(-c4c5ccsc5nc5sc(F)c(...  -6.205515   \n",
       "12719  CN1C(=O)C(=Cc2nccc(C=CC(=O)C=Cc3ccnc(C=C4SC(=S...  -6.304187   \n",
       "12720  CN1C(=O)C(=Cc2onc(-c3ncnc([SiH]4C=C5OCCOC5=C4)...  -6.185529   \n",
       "12721  CN1C(=O)C(=CC(=C(c2ccc(C(=O)O)cc2)c2cnc(-c3cnc...  -6.523969   \n",
       "\n",
       "       LUMO_calc  LUMO_calib  HOMO_calib  GAP_calib  GAP_calc  \\\n",
       "0      -5.415066   -5.785082   -6.877951   1.092869  1.469415   \n",
       "1      -5.351299   -5.658418   -8.008956   2.350538  2.621637   \n",
       "2      -5.349517   -5.779633   -7.231863   1.452230  1.741529   \n",
       "3      -5.224586   -5.484103   -6.830958   1.346855  1.530241   \n",
       "4      -5.185199   -5.519700   -7.083920   1.564220  1.808127   \n",
       "...          ...         ...         ...        ...       ...   \n",
       "12717  -3.500147   -3.991776   -6.753528   2.761752  3.154428   \n",
       "12718  -3.500108   -4.002464   -6.292875   2.290410  2.705406   \n",
       "12719  -3.500102   -3.838015   -6.314939   2.476924  2.804085   \n",
       "12720  -3.500038   -4.152998   -6.280591   2.127593  2.685491   \n",
       "12721  -3.500005   -3.990842   -6.571124   2.580281  3.023964   \n",
       "\n",
       "                                                     mol  \n",
       "0      <rdkit.Chem.rdchem.Mol object at 0x000001C2225...  \n",
       "1      <rdkit.Chem.rdchem.Mol object at 0x000001C2225...  \n",
       "2      <rdkit.Chem.rdchem.Mol object at 0x000001C220B...  \n",
       "3      <rdkit.Chem.rdchem.Mol object at 0x000001C2223...  \n",
       "4      <rdkit.Chem.rdchem.Mol object at 0x000001C220B...  \n",
       "...                                                  ...  \n",
       "12717  <rdkit.Chem.rdchem.Mol object at 0x000001C220A...  \n",
       "12718  <rdkit.Chem.rdchem.Mol object at 0x000001C2695...  \n",
       "12719  <rdkit.Chem.rdchem.Mol object at 0x000001C220B...  \n",
       "12720  <rdkit.Chem.rdchem.Mol object at 0x000001C220A...  \n",
       "12721  <rdkit.Chem.rdchem.Mol object at 0x000001C2695...  \n",
       "\n",
       "[12722 rows x 8 columns]"
      ]
     },
     "execution_count": 2,
     "metadata": {},
     "output_type": "execute_result"
    }
   ],
   "source": [
    "opv_df_sorted = opv_df.sort_values(by='LUMO_calc')\n",
    "opv_df_filtered = opv_df_sorted[opv_df_sorted['LUMO_calc'] <= -3.5]\n",
    "opv_df_filtered.reset_index(drop=True, inplace=True)\n",
    "opv_df_filtered"
   ]
  },
  {
   "cell_type": "code",
   "execution_count": 3,
   "metadata": {},
   "outputs": [
    {
     "name": "stdout",
     "output_type": "stream",
     "text": [
      "Finished processing morgan fingerprints\n",
      "Finished processing maccs fingerprints\n",
      "Finished processing atom_pair fingerprints\n",
      "Finished processing fcfp fingerprints\n",
      "CPU times: total: 53.7 s\n",
      "Wall time: 55.6 s\n"
     ]
    }
   ],
   "source": [
    "%%time\n",
    "import pandas as pd\n",
    "from rdkit import Chem\n",
    "from rdkit.Chem import AllChem, MACCSkeys, rdMolDescriptors\n",
    "from rdkit.DataStructs import ExplicitBitVect\n",
    "import numpy as np\n",
    "\n",
    "# Functions to generate fingerprints\n",
    "def generate_morgan_fingerprint(mol, radius=2, nBits=2048):\n",
    "    return AllChem.GetMorganFingerprintAsBitVect(mol, radius, nBits=nBits)\n",
    "\n",
    "def generate_maccs166_fingerprint(mol):\n",
    "    return MACCSkeys.GenMACCSKeys(mol)\n",
    "\n",
    "def generate_atom_pair_fingerprint(mol, nBits=2048):\n",
    "    fp = rdMolDescriptors.GetAtomPairFingerprint(mol)\n",
    "    return convert_to_bit_vector(fp, nBits)\n",
    "\n",
    "def generate_fcfp_fingerprint(mol, radius=2, nBits=2048):\n",
    "    return AllChem.GetMorganFingerprintAsBitVect(mol, radius, nBits=nBits, useFeatures=True)\n",
    "\n",
    "# Convert any fingerprint to a bit vector\n",
    "def convert_to_bit_vector(fp, nBits=2048):\n",
    "    bit_vector = ExplicitBitVect(nBits)\n",
    "    for bit in fp.GetNonzeroElements().keys():\n",
    "        bit_vector.SetBit(bit % nBits)\n",
    "    return bit_vector\n",
    "\n",
    "# Function to add fingerprint to dataframe\n",
    "def add_fingerprint_to_df(df, fingerprint_func, fp_name):\n",
    "    df[fp_name] = df['mol'].apply(fingerprint_func)\n",
    "    return df\n",
    "\n",
    "# Function to split fingerprints into separate bit columns\n",
    "def split_fingerprint_bits(df, fp_column, prefix):\n",
    "    bit_array = np.array([list(fp) for fp in df[fp_column].values])\n",
    "    bit_columns = pd.DataFrame(bit_array, columns=[f'{prefix}_{i}' for i in range(bit_array.shape[1])])\n",
    "    df = pd.concat([df.drop(columns=[fp_column]), bit_columns], axis=1)\n",
    "    return df\n",
    "\n",
    "# Assuming opv_df is already defined and 'mol' column has been created\n",
    "# List of fingerprint generation functions and names\n",
    "fingerprint_functions = [\n",
    "    (generate_morgan_fingerprint, 'morgan_fp', 'morgan'),\n",
    "    (generate_maccs166_fingerprint, 'maccs_fp', 'maccs'),\n",
    "    (generate_atom_pair_fingerprint, 'atom_pair_fp', 'atom_pair'),\n",
    "    (generate_fcfp_fingerprint, 'fcfp_fp', 'fcfp')\n",
    "]\n",
    "\n",
    "# List to store resulting dataframes\n",
    "resulting_dfs = []\n",
    "\n",
    "# Generate and store dataframes with fingerprints\n",
    "for fp_func, fp_name, prefix in fingerprint_functions:\n",
    "    df_copy = opv_df_filtered.copy()\n",
    "    df_copy = add_fingerprint_to_df(df_copy, fp_func, fp_name)\n",
    "    df_copy = split_fingerprint_bits(df_copy, fp_name, prefix)\n",
    "    resulting_dfs.append(df_copy)\n",
    "    print(f'Finished processing {prefix} fingerprints')\n",
    "\n",
    "# The resulting_dfs list now contains your four dataframes with split fingerprint columns\n",
    "opv_df_morgan = resulting_dfs[0]\n",
    "opv_df_maccs = resulting_dfs[1]\n",
    "opv_df_atom_pair = resulting_dfs[2]\n",
    "opv_df_fcfp = resulting_dfs[3]"
   ]
  },
  {
   "cell_type": "code",
   "execution_count": 4,
   "metadata": {},
   "outputs": [
    {
     "data": {
      "text/plain": [
       "(12722, 2056)"
      ]
     },
     "execution_count": 4,
     "metadata": {},
     "output_type": "execute_result"
    }
   ],
   "source": [
    "opv_df_morgan.shape"
   ]
  },
  {
   "cell_type": "code",
   "execution_count": 5,
   "metadata": {},
   "outputs": [
    {
     "name": "stdout",
     "output_type": "stream",
     "text": [
      "Finished processing Morgan fingerprints with Bayesian Ridge model:\n",
      "Finished processing Morgan fingerprints with KNN Regressor model:\n",
      "[LightGBM] [Info] Auto-choosing row-wise multi-threading, the overhead of testing was 0.009333 seconds.\n",
      "You can set `force_row_wise=true` to remove the overhead.\n",
      "And if memory is not enough, you can set `force_col_wise=true`.\n",
      "[LightGBM] [Info] Total Bins 2290\n",
      "[LightGBM] [Info] Number of data points in the train set: 9541, number of used features: 1145\n",
      "[LightGBM] [Info] Start training from score 2.700884\n",
      "Finished processing Morgan fingerprints with LightGBM model:\n",
      "Finished processing Morgan fingerprints with Ridge Regression model:\n",
      "Finished processing Morgan fingerprints with Decision Tree model:\n",
      "Finished processing Morgan fingerprints\n",
      "Finished processing MACCS fingerprints with Bayesian Ridge model:\n",
      "Finished processing MACCS fingerprints with KNN Regressor model:\n",
      "[LightGBM] [Info] Auto-choosing row-wise multi-threading, the overhead of testing was 0.000712 seconds.\n",
      "You can set `force_row_wise=true` to remove the overhead.\n",
      "And if memory is not enough, you can set `force_col_wise=true`.\n",
      "[LightGBM] [Info] Total Bins 204\n",
      "[LightGBM] [Info] Number of data points in the train set: 9541, number of used features: 102\n",
      "[LightGBM] [Info] Start training from score 2.700884\n",
      "Finished processing MACCS fingerprints with LightGBM model:\n",
      "Finished processing MACCS fingerprints with Ridge Regression model:\n",
      "Finished processing MACCS fingerprints with Decision Tree model:\n",
      "Finished processing MACCS fingerprints\n",
      "Finished processing Atom Pair fingerprints with Bayesian Ridge model:\n",
      "Finished processing Atom Pair fingerprints with KNN Regressor model:\n",
      "[LightGBM] [Info] Auto-choosing row-wise multi-threading, the overhead of testing was 0.002948 seconds.\n",
      "You can set `force_row_wise=true` to remove the overhead.\n",
      "And if memory is not enough, you can set `force_col_wise=true`.\n",
      "[LightGBM] [Info] Total Bins 580\n",
      "[LightGBM] [Info] Number of data points in the train set: 9541, number of used features: 290\n",
      "[LightGBM] [Info] Start training from score 2.700884\n",
      "Finished processing Atom Pair fingerprints with LightGBM model:\n",
      "Finished processing Atom Pair fingerprints with Ridge Regression model:\n",
      "Finished processing Atom Pair fingerprints with Decision Tree model:\n",
      "Finished processing Atom Pair fingerprints\n",
      "Finished processing FCFP fingerprints with Bayesian Ridge model:\n",
      "Finished processing FCFP fingerprints with KNN Regressor model:\n",
      "[LightGBM] [Info] Auto-choosing row-wise multi-threading, the overhead of testing was 0.006043 seconds.\n",
      "You can set `force_row_wise=true` to remove the overhead.\n",
      "And if memory is not enough, you can set `force_col_wise=true`.\n",
      "[LightGBM] [Info] Total Bins 1322\n",
      "[LightGBM] [Info] Number of data points in the train set: 9541, number of used features: 661\n",
      "[LightGBM] [Info] Start training from score 2.700884\n",
      "Finished processing FCFP fingerprints with LightGBM model:\n",
      "Finished processing FCFP fingerprints with Ridge Regression model:\n",
      "Finished processing FCFP fingerprints with Decision Tree model:\n",
      "Finished processing FCFP fingerprints\n",
      "CPU times: total: 52 s\n",
      "Wall time: 23.7 s\n"
     ]
    },
    {
     "data": {
      "text/html": [
       "<div>\n",
       "<style scoped>\n",
       "    .dataframe tbody tr th:only-of-type {\n",
       "        vertical-align: middle;\n",
       "    }\n",
       "\n",
       "    .dataframe tbody tr th {\n",
       "        vertical-align: top;\n",
       "    }\n",
       "\n",
       "    .dataframe thead th {\n",
       "        text-align: right;\n",
       "    }\n",
       "</style>\n",
       "<table border=\"1\" class=\"dataframe\">\n",
       "  <thead>\n",
       "    <tr style=\"text-align: right;\">\n",
       "      <th></th>\n",
       "      <th>Fingerprint Type</th>\n",
       "      <th>Regression Model</th>\n",
       "      <th>R² Score</th>\n",
       "      <th>RMSE</th>\n",
       "      <th>MAE</th>\n",
       "      <th>MSE</th>\n",
       "    </tr>\n",
       "  </thead>\n",
       "  <tbody>\n",
       "    <tr>\n",
       "      <th>0</th>\n",
       "      <td>Morgan</td>\n",
       "      <td>Bayesian Ridge</td>\n",
       "      <td>0.771279</td>\n",
       "      <td>0.285303</td>\n",
       "      <td>0.147993</td>\n",
       "      <td>0.081398</td>\n",
       "    </tr>\n",
       "    <tr>\n",
       "      <th>1</th>\n",
       "      <td>Morgan</td>\n",
       "      <td>KNN Regressor</td>\n",
       "      <td>0.710754</td>\n",
       "      <td>0.320839</td>\n",
       "      <td>0.165786</td>\n",
       "      <td>0.102938</td>\n",
       "    </tr>\n",
       "    <tr>\n",
       "      <th>2</th>\n",
       "      <td>Morgan</td>\n",
       "      <td>LightGBM</td>\n",
       "      <td>0.800350</td>\n",
       "      <td>0.266556</td>\n",
       "      <td>0.123674</td>\n",
       "      <td>0.071052</td>\n",
       "    </tr>\n",
       "    <tr>\n",
       "      <th>3</th>\n",
       "      <td>Morgan</td>\n",
       "      <td>Ridge Regression</td>\n",
       "      <td>0.772076</td>\n",
       "      <td>0.284806</td>\n",
       "      <td>0.147027</td>\n",
       "      <td>0.081114</td>\n",
       "    </tr>\n",
       "    <tr>\n",
       "      <th>4</th>\n",
       "      <td>Morgan</td>\n",
       "      <td>Decision Tree</td>\n",
       "      <td>0.751522</td>\n",
       "      <td>0.297370</td>\n",
       "      <td>0.143728</td>\n",
       "      <td>0.088429</td>\n",
       "    </tr>\n",
       "    <tr>\n",
       "      <th>5</th>\n",
       "      <td>MACCS</td>\n",
       "      <td>Bayesian Ridge</td>\n",
       "      <td>0.577105</td>\n",
       "      <td>0.387945</td>\n",
       "      <td>0.260165</td>\n",
       "      <td>0.150501</td>\n",
       "    </tr>\n",
       "    <tr>\n",
       "      <th>6</th>\n",
       "      <td>MACCS</td>\n",
       "      <td>KNN Regressor</td>\n",
       "      <td>0.658628</td>\n",
       "      <td>0.348552</td>\n",
       "      <td>0.207706</td>\n",
       "      <td>0.121488</td>\n",
       "    </tr>\n",
       "    <tr>\n",
       "      <th>7</th>\n",
       "      <td>MACCS</td>\n",
       "      <td>LightGBM</td>\n",
       "      <td>0.708941</td>\n",
       "      <td>0.321843</td>\n",
       "      <td>0.189376</td>\n",
       "      <td>0.103583</td>\n",
       "    </tr>\n",
       "    <tr>\n",
       "      <th>8</th>\n",
       "      <td>MACCS</td>\n",
       "      <td>Ridge Regression</td>\n",
       "      <td>0.577384</td>\n",
       "      <td>0.387817</td>\n",
       "      <td>0.260114</td>\n",
       "      <td>0.150402</td>\n",
       "    </tr>\n",
       "    <tr>\n",
       "      <th>9</th>\n",
       "      <td>MACCS</td>\n",
       "      <td>Decision Tree</td>\n",
       "      <td>0.707032</td>\n",
       "      <td>0.322896</td>\n",
       "      <td>0.186606</td>\n",
       "      <td>0.104262</td>\n",
       "    </tr>\n",
       "    <tr>\n",
       "      <th>10</th>\n",
       "      <td>Atom Pair</td>\n",
       "      <td>Bayesian Ridge</td>\n",
       "      <td>0.392219</td>\n",
       "      <td>0.465079</td>\n",
       "      <td>0.327447</td>\n",
       "      <td>0.216299</td>\n",
       "    </tr>\n",
       "    <tr>\n",
       "      <th>11</th>\n",
       "      <td>Atom Pair</td>\n",
       "      <td>KNN Regressor</td>\n",
       "      <td>0.516230</td>\n",
       "      <td>0.414928</td>\n",
       "      <td>0.256831</td>\n",
       "      <td>0.172165</td>\n",
       "    </tr>\n",
       "    <tr>\n",
       "      <th>12</th>\n",
       "      <td>Atom Pair</td>\n",
       "      <td>LightGBM</td>\n",
       "      <td>0.616663</td>\n",
       "      <td>0.369355</td>\n",
       "      <td>0.230300</td>\n",
       "      <td>0.136423</td>\n",
       "    </tr>\n",
       "    <tr>\n",
       "      <th>13</th>\n",
       "      <td>Atom Pair</td>\n",
       "      <td>Ridge Regression</td>\n",
       "      <td>0.390368</td>\n",
       "      <td>0.465787</td>\n",
       "      <td>0.328047</td>\n",
       "      <td>0.216957</td>\n",
       "    </tr>\n",
       "    <tr>\n",
       "      <th>14</th>\n",
       "      <td>Atom Pair</td>\n",
       "      <td>Decision Tree</td>\n",
       "      <td>0.459474</td>\n",
       "      <td>0.438593</td>\n",
       "      <td>0.231409</td>\n",
       "      <td>0.192364</td>\n",
       "    </tr>\n",
       "    <tr>\n",
       "      <th>15</th>\n",
       "      <td>FCFP</td>\n",
       "      <td>Bayesian Ridge</td>\n",
       "      <td>0.755267</td>\n",
       "      <td>0.295121</td>\n",
       "      <td>0.162947</td>\n",
       "      <td>0.087096</td>\n",
       "    </tr>\n",
       "    <tr>\n",
       "      <th>16</th>\n",
       "      <td>FCFP</td>\n",
       "      <td>KNN Regressor</td>\n",
       "      <td>0.740263</td>\n",
       "      <td>0.304033</td>\n",
       "      <td>0.155232</td>\n",
       "      <td>0.092436</td>\n",
       "    </tr>\n",
       "    <tr>\n",
       "      <th>17</th>\n",
       "      <td>FCFP</td>\n",
       "      <td>LightGBM</td>\n",
       "      <td>0.798518</td>\n",
       "      <td>0.267776</td>\n",
       "      <td>0.129921</td>\n",
       "      <td>0.071704</td>\n",
       "    </tr>\n",
       "    <tr>\n",
       "      <th>18</th>\n",
       "      <td>FCFP</td>\n",
       "      <td>Ridge Regression</td>\n",
       "      <td>0.756359</td>\n",
       "      <td>0.294462</td>\n",
       "      <td>0.162344</td>\n",
       "      <td>0.086708</td>\n",
       "    </tr>\n",
       "    <tr>\n",
       "      <th>19</th>\n",
       "      <td>FCFP</td>\n",
       "      <td>Decision Tree</td>\n",
       "      <td>0.729467</td>\n",
       "      <td>0.310287</td>\n",
       "      <td>0.148913</td>\n",
       "      <td>0.096278</td>\n",
       "    </tr>\n",
       "  </tbody>\n",
       "</table>\n",
       "</div>"
      ],
      "text/plain": [
       "   Fingerprint Type  Regression Model  R² Score      RMSE       MAE       MSE\n",
       "0            Morgan    Bayesian Ridge  0.771279  0.285303  0.147993  0.081398\n",
       "1            Morgan     KNN Regressor  0.710754  0.320839  0.165786  0.102938\n",
       "2            Morgan          LightGBM  0.800350  0.266556  0.123674  0.071052\n",
       "3            Morgan  Ridge Regression  0.772076  0.284806  0.147027  0.081114\n",
       "4            Morgan     Decision Tree  0.751522  0.297370  0.143728  0.088429\n",
       "5             MACCS    Bayesian Ridge  0.577105  0.387945  0.260165  0.150501\n",
       "6             MACCS     KNN Regressor  0.658628  0.348552  0.207706  0.121488\n",
       "7             MACCS          LightGBM  0.708941  0.321843  0.189376  0.103583\n",
       "8             MACCS  Ridge Regression  0.577384  0.387817  0.260114  0.150402\n",
       "9             MACCS     Decision Tree  0.707032  0.322896  0.186606  0.104262\n",
       "10        Atom Pair    Bayesian Ridge  0.392219  0.465079  0.327447  0.216299\n",
       "11        Atom Pair     KNN Regressor  0.516230  0.414928  0.256831  0.172165\n",
       "12        Atom Pair          LightGBM  0.616663  0.369355  0.230300  0.136423\n",
       "13        Atom Pair  Ridge Regression  0.390368  0.465787  0.328047  0.216957\n",
       "14        Atom Pair     Decision Tree  0.459474  0.438593  0.231409  0.192364\n",
       "15             FCFP    Bayesian Ridge  0.755267  0.295121  0.162947  0.087096\n",
       "16             FCFP     KNN Regressor  0.740263  0.304033  0.155232  0.092436\n",
       "17             FCFP          LightGBM  0.798518  0.267776  0.129921  0.071704\n",
       "18             FCFP  Ridge Regression  0.756359  0.294462  0.162344  0.086708\n",
       "19             FCFP     Decision Tree  0.729467  0.310287  0.148913  0.096278"
      ]
     },
     "execution_count": 5,
     "metadata": {},
     "output_type": "execute_result"
    }
   ],
   "source": [
    "%%time\n",
    "import pandas as pd\n",
    "from sklearn.model_selection import train_test_split\n",
    "from sklearn.metrics import r2_score, mean_squared_error, mean_absolute_error\n",
    "from lightgbm import LGBMRegressor\n",
    "from sklearn.linear_model import BayesianRidge, LinearRegression, Ridge\n",
    "from sklearn.neighbors import KNeighborsRegressor\n",
    "from sklearn.tree import DecisionTreeRegressor\n",
    "import numpy as np\n",
    "\n",
    "models = {\n",
    "    'Bayesian Ridge': BayesianRidge(),\n",
    "    'KNN Regressor': KNeighborsRegressor(),\n",
    "    'LightGBM': LGBMRegressor(),\n",
    "    'Ridge Regression': Ridge(),\n",
    "    'Decision Tree': DecisionTreeRegressor()\n",
    "}\n",
    "\n",
    "results = []\n",
    "\n",
    "for i, df in enumerate([opv_df_morgan, opv_df_maccs, opv_df_atom_pair, opv_df_fcfp]):\n",
    "    fingerprint_type = ['Morgan', 'MACCS', 'Atom Pair', 'FCFP'][i]\n",
    "    \n",
    "    X = df.iloc[:,8:]  \n",
    "    y = df[\"GAP_calc\"] \n",
    "    \n",
    "    X_train, X_test, y_train, y_test = train_test_split(X, y, test_size=0.25, random_state=42)\n",
    "    \n",
    "    for model_name, model in models.items():\n",
    "        model.fit(X_train, y_train)\n",
    "        y_pred = model.predict(X_test)\n",
    "        \n",
    "        r2 = r2_score(y_test, y_pred)\n",
    "        rmse = np.sqrt(mean_squared_error(y_test, y_pred))\n",
    "        mae = mean_absolute_error(y_test, y_pred)\n",
    "        mse = mean_squared_error(y_test, y_pred)\n",
    "\n",
    "        print(f'Finished processing {fingerprint_type} fingerprints with {model_name} model:')\n",
    "        \n",
    "        results.append({\n",
    "            'Fingerprint Type': fingerprint_type,\n",
    "            'Regression Model': model_name,\n",
    "            'R² Score': r2,\n",
    "            'RMSE': rmse,\n",
    "            'MAE': mae,\n",
    "            'MSE': mse\n",
    "        })\n",
    "    print(f'Finished processing {fingerprint_type} fingerprints')\n",
    "\n",
    "results_df = pd.DataFrame(results)\n",
    "results_df"
   ]
  },
  {
   "cell_type": "code",
   "execution_count": 6,
   "metadata": {},
   "outputs": [
    {
     "data": {
      "application/vnd.plotly.v1+json": {
       "config": {
        "plotlyServerURL": "https://plot.ly"
       },
       "data": [
        {
         "marker": {
          "color": "#1f77b4"
         },
         "name": "Morgan",
         "text": [
          "0.77128",
          "0.71075",
          "0.80035",
          "0.77208",
          "0.75152"
         ],
         "textposition": "inside",
         "type": "bar",
         "x": [
          "Bayesian Ridge",
          "KNN Regressor",
          "LightGBM",
          "Ridge Regression",
          "Decision Tree"
         ],
         "y": [
          0.7712790592244303,
          0.7107538608902297,
          0.8003499711271453,
          0.7720756995068658,
          0.7515216526479968
         ]
        },
        {
         "marker": {
          "color": "#ff7f0e"
         },
         "name": "MACCS",
         "text": [
          "0.57710",
          "0.65863",
          "0.70894",
          "0.57738",
          "0.70703"
         ],
         "textposition": "inside",
         "type": "bar",
         "x": [
          "Bayesian Ridge",
          "KNN Regressor",
          "LightGBM",
          "Ridge Regression",
          "Decision Tree"
         ],
         "y": [
          0.5771045961865915,
          0.6586275977082694,
          0.7089412461102573,
          0.577383703789488,
          0.7070322874653222
         ]
        },
        {
         "marker": {
          "color": "#2ca02c"
         },
         "name": "Atom Pair",
         "text": [
          "0.39222",
          "0.51623",
          "0.61666",
          "0.39037",
          "0.45947"
         ],
         "textposition": "inside",
         "type": "bar",
         "x": [
          "Bayesian Ridge",
          "KNN Regressor",
          "LightGBM",
          "Ridge Regression",
          "Decision Tree"
         ],
         "y": [
          0.39221868420264894,
          0.516230076458098,
          0.6166626873919896,
          0.39036805857779355,
          0.45947384445204587
         ]
        },
        {
         "marker": {
          "color": "#d62728"
         },
         "name": "FCFP",
         "text": [
          "0.75527",
          "0.74026",
          "0.79852",
          "0.75636",
          "0.72947"
         ],
         "textposition": "inside",
         "type": "bar",
         "x": [
          "Bayesian Ridge",
          "KNN Regressor",
          "LightGBM",
          "Ridge Regression",
          "Decision Tree"
         ],
         "y": [
          0.7552670587490582,
          0.7402625659400226,
          0.7985183097417099,
          0.7563588253004824,
          0.7294666965051848
         ]
        }
       ],
       "layout": {
        "annotations": [
         {
          "arrowhead": 2,
          "ax": -150,
          "ay": -50,
          "bordercolor": "black",
          "borderwidth": 1,
          "showarrow": true,
          "text": "Best: LightGBM (Morgan)<br>R² Score: 0.80035",
          "x": "LightGBM",
          "y": 0.8003499711271453
         }
        ],
        "barmode": "group",
        "legend": {
         "orientation": "h",
         "title": {
          "text": "Fingerprint Type"
         },
         "x": 0.5,
         "xanchor": "center",
         "y": 1.15,
         "yanchor": "top"
        },
        "template": {
         "data": {
          "bar": [
           {
            "error_x": {
             "color": "#2a3f5f"
            },
            "error_y": {
             "color": "#2a3f5f"
            },
            "marker": {
             "line": {
              "color": "#E5ECF6",
              "width": 0.5
             },
             "pattern": {
              "fillmode": "overlay",
              "size": 10,
              "solidity": 0.2
             }
            },
            "type": "bar"
           }
          ],
          "barpolar": [
           {
            "marker": {
             "line": {
              "color": "#E5ECF6",
              "width": 0.5
             },
             "pattern": {
              "fillmode": "overlay",
              "size": 10,
              "solidity": 0.2
             }
            },
            "type": "barpolar"
           }
          ],
          "carpet": [
           {
            "aaxis": {
             "endlinecolor": "#2a3f5f",
             "gridcolor": "white",
             "linecolor": "white",
             "minorgridcolor": "white",
             "startlinecolor": "#2a3f5f"
            },
            "baxis": {
             "endlinecolor": "#2a3f5f",
             "gridcolor": "white",
             "linecolor": "white",
             "minorgridcolor": "white",
             "startlinecolor": "#2a3f5f"
            },
            "type": "carpet"
           }
          ],
          "choropleth": [
           {
            "colorbar": {
             "outlinewidth": 0,
             "ticks": ""
            },
            "type": "choropleth"
           }
          ],
          "contour": [
           {
            "colorbar": {
             "outlinewidth": 0,
             "ticks": ""
            },
            "colorscale": [
             [
              0,
              "#0d0887"
             ],
             [
              0.1111111111111111,
              "#46039f"
             ],
             [
              0.2222222222222222,
              "#7201a8"
             ],
             [
              0.3333333333333333,
              "#9c179e"
             ],
             [
              0.4444444444444444,
              "#bd3786"
             ],
             [
              0.5555555555555556,
              "#d8576b"
             ],
             [
              0.6666666666666666,
              "#ed7953"
             ],
             [
              0.7777777777777778,
              "#fb9f3a"
             ],
             [
              0.8888888888888888,
              "#fdca26"
             ],
             [
              1,
              "#f0f921"
             ]
            ],
            "type": "contour"
           }
          ],
          "contourcarpet": [
           {
            "colorbar": {
             "outlinewidth": 0,
             "ticks": ""
            },
            "type": "contourcarpet"
           }
          ],
          "heatmap": [
           {
            "colorbar": {
             "outlinewidth": 0,
             "ticks": ""
            },
            "colorscale": [
             [
              0,
              "#0d0887"
             ],
             [
              0.1111111111111111,
              "#46039f"
             ],
             [
              0.2222222222222222,
              "#7201a8"
             ],
             [
              0.3333333333333333,
              "#9c179e"
             ],
             [
              0.4444444444444444,
              "#bd3786"
             ],
             [
              0.5555555555555556,
              "#d8576b"
             ],
             [
              0.6666666666666666,
              "#ed7953"
             ],
             [
              0.7777777777777778,
              "#fb9f3a"
             ],
             [
              0.8888888888888888,
              "#fdca26"
             ],
             [
              1,
              "#f0f921"
             ]
            ],
            "type": "heatmap"
           }
          ],
          "heatmapgl": [
           {
            "colorbar": {
             "outlinewidth": 0,
             "ticks": ""
            },
            "colorscale": [
             [
              0,
              "#0d0887"
             ],
             [
              0.1111111111111111,
              "#46039f"
             ],
             [
              0.2222222222222222,
              "#7201a8"
             ],
             [
              0.3333333333333333,
              "#9c179e"
             ],
             [
              0.4444444444444444,
              "#bd3786"
             ],
             [
              0.5555555555555556,
              "#d8576b"
             ],
             [
              0.6666666666666666,
              "#ed7953"
             ],
             [
              0.7777777777777778,
              "#fb9f3a"
             ],
             [
              0.8888888888888888,
              "#fdca26"
             ],
             [
              1,
              "#f0f921"
             ]
            ],
            "type": "heatmapgl"
           }
          ],
          "histogram": [
           {
            "marker": {
             "pattern": {
              "fillmode": "overlay",
              "size": 10,
              "solidity": 0.2
             }
            },
            "type": "histogram"
           }
          ],
          "histogram2d": [
           {
            "colorbar": {
             "outlinewidth": 0,
             "ticks": ""
            },
            "colorscale": [
             [
              0,
              "#0d0887"
             ],
             [
              0.1111111111111111,
              "#46039f"
             ],
             [
              0.2222222222222222,
              "#7201a8"
             ],
             [
              0.3333333333333333,
              "#9c179e"
             ],
             [
              0.4444444444444444,
              "#bd3786"
             ],
             [
              0.5555555555555556,
              "#d8576b"
             ],
             [
              0.6666666666666666,
              "#ed7953"
             ],
             [
              0.7777777777777778,
              "#fb9f3a"
             ],
             [
              0.8888888888888888,
              "#fdca26"
             ],
             [
              1,
              "#f0f921"
             ]
            ],
            "type": "histogram2d"
           }
          ],
          "histogram2dcontour": [
           {
            "colorbar": {
             "outlinewidth": 0,
             "ticks": ""
            },
            "colorscale": [
             [
              0,
              "#0d0887"
             ],
             [
              0.1111111111111111,
              "#46039f"
             ],
             [
              0.2222222222222222,
              "#7201a8"
             ],
             [
              0.3333333333333333,
              "#9c179e"
             ],
             [
              0.4444444444444444,
              "#bd3786"
             ],
             [
              0.5555555555555556,
              "#d8576b"
             ],
             [
              0.6666666666666666,
              "#ed7953"
             ],
             [
              0.7777777777777778,
              "#fb9f3a"
             ],
             [
              0.8888888888888888,
              "#fdca26"
             ],
             [
              1,
              "#f0f921"
             ]
            ],
            "type": "histogram2dcontour"
           }
          ],
          "mesh3d": [
           {
            "colorbar": {
             "outlinewidth": 0,
             "ticks": ""
            },
            "type": "mesh3d"
           }
          ],
          "parcoords": [
           {
            "line": {
             "colorbar": {
              "outlinewidth": 0,
              "ticks": ""
             }
            },
            "type": "parcoords"
           }
          ],
          "pie": [
           {
            "automargin": true,
            "type": "pie"
           }
          ],
          "scatter": [
           {
            "fillpattern": {
             "fillmode": "overlay",
             "size": 10,
             "solidity": 0.2
            },
            "type": "scatter"
           }
          ],
          "scatter3d": [
           {
            "line": {
             "colorbar": {
              "outlinewidth": 0,
              "ticks": ""
             }
            },
            "marker": {
             "colorbar": {
              "outlinewidth": 0,
              "ticks": ""
             }
            },
            "type": "scatter3d"
           }
          ],
          "scattercarpet": [
           {
            "marker": {
             "colorbar": {
              "outlinewidth": 0,
              "ticks": ""
             }
            },
            "type": "scattercarpet"
           }
          ],
          "scattergeo": [
           {
            "marker": {
             "colorbar": {
              "outlinewidth": 0,
              "ticks": ""
             }
            },
            "type": "scattergeo"
           }
          ],
          "scattergl": [
           {
            "marker": {
             "colorbar": {
              "outlinewidth": 0,
              "ticks": ""
             }
            },
            "type": "scattergl"
           }
          ],
          "scattermapbox": [
           {
            "marker": {
             "colorbar": {
              "outlinewidth": 0,
              "ticks": ""
             }
            },
            "type": "scattermapbox"
           }
          ],
          "scatterpolar": [
           {
            "marker": {
             "colorbar": {
              "outlinewidth": 0,
              "ticks": ""
             }
            },
            "type": "scatterpolar"
           }
          ],
          "scatterpolargl": [
           {
            "marker": {
             "colorbar": {
              "outlinewidth": 0,
              "ticks": ""
             }
            },
            "type": "scatterpolargl"
           }
          ],
          "scatterternary": [
           {
            "marker": {
             "colorbar": {
              "outlinewidth": 0,
              "ticks": ""
             }
            },
            "type": "scatterternary"
           }
          ],
          "surface": [
           {
            "colorbar": {
             "outlinewidth": 0,
             "ticks": ""
            },
            "colorscale": [
             [
              0,
              "#0d0887"
             ],
             [
              0.1111111111111111,
              "#46039f"
             ],
             [
              0.2222222222222222,
              "#7201a8"
             ],
             [
              0.3333333333333333,
              "#9c179e"
             ],
             [
              0.4444444444444444,
              "#bd3786"
             ],
             [
              0.5555555555555556,
              "#d8576b"
             ],
             [
              0.6666666666666666,
              "#ed7953"
             ],
             [
              0.7777777777777778,
              "#fb9f3a"
             ],
             [
              0.8888888888888888,
              "#fdca26"
             ],
             [
              1,
              "#f0f921"
             ]
            ],
            "type": "surface"
           }
          ],
          "table": [
           {
            "cells": {
             "fill": {
              "color": "#EBF0F8"
             },
             "line": {
              "color": "white"
             }
            },
            "header": {
             "fill": {
              "color": "#C8D4E3"
             },
             "line": {
              "color": "white"
             }
            },
            "type": "table"
           }
          ]
         },
         "layout": {
          "annotationdefaults": {
           "arrowcolor": "#2a3f5f",
           "arrowhead": 0,
           "arrowwidth": 1
          },
          "autotypenumbers": "strict",
          "coloraxis": {
           "colorbar": {
            "outlinewidth": 0,
            "ticks": ""
           }
          },
          "colorscale": {
           "diverging": [
            [
             0,
             "#8e0152"
            ],
            [
             0.1,
             "#c51b7d"
            ],
            [
             0.2,
             "#de77ae"
            ],
            [
             0.3,
             "#f1b6da"
            ],
            [
             0.4,
             "#fde0ef"
            ],
            [
             0.5,
             "#f7f7f7"
            ],
            [
             0.6,
             "#e6f5d0"
            ],
            [
             0.7,
             "#b8e186"
            ],
            [
             0.8,
             "#7fbc41"
            ],
            [
             0.9,
             "#4d9221"
            ],
            [
             1,
             "#276419"
            ]
           ],
           "sequential": [
            [
             0,
             "#0d0887"
            ],
            [
             0.1111111111111111,
             "#46039f"
            ],
            [
             0.2222222222222222,
             "#7201a8"
            ],
            [
             0.3333333333333333,
             "#9c179e"
            ],
            [
             0.4444444444444444,
             "#bd3786"
            ],
            [
             0.5555555555555556,
             "#d8576b"
            ],
            [
             0.6666666666666666,
             "#ed7953"
            ],
            [
             0.7777777777777778,
             "#fb9f3a"
            ],
            [
             0.8888888888888888,
             "#fdca26"
            ],
            [
             1,
             "#f0f921"
            ]
           ],
           "sequentialminus": [
            [
             0,
             "#0d0887"
            ],
            [
             0.1111111111111111,
             "#46039f"
            ],
            [
             0.2222222222222222,
             "#7201a8"
            ],
            [
             0.3333333333333333,
             "#9c179e"
            ],
            [
             0.4444444444444444,
             "#bd3786"
            ],
            [
             0.5555555555555556,
             "#d8576b"
            ],
            [
             0.6666666666666666,
             "#ed7953"
            ],
            [
             0.7777777777777778,
             "#fb9f3a"
            ],
            [
             0.8888888888888888,
             "#fdca26"
            ],
            [
             1,
             "#f0f921"
            ]
           ]
          },
          "colorway": [
           "#636efa",
           "#EF553B",
           "#00cc96",
           "#ab63fa",
           "#FFA15A",
           "#19d3f3",
           "#FF6692",
           "#B6E880",
           "#FF97FF",
           "#FECB52"
          ],
          "font": {
           "color": "#2a3f5f"
          },
          "geo": {
           "bgcolor": "white",
           "lakecolor": "white",
           "landcolor": "#E5ECF6",
           "showlakes": true,
           "showland": true,
           "subunitcolor": "white"
          },
          "hoverlabel": {
           "align": "left"
          },
          "hovermode": "closest",
          "mapbox": {
           "style": "light"
          },
          "paper_bgcolor": "white",
          "plot_bgcolor": "#E5ECF6",
          "polar": {
           "angularaxis": {
            "gridcolor": "white",
            "linecolor": "white",
            "ticks": ""
           },
           "bgcolor": "#E5ECF6",
           "radialaxis": {
            "gridcolor": "white",
            "linecolor": "white",
            "ticks": ""
           }
          },
          "scene": {
           "xaxis": {
            "backgroundcolor": "#E5ECF6",
            "gridcolor": "white",
            "gridwidth": 2,
            "linecolor": "white",
            "showbackground": true,
            "ticks": "",
            "zerolinecolor": "white"
           },
           "yaxis": {
            "backgroundcolor": "#E5ECF6",
            "gridcolor": "white",
            "gridwidth": 2,
            "linecolor": "white",
            "showbackground": true,
            "ticks": "",
            "zerolinecolor": "white"
           },
           "zaxis": {
            "backgroundcolor": "#E5ECF6",
            "gridcolor": "white",
            "gridwidth": 2,
            "linecolor": "white",
            "showbackground": true,
            "ticks": "",
            "zerolinecolor": "white"
           }
          },
          "shapedefaults": {
           "line": {
            "color": "#2a3f5f"
           }
          },
          "ternary": {
           "aaxis": {
            "gridcolor": "white",
            "linecolor": "white",
            "ticks": ""
           },
           "baxis": {
            "gridcolor": "white",
            "linecolor": "white",
            "ticks": ""
           },
           "bgcolor": "#E5ECF6",
           "caxis": {
            "gridcolor": "white",
            "linecolor": "white",
            "ticks": ""
           }
          },
          "title": {
           "x": 0.05
          },
          "xaxis": {
           "automargin": true,
           "gridcolor": "white",
           "linecolor": "white",
           "ticks": "",
           "title": {
            "standoff": 15
           },
           "zerolinecolor": "white",
           "zerolinewidth": 2
          },
          "yaxis": {
           "automargin": true,
           "gridcolor": "white",
           "linecolor": "white",
           "ticks": "",
           "title": {
            "standoff": 15
           },
           "zerolinecolor": "white",
           "zerolinewidth": 2
          }
         }
        },
        "title": {
         "text": "R² Score by Regression Model and Fingerprint Type - Initial Model"
        },
        "xaxis": {
         "title": {
          "text": "Regression Model"
         }
        },
        "yaxis": {
         "range": [
          0,
          1.2
         ],
         "title": {
          "text": "R² Score"
         }
        }
       }
      }
     },
     "metadata": {},
     "output_type": "display_data"
    },
    {
     "data": {
      "application/vnd.plotly.v1+json": {
       "config": {
        "plotlyServerURL": "https://plot.ly"
       },
       "data": [
        {
         "marker": {
          "color": "#1f77b4"
         },
         "name": "Morgan",
         "text": [
          "0.28530",
          "0.32084",
          "0.26656",
          "0.28481",
          "0.29737"
         ],
         "textposition": "inside",
         "type": "bar",
         "x": [
          "Bayesian Ridge",
          "KNN Regressor",
          "LightGBM",
          "Ridge Regression",
          "Decision Tree"
         ],
         "y": [
          0.28530300425454047,
          0.32083900868201803,
          0.26655575847661683,
          0.28480571240347613,
          0.2973703441139725
         ]
        },
        {
         "marker": {
          "color": "#ff7f0e"
         },
         "name": "MACCS",
         "text": [
          "0.38794",
          "0.34855",
          "0.32184",
          "0.38782",
          "0.32290"
         ],
         "textposition": "inside",
         "type": "bar",
         "x": [
          "Bayesian Ridge",
          "KNN Regressor",
          "LightGBM",
          "Ridge Regression",
          "Decision Tree"
         ],
         "y": [
          0.3879447357293659,
          0.34855200447807316,
          0.3218427373142669,
          0.38781669437933514,
          0.3228964427451402
         ]
        },
        {
         "marker": {
          "color": "#2ca02c"
         },
         "name": "Atom Pair",
         "text": [
          "0.46508",
          "0.41493",
          "0.36935",
          "0.46579",
          "0.43859"
         ],
         "textposition": "inside",
         "type": "bar",
         "x": [
          "Bayesian Ridge",
          "KNN Regressor",
          "LightGBM",
          "Ridge Regression",
          "Decision Tree"
         ],
         "y": [
          0.4650793458940388,
          0.4149280668300566,
          0.3693549531689786,
          0.4657868648272565,
          0.438593041832003
         ]
        },
        {
         "marker": {
          "color": "#d62728"
         },
         "name": "FCFP",
         "text": [
          "0.29512",
          "0.30403",
          "0.26778",
          "0.29446",
          "0.31029"
         ],
         "textposition": "inside",
         "type": "bar",
         "x": [
          "Bayesian Ridge",
          "KNN Regressor",
          "LightGBM",
          "Ridge Regression",
          "Decision Tree"
         ],
         "y": [
          0.2951206476649533,
          0.3040329499688735,
          0.267775706146944,
          0.2944616374907523,
          0.3102871199473362
         ]
        }
       ],
       "layout": {
        "annotations": [
         {
          "arrowhead": 2,
          "ax": -100,
          "ay": -120,
          "bordercolor": "black",
          "borderwidth": 1,
          "showarrow": true,
          "text": "Best: LightGBM (Morgan)<br>RMSE: 0.26656",
          "x": "LightGBM",
          "y": 0.26655575847661683
         }
        ],
        "barmode": "group",
        "legend": {
         "orientation": "h",
         "title": {
          "text": "Fingerprint Type"
         },
         "x": 0.5,
         "xanchor": "center",
         "y": 1.15,
         "yanchor": "top"
        },
        "template": {
         "data": {
          "bar": [
           {
            "error_x": {
             "color": "#2a3f5f"
            },
            "error_y": {
             "color": "#2a3f5f"
            },
            "marker": {
             "line": {
              "color": "#E5ECF6",
              "width": 0.5
             },
             "pattern": {
              "fillmode": "overlay",
              "size": 10,
              "solidity": 0.2
             }
            },
            "type": "bar"
           }
          ],
          "barpolar": [
           {
            "marker": {
             "line": {
              "color": "#E5ECF6",
              "width": 0.5
             },
             "pattern": {
              "fillmode": "overlay",
              "size": 10,
              "solidity": 0.2
             }
            },
            "type": "barpolar"
           }
          ],
          "carpet": [
           {
            "aaxis": {
             "endlinecolor": "#2a3f5f",
             "gridcolor": "white",
             "linecolor": "white",
             "minorgridcolor": "white",
             "startlinecolor": "#2a3f5f"
            },
            "baxis": {
             "endlinecolor": "#2a3f5f",
             "gridcolor": "white",
             "linecolor": "white",
             "minorgridcolor": "white",
             "startlinecolor": "#2a3f5f"
            },
            "type": "carpet"
           }
          ],
          "choropleth": [
           {
            "colorbar": {
             "outlinewidth": 0,
             "ticks": ""
            },
            "type": "choropleth"
           }
          ],
          "contour": [
           {
            "colorbar": {
             "outlinewidth": 0,
             "ticks": ""
            },
            "colorscale": [
             [
              0,
              "#0d0887"
             ],
             [
              0.1111111111111111,
              "#46039f"
             ],
             [
              0.2222222222222222,
              "#7201a8"
             ],
             [
              0.3333333333333333,
              "#9c179e"
             ],
             [
              0.4444444444444444,
              "#bd3786"
             ],
             [
              0.5555555555555556,
              "#d8576b"
             ],
             [
              0.6666666666666666,
              "#ed7953"
             ],
             [
              0.7777777777777778,
              "#fb9f3a"
             ],
             [
              0.8888888888888888,
              "#fdca26"
             ],
             [
              1,
              "#f0f921"
             ]
            ],
            "type": "contour"
           }
          ],
          "contourcarpet": [
           {
            "colorbar": {
             "outlinewidth": 0,
             "ticks": ""
            },
            "type": "contourcarpet"
           }
          ],
          "heatmap": [
           {
            "colorbar": {
             "outlinewidth": 0,
             "ticks": ""
            },
            "colorscale": [
             [
              0,
              "#0d0887"
             ],
             [
              0.1111111111111111,
              "#46039f"
             ],
             [
              0.2222222222222222,
              "#7201a8"
             ],
             [
              0.3333333333333333,
              "#9c179e"
             ],
             [
              0.4444444444444444,
              "#bd3786"
             ],
             [
              0.5555555555555556,
              "#d8576b"
             ],
             [
              0.6666666666666666,
              "#ed7953"
             ],
             [
              0.7777777777777778,
              "#fb9f3a"
             ],
             [
              0.8888888888888888,
              "#fdca26"
             ],
             [
              1,
              "#f0f921"
             ]
            ],
            "type": "heatmap"
           }
          ],
          "heatmapgl": [
           {
            "colorbar": {
             "outlinewidth": 0,
             "ticks": ""
            },
            "colorscale": [
             [
              0,
              "#0d0887"
             ],
             [
              0.1111111111111111,
              "#46039f"
             ],
             [
              0.2222222222222222,
              "#7201a8"
             ],
             [
              0.3333333333333333,
              "#9c179e"
             ],
             [
              0.4444444444444444,
              "#bd3786"
             ],
             [
              0.5555555555555556,
              "#d8576b"
             ],
             [
              0.6666666666666666,
              "#ed7953"
             ],
             [
              0.7777777777777778,
              "#fb9f3a"
             ],
             [
              0.8888888888888888,
              "#fdca26"
             ],
             [
              1,
              "#f0f921"
             ]
            ],
            "type": "heatmapgl"
           }
          ],
          "histogram": [
           {
            "marker": {
             "pattern": {
              "fillmode": "overlay",
              "size": 10,
              "solidity": 0.2
             }
            },
            "type": "histogram"
           }
          ],
          "histogram2d": [
           {
            "colorbar": {
             "outlinewidth": 0,
             "ticks": ""
            },
            "colorscale": [
             [
              0,
              "#0d0887"
             ],
             [
              0.1111111111111111,
              "#46039f"
             ],
             [
              0.2222222222222222,
              "#7201a8"
             ],
             [
              0.3333333333333333,
              "#9c179e"
             ],
             [
              0.4444444444444444,
              "#bd3786"
             ],
             [
              0.5555555555555556,
              "#d8576b"
             ],
             [
              0.6666666666666666,
              "#ed7953"
             ],
             [
              0.7777777777777778,
              "#fb9f3a"
             ],
             [
              0.8888888888888888,
              "#fdca26"
             ],
             [
              1,
              "#f0f921"
             ]
            ],
            "type": "histogram2d"
           }
          ],
          "histogram2dcontour": [
           {
            "colorbar": {
             "outlinewidth": 0,
             "ticks": ""
            },
            "colorscale": [
             [
              0,
              "#0d0887"
             ],
             [
              0.1111111111111111,
              "#46039f"
             ],
             [
              0.2222222222222222,
              "#7201a8"
             ],
             [
              0.3333333333333333,
              "#9c179e"
             ],
             [
              0.4444444444444444,
              "#bd3786"
             ],
             [
              0.5555555555555556,
              "#d8576b"
             ],
             [
              0.6666666666666666,
              "#ed7953"
             ],
             [
              0.7777777777777778,
              "#fb9f3a"
             ],
             [
              0.8888888888888888,
              "#fdca26"
             ],
             [
              1,
              "#f0f921"
             ]
            ],
            "type": "histogram2dcontour"
           }
          ],
          "mesh3d": [
           {
            "colorbar": {
             "outlinewidth": 0,
             "ticks": ""
            },
            "type": "mesh3d"
           }
          ],
          "parcoords": [
           {
            "line": {
             "colorbar": {
              "outlinewidth": 0,
              "ticks": ""
             }
            },
            "type": "parcoords"
           }
          ],
          "pie": [
           {
            "automargin": true,
            "type": "pie"
           }
          ],
          "scatter": [
           {
            "fillpattern": {
             "fillmode": "overlay",
             "size": 10,
             "solidity": 0.2
            },
            "type": "scatter"
           }
          ],
          "scatter3d": [
           {
            "line": {
             "colorbar": {
              "outlinewidth": 0,
              "ticks": ""
             }
            },
            "marker": {
             "colorbar": {
              "outlinewidth": 0,
              "ticks": ""
             }
            },
            "type": "scatter3d"
           }
          ],
          "scattercarpet": [
           {
            "marker": {
             "colorbar": {
              "outlinewidth": 0,
              "ticks": ""
             }
            },
            "type": "scattercarpet"
           }
          ],
          "scattergeo": [
           {
            "marker": {
             "colorbar": {
              "outlinewidth": 0,
              "ticks": ""
             }
            },
            "type": "scattergeo"
           }
          ],
          "scattergl": [
           {
            "marker": {
             "colorbar": {
              "outlinewidth": 0,
              "ticks": ""
             }
            },
            "type": "scattergl"
           }
          ],
          "scattermapbox": [
           {
            "marker": {
             "colorbar": {
              "outlinewidth": 0,
              "ticks": ""
             }
            },
            "type": "scattermapbox"
           }
          ],
          "scatterpolar": [
           {
            "marker": {
             "colorbar": {
              "outlinewidth": 0,
              "ticks": ""
             }
            },
            "type": "scatterpolar"
           }
          ],
          "scatterpolargl": [
           {
            "marker": {
             "colorbar": {
              "outlinewidth": 0,
              "ticks": ""
             }
            },
            "type": "scatterpolargl"
           }
          ],
          "scatterternary": [
           {
            "marker": {
             "colorbar": {
              "outlinewidth": 0,
              "ticks": ""
             }
            },
            "type": "scatterternary"
           }
          ],
          "surface": [
           {
            "colorbar": {
             "outlinewidth": 0,
             "ticks": ""
            },
            "colorscale": [
             [
              0,
              "#0d0887"
             ],
             [
              0.1111111111111111,
              "#46039f"
             ],
             [
              0.2222222222222222,
              "#7201a8"
             ],
             [
              0.3333333333333333,
              "#9c179e"
             ],
             [
              0.4444444444444444,
              "#bd3786"
             ],
             [
              0.5555555555555556,
              "#d8576b"
             ],
             [
              0.6666666666666666,
              "#ed7953"
             ],
             [
              0.7777777777777778,
              "#fb9f3a"
             ],
             [
              0.8888888888888888,
              "#fdca26"
             ],
             [
              1,
              "#f0f921"
             ]
            ],
            "type": "surface"
           }
          ],
          "table": [
           {
            "cells": {
             "fill": {
              "color": "#EBF0F8"
             },
             "line": {
              "color": "white"
             }
            },
            "header": {
             "fill": {
              "color": "#C8D4E3"
             },
             "line": {
              "color": "white"
             }
            },
            "type": "table"
           }
          ]
         },
         "layout": {
          "annotationdefaults": {
           "arrowcolor": "#2a3f5f",
           "arrowhead": 0,
           "arrowwidth": 1
          },
          "autotypenumbers": "strict",
          "coloraxis": {
           "colorbar": {
            "outlinewidth": 0,
            "ticks": ""
           }
          },
          "colorscale": {
           "diverging": [
            [
             0,
             "#8e0152"
            ],
            [
             0.1,
             "#c51b7d"
            ],
            [
             0.2,
             "#de77ae"
            ],
            [
             0.3,
             "#f1b6da"
            ],
            [
             0.4,
             "#fde0ef"
            ],
            [
             0.5,
             "#f7f7f7"
            ],
            [
             0.6,
             "#e6f5d0"
            ],
            [
             0.7,
             "#b8e186"
            ],
            [
             0.8,
             "#7fbc41"
            ],
            [
             0.9,
             "#4d9221"
            ],
            [
             1,
             "#276419"
            ]
           ],
           "sequential": [
            [
             0,
             "#0d0887"
            ],
            [
             0.1111111111111111,
             "#46039f"
            ],
            [
             0.2222222222222222,
             "#7201a8"
            ],
            [
             0.3333333333333333,
             "#9c179e"
            ],
            [
             0.4444444444444444,
             "#bd3786"
            ],
            [
             0.5555555555555556,
             "#d8576b"
            ],
            [
             0.6666666666666666,
             "#ed7953"
            ],
            [
             0.7777777777777778,
             "#fb9f3a"
            ],
            [
             0.8888888888888888,
             "#fdca26"
            ],
            [
             1,
             "#f0f921"
            ]
           ],
           "sequentialminus": [
            [
             0,
             "#0d0887"
            ],
            [
             0.1111111111111111,
             "#46039f"
            ],
            [
             0.2222222222222222,
             "#7201a8"
            ],
            [
             0.3333333333333333,
             "#9c179e"
            ],
            [
             0.4444444444444444,
             "#bd3786"
            ],
            [
             0.5555555555555556,
             "#d8576b"
            ],
            [
             0.6666666666666666,
             "#ed7953"
            ],
            [
             0.7777777777777778,
             "#fb9f3a"
            ],
            [
             0.8888888888888888,
             "#fdca26"
            ],
            [
             1,
             "#f0f921"
            ]
           ]
          },
          "colorway": [
           "#636efa",
           "#EF553B",
           "#00cc96",
           "#ab63fa",
           "#FFA15A",
           "#19d3f3",
           "#FF6692",
           "#B6E880",
           "#FF97FF",
           "#FECB52"
          ],
          "font": {
           "color": "#2a3f5f"
          },
          "geo": {
           "bgcolor": "white",
           "lakecolor": "white",
           "landcolor": "#E5ECF6",
           "showlakes": true,
           "showland": true,
           "subunitcolor": "white"
          },
          "hoverlabel": {
           "align": "left"
          },
          "hovermode": "closest",
          "mapbox": {
           "style": "light"
          },
          "paper_bgcolor": "white",
          "plot_bgcolor": "#E5ECF6",
          "polar": {
           "angularaxis": {
            "gridcolor": "white",
            "linecolor": "white",
            "ticks": ""
           },
           "bgcolor": "#E5ECF6",
           "radialaxis": {
            "gridcolor": "white",
            "linecolor": "white",
            "ticks": ""
           }
          },
          "scene": {
           "xaxis": {
            "backgroundcolor": "#E5ECF6",
            "gridcolor": "white",
            "gridwidth": 2,
            "linecolor": "white",
            "showbackground": true,
            "ticks": "",
            "zerolinecolor": "white"
           },
           "yaxis": {
            "backgroundcolor": "#E5ECF6",
            "gridcolor": "white",
            "gridwidth": 2,
            "linecolor": "white",
            "showbackground": true,
            "ticks": "",
            "zerolinecolor": "white"
           },
           "zaxis": {
            "backgroundcolor": "#E5ECF6",
            "gridcolor": "white",
            "gridwidth": 2,
            "linecolor": "white",
            "showbackground": true,
            "ticks": "",
            "zerolinecolor": "white"
           }
          },
          "shapedefaults": {
           "line": {
            "color": "#2a3f5f"
           }
          },
          "ternary": {
           "aaxis": {
            "gridcolor": "white",
            "linecolor": "white",
            "ticks": ""
           },
           "baxis": {
            "gridcolor": "white",
            "linecolor": "white",
            "ticks": ""
           },
           "bgcolor": "#E5ECF6",
           "caxis": {
            "gridcolor": "white",
            "linecolor": "white",
            "ticks": ""
           }
          },
          "title": {
           "x": 0.05
          },
          "xaxis": {
           "automargin": true,
           "gridcolor": "white",
           "linecolor": "white",
           "ticks": "",
           "title": {
            "standoff": 15
           },
           "zerolinecolor": "white",
           "zerolinewidth": 2
          },
          "yaxis": {
           "automargin": true,
           "gridcolor": "white",
           "linecolor": "white",
           "ticks": "",
           "title": {
            "standoff": 15
           },
           "zerolinecolor": "white",
           "zerolinewidth": 2
          }
         }
        },
        "title": {
         "text": "RMSE by Regression Model and Fingerprint Type - Initial Model"
        },
        "xaxis": {
         "title": {
          "text": "Regression Model"
         }
        },
        "yaxis": {
         "range": [
          0,
          0.6
         ],
         "title": {
          "text": "RMSE"
         }
        }
       }
      }
     },
     "metadata": {},
     "output_type": "display_data"
    },
    {
     "data": {
      "application/vnd.plotly.v1+json": {
       "config": {
        "plotlyServerURL": "https://plot.ly"
       },
       "data": [
        {
         "marker": {
          "color": "#1f77b4"
         },
         "name": "Morgan",
         "text": [
          "0.14799",
          "0.16579",
          "0.12367",
          "0.14703",
          "0.14373"
         ],
         "textposition": "inside",
         "type": "bar",
         "x": [
          "Bayesian Ridge",
          "KNN Regressor",
          "LightGBM",
          "Ridge Regression",
          "Decision Tree"
         ],
         "y": [
          0.14799319362629593,
          0.16578593853566687,
          0.12367438982595653,
          0.14702722057083908,
          0.1437282932606162
         ]
        },
        {
         "marker": {
          "color": "#ff7f0e"
         },
         "name": "MACCS",
         "text": [
          "0.26017",
          "0.20771",
          "0.18938",
          "0.26011",
          "0.18661"
         ],
         "textposition": "inside",
         "type": "bar",
         "x": [
          "Bayesian Ridge",
          "KNN Regressor",
          "LightGBM",
          "Ridge Regression",
          "Decision Tree"
         ],
         "y": [
          0.2601651657701775,
          0.20770634769304647,
          0.18937617941226034,
          0.2601141373174094,
          0.18660612981178037
         ]
        },
        {
         "marker": {
          "color": "#2ca02c"
         },
         "name": "Atom Pair",
         "text": [
          "0.32745",
          "0.25683",
          "0.23030",
          "0.32805",
          "0.23141"
         ],
         "textposition": "inside",
         "type": "bar",
         "x": [
          "Bayesian Ridge",
          "KNN Regressor",
          "LightGBM",
          "Ridge Regression",
          "Decision Tree"
         ],
         "y": [
          0.3274473335221769,
          0.25683136461605605,
          0.2302996061746638,
          0.3280467313458834,
          0.2314093711968736
         ]
        },
        {
         "marker": {
          "color": "#d62728"
         },
         "name": "FCFP",
         "text": [
          "0.16295",
          "0.15523",
          "0.12992",
          "0.16234",
          "0.14891"
         ],
         "textposition": "inside",
         "type": "bar",
         "x": [
          "Bayesian Ridge",
          "KNN Regressor",
          "LightGBM",
          "Ridge Regression",
          "Decision Tree"
         ],
         "y": [
          0.1629469137177641,
          0.15523231758183267,
          0.12992094865537332,
          0.16234384110749325,
          0.1489128425742493
         ]
        }
       ],
       "layout": {
        "annotations": [
         {
          "arrowhead": 2,
          "ax": -100,
          "ay": -120,
          "bordercolor": "black",
          "borderwidth": 1,
          "showarrow": true,
          "text": "Best: LightGBM (Morgan)<br>MAE: 0.12367",
          "x": "LightGBM",
          "y": 0.12367438982595653
         }
        ],
        "barmode": "group",
        "legend": {
         "orientation": "h",
         "title": {
          "text": "Fingerprint Type"
         },
         "x": 0.5,
         "xanchor": "center",
         "y": 1.15,
         "yanchor": "top"
        },
        "template": {
         "data": {
          "bar": [
           {
            "error_x": {
             "color": "#2a3f5f"
            },
            "error_y": {
             "color": "#2a3f5f"
            },
            "marker": {
             "line": {
              "color": "#E5ECF6",
              "width": 0.5
             },
             "pattern": {
              "fillmode": "overlay",
              "size": 10,
              "solidity": 0.2
             }
            },
            "type": "bar"
           }
          ],
          "barpolar": [
           {
            "marker": {
             "line": {
              "color": "#E5ECF6",
              "width": 0.5
             },
             "pattern": {
              "fillmode": "overlay",
              "size": 10,
              "solidity": 0.2
             }
            },
            "type": "barpolar"
           }
          ],
          "carpet": [
           {
            "aaxis": {
             "endlinecolor": "#2a3f5f",
             "gridcolor": "white",
             "linecolor": "white",
             "minorgridcolor": "white",
             "startlinecolor": "#2a3f5f"
            },
            "baxis": {
             "endlinecolor": "#2a3f5f",
             "gridcolor": "white",
             "linecolor": "white",
             "minorgridcolor": "white",
             "startlinecolor": "#2a3f5f"
            },
            "type": "carpet"
           }
          ],
          "choropleth": [
           {
            "colorbar": {
             "outlinewidth": 0,
             "ticks": ""
            },
            "type": "choropleth"
           }
          ],
          "contour": [
           {
            "colorbar": {
             "outlinewidth": 0,
             "ticks": ""
            },
            "colorscale": [
             [
              0,
              "#0d0887"
             ],
             [
              0.1111111111111111,
              "#46039f"
             ],
             [
              0.2222222222222222,
              "#7201a8"
             ],
             [
              0.3333333333333333,
              "#9c179e"
             ],
             [
              0.4444444444444444,
              "#bd3786"
             ],
             [
              0.5555555555555556,
              "#d8576b"
             ],
             [
              0.6666666666666666,
              "#ed7953"
             ],
             [
              0.7777777777777778,
              "#fb9f3a"
             ],
             [
              0.8888888888888888,
              "#fdca26"
             ],
             [
              1,
              "#f0f921"
             ]
            ],
            "type": "contour"
           }
          ],
          "contourcarpet": [
           {
            "colorbar": {
             "outlinewidth": 0,
             "ticks": ""
            },
            "type": "contourcarpet"
           }
          ],
          "heatmap": [
           {
            "colorbar": {
             "outlinewidth": 0,
             "ticks": ""
            },
            "colorscale": [
             [
              0,
              "#0d0887"
             ],
             [
              0.1111111111111111,
              "#46039f"
             ],
             [
              0.2222222222222222,
              "#7201a8"
             ],
             [
              0.3333333333333333,
              "#9c179e"
             ],
             [
              0.4444444444444444,
              "#bd3786"
             ],
             [
              0.5555555555555556,
              "#d8576b"
             ],
             [
              0.6666666666666666,
              "#ed7953"
             ],
             [
              0.7777777777777778,
              "#fb9f3a"
             ],
             [
              0.8888888888888888,
              "#fdca26"
             ],
             [
              1,
              "#f0f921"
             ]
            ],
            "type": "heatmap"
           }
          ],
          "heatmapgl": [
           {
            "colorbar": {
             "outlinewidth": 0,
             "ticks": ""
            },
            "colorscale": [
             [
              0,
              "#0d0887"
             ],
             [
              0.1111111111111111,
              "#46039f"
             ],
             [
              0.2222222222222222,
              "#7201a8"
             ],
             [
              0.3333333333333333,
              "#9c179e"
             ],
             [
              0.4444444444444444,
              "#bd3786"
             ],
             [
              0.5555555555555556,
              "#d8576b"
             ],
             [
              0.6666666666666666,
              "#ed7953"
             ],
             [
              0.7777777777777778,
              "#fb9f3a"
             ],
             [
              0.8888888888888888,
              "#fdca26"
             ],
             [
              1,
              "#f0f921"
             ]
            ],
            "type": "heatmapgl"
           }
          ],
          "histogram": [
           {
            "marker": {
             "pattern": {
              "fillmode": "overlay",
              "size": 10,
              "solidity": 0.2
             }
            },
            "type": "histogram"
           }
          ],
          "histogram2d": [
           {
            "colorbar": {
             "outlinewidth": 0,
             "ticks": ""
            },
            "colorscale": [
             [
              0,
              "#0d0887"
             ],
             [
              0.1111111111111111,
              "#46039f"
             ],
             [
              0.2222222222222222,
              "#7201a8"
             ],
             [
              0.3333333333333333,
              "#9c179e"
             ],
             [
              0.4444444444444444,
              "#bd3786"
             ],
             [
              0.5555555555555556,
              "#d8576b"
             ],
             [
              0.6666666666666666,
              "#ed7953"
             ],
             [
              0.7777777777777778,
              "#fb9f3a"
             ],
             [
              0.8888888888888888,
              "#fdca26"
             ],
             [
              1,
              "#f0f921"
             ]
            ],
            "type": "histogram2d"
           }
          ],
          "histogram2dcontour": [
           {
            "colorbar": {
             "outlinewidth": 0,
             "ticks": ""
            },
            "colorscale": [
             [
              0,
              "#0d0887"
             ],
             [
              0.1111111111111111,
              "#46039f"
             ],
             [
              0.2222222222222222,
              "#7201a8"
             ],
             [
              0.3333333333333333,
              "#9c179e"
             ],
             [
              0.4444444444444444,
              "#bd3786"
             ],
             [
              0.5555555555555556,
              "#d8576b"
             ],
             [
              0.6666666666666666,
              "#ed7953"
             ],
             [
              0.7777777777777778,
              "#fb9f3a"
             ],
             [
              0.8888888888888888,
              "#fdca26"
             ],
             [
              1,
              "#f0f921"
             ]
            ],
            "type": "histogram2dcontour"
           }
          ],
          "mesh3d": [
           {
            "colorbar": {
             "outlinewidth": 0,
             "ticks": ""
            },
            "type": "mesh3d"
           }
          ],
          "parcoords": [
           {
            "line": {
             "colorbar": {
              "outlinewidth": 0,
              "ticks": ""
             }
            },
            "type": "parcoords"
           }
          ],
          "pie": [
           {
            "automargin": true,
            "type": "pie"
           }
          ],
          "scatter": [
           {
            "fillpattern": {
             "fillmode": "overlay",
             "size": 10,
             "solidity": 0.2
            },
            "type": "scatter"
           }
          ],
          "scatter3d": [
           {
            "line": {
             "colorbar": {
              "outlinewidth": 0,
              "ticks": ""
             }
            },
            "marker": {
             "colorbar": {
              "outlinewidth": 0,
              "ticks": ""
             }
            },
            "type": "scatter3d"
           }
          ],
          "scattercarpet": [
           {
            "marker": {
             "colorbar": {
              "outlinewidth": 0,
              "ticks": ""
             }
            },
            "type": "scattercarpet"
           }
          ],
          "scattergeo": [
           {
            "marker": {
             "colorbar": {
              "outlinewidth": 0,
              "ticks": ""
             }
            },
            "type": "scattergeo"
           }
          ],
          "scattergl": [
           {
            "marker": {
             "colorbar": {
              "outlinewidth": 0,
              "ticks": ""
             }
            },
            "type": "scattergl"
           }
          ],
          "scattermapbox": [
           {
            "marker": {
             "colorbar": {
              "outlinewidth": 0,
              "ticks": ""
             }
            },
            "type": "scattermapbox"
           }
          ],
          "scatterpolar": [
           {
            "marker": {
             "colorbar": {
              "outlinewidth": 0,
              "ticks": ""
             }
            },
            "type": "scatterpolar"
           }
          ],
          "scatterpolargl": [
           {
            "marker": {
             "colorbar": {
              "outlinewidth": 0,
              "ticks": ""
             }
            },
            "type": "scatterpolargl"
           }
          ],
          "scatterternary": [
           {
            "marker": {
             "colorbar": {
              "outlinewidth": 0,
              "ticks": ""
             }
            },
            "type": "scatterternary"
           }
          ],
          "surface": [
           {
            "colorbar": {
             "outlinewidth": 0,
             "ticks": ""
            },
            "colorscale": [
             [
              0,
              "#0d0887"
             ],
             [
              0.1111111111111111,
              "#46039f"
             ],
             [
              0.2222222222222222,
              "#7201a8"
             ],
             [
              0.3333333333333333,
              "#9c179e"
             ],
             [
              0.4444444444444444,
              "#bd3786"
             ],
             [
              0.5555555555555556,
              "#d8576b"
             ],
             [
              0.6666666666666666,
              "#ed7953"
             ],
             [
              0.7777777777777778,
              "#fb9f3a"
             ],
             [
              0.8888888888888888,
              "#fdca26"
             ],
             [
              1,
              "#f0f921"
             ]
            ],
            "type": "surface"
           }
          ],
          "table": [
           {
            "cells": {
             "fill": {
              "color": "#EBF0F8"
             },
             "line": {
              "color": "white"
             }
            },
            "header": {
             "fill": {
              "color": "#C8D4E3"
             },
             "line": {
              "color": "white"
             }
            },
            "type": "table"
           }
          ]
         },
         "layout": {
          "annotationdefaults": {
           "arrowcolor": "#2a3f5f",
           "arrowhead": 0,
           "arrowwidth": 1
          },
          "autotypenumbers": "strict",
          "coloraxis": {
           "colorbar": {
            "outlinewidth": 0,
            "ticks": ""
           }
          },
          "colorscale": {
           "diverging": [
            [
             0,
             "#8e0152"
            ],
            [
             0.1,
             "#c51b7d"
            ],
            [
             0.2,
             "#de77ae"
            ],
            [
             0.3,
             "#f1b6da"
            ],
            [
             0.4,
             "#fde0ef"
            ],
            [
             0.5,
             "#f7f7f7"
            ],
            [
             0.6,
             "#e6f5d0"
            ],
            [
             0.7,
             "#b8e186"
            ],
            [
             0.8,
             "#7fbc41"
            ],
            [
             0.9,
             "#4d9221"
            ],
            [
             1,
             "#276419"
            ]
           ],
           "sequential": [
            [
             0,
             "#0d0887"
            ],
            [
             0.1111111111111111,
             "#46039f"
            ],
            [
             0.2222222222222222,
             "#7201a8"
            ],
            [
             0.3333333333333333,
             "#9c179e"
            ],
            [
             0.4444444444444444,
             "#bd3786"
            ],
            [
             0.5555555555555556,
             "#d8576b"
            ],
            [
             0.6666666666666666,
             "#ed7953"
            ],
            [
             0.7777777777777778,
             "#fb9f3a"
            ],
            [
             0.8888888888888888,
             "#fdca26"
            ],
            [
             1,
             "#f0f921"
            ]
           ],
           "sequentialminus": [
            [
             0,
             "#0d0887"
            ],
            [
             0.1111111111111111,
             "#46039f"
            ],
            [
             0.2222222222222222,
             "#7201a8"
            ],
            [
             0.3333333333333333,
             "#9c179e"
            ],
            [
             0.4444444444444444,
             "#bd3786"
            ],
            [
             0.5555555555555556,
             "#d8576b"
            ],
            [
             0.6666666666666666,
             "#ed7953"
            ],
            [
             0.7777777777777778,
             "#fb9f3a"
            ],
            [
             0.8888888888888888,
             "#fdca26"
            ],
            [
             1,
             "#f0f921"
            ]
           ]
          },
          "colorway": [
           "#636efa",
           "#EF553B",
           "#00cc96",
           "#ab63fa",
           "#FFA15A",
           "#19d3f3",
           "#FF6692",
           "#B6E880",
           "#FF97FF",
           "#FECB52"
          ],
          "font": {
           "color": "#2a3f5f"
          },
          "geo": {
           "bgcolor": "white",
           "lakecolor": "white",
           "landcolor": "#E5ECF6",
           "showlakes": true,
           "showland": true,
           "subunitcolor": "white"
          },
          "hoverlabel": {
           "align": "left"
          },
          "hovermode": "closest",
          "mapbox": {
           "style": "light"
          },
          "paper_bgcolor": "white",
          "plot_bgcolor": "#E5ECF6",
          "polar": {
           "angularaxis": {
            "gridcolor": "white",
            "linecolor": "white",
            "ticks": ""
           },
           "bgcolor": "#E5ECF6",
           "radialaxis": {
            "gridcolor": "white",
            "linecolor": "white",
            "ticks": ""
           }
          },
          "scene": {
           "xaxis": {
            "backgroundcolor": "#E5ECF6",
            "gridcolor": "white",
            "gridwidth": 2,
            "linecolor": "white",
            "showbackground": true,
            "ticks": "",
            "zerolinecolor": "white"
           },
           "yaxis": {
            "backgroundcolor": "#E5ECF6",
            "gridcolor": "white",
            "gridwidth": 2,
            "linecolor": "white",
            "showbackground": true,
            "ticks": "",
            "zerolinecolor": "white"
           },
           "zaxis": {
            "backgroundcolor": "#E5ECF6",
            "gridcolor": "white",
            "gridwidth": 2,
            "linecolor": "white",
            "showbackground": true,
            "ticks": "",
            "zerolinecolor": "white"
           }
          },
          "shapedefaults": {
           "line": {
            "color": "#2a3f5f"
           }
          },
          "ternary": {
           "aaxis": {
            "gridcolor": "white",
            "linecolor": "white",
            "ticks": ""
           },
           "baxis": {
            "gridcolor": "white",
            "linecolor": "white",
            "ticks": ""
           },
           "bgcolor": "#E5ECF6",
           "caxis": {
            "gridcolor": "white",
            "linecolor": "white",
            "ticks": ""
           }
          },
          "title": {
           "x": 0.05
          },
          "xaxis": {
           "automargin": true,
           "gridcolor": "white",
           "linecolor": "white",
           "ticks": "",
           "title": {
            "standoff": 15
           },
           "zerolinecolor": "white",
           "zerolinewidth": 2
          },
          "yaxis": {
           "automargin": true,
           "gridcolor": "white",
           "linecolor": "white",
           "ticks": "",
           "title": {
            "standoff": 15
           },
           "zerolinecolor": "white",
           "zerolinewidth": 2
          }
         }
        },
        "title": {
         "text": "MAE by Regression Model and Fingerprint Type - Initial Model"
        },
        "xaxis": {
         "title": {
          "text": "Regression Model"
         }
        },
        "yaxis": {
         "range": [
          0,
          0.5
         ],
         "title": {
          "text": "MAE"
         }
        }
       }
      }
     },
     "metadata": {},
     "output_type": "display_data"
    }
   ],
   "source": [
    "import plotly.graph_objects as go\n",
    "import pandas as pd\n",
    "\n",
    "# Define colors\n",
    "colors = ['#1f77b4', '#ff7f0e', '#2ca02c', '#d62728', '#9467bd', '#8c564b']\n",
    "\n",
    "# Find the best combinations for each metric\n",
    "best_r2 = results_df.loc[results_df['R² Score'].idxmax()]\n",
    "best_rmse = results_df.loc[results_df['RMSE'].idxmin()]\n",
    "best_mae = results_df.loc[results_df['MAE'].idxmin()]\n",
    "\n",
    "# Create traces for R² Score\n",
    "fig_r2 = go.Figure()\n",
    "for idx, fingerprint_type in enumerate(results_df['Fingerprint Type'].unique()):\n",
    "    subset = results_df[results_df['Fingerprint Type'] == fingerprint_type]\n",
    "    fig_r2.add_trace(go.Bar(\n",
    "        x=subset['Regression Model'],\n",
    "        y=subset['R² Score'],\n",
    "        name=fingerprint_type,\n",
    "        text=[f'{val:.5f}' for val in subset['R² Score']],\n",
    "        textposition='inside',\n",
    "        marker_color=colors[idx % len(colors)],\n",
    "    ))\n",
    "\n",
    "fig_r2.update_layout(\n",
    "    title='R² Score by Regression Model and Fingerprint Type - Initial Model',\n",
    "    xaxis_title='Regression Model',\n",
    "    yaxis_title='R² Score',\n",
    "    yaxis=dict(range=[0, 1.2]),\n",
    "    barmode='group',\n",
    "    legend_title='Fingerprint Type',\n",
    "    legend=dict(orientation=\"h\", yanchor=\"top\", y=1.15, xanchor=\"center\", x=0.5)\n",
    ")\n",
    "\n",
    "fig_r2.add_annotation(\n",
    "    x=best_r2['Regression Model'],\n",
    "    y=best_r2['R² Score'],\n",
    "    text=f\"Best: {best_r2['Regression Model']} ({best_r2['Fingerprint Type']})<br>R² Score: {best_r2['R² Score']:.5f}\",\n",
    "    showarrow=True,\n",
    "    arrowhead=2,\n",
    "    ax=-150,\n",
    "    ay=-50,\n",
    "    bordercolor=\"black\",\n",
    "    borderwidth=1\n",
    ")\n",
    "\n",
    "# Create traces for RMSE\n",
    "fig_rmse = go.Figure()\n",
    "for idx, fingerprint_type in enumerate(results_df['Fingerprint Type'].unique()):\n",
    "    subset = results_df[results_df['Fingerprint Type'] == fingerprint_type]\n",
    "    fig_rmse.add_trace(go.Bar(\n",
    "        x=subset['Regression Model'],\n",
    "        y=subset['RMSE'],\n",
    "        name=fingerprint_type,\n",
    "        text=[f'{val:.5f}' for val in subset['RMSE']],\n",
    "        textposition='inside',\n",
    "        marker_color=colors[idx % len(colors)],\n",
    "    ))\n",
    "\n",
    "fig_rmse.update_layout(\n",
    "    title='RMSE by Regression Model and Fingerprint Type - Initial Model',\n",
    "    xaxis_title='Regression Model',\n",
    "    yaxis_title='RMSE',\n",
    "    yaxis=dict(range=[0, 0.6]),\n",
    "    barmode='group',\n",
    "    legend_title='Fingerprint Type',\n",
    "    legend=dict(orientation=\"h\", yanchor=\"top\", y=1.15, xanchor=\"center\", x=0.5)\n",
    ")\n",
    "\n",
    "fig_rmse.add_annotation(\n",
    "    x=best_rmse['Regression Model'],\n",
    "    y=best_rmse['RMSE'],\n",
    "    text=f\"Best: {best_rmse['Regression Model']} ({best_rmse['Fingerprint Type']})<br>RMSE: {best_rmse['RMSE']:.5f}\",\n",
    "    showarrow=True,\n",
    "    arrowhead=2,\n",
    "    ax=-100,\n",
    "    ay=-120,\n",
    "    bordercolor=\"black\",\n",
    "    borderwidth=1\n",
    ")\n",
    "\n",
    "# Create traces for MAE\n",
    "fig_mae = go.Figure()\n",
    "for idx, fingerprint_type in enumerate(results_df['Fingerprint Type'].unique()):\n",
    "    subset = results_df[results_df['Fingerprint Type'] == fingerprint_type]\n",
    "    fig_mae.add_trace(go.Bar(\n",
    "        x=subset['Regression Model'],\n",
    "        y=subset['MAE'],\n",
    "        name=fingerprint_type,\n",
    "        text=[f'{val:.5f}' for val in subset['MAE']],\n",
    "        textposition='inside',\n",
    "        marker_color=colors[idx % len(colors)],\n",
    "    ))\n",
    "\n",
    "fig_mae.update_layout(\n",
    "    title='MAE by Regression Model and Fingerprint Type - Initial Model',\n",
    "    xaxis_title='Regression Model',\n",
    "    yaxis_title='MAE',\n",
    "    yaxis=dict(range=[0, 0.5]),\n",
    "    barmode='group',\n",
    "    legend_title='Fingerprint Type',\n",
    "    legend=dict(orientation=\"h\", yanchor=\"top\", y=1.15, xanchor=\"center\", x=0.5)\n",
    ")\n",
    "\n",
    "fig_mae.add_annotation(\n",
    "    x=best_mae['Regression Model'],\n",
    "    y=best_mae['MAE'],\n",
    "    text=f\"Best: {best_mae['Regression Model']} ({best_mae['Fingerprint Type']})<br>MAE: {best_mae['MAE']:.5f}\",\n",
    "    showarrow=True,\n",
    "    arrowhead=2,\n",
    "    ax=-100,\n",
    "    ay=-120,\n",
    "    bordercolor=\"black\",\n",
    "    borderwidth=1\n",
    ")\n",
    "\n",
    "# Show the plots\n",
    "fig_r2.show()\n",
    "fig_rmse.show()\n",
    "fig_mae.show()"
   ]
  },
  {
   "cell_type": "code",
   "execution_count": 7,
   "metadata": {},
   "outputs": [
    {
     "data": {
      "text/html": [
       "<div>\n",
       "<style scoped>\n",
       "    .dataframe tbody tr th:only-of-type {\n",
       "        vertical-align: middle;\n",
       "    }\n",
       "\n",
       "    .dataframe tbody tr th {\n",
       "        vertical-align: top;\n",
       "    }\n",
       "\n",
       "    .dataframe thead th {\n",
       "        text-align: right;\n",
       "    }\n",
       "</style>\n",
       "<table border=\"1\" class=\"dataframe\">\n",
       "  <thead>\n",
       "    <tr style=\"text-align: right;\">\n",
       "      <th></th>\n",
       "      <th>Fingerprint Type</th>\n",
       "      <th>Regression Model</th>\n",
       "      <th>Best Parameters</th>\n",
       "    </tr>\n",
       "  </thead>\n",
       "  <tbody>\n",
       "    <tr>\n",
       "      <th>0</th>\n",
       "      <td>Morgan</td>\n",
       "      <td>LightGBM</td>\n",
       "      <td>{'learning_rate': 0.23685145356420312, 'n_esti...</td>\n",
       "    </tr>\n",
       "    <tr>\n",
       "      <th>1</th>\n",
       "      <td>Morgan</td>\n",
       "      <td>Bayesian Ridge</td>\n",
       "      <td>{'alpha_1': 1e-06, 'alpha_2': 0.0001, 'lambda_...</td>\n",
       "    </tr>\n",
       "    <tr>\n",
       "      <th>2</th>\n",
       "      <td>Morgan</td>\n",
       "      <td>KNN Regressor</td>\n",
       "      <td>{'n_neighbors': 7, 'p': 1, 'weights': 'distance'}</td>\n",
       "    </tr>\n",
       "    <tr>\n",
       "      <th>3</th>\n",
       "      <td>Morgan</td>\n",
       "      <td>Ridge</td>\n",
       "      <td>{'alpha': 1.0}</td>\n",
       "    </tr>\n",
       "    <tr>\n",
       "      <th>4</th>\n",
       "      <td>Morgan</td>\n",
       "      <td>Decision Tree</td>\n",
       "      <td>{'max_depth': None, 'min_samples_leaf': 2, 'mi...</td>\n",
       "    </tr>\n",
       "    <tr>\n",
       "      <th>5</th>\n",
       "      <td>MACCS</td>\n",
       "      <td>LightGBM</td>\n",
       "      <td>{'learning_rate': 0.23685145356420312, 'n_esti...</td>\n",
       "    </tr>\n",
       "    <tr>\n",
       "      <th>6</th>\n",
       "      <td>MACCS</td>\n",
       "      <td>Bayesian Ridge</td>\n",
       "      <td>{'alpha_1': 0.0001, 'alpha_2': 1e-06, 'lambda_...</td>\n",
       "    </tr>\n",
       "    <tr>\n",
       "      <th>7</th>\n",
       "      <td>MACCS</td>\n",
       "      <td>KNN Regressor</td>\n",
       "      <td>{'n_neighbors': 7, 'p': 1, 'weights': 'distance'}</td>\n",
       "    </tr>\n",
       "    <tr>\n",
       "      <th>8</th>\n",
       "      <td>MACCS</td>\n",
       "      <td>Ridge</td>\n",
       "      <td>{'alpha': 0.1}</td>\n",
       "    </tr>\n",
       "    <tr>\n",
       "      <th>9</th>\n",
       "      <td>MACCS</td>\n",
       "      <td>Decision Tree</td>\n",
       "      <td>{'max_depth': 30, 'min_samples_leaf': 2, 'min_...</td>\n",
       "    </tr>\n",
       "    <tr>\n",
       "      <th>10</th>\n",
       "      <td>Atom Pair</td>\n",
       "      <td>LightGBM</td>\n",
       "      <td>{'learning_rate': 0.23685145356420312, 'n_esti...</td>\n",
       "    </tr>\n",
       "    <tr>\n",
       "      <th>11</th>\n",
       "      <td>Atom Pair</td>\n",
       "      <td>Bayesian Ridge</td>\n",
       "      <td>{'alpha_1': 0.0001, 'alpha_2': 1e-06, 'lambda_...</td>\n",
       "    </tr>\n",
       "    <tr>\n",
       "      <th>12</th>\n",
       "      <td>Atom Pair</td>\n",
       "      <td>KNN Regressor</td>\n",
       "      <td>{'n_neighbors': 7, 'p': 1, 'weights': 'distance'}</td>\n",
       "    </tr>\n",
       "    <tr>\n",
       "      <th>13</th>\n",
       "      <td>Atom Pair</td>\n",
       "      <td>Ridge</td>\n",
       "      <td>{'alpha': 10.0}</td>\n",
       "    </tr>\n",
       "    <tr>\n",
       "      <th>14</th>\n",
       "      <td>Atom Pair</td>\n",
       "      <td>Decision Tree</td>\n",
       "      <td>{'max_depth': None, 'min_samples_leaf': 4, 'mi...</td>\n",
       "    </tr>\n",
       "    <tr>\n",
       "      <th>15</th>\n",
       "      <td>FCFP</td>\n",
       "      <td>LightGBM</td>\n",
       "      <td>{'learning_rate': 0.23685145356420312, 'n_esti...</td>\n",
       "    </tr>\n",
       "    <tr>\n",
       "      <th>16</th>\n",
       "      <td>FCFP</td>\n",
       "      <td>Bayesian Ridge</td>\n",
       "      <td>{'alpha_1': 0.0001, 'alpha_2': 1e-06, 'lambda_...</td>\n",
       "    </tr>\n",
       "    <tr>\n",
       "      <th>17</th>\n",
       "      <td>FCFP</td>\n",
       "      <td>KNN Regressor</td>\n",
       "      <td>{'n_neighbors': 5, 'p': 1, 'weights': 'uniform'}</td>\n",
       "    </tr>\n",
       "    <tr>\n",
       "      <th>18</th>\n",
       "      <td>FCFP</td>\n",
       "      <td>Ridge</td>\n",
       "      <td>{'alpha': 1.0}</td>\n",
       "    </tr>\n",
       "    <tr>\n",
       "      <th>19</th>\n",
       "      <td>FCFP</td>\n",
       "      <td>Decision Tree</td>\n",
       "      <td>{'max_depth': None, 'min_samples_leaf': 2, 'mi...</td>\n",
       "    </tr>\n",
       "  </tbody>\n",
       "</table>\n",
       "</div>"
      ],
      "text/plain": [
       "   Fingerprint Type Regression Model  \\\n",
       "0            Morgan         LightGBM   \n",
       "1            Morgan   Bayesian Ridge   \n",
       "2            Morgan    KNN Regressor   \n",
       "3            Morgan            Ridge   \n",
       "4            Morgan    Decision Tree   \n",
       "5             MACCS         LightGBM   \n",
       "6             MACCS   Bayesian Ridge   \n",
       "7             MACCS    KNN Regressor   \n",
       "8             MACCS            Ridge   \n",
       "9             MACCS    Decision Tree   \n",
       "10        Atom Pair         LightGBM   \n",
       "11        Atom Pair   Bayesian Ridge   \n",
       "12        Atom Pair    KNN Regressor   \n",
       "13        Atom Pair            Ridge   \n",
       "14        Atom Pair    Decision Tree   \n",
       "15             FCFP         LightGBM   \n",
       "16             FCFP   Bayesian Ridge   \n",
       "17             FCFP    KNN Regressor   \n",
       "18             FCFP            Ridge   \n",
       "19             FCFP    Decision Tree   \n",
       "\n",
       "                                      Best Parameters  \n",
       "0   {'learning_rate': 0.23685145356420312, 'n_esti...  \n",
       "1   {'alpha_1': 1e-06, 'alpha_2': 0.0001, 'lambda_...  \n",
       "2   {'n_neighbors': 7, 'p': 1, 'weights': 'distance'}  \n",
       "3                                      {'alpha': 1.0}  \n",
       "4   {'max_depth': None, 'min_samples_leaf': 2, 'mi...  \n",
       "5   {'learning_rate': 0.23685145356420312, 'n_esti...  \n",
       "6   {'alpha_1': 0.0001, 'alpha_2': 1e-06, 'lambda_...  \n",
       "7   {'n_neighbors': 7, 'p': 1, 'weights': 'distance'}  \n",
       "8                                      {'alpha': 0.1}  \n",
       "9   {'max_depth': 30, 'min_samples_leaf': 2, 'min_...  \n",
       "10  {'learning_rate': 0.23685145356420312, 'n_esti...  \n",
       "11  {'alpha_1': 0.0001, 'alpha_2': 1e-06, 'lambda_...  \n",
       "12  {'n_neighbors': 7, 'p': 1, 'weights': 'distance'}  \n",
       "13                                    {'alpha': 10.0}  \n",
       "14  {'max_depth': None, 'min_samples_leaf': 4, 'mi...  \n",
       "15  {'learning_rate': 0.23685145356420312, 'n_esti...  \n",
       "16  {'alpha_1': 0.0001, 'alpha_2': 1e-06, 'lambda_...  \n",
       "17   {'n_neighbors': 5, 'p': 1, 'weights': 'uniform'}  \n",
       "18                                     {'alpha': 1.0}  \n",
       "19  {'max_depth': None, 'min_samples_leaf': 2, 'mi...  "
      ]
     },
     "execution_count": 7,
     "metadata": {},
     "output_type": "execute_result"
    }
   ],
   "source": [
    "path = (r\"C:\\Users\\Chamod Peiris\\Documents\\Curcumin_Scripts\\initcurcumin_optimizedparams.csv\")\n",
    "parameters = pd.read_csv(path).iloc[:,:3]\n",
    "parameters"
   ]
  },
  {
   "cell_type": "code",
   "execution_count": 8,
   "metadata": {},
   "outputs": [
    {
     "name": "stdout",
     "output_type": "stream",
     "text": [
      "Training LightGBM model with Morgan fingerprints and best parameters...\n",
      "[LightGBM] [Info] Auto-choosing row-wise multi-threading, the overhead of testing was 0.009695 seconds.\n",
      "You can set `force_row_wise=true` to remove the overhead.\n",
      "And if memory is not enough, you can set `force_col_wise=true`.\n",
      "[LightGBM] [Info] Total Bins 2290\n",
      "[LightGBM] [Info] Number of data points in the train set: 9541, number of used features: 1145\n",
      "[LightGBM] [Info] Start training from score 2.700884\n",
      "Finished processing Morgan fingerprints with optimized LightGBM model\n",
      "Training Bayesian Ridge model with Morgan fingerprints and best parameters...\n",
      "Finished processing Morgan fingerprints with optimized Bayesian Ridge model\n",
      "Training KNN Regressor model with Morgan fingerprints and best parameters...\n",
      "Finished processing Morgan fingerprints with optimized KNN Regressor model\n",
      "Training Ridge model with Morgan fingerprints and best parameters...\n",
      "Finished processing Morgan fingerprints with optimized Ridge model\n",
      "Training Decision Tree model with Morgan fingerprints and best parameters...\n",
      "Finished processing Morgan fingerprints with optimized Decision Tree model\n",
      "Training LightGBM model with MACCS fingerprints and best parameters...\n",
      "[LightGBM] [Info] Auto-choosing row-wise multi-threading, the overhead of testing was 0.000688 seconds.\n",
      "You can set `force_row_wise=true` to remove the overhead.\n",
      "And if memory is not enough, you can set `force_col_wise=true`.\n",
      "[LightGBM] [Info] Total Bins 204\n",
      "[LightGBM] [Info] Number of data points in the train set: 9541, number of used features: 102\n",
      "[LightGBM] [Info] Start training from score 2.700884\n",
      "Finished processing MACCS fingerprints with optimized LightGBM model\n",
      "Training Bayesian Ridge model with MACCS fingerprints and best parameters...\n",
      "Finished processing MACCS fingerprints with optimized Bayesian Ridge model\n",
      "Training KNN Regressor model with MACCS fingerprints and best parameters...\n",
      "Finished processing MACCS fingerprints with optimized KNN Regressor model\n",
      "Training Ridge model with MACCS fingerprints and best parameters...\n",
      "Finished processing MACCS fingerprints with optimized Ridge model\n",
      "Training Decision Tree model with MACCS fingerprints and best parameters...\n",
      "Finished processing MACCS fingerprints with optimized Decision Tree model\n",
      "Training LightGBM model with Atom Pair fingerprints and best parameters...\n",
      "[LightGBM] [Info] Auto-choosing row-wise multi-threading, the overhead of testing was 0.002966 seconds.\n",
      "You can set `force_row_wise=true` to remove the overhead.\n",
      "And if memory is not enough, you can set `force_col_wise=true`.\n",
      "[LightGBM] [Info] Total Bins 580\n",
      "[LightGBM] [Info] Number of data points in the train set: 9541, number of used features: 290\n",
      "[LightGBM] [Info] Start training from score 2.700884\n",
      "Finished processing Atom Pair fingerprints with optimized LightGBM model\n",
      "Training Bayesian Ridge model with Atom Pair fingerprints and best parameters...\n",
      "Finished processing Atom Pair fingerprints with optimized Bayesian Ridge model\n",
      "Training KNN Regressor model with Atom Pair fingerprints and best parameters...\n",
      "Finished processing Atom Pair fingerprints with optimized KNN Regressor model\n",
      "Training Ridge model with Atom Pair fingerprints and best parameters...\n",
      "Finished processing Atom Pair fingerprints with optimized Ridge model\n",
      "Training Decision Tree model with Atom Pair fingerprints and best parameters...\n",
      "Finished processing Atom Pair fingerprints with optimized Decision Tree model\n",
      "Training LightGBM model with FCFP fingerprints and best parameters...\n",
      "[LightGBM] [Info] Auto-choosing row-wise multi-threading, the overhead of testing was 0.006294 seconds.\n",
      "You can set `force_row_wise=true` to remove the overhead.\n",
      "And if memory is not enough, you can set `force_col_wise=true`.\n",
      "[LightGBM] [Info] Total Bins 1322\n",
      "[LightGBM] [Info] Number of data points in the train set: 9541, number of used features: 661\n",
      "[LightGBM] [Info] Start training from score 2.700884\n",
      "Finished processing FCFP fingerprints with optimized LightGBM model\n",
      "Training Bayesian Ridge model with FCFP fingerprints and best parameters...\n",
      "Finished processing FCFP fingerprints with optimized Bayesian Ridge model\n",
      "Training KNN Regressor model with FCFP fingerprints and best parameters...\n",
      "Finished processing FCFP fingerprints with optimized KNN Regressor model\n",
      "Training Ridge model with FCFP fingerprints and best parameters...\n",
      "Finished processing FCFP fingerprints with optimized Ridge model\n",
      "Training Decision Tree model with FCFP fingerprints and best parameters...\n",
      "Finished processing FCFP fingerprints with optimized Decision Tree model\n"
     ]
    },
    {
     "data": {
      "text/html": [
       "<div>\n",
       "<style scoped>\n",
       "    .dataframe tbody tr th:only-of-type {\n",
       "        vertical-align: middle;\n",
       "    }\n",
       "\n",
       "    .dataframe tbody tr th {\n",
       "        vertical-align: top;\n",
       "    }\n",
       "\n",
       "    .dataframe thead th {\n",
       "        text-align: right;\n",
       "    }\n",
       "</style>\n",
       "<table border=\"1\" class=\"dataframe\">\n",
       "  <thead>\n",
       "    <tr style=\"text-align: right;\">\n",
       "      <th></th>\n",
       "      <th>Fingerprint Type</th>\n",
       "      <th>Regression Model</th>\n",
       "      <th>Best Parameters</th>\n",
       "      <th>R² Score</th>\n",
       "      <th>RMSE</th>\n",
       "      <th>MAE</th>\n",
       "      <th>MSE</th>\n",
       "    </tr>\n",
       "  </thead>\n",
       "  <tbody>\n",
       "    <tr>\n",
       "      <th>0</th>\n",
       "      <td>Morgan</td>\n",
       "      <td>LightGBM</td>\n",
       "      <td>{'learning_rate': 0.23685145356420312, 'n_esti...</td>\n",
       "      <td>0.834221</td>\n",
       "      <td>0.242895</td>\n",
       "      <td>0.089606</td>\n",
       "      <td>0.058998</td>\n",
       "    </tr>\n",
       "    <tr>\n",
       "      <th>1</th>\n",
       "      <td>Morgan</td>\n",
       "      <td>Bayesian Ridge</td>\n",
       "      <td>{'alpha_1': 1e-06, 'alpha_2': 0.0001, 'lambda_...</td>\n",
       "      <td>0.771279</td>\n",
       "      <td>0.285303</td>\n",
       "      <td>0.147993</td>\n",
       "      <td>0.081398</td>\n",
       "    </tr>\n",
       "    <tr>\n",
       "      <th>2</th>\n",
       "      <td>Morgan</td>\n",
       "      <td>KNN Regressor</td>\n",
       "      <td>{'n_neighbors': 7, 'p': 1, 'weights': 'distance'}</td>\n",
       "      <td>0.724244</td>\n",
       "      <td>0.313268</td>\n",
       "      <td>0.162929</td>\n",
       "      <td>0.098137</td>\n",
       "    </tr>\n",
       "    <tr>\n",
       "      <th>3</th>\n",
       "      <td>Morgan</td>\n",
       "      <td>Ridge</td>\n",
       "      <td>{'alpha': 1.0}</td>\n",
       "      <td>0.772076</td>\n",
       "      <td>0.284806</td>\n",
       "      <td>0.147027</td>\n",
       "      <td>0.081114</td>\n",
       "    </tr>\n",
       "    <tr>\n",
       "      <th>4</th>\n",
       "      <td>Morgan</td>\n",
       "      <td>Decision Tree</td>\n",
       "      <td>{'max_depth': None, 'min_samples_leaf': 2, 'mi...</td>\n",
       "      <td>0.740124</td>\n",
       "      <td>0.304114</td>\n",
       "      <td>0.141089</td>\n",
       "      <td>0.092485</td>\n",
       "    </tr>\n",
       "    <tr>\n",
       "      <th>5</th>\n",
       "      <td>MACCS</td>\n",
       "      <td>LightGBM</td>\n",
       "      <td>{'learning_rate': 0.23685145356420312, 'n_esti...</td>\n",
       "      <td>0.723474</td>\n",
       "      <td>0.313705</td>\n",
       "      <td>0.176918</td>\n",
       "      <td>0.098411</td>\n",
       "    </tr>\n",
       "    <tr>\n",
       "      <th>6</th>\n",
       "      <td>MACCS</td>\n",
       "      <td>Bayesian Ridge</td>\n",
       "      <td>{'alpha_1': 0.0001, 'alpha_2': 1e-06, 'lambda_...</td>\n",
       "      <td>0.577105</td>\n",
       "      <td>0.387945</td>\n",
       "      <td>0.260165</td>\n",
       "      <td>0.150501</td>\n",
       "    </tr>\n",
       "    <tr>\n",
       "      <th>7</th>\n",
       "      <td>MACCS</td>\n",
       "      <td>KNN Regressor</td>\n",
       "      <td>{'n_neighbors': 7, 'p': 1, 'weights': 'distance'}</td>\n",
       "      <td>0.686137</td>\n",
       "      <td>0.334213</td>\n",
       "      <td>0.193059</td>\n",
       "      <td>0.111699</td>\n",
       "    </tr>\n",
       "    <tr>\n",
       "      <th>8</th>\n",
       "      <td>MACCS</td>\n",
       "      <td>Ridge</td>\n",
       "      <td>{'alpha': 0.1}</td>\n",
       "      <td>0.577596</td>\n",
       "      <td>0.387719</td>\n",
       "      <td>0.260026</td>\n",
       "      <td>0.150326</td>\n",
       "    </tr>\n",
       "    <tr>\n",
       "      <th>9</th>\n",
       "      <td>MACCS</td>\n",
       "      <td>Decision Tree</td>\n",
       "      <td>{'max_depth': 30, 'min_samples_leaf': 2, 'min_...</td>\n",
       "      <td>0.702942</td>\n",
       "      <td>0.325143</td>\n",
       "      <td>0.187278</td>\n",
       "      <td>0.105718</td>\n",
       "    </tr>\n",
       "    <tr>\n",
       "      <th>10</th>\n",
       "      <td>Atom Pair</td>\n",
       "      <td>LightGBM</td>\n",
       "      <td>{'learning_rate': 0.23685145356420312, 'n_esti...</td>\n",
       "      <td>0.708252</td>\n",
       "      <td>0.322223</td>\n",
       "      <td>0.172405</td>\n",
       "      <td>0.103828</td>\n",
       "    </tr>\n",
       "    <tr>\n",
       "      <th>11</th>\n",
       "      <td>Atom Pair</td>\n",
       "      <td>Bayesian Ridge</td>\n",
       "      <td>{'alpha_1': 0.0001, 'alpha_2': 1e-06, 'lambda_...</td>\n",
       "      <td>0.392219</td>\n",
       "      <td>0.465079</td>\n",
       "      <td>0.327447</td>\n",
       "      <td>0.216299</td>\n",
       "    </tr>\n",
       "    <tr>\n",
       "      <th>12</th>\n",
       "      <td>Atom Pair</td>\n",
       "      <td>KNN Regressor</td>\n",
       "      <td>{'n_neighbors': 7, 'p': 1, 'weights': 'distance'}</td>\n",
       "      <td>0.579326</td>\n",
       "      <td>0.386925</td>\n",
       "      <td>0.225075</td>\n",
       "      <td>0.149711</td>\n",
       "    </tr>\n",
       "    <tr>\n",
       "      <th>13</th>\n",
       "      <td>Atom Pair</td>\n",
       "      <td>Ridge</td>\n",
       "      <td>{'alpha': 10.0}</td>\n",
       "      <td>0.392244</td>\n",
       "      <td>0.465070</td>\n",
       "      <td>0.327504</td>\n",
       "      <td>0.216290</td>\n",
       "    </tr>\n",
       "    <tr>\n",
       "      <th>14</th>\n",
       "      <td>Atom Pair</td>\n",
       "      <td>Decision Tree</td>\n",
       "      <td>{'max_depth': None, 'min_samples_leaf': 4, 'mi...</td>\n",
       "      <td>0.493707</td>\n",
       "      <td>0.424477</td>\n",
       "      <td>0.246271</td>\n",
       "      <td>0.180181</td>\n",
       "    </tr>\n",
       "    <tr>\n",
       "      <th>15</th>\n",
       "      <td>FCFP</td>\n",
       "      <td>LightGBM</td>\n",
       "      <td>{'learning_rate': 0.23685145356420312, 'n_esti...</td>\n",
       "      <td>0.793950</td>\n",
       "      <td>0.270795</td>\n",
       "      <td>0.107769</td>\n",
       "      <td>0.073330</td>\n",
       "    </tr>\n",
       "    <tr>\n",
       "      <th>16</th>\n",
       "      <td>FCFP</td>\n",
       "      <td>Bayesian Ridge</td>\n",
       "      <td>{'alpha_1': 0.0001, 'alpha_2': 1e-06, 'lambda_...</td>\n",
       "      <td>0.755267</td>\n",
       "      <td>0.295121</td>\n",
       "      <td>0.162947</td>\n",
       "      <td>0.087096</td>\n",
       "    </tr>\n",
       "    <tr>\n",
       "      <th>17</th>\n",
       "      <td>FCFP</td>\n",
       "      <td>KNN Regressor</td>\n",
       "      <td>{'n_neighbors': 5, 'p': 1, 'weights': 'uniform'}</td>\n",
       "      <td>0.740263</td>\n",
       "      <td>0.304033</td>\n",
       "      <td>0.155232</td>\n",
       "      <td>0.092436</td>\n",
       "    </tr>\n",
       "    <tr>\n",
       "      <th>18</th>\n",
       "      <td>FCFP</td>\n",
       "      <td>Ridge</td>\n",
       "      <td>{'alpha': 1.0}</td>\n",
       "      <td>0.756359</td>\n",
       "      <td>0.294462</td>\n",
       "      <td>0.162344</td>\n",
       "      <td>0.086708</td>\n",
       "    </tr>\n",
       "    <tr>\n",
       "      <th>19</th>\n",
       "      <td>FCFP</td>\n",
       "      <td>Decision Tree</td>\n",
       "      <td>{'max_depth': None, 'min_samples_leaf': 2, 'mi...</td>\n",
       "      <td>0.754500</td>\n",
       "      <td>0.295583</td>\n",
       "      <td>0.148450</td>\n",
       "      <td>0.087369</td>\n",
       "    </tr>\n",
       "  </tbody>\n",
       "</table>\n",
       "</div>"
      ],
      "text/plain": [
       "   Fingerprint Type Regression Model  \\\n",
       "0            Morgan         LightGBM   \n",
       "1            Morgan   Bayesian Ridge   \n",
       "2            Morgan    KNN Regressor   \n",
       "3            Morgan            Ridge   \n",
       "4            Morgan    Decision Tree   \n",
       "5             MACCS         LightGBM   \n",
       "6             MACCS   Bayesian Ridge   \n",
       "7             MACCS    KNN Regressor   \n",
       "8             MACCS            Ridge   \n",
       "9             MACCS    Decision Tree   \n",
       "10        Atom Pair         LightGBM   \n",
       "11        Atom Pair   Bayesian Ridge   \n",
       "12        Atom Pair    KNN Regressor   \n",
       "13        Atom Pair            Ridge   \n",
       "14        Atom Pair    Decision Tree   \n",
       "15             FCFP         LightGBM   \n",
       "16             FCFP   Bayesian Ridge   \n",
       "17             FCFP    KNN Regressor   \n",
       "18             FCFP            Ridge   \n",
       "19             FCFP    Decision Tree   \n",
       "\n",
       "                                      Best Parameters  R² Score      RMSE  \\\n",
       "0   {'learning_rate': 0.23685145356420312, 'n_esti...  0.834221  0.242895   \n",
       "1   {'alpha_1': 1e-06, 'alpha_2': 0.0001, 'lambda_...  0.771279  0.285303   \n",
       "2   {'n_neighbors': 7, 'p': 1, 'weights': 'distance'}  0.724244  0.313268   \n",
       "3                                      {'alpha': 1.0}  0.772076  0.284806   \n",
       "4   {'max_depth': None, 'min_samples_leaf': 2, 'mi...  0.740124  0.304114   \n",
       "5   {'learning_rate': 0.23685145356420312, 'n_esti...  0.723474  0.313705   \n",
       "6   {'alpha_1': 0.0001, 'alpha_2': 1e-06, 'lambda_...  0.577105  0.387945   \n",
       "7   {'n_neighbors': 7, 'p': 1, 'weights': 'distance'}  0.686137  0.334213   \n",
       "8                                      {'alpha': 0.1}  0.577596  0.387719   \n",
       "9   {'max_depth': 30, 'min_samples_leaf': 2, 'min_...  0.702942  0.325143   \n",
       "10  {'learning_rate': 0.23685145356420312, 'n_esti...  0.708252  0.322223   \n",
       "11  {'alpha_1': 0.0001, 'alpha_2': 1e-06, 'lambda_...  0.392219  0.465079   \n",
       "12  {'n_neighbors': 7, 'p': 1, 'weights': 'distance'}  0.579326  0.386925   \n",
       "13                                    {'alpha': 10.0}  0.392244  0.465070   \n",
       "14  {'max_depth': None, 'min_samples_leaf': 4, 'mi...  0.493707  0.424477   \n",
       "15  {'learning_rate': 0.23685145356420312, 'n_esti...  0.793950  0.270795   \n",
       "16  {'alpha_1': 0.0001, 'alpha_2': 1e-06, 'lambda_...  0.755267  0.295121   \n",
       "17   {'n_neighbors': 5, 'p': 1, 'weights': 'uniform'}  0.740263  0.304033   \n",
       "18                                     {'alpha': 1.0}  0.756359  0.294462   \n",
       "19  {'max_depth': None, 'min_samples_leaf': 2, 'mi...  0.754500  0.295583   \n",
       "\n",
       "         MAE       MSE  \n",
       "0   0.089606  0.058998  \n",
       "1   0.147993  0.081398  \n",
       "2   0.162929  0.098137  \n",
       "3   0.147027  0.081114  \n",
       "4   0.141089  0.092485  \n",
       "5   0.176918  0.098411  \n",
       "6   0.260165  0.150501  \n",
       "7   0.193059  0.111699  \n",
       "8   0.260026  0.150326  \n",
       "9   0.187278  0.105718  \n",
       "10  0.172405  0.103828  \n",
       "11  0.327447  0.216299  \n",
       "12  0.225075  0.149711  \n",
       "13  0.327504  0.216290  \n",
       "14  0.246271  0.180181  \n",
       "15  0.107769  0.073330  \n",
       "16  0.162947  0.087096  \n",
       "17  0.155232  0.092436  \n",
       "18  0.162344  0.086708  \n",
       "19  0.148450  0.087369  "
      ]
     },
     "execution_count": 8,
     "metadata": {},
     "output_type": "execute_result"
    }
   ],
   "source": [
    "import pandas as pd\n",
    "from sklearn.model_selection import train_test_split\n",
    "from sklearn.metrics import r2_score, mean_squared_error, mean_absolute_error\n",
    "from lightgbm import LGBMRegressor\n",
    "from sklearn.linear_model import BayesianRidge, Ridge\n",
    "from sklearn.neighbors import KNeighborsRegressor\n",
    "from sklearn.tree import DecisionTreeRegressor\n",
    "import numpy as np\n",
    "\n",
    "# Initialize models (without parameters for now)\n",
    "models = {\n",
    "    'LightGBM': LGBMRegressor(),\n",
    "    'Bayesian Ridge': BayesianRidge(),\n",
    "    'KNN Regressor': KNeighborsRegressor(),\n",
    "    'Ridge': Ridge(),\n",
    "    'Decision Tree': DecisionTreeRegressor()\n",
    "}\n",
    "\n",
    "# Initialize an empty list to store the optimized results\n",
    "optimized_results = []\n",
    "\n",
    "# Iterate over the four dataframes\n",
    "for i, df in enumerate([opv_df_morgan, opv_df_maccs, opv_df_atom_pair, opv_df_fcfp]):\n",
    "    fingerprint_type = ['Morgan', 'MACCS', 'Atom Pair', 'FCFP'][i]\n",
    "    \n",
    "    X = df.iloc[:, 8:]  \n",
    "    y = df[\"GAP_calc\"]\n",
    "    \n",
    "    X_train, X_test, y_train, y_test = train_test_split(X, y, test_size=0.25, random_state=42)\n",
    "    \n",
    "    # Filter the 'parameters' DataFrame for this fingerprint type\n",
    "    param_subset = parameters[parameters['Fingerprint Type'] == fingerprint_type]\n",
    "    \n",
    "    # Iterate over the models to apply best parameters from the 'parameters' DataFrame\n",
    "    for model_name in models.keys():\n",
    "        # Extract best parameters for the current model and fingerprint type\n",
    "        best_params_row = param_subset[param_subset['Regression Model'] == model_name]\n",
    "        \n",
    "        if not best_params_row.empty:\n",
    "            # Extract the best parameters as a dictionary\n",
    "            best_params = eval(best_params_row.iloc[0]['Best Parameters'])  # Assuming parameters are stored as a dictionary string\n",
    "\n",
    "            # Update the model with the best parameters\n",
    "            model = models[model_name].set_params(**best_params)\n",
    "            \n",
    "            print(f'Training {model_name} model with {fingerprint_type} fingerprints and best parameters...')\n",
    "            \n",
    "            # Train the model\n",
    "            model.fit(X_train, y_train)\n",
    "            \n",
    "            # Make predictions using the trained model\n",
    "            y_pred = model.predict(X_test)\n",
    "            \n",
    "            # Calculate metrics\n",
    "            r2 = r2_score(y_test, y_pred)\n",
    "            rmse = np.sqrt(mean_squared_error(y_test, y_pred))\n",
    "            mae = mean_absolute_error(y_test, y_pred)\n",
    "            mse = mean_squared_error(y_test, y_pred)\n",
    "            \n",
    "            # Append the results to the optimized_results list\n",
    "            optimized_results.append({\n",
    "                'Fingerprint Type': fingerprint_type,\n",
    "                'Regression Model': model_name,\n",
    "                'Best Parameters': best_params,\n",
    "                'R² Score': r2,\n",
    "                'RMSE': rmse,\n",
    "                'MAE': mae,\n",
    "                'MSE': mse\n",
    "            })\n",
    "            \n",
    "            print(f'Finished processing {fingerprint_type} fingerprints with optimized {model_name} model')\n",
    "            \n",
    "# Convert the results to a DataFrame for analysis\n",
    "optimized_results_df = pd.DataFrame(optimized_results)\n",
    "optimized_results_df"
   ]
  },
  {
   "cell_type": "code",
   "execution_count": 9,
   "metadata": {},
   "outputs": [
    {
     "data": {
      "application/vnd.plotly.v1+json": {
       "config": {
        "plotlyServerURL": "https://plot.ly"
       },
       "data": [
        {
         "marker": {
          "color": "#1f77b4"
         },
         "name": "Morgan",
         "text": [
          "0.83422",
          "0.77128",
          "0.72424",
          "0.77208",
          "0.74012"
         ],
         "textposition": "inside",
         "type": "bar",
         "x": [
          "LightGBM",
          "Bayesian Ridge",
          "KNN Regressor",
          "Ridge",
          "Decision Tree"
         ],
         "y": [
          0.8342210041475204,
          0.7712790557048309,
          0.7242442892058282,
          0.7720756995068658,
          0.7401238459090349
         ]
        },
        {
         "marker": {
          "color": "#ff7f0e"
         },
         "name": "MACCS",
         "text": [
          "0.72347",
          "0.57710",
          "0.68614",
          "0.57760",
          "0.70294"
         ],
         "textposition": "inside",
         "type": "bar",
         "x": [
          "LightGBM",
          "Bayesian Ridge",
          "KNN Regressor",
          "Ridge",
          "Decision Tree"
         ],
         "y": [
          0.7234737692420559,
          0.5771046224164322,
          0.6861365481241932,
          0.5775958824282883,
          0.7029419162839012
         ]
        },
        {
         "marker": {
          "color": "#2ca02c"
         },
         "name": "Atom Pair",
         "text": [
          "0.70825",
          "0.39222",
          "0.57933",
          "0.39224",
          "0.49371"
         ],
         "textposition": "inside",
         "type": "bar",
         "x": [
          "LightGBM",
          "Bayesian Ridge",
          "KNN Regressor",
          "Ridge",
          "Decision Tree"
         ],
         "y": [
          0.7082522591668889,
          0.39221873023413945,
          0.5793259165890731,
          0.3922439251562826,
          0.493706719941031
         ]
        },
        {
         "marker": {
          "color": "#d62728"
         },
         "name": "FCFP",
         "text": [
          "0.79395",
          "0.75527",
          "0.74026",
          "0.75636",
          "0.75450"
         ],
         "textposition": "inside",
         "type": "bar",
         "x": [
          "LightGBM",
          "Bayesian Ridge",
          "KNN Regressor",
          "Ridge",
          "Decision Tree"
         ],
         "y": [
          0.793949852905295,
          0.755267112140048,
          0.7402625659400226,
          0.7563588253004824,
          0.7545003657112519
         ]
        }
       ],
       "layout": {
        "annotations": [
         {
          "arrowhead": 2,
          "ax": -150,
          "ay": -35,
          "bordercolor": "black",
          "borderwidth": 1,
          "showarrow": true,
          "text": "Best: LightGBM (Morgan)<br>R² Score: 0.83422",
          "x": "LightGBM",
          "y": 0.8342210041475204
         }
        ],
        "barmode": "group",
        "height": 600,
        "legend": {
         "orientation": "h",
         "title": {
          "text": "Fingerprint Type"
         },
         "x": 0.5,
         "xanchor": "center",
         "y": 1.08,
         "yanchor": "top"
        },
        "template": {
         "data": {
          "bar": [
           {
            "error_x": {
             "color": "#2a3f5f"
            },
            "error_y": {
             "color": "#2a3f5f"
            },
            "marker": {
             "line": {
              "color": "#E5ECF6",
              "width": 0.5
             },
             "pattern": {
              "fillmode": "overlay",
              "size": 10,
              "solidity": 0.2
             }
            },
            "type": "bar"
           }
          ],
          "barpolar": [
           {
            "marker": {
             "line": {
              "color": "#E5ECF6",
              "width": 0.5
             },
             "pattern": {
              "fillmode": "overlay",
              "size": 10,
              "solidity": 0.2
             }
            },
            "type": "barpolar"
           }
          ],
          "carpet": [
           {
            "aaxis": {
             "endlinecolor": "#2a3f5f",
             "gridcolor": "white",
             "linecolor": "white",
             "minorgridcolor": "white",
             "startlinecolor": "#2a3f5f"
            },
            "baxis": {
             "endlinecolor": "#2a3f5f",
             "gridcolor": "white",
             "linecolor": "white",
             "minorgridcolor": "white",
             "startlinecolor": "#2a3f5f"
            },
            "type": "carpet"
           }
          ],
          "choropleth": [
           {
            "colorbar": {
             "outlinewidth": 0,
             "ticks": ""
            },
            "type": "choropleth"
           }
          ],
          "contour": [
           {
            "colorbar": {
             "outlinewidth": 0,
             "ticks": ""
            },
            "colorscale": [
             [
              0,
              "#0d0887"
             ],
             [
              0.1111111111111111,
              "#46039f"
             ],
             [
              0.2222222222222222,
              "#7201a8"
             ],
             [
              0.3333333333333333,
              "#9c179e"
             ],
             [
              0.4444444444444444,
              "#bd3786"
             ],
             [
              0.5555555555555556,
              "#d8576b"
             ],
             [
              0.6666666666666666,
              "#ed7953"
             ],
             [
              0.7777777777777778,
              "#fb9f3a"
             ],
             [
              0.8888888888888888,
              "#fdca26"
             ],
             [
              1,
              "#f0f921"
             ]
            ],
            "type": "contour"
           }
          ],
          "contourcarpet": [
           {
            "colorbar": {
             "outlinewidth": 0,
             "ticks": ""
            },
            "type": "contourcarpet"
           }
          ],
          "heatmap": [
           {
            "colorbar": {
             "outlinewidth": 0,
             "ticks": ""
            },
            "colorscale": [
             [
              0,
              "#0d0887"
             ],
             [
              0.1111111111111111,
              "#46039f"
             ],
             [
              0.2222222222222222,
              "#7201a8"
             ],
             [
              0.3333333333333333,
              "#9c179e"
             ],
             [
              0.4444444444444444,
              "#bd3786"
             ],
             [
              0.5555555555555556,
              "#d8576b"
             ],
             [
              0.6666666666666666,
              "#ed7953"
             ],
             [
              0.7777777777777778,
              "#fb9f3a"
             ],
             [
              0.8888888888888888,
              "#fdca26"
             ],
             [
              1,
              "#f0f921"
             ]
            ],
            "type": "heatmap"
           }
          ],
          "heatmapgl": [
           {
            "colorbar": {
             "outlinewidth": 0,
             "ticks": ""
            },
            "colorscale": [
             [
              0,
              "#0d0887"
             ],
             [
              0.1111111111111111,
              "#46039f"
             ],
             [
              0.2222222222222222,
              "#7201a8"
             ],
             [
              0.3333333333333333,
              "#9c179e"
             ],
             [
              0.4444444444444444,
              "#bd3786"
             ],
             [
              0.5555555555555556,
              "#d8576b"
             ],
             [
              0.6666666666666666,
              "#ed7953"
             ],
             [
              0.7777777777777778,
              "#fb9f3a"
             ],
             [
              0.8888888888888888,
              "#fdca26"
             ],
             [
              1,
              "#f0f921"
             ]
            ],
            "type": "heatmapgl"
           }
          ],
          "histogram": [
           {
            "marker": {
             "pattern": {
              "fillmode": "overlay",
              "size": 10,
              "solidity": 0.2
             }
            },
            "type": "histogram"
           }
          ],
          "histogram2d": [
           {
            "colorbar": {
             "outlinewidth": 0,
             "ticks": ""
            },
            "colorscale": [
             [
              0,
              "#0d0887"
             ],
             [
              0.1111111111111111,
              "#46039f"
             ],
             [
              0.2222222222222222,
              "#7201a8"
             ],
             [
              0.3333333333333333,
              "#9c179e"
             ],
             [
              0.4444444444444444,
              "#bd3786"
             ],
             [
              0.5555555555555556,
              "#d8576b"
             ],
             [
              0.6666666666666666,
              "#ed7953"
             ],
             [
              0.7777777777777778,
              "#fb9f3a"
             ],
             [
              0.8888888888888888,
              "#fdca26"
             ],
             [
              1,
              "#f0f921"
             ]
            ],
            "type": "histogram2d"
           }
          ],
          "histogram2dcontour": [
           {
            "colorbar": {
             "outlinewidth": 0,
             "ticks": ""
            },
            "colorscale": [
             [
              0,
              "#0d0887"
             ],
             [
              0.1111111111111111,
              "#46039f"
             ],
             [
              0.2222222222222222,
              "#7201a8"
             ],
             [
              0.3333333333333333,
              "#9c179e"
             ],
             [
              0.4444444444444444,
              "#bd3786"
             ],
             [
              0.5555555555555556,
              "#d8576b"
             ],
             [
              0.6666666666666666,
              "#ed7953"
             ],
             [
              0.7777777777777778,
              "#fb9f3a"
             ],
             [
              0.8888888888888888,
              "#fdca26"
             ],
             [
              1,
              "#f0f921"
             ]
            ],
            "type": "histogram2dcontour"
           }
          ],
          "mesh3d": [
           {
            "colorbar": {
             "outlinewidth": 0,
             "ticks": ""
            },
            "type": "mesh3d"
           }
          ],
          "parcoords": [
           {
            "line": {
             "colorbar": {
              "outlinewidth": 0,
              "ticks": ""
             }
            },
            "type": "parcoords"
           }
          ],
          "pie": [
           {
            "automargin": true,
            "type": "pie"
           }
          ],
          "scatter": [
           {
            "fillpattern": {
             "fillmode": "overlay",
             "size": 10,
             "solidity": 0.2
            },
            "type": "scatter"
           }
          ],
          "scatter3d": [
           {
            "line": {
             "colorbar": {
              "outlinewidth": 0,
              "ticks": ""
             }
            },
            "marker": {
             "colorbar": {
              "outlinewidth": 0,
              "ticks": ""
             }
            },
            "type": "scatter3d"
           }
          ],
          "scattercarpet": [
           {
            "marker": {
             "colorbar": {
              "outlinewidth": 0,
              "ticks": ""
             }
            },
            "type": "scattercarpet"
           }
          ],
          "scattergeo": [
           {
            "marker": {
             "colorbar": {
              "outlinewidth": 0,
              "ticks": ""
             }
            },
            "type": "scattergeo"
           }
          ],
          "scattergl": [
           {
            "marker": {
             "colorbar": {
              "outlinewidth": 0,
              "ticks": ""
             }
            },
            "type": "scattergl"
           }
          ],
          "scattermapbox": [
           {
            "marker": {
             "colorbar": {
              "outlinewidth": 0,
              "ticks": ""
             }
            },
            "type": "scattermapbox"
           }
          ],
          "scatterpolar": [
           {
            "marker": {
             "colorbar": {
              "outlinewidth": 0,
              "ticks": ""
             }
            },
            "type": "scatterpolar"
           }
          ],
          "scatterpolargl": [
           {
            "marker": {
             "colorbar": {
              "outlinewidth": 0,
              "ticks": ""
             }
            },
            "type": "scatterpolargl"
           }
          ],
          "scatterternary": [
           {
            "marker": {
             "colorbar": {
              "outlinewidth": 0,
              "ticks": ""
             }
            },
            "type": "scatterternary"
           }
          ],
          "surface": [
           {
            "colorbar": {
             "outlinewidth": 0,
             "ticks": ""
            },
            "colorscale": [
             [
              0,
              "#0d0887"
             ],
             [
              0.1111111111111111,
              "#46039f"
             ],
             [
              0.2222222222222222,
              "#7201a8"
             ],
             [
              0.3333333333333333,
              "#9c179e"
             ],
             [
              0.4444444444444444,
              "#bd3786"
             ],
             [
              0.5555555555555556,
              "#d8576b"
             ],
             [
              0.6666666666666666,
              "#ed7953"
             ],
             [
              0.7777777777777778,
              "#fb9f3a"
             ],
             [
              0.8888888888888888,
              "#fdca26"
             ],
             [
              1,
              "#f0f921"
             ]
            ],
            "type": "surface"
           }
          ],
          "table": [
           {
            "cells": {
             "fill": {
              "color": "#EBF0F8"
             },
             "line": {
              "color": "white"
             }
            },
            "header": {
             "fill": {
              "color": "#C8D4E3"
             },
             "line": {
              "color": "white"
             }
            },
            "type": "table"
           }
          ]
         },
         "layout": {
          "annotationdefaults": {
           "arrowcolor": "#2a3f5f",
           "arrowhead": 0,
           "arrowwidth": 1
          },
          "autotypenumbers": "strict",
          "coloraxis": {
           "colorbar": {
            "outlinewidth": 0,
            "ticks": ""
           }
          },
          "colorscale": {
           "diverging": [
            [
             0,
             "#8e0152"
            ],
            [
             0.1,
             "#c51b7d"
            ],
            [
             0.2,
             "#de77ae"
            ],
            [
             0.3,
             "#f1b6da"
            ],
            [
             0.4,
             "#fde0ef"
            ],
            [
             0.5,
             "#f7f7f7"
            ],
            [
             0.6,
             "#e6f5d0"
            ],
            [
             0.7,
             "#b8e186"
            ],
            [
             0.8,
             "#7fbc41"
            ],
            [
             0.9,
             "#4d9221"
            ],
            [
             1,
             "#276419"
            ]
           ],
           "sequential": [
            [
             0,
             "#0d0887"
            ],
            [
             0.1111111111111111,
             "#46039f"
            ],
            [
             0.2222222222222222,
             "#7201a8"
            ],
            [
             0.3333333333333333,
             "#9c179e"
            ],
            [
             0.4444444444444444,
             "#bd3786"
            ],
            [
             0.5555555555555556,
             "#d8576b"
            ],
            [
             0.6666666666666666,
             "#ed7953"
            ],
            [
             0.7777777777777778,
             "#fb9f3a"
            ],
            [
             0.8888888888888888,
             "#fdca26"
            ],
            [
             1,
             "#f0f921"
            ]
           ],
           "sequentialminus": [
            [
             0,
             "#0d0887"
            ],
            [
             0.1111111111111111,
             "#46039f"
            ],
            [
             0.2222222222222222,
             "#7201a8"
            ],
            [
             0.3333333333333333,
             "#9c179e"
            ],
            [
             0.4444444444444444,
             "#bd3786"
            ],
            [
             0.5555555555555556,
             "#d8576b"
            ],
            [
             0.6666666666666666,
             "#ed7953"
            ],
            [
             0.7777777777777778,
             "#fb9f3a"
            ],
            [
             0.8888888888888888,
             "#fdca26"
            ],
            [
             1,
             "#f0f921"
            ]
           ]
          },
          "colorway": [
           "#636efa",
           "#EF553B",
           "#00cc96",
           "#ab63fa",
           "#FFA15A",
           "#19d3f3",
           "#FF6692",
           "#B6E880",
           "#FF97FF",
           "#FECB52"
          ],
          "font": {
           "color": "#2a3f5f"
          },
          "geo": {
           "bgcolor": "white",
           "lakecolor": "white",
           "landcolor": "#E5ECF6",
           "showlakes": true,
           "showland": true,
           "subunitcolor": "white"
          },
          "hoverlabel": {
           "align": "left"
          },
          "hovermode": "closest",
          "mapbox": {
           "style": "light"
          },
          "paper_bgcolor": "white",
          "plot_bgcolor": "#E5ECF6",
          "polar": {
           "angularaxis": {
            "gridcolor": "white",
            "linecolor": "white",
            "ticks": ""
           },
           "bgcolor": "#E5ECF6",
           "radialaxis": {
            "gridcolor": "white",
            "linecolor": "white",
            "ticks": ""
           }
          },
          "scene": {
           "xaxis": {
            "backgroundcolor": "#E5ECF6",
            "gridcolor": "white",
            "gridwidth": 2,
            "linecolor": "white",
            "showbackground": true,
            "ticks": "",
            "zerolinecolor": "white"
           },
           "yaxis": {
            "backgroundcolor": "#E5ECF6",
            "gridcolor": "white",
            "gridwidth": 2,
            "linecolor": "white",
            "showbackground": true,
            "ticks": "",
            "zerolinecolor": "white"
           },
           "zaxis": {
            "backgroundcolor": "#E5ECF6",
            "gridcolor": "white",
            "gridwidth": 2,
            "linecolor": "white",
            "showbackground": true,
            "ticks": "",
            "zerolinecolor": "white"
           }
          },
          "shapedefaults": {
           "line": {
            "color": "#2a3f5f"
           }
          },
          "ternary": {
           "aaxis": {
            "gridcolor": "white",
            "linecolor": "white",
            "ticks": ""
           },
           "baxis": {
            "gridcolor": "white",
            "linecolor": "white",
            "ticks": ""
           },
           "bgcolor": "#E5ECF6",
           "caxis": {
            "gridcolor": "white",
            "linecolor": "white",
            "ticks": ""
           }
          },
          "title": {
           "x": 0.05
          },
          "xaxis": {
           "automargin": true,
           "gridcolor": "white",
           "linecolor": "white",
           "ticks": "",
           "title": {
            "standoff": 15
           },
           "zerolinecolor": "white",
           "zerolinewidth": 2
          },
          "yaxis": {
           "automargin": true,
           "gridcolor": "white",
           "linecolor": "white",
           "ticks": "",
           "title": {
            "standoff": 15
           },
           "zerolinecolor": "white",
           "zerolinewidth": 2
          }
         }
        },
        "title": {
         "text": "R² Score by Regression Model and Fingerprint Type - Optimized Model"
        },
        "width": 900,
        "xaxis": {
         "categoryarray": [
          "Bayesian Ridge",
          "KNN Regressor",
          "LightGBM",
          "Ridge",
          "Decision Tree"
         ],
         "categoryorder": "array",
         "title": {
          "text": "Regression Model"
         }
        },
        "yaxis": {
         "range": [
          0,
          1.1
         ],
         "title": {
          "text": "R² Score"
         }
        }
       }
      }
     },
     "metadata": {},
     "output_type": "display_data"
    },
    {
     "data": {
      "application/vnd.plotly.v1+json": {
       "config": {
        "plotlyServerURL": "https://plot.ly"
       },
       "data": [
        {
         "marker": {
          "color": "#1f77b4"
         },
         "name": "Morgan",
         "text": [
          "0.24289",
          "0.28530",
          "0.31327",
          "0.28481",
          "0.30411"
         ],
         "textposition": "inside",
         "type": "bar",
         "x": [
          "LightGBM",
          "Bayesian Ridge",
          "KNN Regressor",
          "Ridge",
          "Decision Tree"
         ],
         "y": [
          0.24289475274165748,
          0.28530300644968765,
          0.31326771413541876,
          0.28480571240347613,
          0.30411412777570596
         ]
        },
        {
         "marker": {
          "color": "#ff7f0e"
         },
         "name": "MACCS",
         "text": [
          "0.31371",
          "0.38794",
          "0.33421",
          "0.38772",
          "0.32514"
         ],
         "textposition": "inside",
         "type": "bar",
         "x": [
          "LightGBM",
          "Bayesian Ridge",
          "KNN Regressor",
          "Ridge",
          "Decision Tree"
         ],
         "y": [
          0.31370507705740774,
          0.38794472369834276,
          0.3342133194368456,
          0.38771932857751457,
          0.3251427450969837
         ]
        },
        {
         "marker": {
          "color": "#2ca02c"
         },
         "name": "Atom Pair",
         "text": [
          "0.32222",
          "0.46508",
          "0.38692",
          "0.46507",
          "0.42448"
         ],
         "textposition": "inside",
         "type": "bar",
         "x": [
          "LightGBM",
          "Bayesian Ridge",
          "KNN Regressor",
          "Ridge",
          "Decision Tree"
         ],
         "y": [
          0.32222344115567314,
          0.4650793282821977,
          0.3869245258297839,
          0.46506968849936187,
          0.42447729201393397
         ]
        },
        {
         "marker": {
          "color": "#d62728"
         },
         "name": "FCFP",
         "text": [
          "0.27079",
          "0.29512",
          "0.30403",
          "0.29446",
          "0.29558"
         ],
         "textposition": "inside",
         "type": "bar",
         "x": [
          "LightGBM",
          "Bayesian Ridge",
          "KNN Regressor",
          "Ridge",
          "Decision Tree"
         ],
         "y": [
          0.27079450349402523,
          0.29512061547316026,
          0.3040329499688735,
          0.2944616374907523,
          0.29558255935315775
         ]
        }
       ],
       "layout": {
        "annotations": [
         {
          "arrowhead": 2,
          "ax": -100,
          "ay": -120,
          "bordercolor": "black",
          "borderwidth": 1,
          "showarrow": true,
          "text": "Best: LightGBM (Morgan)<br>RMSE: 0.24289",
          "x": "LightGBM",
          "y": 0.24289475274165748
         }
        ],
        "barmode": "group",
        "legend": {
         "title": {
          "text": "Fingerprint Type"
         }
        },
        "template": {
         "data": {
          "bar": [
           {
            "error_x": {
             "color": "#2a3f5f"
            },
            "error_y": {
             "color": "#2a3f5f"
            },
            "marker": {
             "line": {
              "color": "#E5ECF6",
              "width": 0.5
             },
             "pattern": {
              "fillmode": "overlay",
              "size": 10,
              "solidity": 0.2
             }
            },
            "type": "bar"
           }
          ],
          "barpolar": [
           {
            "marker": {
             "line": {
              "color": "#E5ECF6",
              "width": 0.5
             },
             "pattern": {
              "fillmode": "overlay",
              "size": 10,
              "solidity": 0.2
             }
            },
            "type": "barpolar"
           }
          ],
          "carpet": [
           {
            "aaxis": {
             "endlinecolor": "#2a3f5f",
             "gridcolor": "white",
             "linecolor": "white",
             "minorgridcolor": "white",
             "startlinecolor": "#2a3f5f"
            },
            "baxis": {
             "endlinecolor": "#2a3f5f",
             "gridcolor": "white",
             "linecolor": "white",
             "minorgridcolor": "white",
             "startlinecolor": "#2a3f5f"
            },
            "type": "carpet"
           }
          ],
          "choropleth": [
           {
            "colorbar": {
             "outlinewidth": 0,
             "ticks": ""
            },
            "type": "choropleth"
           }
          ],
          "contour": [
           {
            "colorbar": {
             "outlinewidth": 0,
             "ticks": ""
            },
            "colorscale": [
             [
              0,
              "#0d0887"
             ],
             [
              0.1111111111111111,
              "#46039f"
             ],
             [
              0.2222222222222222,
              "#7201a8"
             ],
             [
              0.3333333333333333,
              "#9c179e"
             ],
             [
              0.4444444444444444,
              "#bd3786"
             ],
             [
              0.5555555555555556,
              "#d8576b"
             ],
             [
              0.6666666666666666,
              "#ed7953"
             ],
             [
              0.7777777777777778,
              "#fb9f3a"
             ],
             [
              0.8888888888888888,
              "#fdca26"
             ],
             [
              1,
              "#f0f921"
             ]
            ],
            "type": "contour"
           }
          ],
          "contourcarpet": [
           {
            "colorbar": {
             "outlinewidth": 0,
             "ticks": ""
            },
            "type": "contourcarpet"
           }
          ],
          "heatmap": [
           {
            "colorbar": {
             "outlinewidth": 0,
             "ticks": ""
            },
            "colorscale": [
             [
              0,
              "#0d0887"
             ],
             [
              0.1111111111111111,
              "#46039f"
             ],
             [
              0.2222222222222222,
              "#7201a8"
             ],
             [
              0.3333333333333333,
              "#9c179e"
             ],
             [
              0.4444444444444444,
              "#bd3786"
             ],
             [
              0.5555555555555556,
              "#d8576b"
             ],
             [
              0.6666666666666666,
              "#ed7953"
             ],
             [
              0.7777777777777778,
              "#fb9f3a"
             ],
             [
              0.8888888888888888,
              "#fdca26"
             ],
             [
              1,
              "#f0f921"
             ]
            ],
            "type": "heatmap"
           }
          ],
          "heatmapgl": [
           {
            "colorbar": {
             "outlinewidth": 0,
             "ticks": ""
            },
            "colorscale": [
             [
              0,
              "#0d0887"
             ],
             [
              0.1111111111111111,
              "#46039f"
             ],
             [
              0.2222222222222222,
              "#7201a8"
             ],
             [
              0.3333333333333333,
              "#9c179e"
             ],
             [
              0.4444444444444444,
              "#bd3786"
             ],
             [
              0.5555555555555556,
              "#d8576b"
             ],
             [
              0.6666666666666666,
              "#ed7953"
             ],
             [
              0.7777777777777778,
              "#fb9f3a"
             ],
             [
              0.8888888888888888,
              "#fdca26"
             ],
             [
              1,
              "#f0f921"
             ]
            ],
            "type": "heatmapgl"
           }
          ],
          "histogram": [
           {
            "marker": {
             "pattern": {
              "fillmode": "overlay",
              "size": 10,
              "solidity": 0.2
             }
            },
            "type": "histogram"
           }
          ],
          "histogram2d": [
           {
            "colorbar": {
             "outlinewidth": 0,
             "ticks": ""
            },
            "colorscale": [
             [
              0,
              "#0d0887"
             ],
             [
              0.1111111111111111,
              "#46039f"
             ],
             [
              0.2222222222222222,
              "#7201a8"
             ],
             [
              0.3333333333333333,
              "#9c179e"
             ],
             [
              0.4444444444444444,
              "#bd3786"
             ],
             [
              0.5555555555555556,
              "#d8576b"
             ],
             [
              0.6666666666666666,
              "#ed7953"
             ],
             [
              0.7777777777777778,
              "#fb9f3a"
             ],
             [
              0.8888888888888888,
              "#fdca26"
             ],
             [
              1,
              "#f0f921"
             ]
            ],
            "type": "histogram2d"
           }
          ],
          "histogram2dcontour": [
           {
            "colorbar": {
             "outlinewidth": 0,
             "ticks": ""
            },
            "colorscale": [
             [
              0,
              "#0d0887"
             ],
             [
              0.1111111111111111,
              "#46039f"
             ],
             [
              0.2222222222222222,
              "#7201a8"
             ],
             [
              0.3333333333333333,
              "#9c179e"
             ],
             [
              0.4444444444444444,
              "#bd3786"
             ],
             [
              0.5555555555555556,
              "#d8576b"
             ],
             [
              0.6666666666666666,
              "#ed7953"
             ],
             [
              0.7777777777777778,
              "#fb9f3a"
             ],
             [
              0.8888888888888888,
              "#fdca26"
             ],
             [
              1,
              "#f0f921"
             ]
            ],
            "type": "histogram2dcontour"
           }
          ],
          "mesh3d": [
           {
            "colorbar": {
             "outlinewidth": 0,
             "ticks": ""
            },
            "type": "mesh3d"
           }
          ],
          "parcoords": [
           {
            "line": {
             "colorbar": {
              "outlinewidth": 0,
              "ticks": ""
             }
            },
            "type": "parcoords"
           }
          ],
          "pie": [
           {
            "automargin": true,
            "type": "pie"
           }
          ],
          "scatter": [
           {
            "fillpattern": {
             "fillmode": "overlay",
             "size": 10,
             "solidity": 0.2
            },
            "type": "scatter"
           }
          ],
          "scatter3d": [
           {
            "line": {
             "colorbar": {
              "outlinewidth": 0,
              "ticks": ""
             }
            },
            "marker": {
             "colorbar": {
              "outlinewidth": 0,
              "ticks": ""
             }
            },
            "type": "scatter3d"
           }
          ],
          "scattercarpet": [
           {
            "marker": {
             "colorbar": {
              "outlinewidth": 0,
              "ticks": ""
             }
            },
            "type": "scattercarpet"
           }
          ],
          "scattergeo": [
           {
            "marker": {
             "colorbar": {
              "outlinewidth": 0,
              "ticks": ""
             }
            },
            "type": "scattergeo"
           }
          ],
          "scattergl": [
           {
            "marker": {
             "colorbar": {
              "outlinewidth": 0,
              "ticks": ""
             }
            },
            "type": "scattergl"
           }
          ],
          "scattermapbox": [
           {
            "marker": {
             "colorbar": {
              "outlinewidth": 0,
              "ticks": ""
             }
            },
            "type": "scattermapbox"
           }
          ],
          "scatterpolar": [
           {
            "marker": {
             "colorbar": {
              "outlinewidth": 0,
              "ticks": ""
             }
            },
            "type": "scatterpolar"
           }
          ],
          "scatterpolargl": [
           {
            "marker": {
             "colorbar": {
              "outlinewidth": 0,
              "ticks": ""
             }
            },
            "type": "scatterpolargl"
           }
          ],
          "scatterternary": [
           {
            "marker": {
             "colorbar": {
              "outlinewidth": 0,
              "ticks": ""
             }
            },
            "type": "scatterternary"
           }
          ],
          "surface": [
           {
            "colorbar": {
             "outlinewidth": 0,
             "ticks": ""
            },
            "colorscale": [
             [
              0,
              "#0d0887"
             ],
             [
              0.1111111111111111,
              "#46039f"
             ],
             [
              0.2222222222222222,
              "#7201a8"
             ],
             [
              0.3333333333333333,
              "#9c179e"
             ],
             [
              0.4444444444444444,
              "#bd3786"
             ],
             [
              0.5555555555555556,
              "#d8576b"
             ],
             [
              0.6666666666666666,
              "#ed7953"
             ],
             [
              0.7777777777777778,
              "#fb9f3a"
             ],
             [
              0.8888888888888888,
              "#fdca26"
             ],
             [
              1,
              "#f0f921"
             ]
            ],
            "type": "surface"
           }
          ],
          "table": [
           {
            "cells": {
             "fill": {
              "color": "#EBF0F8"
             },
             "line": {
              "color": "white"
             }
            },
            "header": {
             "fill": {
              "color": "#C8D4E3"
             },
             "line": {
              "color": "white"
             }
            },
            "type": "table"
           }
          ]
         },
         "layout": {
          "annotationdefaults": {
           "arrowcolor": "#2a3f5f",
           "arrowhead": 0,
           "arrowwidth": 1
          },
          "autotypenumbers": "strict",
          "coloraxis": {
           "colorbar": {
            "outlinewidth": 0,
            "ticks": ""
           }
          },
          "colorscale": {
           "diverging": [
            [
             0,
             "#8e0152"
            ],
            [
             0.1,
             "#c51b7d"
            ],
            [
             0.2,
             "#de77ae"
            ],
            [
             0.3,
             "#f1b6da"
            ],
            [
             0.4,
             "#fde0ef"
            ],
            [
             0.5,
             "#f7f7f7"
            ],
            [
             0.6,
             "#e6f5d0"
            ],
            [
             0.7,
             "#b8e186"
            ],
            [
             0.8,
             "#7fbc41"
            ],
            [
             0.9,
             "#4d9221"
            ],
            [
             1,
             "#276419"
            ]
           ],
           "sequential": [
            [
             0,
             "#0d0887"
            ],
            [
             0.1111111111111111,
             "#46039f"
            ],
            [
             0.2222222222222222,
             "#7201a8"
            ],
            [
             0.3333333333333333,
             "#9c179e"
            ],
            [
             0.4444444444444444,
             "#bd3786"
            ],
            [
             0.5555555555555556,
             "#d8576b"
            ],
            [
             0.6666666666666666,
             "#ed7953"
            ],
            [
             0.7777777777777778,
             "#fb9f3a"
            ],
            [
             0.8888888888888888,
             "#fdca26"
            ],
            [
             1,
             "#f0f921"
            ]
           ],
           "sequentialminus": [
            [
             0,
             "#0d0887"
            ],
            [
             0.1111111111111111,
             "#46039f"
            ],
            [
             0.2222222222222222,
             "#7201a8"
            ],
            [
             0.3333333333333333,
             "#9c179e"
            ],
            [
             0.4444444444444444,
             "#bd3786"
            ],
            [
             0.5555555555555556,
             "#d8576b"
            ],
            [
             0.6666666666666666,
             "#ed7953"
            ],
            [
             0.7777777777777778,
             "#fb9f3a"
            ],
            [
             0.8888888888888888,
             "#fdca26"
            ],
            [
             1,
             "#f0f921"
            ]
           ]
          },
          "colorway": [
           "#636efa",
           "#EF553B",
           "#00cc96",
           "#ab63fa",
           "#FFA15A",
           "#19d3f3",
           "#FF6692",
           "#B6E880",
           "#FF97FF",
           "#FECB52"
          ],
          "font": {
           "color": "#2a3f5f"
          },
          "geo": {
           "bgcolor": "white",
           "lakecolor": "white",
           "landcolor": "#E5ECF6",
           "showlakes": true,
           "showland": true,
           "subunitcolor": "white"
          },
          "hoverlabel": {
           "align": "left"
          },
          "hovermode": "closest",
          "mapbox": {
           "style": "light"
          },
          "paper_bgcolor": "white",
          "plot_bgcolor": "#E5ECF6",
          "polar": {
           "angularaxis": {
            "gridcolor": "white",
            "linecolor": "white",
            "ticks": ""
           },
           "bgcolor": "#E5ECF6",
           "radialaxis": {
            "gridcolor": "white",
            "linecolor": "white",
            "ticks": ""
           }
          },
          "scene": {
           "xaxis": {
            "backgroundcolor": "#E5ECF6",
            "gridcolor": "white",
            "gridwidth": 2,
            "linecolor": "white",
            "showbackground": true,
            "ticks": "",
            "zerolinecolor": "white"
           },
           "yaxis": {
            "backgroundcolor": "#E5ECF6",
            "gridcolor": "white",
            "gridwidth": 2,
            "linecolor": "white",
            "showbackground": true,
            "ticks": "",
            "zerolinecolor": "white"
           },
           "zaxis": {
            "backgroundcolor": "#E5ECF6",
            "gridcolor": "white",
            "gridwidth": 2,
            "linecolor": "white",
            "showbackground": true,
            "ticks": "",
            "zerolinecolor": "white"
           }
          },
          "shapedefaults": {
           "line": {
            "color": "#2a3f5f"
           }
          },
          "ternary": {
           "aaxis": {
            "gridcolor": "white",
            "linecolor": "white",
            "ticks": ""
           },
           "baxis": {
            "gridcolor": "white",
            "linecolor": "white",
            "ticks": ""
           },
           "bgcolor": "#E5ECF6",
           "caxis": {
            "gridcolor": "white",
            "linecolor": "white",
            "ticks": ""
           }
          },
          "title": {
           "x": 0.05
          },
          "xaxis": {
           "automargin": true,
           "gridcolor": "white",
           "linecolor": "white",
           "ticks": "",
           "title": {
            "standoff": 15
           },
           "zerolinecolor": "white",
           "zerolinewidth": 2
          },
          "yaxis": {
           "automargin": true,
           "gridcolor": "white",
           "linecolor": "white",
           "ticks": "",
           "title": {
            "standoff": 15
           },
           "zerolinecolor": "white",
           "zerolinewidth": 2
          }
         }
        },
        "title": {
         "text": "RMSE by Regression Model and Fingerprint Type - Optimized Model"
        },
        "xaxis": {
         "categoryarray": [
          "Bayesian Ridge",
          "KNN Regressor",
          "LightGBM",
          "Ridge",
          "Decision Tree"
         ],
         "categoryorder": "array",
         "title": {
          "text": "Regression Model"
         }
        },
        "yaxis": {
         "range": [
          0,
          0.45
         ],
         "title": {
          "text": "RMSE"
         }
        }
       }
      }
     },
     "metadata": {},
     "output_type": "display_data"
    },
    {
     "data": {
      "application/vnd.plotly.v1+json": {
       "config": {
        "plotlyServerURL": "https://plot.ly"
       },
       "data": [
        {
         "marker": {
          "color": "#1f77b4"
         },
         "name": "Morgan",
         "text": [
          "0.08961",
          "0.14799",
          "0.16293",
          "0.14703",
          "0.14109"
         ],
         "textposition": "inside",
         "type": "bar",
         "x": [
          "LightGBM",
          "Bayesian Ridge",
          "KNN Regressor",
          "Ridge",
          "Decision Tree"
         ],
         "y": [
          0.08960601356932603,
          0.14799319698891375,
          0.16292860293377306,
          0.14702722057083908,
          0.14108922698012177
         ]
        },
        {
         "marker": {
          "color": "#ff7f0e"
         },
         "name": "MACCS",
         "text": [
          "0.17692",
          "0.26017",
          "0.19306",
          "0.26003",
          "0.18728"
         ],
         "textposition": "inside",
         "type": "bar",
         "x": [
          "LightGBM",
          "Bayesian Ridge",
          "KNN Regressor",
          "Ridge",
          "Decision Tree"
         ],
         "y": [
          0.17691781135845439,
          0.2601651611663791,
          0.19305875294643066,
          0.26002552483913494,
          0.18727839868084326
         ]
        },
        {
         "marker": {
          "color": "#2ca02c"
         },
         "name": "Atom Pair",
         "text": [
          "0.17241",
          "0.32745",
          "0.22508",
          "0.32750",
          "0.24627"
         ],
         "textposition": "inside",
         "type": "bar",
         "x": [
          "LightGBM",
          "Bayesian Ridge",
          "KNN Regressor",
          "Ridge",
          "Decision Tree"
         ],
         "y": [
          0.17240529214737427,
          0.32744735003025993,
          0.22507533395516616,
          0.3275043356949609,
          0.24627102543351134
         ]
        },
        {
         "marker": {
          "color": "#d62728"
         },
         "name": "FCFP",
         "text": [
          "0.10777",
          "0.16295",
          "0.15523",
          "0.16234",
          "0.14845"
         ],
         "textposition": "inside",
         "type": "bar",
         "x": [
          "LightGBM",
          "Bayesian Ridge",
          "KNN Regressor",
          "Ridge",
          "Decision Tree"
         ],
         "y": [
          0.10776932706380263,
          0.16294688460158713,
          0.15523231758183267,
          0.16234384110749325,
          0.14845044958751388
         ]
        }
       ],
       "layout": {
        "annotations": [
         {
          "arrowhead": 2,
          "ax": -100,
          "ay": -120,
          "bordercolor": "black",
          "borderwidth": 1,
          "showarrow": true,
          "text": "Best: LightGBM (Morgan)<br>MAE: 0.08961",
          "x": "LightGBM",
          "y": 0.08960601356932603
         }
        ],
        "barmode": "group",
        "legend": {
         "title": {
          "text": "Fingerprint Type"
         }
        },
        "template": {
         "data": {
          "bar": [
           {
            "error_x": {
             "color": "#2a3f5f"
            },
            "error_y": {
             "color": "#2a3f5f"
            },
            "marker": {
             "line": {
              "color": "#E5ECF6",
              "width": 0.5
             },
             "pattern": {
              "fillmode": "overlay",
              "size": 10,
              "solidity": 0.2
             }
            },
            "type": "bar"
           }
          ],
          "barpolar": [
           {
            "marker": {
             "line": {
              "color": "#E5ECF6",
              "width": 0.5
             },
             "pattern": {
              "fillmode": "overlay",
              "size": 10,
              "solidity": 0.2
             }
            },
            "type": "barpolar"
           }
          ],
          "carpet": [
           {
            "aaxis": {
             "endlinecolor": "#2a3f5f",
             "gridcolor": "white",
             "linecolor": "white",
             "minorgridcolor": "white",
             "startlinecolor": "#2a3f5f"
            },
            "baxis": {
             "endlinecolor": "#2a3f5f",
             "gridcolor": "white",
             "linecolor": "white",
             "minorgridcolor": "white",
             "startlinecolor": "#2a3f5f"
            },
            "type": "carpet"
           }
          ],
          "choropleth": [
           {
            "colorbar": {
             "outlinewidth": 0,
             "ticks": ""
            },
            "type": "choropleth"
           }
          ],
          "contour": [
           {
            "colorbar": {
             "outlinewidth": 0,
             "ticks": ""
            },
            "colorscale": [
             [
              0,
              "#0d0887"
             ],
             [
              0.1111111111111111,
              "#46039f"
             ],
             [
              0.2222222222222222,
              "#7201a8"
             ],
             [
              0.3333333333333333,
              "#9c179e"
             ],
             [
              0.4444444444444444,
              "#bd3786"
             ],
             [
              0.5555555555555556,
              "#d8576b"
             ],
             [
              0.6666666666666666,
              "#ed7953"
             ],
             [
              0.7777777777777778,
              "#fb9f3a"
             ],
             [
              0.8888888888888888,
              "#fdca26"
             ],
             [
              1,
              "#f0f921"
             ]
            ],
            "type": "contour"
           }
          ],
          "contourcarpet": [
           {
            "colorbar": {
             "outlinewidth": 0,
             "ticks": ""
            },
            "type": "contourcarpet"
           }
          ],
          "heatmap": [
           {
            "colorbar": {
             "outlinewidth": 0,
             "ticks": ""
            },
            "colorscale": [
             [
              0,
              "#0d0887"
             ],
             [
              0.1111111111111111,
              "#46039f"
             ],
             [
              0.2222222222222222,
              "#7201a8"
             ],
             [
              0.3333333333333333,
              "#9c179e"
             ],
             [
              0.4444444444444444,
              "#bd3786"
             ],
             [
              0.5555555555555556,
              "#d8576b"
             ],
             [
              0.6666666666666666,
              "#ed7953"
             ],
             [
              0.7777777777777778,
              "#fb9f3a"
             ],
             [
              0.8888888888888888,
              "#fdca26"
             ],
             [
              1,
              "#f0f921"
             ]
            ],
            "type": "heatmap"
           }
          ],
          "heatmapgl": [
           {
            "colorbar": {
             "outlinewidth": 0,
             "ticks": ""
            },
            "colorscale": [
             [
              0,
              "#0d0887"
             ],
             [
              0.1111111111111111,
              "#46039f"
             ],
             [
              0.2222222222222222,
              "#7201a8"
             ],
             [
              0.3333333333333333,
              "#9c179e"
             ],
             [
              0.4444444444444444,
              "#bd3786"
             ],
             [
              0.5555555555555556,
              "#d8576b"
             ],
             [
              0.6666666666666666,
              "#ed7953"
             ],
             [
              0.7777777777777778,
              "#fb9f3a"
             ],
             [
              0.8888888888888888,
              "#fdca26"
             ],
             [
              1,
              "#f0f921"
             ]
            ],
            "type": "heatmapgl"
           }
          ],
          "histogram": [
           {
            "marker": {
             "pattern": {
              "fillmode": "overlay",
              "size": 10,
              "solidity": 0.2
             }
            },
            "type": "histogram"
           }
          ],
          "histogram2d": [
           {
            "colorbar": {
             "outlinewidth": 0,
             "ticks": ""
            },
            "colorscale": [
             [
              0,
              "#0d0887"
             ],
             [
              0.1111111111111111,
              "#46039f"
             ],
             [
              0.2222222222222222,
              "#7201a8"
             ],
             [
              0.3333333333333333,
              "#9c179e"
             ],
             [
              0.4444444444444444,
              "#bd3786"
             ],
             [
              0.5555555555555556,
              "#d8576b"
             ],
             [
              0.6666666666666666,
              "#ed7953"
             ],
             [
              0.7777777777777778,
              "#fb9f3a"
             ],
             [
              0.8888888888888888,
              "#fdca26"
             ],
             [
              1,
              "#f0f921"
             ]
            ],
            "type": "histogram2d"
           }
          ],
          "histogram2dcontour": [
           {
            "colorbar": {
             "outlinewidth": 0,
             "ticks": ""
            },
            "colorscale": [
             [
              0,
              "#0d0887"
             ],
             [
              0.1111111111111111,
              "#46039f"
             ],
             [
              0.2222222222222222,
              "#7201a8"
             ],
             [
              0.3333333333333333,
              "#9c179e"
             ],
             [
              0.4444444444444444,
              "#bd3786"
             ],
             [
              0.5555555555555556,
              "#d8576b"
             ],
             [
              0.6666666666666666,
              "#ed7953"
             ],
             [
              0.7777777777777778,
              "#fb9f3a"
             ],
             [
              0.8888888888888888,
              "#fdca26"
             ],
             [
              1,
              "#f0f921"
             ]
            ],
            "type": "histogram2dcontour"
           }
          ],
          "mesh3d": [
           {
            "colorbar": {
             "outlinewidth": 0,
             "ticks": ""
            },
            "type": "mesh3d"
           }
          ],
          "parcoords": [
           {
            "line": {
             "colorbar": {
              "outlinewidth": 0,
              "ticks": ""
             }
            },
            "type": "parcoords"
           }
          ],
          "pie": [
           {
            "automargin": true,
            "type": "pie"
           }
          ],
          "scatter": [
           {
            "fillpattern": {
             "fillmode": "overlay",
             "size": 10,
             "solidity": 0.2
            },
            "type": "scatter"
           }
          ],
          "scatter3d": [
           {
            "line": {
             "colorbar": {
              "outlinewidth": 0,
              "ticks": ""
             }
            },
            "marker": {
             "colorbar": {
              "outlinewidth": 0,
              "ticks": ""
             }
            },
            "type": "scatter3d"
           }
          ],
          "scattercarpet": [
           {
            "marker": {
             "colorbar": {
              "outlinewidth": 0,
              "ticks": ""
             }
            },
            "type": "scattercarpet"
           }
          ],
          "scattergeo": [
           {
            "marker": {
             "colorbar": {
              "outlinewidth": 0,
              "ticks": ""
             }
            },
            "type": "scattergeo"
           }
          ],
          "scattergl": [
           {
            "marker": {
             "colorbar": {
              "outlinewidth": 0,
              "ticks": ""
             }
            },
            "type": "scattergl"
           }
          ],
          "scattermapbox": [
           {
            "marker": {
             "colorbar": {
              "outlinewidth": 0,
              "ticks": ""
             }
            },
            "type": "scattermapbox"
           }
          ],
          "scatterpolar": [
           {
            "marker": {
             "colorbar": {
              "outlinewidth": 0,
              "ticks": ""
             }
            },
            "type": "scatterpolar"
           }
          ],
          "scatterpolargl": [
           {
            "marker": {
             "colorbar": {
              "outlinewidth": 0,
              "ticks": ""
             }
            },
            "type": "scatterpolargl"
           }
          ],
          "scatterternary": [
           {
            "marker": {
             "colorbar": {
              "outlinewidth": 0,
              "ticks": ""
             }
            },
            "type": "scatterternary"
           }
          ],
          "surface": [
           {
            "colorbar": {
             "outlinewidth": 0,
             "ticks": ""
            },
            "colorscale": [
             [
              0,
              "#0d0887"
             ],
             [
              0.1111111111111111,
              "#46039f"
             ],
             [
              0.2222222222222222,
              "#7201a8"
             ],
             [
              0.3333333333333333,
              "#9c179e"
             ],
             [
              0.4444444444444444,
              "#bd3786"
             ],
             [
              0.5555555555555556,
              "#d8576b"
             ],
             [
              0.6666666666666666,
              "#ed7953"
             ],
             [
              0.7777777777777778,
              "#fb9f3a"
             ],
             [
              0.8888888888888888,
              "#fdca26"
             ],
             [
              1,
              "#f0f921"
             ]
            ],
            "type": "surface"
           }
          ],
          "table": [
           {
            "cells": {
             "fill": {
              "color": "#EBF0F8"
             },
             "line": {
              "color": "white"
             }
            },
            "header": {
             "fill": {
              "color": "#C8D4E3"
             },
             "line": {
              "color": "white"
             }
            },
            "type": "table"
           }
          ]
         },
         "layout": {
          "annotationdefaults": {
           "arrowcolor": "#2a3f5f",
           "arrowhead": 0,
           "arrowwidth": 1
          },
          "autotypenumbers": "strict",
          "coloraxis": {
           "colorbar": {
            "outlinewidth": 0,
            "ticks": ""
           }
          },
          "colorscale": {
           "diverging": [
            [
             0,
             "#8e0152"
            ],
            [
             0.1,
             "#c51b7d"
            ],
            [
             0.2,
             "#de77ae"
            ],
            [
             0.3,
             "#f1b6da"
            ],
            [
             0.4,
             "#fde0ef"
            ],
            [
             0.5,
             "#f7f7f7"
            ],
            [
             0.6,
             "#e6f5d0"
            ],
            [
             0.7,
             "#b8e186"
            ],
            [
             0.8,
             "#7fbc41"
            ],
            [
             0.9,
             "#4d9221"
            ],
            [
             1,
             "#276419"
            ]
           ],
           "sequential": [
            [
             0,
             "#0d0887"
            ],
            [
             0.1111111111111111,
             "#46039f"
            ],
            [
             0.2222222222222222,
             "#7201a8"
            ],
            [
             0.3333333333333333,
             "#9c179e"
            ],
            [
             0.4444444444444444,
             "#bd3786"
            ],
            [
             0.5555555555555556,
             "#d8576b"
            ],
            [
             0.6666666666666666,
             "#ed7953"
            ],
            [
             0.7777777777777778,
             "#fb9f3a"
            ],
            [
             0.8888888888888888,
             "#fdca26"
            ],
            [
             1,
             "#f0f921"
            ]
           ],
           "sequentialminus": [
            [
             0,
             "#0d0887"
            ],
            [
             0.1111111111111111,
             "#46039f"
            ],
            [
             0.2222222222222222,
             "#7201a8"
            ],
            [
             0.3333333333333333,
             "#9c179e"
            ],
            [
             0.4444444444444444,
             "#bd3786"
            ],
            [
             0.5555555555555556,
             "#d8576b"
            ],
            [
             0.6666666666666666,
             "#ed7953"
            ],
            [
             0.7777777777777778,
             "#fb9f3a"
            ],
            [
             0.8888888888888888,
             "#fdca26"
            ],
            [
             1,
             "#f0f921"
            ]
           ]
          },
          "colorway": [
           "#636efa",
           "#EF553B",
           "#00cc96",
           "#ab63fa",
           "#FFA15A",
           "#19d3f3",
           "#FF6692",
           "#B6E880",
           "#FF97FF",
           "#FECB52"
          ],
          "font": {
           "color": "#2a3f5f"
          },
          "geo": {
           "bgcolor": "white",
           "lakecolor": "white",
           "landcolor": "#E5ECF6",
           "showlakes": true,
           "showland": true,
           "subunitcolor": "white"
          },
          "hoverlabel": {
           "align": "left"
          },
          "hovermode": "closest",
          "mapbox": {
           "style": "light"
          },
          "paper_bgcolor": "white",
          "plot_bgcolor": "#E5ECF6",
          "polar": {
           "angularaxis": {
            "gridcolor": "white",
            "linecolor": "white",
            "ticks": ""
           },
           "bgcolor": "#E5ECF6",
           "radialaxis": {
            "gridcolor": "white",
            "linecolor": "white",
            "ticks": ""
           }
          },
          "scene": {
           "xaxis": {
            "backgroundcolor": "#E5ECF6",
            "gridcolor": "white",
            "gridwidth": 2,
            "linecolor": "white",
            "showbackground": true,
            "ticks": "",
            "zerolinecolor": "white"
           },
           "yaxis": {
            "backgroundcolor": "#E5ECF6",
            "gridcolor": "white",
            "gridwidth": 2,
            "linecolor": "white",
            "showbackground": true,
            "ticks": "",
            "zerolinecolor": "white"
           },
           "zaxis": {
            "backgroundcolor": "#E5ECF6",
            "gridcolor": "white",
            "gridwidth": 2,
            "linecolor": "white",
            "showbackground": true,
            "ticks": "",
            "zerolinecolor": "white"
           }
          },
          "shapedefaults": {
           "line": {
            "color": "#2a3f5f"
           }
          },
          "ternary": {
           "aaxis": {
            "gridcolor": "white",
            "linecolor": "white",
            "ticks": ""
           },
           "baxis": {
            "gridcolor": "white",
            "linecolor": "white",
            "ticks": ""
           },
           "bgcolor": "#E5ECF6",
           "caxis": {
            "gridcolor": "white",
            "linecolor": "white",
            "ticks": ""
           }
          },
          "title": {
           "x": 0.05
          },
          "xaxis": {
           "automargin": true,
           "gridcolor": "white",
           "linecolor": "white",
           "ticks": "",
           "title": {
            "standoff": 15
           },
           "zerolinecolor": "white",
           "zerolinewidth": 2
          },
          "yaxis": {
           "automargin": true,
           "gridcolor": "white",
           "linecolor": "white",
           "ticks": "",
           "title": {
            "standoff": 15
           },
           "zerolinecolor": "white",
           "zerolinewidth": 2
          }
         }
        },
        "title": {
         "text": "MAE by Regression Model and Fingerprint Type - Optimized Model"
        },
        "xaxis": {
         "categoryarray": [
          "Bayesian Ridge",
          "KNN Regressor",
          "LightGBM",
          "Ridge",
          "Decision Tree"
         ],
         "categoryorder": "array",
         "title": {
          "text": "Regression Model"
         }
        },
        "yaxis": {
         "range": [
          0,
          0.35
         ],
         "title": {
          "text": "MAE"
         }
        }
       }
      }
     },
     "metadata": {},
     "output_type": "display_data"
    }
   ],
   "source": [
    "import plotly.graph_objects as go\n",
    "import pandas as pd\n",
    "\n",
    "# Define colors\n",
    "colors = ['#1f77b4', '#ff7f0e', '#2ca02c', '#d62728', '#9467bd', '#8c564b']\n",
    "\n",
    "# Order of regression models\n",
    "model_order = ['Bayesian Ridge', 'KNN Regressor', 'LightGBM', 'Ridge', 'Decision Tree']\n",
    "\n",
    "# Find the best combinations for each metric\n",
    "best_r2 = optimized_results_df.loc[optimized_results_df['R² Score'].idxmax()]\n",
    "best_rmse = optimized_results_df.loc[optimized_results_df['RMSE'].idxmin()]\n",
    "best_mae = optimized_results_df.loc[optimized_results_df['MAE'].idxmin()]\n",
    "\n",
    "# Create traces for R² Score\n",
    "fig_r2 = go.Figure()\n",
    "for idx, fingerprint_type in enumerate(optimized_results_df['Fingerprint Type'].unique()):\n",
    "    subset = optimized_results_df[optimized_results_df['Fingerprint Type'] == fingerprint_type]\n",
    "    fig_r2.add_trace(go.Bar(\n",
    "        x=subset['Regression Model'],\n",
    "        y=subset['R² Score'],\n",
    "        name=fingerprint_type,\n",
    "        text=[f'{val:.5f}' for val in subset['R² Score']],\n",
    "        textposition='inside',\n",
    "        marker_color=colors[idx % len(colors)],\n",
    "    ))\n",
    "\n",
    "fig_r2.update_layout(\n",
    "    title='R² Score by Regression Model and Fingerprint Type - Optimized Model',\n",
    "    xaxis_title='Regression Model',\n",
    "    yaxis_title='R² Score',\n",
    "    barmode='group',\n",
    "    yaxis=dict(range=[0, 1.1]),\n",
    "    legend_title='Fingerprint Type',\n",
    "    xaxis=dict(categoryorder='array', categoryarray=model_order),\n",
    "    legend=dict(orientation=\"h\", yanchor=\"top\", y=1.08, xanchor=\"center\", x=0.5),\n",
    "    width=900, height=600\n",
    ")\n",
    "\n",
    "fig_r2.add_annotation(\n",
    "    x=best_r2['Regression Model'],\n",
    "    y=best_r2['R² Score'],\n",
    "    text=f\"Best: {best_r2['Regression Model']} ({best_r2['Fingerprint Type']})<br>R² Score: {best_r2['R² Score']:.5f}\",\n",
    "    showarrow=True,\n",
    "    arrowhead=2,\n",
    "    ax=-150,\n",
    "    ay=-35,\n",
    "    bordercolor=\"black\",\n",
    "    borderwidth=1\n",
    ")\n",
    "\n",
    "# Create traces for RMSE\n",
    "fig_rmse = go.Figure()\n",
    "for idx, fingerprint_type in enumerate(optimized_results_df['Fingerprint Type'].unique()):\n",
    "    subset = optimized_results_df[optimized_results_df['Fingerprint Type'] == fingerprint_type]\n",
    "    fig_rmse.add_trace(go.Bar(\n",
    "        x=subset['Regression Model'],\n",
    "        y=subset['RMSE'],\n",
    "        name=fingerprint_type,\n",
    "        text=[f'{val:.5f}' for val in subset['RMSE']],\n",
    "        textposition='inside',\n",
    "        marker_color=colors[idx % len(colors)],\n",
    "    ))\n",
    "\n",
    "fig_rmse.update_layout(\n",
    "    title='RMSE by Regression Model and Fingerprint Type - Optimized Model',\n",
    "    xaxis_title='Regression Model',\n",
    "    yaxis_title='RMSE',\n",
    "    barmode='group',\n",
    "    yaxis=dict(range=[0, 0.45]),\n",
    "    legend_title='Fingerprint Type',\n",
    "    xaxis=dict(categoryorder='array', categoryarray=model_order)  # Set the order of models\n",
    ")\n",
    "\n",
    "fig_rmse.add_annotation(\n",
    "    x=best_rmse['Regression Model'],\n",
    "    y=best_rmse['RMSE'],\n",
    "    text=f\"Best: {best_rmse['Regression Model']} ({best_rmse['Fingerprint Type']})<br>RMSE: {best_rmse['RMSE']:.5f}\",\n",
    "    showarrow=True,\n",
    "    arrowhead=2,\n",
    "    ax=-100,\n",
    "    ay=-120,\n",
    "    bordercolor=\"black\",\n",
    "    borderwidth=1\n",
    ")\n",
    "\n",
    "# Create traces for MAE\n",
    "fig_mae = go.Figure()\n",
    "for idx, fingerprint_type in enumerate(optimized_results_df['Fingerprint Type'].unique()):\n",
    "    subset = optimized_results_df[optimized_results_df['Fingerprint Type'] == fingerprint_type]\n",
    "    fig_mae.add_trace(go.Bar(\n",
    "        x=subset['Regression Model'],\n",
    "        y=subset['MAE'],\n",
    "        name=fingerprint_type,\n",
    "        text=[f'{val:.5f}' for val in subset['MAE']],\n",
    "        textposition='inside',\n",
    "        marker_color=colors[idx % len(colors)],\n",
    "    ))\n",
    "\n",
    "fig_mae.update_layout(\n",
    "    title='MAE by Regression Model and Fingerprint Type - Optimized Model',\n",
    "    xaxis_title='Regression Model',\n",
    "    yaxis_title='MAE',\n",
    "    barmode='group',\n",
    "    yaxis=dict(range=[0, 0.35]),\n",
    "    legend_title='Fingerprint Type',\n",
    "    xaxis=dict(categoryorder='array', categoryarray=model_order)  # Set the order of models\n",
    ")\n",
    "\n",
    "fig_mae.add_annotation(\n",
    "    x=best_mae['Regression Model'],\n",
    "    y=best_mae['MAE'],\n",
    "    text=f\"Best: {best_mae['Regression Model']} ({best_mae['Fingerprint Type']})<br>MAE: {best_mae['MAE']:.5f}\",\n",
    "    showarrow=True,\n",
    "    arrowhead=2,\n",
    "    ax=-100,\n",
    "    ay=-120,\n",
    "    bordercolor=\"black\",\n",
    "    borderwidth=1\n",
    ")\n",
    "\n",
    "# Show the plots\n",
    "fig_r2.show()\n",
    "fig_rmse.show()\n",
    "fig_mae.show()"
   ]
  },
  {
   "cell_type": "code",
   "execution_count": 10,
   "metadata": {},
   "outputs": [
    {
     "name": "stdout",
     "output_type": "stream",
     "text": [
      "[LightGBM] [Info] Auto-choosing row-wise multi-threading, the overhead of testing was 0.009829 seconds.\n",
      "You can set `force_row_wise=true` to remove the overhead.\n",
      "And if memory is not enough, you can set `force_col_wise=true`.\n",
      "[LightGBM] [Info] Total Bins 2314\n",
      "[LightGBM] [Info] Number of data points in the train set: 10177, number of used features: 1157\n",
      "[LightGBM] [Info] Start training from score 2.703028\n",
      "[LightGBM] [Info] Auto-choosing row-wise multi-threading, the overhead of testing was 0.000845 seconds.\n",
      "You can set `force_row_wise=true` to remove the overhead.\n",
      "And if memory is not enough, you can set `force_col_wise=true`.\n",
      "[LightGBM] [Info] Total Bins 204\n",
      "[LightGBM] [Info] Number of data points in the train set: 10177, number of used features: 102\n",
      "[LightGBM] [Info] Start training from score 2.703028\n",
      "[LightGBM] [Info] Auto-choosing row-wise multi-threading, the overhead of testing was 0.003186 seconds.\n",
      "You can set `force_row_wise=true` to remove the overhead.\n",
      "And if memory is not enough, you can set `force_col_wise=true`.\n",
      "[LightGBM] [Info] Total Bins 584\n",
      "[LightGBM] [Info] Number of data points in the train set: 10177, number of used features: 292\n",
      "[LightGBM] [Info] Start training from score 2.703028\n",
      "[LightGBM] [Info] Auto-choosing row-wise multi-threading, the overhead of testing was 0.006010 seconds.\n",
      "You can set `force_row_wise=true` to remove the overhead.\n",
      "And if memory is not enough, you can set `force_col_wise=true`.\n",
      "[LightGBM] [Info] Total Bins 1356\n",
      "[LightGBM] [Info] Number of data points in the train set: 10177, number of used features: 678\n",
      "[LightGBM] [Info] Start training from score 2.703028\n"
     ]
    },
    {
     "data": {
      "image/png": "[encoded data removed]",
      "text/plain": [
       "<Figure size 1200x1000 with 4 Axes>"
      ]
     },
     "metadata": {},
     "output_type": "display_data"
    }
   ],
   "source": [
    "import lightgbm as lgb\n",
    "import matplotlib.pyplot as plt\n",
    "import pandas as pd\n",
    "import numpy as np\n",
    "from sklearn.model_selection import train_test_split\n",
    "from sklearn.metrics import mean_squared_error\n",
    "\n",
    "# Assuming the LightGBM model is already defined and trained\n",
    "# Define the dataframes and corresponding names\n",
    "dataframes = {\n",
    "    'Morgan': opv_df_morgan,\n",
    "    'MACCS': opv_df_maccs,\n",
    "    'Atom Pair': opv_df_atom_pair,\n",
    "    'FCFP': opv_df_fcfp\n",
    "}\n",
    "\n",
    "# Set up the plot\n",
    "fig, axes = plt.subplots(2, 2, figsize=(12, 10))\n",
    "axes = axes.flatten()  # Flatten the 2x2 array of axes for easier iteration\n",
    "\n",
    "# Iterate over the dataframes and plot actual vs predicted\n",
    "for idx, (fingerprint_name, df) in enumerate(dataframes.items()):\n",
    "    X = df.iloc[:, 8:]  # Features\n",
    "    y = df[\"GAP_calc\"]  # Target\n",
    "\n",
    "    # Split the data into training and testing sets\n",
    "    X_train, X_test, y_train, y_test = train_test_split(X, y, test_size=0.2, random_state=42)\n",
    "\n",
    "    # Define and train the LightGBM model\n",
    "    lgbm_model = lgb.LGBMRegressor()\n",
    "    lgbm_model.fit(X_train, y_train)\n",
    "\n",
    "    # Predict on the test set\n",
    "    y_pred = lgbm_model.predict(X_test)\n",
    "\n",
    "    # Calculate R² Score\n",
    "    r2_score = lgbm_model.score(X_test, y_test)\n",
    "\n",
    "    # Calculate RMSE and MAE\n",
    "    rmse = np.sqrt(mean_squared_error(y_test, y_pred))\n",
    "    mae = np.mean(np.abs(y_test - y_pred))\n",
    "\n",
    "    # Plot the actual vs predicted\n",
    "    axes[idx].scatter(y_test, y_pred, alpha=0.6)\n",
    "    axes[idx].plot([y.min(), y.max()], [y.min(), y.max()], color='red', linestyle='--')  # 45-degree line\n",
    "    axes[idx].set_title(f'{fingerprint_name} Fingerprint - R² Score: {r2_score:.2f}', fontsize=12, weight='bold', color='navy')\n",
    "    axes[idx].set_xlabel('Actual GAP_calib')\n",
    "    axes[idx].set_ylabel('Predicted GAP_calib')\n",
    "\n",
    "    # X and Y limits\n",
    "    axes[idx].set_xlim(0,5)\n",
    "    axes[idx].set_ylim(0,5)\n",
    "\n",
    "    # Add RMSE and MAE to the plot\n",
    "    axes[idx].text(0.3, 4.55, f'RMSE: {rmse:.5f}', fontsize=10, color='black', weight='bold')\n",
    "    axes[idx].text(0.3, 4.15, f'MAE: {mae:.5f}', fontsize=10, color='black', weight='bold')\n",
    "\n",
    "    # Draw a square around the text and set the background color to white\n",
    "    axes[idx].add_patch(plt.Rectangle((0.1, 5.05), 1.6, 0.8, fill='white', color='navy', alpha=0.2))\n",
    "\n",
    "# Adjust layout and show the plot\n",
    "plt.tight_layout()\n",
    "plt.show()"
   ]
  },
  {
   "cell_type": "code",
   "execution_count": 11,
   "metadata": {},
   "outputs": [
    {
     "name": "stdout",
     "output_type": "stream",
     "text": [
      "[LightGBM] [Info] Auto-choosing row-wise multi-threading, the overhead of testing was 0.007156 seconds.\n",
      "You can set `force_row_wise=true` to remove the overhead.\n",
      "And if memory is not enough, you can set `force_col_wise=true`.\n",
      "[LightGBM] [Info] Total Bins 2314\n",
      "[LightGBM] [Info] Number of data points in the train set: 10177, number of used features: 1157\n",
      "[LightGBM] [Info] Start training from score 2.703028\n",
      "[LightGBM] [Info] Auto-choosing row-wise multi-threading, the overhead of testing was 0.000861 seconds.\n",
      "You can set `force_row_wise=true` to remove the overhead.\n",
      "And if memory is not enough, you can set `force_col_wise=true`.\n",
      "[LightGBM] [Info] Total Bins 204\n",
      "[LightGBM] [Info] Number of data points in the train set: 10177, number of used features: 102\n",
      "[LightGBM] [Info] Start training from score 2.703028\n",
      "[LightGBM] [Info] Auto-choosing row-wise multi-threading, the overhead of testing was 0.003057 seconds.\n",
      "You can set `force_row_wise=true` to remove the overhead.\n",
      "And if memory is not enough, you can set `force_col_wise=true`.\n",
      "[LightGBM] [Info] Total Bins 584\n",
      "[LightGBM] [Info] Number of data points in the train set: 10177, number of used features: 292\n",
      "[LightGBM] [Info] Start training from score 2.703028\n",
      "[LightGBM] [Info] Auto-choosing row-wise multi-threading, the overhead of testing was 0.006130 seconds.\n",
      "You can set `force_row_wise=true` to remove the overhead.\n",
      "And if memory is not enough, you can set `force_col_wise=true`.\n",
      "[LightGBM] [Info] Total Bins 1356\n",
      "[LightGBM] [Info] Number of data points in the train set: 10177, number of used features: 678\n",
      "[LightGBM] [Info] Start training from score 2.703028\n"
     ]
    },
    {
     "data": {
      "image/png": "[encoded data removed]",
      "text/plain": [
       "<Figure size 1200x1000 with 4 Axes>"
      ]
     },
     "metadata": {},
     "output_type": "display_data"
    }
   ],
   "source": [
    "import lightgbm as lgb\n",
    "import matplotlib.pyplot as plt\n",
    "import pandas as pd\n",
    "import numpy as np\n",
    "from sklearn.model_selection import train_test_split\n",
    "from sklearn.metrics import mean_squared_error\n",
    "\n",
    "# Optimized LightGBM parameters\n",
    "lgbm_params = {\n",
    "    'learning_rate': 0.23685145356420312,\n",
    "    'n_estimators': 1000,\n",
    "    'num_leaves': 51\n",
    "}\n",
    "\n",
    "# Define the dataframes and corresponding names\n",
    "dataframes = {\n",
    "    'Morgan': opv_df_morgan,\n",
    "    'MACCS': opv_df_maccs,\n",
    "    'Atom Pair': opv_df_atom_pair,\n",
    "    'FCFP': opv_df_fcfp\n",
    "}\n",
    "\n",
    "# Set up the plot\n",
    "fig, axes = plt.subplots(2, 2, figsize=(12, 10))\n",
    "axes = axes.flatten()  # Flatten the 2x2 array of axes for easier iteration\n",
    "\n",
    "# Iterate over the dataframes and plot actual vs predicted\n",
    "for idx, (fingerprint_name, df) in enumerate(dataframes.items()):\n",
    "    X = df.iloc[:, 8:]  # Features\n",
    "    y = df[\"GAP_calc\"]  # Target\n",
    "\n",
    "    # Split the data into training and testing sets\n",
    "    X_train, X_test, y_train, y_test = train_test_split(X, y, test_size=0.2, random_state=42)\n",
    "\n",
    "    # Define and train the LightGBM model with optimized parameters\n",
    "    lgbm_model = lgb.LGBMRegressor(**lgbm_params)\n",
    "    lgbm_model.fit(X_train, y_train)\n",
    "\n",
    "    # Predict on the test set\n",
    "    y_pred = lgbm_model.predict(X_test)\n",
    "\n",
    "    # Calculate R² Score\n",
    "    r2_score = lgbm_model.score(X_test, y_test)\n",
    "\n",
    "    # Calculate RMSE, R2 Score, and MAE\n",
    "    rmse = np.sqrt(mean_squared_error(y_test, y_pred))\n",
    "    mae = np.mean(np.abs(y_test - y_pred))\n",
    "\n",
    "    # Plot the actual vs predicted\n",
    "    axes[idx].scatter(y_test, y_pred, alpha=0.6)\n",
    "    axes[idx].plot([y.min(), y.max()], [y.min(), y.max()], color='red', linestyle='--')  # 45-degree line\n",
    "    axes[idx].set_title(f'{fingerprint_name} Fingerprint - R² Score: {r2_score:.2f}', fontsize=12, weight='bold', color='navy')   \n",
    "    axes[idx].set_xlabel('Actual GAP_calib')\n",
    "    axes[idx].set_ylabel('Predicted GAP_calib')\n",
    "\n",
    "    # Set the limits for the x and y axes\n",
    "    axes[idx].set_xlim(0,5)\n",
    "    axes[idx].set_ylim(0,5)\n",
    "\n",
    "\n",
    "    # Add RMSE and MAE to the plot\n",
    "    axes[idx].text(0.3, 4.55, f'RMSE: {rmse:.5f}', fontsize=10, color='black', weight='bold')\n",
    "    axes[idx].text(0.3, 4.15, f'MAE: {mae:.5f}', fontsize=10, color='black', weight='bold')\n",
    "\n",
    "    # Draw a square around the text and set the background color to white\n",
    "    axes[idx].add_patch(plt.Rectangle((0.1, 5.05), 1.6, 0.8, fill='white', color='navy', alpha=0.2))\n",
    "\n",
    "# Adjust layout and show the plot\n",
    "plt.tight_layout()\n",
    "plt.show()"
   ]
  },
  {
   "cell_type": "code",
   "execution_count": 12,
   "metadata": {},
   "outputs": [
    {
     "data": {
      "text/html": [
       "<div>\n",
       "<style scoped>\n",
       "    .dataframe tbody tr th:only-of-type {\n",
       "        vertical-align: middle;\n",
       "    }\n",
       "\n",
       "    .dataframe tbody tr th {\n",
       "        vertical-align: top;\n",
       "    }\n",
       "\n",
       "    .dataframe thead th {\n",
       "        text-align: right;\n",
       "    }\n",
       "</style>\n",
       "<table border=\"1\" class=\"dataframe\">\n",
       "  <thead>\n",
       "    <tr style=\"text-align: right;\">\n",
       "      <th></th>\n",
       "      <th>Molecule</th>\n",
       "      <th>Molecular Weight</th>\n",
       "      <th>LogP</th>\n",
       "      <th>Homo-Lumo Gap (eV)</th>\n",
       "      <th>Smiles</th>\n",
       "      <th>mol</th>\n",
       "      <th>morgan_0</th>\n",
       "      <th>morgan_1</th>\n",
       "      <th>morgan_2</th>\n",
       "      <th>morgan_3</th>\n",
       "      <th>...</th>\n",
       "      <th>morgan_2038</th>\n",
       "      <th>morgan_2039</th>\n",
       "      <th>morgan_2040</th>\n",
       "      <th>morgan_2041</th>\n",
       "      <th>morgan_2042</th>\n",
       "      <th>morgan_2043</th>\n",
       "      <th>morgan_2044</th>\n",
       "      <th>morgan_2045</th>\n",
       "      <th>morgan_2046</th>\n",
       "      <th>morgan_2047</th>\n",
       "    </tr>\n",
       "  </thead>\n",
       "  <tbody>\n",
       "    <tr>\n",
       "      <th>0</th>\n",
       "      <td>AD-10</td>\n",
       "      <td>472.293</td>\n",
       "      <td>5.01210</td>\n",
       "      <td>3.259</td>\n",
       "      <td>COc3ccc(C/C=C/C2=CC(/C=C/Cc1ccc(OC)cc1OC)=[O+]...</td>\n",
       "      <td>&lt;rdkit.Chem.rdchem.Mol object at 0x000001C21F3...</td>\n",
       "      <td>0</td>\n",
       "      <td>0</td>\n",
       "      <td>0</td>\n",
       "      <td>0</td>\n",
       "      <td>...</td>\n",
       "      <td>0</td>\n",
       "      <td>0</td>\n",
       "      <td>0</td>\n",
       "      <td>0</td>\n",
       "      <td>0</td>\n",
       "      <td>0</td>\n",
       "      <td>0</td>\n",
       "      <td>0</td>\n",
       "      <td>0</td>\n",
       "      <td>0</td>\n",
       "    </tr>\n",
       "    <tr>\n",
       "      <th>1</th>\n",
       "      <td>AD-16-DMF</td>\n",
       "      <td>377.199</td>\n",
       "      <td>4.84938</td>\n",
       "      <td>3.231</td>\n",
       "      <td>N#Cc3ccc(C/C=C/C2=[O+][B-](F)(F)OC(/C=C/Cc1ccc...</td>\n",
       "      <td>&lt;rdkit.Chem.rdchem.Mol object at 0x000001C21F3...</td>\n",
       "      <td>0</td>\n",
       "      <td>0</td>\n",
       "      <td>0</td>\n",
       "      <td>0</td>\n",
       "      <td>...</td>\n",
       "      <td>0</td>\n",
       "      <td>0</td>\n",
       "      <td>0</td>\n",
       "      <td>0</td>\n",
       "      <td>0</td>\n",
       "      <td>0</td>\n",
       "      <td>0</td>\n",
       "      <td>0</td>\n",
       "      <td>0</td>\n",
       "      <td>0</td>\n",
       "    </tr>\n",
       "    <tr>\n",
       "      <th>2</th>\n",
       "      <td>AD-9</td>\n",
       "      <td>412.241</td>\n",
       "      <td>4.99490</td>\n",
       "      <td>3.137</td>\n",
       "      <td>COc1ccccc1C/C=C/C3=CC(/C=C/Cc2ccccc2OC)=[O+][B...</td>\n",
       "      <td>&lt;rdkit.Chem.rdchem.Mol object at 0x000001C21F3...</td>\n",
       "      <td>0</td>\n",
       "      <td>0</td>\n",
       "      <td>0</td>\n",
       "      <td>0</td>\n",
       "      <td>...</td>\n",
       "      <td>0</td>\n",
       "      <td>0</td>\n",
       "      <td>0</td>\n",
       "      <td>0</td>\n",
       "      <td>0</td>\n",
       "      <td>0</td>\n",
       "      <td>0</td>\n",
       "      <td>0</td>\n",
       "      <td>0</td>\n",
       "      <td>0</td>\n",
       "    </tr>\n",
       "    <tr>\n",
       "      <th>3</th>\n",
       "      <td>2-ADMeO3</td>\n",
       "      <td>532.345</td>\n",
       "      <td>5.02930</td>\n",
       "      <td>3.077</td>\n",
       "      <td>COc3cc(OC)c(C/C=C/C2=CC(/C=C/Cc1c(OC)cc(OC)cc1...</td>\n",
       "      <td>&lt;rdkit.Chem.rdchem.Mol object at 0x000001C21F3...</td>\n",
       "      <td>0</td>\n",
       "      <td>0</td>\n",
       "      <td>0</td>\n",
       "      <td>0</td>\n",
       "      <td>...</td>\n",
       "      <td>0</td>\n",
       "      <td>0</td>\n",
       "      <td>0</td>\n",
       "      <td>0</td>\n",
       "      <td>0</td>\n",
       "      <td>0</td>\n",
       "      <td>0</td>\n",
       "      <td>0</td>\n",
       "      <td>0</td>\n",
       "      <td>0</td>\n",
       "    </tr>\n",
       "    <tr>\n",
       "      <th>4</th>\n",
       "      <td>3-MR83a</td>\n",
       "      <td>472.293</td>\n",
       "      <td>5.01210</td>\n",
       "      <td>3.072</td>\n",
       "      <td>COc3ccc(C/C=C/C2=[O+][B-](F)(F)OC(/C=C/Cc1c(OC...</td>\n",
       "      <td>&lt;rdkit.Chem.rdchem.Mol object at 0x000001C21F3...</td>\n",
       "      <td>0</td>\n",
       "      <td>0</td>\n",
       "      <td>0</td>\n",
       "      <td>0</td>\n",
       "      <td>...</td>\n",
       "      <td>0</td>\n",
       "      <td>0</td>\n",
       "      <td>0</td>\n",
       "      <td>0</td>\n",
       "      <td>0</td>\n",
       "      <td>0</td>\n",
       "      <td>0</td>\n",
       "      <td>0</td>\n",
       "      <td>0</td>\n",
       "      <td>0</td>\n",
       "    </tr>\n",
       "  </tbody>\n",
       "</table>\n",
       "<p>5 rows × 2054 columns</p>\n",
       "</div>"
      ],
      "text/plain": [
       "    Molecule  Molecular Weight     LogP  Homo-Lumo Gap (eV)  \\\n",
       "0      AD-10           472.293  5.01210               3.259   \n",
       "1  AD-16-DMF           377.199  4.84938               3.231   \n",
       "2       AD-9           412.241  4.99490               3.137   \n",
       "3   2-ADMeO3           532.345  5.02930               3.077   \n",
       "4    3-MR83a           472.293  5.01210               3.072   \n",
       "\n",
       "                                              Smiles  \\\n",
       "0  COc3ccc(C/C=C/C2=CC(/C=C/Cc1ccc(OC)cc1OC)=[O+]...   \n",
       "1  N#Cc3ccc(C/C=C/C2=[O+][B-](F)(F)OC(/C=C/Cc1ccc...   \n",
       "2  COc1ccccc1C/C=C/C3=CC(/C=C/Cc2ccccc2OC)=[O+][B...   \n",
       "3  COc3cc(OC)c(C/C=C/C2=CC(/C=C/Cc1c(OC)cc(OC)cc1...   \n",
       "4  COc3ccc(C/C=C/C2=[O+][B-](F)(F)OC(/C=C/Cc1c(OC...   \n",
       "\n",
       "                                                 mol  morgan_0  morgan_1  \\\n",
       "0  <rdkit.Chem.rdchem.Mol object at 0x000001C21F3...         0         0   \n",
       "1  <rdkit.Chem.rdchem.Mol object at 0x000001C21F3...         0         0   \n",
       "2  <rdkit.Chem.rdchem.Mol object at 0x000001C21F3...         0         0   \n",
       "3  <rdkit.Chem.rdchem.Mol object at 0x000001C21F3...         0         0   \n",
       "4  <rdkit.Chem.rdchem.Mol object at 0x000001C21F3...         0         0   \n",
       "\n",
       "   morgan_2  morgan_3  ...  morgan_2038  morgan_2039  morgan_2040  \\\n",
       "0         0         0  ...            0            0            0   \n",
       "1         0         0  ...            0            0            0   \n",
       "2         0         0  ...            0            0            0   \n",
       "3         0         0  ...            0            0            0   \n",
       "4         0         0  ...            0            0            0   \n",
       "\n",
       "   morgan_2041  morgan_2042  morgan_2043  morgan_2044  morgan_2045  \\\n",
       "0            0            0            0            0            0   \n",
       "1            0            0            0            0            0   \n",
       "2            0            0            0            0            0   \n",
       "3            0            0            0            0            0   \n",
       "4            0            0            0            0            0   \n",
       "\n",
       "   morgan_2046  morgan_2047  \n",
       "0            0            0  \n",
       "1            0            0  \n",
       "2            0            0  \n",
       "3            0            0  \n",
       "4            0            0  \n",
       "\n",
       "[5 rows x 2054 columns]"
      ]
     },
     "execution_count": 12,
     "metadata": {},
     "output_type": "execute_result"
    }
   ],
   "source": [
    "curcumin_df_mf = curcumin_df.copy()\n",
    "curcumin_df_mf['Morgan_Fingerprints'] = curcumin_df_mf['mol'].apply(\n",
    "    lambda x: list(AllChem.GetMorganFingerprintAsBitVect(x, 2, nBits=2048))\n",
    ")\n",
    "curcumin_df_mf.head()\n",
    "\n",
    "# convert the fingerprints to a DataFrame\n",
    "morgan_df = pd.DataFrame(curcumin_df_mf['Morgan_Fingerprints'].tolist(), columns=[f'morgan_{i}' for i in range(2048)])\n",
    "curcumin_df_mf = pd.concat([curcumin_df_mf.drop(columns=['Morgan_Fingerprints']), morgan_df], axis=1)\n",
    "curcumin_df_mf = curcumin_df_mf.sort_values(by='Homo-Lumo Gap (eV)', ascending=False).reset_index(drop=True)\n",
    "curcumin_df_mf.head()"
   ]
  },
  {
   "cell_type": "code",
   "execution_count": 13,
   "metadata": {},
   "outputs": [
    {
     "name": "stdout",
     "output_type": "stream",
     "text": [
      "[LightGBM] [Info] Auto-choosing row-wise multi-threading, the overhead of testing was 0.008479 seconds.\n",
      "You can set `force_row_wise=true` to remove the overhead.\n",
      "And if memory is not enough, you can set `force_col_wise=true`.\n",
      "[LightGBM] [Info] Total Bins 2314\n",
      "[LightGBM] [Info] Number of data points in the train set: 10177, number of used features: 1157\n",
      "[LightGBM] [Info] Start training from score 2.703028\n",
      "Model Calculated LUMO value filered R2 Score: 0.9491433910968702 & RMSE value: 0.1261372422730882\n",
      "Prediction with Calculated LUMO value filered model R2 Score: 0.36445535466461443 & RMSE value: 0.024409544526078897\n"
     ]
    },
    {
     "name": "stderr",
     "output_type": "stream",
     "text": [
      "c:\\Users\\Chamod Peiris\\Documents\\GitHub\\Curcumin_BendGap_Cheminfo\\.venv\\Lib\\site-packages\\sklearn\\metrics\\_regression.py:483: FutureWarning:\n",
      "\n",
      "'squared' is deprecated in version 1.4 and will be removed in 1.6. To calculate the root mean squared error, use the function'root_mean_squared_error'.\n",
      "\n"
     ]
    }
   ],
   "source": [
    "import numpy as np\n",
    "x = opv_df_morgan.iloc[:, 8:]\n",
    "y = opv_df_morgan[\"GAP_calc\"]\n",
    "\n",
    "X_train, X_test, y_train, y_test = train_test_split(x, y, test_size=0.2, random_state=42)\n",
    "\n",
    "lgbm_model = lgb.LGBMRegressor(**lgbm_params)\n",
    "lgbm_model.fit(X_train, y_train)\n",
    "\n",
    "# Make predictions and calculate R^2 score\n",
    "y_pred = lgbm_model.predict(X_test)\n",
    "\n",
    "# Calculate R2 score\n",
    "from sklearn.metrics import r2_score\n",
    "r2_model = r2_score(y_test, y_pred)\n",
    "\n",
    "from sklearn.metrics import mean_squared_error\n",
    "rmse_model = mean_squared_error(y_test, y_pred, squared=False)\n",
    "\n",
    "curcumin_df_mf_pred = curcumin_df_mf.copy()\n",
    "curcumin_df_mf_pred['Homo-Lumo Gap (eV) Pred'] = lgbm_model.predict(curcumin_df_mf.iloc[:, 6:])\n",
    "\n",
    "r2_predict = r2_score(curcumin_df_mf_pred['Homo-Lumo Gap (eV)'],curcumin_df_mf_pred['Homo-Lumo Gap (eV) Pred'])\n",
    "rmse_predict = mean_squared_error(curcumin_df_mf_pred['Homo-Lumo Gap (eV)'],curcumin_df_mf_pred['Homo-Lumo Gap (eV) Pred'])\n",
    "\n",
    "print(f\"Model Calculated LUMO value filered R2 Score: {r2_model} & RMSE value: {rmse_model}\")\n",
    "print(f\"Prediction with Calculated LUMO value filered model R2 Score: {r2_predict} & RMSE value: {rmse_predict}\")  "
   ]
  },
  {
   "cell_type": "code",
   "execution_count": 14,
   "metadata": {},
   "outputs": [
    {
     "data": {
      "image/png": "[encoded data removed]",
      "text/plain": [
       "<Figure size 900x400 with 1 Axes>"
      ]
     },
     "metadata": {},
     "output_type": "display_data"
    }
   ],
   "source": [
    "import matplotlib.pyplot as plt\n",
    "plt.figure(figsize=(9, 4))\n",
    "plt.plot(curcumin_df_mf_pred['Molecule'], curcumin_df_mf_pred['Homo-Lumo Gap (eV)'], marker='s', label='Homo-Lumo Gap (eV)', color='blue')\n",
    "plt.plot(curcumin_df_mf_pred['Molecule'], curcumin_df_mf_pred[f'Homo-Lumo Gap (eV) Pred'], marker='h', label=f'Homo-Lumo Gap (eV) Pred', color='orange')\n",
    "plt.xlabel('Molecule')\n",
    "plt.ylabel('Homo-Lumo Gap (eV)')\n",
    "plt.grid(True)\n",
    "plt.tight_layout()\n",
    "plt.title(f'Homo-Lumo Gap (eV) vs Homo-Lumo Gap (eV) Pred')\n",
    "plt.legend()\n",
    "plt.legend(loc='lower center')\n",
    "plt.ylim(0, 3.75)\n",
    "plt.xticks(rotation=90)\n",
    "plt.show()"
   ]
  },
  {
   "cell_type": "code",
   "execution_count": 19,
   "metadata": {},
   "outputs": [
    {
     "data": {
      "image/png": "[encoded data removed]",
      "text/plain": [
       "<Figure size 1200x600 with 1 Axes>"
      ]
     },
     "metadata": {},
     "output_type": "display_data"
    }
   ],
   "source": [
    "import pandas as pd\n",
    "import matplotlib.pyplot as plt\n",
    "\n",
    "# Assuming curcumin_df_mf_pred already has a 'Homo-Lumo Gap (eV) Predicted' column from the previous steps\n",
    "\n",
    "# Sort curcumin_df_mf_pred by 'Homo-Lumo Gap (eV)' in descending order and reset the index\n",
    "curcumin_df_mf_pred = curcumin_df_mf_pred.sort_values(by='Homo-Lumo Gap (eV)', ascending=False).reset_index(drop=True)\n",
    "\n",
    "# Calculate the absolute variance between 'Homo-Lumo Gap (eV)' and 'Homo-Lumo Gap (eV) Predicted'\n",
    "curcumin_df_mf_pred['absolute_variance'] = (curcumin_df_mf_pred['Homo-Lumo Gap (eV)'] - curcumin_df_mf_pred['Homo-Lumo Gap (eV) Pred']).abs()\n",
    "\n",
    "# Calculate linear trendline for absolute variance\n",
    "x = curcumin_df_mf_pred.index\n",
    "y = curcumin_df_mf_pred['absolute_variance']\n",
    "coefficients = np.polyfit(x, y, 1)  # Fit a linear polynomial\n",
    "trendline = np.polyval(coefficients, x)\n",
    "\n",
    "# Calculate the average absolute variance\n",
    "average_variance = y.mean()\n",
    "\n",
    "# Plotting the actual vs predicted energy gaps\n",
    "fig, ax1 = plt.subplots(figsize=(12, 6))\n",
    "\n",
    "# Plot the actual values\n",
    "ax1.plot(curcumin_df_mf_pred['Molecule'], curcumin_df_mf_pred['Homo-Lumo Gap (eV)'], marker='s', label='Actual HOMO-LUMO Gap (eV)', color='orange')\n",
    "\n",
    "# Plot the predicted values\n",
    "ax1.plot(curcumin_df_mf_pred['Molecule'], curcumin_df_mf_pred['Homo-Lumo Gap (eV) Pred'], marker='x', linestyle='--', label='Predicted HOMO-LUMO Gap (eV)', color='blue')\n",
    "\n",
    "# Plot the absolute variance as a dotted line\n",
    "ax1.plot(curcumin_df_mf_pred['Molecule'], curcumin_df_mf_pred['absolute_variance'], marker='v', linestyle=':', label='Absolute Variance', color='crimson')\n",
    "\n",
    "# Plot the trendline for absolute variance\n",
    "ax1.plot(curcumin_df_mf['Molecule'], trendline, linestyle='-', color='grey', label=f'Trendline (Avg. Abs. Variance: {average_variance:.2f} eV)')\n",
    "\n",
    "# Set labels for the axes and the range\n",
    "ax1.set_xlabel('Curcumin Derivative Molecule Name')\n",
    "ax1.set_ylabel('Homo-Lumo Energy Gap (eV)')\n",
    "ax1.set_ylim([0, 3.75])  # Adjust the y-axis range as needed\n",
    "ax1.tick_params(axis='y')\n",
    "ax1.legend(loc='upper right')\n",
    "\n",
    "# Customize the plot\n",
    "plt.title('Comparison of Actual vs Predicted HOMO-LUMO Gap (eV) and Absolute Variance')\n",
    "plt.grid(True)\n",
    "plt.legend(loc='center')\n",
    "plt.tight_layout()\n",
    "plt.xticks(rotation=90)\n",
    "\n",
    "# Show the plot\n",
    "plt.show()"
   ]
  }
 ],
 "metadata": {
  "kernelspec": {
   "display_name": ".venv",
   "language": "python",
   "name": "python3"
  },
  "language_info": {
   "codemirror_mode": {
    "name": "ipython",
    "version": 3
   },
   "file_extension": ".py",
   "mimetype": "text/x-python",
   "name": "python",
   "nbconvert_exporter": "python",
   "pygments_lexer": "ipython3",
   "version": "3.11.5"
  }
 },
 "nbformat": 4,
 "nbformat_minor": 2
}
