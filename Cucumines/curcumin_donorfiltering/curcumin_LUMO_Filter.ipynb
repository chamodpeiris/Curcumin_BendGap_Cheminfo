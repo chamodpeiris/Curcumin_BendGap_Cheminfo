{
 "cells": [
  {
   "cell_type": "code",
   "execution_count": 1,
   "metadata": {},
   "outputs": [
    {
     "name": "stdout",
     "output_type": "stream",
     "text": [
      "CPU times: total: 10.5 s\n",
      "Wall time: 15.8 s\n"
     ]
    }
   ],
   "source": [
    "%%time\n",
    "import pandas as pd\n",
    "import numpy as np\n",
    "from rdkit import Chem, DataStructs\n",
    "from rdkit.Chem import AllChem, MACCSkeys, Descriptors\n",
    "\n",
    "# Defining the SMILES strings for the cucumin varients\n",
    "curcumin_variants = (\n",
    "    \"COc3cc(OC)c(C/C=C/C2=CC(/C=C/Cc1c(OC)cc(OC)cc1OC)=[O+][B-](F)(F)O2)c(OC)c3\",\n",
    "    \"COc3ccc(C/C=C/C2=[O+][B-](F)(F)OC(/C=C/Cc1c(OC)cc(OC)cc1OC)=C2)cc3\",\n",
    "    \"COc3ccc(C/C=C/C2=CC(/C=C/Cc1ccc(OC)cc1OC)=[O+][B-](F)(F)O2)c(OC)c3\",\n",
    "    \"COc5ccc(C/C=C/C4=[O+][B-](F)(F)OC(/C=C/Cc2c1ccccc1cc3ccccc23)=C4)cc5\",\n",
    "    \"COc3ccc(OC)c(C/C=C/C2=CC(/C=C/Cc1cc(OC)ccc1OC)=[O+][B-](F)(F)O2)c3\",\n",
    "    \"COc3cc(C/C=C/C2=CC(/C=C/Cc1ccc(O)c(OC)c1)=[O+][B-](F)(F)O2)ccc3O\",\n",
    "    \"CN(C)c3ccc(C/C=C/C2=CC(/C=C/Cc1ccc(N(C)C)cc1)=[O+][B-](F)(F)O2)cc3\",\n",
    "    \"N#Cc3ccc(C/C=C/C2=[O+][B-](F)(F)OC(/C=C/Cc1ccccc1)=C2)cc3\",\n",
    "    \"COc6ccc(C/C=C/C5=CC(/C=C/Cc1cc2ccc3cccc4ccc(c1)c2c34)=[O+][B-](F)(F)O5)cc6\",\n",
    "    \"COc4ccc(C/C=C/C3=CC(/C=C/Cc1ccc(OC)c2ccccc12)=[O+][B-](F)(F)O3)c5ccccc45\",\n",
    "    \"CN(C)c4ccc(C/C=C/C3=CC(/C=C/Cc1ccc(N(C)C)c2ccccc12)=[O+][B-](F)(F)O3)c5ccccc45\",\n",
    "    \"N#Cc3ccc(C/C=C/C2=CC(/C=C/Cc1ccc(C#N)cc1)=[O+][B-](F)(F)O2)cc3\",\n",
    "    \"CCCCN(CCCC)c3ccc(C/C=C/C2=CC(/C=C/Cc1ccc(N(CCCC)CCCC)cc1)=[O+][B-](F)(F)O2)cc3\",\n",
    "    \"COc3ccc(C/C=C/C2=CC(/C=C/Cc1ccc(C#N)cc1)=[O+][B-](F)(F)O2)cc3\",\n",
    "    \"CN5/C(=C\\C\\C=C\\C3=CC(/C=C/C/C=C/2N(C)c1ccccc1C2(C)C)=[O+][B-](F)(F)O3)C(C)(C)c4ccccc45\",\n",
    "    \"COc3ccc(C/C=C/C2=[O+][B-](F)(F)OC(/C=C/Cc1ccc(SC)cc1)=C2)cc3\",\n",
    "    \"CSc3ccc(C/C=C/C2=CC(/C=C/Cc1ccc(SC)cc1)=[O+][B-](F)(F)O2)cc3\",\n",
    "    \"COc3ccc(C/C=C/C2=CC(/C=C/Cc1ccc(N(C)C)cc1)=[O+][B-](F)(F)O2)cc3\",\n",
    "    \"COc1ccccc1C/C=C/C3=CC(/C=C/Cc2ccccc2OC)=[O+][B-](F)(F)O3\",\n",
    "    \"CCCCCC(CC)c5ccc(c4ccc(C/C=C/C3=CC(/C=C/Cc2ccc(c1ccc(C(CC)CCCCC)s1)s2)=[O+][B-](F)(F)O3)s4)s5\"\n",
    ")\n",
    "\n",
    "molecule_names = ['2-ADMeO3', '3-MR83a', 'AD-10', 'AD-1013', 'AD-1022', 'AD-11', 'AD-14-Moore', 'AD-16-DMF', 'AD-18', 'AD-24', 'AD-25', 'AD-3', 'AD-35', 'AD-4', 'AD-48', 'AD-5', 'AD-6', 'AD-7', 'AD-9', 'YD-30']\n",
    "homo_lumo_gap = [3.077, 3.072, 3.259, 2.625, 2.938, 2.946, 2.811, 3.231, 2.735, 2.878, 2.686, 3.215, 2.77, 3.001, 2.702, 2.97, 2.89, 2.859, 3.137, 2.525]\n",
    "\n",
    "molecules = [Chem.MolFromSmiles(smiles) for smiles in curcumin_variants]\n",
    "mws = [round(Descriptors.MolWt(mol),3) for mol in molecules]\n",
    "logp = [Descriptors.MolLogP(mol) for mol in molecules]\n",
    "\n",
    "# Create the initial DataFrame\n",
    "data = {\n",
    "    'Molecule': molecule_names,\n",
    "    'Molecular Weight': mws,\n",
    "    'LogP': logp,\n",
    "    'Homo-Lumo Gap (eV)': homo_lumo_gap,\n",
    "    'Smiles': curcumin_variants\n",
    "}\n",
    "curcumin_df = pd.DataFrame(data)\n",
    "curcumin_df['mol'] = curcumin_df['Smiles'].apply(Chem.MolFromSmiles)\n",
    "\n",
    "# Harvard OPV dataset import\n",
    "data = pd.read_csv('https://raw.githubusercontent.com/AjStephan/havard-smile-opv/main/Non-fullerene%20small-molecules%20acceptors.csv')\n",
    "opv_df = data.drop(columns=[\n",
    "    'index', 'inchikey', 'LUMO_calib_stds', 'HOMO_calib_stds',\n",
    "    'GAP_calc', 'molW', 'PCE_calc', 'Voc_calc', 'Jsc_calc',\n",
    "    'FF_calc', 'EQE_calc', 'PCE_calib', 'Voc_calib', 'Jsc_calib', 'FF_calib',\n",
    "    'EQE_calib', 'PCE_cdiff', 'PCE_calib_plus'], axis=1)\n",
    "\n",
    "opv_df['mol'] = opv_df['smiles'].apply(Chem.MolFromSmiles)"
   ]
  },
  {
   "cell_type": "code",
   "execution_count": 2,
   "metadata": {},
   "outputs": [
    {
     "data": {
      "text/html": [
       "<div>\n",
       "<style scoped>\n",
       "    .dataframe tbody tr th:only-of-type {\n",
       "        vertical-align: middle;\n",
       "    }\n",
       "\n",
       "    .dataframe tbody tr th {\n",
       "        vertical-align: top;\n",
       "    }\n",
       "\n",
       "    .dataframe thead th {\n",
       "        text-align: right;\n",
       "    }\n",
       "</style>\n",
       "<table border=\"1\" class=\"dataframe\">\n",
       "  <thead>\n",
       "    <tr style=\"text-align: right;\">\n",
       "      <th></th>\n",
       "      <th>smiles</th>\n",
       "      <th>HOMO_calc</th>\n",
       "      <th>LUMO_calc</th>\n",
       "      <th>LUMO_calib</th>\n",
       "      <th>HOMO_calib</th>\n",
       "      <th>GAP_calib</th>\n",
       "      <th>mol</th>\n",
       "    </tr>\n",
       "  </thead>\n",
       "  <tbody>\n",
       "    <tr>\n",
       "      <th>0</th>\n",
       "      <td>CN1C(=O)C2=C(C3=C(C#N)C(=C(C#N)C#N)SC3=O)N(C)C...</td>\n",
       "      <td>-6.884480</td>\n",
       "      <td>-5.415066</td>\n",
       "      <td>-5.785082</td>\n",
       "      <td>-6.877951</td>\n",
       "      <td>1.092869</td>\n",
       "      <td>&lt;rdkit.Chem.rdchem.Mol object at 0x000002A80CD...</td>\n",
       "    </tr>\n",
       "    <tr>\n",
       "      <th>1</th>\n",
       "      <td>O=C(O)c1noc(-c2c3c(c(-c4onc(C(=O)O)c4C(=O)O)c4...</td>\n",
       "      <td>-7.091046</td>\n",
       "      <td>-5.349517</td>\n",
       "      <td>-5.779633</td>\n",
       "      <td>-7.231863</td>\n",
       "      <td>1.452230</td>\n",
       "      <td>&lt;rdkit.Chem.rdchem.Mol object at 0x000002A80B4...</td>\n",
       "    </tr>\n",
       "    <tr>\n",
       "      <th>2</th>\n",
       "      <td>N#CC(C#N)=C1SC(=O)C(c2cnc(C3=C(C#N)C(=C(C#N)C#...</td>\n",
       "      <td>-7.972936</td>\n",
       "      <td>-5.351299</td>\n",
       "      <td>-5.658418</td>\n",
       "      <td>-8.008956</td>\n",
       "      <td>2.350538</td>\n",
       "      <td>&lt;rdkit.Chem.rdchem.Mol object at 0x000002A80CD...</td>\n",
       "    </tr>\n",
       "    <tr>\n",
       "      <th>3</th>\n",
       "      <td>N#Cc1noc(-c2c3c(c(-c4onc(C#N)c4C(=O)O)c4cscc24...</td>\n",
       "      <td>-6.993326</td>\n",
       "      <td>-5.185199</td>\n",
       "      <td>-5.519700</td>\n",
       "      <td>-7.083920</td>\n",
       "      <td>1.564220</td>\n",
       "      <td>&lt;rdkit.Chem.rdchem.Mol object at 0x000002A80B4...</td>\n",
       "    </tr>\n",
       "    <tr>\n",
       "      <th>4</th>\n",
       "      <td>N#CC(C#N)=C1C=C(C(=O)O)OC(c2c3c(c(C4=CC(=C(C#N...</td>\n",
       "      <td>-6.754826</td>\n",
       "      <td>-5.224586</td>\n",
       "      <td>-5.484103</td>\n",
       "      <td>-6.830958</td>\n",
       "      <td>1.346855</td>\n",
       "      <td>&lt;rdkit.Chem.rdchem.Mol object at 0x000002A80B4...</td>\n",
       "    </tr>\n",
       "    <tr>\n",
       "      <th>...</th>\n",
       "      <td>...</td>\n",
       "      <td>...</td>\n",
       "      <td>...</td>\n",
       "      <td>...</td>\n",
       "      <td>...</td>\n",
       "      <td>...</td>\n",
       "      <td>...</td>\n",
       "    </tr>\n",
       "    <tr>\n",
       "      <th>9425</th>\n",
       "      <td>N#CC(C#N)=C1C=COC(c2sc3c(sc4c(F)c(C5=CC(=C(C#N...</td>\n",
       "      <td>-6.394682</td>\n",
       "      <td>-3.782382</td>\n",
       "      <td>-4.000104</td>\n",
       "      <td>-6.440160</td>\n",
       "      <td>2.440056</td>\n",
       "      <td>&lt;rdkit.Chem.rdchem.Mol object at 0x000002A80D2...</td>\n",
       "    </tr>\n",
       "    <tr>\n",
       "      <th>9426</th>\n",
       "      <td>Cn1c(=O)c2cc3c4ccc(C#N)c5cccc(c3c(C3=CC(=C(C#N...</td>\n",
       "      <td>-6.524966</td>\n",
       "      <td>-3.727960</td>\n",
       "      <td>-4.000085</td>\n",
       "      <td>-6.437343</td>\n",
       "      <td>2.437258</td>\n",
       "      <td>&lt;rdkit.Chem.rdchem.Mol object at 0x000002A80CF...</td>\n",
       "    </tr>\n",
       "    <tr>\n",
       "      <th>9427</th>\n",
       "      <td>C[Si]1(C)C=C2OCCOC2=C1c1ccnc(-c2cc3c(s2)-c2scc...</td>\n",
       "      <td>-5.780091</td>\n",
       "      <td>-3.519294</td>\n",
       "      <td>-4.000047</td>\n",
       "      <td>-5.948133</td>\n",
       "      <td>1.948087</td>\n",
       "      <td>&lt;rdkit.Chem.rdchem.Mol object at 0x000002A80CE...</td>\n",
       "    </tr>\n",
       "    <tr>\n",
       "      <th>9428</th>\n",
       "      <td>N#Cc1cc(C#N)c(-c2ccnc(-c3sc(C#N)c(-c4ncncn4)c3...</td>\n",
       "      <td>-7.430382</td>\n",
       "      <td>-3.677244</td>\n",
       "      <td>-4.000040</td>\n",
       "      <td>-7.586803</td>\n",
       "      <td>3.586763</td>\n",
       "      <td>&lt;rdkit.Chem.rdchem.Mol object at 0x000002A80B5...</td>\n",
       "    </tr>\n",
       "    <tr>\n",
       "      <th>9429</th>\n",
       "      <td>C=Cc1ccnc(-c2sc(C3=CC(=C(C#N)C#N)C=CO3)c3c2C(=...</td>\n",
       "      <td>-6.404571</td>\n",
       "      <td>-3.699111</td>\n",
       "      <td>-4.000001</td>\n",
       "      <td>-6.434955</td>\n",
       "      <td>2.434954</td>\n",
       "      <td>&lt;rdkit.Chem.rdchem.Mol object at 0x000002A80CE...</td>\n",
       "    </tr>\n",
       "  </tbody>\n",
       "</table>\n",
       "<p>9430 rows × 7 columns</p>\n",
       "</div>"
      ],
      "text/plain": [
       "                                                 smiles  HOMO_calc  LUMO_calc  \\\n",
       "0     CN1C(=O)C2=C(C3=C(C#N)C(=C(C#N)C#N)SC3=O)N(C)C...  -6.884480  -5.415066   \n",
       "1     O=C(O)c1noc(-c2c3c(c(-c4onc(C(=O)O)c4C(=O)O)c4...  -7.091046  -5.349517   \n",
       "2     N#CC(C#N)=C1SC(=O)C(c2cnc(C3=C(C#N)C(=C(C#N)C#...  -7.972936  -5.351299   \n",
       "3     N#Cc1noc(-c2c3c(c(-c4onc(C#N)c4C(=O)O)c4cscc24...  -6.993326  -5.185199   \n",
       "4     N#CC(C#N)=C1C=C(C(=O)O)OC(c2c3c(c(C4=CC(=C(C#N...  -6.754826  -5.224586   \n",
       "...                                                 ...        ...        ...   \n",
       "9425  N#CC(C#N)=C1C=COC(c2sc3c(sc4c(F)c(C5=CC(=C(C#N...  -6.394682  -3.782382   \n",
       "9426  Cn1c(=O)c2cc3c4ccc(C#N)c5cccc(c3c(C3=CC(=C(C#N...  -6.524966  -3.727960   \n",
       "9427  C[Si]1(C)C=C2OCCOC2=C1c1ccnc(-c2cc3c(s2)-c2scc...  -5.780091  -3.519294   \n",
       "9428  N#Cc1cc(C#N)c(-c2ccnc(-c3sc(C#N)c(-c4ncncn4)c3...  -7.430382  -3.677244   \n",
       "9429  C=Cc1ccnc(-c2sc(C3=CC(=C(C#N)C#N)C=CO3)c3c2C(=...  -6.404571  -3.699111   \n",
       "\n",
       "      LUMO_calib  HOMO_calib  GAP_calib  \\\n",
       "0      -5.785082   -6.877951   1.092869   \n",
       "1      -5.779633   -7.231863   1.452230   \n",
       "2      -5.658418   -8.008956   2.350538   \n",
       "3      -5.519700   -7.083920   1.564220   \n",
       "4      -5.484103   -6.830958   1.346855   \n",
       "...          ...         ...        ...   \n",
       "9425   -4.000104   -6.440160   2.440056   \n",
       "9426   -4.000085   -6.437343   2.437258   \n",
       "9427   -4.000047   -5.948133   1.948087   \n",
       "9428   -4.000040   -7.586803   3.586763   \n",
       "9429   -4.000001   -6.434955   2.434954   \n",
       "\n",
       "                                                    mol  \n",
       "0     <rdkit.Chem.rdchem.Mol object at 0x000002A80CD...  \n",
       "1     <rdkit.Chem.rdchem.Mol object at 0x000002A80B4...  \n",
       "2     <rdkit.Chem.rdchem.Mol object at 0x000002A80CD...  \n",
       "3     <rdkit.Chem.rdchem.Mol object at 0x000002A80B4...  \n",
       "4     <rdkit.Chem.rdchem.Mol object at 0x000002A80B4...  \n",
       "...                                                 ...  \n",
       "9425  <rdkit.Chem.rdchem.Mol object at 0x000002A80D2...  \n",
       "9426  <rdkit.Chem.rdchem.Mol object at 0x000002A80CF...  \n",
       "9427  <rdkit.Chem.rdchem.Mol object at 0x000002A80CE...  \n",
       "9428  <rdkit.Chem.rdchem.Mol object at 0x000002A80B5...  \n",
       "9429  <rdkit.Chem.rdchem.Mol object at 0x000002A80CE...  \n",
       "\n",
       "[9430 rows x 7 columns]"
      ]
     },
     "execution_count": 2,
     "metadata": {},
     "output_type": "execute_result"
    }
   ],
   "source": [
    "opv_df_sorted = opv_df.sort_values(by='LUMO_calib')\n",
    "opv_df_filtered = opv_df_sorted[opv_df_sorted['LUMO_calib'] <= -4.0]\n",
    "opv_df_filtered.reset_index(drop=True, inplace=True)\n",
    "opv_df_filtered"
   ]
  },
  {
   "cell_type": "code",
   "execution_count": 3,
   "metadata": {},
   "outputs": [
    {
     "name": "stdout",
     "output_type": "stream",
     "text": [
      "Finished processing morgan fingerprints\n",
      "Finished processing maccs fingerprints\n",
      "Finished processing atom_pair fingerprints\n",
      "Finished processing fcfp fingerprints\n",
      "CPU times: total: 39.2 s\n",
      "Wall time: 41.4 s\n"
     ]
    }
   ],
   "source": [
    "%%time\n",
    "import pandas as pd\n",
    "from rdkit import Chem\n",
    "from rdkit.Chem import AllChem, MACCSkeys, rdMolDescriptors\n",
    "from rdkit.DataStructs import ExplicitBitVect\n",
    "import numpy as np\n",
    "\n",
    "# Functions to generate fingerprints\n",
    "def generate_morgan_fingerprint(mol, radius=2, nBits=2048):\n",
    "    return AllChem.GetMorganFingerprintAsBitVect(mol, radius, nBits=nBits)\n",
    "\n",
    "def generate_maccs166_fingerprint(mol):\n",
    "    return MACCSkeys.GenMACCSKeys(mol)\n",
    "\n",
    "def generate_atom_pair_fingerprint(mol, nBits=2048):\n",
    "    fp = rdMolDescriptors.GetAtomPairFingerprint(mol)\n",
    "    return convert_to_bit_vector(fp, nBits)\n",
    "\n",
    "def generate_fcfp_fingerprint(mol, radius=2, nBits=2048):\n",
    "    return AllChem.GetMorganFingerprintAsBitVect(mol, radius, nBits=nBits, useFeatures=True)\n",
    "\n",
    "# Convert any fingerprint to a bit vector\n",
    "def convert_to_bit_vector(fp, nBits=2048):\n",
    "    bit_vector = ExplicitBitVect(nBits)\n",
    "    for bit in fp.GetNonzeroElements().keys():\n",
    "        bit_vector.SetBit(bit % nBits)\n",
    "    return bit_vector\n",
    "\n",
    "# Function to add fingerprint to dataframe\n",
    "def add_fingerprint_to_df(df, fingerprint_func, fp_name):\n",
    "    df[fp_name] = df['mol'].apply(fingerprint_func)\n",
    "    return df\n",
    "\n",
    "# Function to split fingerprints into separate bit columns\n",
    "def split_fingerprint_bits(df, fp_column, prefix):\n",
    "    bit_array = np.array([list(fp) for fp in df[fp_column].values])\n",
    "    bit_columns = pd.DataFrame(bit_array, columns=[f'{prefix}_{i}' for i in range(bit_array.shape[1])])\n",
    "    df = pd.concat([df.drop(columns=[fp_column]), bit_columns], axis=1)\n",
    "    return df\n",
    "\n",
    "# Assuming opv_df is already defined and 'mol' column has been created\n",
    "# List of fingerprint generation functions and names\n",
    "fingerprint_functions = [\n",
    "    (generate_morgan_fingerprint, 'morgan_fp', 'morgan'),\n",
    "    (generate_maccs166_fingerprint, 'maccs_fp', 'maccs'),\n",
    "    (generate_atom_pair_fingerprint, 'atom_pair_fp', 'atom_pair'),\n",
    "    (generate_fcfp_fingerprint, 'fcfp_fp', 'fcfp')\n",
    "]\n",
    "\n",
    "# List to store resulting dataframes\n",
    "resulting_dfs = []\n",
    "\n",
    "# Generate and store dataframes with fingerprints\n",
    "for fp_func, fp_name, prefix in fingerprint_functions:\n",
    "    df_copy = opv_df_filtered.copy()\n",
    "    df_copy = add_fingerprint_to_df(df_copy, fp_func, fp_name)\n",
    "    df_copy = split_fingerprint_bits(df_copy, fp_name, prefix)\n",
    "    resulting_dfs.append(df_copy)\n",
    "    print(f'Finished processing {prefix} fingerprints')\n",
    "\n",
    "# The resulting_dfs list now contains your four dataframes with split fingerprint columns\n",
    "opv_df_morgan = resulting_dfs[0]\n",
    "opv_df_maccs = resulting_dfs[1]\n",
    "opv_df_atom_pair = resulting_dfs[2]\n",
    "opv_df_fcfp = resulting_dfs[3]"
   ]
  },
  {
   "cell_type": "code",
   "execution_count": 4,
   "metadata": {},
   "outputs": [
    {
     "name": "stdout",
     "output_type": "stream",
     "text": [
      "Finished processing Morgan fingerprints with Bayesian Ridge model:\n",
      "Finished processing Morgan fingerprints with KNN Regressor model:\n",
      "[LightGBM] [Info] Auto-choosing row-wise multi-threading, the overhead of testing was 0.007894 seconds.\n",
      "You can set `force_row_wise=true` to remove the overhead.\n",
      "And if memory is not enough, you can set `force_col_wise=true`.\n",
      "[LightGBM] [Info] Total Bins 2050\n",
      "[LightGBM] [Info] Number of data points in the train set: 7072, number of used features: 1025\n",
      "[LightGBM] [Info] Start training from score -4.258663\n",
      "Finished processing Morgan fingerprints with LightGBM model:\n",
      "Finished processing Morgan fingerprints with Ridge Regression model:\n",
      "Finished processing Morgan fingerprints with Decision Tree model:\n",
      "Finished processing Morgan fingerprints\n",
      "Finished processing MACCS fingerprints with Bayesian Ridge model:\n",
      "Finished processing MACCS fingerprints with KNN Regressor model:\n",
      "[LightGBM] [Info] Auto-choosing row-wise multi-threading, the overhead of testing was 0.000786 seconds.\n",
      "You can set `force_row_wise=true` to remove the overhead.\n",
      "And if memory is not enough, you can set `force_col_wise=true`.\n",
      "[LightGBM] [Info] Total Bins 204\n",
      "[LightGBM] [Info] Number of data points in the train set: 7072, number of used features: 102\n",
      "[LightGBM] [Info] Start training from score -4.258663\n",
      "Finished processing MACCS fingerprints with LightGBM model:\n",
      "Finished processing MACCS fingerprints with Ridge Regression model:\n",
      "Finished processing MACCS fingerprints with Decision Tree model:\n",
      "Finished processing MACCS fingerprints\n",
      "Finished processing Atom Pair fingerprints with Bayesian Ridge model:\n",
      "Finished processing Atom Pair fingerprints with KNN Regressor model:\n",
      "[LightGBM] [Info] Auto-choosing row-wise multi-threading, the overhead of testing was 0.002413 seconds.\n",
      "You can set `force_row_wise=true` to remove the overhead.\n",
      "And if memory is not enough, you can set `force_col_wise=true`.\n",
      "[LightGBM] [Info] Total Bins 570\n",
      "[LightGBM] [Info] Number of data points in the train set: 7072, number of used features: 285\n",
      "[LightGBM] [Info] Start training from score -4.258663\n",
      "Finished processing Atom Pair fingerprints with LightGBM model:\n",
      "Finished processing Atom Pair fingerprints with Ridge Regression model:\n",
      "Finished processing Atom Pair fingerprints with Decision Tree model:\n",
      "Finished processing Atom Pair fingerprints\n",
      "Finished processing FCFP fingerprints with Bayesian Ridge model:\n",
      "Finished processing FCFP fingerprints with KNN Regressor model:\n",
      "[LightGBM] [Info] Auto-choosing row-wise multi-threading, the overhead of testing was 0.004886 seconds.\n",
      "You can set `force_row_wise=true` to remove the overhead.\n",
      "And if memory is not enough, you can set `force_col_wise=true`.\n",
      "[LightGBM] [Info] Total Bins 1196\n",
      "[LightGBM] [Info] Number of data points in the train set: 7072, number of used features: 598\n",
      "[LightGBM] [Info] Start training from score -4.258663\n",
      "Finished processing FCFP fingerprints with LightGBM model:\n",
      "Finished processing FCFP fingerprints with Ridge Regression model:\n",
      "Finished processing FCFP fingerprints with Decision Tree model:\n",
      "Finished processing FCFP fingerprints\n",
      "CPU times: total: 33.6 s\n",
      "Wall time: 19.4 s\n"
     ]
    },
    {
     "data": {
      "text/html": [
       "<div>\n",
       "<style scoped>\n",
       "    .dataframe tbody tr th:only-of-type {\n",
       "        vertical-align: middle;\n",
       "    }\n",
       "\n",
       "    .dataframe tbody tr th {\n",
       "        vertical-align: top;\n",
       "    }\n",
       "\n",
       "    .dataframe thead th {\n",
       "        text-align: right;\n",
       "    }\n",
       "</style>\n",
       "<table border=\"1\" class=\"dataframe\">\n",
       "  <thead>\n",
       "    <tr style=\"text-align: right;\">\n",
       "      <th></th>\n",
       "      <th>Fingerprint Type</th>\n",
       "      <th>Regression Model</th>\n",
       "      <th>R² Score</th>\n",
       "      <th>RMSE</th>\n",
       "      <th>MAE</th>\n",
       "      <th>MSE</th>\n",
       "    </tr>\n",
       "  </thead>\n",
       "  <tbody>\n",
       "    <tr>\n",
       "      <th>0</th>\n",
       "      <td>Morgan</td>\n",
       "      <td>Bayesian Ridge</td>\n",
       "      <td>0.755237</td>\n",
       "      <td>0.108178</td>\n",
       "      <td>0.079008</td>\n",
       "      <td>0.011702</td>\n",
       "    </tr>\n",
       "    <tr>\n",
       "      <th>1</th>\n",
       "      <td>Morgan</td>\n",
       "      <td>KNN Regressor</td>\n",
       "      <td>0.511808</td>\n",
       "      <td>0.152778</td>\n",
       "      <td>0.116148</td>\n",
       "      <td>0.023341</td>\n",
       "    </tr>\n",
       "    <tr>\n",
       "      <th>2</th>\n",
       "      <td>Morgan</td>\n",
       "      <td>LightGBM</td>\n",
       "      <td>0.735992</td>\n",
       "      <td>0.112350</td>\n",
       "      <td>0.081995</td>\n",
       "      <td>0.012623</td>\n",
       "    </tr>\n",
       "    <tr>\n",
       "      <th>3</th>\n",
       "      <td>Morgan</td>\n",
       "      <td>Ridge Regression</td>\n",
       "      <td>0.760447</td>\n",
       "      <td>0.107020</td>\n",
       "      <td>0.078137</td>\n",
       "      <td>0.011453</td>\n",
       "    </tr>\n",
       "    <tr>\n",
       "      <th>4</th>\n",
       "      <td>Morgan</td>\n",
       "      <td>Decision Tree</td>\n",
       "      <td>0.426828</td>\n",
       "      <td>0.165542</td>\n",
       "      <td>0.117477</td>\n",
       "      <td>0.027404</td>\n",
       "    </tr>\n",
       "    <tr>\n",
       "      <th>5</th>\n",
       "      <td>MACCS</td>\n",
       "      <td>Bayesian Ridge</td>\n",
       "      <td>0.216885</td>\n",
       "      <td>0.193499</td>\n",
       "      <td>0.149600</td>\n",
       "      <td>0.037442</td>\n",
       "    </tr>\n",
       "    <tr>\n",
       "      <th>6</th>\n",
       "      <td>MACCS</td>\n",
       "      <td>KNN Regressor</td>\n",
       "      <td>0.270828</td>\n",
       "      <td>0.186716</td>\n",
       "      <td>0.142172</td>\n",
       "      <td>0.034863</td>\n",
       "    </tr>\n",
       "    <tr>\n",
       "      <th>7</th>\n",
       "      <td>MACCS</td>\n",
       "      <td>LightGBM</td>\n",
       "      <td>0.382790</td>\n",
       "      <td>0.171784</td>\n",
       "      <td>0.130817</td>\n",
       "      <td>0.029510</td>\n",
       "    </tr>\n",
       "    <tr>\n",
       "      <th>8</th>\n",
       "      <td>MACCS</td>\n",
       "      <td>Ridge Regression</td>\n",
       "      <td>0.219431</td>\n",
       "      <td>0.193184</td>\n",
       "      <td>0.149138</td>\n",
       "      <td>0.037320</td>\n",
       "    </tr>\n",
       "    <tr>\n",
       "      <th>9</th>\n",
       "      <td>MACCS</td>\n",
       "      <td>Decision Tree</td>\n",
       "      <td>0.206910</td>\n",
       "      <td>0.194727</td>\n",
       "      <td>0.141843</td>\n",
       "      <td>0.037919</td>\n",
       "    </tr>\n",
       "    <tr>\n",
       "      <th>10</th>\n",
       "      <td>Atom Pair</td>\n",
       "      <td>Bayesian Ridge</td>\n",
       "      <td>0.325975</td>\n",
       "      <td>0.179516</td>\n",
       "      <td>0.138572</td>\n",
       "      <td>0.032226</td>\n",
       "    </tr>\n",
       "    <tr>\n",
       "      <th>11</th>\n",
       "      <td>Atom Pair</td>\n",
       "      <td>KNN Regressor</td>\n",
       "      <td>0.363373</td>\n",
       "      <td>0.174465</td>\n",
       "      <td>0.130638</td>\n",
       "      <td>0.030438</td>\n",
       "    </tr>\n",
       "    <tr>\n",
       "      <th>12</th>\n",
       "      <td>Atom Pair</td>\n",
       "      <td>LightGBM</td>\n",
       "      <td>0.537222</td>\n",
       "      <td>0.148748</td>\n",
       "      <td>0.113766</td>\n",
       "      <td>0.022126</td>\n",
       "    </tr>\n",
       "    <tr>\n",
       "      <th>13</th>\n",
       "      <td>Atom Pair</td>\n",
       "      <td>Ridge Regression</td>\n",
       "      <td>0.330067</td>\n",
       "      <td>0.178971</td>\n",
       "      <td>0.138326</td>\n",
       "      <td>0.032030</td>\n",
       "    </tr>\n",
       "    <tr>\n",
       "      <th>14</th>\n",
       "      <td>Atom Pair</td>\n",
       "      <td>Decision Tree</td>\n",
       "      <td>0.182494</td>\n",
       "      <td>0.197702</td>\n",
       "      <td>0.140694</td>\n",
       "      <td>0.039086</td>\n",
       "    </tr>\n",
       "    <tr>\n",
       "      <th>15</th>\n",
       "      <td>FCFP</td>\n",
       "      <td>Bayesian Ridge</td>\n",
       "      <td>0.694097</td>\n",
       "      <td>0.120937</td>\n",
       "      <td>0.089269</td>\n",
       "      <td>0.014626</td>\n",
       "    </tr>\n",
       "    <tr>\n",
       "      <th>16</th>\n",
       "      <td>FCFP</td>\n",
       "      <td>KNN Regressor</td>\n",
       "      <td>0.480268</td>\n",
       "      <td>0.157636</td>\n",
       "      <td>0.116872</td>\n",
       "      <td>0.024849</td>\n",
       "    </tr>\n",
       "    <tr>\n",
       "      <th>17</th>\n",
       "      <td>FCFP</td>\n",
       "      <td>LightGBM</td>\n",
       "      <td>0.707196</td>\n",
       "      <td>0.118319</td>\n",
       "      <td>0.087216</td>\n",
       "      <td>0.013999</td>\n",
       "    </tr>\n",
       "    <tr>\n",
       "      <th>18</th>\n",
       "      <td>FCFP</td>\n",
       "      <td>Ridge Regression</td>\n",
       "      <td>0.697896</td>\n",
       "      <td>0.120183</td>\n",
       "      <td>0.088772</td>\n",
       "      <td>0.014444</td>\n",
       "    </tr>\n",
       "    <tr>\n",
       "      <th>19</th>\n",
       "      <td>FCFP</td>\n",
       "      <td>Decision Tree</td>\n",
       "      <td>0.434516</td>\n",
       "      <td>0.164428</td>\n",
       "      <td>0.113922</td>\n",
       "      <td>0.027037</td>\n",
       "    </tr>\n",
       "  </tbody>\n",
       "</table>\n",
       "</div>"
      ],
      "text/plain": [
       "   Fingerprint Type  Regression Model  R² Score      RMSE       MAE       MSE\n",
       "0            Morgan    Bayesian Ridge  0.755237  0.108178  0.079008  0.011702\n",
       "1            Morgan     KNN Regressor  0.511808  0.152778  0.116148  0.023341\n",
       "2            Morgan          LightGBM  0.735992  0.112350  0.081995  0.012623\n",
       "3            Morgan  Ridge Regression  0.760447  0.107020  0.078137  0.011453\n",
       "4            Morgan     Decision Tree  0.426828  0.165542  0.117477  0.027404\n",
       "5             MACCS    Bayesian Ridge  0.216885  0.193499  0.149600  0.037442\n",
       "6             MACCS     KNN Regressor  0.270828  0.186716  0.142172  0.034863\n",
       "7             MACCS          LightGBM  0.382790  0.171784  0.130817  0.029510\n",
       "8             MACCS  Ridge Regression  0.219431  0.193184  0.149138  0.037320\n",
       "9             MACCS     Decision Tree  0.206910  0.194727  0.141843  0.037919\n",
       "10        Atom Pair    Bayesian Ridge  0.325975  0.179516  0.138572  0.032226\n",
       "11        Atom Pair     KNN Regressor  0.363373  0.174465  0.130638  0.030438\n",
       "12        Atom Pair          LightGBM  0.537222  0.148748  0.113766  0.022126\n",
       "13        Atom Pair  Ridge Regression  0.330067  0.178971  0.138326  0.032030\n",
       "14        Atom Pair     Decision Tree  0.182494  0.197702  0.140694  0.039086\n",
       "15             FCFP    Bayesian Ridge  0.694097  0.120937  0.089269  0.014626\n",
       "16             FCFP     KNN Regressor  0.480268  0.157636  0.116872  0.024849\n",
       "17             FCFP          LightGBM  0.707196  0.118319  0.087216  0.013999\n",
       "18             FCFP  Ridge Regression  0.697896  0.120183  0.088772  0.014444\n",
       "19             FCFP     Decision Tree  0.434516  0.164428  0.113922  0.027037"
      ]
     },
     "execution_count": 4,
     "metadata": {},
     "output_type": "execute_result"
    }
   ],
   "source": [
    "%%time\n",
    "import pandas as pd\n",
    "from sklearn.model_selection import train_test_split\n",
    "from sklearn.metrics import r2_score, mean_squared_error, mean_absolute_error\n",
    "from lightgbm import LGBMRegressor\n",
    "from sklearn.linear_model import BayesianRidge, LinearRegression, Ridge\n",
    "from sklearn.neighbors import KNeighborsRegressor\n",
    "from sklearn.tree import DecisionTreeRegressor\n",
    "import numpy as np\n",
    "\n",
    "models = {\n",
    "    'Bayesian Ridge': BayesianRidge(),\n",
    "    'KNN Regressor': KNeighborsRegressor(),\n",
    "    'LightGBM': LGBMRegressor(),\n",
    "    'Ridge Regression': Ridge(),\n",
    "    'Decision Tree': DecisionTreeRegressor()\n",
    "}\n",
    "\n",
    "results = []\n",
    "\n",
    "for i, df in enumerate([opv_df_morgan, opv_df_maccs, opv_df_atom_pair, opv_df_fcfp]):\n",
    "    fingerprint_type = ['Morgan', 'MACCS', 'Atom Pair', 'FCFP'][i]\n",
    "    \n",
    "    X = df.iloc[:,7:]  \n",
    "    y = df[\"LUMO_calib\"] \n",
    "    \n",
    "    X_train, X_test, y_train, y_test = train_test_split(X, y, test_size=0.25, random_state=42)\n",
    "    \n",
    "    for model_name, model in models.items():\n",
    "        model.fit(X_train, y_train)\n",
    "        y_pred = model.predict(X_test)\n",
    "        \n",
    "        r2 = r2_score(y_test, y_pred)\n",
    "        rmse = np.sqrt(mean_squared_error(y_test, y_pred))\n",
    "        mae = mean_absolute_error(y_test, y_pred)\n",
    "        mse = mean_squared_error(y_test, y_pred)\n",
    "\n",
    "        print(f'Finished processing {fingerprint_type} fingerprints with {model_name} model:')\n",
    "        \n",
    "        results.append({\n",
    "            'Fingerprint Type': fingerprint_type,\n",
    "            'Regression Model': model_name,\n",
    "            'R² Score': r2,\n",
    "            'RMSE': rmse,\n",
    "            'MAE': mae,\n",
    "            'MSE': mse\n",
    "        })\n",
    "    print(f'Finished processing {fingerprint_type} fingerprints')\n",
    "\n",
    "results_df = pd.DataFrame(results)\n",
    "results_df"
   ]
  },
  {
   "cell_type": "code",
   "execution_count": 5,
   "metadata": {},
   "outputs": [
    {
     "data": {
      "application/vnd.plotly.v1+json": {
       "config": {
        "plotlyServerURL": "https://plot.ly"
       },
       "data": [
        {
         "marker": {
          "color": "#1f77b4"
         },
         "name": "Morgan",
         "text": [
          "0.75524",
          "0.51181",
          "0.73599",
          "0.76045",
          "0.42683"
         ],
         "textposition": "inside",
         "type": "bar",
         "x": [
          "Bayesian Ridge",
          "KNN Regressor",
          "LightGBM",
          "Ridge Regression",
          "Decision Tree"
         ],
         "y": [
          0.7552371771277605,
          0.5118075914282623,
          0.7359919962901453,
          0.7604468747479098,
          0.426828187765559
         ]
        },
        {
         "marker": {
          "color": "#ff7f0e"
         },
         "name": "MACCS",
         "text": [
          "0.21689",
          "0.27083",
          "0.38279",
          "0.21943",
          "0.20691"
         ],
         "textposition": "inside",
         "type": "bar",
         "x": [
          "Bayesian Ridge",
          "KNN Regressor",
          "LightGBM",
          "Ridge Regression",
          "Decision Tree"
         ],
         "y": [
          0.2168854734801915,
          0.27082824744651934,
          0.3827900821369927,
          0.2194308437394923,
          0.20691013621943288
         ]
        },
        {
         "marker": {
          "color": "#2ca02c"
         },
         "name": "Atom Pair",
         "text": [
          "0.32598",
          "0.36337",
          "0.53722",
          "0.33007",
          "0.18249"
         ],
         "textposition": "inside",
         "type": "bar",
         "x": [
          "Bayesian Ridge",
          "KNN Regressor",
          "LightGBM",
          "Ridge Regression",
          "Decision Tree"
         ],
         "y": [
          0.3259752301362895,
          0.3633728358833297,
          0.5372223579607474,
          0.33006685698613725,
          0.18249375681383895
         ]
        },
        {
         "marker": {
          "color": "#d62728"
         },
         "name": "FCFP",
         "text": [
          "0.69410",
          "0.48027",
          "0.70720",
          "0.69790",
          "0.43452"
         ],
         "textposition": "inside",
         "type": "bar",
         "x": [
          "Bayesian Ridge",
          "KNN Regressor",
          "LightGBM",
          "Ridge Regression",
          "Decision Tree"
         ],
         "y": [
          0.6940970164909597,
          0.48026778853175456,
          0.7071957801858008,
          0.697895865724838,
          0.4345163886207145
         ]
        }
       ],
       "layout": {
        "annotations": [
         {
          "arrowhead": 2,
          "ax": -150,
          "ay": -50,
          "bordercolor": "black",
          "borderwidth": 1,
          "showarrow": true,
          "text": "Best: Ridge Regression (Morgan)<br>R² Score: 0.76045",
          "x": "Ridge Regression",
          "y": 0.7604468747479098
         }
        ],
        "barmode": "group",
        "legend": {
         "orientation": "h",
         "title": {
          "text": "Fingerprint Type"
         },
         "x": 0.5,
         "xanchor": "center",
         "y": 1.15,
         "yanchor": "top"
        },
        "template": {
         "data": {
          "bar": [
           {
            "error_x": {
             "color": "#2a3f5f"
            },
            "error_y": {
             "color": "#2a3f5f"
            },
            "marker": {
             "line": {
              "color": "#E5ECF6",
              "width": 0.5
             },
             "pattern": {
              "fillmode": "overlay",
              "size": 10,
              "solidity": 0.2
             }
            },
            "type": "bar"
           }
          ],
          "barpolar": [
           {
            "marker": {
             "line": {
              "color": "#E5ECF6",
              "width": 0.5
             },
             "pattern": {
              "fillmode": "overlay",
              "size": 10,
              "solidity": 0.2
             }
            },
            "type": "barpolar"
           }
          ],
          "carpet": [
           {
            "aaxis": {
             "endlinecolor": "#2a3f5f",
             "gridcolor": "white",
             "linecolor": "white",
             "minorgridcolor": "white",
             "startlinecolor": "#2a3f5f"
            },
            "baxis": {
             "endlinecolor": "#2a3f5f",
             "gridcolor": "white",
             "linecolor": "white",
             "minorgridcolor": "white",
             "startlinecolor": "#2a3f5f"
            },
            "type": "carpet"
           }
          ],
          "choropleth": [
           {
            "colorbar": {
             "outlinewidth": 0,
             "ticks": ""
            },
            "type": "choropleth"
           }
          ],
          "contour": [
           {
            "colorbar": {
             "outlinewidth": 0,
             "ticks": ""
            },
            "colorscale": [
             [
              0,
              "#0d0887"
             ],
             [
              0.1111111111111111,
              "#46039f"
             ],
             [
              0.2222222222222222,
              "#7201a8"
             ],
             [
              0.3333333333333333,
              "#9c179e"
             ],
             [
              0.4444444444444444,
              "#bd3786"
             ],
             [
              0.5555555555555556,
              "#d8576b"
             ],
             [
              0.6666666666666666,
              "#ed7953"
             ],
             [
              0.7777777777777778,
              "#fb9f3a"
             ],
             [
              0.8888888888888888,
              "#fdca26"
             ],
             [
              1,
              "#f0f921"
             ]
            ],
            "type": "contour"
           }
          ],
          "contourcarpet": [
           {
            "colorbar": {
             "outlinewidth": 0,
             "ticks": ""
            },
            "type": "contourcarpet"
           }
          ],
          "heatmap": [
           {
            "colorbar": {
             "outlinewidth": 0,
             "ticks": ""
            },
            "colorscale": [
             [
              0,
              "#0d0887"
             ],
             [
              0.1111111111111111,
              "#46039f"
             ],
             [
              0.2222222222222222,
              "#7201a8"
             ],
             [
              0.3333333333333333,
              "#9c179e"
             ],
             [
              0.4444444444444444,
              "#bd3786"
             ],
             [
              0.5555555555555556,
              "#d8576b"
             ],
             [
              0.6666666666666666,
              "#ed7953"
             ],
             [
              0.7777777777777778,
              "#fb9f3a"
             ],
             [
              0.8888888888888888,
              "#fdca26"
             ],
             [
              1,
              "#f0f921"
             ]
            ],
            "type": "heatmap"
           }
          ],
          "heatmapgl": [
           {
            "colorbar": {
             "outlinewidth": 0,
             "ticks": ""
            },
            "colorscale": [
             [
              0,
              "#0d0887"
             ],
             [
              0.1111111111111111,
              "#46039f"
             ],
             [
              0.2222222222222222,
              "#7201a8"
             ],
             [
              0.3333333333333333,
              "#9c179e"
             ],
             [
              0.4444444444444444,
              "#bd3786"
             ],
             [
              0.5555555555555556,
              "#d8576b"
             ],
             [
              0.6666666666666666,
              "#ed7953"
             ],
             [
              0.7777777777777778,
              "#fb9f3a"
             ],
             [
              0.8888888888888888,
              "#fdca26"
             ],
             [
              1,
              "#f0f921"
             ]
            ],
            "type": "heatmapgl"
           }
          ],
          "histogram": [
           {
            "marker": {
             "pattern": {
              "fillmode": "overlay",
              "size": 10,
              "solidity": 0.2
             }
            },
            "type": "histogram"
           }
          ],
          "histogram2d": [
           {
            "colorbar": {
             "outlinewidth": 0,
             "ticks": ""
            },
            "colorscale": [
             [
              0,
              "#0d0887"
             ],
             [
              0.1111111111111111,
              "#46039f"
             ],
             [
              0.2222222222222222,
              "#7201a8"
             ],
             [
              0.3333333333333333,
              "#9c179e"
             ],
             [
              0.4444444444444444,
              "#bd3786"
             ],
             [
              0.5555555555555556,
              "#d8576b"
             ],
             [
              0.6666666666666666,
              "#ed7953"
             ],
             [
              0.7777777777777778,
              "#fb9f3a"
             ],
             [
              0.8888888888888888,
              "#fdca26"
             ],
             [
              1,
              "#f0f921"
             ]
            ],
            "type": "histogram2d"
           }
          ],
          "histogram2dcontour": [
           {
            "colorbar": {
             "outlinewidth": 0,
             "ticks": ""
            },
            "colorscale": [
             [
              0,
              "#0d0887"
             ],
             [
              0.1111111111111111,
              "#46039f"
             ],
             [
              0.2222222222222222,
              "#7201a8"
             ],
             [
              0.3333333333333333,
              "#9c179e"
             ],
             [
              0.4444444444444444,
              "#bd3786"
             ],
             [
              0.5555555555555556,
              "#d8576b"
             ],
             [
              0.6666666666666666,
              "#ed7953"
             ],
             [
              0.7777777777777778,
              "#fb9f3a"
             ],
             [
              0.8888888888888888,
              "#fdca26"
             ],
             [
              1,
              "#f0f921"
             ]
            ],
            "type": "histogram2dcontour"
           }
          ],
          "mesh3d": [
           {
            "colorbar": {
             "outlinewidth": 0,
             "ticks": ""
            },
            "type": "mesh3d"
           }
          ],
          "parcoords": [
           {
            "line": {
             "colorbar": {
              "outlinewidth": 0,
              "ticks": ""
             }
            },
            "type": "parcoords"
           }
          ],
          "pie": [
           {
            "automargin": true,
            "type": "pie"
           }
          ],
          "scatter": [
           {
            "fillpattern": {
             "fillmode": "overlay",
             "size": 10,
             "solidity": 0.2
            },
            "type": "scatter"
           }
          ],
          "scatter3d": [
           {
            "line": {
             "colorbar": {
              "outlinewidth": 0,
              "ticks": ""
             }
            },
            "marker": {
             "colorbar": {
              "outlinewidth": 0,
              "ticks": ""
             }
            },
            "type": "scatter3d"
           }
          ],
          "scattercarpet": [
           {
            "marker": {
             "colorbar": {
              "outlinewidth": 0,
              "ticks": ""
             }
            },
            "type": "scattercarpet"
           }
          ],
          "scattergeo": [
           {
            "marker": {
             "colorbar": {
              "outlinewidth": 0,
              "ticks": ""
             }
            },
            "type": "scattergeo"
           }
          ],
          "scattergl": [
           {
            "marker": {
             "colorbar": {
              "outlinewidth": 0,
              "ticks": ""
             }
            },
            "type": "scattergl"
           }
          ],
          "scattermapbox": [
           {
            "marker": {
             "colorbar": {
              "outlinewidth": 0,
              "ticks": ""
             }
            },
            "type": "scattermapbox"
           }
          ],
          "scatterpolar": [
           {
            "marker": {
             "colorbar": {
              "outlinewidth": 0,
              "ticks": ""
             }
            },
            "type": "scatterpolar"
           }
          ],
          "scatterpolargl": [
           {
            "marker": {
             "colorbar": {
              "outlinewidth": 0,
              "ticks": ""
             }
            },
            "type": "scatterpolargl"
           }
          ],
          "scatterternary": [
           {
            "marker": {
             "colorbar": {
              "outlinewidth": 0,
              "ticks": ""
             }
            },
            "type": "scatterternary"
           }
          ],
          "surface": [
           {
            "colorbar": {
             "outlinewidth": 0,
             "ticks": ""
            },
            "colorscale": [
             [
              0,
              "#0d0887"
             ],
             [
              0.1111111111111111,
              "#46039f"
             ],
             [
              0.2222222222222222,
              "#7201a8"
             ],
             [
              0.3333333333333333,
              "#9c179e"
             ],
             [
              0.4444444444444444,
              "#bd3786"
             ],
             [
              0.5555555555555556,
              "#d8576b"
             ],
             [
              0.6666666666666666,
              "#ed7953"
             ],
             [
              0.7777777777777778,
              "#fb9f3a"
             ],
             [
              0.8888888888888888,
              "#fdca26"
             ],
             [
              1,
              "#f0f921"
             ]
            ],
            "type": "surface"
           }
          ],
          "table": [
           {
            "cells": {
             "fill": {
              "color": "#EBF0F8"
             },
             "line": {
              "color": "white"
             }
            },
            "header": {
             "fill": {
              "color": "#C8D4E3"
             },
             "line": {
              "color": "white"
             }
            },
            "type": "table"
           }
          ]
         },
         "layout": {
          "annotationdefaults": {
           "arrowcolor": "#2a3f5f",
           "arrowhead": 0,
           "arrowwidth": 1
          },
          "autotypenumbers": "strict",
          "coloraxis": {
           "colorbar": {
            "outlinewidth": 0,
            "ticks": ""
           }
          },
          "colorscale": {
           "diverging": [
            [
             0,
             "#8e0152"
            ],
            [
             0.1,
             "#c51b7d"
            ],
            [
             0.2,
             "#de77ae"
            ],
            [
             0.3,
             "#f1b6da"
            ],
            [
             0.4,
             "#fde0ef"
            ],
            [
             0.5,
             "#f7f7f7"
            ],
            [
             0.6,
             "#e6f5d0"
            ],
            [
             0.7,
             "#b8e186"
            ],
            [
             0.8,
             "#7fbc41"
            ],
            [
             0.9,
             "#4d9221"
            ],
            [
             1,
             "#276419"
            ]
           ],
           "sequential": [
            [
             0,
             "#0d0887"
            ],
            [
             0.1111111111111111,
             "#46039f"
            ],
            [
             0.2222222222222222,
             "#7201a8"
            ],
            [
             0.3333333333333333,
             "#9c179e"
            ],
            [
             0.4444444444444444,
             "#bd3786"
            ],
            [
             0.5555555555555556,
             "#d8576b"
            ],
            [
             0.6666666666666666,
             "#ed7953"
            ],
            [
             0.7777777777777778,
             "#fb9f3a"
            ],
            [
             0.8888888888888888,
             "#fdca26"
            ],
            [
             1,
             "#f0f921"
            ]
           ],
           "sequentialminus": [
            [
             0,
             "#0d0887"
            ],
            [
             0.1111111111111111,
             "#46039f"
            ],
            [
             0.2222222222222222,
             "#7201a8"
            ],
            [
             0.3333333333333333,
             "#9c179e"
            ],
            [
             0.4444444444444444,
             "#bd3786"
            ],
            [
             0.5555555555555556,
             "#d8576b"
            ],
            [
             0.6666666666666666,
             "#ed7953"
            ],
            [
             0.7777777777777778,
             "#fb9f3a"
            ],
            [
             0.8888888888888888,
             "#fdca26"
            ],
            [
             1,
             "#f0f921"
            ]
           ]
          },
          "colorway": [
           "#636efa",
           "#EF553B",
           "#00cc96",
           "#ab63fa",
           "#FFA15A",
           "#19d3f3",
           "#FF6692",
           "#B6E880",
           "#FF97FF",
           "#FECB52"
          ],
          "font": {
           "color": "#2a3f5f"
          },
          "geo": {
           "bgcolor": "white",
           "lakecolor": "white",
           "landcolor": "#E5ECF6",
           "showlakes": true,
           "showland": true,
           "subunitcolor": "white"
          },
          "hoverlabel": {
           "align": "left"
          },
          "hovermode": "closest",
          "mapbox": {
           "style": "light"
          },
          "paper_bgcolor": "white",
          "plot_bgcolor": "#E5ECF6",
          "polar": {
           "angularaxis": {
            "gridcolor": "white",
            "linecolor": "white",
            "ticks": ""
           },
           "bgcolor": "#E5ECF6",
           "radialaxis": {
            "gridcolor": "white",
            "linecolor": "white",
            "ticks": ""
           }
          },
          "scene": {
           "xaxis": {
            "backgroundcolor": "#E5ECF6",
            "gridcolor": "white",
            "gridwidth": 2,
            "linecolor": "white",
            "showbackground": true,
            "ticks": "",
            "zerolinecolor": "white"
           },
           "yaxis": {
            "backgroundcolor": "#E5ECF6",
            "gridcolor": "white",
            "gridwidth": 2,
            "linecolor": "white",
            "showbackground": true,
            "ticks": "",
            "zerolinecolor": "white"
           },
           "zaxis": {
            "backgroundcolor": "#E5ECF6",
            "gridcolor": "white",
            "gridwidth": 2,
            "linecolor": "white",
            "showbackground": true,
            "ticks": "",
            "zerolinecolor": "white"
           }
          },
          "shapedefaults": {
           "line": {
            "color": "#2a3f5f"
           }
          },
          "ternary": {
           "aaxis": {
            "gridcolor": "white",
            "linecolor": "white",
            "ticks": ""
           },
           "baxis": {
            "gridcolor": "white",
            "linecolor": "white",
            "ticks": ""
           },
           "bgcolor": "#E5ECF6",
           "caxis": {
            "gridcolor": "white",
            "linecolor": "white",
            "ticks": ""
           }
          },
          "title": {
           "x": 0.05
          },
          "xaxis": {
           "automargin": true,
           "gridcolor": "white",
           "linecolor": "white",
           "ticks": "",
           "title": {
            "standoff": 15
           },
           "zerolinecolor": "white",
           "zerolinewidth": 2
          },
          "yaxis": {
           "automargin": true,
           "gridcolor": "white",
           "linecolor": "white",
           "ticks": "",
           "title": {
            "standoff": 15
           },
           "zerolinecolor": "white",
           "zerolinewidth": 2
          }
         }
        },
        "title": {
         "text": "R² Score by Regression Model and Fingerprint Type - Initial Model"
        },
        "xaxis": {
         "title": {
          "text": "Regression Model"
         }
        },
        "yaxis": {
         "range": [
          0,
          1
         ],
         "title": {
          "text": "R² Score"
         }
        }
       }
      }
     },
     "metadata": {},
     "output_type": "display_data"
    },
    {
     "data": {
      "application/vnd.plotly.v1+json": {
       "config": {
        "plotlyServerURL": "https://plot.ly"
       },
       "data": [
        {
         "marker": {
          "color": "#1f77b4"
         },
         "name": "Morgan",
         "text": [
          "0.10818",
          "0.15278",
          "0.11235",
          "0.10702",
          "0.16554"
         ],
         "textposition": "inside",
         "type": "bar",
         "x": [
          "Bayesian Ridge",
          "KNN Regressor",
          "LightGBM",
          "Ridge Regression",
          "Decision Tree"
         ],
         "y": [
          0.10817788147786984,
          0.15277815335282285,
          0.11235031439186692,
          0.107020423690855,
          0.16554198465629794
         ]
        },
        {
         "marker": {
          "color": "#ff7f0e"
         },
         "name": "MACCS",
         "text": [
          "0.19350",
          "0.18672",
          "0.17178",
          "0.19318",
          "0.19473"
         ],
         "textposition": "inside",
         "type": "bar",
         "x": [
          "Bayesian Ridge",
          "KNN Regressor",
          "LightGBM",
          "Ridge Regression",
          "Decision Tree"
         ],
         "y": [
          0.1934988487558563,
          0.186715625344449,
          0.1717837952584989,
          0.19318412653680028,
          0.19472734616079546
         ]
        },
        {
         "marker": {
          "color": "#2ca02c"
         },
         "name": "Atom Pair",
         "text": [
          "0.17952",
          "0.17447",
          "0.14875",
          "0.17897",
          "0.19770"
         ],
         "textposition": "inside",
         "type": "bar",
         "x": [
          "Bayesian Ridge",
          "KNN Regressor",
          "LightGBM",
          "Ridge Regression",
          "Decision Tree"
         ],
         "y": [
          0.17951621129230289,
          0.17446500538884155,
          0.14874827222202958,
          0.17897051068599878,
          0.19770210091472695
         ]
        },
        {
         "marker": {
          "color": "#d62728"
         },
         "name": "FCFP",
         "text": [
          "0.12094",
          "0.15764",
          "0.11832",
          "0.12018",
          "0.16443"
         ],
         "textposition": "inside",
         "type": "bar",
         "x": [
          "Bayesian Ridge",
          "KNN Regressor",
          "LightGBM",
          "Ridge Regression",
          "Decision Tree"
         ],
         "y": [
          0.12093655741765746,
          0.15763605672143052,
          0.11831897838505426,
          0.1201832875535437,
          0.16442799339555245
         ]
        }
       ],
       "layout": {
        "annotations": [
         {
          "arrowhead": 2,
          "ax": -100,
          "ay": -120,
          "bordercolor": "black",
          "borderwidth": 1,
          "showarrow": true,
          "text": "Best: Ridge Regression (Morgan)<br>RMSE: 0.10702",
          "x": "Ridge Regression",
          "y": 0.107020423690855
         }
        ],
        "barmode": "group",
        "legend": {
         "orientation": "h",
         "title": {
          "text": "Fingerprint Type"
         },
         "x": 0.5,
         "xanchor": "center",
         "y": 1.15,
         "yanchor": "top"
        },
        "template": {
         "data": {
          "bar": [
           {
            "error_x": {
             "color": "#2a3f5f"
            },
            "error_y": {
             "color": "#2a3f5f"
            },
            "marker": {
             "line": {
              "color": "#E5ECF6",
              "width": 0.5
             },
             "pattern": {
              "fillmode": "overlay",
              "size": 10,
              "solidity": 0.2
             }
            },
            "type": "bar"
           }
          ],
          "barpolar": [
           {
            "marker": {
             "line": {
              "color": "#E5ECF6",
              "width": 0.5
             },
             "pattern": {
              "fillmode": "overlay",
              "size": 10,
              "solidity": 0.2
             }
            },
            "type": "barpolar"
           }
          ],
          "carpet": [
           {
            "aaxis": {
             "endlinecolor": "#2a3f5f",
             "gridcolor": "white",
             "linecolor": "white",
             "minorgridcolor": "white",
             "startlinecolor": "#2a3f5f"
            },
            "baxis": {
             "endlinecolor": "#2a3f5f",
             "gridcolor": "white",
             "linecolor": "white",
             "minorgridcolor": "white",
             "startlinecolor": "#2a3f5f"
            },
            "type": "carpet"
           }
          ],
          "choropleth": [
           {
            "colorbar": {
             "outlinewidth": 0,
             "ticks": ""
            },
            "type": "choropleth"
           }
          ],
          "contour": [
           {
            "colorbar": {
             "outlinewidth": 0,
             "ticks": ""
            },
            "colorscale": [
             [
              0,
              "#0d0887"
             ],
             [
              0.1111111111111111,
              "#46039f"
             ],
             [
              0.2222222222222222,
              "#7201a8"
             ],
             [
              0.3333333333333333,
              "#9c179e"
             ],
             [
              0.4444444444444444,
              "#bd3786"
             ],
             [
              0.5555555555555556,
              "#d8576b"
             ],
             [
              0.6666666666666666,
              "#ed7953"
             ],
             [
              0.7777777777777778,
              "#fb9f3a"
             ],
             [
              0.8888888888888888,
              "#fdca26"
             ],
             [
              1,
              "#f0f921"
             ]
            ],
            "type": "contour"
           }
          ],
          "contourcarpet": [
           {
            "colorbar": {
             "outlinewidth": 0,
             "ticks": ""
            },
            "type": "contourcarpet"
           }
          ],
          "heatmap": [
           {
            "colorbar": {
             "outlinewidth": 0,
             "ticks": ""
            },
            "colorscale": [
             [
              0,
              "#0d0887"
             ],
             [
              0.1111111111111111,
              "#46039f"
             ],
             [
              0.2222222222222222,
              "#7201a8"
             ],
             [
              0.3333333333333333,
              "#9c179e"
             ],
             [
              0.4444444444444444,
              "#bd3786"
             ],
             [
              0.5555555555555556,
              "#d8576b"
             ],
             [
              0.6666666666666666,
              "#ed7953"
             ],
             [
              0.7777777777777778,
              "#fb9f3a"
             ],
             [
              0.8888888888888888,
              "#fdca26"
             ],
             [
              1,
              "#f0f921"
             ]
            ],
            "type": "heatmap"
           }
          ],
          "heatmapgl": [
           {
            "colorbar": {
             "outlinewidth": 0,
             "ticks": ""
            },
            "colorscale": [
             [
              0,
              "#0d0887"
             ],
             [
              0.1111111111111111,
              "#46039f"
             ],
             [
              0.2222222222222222,
              "#7201a8"
             ],
             [
              0.3333333333333333,
              "#9c179e"
             ],
             [
              0.4444444444444444,
              "#bd3786"
             ],
             [
              0.5555555555555556,
              "#d8576b"
             ],
             [
              0.6666666666666666,
              "#ed7953"
             ],
             [
              0.7777777777777778,
              "#fb9f3a"
             ],
             [
              0.8888888888888888,
              "#fdca26"
             ],
             [
              1,
              "#f0f921"
             ]
            ],
            "type": "heatmapgl"
           }
          ],
          "histogram": [
           {
            "marker": {
             "pattern": {
              "fillmode": "overlay",
              "size": 10,
              "solidity": 0.2
             }
            },
            "type": "histogram"
           }
          ],
          "histogram2d": [
           {
            "colorbar": {
             "outlinewidth": 0,
             "ticks": ""
            },
            "colorscale": [
             [
              0,
              "#0d0887"
             ],
             [
              0.1111111111111111,
              "#46039f"
             ],
             [
              0.2222222222222222,
              "#7201a8"
             ],
             [
              0.3333333333333333,
              "#9c179e"
             ],
             [
              0.4444444444444444,
              "#bd3786"
             ],
             [
              0.5555555555555556,
              "#d8576b"
             ],
             [
              0.6666666666666666,
              "#ed7953"
             ],
             [
              0.7777777777777778,
              "#fb9f3a"
             ],
             [
              0.8888888888888888,
              "#fdca26"
             ],
             [
              1,
              "#f0f921"
             ]
            ],
            "type": "histogram2d"
           }
          ],
          "histogram2dcontour": [
           {
            "colorbar": {
             "outlinewidth": 0,
             "ticks": ""
            },
            "colorscale": [
             [
              0,
              "#0d0887"
             ],
             [
              0.1111111111111111,
              "#46039f"
             ],
             [
              0.2222222222222222,
              "#7201a8"
             ],
             [
              0.3333333333333333,
              "#9c179e"
             ],
             [
              0.4444444444444444,
              "#bd3786"
             ],
             [
              0.5555555555555556,
              "#d8576b"
             ],
             [
              0.6666666666666666,
              "#ed7953"
             ],
             [
              0.7777777777777778,
              "#fb9f3a"
             ],
             [
              0.8888888888888888,
              "#fdca26"
             ],
             [
              1,
              "#f0f921"
             ]
            ],
            "type": "histogram2dcontour"
           }
          ],
          "mesh3d": [
           {
            "colorbar": {
             "outlinewidth": 0,
             "ticks": ""
            },
            "type": "mesh3d"
           }
          ],
          "parcoords": [
           {
            "line": {
             "colorbar": {
              "outlinewidth": 0,
              "ticks": ""
             }
            },
            "type": "parcoords"
           }
          ],
          "pie": [
           {
            "automargin": true,
            "type": "pie"
           }
          ],
          "scatter": [
           {
            "fillpattern": {
             "fillmode": "overlay",
             "size": 10,
             "solidity": 0.2
            },
            "type": "scatter"
           }
          ],
          "scatter3d": [
           {
            "line": {
             "colorbar": {
              "outlinewidth": 0,
              "ticks": ""
             }
            },
            "marker": {
             "colorbar": {
              "outlinewidth": 0,
              "ticks": ""
             }
            },
            "type": "scatter3d"
           }
          ],
          "scattercarpet": [
           {
            "marker": {
             "colorbar": {
              "outlinewidth": 0,
              "ticks": ""
             }
            },
            "type": "scattercarpet"
           }
          ],
          "scattergeo": [
           {
            "marker": {
             "colorbar": {
              "outlinewidth": 0,
              "ticks": ""
             }
            },
            "type": "scattergeo"
           }
          ],
          "scattergl": [
           {
            "marker": {
             "colorbar": {
              "outlinewidth": 0,
              "ticks": ""
             }
            },
            "type": "scattergl"
           }
          ],
          "scattermapbox": [
           {
            "marker": {
             "colorbar": {
              "outlinewidth": 0,
              "ticks": ""
             }
            },
            "type": "scattermapbox"
           }
          ],
          "scatterpolar": [
           {
            "marker": {
             "colorbar": {
              "outlinewidth": 0,
              "ticks": ""
             }
            },
            "type": "scatterpolar"
           }
          ],
          "scatterpolargl": [
           {
            "marker": {
             "colorbar": {
              "outlinewidth": 0,
              "ticks": ""
             }
            },
            "type": "scatterpolargl"
           }
          ],
          "scatterternary": [
           {
            "marker": {
             "colorbar": {
              "outlinewidth": 0,
              "ticks": ""
             }
            },
            "type": "scatterternary"
           }
          ],
          "surface": [
           {
            "colorbar": {
             "outlinewidth": 0,
             "ticks": ""
            },
            "colorscale": [
             [
              0,
              "#0d0887"
             ],
             [
              0.1111111111111111,
              "#46039f"
             ],
             [
              0.2222222222222222,
              "#7201a8"
             ],
             [
              0.3333333333333333,
              "#9c179e"
             ],
             [
              0.4444444444444444,
              "#bd3786"
             ],
             [
              0.5555555555555556,
              "#d8576b"
             ],
             [
              0.6666666666666666,
              "#ed7953"
             ],
             [
              0.7777777777777778,
              "#fb9f3a"
             ],
             [
              0.8888888888888888,
              "#fdca26"
             ],
             [
              1,
              "#f0f921"
             ]
            ],
            "type": "surface"
           }
          ],
          "table": [
           {
            "cells": {
             "fill": {
              "color": "#EBF0F8"
             },
             "line": {
              "color": "white"
             }
            },
            "header": {
             "fill": {
              "color": "#C8D4E3"
             },
             "line": {
              "color": "white"
             }
            },
            "type": "table"
           }
          ]
         },
         "layout": {
          "annotationdefaults": {
           "arrowcolor": "#2a3f5f",
           "arrowhead": 0,
           "arrowwidth": 1
          },
          "autotypenumbers": "strict",
          "coloraxis": {
           "colorbar": {
            "outlinewidth": 0,
            "ticks": ""
           }
          },
          "colorscale": {
           "diverging": [
            [
             0,
             "#8e0152"
            ],
            [
             0.1,
             "#c51b7d"
            ],
            [
             0.2,
             "#de77ae"
            ],
            [
             0.3,
             "#f1b6da"
            ],
            [
             0.4,
             "#fde0ef"
            ],
            [
             0.5,
             "#f7f7f7"
            ],
            [
             0.6,
             "#e6f5d0"
            ],
            [
             0.7,
             "#b8e186"
            ],
            [
             0.8,
             "#7fbc41"
            ],
            [
             0.9,
             "#4d9221"
            ],
            [
             1,
             "#276419"
            ]
           ],
           "sequential": [
            [
             0,
             "#0d0887"
            ],
            [
             0.1111111111111111,
             "#46039f"
            ],
            [
             0.2222222222222222,
             "#7201a8"
            ],
            [
             0.3333333333333333,
             "#9c179e"
            ],
            [
             0.4444444444444444,
             "#bd3786"
            ],
            [
             0.5555555555555556,
             "#d8576b"
            ],
            [
             0.6666666666666666,
             "#ed7953"
            ],
            [
             0.7777777777777778,
             "#fb9f3a"
            ],
            [
             0.8888888888888888,
             "#fdca26"
            ],
            [
             1,
             "#f0f921"
            ]
           ],
           "sequentialminus": [
            [
             0,
             "#0d0887"
            ],
            [
             0.1111111111111111,
             "#46039f"
            ],
            [
             0.2222222222222222,
             "#7201a8"
            ],
            [
             0.3333333333333333,
             "#9c179e"
            ],
            [
             0.4444444444444444,
             "#bd3786"
            ],
            [
             0.5555555555555556,
             "#d8576b"
            ],
            [
             0.6666666666666666,
             "#ed7953"
            ],
            [
             0.7777777777777778,
             "#fb9f3a"
            ],
            [
             0.8888888888888888,
             "#fdca26"
            ],
            [
             1,
             "#f0f921"
            ]
           ]
          },
          "colorway": [
           "#636efa",
           "#EF553B",
           "#00cc96",
           "#ab63fa",
           "#FFA15A",
           "#19d3f3",
           "#FF6692",
           "#B6E880",
           "#FF97FF",
           "#FECB52"
          ],
          "font": {
           "color": "#2a3f5f"
          },
          "geo": {
           "bgcolor": "white",
           "lakecolor": "white",
           "landcolor": "#E5ECF6",
           "showlakes": true,
           "showland": true,
           "subunitcolor": "white"
          },
          "hoverlabel": {
           "align": "left"
          },
          "hovermode": "closest",
          "mapbox": {
           "style": "light"
          },
          "paper_bgcolor": "white",
          "plot_bgcolor": "#E5ECF6",
          "polar": {
           "angularaxis": {
            "gridcolor": "white",
            "linecolor": "white",
            "ticks": ""
           },
           "bgcolor": "#E5ECF6",
           "radialaxis": {
            "gridcolor": "white",
            "linecolor": "white",
            "ticks": ""
           }
          },
          "scene": {
           "xaxis": {
            "backgroundcolor": "#E5ECF6",
            "gridcolor": "white",
            "gridwidth": 2,
            "linecolor": "white",
            "showbackground": true,
            "ticks": "",
            "zerolinecolor": "white"
           },
           "yaxis": {
            "backgroundcolor": "#E5ECF6",
            "gridcolor": "white",
            "gridwidth": 2,
            "linecolor": "white",
            "showbackground": true,
            "ticks": "",
            "zerolinecolor": "white"
           },
           "zaxis": {
            "backgroundcolor": "#E5ECF6",
            "gridcolor": "white",
            "gridwidth": 2,
            "linecolor": "white",
            "showbackground": true,
            "ticks": "",
            "zerolinecolor": "white"
           }
          },
          "shapedefaults": {
           "line": {
            "color": "#2a3f5f"
           }
          },
          "ternary": {
           "aaxis": {
            "gridcolor": "white",
            "linecolor": "white",
            "ticks": ""
           },
           "baxis": {
            "gridcolor": "white",
            "linecolor": "white",
            "ticks": ""
           },
           "bgcolor": "#E5ECF6",
           "caxis": {
            "gridcolor": "white",
            "linecolor": "white",
            "ticks": ""
           }
          },
          "title": {
           "x": 0.05
          },
          "xaxis": {
           "automargin": true,
           "gridcolor": "white",
           "linecolor": "white",
           "ticks": "",
           "title": {
            "standoff": 15
           },
           "zerolinecolor": "white",
           "zerolinewidth": 2
          },
          "yaxis": {
           "automargin": true,
           "gridcolor": "white",
           "linecolor": "white",
           "ticks": "",
           "title": {
            "standoff": 15
           },
           "zerolinecolor": "white",
           "zerolinewidth": 2
          }
         }
        },
        "title": {
         "text": "RMSE by Regression Model and Fingerprint Type - Initial Model"
        },
        "xaxis": {
         "title": {
          "text": "Regression Model"
         }
        },
        "yaxis": {
         "range": [
          0,
          0.25
         ],
         "title": {
          "text": "RMSE"
         }
        }
       }
      }
     },
     "metadata": {},
     "output_type": "display_data"
    },
    {
     "data": {
      "application/vnd.plotly.v1+json": {
       "config": {
        "plotlyServerURL": "https://plot.ly"
       },
       "data": [
        {
         "marker": {
          "color": "#1f77b4"
         },
         "name": "Morgan",
         "text": [
          "0.07901",
          "0.11615",
          "0.08200",
          "0.07814",
          "0.11748"
         ],
         "textposition": "inside",
         "type": "bar",
         "x": [
          "Bayesian Ridge",
          "KNN Regressor",
          "LightGBM",
          "Ridge Regression",
          "Decision Tree"
         ],
         "y": [
          0.07900845010801127,
          0.11614812724571887,
          0.0819952707481653,
          0.07813706372858208,
          0.11747729244172449
         ]
        },
        {
         "marker": {
          "color": "#ff7f0e"
         },
         "name": "MACCS",
         "text": [
          "0.14960",
          "0.14217",
          "0.13082",
          "0.14914",
          "0.14184"
         ],
         "textposition": "inside",
         "type": "bar",
         "x": [
          "Bayesian Ridge",
          "KNN Regressor",
          "LightGBM",
          "Ridge Regression",
          "Decision Tree"
         ],
         "y": [
          0.14960023856973573,
          0.14217230362483876,
          0.13081686253680389,
          0.14913767861930854,
          0.14184256443229867
         ]
        },
        {
         "marker": {
          "color": "#2ca02c"
         },
         "name": "Atom Pair",
         "text": [
          "0.13857",
          "0.13064",
          "0.11377",
          "0.13833",
          "0.14069"
         ],
         "textposition": "inside",
         "type": "bar",
         "x": [
          "Bayesian Ridge",
          "KNN Regressor",
          "LightGBM",
          "Ridge Regression",
          "Decision Tree"
         ],
         "y": [
          0.1385721633263705,
          0.13063802749744716,
          0.11376557486905635,
          0.13832592633724142,
          0.14069376024005514
         ]
        },
        {
         "marker": {
          "color": "#d62728"
         },
         "name": "FCFP",
         "text": [
          "0.08927",
          "0.11687",
          "0.08722",
          "0.08877",
          "0.11392"
         ],
         "textposition": "inside",
         "type": "bar",
         "x": [
          "Bayesian Ridge",
          "KNN Regressor",
          "LightGBM",
          "Ridge Regression",
          "Decision Tree"
         ],
         "y": [
          0.08926863518223849,
          0.11687171693728489,
          0.08721645628228165,
          0.08877199546134656,
          0.11392218425215461
         ]
        }
       ],
       "layout": {
        "annotations": [
         {
          "arrowhead": 2,
          "ax": -100,
          "ay": -120,
          "bordercolor": "black",
          "borderwidth": 1,
          "showarrow": true,
          "text": "Best: Ridge Regression (Morgan)<br>MAE: 0.07814",
          "x": "Ridge Regression",
          "y": 0.07813706372858208
         }
        ],
        "barmode": "group",
        "legend": {
         "orientation": "h",
         "title": {
          "text": "Fingerprint Type"
         },
         "x": 0.5,
         "xanchor": "center",
         "y": 1.15,
         "yanchor": "top"
        },
        "template": {
         "data": {
          "bar": [
           {
            "error_x": {
             "color": "#2a3f5f"
            },
            "error_y": {
             "color": "#2a3f5f"
            },
            "marker": {
             "line": {
              "color": "#E5ECF6",
              "width": 0.5
             },
             "pattern": {
              "fillmode": "overlay",
              "size": 10,
              "solidity": 0.2
             }
            },
            "type": "bar"
           }
          ],
          "barpolar": [
           {
            "marker": {
             "line": {
              "color": "#E5ECF6",
              "width": 0.5
             },
             "pattern": {
              "fillmode": "overlay",
              "size": 10,
              "solidity": 0.2
             }
            },
            "type": "barpolar"
           }
          ],
          "carpet": [
           {
            "aaxis": {
             "endlinecolor": "#2a3f5f",
             "gridcolor": "white",
             "linecolor": "white",
             "minorgridcolor": "white",
             "startlinecolor": "#2a3f5f"
            },
            "baxis": {
             "endlinecolor": "#2a3f5f",
             "gridcolor": "white",
             "linecolor": "white",
             "minorgridcolor": "white",
             "startlinecolor": "#2a3f5f"
            },
            "type": "carpet"
           }
          ],
          "choropleth": [
           {
            "colorbar": {
             "outlinewidth": 0,
             "ticks": ""
            },
            "type": "choropleth"
           }
          ],
          "contour": [
           {
            "colorbar": {
             "outlinewidth": 0,
             "ticks": ""
            },
            "colorscale": [
             [
              0,
              "#0d0887"
             ],
             [
              0.1111111111111111,
              "#46039f"
             ],
             [
              0.2222222222222222,
              "#7201a8"
             ],
             [
              0.3333333333333333,
              "#9c179e"
             ],
             [
              0.4444444444444444,
              "#bd3786"
             ],
             [
              0.5555555555555556,
              "#d8576b"
             ],
             [
              0.6666666666666666,
              "#ed7953"
             ],
             [
              0.7777777777777778,
              "#fb9f3a"
             ],
             [
              0.8888888888888888,
              "#fdca26"
             ],
             [
              1,
              "#f0f921"
             ]
            ],
            "type": "contour"
           }
          ],
          "contourcarpet": [
           {
            "colorbar": {
             "outlinewidth": 0,
             "ticks": ""
            },
            "type": "contourcarpet"
           }
          ],
          "heatmap": [
           {
            "colorbar": {
             "outlinewidth": 0,
             "ticks": ""
            },
            "colorscale": [
             [
              0,
              "#0d0887"
             ],
             [
              0.1111111111111111,
              "#46039f"
             ],
             [
              0.2222222222222222,
              "#7201a8"
             ],
             [
              0.3333333333333333,
              "#9c179e"
             ],
             [
              0.4444444444444444,
              "#bd3786"
             ],
             [
              0.5555555555555556,
              "#d8576b"
             ],
             [
              0.6666666666666666,
              "#ed7953"
             ],
             [
              0.7777777777777778,
              "#fb9f3a"
             ],
             [
              0.8888888888888888,
              "#fdca26"
             ],
             [
              1,
              "#f0f921"
             ]
            ],
            "type": "heatmap"
           }
          ],
          "heatmapgl": [
           {
            "colorbar": {
             "outlinewidth": 0,
             "ticks": ""
            },
            "colorscale": [
             [
              0,
              "#0d0887"
             ],
             [
              0.1111111111111111,
              "#46039f"
             ],
             [
              0.2222222222222222,
              "#7201a8"
             ],
             [
              0.3333333333333333,
              "#9c179e"
             ],
             [
              0.4444444444444444,
              "#bd3786"
             ],
             [
              0.5555555555555556,
              "#d8576b"
             ],
             [
              0.6666666666666666,
              "#ed7953"
             ],
             [
              0.7777777777777778,
              "#fb9f3a"
             ],
             [
              0.8888888888888888,
              "#fdca26"
             ],
             [
              1,
              "#f0f921"
             ]
            ],
            "type": "heatmapgl"
           }
          ],
          "histogram": [
           {
            "marker": {
             "pattern": {
              "fillmode": "overlay",
              "size": 10,
              "solidity": 0.2
             }
            },
            "type": "histogram"
           }
          ],
          "histogram2d": [
           {
            "colorbar": {
             "outlinewidth": 0,
             "ticks": ""
            },
            "colorscale": [
             [
              0,
              "#0d0887"
             ],
             [
              0.1111111111111111,
              "#46039f"
             ],
             [
              0.2222222222222222,
              "#7201a8"
             ],
             [
              0.3333333333333333,
              "#9c179e"
             ],
             [
              0.4444444444444444,
              "#bd3786"
             ],
             [
              0.5555555555555556,
              "#d8576b"
             ],
             [
              0.6666666666666666,
              "#ed7953"
             ],
             [
              0.7777777777777778,
              "#fb9f3a"
             ],
             [
              0.8888888888888888,
              "#fdca26"
             ],
             [
              1,
              "#f0f921"
             ]
            ],
            "type": "histogram2d"
           }
          ],
          "histogram2dcontour": [
           {
            "colorbar": {
             "outlinewidth": 0,
             "ticks": ""
            },
            "colorscale": [
             [
              0,
              "#0d0887"
             ],
             [
              0.1111111111111111,
              "#46039f"
             ],
             [
              0.2222222222222222,
              "#7201a8"
             ],
             [
              0.3333333333333333,
              "#9c179e"
             ],
             [
              0.4444444444444444,
              "#bd3786"
             ],
             [
              0.5555555555555556,
              "#d8576b"
             ],
             [
              0.6666666666666666,
              "#ed7953"
             ],
             [
              0.7777777777777778,
              "#fb9f3a"
             ],
             [
              0.8888888888888888,
              "#fdca26"
             ],
             [
              1,
              "#f0f921"
             ]
            ],
            "type": "histogram2dcontour"
           }
          ],
          "mesh3d": [
           {
            "colorbar": {
             "outlinewidth": 0,
             "ticks": ""
            },
            "type": "mesh3d"
           }
          ],
          "parcoords": [
           {
            "line": {
             "colorbar": {
              "outlinewidth": 0,
              "ticks": ""
             }
            },
            "type": "parcoords"
           }
          ],
          "pie": [
           {
            "automargin": true,
            "type": "pie"
           }
          ],
          "scatter": [
           {
            "fillpattern": {
             "fillmode": "overlay",
             "size": 10,
             "solidity": 0.2
            },
            "type": "scatter"
           }
          ],
          "scatter3d": [
           {
            "line": {
             "colorbar": {
              "outlinewidth": 0,
              "ticks": ""
             }
            },
            "marker": {
             "colorbar": {
              "outlinewidth": 0,
              "ticks": ""
             }
            },
            "type": "scatter3d"
           }
          ],
          "scattercarpet": [
           {
            "marker": {
             "colorbar": {
              "outlinewidth": 0,
              "ticks": ""
             }
            },
            "type": "scattercarpet"
           }
          ],
          "scattergeo": [
           {
            "marker": {
             "colorbar": {
              "outlinewidth": 0,
              "ticks": ""
             }
            },
            "type": "scattergeo"
           }
          ],
          "scattergl": [
           {
            "marker": {
             "colorbar": {
              "outlinewidth": 0,
              "ticks": ""
             }
            },
            "type": "scattergl"
           }
          ],
          "scattermapbox": [
           {
            "marker": {
             "colorbar": {
              "outlinewidth": 0,
              "ticks": ""
             }
            },
            "type": "scattermapbox"
           }
          ],
          "scatterpolar": [
           {
            "marker": {
             "colorbar": {
              "outlinewidth": 0,
              "ticks": ""
             }
            },
            "type": "scatterpolar"
           }
          ],
          "scatterpolargl": [
           {
            "marker": {
             "colorbar": {
              "outlinewidth": 0,
              "ticks": ""
             }
            },
            "type": "scatterpolargl"
           }
          ],
          "scatterternary": [
           {
            "marker": {
             "colorbar": {
              "outlinewidth": 0,
              "ticks": ""
             }
            },
            "type": "scatterternary"
           }
          ],
          "surface": [
           {
            "colorbar": {
             "outlinewidth": 0,
             "ticks": ""
            },
            "colorscale": [
             [
              0,
              "#0d0887"
             ],
             [
              0.1111111111111111,
              "#46039f"
             ],
             [
              0.2222222222222222,
              "#7201a8"
             ],
             [
              0.3333333333333333,
              "#9c179e"
             ],
             [
              0.4444444444444444,
              "#bd3786"
             ],
             [
              0.5555555555555556,
              "#d8576b"
             ],
             [
              0.6666666666666666,
              "#ed7953"
             ],
             [
              0.7777777777777778,
              "#fb9f3a"
             ],
             [
              0.8888888888888888,
              "#fdca26"
             ],
             [
              1,
              "#f0f921"
             ]
            ],
            "type": "surface"
           }
          ],
          "table": [
           {
            "cells": {
             "fill": {
              "color": "#EBF0F8"
             },
             "line": {
              "color": "white"
             }
            },
            "header": {
             "fill": {
              "color": "#C8D4E3"
             },
             "line": {
              "color": "white"
             }
            },
            "type": "table"
           }
          ]
         },
         "layout": {
          "annotationdefaults": {
           "arrowcolor": "#2a3f5f",
           "arrowhead": 0,
           "arrowwidth": 1
          },
          "autotypenumbers": "strict",
          "coloraxis": {
           "colorbar": {
            "outlinewidth": 0,
            "ticks": ""
           }
          },
          "colorscale": {
           "diverging": [
            [
             0,
             "#8e0152"
            ],
            [
             0.1,
             "#c51b7d"
            ],
            [
             0.2,
             "#de77ae"
            ],
            [
             0.3,
             "#f1b6da"
            ],
            [
             0.4,
             "#fde0ef"
            ],
            [
             0.5,
             "#f7f7f7"
            ],
            [
             0.6,
             "#e6f5d0"
            ],
            [
             0.7,
             "#b8e186"
            ],
            [
             0.8,
             "#7fbc41"
            ],
            [
             0.9,
             "#4d9221"
            ],
            [
             1,
             "#276419"
            ]
           ],
           "sequential": [
            [
             0,
             "#0d0887"
            ],
            [
             0.1111111111111111,
             "#46039f"
            ],
            [
             0.2222222222222222,
             "#7201a8"
            ],
            [
             0.3333333333333333,
             "#9c179e"
            ],
            [
             0.4444444444444444,
             "#bd3786"
            ],
            [
             0.5555555555555556,
             "#d8576b"
            ],
            [
             0.6666666666666666,
             "#ed7953"
            ],
            [
             0.7777777777777778,
             "#fb9f3a"
            ],
            [
             0.8888888888888888,
             "#fdca26"
            ],
            [
             1,
             "#f0f921"
            ]
           ],
           "sequentialminus": [
            [
             0,
             "#0d0887"
            ],
            [
             0.1111111111111111,
             "#46039f"
            ],
            [
             0.2222222222222222,
             "#7201a8"
            ],
            [
             0.3333333333333333,
             "#9c179e"
            ],
            [
             0.4444444444444444,
             "#bd3786"
            ],
            [
             0.5555555555555556,
             "#d8576b"
            ],
            [
             0.6666666666666666,
             "#ed7953"
            ],
            [
             0.7777777777777778,
             "#fb9f3a"
            ],
            [
             0.8888888888888888,
             "#fdca26"
            ],
            [
             1,
             "#f0f921"
            ]
           ]
          },
          "colorway": [
           "#636efa",
           "#EF553B",
           "#00cc96",
           "#ab63fa",
           "#FFA15A",
           "#19d3f3",
           "#FF6692",
           "#B6E880",
           "#FF97FF",
           "#FECB52"
          ],
          "font": {
           "color": "#2a3f5f"
          },
          "geo": {
           "bgcolor": "white",
           "lakecolor": "white",
           "landcolor": "#E5ECF6",
           "showlakes": true,
           "showland": true,
           "subunitcolor": "white"
          },
          "hoverlabel": {
           "align": "left"
          },
          "hovermode": "closest",
          "mapbox": {
           "style": "light"
          },
          "paper_bgcolor": "white",
          "plot_bgcolor": "#E5ECF6",
          "polar": {
           "angularaxis": {
            "gridcolor": "white",
            "linecolor": "white",
            "ticks": ""
           },
           "bgcolor": "#E5ECF6",
           "radialaxis": {
            "gridcolor": "white",
            "linecolor": "white",
            "ticks": ""
           }
          },
          "scene": {
           "xaxis": {
            "backgroundcolor": "#E5ECF6",
            "gridcolor": "white",
            "gridwidth": 2,
            "linecolor": "white",
            "showbackground": true,
            "ticks": "",
            "zerolinecolor": "white"
           },
           "yaxis": {
            "backgroundcolor": "#E5ECF6",
            "gridcolor": "white",
            "gridwidth": 2,
            "linecolor": "white",
            "showbackground": true,
            "ticks": "",
            "zerolinecolor": "white"
           },
           "zaxis": {
            "backgroundcolor": "#E5ECF6",
            "gridcolor": "white",
            "gridwidth": 2,
            "linecolor": "white",
            "showbackground": true,
            "ticks": "",
            "zerolinecolor": "white"
           }
          },
          "shapedefaults": {
           "line": {
            "color": "#2a3f5f"
           }
          },
          "ternary": {
           "aaxis": {
            "gridcolor": "white",
            "linecolor": "white",
            "ticks": ""
           },
           "baxis": {
            "gridcolor": "white",
            "linecolor": "white",
            "ticks": ""
           },
           "bgcolor": "#E5ECF6",
           "caxis": {
            "gridcolor": "white",
            "linecolor": "white",
            "ticks": ""
           }
          },
          "title": {
           "x": 0.05
          },
          "xaxis": {
           "automargin": true,
           "gridcolor": "white",
           "linecolor": "white",
           "ticks": "",
           "title": {
            "standoff": 15
           },
           "zerolinecolor": "white",
           "zerolinewidth": 2
          },
          "yaxis": {
           "automargin": true,
           "gridcolor": "white",
           "linecolor": "white",
           "ticks": "",
           "title": {
            "standoff": 15
           },
           "zerolinecolor": "white",
           "zerolinewidth": 2
          }
         }
        },
        "title": {
         "text": "MAE by Regression Model and Fingerprint Type - Initial Model"
        },
        "xaxis": {
         "title": {
          "text": "Regression Model"
         }
        },
        "yaxis": {
         "range": [
          0,
          0.2
         ],
         "title": {
          "text": "MAE"
         }
        }
       }
      }
     },
     "metadata": {},
     "output_type": "display_data"
    }
   ],
   "source": [
    "import plotly.graph_objects as go\n",
    "import pandas as pd\n",
    "\n",
    "# Define colors\n",
    "colors = ['#1f77b4', '#ff7f0e', '#2ca02c', '#d62728', '#9467bd', '#8c564b']\n",
    "\n",
    "# Find the best combinations for each metric\n",
    "best_r2 = results_df.loc[results_df['R² Score'].idxmax()]\n",
    "best_rmse = results_df.loc[results_df['RMSE'].idxmin()]\n",
    "best_mae = results_df.loc[results_df['MAE'].idxmin()]\n",
    "\n",
    "# Create traces for R² Score\n",
    "fig_r2 = go.Figure()\n",
    "for idx, fingerprint_type in enumerate(results_df['Fingerprint Type'].unique()):\n",
    "    subset = results_df[results_df['Fingerprint Type'] == fingerprint_type]\n",
    "    fig_r2.add_trace(go.Bar(\n",
    "        x=subset['Regression Model'],\n",
    "        y=subset['R² Score'],\n",
    "        name=fingerprint_type,\n",
    "        text=[f'{val:.5f}' for val in subset['R² Score']],\n",
    "        textposition='inside',\n",
    "        marker_color=colors[idx % len(colors)],\n",
    "    ))\n",
    "\n",
    "fig_r2.update_layout(\n",
    "    title='R² Score by Regression Model and Fingerprint Type - Initial Model',\n",
    "    xaxis_title='Regression Model',\n",
    "    yaxis_title='R² Score',\n",
    "    yaxis=dict(range=[0, 1.0]),\n",
    "    barmode='group',\n",
    "    legend_title='Fingerprint Type',\n",
    "    legend=dict(orientation=\"h\", yanchor=\"top\", y=1.15, xanchor=\"center\", x=0.5)\n",
    ")\n",
    "\n",
    "fig_r2.add_annotation(\n",
    "    x=best_r2['Regression Model'],\n",
    "    y=best_r2['R² Score'],\n",
    "    text=f\"Best: {best_r2['Regression Model']} ({best_r2['Fingerprint Type']})<br>R² Score: {best_r2['R² Score']:.5f}\",\n",
    "    showarrow=True,\n",
    "    arrowhead=2,\n",
    "    ax=-150,\n",
    "    ay=-50,\n",
    "    bordercolor=\"black\",\n",
    "    borderwidth=1\n",
    ")\n",
    "\n",
    "# Create traces for RMSE\n",
    "fig_rmse = go.Figure()\n",
    "for idx, fingerprint_type in enumerate(results_df['Fingerprint Type'].unique()):\n",
    "    subset = results_df[results_df['Fingerprint Type'] == fingerprint_type]\n",
    "    fig_rmse.add_trace(go.Bar(\n",
    "        x=subset['Regression Model'],\n",
    "        y=subset['RMSE'],\n",
    "        name=fingerprint_type,\n",
    "        text=[f'{val:.5f}' for val in subset['RMSE']],\n",
    "        textposition='inside',\n",
    "        marker_color=colors[idx % len(colors)],\n",
    "    ))\n",
    "\n",
    "fig_rmse.update_layout(\n",
    "    title='RMSE by Regression Model and Fingerprint Type - Initial Model',\n",
    "    xaxis_title='Regression Model',\n",
    "    yaxis_title='RMSE',\n",
    "    yaxis=dict(range=[0, 0.25]),\n",
    "    barmode='group',\n",
    "    legend_title='Fingerprint Type',\n",
    "    legend=dict(orientation=\"h\", yanchor=\"top\", y=1.15, xanchor=\"center\", x=0.5)\n",
    ")\n",
    "\n",
    "fig_rmse.add_annotation(\n",
    "    x=best_rmse['Regression Model'],\n",
    "    y=best_rmse['RMSE'],\n",
    "    text=f\"Best: {best_rmse['Regression Model']} ({best_rmse['Fingerprint Type']})<br>RMSE: {best_rmse['RMSE']:.5f}\",\n",
    "    showarrow=True,\n",
    "    arrowhead=2,\n",
    "    ax=-100,\n",
    "    ay=-120,\n",
    "    bordercolor=\"black\",\n",
    "    borderwidth=1\n",
    ")\n",
    "\n",
    "# Create traces for MAE\n",
    "fig_mae = go.Figure()\n",
    "for idx, fingerprint_type in enumerate(results_df['Fingerprint Type'].unique()):\n",
    "    subset = results_df[results_df['Fingerprint Type'] == fingerprint_type]\n",
    "    fig_mae.add_trace(go.Bar(\n",
    "        x=subset['Regression Model'],\n",
    "        y=subset['MAE'],\n",
    "        name=fingerprint_type,\n",
    "        text=[f'{val:.5f}' for val in subset['MAE']],\n",
    "        textposition='inside',\n",
    "        marker_color=colors[idx % len(colors)],\n",
    "    ))\n",
    "\n",
    "fig_mae.update_layout(\n",
    "    title='MAE by Regression Model and Fingerprint Type - Initial Model',\n",
    "    xaxis_title='Regression Model',\n",
    "    yaxis_title='MAE',\n",
    "    yaxis=dict(range=[0, 0.2]),\n",
    "    barmode='group',\n",
    "    legend_title='Fingerprint Type',\n",
    "    legend=dict(orientation=\"h\", yanchor=\"top\", y=1.15, xanchor=\"center\", x=0.5)\n",
    ")\n",
    "\n",
    "fig_mae.add_annotation(\n",
    "    x=best_mae['Regression Model'],\n",
    "    y=best_mae['MAE'],\n",
    "    text=f\"Best: {best_mae['Regression Model']} ({best_mae['Fingerprint Type']})<br>MAE: {best_mae['MAE']:.5f}\",\n",
    "    showarrow=True,\n",
    "    arrowhead=2,\n",
    "    ax=-100,\n",
    "    ay=-120,\n",
    "    bordercolor=\"black\",\n",
    "    borderwidth=1\n",
    ")\n",
    "\n",
    "# Show the plots\n",
    "fig_r2.show()\n",
    "fig_rmse.show()\n",
    "fig_mae.show()"
   ]
  },
  {
   "cell_type": "code",
   "execution_count": 6,
   "metadata": {},
   "outputs": [
    {
     "data": {
      "text/html": [
       "<div>\n",
       "<style scoped>\n",
       "    .dataframe tbody tr th:only-of-type {\n",
       "        vertical-align: middle;\n",
       "    }\n",
       "\n",
       "    .dataframe tbody tr th {\n",
       "        vertical-align: top;\n",
       "    }\n",
       "\n",
       "    .dataframe thead th {\n",
       "        text-align: right;\n",
       "    }\n",
       "</style>\n",
       "<table border=\"1\" class=\"dataframe\">\n",
       "  <thead>\n",
       "    <tr style=\"text-align: right;\">\n",
       "      <th></th>\n",
       "      <th>Fingerprint Type</th>\n",
       "      <th>Regression Model</th>\n",
       "      <th>Best Parameters</th>\n",
       "    </tr>\n",
       "  </thead>\n",
       "  <tbody>\n",
       "    <tr>\n",
       "      <th>0</th>\n",
       "      <td>Morgan</td>\n",
       "      <td>LightGBM</td>\n",
       "      <td>{'learning_rate': 0.23685145356420312, 'n_esti...</td>\n",
       "    </tr>\n",
       "    <tr>\n",
       "      <th>1</th>\n",
       "      <td>Morgan</td>\n",
       "      <td>Bayesian Ridge</td>\n",
       "      <td>{'alpha_1': 1e-06, 'alpha_2': 0.0001, 'lambda_...</td>\n",
       "    </tr>\n",
       "    <tr>\n",
       "      <th>2</th>\n",
       "      <td>Morgan</td>\n",
       "      <td>KNN Regressor</td>\n",
       "      <td>{'n_neighbors': 7, 'p': 1, 'weights': 'distance'}</td>\n",
       "    </tr>\n",
       "    <tr>\n",
       "      <th>3</th>\n",
       "      <td>Morgan</td>\n",
       "      <td>Ridge</td>\n",
       "      <td>{'alpha': 1.0}</td>\n",
       "    </tr>\n",
       "    <tr>\n",
       "      <th>4</th>\n",
       "      <td>Morgan</td>\n",
       "      <td>Decision Tree</td>\n",
       "      <td>{'max_depth': None, 'min_samples_leaf': 2, 'mi...</td>\n",
       "    </tr>\n",
       "    <tr>\n",
       "      <th>5</th>\n",
       "      <td>MACCS</td>\n",
       "      <td>LightGBM</td>\n",
       "      <td>{'learning_rate': 0.23685145356420312, 'n_esti...</td>\n",
       "    </tr>\n",
       "    <tr>\n",
       "      <th>6</th>\n",
       "      <td>MACCS</td>\n",
       "      <td>Bayesian Ridge</td>\n",
       "      <td>{'alpha_1': 0.0001, 'alpha_2': 1e-06, 'lambda_...</td>\n",
       "    </tr>\n",
       "    <tr>\n",
       "      <th>7</th>\n",
       "      <td>MACCS</td>\n",
       "      <td>KNN Regressor</td>\n",
       "      <td>{'n_neighbors': 7, 'p': 1, 'weights': 'distance'}</td>\n",
       "    </tr>\n",
       "    <tr>\n",
       "      <th>8</th>\n",
       "      <td>MACCS</td>\n",
       "      <td>Ridge</td>\n",
       "      <td>{'alpha': 0.1}</td>\n",
       "    </tr>\n",
       "    <tr>\n",
       "      <th>9</th>\n",
       "      <td>MACCS</td>\n",
       "      <td>Decision Tree</td>\n",
       "      <td>{'max_depth': 30, 'min_samples_leaf': 2, 'min_...</td>\n",
       "    </tr>\n",
       "    <tr>\n",
       "      <th>10</th>\n",
       "      <td>Atom Pair</td>\n",
       "      <td>LightGBM</td>\n",
       "      <td>{'learning_rate': 0.23685145356420312, 'n_esti...</td>\n",
       "    </tr>\n",
       "    <tr>\n",
       "      <th>11</th>\n",
       "      <td>Atom Pair</td>\n",
       "      <td>Bayesian Ridge</td>\n",
       "      <td>{'alpha_1': 0.0001, 'alpha_2': 1e-06, 'lambda_...</td>\n",
       "    </tr>\n",
       "    <tr>\n",
       "      <th>12</th>\n",
       "      <td>Atom Pair</td>\n",
       "      <td>KNN Regressor</td>\n",
       "      <td>{'n_neighbors': 7, 'p': 1, 'weights': 'distance'}</td>\n",
       "    </tr>\n",
       "    <tr>\n",
       "      <th>13</th>\n",
       "      <td>Atom Pair</td>\n",
       "      <td>Ridge</td>\n",
       "      <td>{'alpha': 10.0}</td>\n",
       "    </tr>\n",
       "    <tr>\n",
       "      <th>14</th>\n",
       "      <td>Atom Pair</td>\n",
       "      <td>Decision Tree</td>\n",
       "      <td>{'max_depth': None, 'min_samples_leaf': 4, 'mi...</td>\n",
       "    </tr>\n",
       "    <tr>\n",
       "      <th>15</th>\n",
       "      <td>FCFP</td>\n",
       "      <td>LightGBM</td>\n",
       "      <td>{'learning_rate': 0.23685145356420312, 'n_esti...</td>\n",
       "    </tr>\n",
       "    <tr>\n",
       "      <th>16</th>\n",
       "      <td>FCFP</td>\n",
       "      <td>Bayesian Ridge</td>\n",
       "      <td>{'alpha_1': 0.0001, 'alpha_2': 1e-06, 'lambda_...</td>\n",
       "    </tr>\n",
       "    <tr>\n",
       "      <th>17</th>\n",
       "      <td>FCFP</td>\n",
       "      <td>KNN Regressor</td>\n",
       "      <td>{'n_neighbors': 5, 'p': 1, 'weights': 'uniform'}</td>\n",
       "    </tr>\n",
       "    <tr>\n",
       "      <th>18</th>\n",
       "      <td>FCFP</td>\n",
       "      <td>Ridge</td>\n",
       "      <td>{'alpha': 1.0}</td>\n",
       "    </tr>\n",
       "    <tr>\n",
       "      <th>19</th>\n",
       "      <td>FCFP</td>\n",
       "      <td>Decision Tree</td>\n",
       "      <td>{'max_depth': None, 'min_samples_leaf': 2, 'mi...</td>\n",
       "    </tr>\n",
       "  </tbody>\n",
       "</table>\n",
       "</div>"
      ],
      "text/plain": [
       "   Fingerprint Type Regression Model  \\\n",
       "0            Morgan         LightGBM   \n",
       "1            Morgan   Bayesian Ridge   \n",
       "2            Morgan    KNN Regressor   \n",
       "3            Morgan            Ridge   \n",
       "4            Morgan    Decision Tree   \n",
       "5             MACCS         LightGBM   \n",
       "6             MACCS   Bayesian Ridge   \n",
       "7             MACCS    KNN Regressor   \n",
       "8             MACCS            Ridge   \n",
       "9             MACCS    Decision Tree   \n",
       "10        Atom Pair         LightGBM   \n",
       "11        Atom Pair   Bayesian Ridge   \n",
       "12        Atom Pair    KNN Regressor   \n",
       "13        Atom Pair            Ridge   \n",
       "14        Atom Pair    Decision Tree   \n",
       "15             FCFP         LightGBM   \n",
       "16             FCFP   Bayesian Ridge   \n",
       "17             FCFP    KNN Regressor   \n",
       "18             FCFP            Ridge   \n",
       "19             FCFP    Decision Tree   \n",
       "\n",
       "                                      Best Parameters  \n",
       "0   {'learning_rate': 0.23685145356420312, 'n_esti...  \n",
       "1   {'alpha_1': 1e-06, 'alpha_2': 0.0001, 'lambda_...  \n",
       "2   {'n_neighbors': 7, 'p': 1, 'weights': 'distance'}  \n",
       "3                                      {'alpha': 1.0}  \n",
       "4   {'max_depth': None, 'min_samples_leaf': 2, 'mi...  \n",
       "5   {'learning_rate': 0.23685145356420312, 'n_esti...  \n",
       "6   {'alpha_1': 0.0001, 'alpha_2': 1e-06, 'lambda_...  \n",
       "7   {'n_neighbors': 7, 'p': 1, 'weights': 'distance'}  \n",
       "8                                      {'alpha': 0.1}  \n",
       "9   {'max_depth': 30, 'min_samples_leaf': 2, 'min_...  \n",
       "10  {'learning_rate': 0.23685145356420312, 'n_esti...  \n",
       "11  {'alpha_1': 0.0001, 'alpha_2': 1e-06, 'lambda_...  \n",
       "12  {'n_neighbors': 7, 'p': 1, 'weights': 'distance'}  \n",
       "13                                    {'alpha': 10.0}  \n",
       "14  {'max_depth': None, 'min_samples_leaf': 4, 'mi...  \n",
       "15  {'learning_rate': 0.23685145356420312, 'n_esti...  \n",
       "16  {'alpha_1': 0.0001, 'alpha_2': 1e-06, 'lambda_...  \n",
       "17   {'n_neighbors': 5, 'p': 1, 'weights': 'uniform'}  \n",
       "18                                     {'alpha': 1.0}  \n",
       "19  {'max_depth': None, 'min_samples_leaf': 2, 'mi...  "
      ]
     },
     "execution_count": 6,
     "metadata": {},
     "output_type": "execute_result"
    }
   ],
   "source": [
    "path = (r\"C:\\Users\\Chamod Peiris\\Documents\\Curcumin_Scripts\\initcurcumin_optimizedparams.csv\")\n",
    "parameters = pd.read_csv(path).iloc[:,:3]\n",
    "parameters"
   ]
  },
  {
   "cell_type": "code",
   "execution_count": 7,
   "metadata": {},
   "outputs": [
    {
     "name": "stdout",
     "output_type": "stream",
     "text": [
      "Training LightGBM model with Morgan fingerprints and best parameters...\n",
      "[LightGBM] [Info] Auto-choosing row-wise multi-threading, the overhead of testing was 0.006608 seconds.\n",
      "You can set `force_row_wise=true` to remove the overhead.\n",
      "And if memory is not enough, you can set `force_col_wise=true`.\n",
      "[LightGBM] [Info] Total Bins 2050\n",
      "[LightGBM] [Info] Number of data points in the train set: 7072, number of used features: 1025\n",
      "[LightGBM] [Info] Start training from score -4.258663\n",
      "Finished processing Morgan fingerprints with optimized LightGBM model\n",
      "Training Bayesian Ridge model with Morgan fingerprints and best parameters...\n",
      "Finished processing Morgan fingerprints with optimized Bayesian Ridge model\n",
      "Training KNN Regressor model with Morgan fingerprints and best parameters...\n",
      "Finished processing Morgan fingerprints with optimized KNN Regressor model\n",
      "Training Ridge model with Morgan fingerprints and best parameters...\n",
      "Finished processing Morgan fingerprints with optimized Ridge model\n",
      "Training Decision Tree model with Morgan fingerprints and best parameters...\n",
      "Finished processing Morgan fingerprints with optimized Decision Tree model\n",
      "Training LightGBM model with MACCS fingerprints and best parameters...\n",
      "[LightGBM] [Info] Auto-choosing row-wise multi-threading, the overhead of testing was 0.000781 seconds.\n",
      "You can set `force_row_wise=true` to remove the overhead.\n",
      "And if memory is not enough, you can set `force_col_wise=true`.\n",
      "[LightGBM] [Info] Total Bins 204\n",
      "[LightGBM] [Info] Number of data points in the train set: 7072, number of used features: 102\n",
      "[LightGBM] [Info] Start training from score -4.258663\n",
      "Finished processing MACCS fingerprints with optimized LightGBM model\n",
      "Training Bayesian Ridge model with MACCS fingerprints and best parameters...\n",
      "Finished processing MACCS fingerprints with optimized Bayesian Ridge model\n",
      "Training KNN Regressor model with MACCS fingerprints and best parameters...\n",
      "Finished processing MACCS fingerprints with optimized KNN Regressor model\n",
      "Training Ridge model with MACCS fingerprints and best parameters...\n",
      "Finished processing MACCS fingerprints with optimized Ridge model\n",
      "Training Decision Tree model with MACCS fingerprints and best parameters...\n",
      "Finished processing MACCS fingerprints with optimized Decision Tree model\n",
      "Training LightGBM model with Atom Pair fingerprints and best parameters...\n",
      "[LightGBM] [Info] Auto-choosing row-wise multi-threading, the overhead of testing was 0.002071 seconds.\n",
      "You can set `force_row_wise=true` to remove the overhead.\n",
      "And if memory is not enough, you can set `force_col_wise=true`.\n",
      "[LightGBM] [Info] Total Bins 570\n",
      "[LightGBM] [Info] Number of data points in the train set: 7072, number of used features: 285\n",
      "[LightGBM] [Info] Start training from score -4.258663\n",
      "Finished processing Atom Pair fingerprints with optimized LightGBM model\n",
      "Training Bayesian Ridge model with Atom Pair fingerprints and best parameters...\n",
      "Finished processing Atom Pair fingerprints with optimized Bayesian Ridge model\n",
      "Training KNN Regressor model with Atom Pair fingerprints and best parameters...\n",
      "Finished processing Atom Pair fingerprints with optimized KNN Regressor model\n",
      "Training Ridge model with Atom Pair fingerprints and best parameters...\n",
      "Finished processing Atom Pair fingerprints with optimized Ridge model\n",
      "Training Decision Tree model with Atom Pair fingerprints and best parameters...\n",
      "Finished processing Atom Pair fingerprints with optimized Decision Tree model\n",
      "Training LightGBM model with FCFP fingerprints and best parameters...\n",
      "[LightGBM] [Info] Auto-choosing row-wise multi-threading, the overhead of testing was 0.004362 seconds.\n",
      "You can set `force_row_wise=true` to remove the overhead.\n",
      "And if memory is not enough, you can set `force_col_wise=true`.\n",
      "[LightGBM] [Info] Total Bins 1196\n",
      "[LightGBM] [Info] Number of data points in the train set: 7072, number of used features: 598\n",
      "[LightGBM] [Info] Start training from score -4.258663\n",
      "Finished processing FCFP fingerprints with optimized LightGBM model\n",
      "Training Bayesian Ridge model with FCFP fingerprints and best parameters...\n",
      "Finished processing FCFP fingerprints with optimized Bayesian Ridge model\n",
      "Training KNN Regressor model with FCFP fingerprints and best parameters...\n",
      "Finished processing FCFP fingerprints with optimized KNN Regressor model\n",
      "Training Ridge model with FCFP fingerprints and best parameters...\n",
      "Finished processing FCFP fingerprints with optimized Ridge model\n",
      "Training Decision Tree model with FCFP fingerprints and best parameters...\n",
      "Finished processing FCFP fingerprints with optimized Decision Tree model\n"
     ]
    },
    {
     "data": {
      "text/html": [
       "<div>\n",
       "<style scoped>\n",
       "    .dataframe tbody tr th:only-of-type {\n",
       "        vertical-align: middle;\n",
       "    }\n",
       "\n",
       "    .dataframe tbody tr th {\n",
       "        vertical-align: top;\n",
       "    }\n",
       "\n",
       "    .dataframe thead th {\n",
       "        text-align: right;\n",
       "    }\n",
       "</style>\n",
       "<table border=\"1\" class=\"dataframe\">\n",
       "  <thead>\n",
       "    <tr style=\"text-align: right;\">\n",
       "      <th></th>\n",
       "      <th>Fingerprint Type</th>\n",
       "      <th>Regression Model</th>\n",
       "      <th>Best Parameters</th>\n",
       "      <th>R² Score</th>\n",
       "      <th>RMSE</th>\n",
       "      <th>MAE</th>\n",
       "      <th>MSE</th>\n",
       "    </tr>\n",
       "  </thead>\n",
       "  <tbody>\n",
       "    <tr>\n",
       "      <th>0</th>\n",
       "      <td>Morgan</td>\n",
       "      <td>LightGBM</td>\n",
       "      <td>{'learning_rate': 0.23685145356420312, 'n_esti...</td>\n",
       "      <td>0.827855</td>\n",
       "      <td>0.090722</td>\n",
       "      <td>0.062694</td>\n",
       "      <td>0.008231</td>\n",
       "    </tr>\n",
       "    <tr>\n",
       "      <th>1</th>\n",
       "      <td>Morgan</td>\n",
       "      <td>Bayesian Ridge</td>\n",
       "      <td>{'alpha_1': 1e-06, 'alpha_2': 0.0001, 'lambda_...</td>\n",
       "      <td>0.755237</td>\n",
       "      <td>0.108178</td>\n",
       "      <td>0.079008</td>\n",
       "      <td>0.011702</td>\n",
       "    </tr>\n",
       "    <tr>\n",
       "      <th>2</th>\n",
       "      <td>Morgan</td>\n",
       "      <td>KNN Regressor</td>\n",
       "      <td>{'n_neighbors': 7, 'p': 1, 'weights': 'distance'}</td>\n",
       "      <td>0.512354</td>\n",
       "      <td>0.152693</td>\n",
       "      <td>0.116320</td>\n",
       "      <td>0.023315</td>\n",
       "    </tr>\n",
       "    <tr>\n",
       "      <th>3</th>\n",
       "      <td>Morgan</td>\n",
       "      <td>Ridge</td>\n",
       "      <td>{'alpha': 1.0}</td>\n",
       "      <td>0.760447</td>\n",
       "      <td>0.107020</td>\n",
       "      <td>0.078137</td>\n",
       "      <td>0.011453</td>\n",
       "    </tr>\n",
       "    <tr>\n",
       "      <th>4</th>\n",
       "      <td>Morgan</td>\n",
       "      <td>Decision Tree</td>\n",
       "      <td>{'max_depth': None, 'min_samples_leaf': 2, 'mi...</td>\n",
       "      <td>0.454067</td>\n",
       "      <td>0.161561</td>\n",
       "      <td>0.115529</td>\n",
       "      <td>0.026102</td>\n",
       "    </tr>\n",
       "    <tr>\n",
       "      <th>5</th>\n",
       "      <td>MACCS</td>\n",
       "      <td>LightGBM</td>\n",
       "      <td>{'learning_rate': 0.23685145356420312, 'n_esti...</td>\n",
       "      <td>0.373973</td>\n",
       "      <td>0.173006</td>\n",
       "      <td>0.130330</td>\n",
       "      <td>0.029931</td>\n",
       "    </tr>\n",
       "    <tr>\n",
       "      <th>6</th>\n",
       "      <td>MACCS</td>\n",
       "      <td>Bayesian Ridge</td>\n",
       "      <td>{'alpha_1': 0.0001, 'alpha_2': 1e-06, 'lambda_...</td>\n",
       "      <td>0.216890</td>\n",
       "      <td>0.193498</td>\n",
       "      <td>0.149600</td>\n",
       "      <td>0.037442</td>\n",
       "    </tr>\n",
       "    <tr>\n",
       "      <th>7</th>\n",
       "      <td>MACCS</td>\n",
       "      <td>KNN Regressor</td>\n",
       "      <td>{'n_neighbors': 7, 'p': 1, 'weights': 'distance'}</td>\n",
       "      <td>0.277155</td>\n",
       "      <td>0.185904</td>\n",
       "      <td>0.141108</td>\n",
       "      <td>0.034560</td>\n",
       "    </tr>\n",
       "    <tr>\n",
       "      <th>8</th>\n",
       "      <td>MACCS</td>\n",
       "      <td>Ridge</td>\n",
       "      <td>{'alpha': 0.1}</td>\n",
       "      <td>0.219270</td>\n",
       "      <td>0.193204</td>\n",
       "      <td>0.149158</td>\n",
       "      <td>0.037328</td>\n",
       "    </tr>\n",
       "    <tr>\n",
       "      <th>9</th>\n",
       "      <td>MACCS</td>\n",
       "      <td>Decision Tree</td>\n",
       "      <td>{'max_depth': 30, 'min_samples_leaf': 2, 'min_...</td>\n",
       "      <td>0.295589</td>\n",
       "      <td>0.183518</td>\n",
       "      <td>0.136171</td>\n",
       "      <td>0.033679</td>\n",
       "    </tr>\n",
       "    <tr>\n",
       "      <th>10</th>\n",
       "      <td>Atom Pair</td>\n",
       "      <td>LightGBM</td>\n",
       "      <td>{'learning_rate': 0.23685145356420312, 'n_esti...</td>\n",
       "      <td>0.575587</td>\n",
       "      <td>0.142449</td>\n",
       "      <td>0.105614</td>\n",
       "      <td>0.020292</td>\n",
       "    </tr>\n",
       "    <tr>\n",
       "      <th>11</th>\n",
       "      <td>Atom Pair</td>\n",
       "      <td>Bayesian Ridge</td>\n",
       "      <td>{'alpha_1': 0.0001, 'alpha_2': 1e-06, 'lambda_...</td>\n",
       "      <td>0.325984</td>\n",
       "      <td>0.179515</td>\n",
       "      <td>0.138571</td>\n",
       "      <td>0.032226</td>\n",
       "    </tr>\n",
       "    <tr>\n",
       "      <th>12</th>\n",
       "      <td>Atom Pair</td>\n",
       "      <td>KNN Regressor</td>\n",
       "      <td>{'n_neighbors': 7, 'p': 1, 'weights': 'distance'}</td>\n",
       "      <td>0.385353</td>\n",
       "      <td>0.171427</td>\n",
       "      <td>0.129163</td>\n",
       "      <td>0.029387</td>\n",
       "    </tr>\n",
       "    <tr>\n",
       "      <th>13</th>\n",
       "      <td>Atom Pair</td>\n",
       "      <td>Ridge</td>\n",
       "      <td>{'alpha': 10.0}</td>\n",
       "      <td>0.329792</td>\n",
       "      <td>0.179007</td>\n",
       "      <td>0.138237</td>\n",
       "      <td>0.032044</td>\n",
       "    </tr>\n",
       "    <tr>\n",
       "      <th>14</th>\n",
       "      <td>Atom Pair</td>\n",
       "      <td>Decision Tree</td>\n",
       "      <td>{'max_depth': None, 'min_samples_leaf': 4, 'mi...</td>\n",
       "      <td>0.335636</td>\n",
       "      <td>0.178225</td>\n",
       "      <td>0.130140</td>\n",
       "      <td>0.031764</td>\n",
       "    </tr>\n",
       "    <tr>\n",
       "      <th>15</th>\n",
       "      <td>FCFP</td>\n",
       "      <td>LightGBM</td>\n",
       "      <td>{'learning_rate': 0.23685145356420312, 'n_esti...</td>\n",
       "      <td>0.771565</td>\n",
       "      <td>0.104507</td>\n",
       "      <td>0.071913</td>\n",
       "      <td>0.010922</td>\n",
       "    </tr>\n",
       "    <tr>\n",
       "      <th>16</th>\n",
       "      <td>FCFP</td>\n",
       "      <td>Bayesian Ridge</td>\n",
       "      <td>{'alpha_1': 0.0001, 'alpha_2': 1e-06, 'lambda_...</td>\n",
       "      <td>0.694098</td>\n",
       "      <td>0.120936</td>\n",
       "      <td>0.089269</td>\n",
       "      <td>0.014626</td>\n",
       "    </tr>\n",
       "    <tr>\n",
       "      <th>17</th>\n",
       "      <td>FCFP</td>\n",
       "      <td>KNN Regressor</td>\n",
       "      <td>{'n_neighbors': 5, 'p': 1, 'weights': 'uniform'}</td>\n",
       "      <td>0.480268</td>\n",
       "      <td>0.157636</td>\n",
       "      <td>0.116872</td>\n",
       "      <td>0.024849</td>\n",
       "    </tr>\n",
       "    <tr>\n",
       "      <th>18</th>\n",
       "      <td>FCFP</td>\n",
       "      <td>Ridge</td>\n",
       "      <td>{'alpha': 1.0}</td>\n",
       "      <td>0.697896</td>\n",
       "      <td>0.120183</td>\n",
       "      <td>0.088772</td>\n",
       "      <td>0.014444</td>\n",
       "    </tr>\n",
       "    <tr>\n",
       "      <th>19</th>\n",
       "      <td>FCFP</td>\n",
       "      <td>Decision Tree</td>\n",
       "      <td>{'max_depth': None, 'min_samples_leaf': 2, 'mi...</td>\n",
       "      <td>0.462010</td>\n",
       "      <td>0.160381</td>\n",
       "      <td>0.112771</td>\n",
       "      <td>0.025722</td>\n",
       "    </tr>\n",
       "  </tbody>\n",
       "</table>\n",
       "</div>"
      ],
      "text/plain": [
       "   Fingerprint Type Regression Model  \\\n",
       "0            Morgan         LightGBM   \n",
       "1            Morgan   Bayesian Ridge   \n",
       "2            Morgan    KNN Regressor   \n",
       "3            Morgan            Ridge   \n",
       "4            Morgan    Decision Tree   \n",
       "5             MACCS         LightGBM   \n",
       "6             MACCS   Bayesian Ridge   \n",
       "7             MACCS    KNN Regressor   \n",
       "8             MACCS            Ridge   \n",
       "9             MACCS    Decision Tree   \n",
       "10        Atom Pair         LightGBM   \n",
       "11        Atom Pair   Bayesian Ridge   \n",
       "12        Atom Pair    KNN Regressor   \n",
       "13        Atom Pair            Ridge   \n",
       "14        Atom Pair    Decision Tree   \n",
       "15             FCFP         LightGBM   \n",
       "16             FCFP   Bayesian Ridge   \n",
       "17             FCFP    KNN Regressor   \n",
       "18             FCFP            Ridge   \n",
       "19             FCFP    Decision Tree   \n",
       "\n",
       "                                      Best Parameters  R² Score      RMSE  \\\n",
       "0   {'learning_rate': 0.23685145356420312, 'n_esti...  0.827855  0.090722   \n",
       "1   {'alpha_1': 1e-06, 'alpha_2': 0.0001, 'lambda_...  0.755237  0.108178   \n",
       "2   {'n_neighbors': 7, 'p': 1, 'weights': 'distance'}  0.512354  0.152693   \n",
       "3                                      {'alpha': 1.0}  0.760447  0.107020   \n",
       "4   {'max_depth': None, 'min_samples_leaf': 2, 'mi...  0.454067  0.161561   \n",
       "5   {'learning_rate': 0.23685145356420312, 'n_esti...  0.373973  0.173006   \n",
       "6   {'alpha_1': 0.0001, 'alpha_2': 1e-06, 'lambda_...  0.216890  0.193498   \n",
       "7   {'n_neighbors': 7, 'p': 1, 'weights': 'distance'}  0.277155  0.185904   \n",
       "8                                      {'alpha': 0.1}  0.219270  0.193204   \n",
       "9   {'max_depth': 30, 'min_samples_leaf': 2, 'min_...  0.295589  0.183518   \n",
       "10  {'learning_rate': 0.23685145356420312, 'n_esti...  0.575587  0.142449   \n",
       "11  {'alpha_1': 0.0001, 'alpha_2': 1e-06, 'lambda_...  0.325984  0.179515   \n",
       "12  {'n_neighbors': 7, 'p': 1, 'weights': 'distance'}  0.385353  0.171427   \n",
       "13                                    {'alpha': 10.0}  0.329792  0.179007   \n",
       "14  {'max_depth': None, 'min_samples_leaf': 4, 'mi...  0.335636  0.178225   \n",
       "15  {'learning_rate': 0.23685145356420312, 'n_esti...  0.771565  0.104507   \n",
       "16  {'alpha_1': 0.0001, 'alpha_2': 1e-06, 'lambda_...  0.694098  0.120936   \n",
       "17   {'n_neighbors': 5, 'p': 1, 'weights': 'uniform'}  0.480268  0.157636   \n",
       "18                                     {'alpha': 1.0}  0.697896  0.120183   \n",
       "19  {'max_depth': None, 'min_samples_leaf': 2, 'mi...  0.462010  0.160381   \n",
       "\n",
       "         MAE       MSE  \n",
       "0   0.062694  0.008231  \n",
       "1   0.079008  0.011702  \n",
       "2   0.116320  0.023315  \n",
       "3   0.078137  0.011453  \n",
       "4   0.115529  0.026102  \n",
       "5   0.130330  0.029931  \n",
       "6   0.149600  0.037442  \n",
       "7   0.141108  0.034560  \n",
       "8   0.149158  0.037328  \n",
       "9   0.136171  0.033679  \n",
       "10  0.105614  0.020292  \n",
       "11  0.138571  0.032226  \n",
       "12  0.129163  0.029387  \n",
       "13  0.138237  0.032044  \n",
       "14  0.130140  0.031764  \n",
       "15  0.071913  0.010922  \n",
       "16  0.089269  0.014626  \n",
       "17  0.116872  0.024849  \n",
       "18  0.088772  0.014444  \n",
       "19  0.112771  0.025722  "
      ]
     },
     "execution_count": 7,
     "metadata": {},
     "output_type": "execute_result"
    }
   ],
   "source": [
    "import pandas as pd\n",
    "from sklearn.model_selection import train_test_split\n",
    "from sklearn.metrics import r2_score, mean_squared_error, mean_absolute_error\n",
    "from lightgbm import LGBMRegressor\n",
    "from sklearn.linear_model import BayesianRidge, Ridge\n",
    "from sklearn.neighbors import KNeighborsRegressor\n",
    "from sklearn.tree import DecisionTreeRegressor\n",
    "import numpy as np\n",
    "\n",
    "# Initialize models (without parameters for now)\n",
    "models = {\n",
    "    'LightGBM': LGBMRegressor(),\n",
    "    'Bayesian Ridge': BayesianRidge(),\n",
    "    'KNN Regressor': KNeighborsRegressor(),\n",
    "    'Ridge': Ridge(),\n",
    "    'Decision Tree': DecisionTreeRegressor()\n",
    "}\n",
    "\n",
    "# Initialize an empty list to store the optimized results\n",
    "optimized_results = []\n",
    "\n",
    "# Iterate over the four dataframes\n",
    "for i, df in enumerate([opv_df_morgan, opv_df_maccs, opv_df_atom_pair, opv_df_fcfp]):\n",
    "    fingerprint_type = ['Morgan', 'MACCS', 'Atom Pair', 'FCFP'][i]\n",
    "    \n",
    "    X = df.iloc[:, 7:]  \n",
    "    y = df[\"LUMO_calib\"]\n",
    "    \n",
    "    X_train, X_test, y_train, y_test = train_test_split(X, y, test_size=0.25, random_state=42)\n",
    "    \n",
    "    # Filter the 'parameters' DataFrame for this fingerprint type\n",
    "    param_subset = parameters[parameters['Fingerprint Type'] == fingerprint_type]\n",
    "    \n",
    "    # Iterate over the models to apply best parameters from the 'parameters' DataFrame\n",
    "    for model_name in models.keys():\n",
    "        # Extract best parameters for the current model and fingerprint type\n",
    "        best_params_row = param_subset[param_subset['Regression Model'] == model_name]\n",
    "        \n",
    "        if not best_params_row.empty:\n",
    "            # Extract the best parameters as a dictionary\n",
    "            best_params = eval(best_params_row.iloc[0]['Best Parameters'])  # Assuming parameters are stored as a dictionary string\n",
    "\n",
    "            # Update the model with the best parameters\n",
    "            model = models[model_name].set_params(**best_params)\n",
    "            \n",
    "            print(f'Training {model_name} model with {fingerprint_type} fingerprints and best parameters...')\n",
    "            \n",
    "            # Train the model\n",
    "            model.fit(X_train, y_train)\n",
    "            \n",
    "            # Make predictions using the trained model\n",
    "            y_pred = model.predict(X_test)\n",
    "            \n",
    "            # Calculate metrics\n",
    "            r2 = r2_score(y_test, y_pred)\n",
    "            rmse = np.sqrt(mean_squared_error(y_test, y_pred))\n",
    "            mae = mean_absolute_error(y_test, y_pred)\n",
    "            mse = mean_squared_error(y_test, y_pred)\n",
    "            \n",
    "            # Append the results to the optimized_results list\n",
    "            optimized_results.append({\n",
    "                'Fingerprint Type': fingerprint_type,\n",
    "                'Regression Model': model_name,\n",
    "                'Best Parameters': best_params,\n",
    "                'R² Score': r2,\n",
    "                'RMSE': rmse,\n",
    "                'MAE': mae,\n",
    "                'MSE': mse\n",
    "            })\n",
    "            \n",
    "            print(f'Finished processing {fingerprint_type} fingerprints with optimized {model_name} model')\n",
    "            \n",
    "# Convert the results to a DataFrame for analysis\n",
    "optimized_results_df = pd.DataFrame(optimized_results)\n",
    "optimized_results_df"
   ]
  },
  {
   "cell_type": "code",
   "execution_count": 8,
   "metadata": {},
   "outputs": [
    {
     "data": {
      "application/vnd.plotly.v1+json": {
       "config": {
        "plotlyServerURL": "https://plot.ly"
       },
       "data": [
        {
         "marker": {
          "color": "#1f77b4"
         },
         "name": "Morgan",
         "text": [
          "0.82785",
          "0.75524",
          "0.51235",
          "0.76045",
          "0.45407"
         ],
         "textposition": "inside",
         "type": "bar",
         "x": [
          "LightGBM",
          "Bayesian Ridge",
          "KNN Regressor",
          "Ridge",
          "Decision Tree"
         ],
         "y": [
          0.827854859308678,
          0.7552371116765886,
          0.5123536227798046,
          0.7604468747479098,
          0.45406744933233234
         ]
        },
        {
         "marker": {
          "color": "#ff7f0e"
         },
         "name": "MACCS",
         "text": [
          "0.37397",
          "0.21689",
          "0.27715",
          "0.21927",
          "0.29559"
         ],
         "textposition": "inside",
         "type": "bar",
         "x": [
          "LightGBM",
          "Bayesian Ridge",
          "KNN Regressor",
          "Ridge",
          "Decision Tree"
         ],
         "y": [
          0.37397259276390393,
          0.2168898409629355,
          0.2771546483065106,
          0.21927047336709204,
          0.29558942283028744
         ]
        },
        {
         "marker": {
          "color": "#2ca02c"
         },
         "name": "Atom Pair",
         "text": [
          "0.57559",
          "0.32598",
          "0.38535",
          "0.32979",
          "0.33564"
         ],
         "textposition": "inside",
         "type": "bar",
         "x": [
          "LightGBM",
          "Bayesian Ridge",
          "KNN Regressor",
          "Ridge",
          "Decision Tree"
         ],
         "y": [
          0.5755872538882225,
          0.32598381686133227,
          0.38535318540921537,
          0.32979198743311533,
          0.33563614135946485
         ]
        },
        {
         "marker": {
          "color": "#d62728"
         },
         "name": "FCFP",
         "text": [
          "0.77156",
          "0.69410",
          "0.48027",
          "0.69790",
          "0.46201"
         ],
         "textposition": "inside",
         "type": "bar",
         "x": [
          "LightGBM",
          "Bayesian Ridge",
          "KNN Regressor",
          "Ridge",
          "Decision Tree"
         ],
         "y": [
          0.7715646784556113,
          0.6940979440168824,
          0.48026778853175456,
          0.697895865724838,
          0.46200951079483865
         ]
        }
       ],
       "layout": {
        "annotations": [
         {
          "arrowhead": 2,
          "ax": -150,
          "ay": -35,
          "bordercolor": "black",
          "borderwidth": 1,
          "showarrow": true,
          "text": "Best: LightGBM (Morgan)<br>R² Score: 0.82785",
          "x": "LightGBM",
          "y": 0.827854859308678
         }
        ],
        "barmode": "group",
        "height": 600,
        "legend": {
         "orientation": "h",
         "title": {
          "text": "Fingerprint Type"
         },
         "x": 0.5,
         "xanchor": "center",
         "y": 1.08,
         "yanchor": "top"
        },
        "template": {
         "data": {
          "bar": [
           {
            "error_x": {
             "color": "#2a3f5f"
            },
            "error_y": {
             "color": "#2a3f5f"
            },
            "marker": {
             "line": {
              "color": "#E5ECF6",
              "width": 0.5
             },
             "pattern": {
              "fillmode": "overlay",
              "size": 10,
              "solidity": 0.2
             }
            },
            "type": "bar"
           }
          ],
          "barpolar": [
           {
            "marker": {
             "line": {
              "color": "#E5ECF6",
              "width": 0.5
             },
             "pattern": {
              "fillmode": "overlay",
              "size": 10,
              "solidity": 0.2
             }
            },
            "type": "barpolar"
           }
          ],
          "carpet": [
           {
            "aaxis": {
             "endlinecolor": "#2a3f5f",
             "gridcolor": "white",
             "linecolor": "white",
             "minorgridcolor": "white",
             "startlinecolor": "#2a3f5f"
            },
            "baxis": {
             "endlinecolor": "#2a3f5f",
             "gridcolor": "white",
             "linecolor": "white",
             "minorgridcolor": "white",
             "startlinecolor": "#2a3f5f"
            },
            "type": "carpet"
           }
          ],
          "choropleth": [
           {
            "colorbar": {
             "outlinewidth": 0,
             "ticks": ""
            },
            "type": "choropleth"
           }
          ],
          "contour": [
           {
            "colorbar": {
             "outlinewidth": 0,
             "ticks": ""
            },
            "colorscale": [
             [
              0,
              "#0d0887"
             ],
             [
              0.1111111111111111,
              "#46039f"
             ],
             [
              0.2222222222222222,
              "#7201a8"
             ],
             [
              0.3333333333333333,
              "#9c179e"
             ],
             [
              0.4444444444444444,
              "#bd3786"
             ],
             [
              0.5555555555555556,
              "#d8576b"
             ],
             [
              0.6666666666666666,
              "#ed7953"
             ],
             [
              0.7777777777777778,
              "#fb9f3a"
             ],
             [
              0.8888888888888888,
              "#fdca26"
             ],
             [
              1,
              "#f0f921"
             ]
            ],
            "type": "contour"
           }
          ],
          "contourcarpet": [
           {
            "colorbar": {
             "outlinewidth": 0,
             "ticks": ""
            },
            "type": "contourcarpet"
           }
          ],
          "heatmap": [
           {
            "colorbar": {
             "outlinewidth": 0,
             "ticks": ""
            },
            "colorscale": [
             [
              0,
              "#0d0887"
             ],
             [
              0.1111111111111111,
              "#46039f"
             ],
             [
              0.2222222222222222,
              "#7201a8"
             ],
             [
              0.3333333333333333,
              "#9c179e"
             ],
             [
              0.4444444444444444,
              "#bd3786"
             ],
             [
              0.5555555555555556,
              "#d8576b"
             ],
             [
              0.6666666666666666,
              "#ed7953"
             ],
             [
              0.7777777777777778,
              "#fb9f3a"
             ],
             [
              0.8888888888888888,
              "#fdca26"
             ],
             [
              1,
              "#f0f921"
             ]
            ],
            "type": "heatmap"
           }
          ],
          "heatmapgl": [
           {
            "colorbar": {
             "outlinewidth": 0,
             "ticks": ""
            },
            "colorscale": [
             [
              0,
              "#0d0887"
             ],
             [
              0.1111111111111111,
              "#46039f"
             ],
             [
              0.2222222222222222,
              "#7201a8"
             ],
             [
              0.3333333333333333,
              "#9c179e"
             ],
             [
              0.4444444444444444,
              "#bd3786"
             ],
             [
              0.5555555555555556,
              "#d8576b"
             ],
             [
              0.6666666666666666,
              "#ed7953"
             ],
             [
              0.7777777777777778,
              "#fb9f3a"
             ],
             [
              0.8888888888888888,
              "#fdca26"
             ],
             [
              1,
              "#f0f921"
             ]
            ],
            "type": "heatmapgl"
           }
          ],
          "histogram": [
           {
            "marker": {
             "pattern": {
              "fillmode": "overlay",
              "size": 10,
              "solidity": 0.2
             }
            },
            "type": "histogram"
           }
          ],
          "histogram2d": [
           {
            "colorbar": {
             "outlinewidth": 0,
             "ticks": ""
            },
            "colorscale": [
             [
              0,
              "#0d0887"
             ],
             [
              0.1111111111111111,
              "#46039f"
             ],
             [
              0.2222222222222222,
              "#7201a8"
             ],
             [
              0.3333333333333333,
              "#9c179e"
             ],
             [
              0.4444444444444444,
              "#bd3786"
             ],
             [
              0.5555555555555556,
              "#d8576b"
             ],
             [
              0.6666666666666666,
              "#ed7953"
             ],
             [
              0.7777777777777778,
              "#fb9f3a"
             ],
             [
              0.8888888888888888,
              "#fdca26"
             ],
             [
              1,
              "#f0f921"
             ]
            ],
            "type": "histogram2d"
           }
          ],
          "histogram2dcontour": [
           {
            "colorbar": {
             "outlinewidth": 0,
             "ticks": ""
            },
            "colorscale": [
             [
              0,
              "#0d0887"
             ],
             [
              0.1111111111111111,
              "#46039f"
             ],
             [
              0.2222222222222222,
              "#7201a8"
             ],
             [
              0.3333333333333333,
              "#9c179e"
             ],
             [
              0.4444444444444444,
              "#bd3786"
             ],
             [
              0.5555555555555556,
              "#d8576b"
             ],
             [
              0.6666666666666666,
              "#ed7953"
             ],
             [
              0.7777777777777778,
              "#fb9f3a"
             ],
             [
              0.8888888888888888,
              "#fdca26"
             ],
             [
              1,
              "#f0f921"
             ]
            ],
            "type": "histogram2dcontour"
           }
          ],
          "mesh3d": [
           {
            "colorbar": {
             "outlinewidth": 0,
             "ticks": ""
            },
            "type": "mesh3d"
           }
          ],
          "parcoords": [
           {
            "line": {
             "colorbar": {
              "outlinewidth": 0,
              "ticks": ""
             }
            },
            "type": "parcoords"
           }
          ],
          "pie": [
           {
            "automargin": true,
            "type": "pie"
           }
          ],
          "scatter": [
           {
            "fillpattern": {
             "fillmode": "overlay",
             "size": 10,
             "solidity": 0.2
            },
            "type": "scatter"
           }
          ],
          "scatter3d": [
           {
            "line": {
             "colorbar": {
              "outlinewidth": 0,
              "ticks": ""
             }
            },
            "marker": {
             "colorbar": {
              "outlinewidth": 0,
              "ticks": ""
             }
            },
            "type": "scatter3d"
           }
          ],
          "scattercarpet": [
           {
            "marker": {
             "colorbar": {
              "outlinewidth": 0,
              "ticks": ""
             }
            },
            "type": "scattercarpet"
           }
          ],
          "scattergeo": [
           {
            "marker": {
             "colorbar": {
              "outlinewidth": 0,
              "ticks": ""
             }
            },
            "type": "scattergeo"
           }
          ],
          "scattergl": [
           {
            "marker": {
             "colorbar": {
              "outlinewidth": 0,
              "ticks": ""
             }
            },
            "type": "scattergl"
           }
          ],
          "scattermapbox": [
           {
            "marker": {
             "colorbar": {
              "outlinewidth": 0,
              "ticks": ""
             }
            },
            "type": "scattermapbox"
           }
          ],
          "scatterpolar": [
           {
            "marker": {
             "colorbar": {
              "outlinewidth": 0,
              "ticks": ""
             }
            },
            "type": "scatterpolar"
           }
          ],
          "scatterpolargl": [
           {
            "marker": {
             "colorbar": {
              "outlinewidth": 0,
              "ticks": ""
             }
            },
            "type": "scatterpolargl"
           }
          ],
          "scatterternary": [
           {
            "marker": {
             "colorbar": {
              "outlinewidth": 0,
              "ticks": ""
             }
            },
            "type": "scatterternary"
           }
          ],
          "surface": [
           {
            "colorbar": {
             "outlinewidth": 0,
             "ticks": ""
            },
            "colorscale": [
             [
              0,
              "#0d0887"
             ],
             [
              0.1111111111111111,
              "#46039f"
             ],
             [
              0.2222222222222222,
              "#7201a8"
             ],
             [
              0.3333333333333333,
              "#9c179e"
             ],
             [
              0.4444444444444444,
              "#bd3786"
             ],
             [
              0.5555555555555556,
              "#d8576b"
             ],
             [
              0.6666666666666666,
              "#ed7953"
             ],
             [
              0.7777777777777778,
              "#fb9f3a"
             ],
             [
              0.8888888888888888,
              "#fdca26"
             ],
             [
              1,
              "#f0f921"
             ]
            ],
            "type": "surface"
           }
          ],
          "table": [
           {
            "cells": {
             "fill": {
              "color": "#EBF0F8"
             },
             "line": {
              "color": "white"
             }
            },
            "header": {
             "fill": {
              "color": "#C8D4E3"
             },
             "line": {
              "color": "white"
             }
            },
            "type": "table"
           }
          ]
         },
         "layout": {
          "annotationdefaults": {
           "arrowcolor": "#2a3f5f",
           "arrowhead": 0,
           "arrowwidth": 1
          },
          "autotypenumbers": "strict",
          "coloraxis": {
           "colorbar": {
            "outlinewidth": 0,
            "ticks": ""
           }
          },
          "colorscale": {
           "diverging": [
            [
             0,
             "#8e0152"
            ],
            [
             0.1,
             "#c51b7d"
            ],
            [
             0.2,
             "#de77ae"
            ],
            [
             0.3,
             "#f1b6da"
            ],
            [
             0.4,
             "#fde0ef"
            ],
            [
             0.5,
             "#f7f7f7"
            ],
            [
             0.6,
             "#e6f5d0"
            ],
            [
             0.7,
             "#b8e186"
            ],
            [
             0.8,
             "#7fbc41"
            ],
            [
             0.9,
             "#4d9221"
            ],
            [
             1,
             "#276419"
            ]
           ],
           "sequential": [
            [
             0,
             "#0d0887"
            ],
            [
             0.1111111111111111,
             "#46039f"
            ],
            [
             0.2222222222222222,
             "#7201a8"
            ],
            [
             0.3333333333333333,
             "#9c179e"
            ],
            [
             0.4444444444444444,
             "#bd3786"
            ],
            [
             0.5555555555555556,
             "#d8576b"
            ],
            [
             0.6666666666666666,
             "#ed7953"
            ],
            [
             0.7777777777777778,
             "#fb9f3a"
            ],
            [
             0.8888888888888888,
             "#fdca26"
            ],
            [
             1,
             "#f0f921"
            ]
           ],
           "sequentialminus": [
            [
             0,
             "#0d0887"
            ],
            [
             0.1111111111111111,
             "#46039f"
            ],
            [
             0.2222222222222222,
             "#7201a8"
            ],
            [
             0.3333333333333333,
             "#9c179e"
            ],
            [
             0.4444444444444444,
             "#bd3786"
            ],
            [
             0.5555555555555556,
             "#d8576b"
            ],
            [
             0.6666666666666666,
             "#ed7953"
            ],
            [
             0.7777777777777778,
             "#fb9f3a"
            ],
            [
             0.8888888888888888,
             "#fdca26"
            ],
            [
             1,
             "#f0f921"
            ]
           ]
          },
          "colorway": [
           "#636efa",
           "#EF553B",
           "#00cc96",
           "#ab63fa",
           "#FFA15A",
           "#19d3f3",
           "#FF6692",
           "#B6E880",
           "#FF97FF",
           "#FECB52"
          ],
          "font": {
           "color": "#2a3f5f"
          },
          "geo": {
           "bgcolor": "white",
           "lakecolor": "white",
           "landcolor": "#E5ECF6",
           "showlakes": true,
           "showland": true,
           "subunitcolor": "white"
          },
          "hoverlabel": {
           "align": "left"
          },
          "hovermode": "closest",
          "mapbox": {
           "style": "light"
          },
          "paper_bgcolor": "white",
          "plot_bgcolor": "#E5ECF6",
          "polar": {
           "angularaxis": {
            "gridcolor": "white",
            "linecolor": "white",
            "ticks": ""
           },
           "bgcolor": "#E5ECF6",
           "radialaxis": {
            "gridcolor": "white",
            "linecolor": "white",
            "ticks": ""
           }
          },
          "scene": {
           "xaxis": {
            "backgroundcolor": "#E5ECF6",
            "gridcolor": "white",
            "gridwidth": 2,
            "linecolor": "white",
            "showbackground": true,
            "ticks": "",
            "zerolinecolor": "white"
           },
           "yaxis": {
            "backgroundcolor": "#E5ECF6",
            "gridcolor": "white",
            "gridwidth": 2,
            "linecolor": "white",
            "showbackground": true,
            "ticks": "",
            "zerolinecolor": "white"
           },
           "zaxis": {
            "backgroundcolor": "#E5ECF6",
            "gridcolor": "white",
            "gridwidth": 2,
            "linecolor": "white",
            "showbackground": true,
            "ticks": "",
            "zerolinecolor": "white"
           }
          },
          "shapedefaults": {
           "line": {
            "color": "#2a3f5f"
           }
          },
          "ternary": {
           "aaxis": {
            "gridcolor": "white",
            "linecolor": "white",
            "ticks": ""
           },
           "baxis": {
            "gridcolor": "white",
            "linecolor": "white",
            "ticks": ""
           },
           "bgcolor": "#E5ECF6",
           "caxis": {
            "gridcolor": "white",
            "linecolor": "white",
            "ticks": ""
           }
          },
          "title": {
           "x": 0.05
          },
          "xaxis": {
           "automargin": true,
           "gridcolor": "white",
           "linecolor": "white",
           "ticks": "",
           "title": {
            "standoff": 15
           },
           "zerolinecolor": "white",
           "zerolinewidth": 2
          },
          "yaxis": {
           "automargin": true,
           "gridcolor": "white",
           "linecolor": "white",
           "ticks": "",
           "title": {
            "standoff": 15
           },
           "zerolinecolor": "white",
           "zerolinewidth": 2
          }
         }
        },
        "title": {
         "text": "R² Score by Regression Model and Fingerprint Type - Optimized Model"
        },
        "width": 900,
        "xaxis": {
         "categoryarray": [
          "Bayesian Ridge",
          "KNN Regressor",
          "LightGBM",
          "Ridge",
          "Decision Tree"
         ],
         "categoryorder": "array",
         "title": {
          "text": "Regression Model"
         }
        },
        "yaxis": {
         "range": [
          0,
          1
         ],
         "title": {
          "text": "R² Score"
         }
        }
       }
      }
     },
     "metadata": {},
     "output_type": "display_data"
    },
    {
     "data": {
      "application/vnd.plotly.v1+json": {
       "config": {
        "plotlyServerURL": "https://plot.ly"
       },
       "data": [
        {
         "marker": {
          "color": "#1f77b4"
         },
         "name": "Morgan",
         "text": [
          "0.09072",
          "0.10818",
          "0.15269",
          "0.10702",
          "0.16156"
         ],
         "textposition": "inside",
         "type": "bar",
         "x": [
          "LightGBM",
          "Bayesian Ridge",
          "KNN Regressor",
          "Ridge",
          "Decision Tree"
         ],
         "y": [
          0.09072210728612434,
          0.10817789594160367,
          0.15269269012211106,
          0.107020423690855,
          0.161560519196846
         ]
        },
        {
         "marker": {
          "color": "#ff7f0e"
         },
         "name": "MACCS",
         "text": [
          "0.17301",
          "0.19350",
          "0.18590",
          "0.19320",
          "0.18352"
         ],
         "textposition": "inside",
         "type": "bar",
         "x": [
          "LightGBM",
          "Bayesian Ridge",
          "KNN Regressor",
          "Ridge",
          "Decision Tree"
         ],
         "y": [
          0.17300649945612662,
          0.19349830917701272,
          0.1859038747436821,
          0.19320397065883813,
          0.18351800512463048
         ]
        },
        {
         "marker": {
          "color": "#2ca02c"
         },
         "name": "Atom Pair",
         "text": [
          "0.14245",
          "0.17952",
          "0.17143",
          "0.17901",
          "0.17823"
         ],
         "textposition": "inside",
         "type": "bar",
         "x": [
          "LightGBM",
          "Bayesian Ridge",
          "KNN Regressor",
          "Ridge",
          "Decision Tree"
         ],
         "y": [
          0.14244918032998533,
          0.17951506781707363,
          0.1714267387227727,
          0.17900722218465362,
          0.17822504984949247
         ]
        },
        {
         "marker": {
          "color": "#d62728"
         },
         "name": "FCFP",
         "text": [
          "0.10451",
          "0.12094",
          "0.15764",
          "0.12018",
          "0.16038"
         ],
         "textposition": "inside",
         "type": "bar",
         "x": [
          "LightGBM",
          "Bayesian Ridge",
          "KNN Regressor",
          "Ridge",
          "Decision Tree"
         ],
         "y": [
          0.10450747958838229,
          0.1209363740721475,
          0.15763605672143052,
          0.1201832875535437,
          0.16038104707044493
         ]
        }
       ],
       "layout": {
        "annotations": [
         {
          "arrowhead": 2,
          "ax": -100,
          "ay": -120,
          "bordercolor": "black",
          "borderwidth": 1,
          "showarrow": true,
          "text": "Best: LightGBM (Morgan)<br>RMSE: 0.09072",
          "x": "LightGBM",
          "y": 0.09072210728612434
         }
        ],
        "barmode": "group",
        "legend": {
         "title": {
          "text": "Fingerprint Type"
         }
        },
        "template": {
         "data": {
          "bar": [
           {
            "error_x": {
             "color": "#2a3f5f"
            },
            "error_y": {
             "color": "#2a3f5f"
            },
            "marker": {
             "line": {
              "color": "#E5ECF6",
              "width": 0.5
             },
             "pattern": {
              "fillmode": "overlay",
              "size": 10,
              "solidity": 0.2
             }
            },
            "type": "bar"
           }
          ],
          "barpolar": [
           {
            "marker": {
             "line": {
              "color": "#E5ECF6",
              "width": 0.5
             },
             "pattern": {
              "fillmode": "overlay",
              "size": 10,
              "solidity": 0.2
             }
            },
            "type": "barpolar"
           }
          ],
          "carpet": [
           {
            "aaxis": {
             "endlinecolor": "#2a3f5f",
             "gridcolor": "white",
             "linecolor": "white",
             "minorgridcolor": "white",
             "startlinecolor": "#2a3f5f"
            },
            "baxis": {
             "endlinecolor": "#2a3f5f",
             "gridcolor": "white",
             "linecolor": "white",
             "minorgridcolor": "white",
             "startlinecolor": "#2a3f5f"
            },
            "type": "carpet"
           }
          ],
          "choropleth": [
           {
            "colorbar": {
             "outlinewidth": 0,
             "ticks": ""
            },
            "type": "choropleth"
           }
          ],
          "contour": [
           {
            "colorbar": {
             "outlinewidth": 0,
             "ticks": ""
            },
            "colorscale": [
             [
              0,
              "#0d0887"
             ],
             [
              0.1111111111111111,
              "#46039f"
             ],
             [
              0.2222222222222222,
              "#7201a8"
             ],
             [
              0.3333333333333333,
              "#9c179e"
             ],
             [
              0.4444444444444444,
              "#bd3786"
             ],
             [
              0.5555555555555556,
              "#d8576b"
             ],
             [
              0.6666666666666666,
              "#ed7953"
             ],
             [
              0.7777777777777778,
              "#fb9f3a"
             ],
             [
              0.8888888888888888,
              "#fdca26"
             ],
             [
              1,
              "#f0f921"
             ]
            ],
            "type": "contour"
           }
          ],
          "contourcarpet": [
           {
            "colorbar": {
             "outlinewidth": 0,
             "ticks": ""
            },
            "type": "contourcarpet"
           }
          ],
          "heatmap": [
           {
            "colorbar": {
             "outlinewidth": 0,
             "ticks": ""
            },
            "colorscale": [
             [
              0,
              "#0d0887"
             ],
             [
              0.1111111111111111,
              "#46039f"
             ],
             [
              0.2222222222222222,
              "#7201a8"
             ],
             [
              0.3333333333333333,
              "#9c179e"
             ],
             [
              0.4444444444444444,
              "#bd3786"
             ],
             [
              0.5555555555555556,
              "#d8576b"
             ],
             [
              0.6666666666666666,
              "#ed7953"
             ],
             [
              0.7777777777777778,
              "#fb9f3a"
             ],
             [
              0.8888888888888888,
              "#fdca26"
             ],
             [
              1,
              "#f0f921"
             ]
            ],
            "type": "heatmap"
           }
          ],
          "heatmapgl": [
           {
            "colorbar": {
             "outlinewidth": 0,
             "ticks": ""
            },
            "colorscale": [
             [
              0,
              "#0d0887"
             ],
             [
              0.1111111111111111,
              "#46039f"
             ],
             [
              0.2222222222222222,
              "#7201a8"
             ],
             [
              0.3333333333333333,
              "#9c179e"
             ],
             [
              0.4444444444444444,
              "#bd3786"
             ],
             [
              0.5555555555555556,
              "#d8576b"
             ],
             [
              0.6666666666666666,
              "#ed7953"
             ],
             [
              0.7777777777777778,
              "#fb9f3a"
             ],
             [
              0.8888888888888888,
              "#fdca26"
             ],
             [
              1,
              "#f0f921"
             ]
            ],
            "type": "heatmapgl"
           }
          ],
          "histogram": [
           {
            "marker": {
             "pattern": {
              "fillmode": "overlay",
              "size": 10,
              "solidity": 0.2
             }
            },
            "type": "histogram"
           }
          ],
          "histogram2d": [
           {
            "colorbar": {
             "outlinewidth": 0,
             "ticks": ""
            },
            "colorscale": [
             [
              0,
              "#0d0887"
             ],
             [
              0.1111111111111111,
              "#46039f"
             ],
             [
              0.2222222222222222,
              "#7201a8"
             ],
             [
              0.3333333333333333,
              "#9c179e"
             ],
             [
              0.4444444444444444,
              "#bd3786"
             ],
             [
              0.5555555555555556,
              "#d8576b"
             ],
             [
              0.6666666666666666,
              "#ed7953"
             ],
             [
              0.7777777777777778,
              "#fb9f3a"
             ],
             [
              0.8888888888888888,
              "#fdca26"
             ],
             [
              1,
              "#f0f921"
             ]
            ],
            "type": "histogram2d"
           }
          ],
          "histogram2dcontour": [
           {
            "colorbar": {
             "outlinewidth": 0,
             "ticks": ""
            },
            "colorscale": [
             [
              0,
              "#0d0887"
             ],
             [
              0.1111111111111111,
              "#46039f"
             ],
             [
              0.2222222222222222,
              "#7201a8"
             ],
             [
              0.3333333333333333,
              "#9c179e"
             ],
             [
              0.4444444444444444,
              "#bd3786"
             ],
             [
              0.5555555555555556,
              "#d8576b"
             ],
             [
              0.6666666666666666,
              "#ed7953"
             ],
             [
              0.7777777777777778,
              "#fb9f3a"
             ],
             [
              0.8888888888888888,
              "#fdca26"
             ],
             [
              1,
              "#f0f921"
             ]
            ],
            "type": "histogram2dcontour"
           }
          ],
          "mesh3d": [
           {
            "colorbar": {
             "outlinewidth": 0,
             "ticks": ""
            },
            "type": "mesh3d"
           }
          ],
          "parcoords": [
           {
            "line": {
             "colorbar": {
              "outlinewidth": 0,
              "ticks": ""
             }
            },
            "type": "parcoords"
           }
          ],
          "pie": [
           {
            "automargin": true,
            "type": "pie"
           }
          ],
          "scatter": [
           {
            "fillpattern": {
             "fillmode": "overlay",
             "size": 10,
             "solidity": 0.2
            },
            "type": "scatter"
           }
          ],
          "scatter3d": [
           {
            "line": {
             "colorbar": {
              "outlinewidth": 0,
              "ticks": ""
             }
            },
            "marker": {
             "colorbar": {
              "outlinewidth": 0,
              "ticks": ""
             }
            },
            "type": "scatter3d"
           }
          ],
          "scattercarpet": [
           {
            "marker": {
             "colorbar": {
              "outlinewidth": 0,
              "ticks": ""
             }
            },
            "type": "scattercarpet"
           }
          ],
          "scattergeo": [
           {
            "marker": {
             "colorbar": {
              "outlinewidth": 0,
              "ticks": ""
             }
            },
            "type": "scattergeo"
           }
          ],
          "scattergl": [
           {
            "marker": {
             "colorbar": {
              "outlinewidth": 0,
              "ticks": ""
             }
            },
            "type": "scattergl"
           }
          ],
          "scattermapbox": [
           {
            "marker": {
             "colorbar": {
              "outlinewidth": 0,
              "ticks": ""
             }
            },
            "type": "scattermapbox"
           }
          ],
          "scatterpolar": [
           {
            "marker": {
             "colorbar": {
              "outlinewidth": 0,
              "ticks": ""
             }
            },
            "type": "scatterpolar"
           }
          ],
          "scatterpolargl": [
           {
            "marker": {
             "colorbar": {
              "outlinewidth": 0,
              "ticks": ""
             }
            },
            "type": "scatterpolargl"
           }
          ],
          "scatterternary": [
           {
            "marker": {
             "colorbar": {
              "outlinewidth": 0,
              "ticks": ""
             }
            },
            "type": "scatterternary"
           }
          ],
          "surface": [
           {
            "colorbar": {
             "outlinewidth": 0,
             "ticks": ""
            },
            "colorscale": [
             [
              0,
              "#0d0887"
             ],
             [
              0.1111111111111111,
              "#46039f"
             ],
             [
              0.2222222222222222,
              "#7201a8"
             ],
             [
              0.3333333333333333,
              "#9c179e"
             ],
             [
              0.4444444444444444,
              "#bd3786"
             ],
             [
              0.5555555555555556,
              "#d8576b"
             ],
             [
              0.6666666666666666,
              "#ed7953"
             ],
             [
              0.7777777777777778,
              "#fb9f3a"
             ],
             [
              0.8888888888888888,
              "#fdca26"
             ],
             [
              1,
              "#f0f921"
             ]
            ],
            "type": "surface"
           }
          ],
          "table": [
           {
            "cells": {
             "fill": {
              "color": "#EBF0F8"
             },
             "line": {
              "color": "white"
             }
            },
            "header": {
             "fill": {
              "color": "#C8D4E3"
             },
             "line": {
              "color": "white"
             }
            },
            "type": "table"
           }
          ]
         },
         "layout": {
          "annotationdefaults": {
           "arrowcolor": "#2a3f5f",
           "arrowhead": 0,
           "arrowwidth": 1
          },
          "autotypenumbers": "strict",
          "coloraxis": {
           "colorbar": {
            "outlinewidth": 0,
            "ticks": ""
           }
          },
          "colorscale": {
           "diverging": [
            [
             0,
             "#8e0152"
            ],
            [
             0.1,
             "#c51b7d"
            ],
            [
             0.2,
             "#de77ae"
            ],
            [
             0.3,
             "#f1b6da"
            ],
            [
             0.4,
             "#fde0ef"
            ],
            [
             0.5,
             "#f7f7f7"
            ],
            [
             0.6,
             "#e6f5d0"
            ],
            [
             0.7,
             "#b8e186"
            ],
            [
             0.8,
             "#7fbc41"
            ],
            [
             0.9,
             "#4d9221"
            ],
            [
             1,
             "#276419"
            ]
           ],
           "sequential": [
            [
             0,
             "#0d0887"
            ],
            [
             0.1111111111111111,
             "#46039f"
            ],
            [
             0.2222222222222222,
             "#7201a8"
            ],
            [
             0.3333333333333333,
             "#9c179e"
            ],
            [
             0.4444444444444444,
             "#bd3786"
            ],
            [
             0.5555555555555556,
             "#d8576b"
            ],
            [
             0.6666666666666666,
             "#ed7953"
            ],
            [
             0.7777777777777778,
             "#fb9f3a"
            ],
            [
             0.8888888888888888,
             "#fdca26"
            ],
            [
             1,
             "#f0f921"
            ]
           ],
           "sequentialminus": [
            [
             0,
             "#0d0887"
            ],
            [
             0.1111111111111111,
             "#46039f"
            ],
            [
             0.2222222222222222,
             "#7201a8"
            ],
            [
             0.3333333333333333,
             "#9c179e"
            ],
            [
             0.4444444444444444,
             "#bd3786"
            ],
            [
             0.5555555555555556,
             "#d8576b"
            ],
            [
             0.6666666666666666,
             "#ed7953"
            ],
            [
             0.7777777777777778,
             "#fb9f3a"
            ],
            [
             0.8888888888888888,
             "#fdca26"
            ],
            [
             1,
             "#f0f921"
            ]
           ]
          },
          "colorway": [
           "#636efa",
           "#EF553B",
           "#00cc96",
           "#ab63fa",
           "#FFA15A",
           "#19d3f3",
           "#FF6692",
           "#B6E880",
           "#FF97FF",
           "#FECB52"
          ],
          "font": {
           "color": "#2a3f5f"
          },
          "geo": {
           "bgcolor": "white",
           "lakecolor": "white",
           "landcolor": "#E5ECF6",
           "showlakes": true,
           "showland": true,
           "subunitcolor": "white"
          },
          "hoverlabel": {
           "align": "left"
          },
          "hovermode": "closest",
          "mapbox": {
           "style": "light"
          },
          "paper_bgcolor": "white",
          "plot_bgcolor": "#E5ECF6",
          "polar": {
           "angularaxis": {
            "gridcolor": "white",
            "linecolor": "white",
            "ticks": ""
           },
           "bgcolor": "#E5ECF6",
           "radialaxis": {
            "gridcolor": "white",
            "linecolor": "white",
            "ticks": ""
           }
          },
          "scene": {
           "xaxis": {
            "backgroundcolor": "#E5ECF6",
            "gridcolor": "white",
            "gridwidth": 2,
            "linecolor": "white",
            "showbackground": true,
            "ticks": "",
            "zerolinecolor": "white"
           },
           "yaxis": {
            "backgroundcolor": "#E5ECF6",
            "gridcolor": "white",
            "gridwidth": 2,
            "linecolor": "white",
            "showbackground": true,
            "ticks": "",
            "zerolinecolor": "white"
           },
           "zaxis": {
            "backgroundcolor": "#E5ECF6",
            "gridcolor": "white",
            "gridwidth": 2,
            "linecolor": "white",
            "showbackground": true,
            "ticks": "",
            "zerolinecolor": "white"
           }
          },
          "shapedefaults": {
           "line": {
            "color": "#2a3f5f"
           }
          },
          "ternary": {
           "aaxis": {
            "gridcolor": "white",
            "linecolor": "white",
            "ticks": ""
           },
           "baxis": {
            "gridcolor": "white",
            "linecolor": "white",
            "ticks": ""
           },
           "bgcolor": "#E5ECF6",
           "caxis": {
            "gridcolor": "white",
            "linecolor": "white",
            "ticks": ""
           }
          },
          "title": {
           "x": 0.05
          },
          "xaxis": {
           "automargin": true,
           "gridcolor": "white",
           "linecolor": "white",
           "ticks": "",
           "title": {
            "standoff": 15
           },
           "zerolinecolor": "white",
           "zerolinewidth": 2
          },
          "yaxis": {
           "automargin": true,
           "gridcolor": "white",
           "linecolor": "white",
           "ticks": "",
           "title": {
            "standoff": 15
           },
           "zerolinecolor": "white",
           "zerolinewidth": 2
          }
         }
        },
        "title": {
         "text": "RMSE by Regression Model and Fingerprint Type - Optimized Model"
        },
        "xaxis": {
         "categoryarray": [
          "Bayesian Ridge",
          "KNN Regressor",
          "LightGBM",
          "Ridge",
          "Decision Tree"
         ],
         "categoryorder": "array",
         "title": {
          "text": "Regression Model"
         }
        },
        "yaxis": {
         "range": [
          0,
          0.25
         ],
         "title": {
          "text": "RMSE"
         }
        }
       }
      }
     },
     "metadata": {},
     "output_type": "display_data"
    },
    {
     "data": {
      "application/vnd.plotly.v1+json": {
       "config": {
        "plotlyServerURL": "https://plot.ly"
       },
       "data": [
        {
         "marker": {
          "color": "#1f77b4"
         },
         "name": "Morgan",
         "text": [
          "0.06269",
          "0.07901",
          "0.11632",
          "0.07814",
          "0.11553"
         ],
         "textposition": "inside",
         "type": "bar",
         "x": [
          "LightGBM",
          "Bayesian Ridge",
          "KNN Regressor",
          "Ridge",
          "Decision Tree"
         ],
         "y": [
          0.06269436218843291,
          0.07900846074722746,
          0.11632027503079402,
          0.07813706372858208,
          0.11552911417202982
         ]
        },
        {
         "marker": {
          "color": "#ff7f0e"
         },
         "name": "MACCS",
         "text": [
          "0.13033",
          "0.14960",
          "0.14111",
          "0.14916",
          "0.13617"
         ],
         "textposition": "inside",
         "type": "bar",
         "x": [
          "LightGBM",
          "Bayesian Ridge",
          "KNN Regressor",
          "Ridge",
          "Decision Tree"
         ],
         "y": [
          0.13032967585219432,
          0.14959958156789552,
          0.1411078745968713,
          0.14915753171539894,
          0.13617138464985798
         ]
        },
        {
         "marker": {
          "color": "#2ca02c"
         },
         "name": "Atom Pair",
         "text": [
          "0.10561",
          "0.13857",
          "0.12916",
          "0.13824",
          "0.13014"
         ],
         "textposition": "inside",
         "type": "bar",
         "x": [
          "LightGBM",
          "Bayesian Ridge",
          "KNN Regressor",
          "Ridge",
          "Decision Tree"
         ],
         "y": [
          0.10561394583759298,
          0.13857147139267392,
          0.1291628645717748,
          0.13823722142720984,
          0.13013960400459407
         ]
        },
        {
         "marker": {
          "color": "#d62728"
         },
         "name": "FCFP",
         "text": [
          "0.07191",
          "0.08927",
          "0.11687",
          "0.08877",
          "0.11277"
         ],
         "textposition": "inside",
         "type": "bar",
         "x": [
          "LightGBM",
          "Bayesian Ridge",
          "KNN Regressor",
          "Ridge",
          "Decision Tree"
         ],
         "y": [
          0.07191270118073688,
          0.08926851480404124,
          0.11687171693728489,
          0.08877199546134656,
          0.11277080894198971
         ]
        }
       ],
       "layout": {
        "annotations": [
         {
          "arrowhead": 2,
          "ax": -100,
          "ay": -120,
          "bordercolor": "black",
          "borderwidth": 1,
          "showarrow": true,
          "text": "Best: LightGBM (Morgan)<br>MAE: 0.06269",
          "x": "LightGBM",
          "y": 0.06269436218843291
         }
        ],
        "barmode": "group",
        "legend": {
         "title": {
          "text": "Fingerprint Type"
         }
        },
        "template": {
         "data": {
          "bar": [
           {
            "error_x": {
             "color": "#2a3f5f"
            },
            "error_y": {
             "color": "#2a3f5f"
            },
            "marker": {
             "line": {
              "color": "#E5ECF6",
              "width": 0.5
             },
             "pattern": {
              "fillmode": "overlay",
              "size": 10,
              "solidity": 0.2
             }
            },
            "type": "bar"
           }
          ],
          "barpolar": [
           {
            "marker": {
             "line": {
              "color": "#E5ECF6",
              "width": 0.5
             },
             "pattern": {
              "fillmode": "overlay",
              "size": 10,
              "solidity": 0.2
             }
            },
            "type": "barpolar"
           }
          ],
          "carpet": [
           {
            "aaxis": {
             "endlinecolor": "#2a3f5f",
             "gridcolor": "white",
             "linecolor": "white",
             "minorgridcolor": "white",
             "startlinecolor": "#2a3f5f"
            },
            "baxis": {
             "endlinecolor": "#2a3f5f",
             "gridcolor": "white",
             "linecolor": "white",
             "minorgridcolor": "white",
             "startlinecolor": "#2a3f5f"
            },
            "type": "carpet"
           }
          ],
          "choropleth": [
           {
            "colorbar": {
             "outlinewidth": 0,
             "ticks": ""
            },
            "type": "choropleth"
           }
          ],
          "contour": [
           {
            "colorbar": {
             "outlinewidth": 0,
             "ticks": ""
            },
            "colorscale": [
             [
              0,
              "#0d0887"
             ],
             [
              0.1111111111111111,
              "#46039f"
             ],
             [
              0.2222222222222222,
              "#7201a8"
             ],
             [
              0.3333333333333333,
              "#9c179e"
             ],
             [
              0.4444444444444444,
              "#bd3786"
             ],
             [
              0.5555555555555556,
              "#d8576b"
             ],
             [
              0.6666666666666666,
              "#ed7953"
             ],
             [
              0.7777777777777778,
              "#fb9f3a"
             ],
             [
              0.8888888888888888,
              "#fdca26"
             ],
             [
              1,
              "#f0f921"
             ]
            ],
            "type": "contour"
           }
          ],
          "contourcarpet": [
           {
            "colorbar": {
             "outlinewidth": 0,
             "ticks": ""
            },
            "type": "contourcarpet"
           }
          ],
          "heatmap": [
           {
            "colorbar": {
             "outlinewidth": 0,
             "ticks": ""
            },
            "colorscale": [
             [
              0,
              "#0d0887"
             ],
             [
              0.1111111111111111,
              "#46039f"
             ],
             [
              0.2222222222222222,
              "#7201a8"
             ],
             [
              0.3333333333333333,
              "#9c179e"
             ],
             [
              0.4444444444444444,
              "#bd3786"
             ],
             [
              0.5555555555555556,
              "#d8576b"
             ],
             [
              0.6666666666666666,
              "#ed7953"
             ],
             [
              0.7777777777777778,
              "#fb9f3a"
             ],
             [
              0.8888888888888888,
              "#fdca26"
             ],
             [
              1,
              "#f0f921"
             ]
            ],
            "type": "heatmap"
           }
          ],
          "heatmapgl": [
           {
            "colorbar": {
             "outlinewidth": 0,
             "ticks": ""
            },
            "colorscale": [
             [
              0,
              "#0d0887"
             ],
             [
              0.1111111111111111,
              "#46039f"
             ],
             [
              0.2222222222222222,
              "#7201a8"
             ],
             [
              0.3333333333333333,
              "#9c179e"
             ],
             [
              0.4444444444444444,
              "#bd3786"
             ],
             [
              0.5555555555555556,
              "#d8576b"
             ],
             [
              0.6666666666666666,
              "#ed7953"
             ],
             [
              0.7777777777777778,
              "#fb9f3a"
             ],
             [
              0.8888888888888888,
              "#fdca26"
             ],
             [
              1,
              "#f0f921"
             ]
            ],
            "type": "heatmapgl"
           }
          ],
          "histogram": [
           {
            "marker": {
             "pattern": {
              "fillmode": "overlay",
              "size": 10,
              "solidity": 0.2
             }
            },
            "type": "histogram"
           }
          ],
          "histogram2d": [
           {
            "colorbar": {
             "outlinewidth": 0,
             "ticks": ""
            },
            "colorscale": [
             [
              0,
              "#0d0887"
             ],
             [
              0.1111111111111111,
              "#46039f"
             ],
             [
              0.2222222222222222,
              "#7201a8"
             ],
             [
              0.3333333333333333,
              "#9c179e"
             ],
             [
              0.4444444444444444,
              "#bd3786"
             ],
             [
              0.5555555555555556,
              "#d8576b"
             ],
             [
              0.6666666666666666,
              "#ed7953"
             ],
             [
              0.7777777777777778,
              "#fb9f3a"
             ],
             [
              0.8888888888888888,
              "#fdca26"
             ],
             [
              1,
              "#f0f921"
             ]
            ],
            "type": "histogram2d"
           }
          ],
          "histogram2dcontour": [
           {
            "colorbar": {
             "outlinewidth": 0,
             "ticks": ""
            },
            "colorscale": [
             [
              0,
              "#0d0887"
             ],
             [
              0.1111111111111111,
              "#46039f"
             ],
             [
              0.2222222222222222,
              "#7201a8"
             ],
             [
              0.3333333333333333,
              "#9c179e"
             ],
             [
              0.4444444444444444,
              "#bd3786"
             ],
             [
              0.5555555555555556,
              "#d8576b"
             ],
             [
              0.6666666666666666,
              "#ed7953"
             ],
             [
              0.7777777777777778,
              "#fb9f3a"
             ],
             [
              0.8888888888888888,
              "#fdca26"
             ],
             [
              1,
              "#f0f921"
             ]
            ],
            "type": "histogram2dcontour"
           }
          ],
          "mesh3d": [
           {
            "colorbar": {
             "outlinewidth": 0,
             "ticks": ""
            },
            "type": "mesh3d"
           }
          ],
          "parcoords": [
           {
            "line": {
             "colorbar": {
              "outlinewidth": 0,
              "ticks": ""
             }
            },
            "type": "parcoords"
           }
          ],
          "pie": [
           {
            "automargin": true,
            "type": "pie"
           }
          ],
          "scatter": [
           {
            "fillpattern": {
             "fillmode": "overlay",
             "size": 10,
             "solidity": 0.2
            },
            "type": "scatter"
           }
          ],
          "scatter3d": [
           {
            "line": {
             "colorbar": {
              "outlinewidth": 0,
              "ticks": ""
             }
            },
            "marker": {
             "colorbar": {
              "outlinewidth": 0,
              "ticks": ""
             }
            },
            "type": "scatter3d"
           }
          ],
          "scattercarpet": [
           {
            "marker": {
             "colorbar": {
              "outlinewidth": 0,
              "ticks": ""
             }
            },
            "type": "scattercarpet"
           }
          ],
          "scattergeo": [
           {
            "marker": {
             "colorbar": {
              "outlinewidth": 0,
              "ticks": ""
             }
            },
            "type": "scattergeo"
           }
          ],
          "scattergl": [
           {
            "marker": {
             "colorbar": {
              "outlinewidth": 0,
              "ticks": ""
             }
            },
            "type": "scattergl"
           }
          ],
          "scattermapbox": [
           {
            "marker": {
             "colorbar": {
              "outlinewidth": 0,
              "ticks": ""
             }
            },
            "type": "scattermapbox"
           }
          ],
          "scatterpolar": [
           {
            "marker": {
             "colorbar": {
              "outlinewidth": 0,
              "ticks": ""
             }
            },
            "type": "scatterpolar"
           }
          ],
          "scatterpolargl": [
           {
            "marker": {
             "colorbar": {
              "outlinewidth": 0,
              "ticks": ""
             }
            },
            "type": "scatterpolargl"
           }
          ],
          "scatterternary": [
           {
            "marker": {
             "colorbar": {
              "outlinewidth": 0,
              "ticks": ""
             }
            },
            "type": "scatterternary"
           }
          ],
          "surface": [
           {
            "colorbar": {
             "outlinewidth": 0,
             "ticks": ""
            },
            "colorscale": [
             [
              0,
              "#0d0887"
             ],
             [
              0.1111111111111111,
              "#46039f"
             ],
             [
              0.2222222222222222,
              "#7201a8"
             ],
             [
              0.3333333333333333,
              "#9c179e"
             ],
             [
              0.4444444444444444,
              "#bd3786"
             ],
             [
              0.5555555555555556,
              "#d8576b"
             ],
             [
              0.6666666666666666,
              "#ed7953"
             ],
             [
              0.7777777777777778,
              "#fb9f3a"
             ],
             [
              0.8888888888888888,
              "#fdca26"
             ],
             [
              1,
              "#f0f921"
             ]
            ],
            "type": "surface"
           }
          ],
          "table": [
           {
            "cells": {
             "fill": {
              "color": "#EBF0F8"
             },
             "line": {
              "color": "white"
             }
            },
            "header": {
             "fill": {
              "color": "#C8D4E3"
             },
             "line": {
              "color": "white"
             }
            },
            "type": "table"
           }
          ]
         },
         "layout": {
          "annotationdefaults": {
           "arrowcolor": "#2a3f5f",
           "arrowhead": 0,
           "arrowwidth": 1
          },
          "autotypenumbers": "strict",
          "coloraxis": {
           "colorbar": {
            "outlinewidth": 0,
            "ticks": ""
           }
          },
          "colorscale": {
           "diverging": [
            [
             0,
             "#8e0152"
            ],
            [
             0.1,
             "#c51b7d"
            ],
            [
             0.2,
             "#de77ae"
            ],
            [
             0.3,
             "#f1b6da"
            ],
            [
             0.4,
             "#fde0ef"
            ],
            [
             0.5,
             "#f7f7f7"
            ],
            [
             0.6,
             "#e6f5d0"
            ],
            [
             0.7,
             "#b8e186"
            ],
            [
             0.8,
             "#7fbc41"
            ],
            [
             0.9,
             "#4d9221"
            ],
            [
             1,
             "#276419"
            ]
           ],
           "sequential": [
            [
             0,
             "#0d0887"
            ],
            [
             0.1111111111111111,
             "#46039f"
            ],
            [
             0.2222222222222222,
             "#7201a8"
            ],
            [
             0.3333333333333333,
             "#9c179e"
            ],
            [
             0.4444444444444444,
             "#bd3786"
            ],
            [
             0.5555555555555556,
             "#d8576b"
            ],
            [
             0.6666666666666666,
             "#ed7953"
            ],
            [
             0.7777777777777778,
             "#fb9f3a"
            ],
            [
             0.8888888888888888,
             "#fdca26"
            ],
            [
             1,
             "#f0f921"
            ]
           ],
           "sequentialminus": [
            [
             0,
             "#0d0887"
            ],
            [
             0.1111111111111111,
             "#46039f"
            ],
            [
             0.2222222222222222,
             "#7201a8"
            ],
            [
             0.3333333333333333,
             "#9c179e"
            ],
            [
             0.4444444444444444,
             "#bd3786"
            ],
            [
             0.5555555555555556,
             "#d8576b"
            ],
            [
             0.6666666666666666,
             "#ed7953"
            ],
            [
             0.7777777777777778,
             "#fb9f3a"
            ],
            [
             0.8888888888888888,
             "#fdca26"
            ],
            [
             1,
             "#f0f921"
            ]
           ]
          },
          "colorway": [
           "#636efa",
           "#EF553B",
           "#00cc96",
           "#ab63fa",
           "#FFA15A",
           "#19d3f3",
           "#FF6692",
           "#B6E880",
           "#FF97FF",
           "#FECB52"
          ],
          "font": {
           "color": "#2a3f5f"
          },
          "geo": {
           "bgcolor": "white",
           "lakecolor": "white",
           "landcolor": "#E5ECF6",
           "showlakes": true,
           "showland": true,
           "subunitcolor": "white"
          },
          "hoverlabel": {
           "align": "left"
          },
          "hovermode": "closest",
          "mapbox": {
           "style": "light"
          },
          "paper_bgcolor": "white",
          "plot_bgcolor": "#E5ECF6",
          "polar": {
           "angularaxis": {
            "gridcolor": "white",
            "linecolor": "white",
            "ticks": ""
           },
           "bgcolor": "#E5ECF6",
           "radialaxis": {
            "gridcolor": "white",
            "linecolor": "white",
            "ticks": ""
           }
          },
          "scene": {
           "xaxis": {
            "backgroundcolor": "#E5ECF6",
            "gridcolor": "white",
            "gridwidth": 2,
            "linecolor": "white",
            "showbackground": true,
            "ticks": "",
            "zerolinecolor": "white"
           },
           "yaxis": {
            "backgroundcolor": "#E5ECF6",
            "gridcolor": "white",
            "gridwidth": 2,
            "linecolor": "white",
            "showbackground": true,
            "ticks": "",
            "zerolinecolor": "white"
           },
           "zaxis": {
            "backgroundcolor": "#E5ECF6",
            "gridcolor": "white",
            "gridwidth": 2,
            "linecolor": "white",
            "showbackground": true,
            "ticks": "",
            "zerolinecolor": "white"
           }
          },
          "shapedefaults": {
           "line": {
            "color": "#2a3f5f"
           }
          },
          "ternary": {
           "aaxis": {
            "gridcolor": "white",
            "linecolor": "white",
            "ticks": ""
           },
           "baxis": {
            "gridcolor": "white",
            "linecolor": "white",
            "ticks": ""
           },
           "bgcolor": "#E5ECF6",
           "caxis": {
            "gridcolor": "white",
            "linecolor": "white",
            "ticks": ""
           }
          },
          "title": {
           "x": 0.05
          },
          "xaxis": {
           "automargin": true,
           "gridcolor": "white",
           "linecolor": "white",
           "ticks": "",
           "title": {
            "standoff": 15
           },
           "zerolinecolor": "white",
           "zerolinewidth": 2
          },
          "yaxis": {
           "automargin": true,
           "gridcolor": "white",
           "linecolor": "white",
           "ticks": "",
           "title": {
            "standoff": 15
           },
           "zerolinecolor": "white",
           "zerolinewidth": 2
          }
         }
        },
        "title": {
         "text": "MAE by Regression Model and Fingerprint Type - Optimized Model"
        },
        "xaxis": {
         "categoryarray": [
          "Bayesian Ridge",
          "KNN Regressor",
          "LightGBM",
          "Ridge",
          "Decision Tree"
         ],
         "categoryorder": "array",
         "title": {
          "text": "Regression Model"
         }
        },
        "yaxis": {
         "range": [
          0,
          0.2
         ],
         "title": {
          "text": "MAE"
         }
        }
       }
      }
     },
     "metadata": {},
     "output_type": "display_data"
    }
   ],
   "source": [
    "import plotly.graph_objects as go\n",
    "import pandas as pd\n",
    "\n",
    "# Define colors\n",
    "colors = ['#1f77b4', '#ff7f0e', '#2ca02c', '#d62728', '#9467bd', '#8c564b']\n",
    "\n",
    "# Order of regression models\n",
    "model_order = ['Bayesian Ridge', 'KNN Regressor', 'LightGBM', 'Ridge', 'Decision Tree']\n",
    "\n",
    "# Find the best combinations for each metric\n",
    "best_r2 = optimized_results_df.loc[optimized_results_df['R² Score'].idxmax()]\n",
    "best_rmse = optimized_results_df.loc[optimized_results_df['RMSE'].idxmin()]\n",
    "best_mae = optimized_results_df.loc[optimized_results_df['MAE'].idxmin()]\n",
    "\n",
    "# Create traces for R² Score\n",
    "fig_r2 = go.Figure()\n",
    "for idx, fingerprint_type in enumerate(optimized_results_df['Fingerprint Type'].unique()):\n",
    "    subset = optimized_results_df[optimized_results_df['Fingerprint Type'] == fingerprint_type]\n",
    "    fig_r2.add_trace(go.Bar(\n",
    "        x=subset['Regression Model'],\n",
    "        y=subset['R² Score'],\n",
    "        name=fingerprint_type,\n",
    "        text=[f'{val:.5f}' for val in subset['R² Score']],\n",
    "        textposition='inside',\n",
    "        marker_color=colors[idx % len(colors)],\n",
    "    ))\n",
    "\n",
    "fig_r2.update_layout(\n",
    "    title='R² Score by Regression Model and Fingerprint Type - Optimized Model',\n",
    "    xaxis_title='Regression Model',\n",
    "    yaxis_title='R² Score',\n",
    "    barmode='group',\n",
    "    yaxis=dict(range=[0, 1.0]),\n",
    "    legend_title='Fingerprint Type',\n",
    "    xaxis=dict(categoryorder='array', categoryarray=model_order),\n",
    "    legend=dict(orientation=\"h\", yanchor=\"top\", y=1.08, xanchor=\"center\", x=0.5),\n",
    "    width=900, height=600\n",
    ")\n",
    "\n",
    "fig_r2.add_annotation(\n",
    "    x=best_r2['Regression Model'],\n",
    "    y=best_r2['R² Score'],\n",
    "    text=f\"Best: {best_r2['Regression Model']} ({best_r2['Fingerprint Type']})<br>R² Score: {best_r2['R² Score']:.5f}\",\n",
    "    showarrow=True,\n",
    "    arrowhead=2,\n",
    "    ax=-150,\n",
    "    ay=-35,\n",
    "    bordercolor=\"black\",\n",
    "    borderwidth=1\n",
    ")\n",
    "\n",
    "# Create traces for RMSE\n",
    "fig_rmse = go.Figure()\n",
    "for idx, fingerprint_type in enumerate(optimized_results_df['Fingerprint Type'].unique()):\n",
    "    subset = optimized_results_df[optimized_results_df['Fingerprint Type'] == fingerprint_type]\n",
    "    fig_rmse.add_trace(go.Bar(\n",
    "        x=subset['Regression Model'],\n",
    "        y=subset['RMSE'],\n",
    "        name=fingerprint_type,\n",
    "        text=[f'{val:.5f}' for val in subset['RMSE']],\n",
    "        textposition='inside',\n",
    "        marker_color=colors[idx % len(colors)],\n",
    "    ))\n",
    "\n",
    "fig_rmse.update_layout(\n",
    "    title='RMSE by Regression Model and Fingerprint Type - Optimized Model',\n",
    "    xaxis_title='Regression Model',\n",
    "    yaxis_title='RMSE',\n",
    "    barmode='group',\n",
    "    yaxis=dict(range=[0, 0.25]),\n",
    "    legend_title='Fingerprint Type',\n",
    "    xaxis=dict(categoryorder='array', categoryarray=model_order)  # Set the order of models\n",
    ")\n",
    "\n",
    "fig_rmse.add_annotation(\n",
    "    x=best_rmse['Regression Model'],\n",
    "    y=best_rmse['RMSE'],\n",
    "    text=f\"Best: {best_rmse['Regression Model']} ({best_rmse['Fingerprint Type']})<br>RMSE: {best_rmse['RMSE']:.5f}\",\n",
    "    showarrow=True,\n",
    "    arrowhead=2,\n",
    "    ax=-100,\n",
    "    ay=-120,\n",
    "    bordercolor=\"black\",\n",
    "    borderwidth=1\n",
    ")\n",
    "\n",
    "# Create traces for MAE\n",
    "fig_mae = go.Figure()\n",
    "for idx, fingerprint_type in enumerate(optimized_results_df['Fingerprint Type'].unique()):\n",
    "    subset = optimized_results_df[optimized_results_df['Fingerprint Type'] == fingerprint_type]\n",
    "    fig_mae.add_trace(go.Bar(\n",
    "        x=subset['Regression Model'],\n",
    "        y=subset['MAE'],\n",
    "        name=fingerprint_type,\n",
    "        text=[f'{val:.5f}' for val in subset['MAE']],\n",
    "        textposition='inside',\n",
    "        marker_color=colors[idx % len(colors)],\n",
    "    ))\n",
    "\n",
    "fig_mae.update_layout(\n",
    "    title='MAE by Regression Model and Fingerprint Type - Optimized Model',\n",
    "    xaxis_title='Regression Model',\n",
    "    yaxis_title='MAE',\n",
    "    barmode='group',\n",
    "    yaxis=dict(range=[0, 0.2]),\n",
    "    legend_title='Fingerprint Type',\n",
    "    xaxis=dict(categoryorder='array', categoryarray=model_order)  # Set the order of models\n",
    ")\n",
    "\n",
    "fig_mae.add_annotation(\n",
    "    x=best_mae['Regression Model'],\n",
    "    y=best_mae['MAE'],\n",
    "    text=f\"Best: {best_mae['Regression Model']} ({best_mae['Fingerprint Type']})<br>MAE: {best_mae['MAE']:.5f}\",\n",
    "    showarrow=True,\n",
    "    arrowhead=2,\n",
    "    ax=-100,\n",
    "    ay=-120,\n",
    "    bordercolor=\"black\",\n",
    "    borderwidth=1\n",
    ")\n",
    "\n",
    "# Show the plots\n",
    "fig_r2.show()\n",
    "fig_rmse.show()\n",
    "fig_mae.show()"
   ]
  },
  {
   "cell_type": "code",
   "execution_count": 28,
   "metadata": {},
   "outputs": [
    {
     "name": "stdout",
     "output_type": "stream",
     "text": [
      "[LightGBM] [Info] Auto-choosing row-wise multi-threading, the overhead of testing was 0.007315 seconds.\n",
      "You can set `force_row_wise=true` to remove the overhead.\n",
      "And if memory is not enough, you can set `force_col_wise=true`.\n",
      "[LightGBM] [Info] Total Bins 2082\n",
      "[LightGBM] [Info] Number of data points in the train set: 7544, number of used features: 1041\n",
      "[LightGBM] [Info] Start training from score -4.260080\n",
      "[LightGBM] [Info] Auto-choosing row-wise multi-threading, the overhead of testing was 0.000812 seconds.\n",
      "You can set `force_row_wise=true` to remove the overhead.\n",
      "And if memory is not enough, you can set `force_col_wise=true`.\n",
      "[LightGBM] [Info] Total Bins 204\n",
      "[LightGBM] [Info] Number of data points in the train set: 7544, number of used features: 102\n",
      "[LightGBM] [Info] Start training from score -4.260080\n",
      "[LightGBM] [Info] Auto-choosing row-wise multi-threading, the overhead of testing was 0.002352 seconds.\n",
      "You can set `force_row_wise=true` to remove the overhead.\n",
      "And if memory is not enough, you can set `force_col_wise=true`.\n",
      "[LightGBM] [Info] Total Bins 570\n",
      "[LightGBM] [Info] Number of data points in the train set: 7544, number of used features: 285\n",
      "[LightGBM] [Info] Start training from score -4.260080\n",
      "[LightGBM] [Info] Auto-choosing row-wise multi-threading, the overhead of testing was 0.004223 seconds.\n",
      "You can set `force_row_wise=true` to remove the overhead.\n",
      "And if memory is not enough, you can set `force_col_wise=true`.\n",
      "[LightGBM] [Info] Total Bins 1208\n",
      "[LightGBM] [Info] Number of data points in the train set: 7544, number of used features: 604\n",
      "[LightGBM] [Info] Start training from score -4.260080\n"
     ]
    },
    {
     "data": {
      "image/png": "[encoded data removed]",
      "text/plain": [
       "<Figure size 1200x1000 with 4 Axes>"
      ]
     },
     "metadata": {},
     "output_type": "display_data"
    }
   ],
   "source": [
    "import lightgbm as lgb\n",
    "import matplotlib.pyplot as plt\n",
    "import pandas as pd\n",
    "import numpy as np\n",
    "from sklearn.model_selection import train_test_split\n",
    "from sklearn.metrics import mean_squared_error\n",
    "\n",
    "# Assuming the LightGBM model is already defined and trained\n",
    "# Define the dataframes and corresponding names\n",
    "dataframes = {\n",
    "    'Morgan': opv_df_morgan,\n",
    "    'MACCS': opv_df_maccs,\n",
    "    'Atom Pair': opv_df_atom_pair,\n",
    "    'FCFP': opv_df_fcfp\n",
    "}\n",
    "\n",
    "# Set up the plot\n",
    "fig, axes = plt.subplots(2, 2, figsize=(12, 10))\n",
    "axes = axes.flatten()  # Flatten the 2x2 array of axes for easier iteration\n",
    "\n",
    "# Iterate over the dataframes and plot actual vs predicted\n",
    "for idx, (fingerprint_name, df) in enumerate(dataframes.items()):\n",
    "    X = df.iloc[:, 7:]  # Features\n",
    "    y = df[\"LUMO_calib\"]  # Target\n",
    "\n",
    "    # Split the data into training and testing sets\n",
    "    X_train, X_test, y_train, y_test = train_test_split(X, y, test_size=0.2, random_state=42)\n",
    "\n",
    "    # Define and train the LightGBM model\n",
    "    lgbm_model = lgb.LGBMRegressor()\n",
    "    lgbm_model.fit(X_train, y_train)\n",
    "\n",
    "    # Predict on the test set\n",
    "    y_pred = lgbm_model.predict(X_test)\n",
    "\n",
    "    # Calculate R² Score\n",
    "    r2_score = lgbm_model.score(X_test, y_test)\n",
    "\n",
    "    # Calculate RMSE and MAE\n",
    "    rmse = np.sqrt(mean_squared_error(y_test, y_pred))\n",
    "    mae = np.mean(np.abs(y_test - y_pred))\n",
    "\n",
    "    # Plot the actual vs predicted\n",
    "    axes[idx].scatter(y_test, y_pred, alpha=0.6)\n",
    "    axes[idx].plot([y.min(), y.max()], [y.min(), y.max()], color='red', linestyle='--')  # 45-degree line\n",
    "    axes[idx].set_title(f'{fingerprint_name} Fingerprint - R² Score: {r2_score:.2f}', fontsize=12, weight='bold', color='navy')\n",
    "    axes[idx].set_xlabel('Actual LUMO_calib')\n",
    "    axes[idx].set_ylabel('Predicted LUMO_calib')\n",
    "\n",
    "    # X and Y limits\n",
    "    axes[idx].set_xlim(-6, -3.5)\n",
    "    axes[idx].set_ylim(-6, -3.5)\n",
    "\n",
    "    # Add RMSE and MAE to the plot\n",
    "    axes[idx].text(-5.8, -3.7, f'RMSE: {rmse:.5f}', fontsize=10, color='black', weight='bold')\n",
    "    axes[idx].text(-5.8, -3.9, f'MAE: {mae:.5f}', fontsize=10, color='black', weight='bold')\n",
    "\n",
    "    # Draw a square around the text and set the background color to white\n",
    "    axes[idx].add_patch(plt.Rectangle((0.1, 5.05), 1.6, 0.8, fill='white', color='navy', alpha=0.2))\n",
    "\n",
    "# Adjust layout and show the plot\n",
    "plt.tight_layout()\n",
    "plt.show()"
   ]
  },
  {
   "cell_type": "code",
   "execution_count": 27,
   "metadata": {},
   "outputs": [
    {
     "name": "stdout",
     "output_type": "stream",
     "text": [
      "[LightGBM] [Info] Auto-choosing row-wise multi-threading, the overhead of testing was 0.006345 seconds.\n",
      "You can set `force_row_wise=true` to remove the overhead.\n",
      "And if memory is not enough, you can set `force_col_wise=true`.\n",
      "[LightGBM] [Info] Total Bins 2082\n",
      "[LightGBM] [Info] Number of data points in the train set: 7544, number of used features: 1041\n",
      "[LightGBM] [Info] Start training from score -4.260080\n",
      "[LightGBM] [Info] Auto-choosing row-wise multi-threading, the overhead of testing was 0.000800 seconds.\n",
      "You can set `force_row_wise=true` to remove the overhead.\n",
      "And if memory is not enough, you can set `force_col_wise=true`.\n",
      "[LightGBM] [Info] Total Bins 204\n",
      "[LightGBM] [Info] Number of data points in the train set: 7544, number of used features: 102\n",
      "[LightGBM] [Info] Start training from score -4.260080\n",
      "[LightGBM] [Info] Auto-choosing row-wise multi-threading, the overhead of testing was 0.002162 seconds.\n",
      "You can set `force_row_wise=true` to remove the overhead.\n",
      "And if memory is not enough, you can set `force_col_wise=true`.\n",
      "[LightGBM] [Info] Total Bins 570\n",
      "[LightGBM] [Info] Number of data points in the train set: 7544, number of used features: 285\n",
      "[LightGBM] [Info] Start training from score -4.260080\n",
      "[LightGBM] [Info] Auto-choosing row-wise multi-threading, the overhead of testing was 0.004180 seconds.\n",
      "You can set `force_row_wise=true` to remove the overhead.\n",
      "And if memory is not enough, you can set `force_col_wise=true`.\n",
      "[LightGBM] [Info] Total Bins 1208\n",
      "[LightGBM] [Info] Number of data points in the train set: 7544, number of used features: 604\n",
      "[LightGBM] [Info] Start training from score -4.260080\n"
     ]
    },
    {
     "data": {
      "image/png": "[encoded data removed]",
      "text/plain": [
       "<Figure size 1200x1000 with 4 Axes>"
      ]
     },
     "metadata": {},
     "output_type": "display_data"
    }
   ],
   "source": [
    "import lightgbm as lgb\n",
    "import matplotlib.pyplot as plt\n",
    "import pandas as pd\n",
    "import numpy as np\n",
    "from sklearn.model_selection import train_test_split\n",
    "from sklearn.metrics import mean_squared_error\n",
    "\n",
    "# Optimized LightGBM parameters\n",
    "lgbm_params = {\n",
    "    'learning_rate': 0.23685145356420312,\n",
    "    'n_estimators': 1000,\n",
    "    'num_leaves': 51\n",
    "}\n",
    "\n",
    "# Define the dataframes and corresponding names\n",
    "dataframes = {\n",
    "    'Morgan': opv_df_morgan,\n",
    "    'MACCS': opv_df_maccs,\n",
    "    'Atom Pair': opv_df_atom_pair,\n",
    "    'FCFP': opv_df_fcfp\n",
    "}\n",
    "\n",
    "# Set up the plot\n",
    "fig, axes = plt.subplots(2, 2, figsize=(12, 10))\n",
    "axes = axes.flatten()  # Flatten the 2x2 array of axes for easier iteration\n",
    "\n",
    "# Iterate over the dataframes and plot actual vs predicted\n",
    "for idx, (fingerprint_name, df) in enumerate(dataframes.items()):\n",
    "    X = df.iloc[:, 7:]  # Features\n",
    "    y = df[\"LUMO_calib\"]  # Target\n",
    "\n",
    "    # Split the data into training and testing sets\n",
    "    X_train, X_test, y_train, y_test = train_test_split(X, y, test_size=0.2, random_state=42)\n",
    "\n",
    "    # Define and train the LightGBM model with optimized parameters\n",
    "    lgbm_model = lgb.LGBMRegressor(**lgbm_params)\n",
    "    lgbm_model.fit(X_train, y_train)\n",
    "\n",
    "    # Predict on the test set\n",
    "    y_pred = lgbm_model.predict(X_test)\n",
    "\n",
    "    # Calculate R² Score\n",
    "    r2_score = lgbm_model.score(X_test, y_test)\n",
    "\n",
    "    # Calculate RMSE, R2 Score, and MAE\n",
    "    rmse = np.sqrt(mean_squared_error(y_test, y_pred))\n",
    "    mae = np.mean(np.abs(y_test - y_pred))\n",
    "\n",
    "    # Plot the actual vs predicted\n",
    "    axes[idx].scatter(y_test, y_pred, alpha=0.6)\n",
    "    axes[idx].plot([y.min(), y.max()], [y.min(), y.max()], color='red', linestyle='--')  # 45-degree line\n",
    "    axes[idx].set_title(f'{fingerprint_name} Fingerprint - R² Score: {r2_score:.2f}', fontsize=12, weight='bold', color='navy')   \n",
    "    axes[idx].set_xlabel('Actual LUMO_calib')\n",
    "    axes[idx].set_ylabel('Predicted LUMO_calib')\n",
    "\n",
    "    # Set the limits for the x and y axes\n",
    "    axes[idx].set_xlim(-6, -3.5)\n",
    "    axes[idx].set_ylim(-6, -3.5)\n",
    "\n",
    "\n",
    "    # Add RMSE and MAE to the plot\n",
    "    axes[idx].text(-5.8, -3.7, f'RMSE: {rmse:.5f}', fontsize=10, color='black', weight='bold')\n",
    "    axes[idx].text(-5.8, -3.9, f'MAE: {mae:.5f}', fontsize=10, color='black', weight='bold')\n",
    "\n",
    "    # Draw a square around the text and set the background color to white\n",
    "    axes[idx].add_patch(plt.Rectangle((0.1, 5.05), 1.6, 0.8, fill='white', color='navy', alpha=0.2))\n",
    "\n",
    "# Adjust layout and show the plot\n",
    "plt.tight_layout()\n",
    "plt.show()"
   ]
  },
  {
   "cell_type": "code",
   "execution_count": 29,
   "metadata": {},
   "outputs": [
    {
     "data": {
      "text/html": [
       "<div>\n",
       "<style scoped>\n",
       "    .dataframe tbody tr th:only-of-type {\n",
       "        vertical-align: middle;\n",
       "    }\n",
       "\n",
       "    .dataframe tbody tr th {\n",
       "        vertical-align: top;\n",
       "    }\n",
       "\n",
       "    .dataframe thead th {\n",
       "        text-align: right;\n",
       "    }\n",
       "</style>\n",
       "<table border=\"1\" class=\"dataframe\">\n",
       "  <thead>\n",
       "    <tr style=\"text-align: right;\">\n",
       "      <th></th>\n",
       "      <th>Molecule</th>\n",
       "      <th>Molecular Weight</th>\n",
       "      <th>LogP</th>\n",
       "      <th>Homo-Lumo Gap (eV)</th>\n",
       "      <th>Smiles</th>\n",
       "      <th>mol</th>\n",
       "    </tr>\n",
       "  </thead>\n",
       "  <tbody>\n",
       "    <tr>\n",
       "      <th>0</th>\n",
       "      <td>2-ADMeO3</td>\n",
       "      <td>532.345</td>\n",
       "      <td>5.02930</td>\n",
       "      <td>3.077</td>\n",
       "      <td>COc3cc(OC)c(C/C=C/C2=CC(/C=C/Cc1c(OC)cc(OC)cc1...</td>\n",
       "      <td>&lt;rdkit.Chem.rdchem.Mol object at 0x000002A809D...</td>\n",
       "    </tr>\n",
       "    <tr>\n",
       "      <th>1</th>\n",
       "      <td>3-MR83a</td>\n",
       "      <td>472.293</td>\n",
       "      <td>5.01210</td>\n",
       "      <td>3.072</td>\n",
       "      <td>COc3ccc(C/C=C/C2=[O+][B-](F)(F)OC(/C=C/Cc1c(OC...</td>\n",
       "      <td>&lt;rdkit.Chem.rdchem.Mol object at 0x000002A809D...</td>\n",
       "    </tr>\n",
       "    <tr>\n",
       "      <th>2</th>\n",
       "      <td>AD-10</td>\n",
       "      <td>472.293</td>\n",
       "      <td>5.01210</td>\n",
       "      <td>3.259</td>\n",
       "      <td>COc3ccc(C/C=C/C2=CC(/C=C/Cc1ccc(OC)cc1OC)=[O+]...</td>\n",
       "      <td>&lt;rdkit.Chem.rdchem.Mol object at 0x000002A809D...</td>\n",
       "    </tr>\n",
       "    <tr>\n",
       "      <th>3</th>\n",
       "      <td>AD-1013</td>\n",
       "      <td>482.335</td>\n",
       "      <td>7.29270</td>\n",
       "      <td>2.625</td>\n",
       "      <td>COc5ccc(C/C=C/C4=[O+][B-](F)(F)OC(/C=C/Cc2c1cc...</td>\n",
       "      <td>&lt;rdkit.Chem.rdchem.Mol object at 0x000002A809D...</td>\n",
       "    </tr>\n",
       "    <tr>\n",
       "      <th>4</th>\n",
       "      <td>AD-1022</td>\n",
       "      <td>472.293</td>\n",
       "      <td>5.01210</td>\n",
       "      <td>2.938</td>\n",
       "      <td>COc3ccc(OC)c(C/C=C/C2=CC(/C=C/Cc1cc(OC)ccc1OC)...</td>\n",
       "      <td>&lt;rdkit.Chem.rdchem.Mol object at 0x000002A809D...</td>\n",
       "    </tr>\n",
       "    <tr>\n",
       "      <th>5</th>\n",
       "      <td>AD-11</td>\n",
       "      <td>444.239</td>\n",
       "      <td>4.40610</td>\n",
       "      <td>2.946</td>\n",
       "      <td>COc3cc(C/C=C/C2=CC(/C=C/Cc1ccc(O)c(OC)c1)=[O+]...</td>\n",
       "      <td>&lt;rdkit.Chem.rdchem.Mol object at 0x000002A809D...</td>\n",
       "    </tr>\n",
       "    <tr>\n",
       "      <th>6</th>\n",
       "      <td>AD-14-Moore</td>\n",
       "      <td>438.327</td>\n",
       "      <td>5.10970</td>\n",
       "      <td>2.811</td>\n",
       "      <td>CN(C)c3ccc(C/C=C/C2=CC(/C=C/Cc1ccc(N(C)C)cc1)=...</td>\n",
       "      <td>&lt;rdkit.Chem.rdchem.Mol object at 0x000002A809D...</td>\n",
       "    </tr>\n",
       "    <tr>\n",
       "      <th>7</th>\n",
       "      <td>AD-16-DMF</td>\n",
       "      <td>377.199</td>\n",
       "      <td>4.84938</td>\n",
       "      <td>3.231</td>\n",
       "      <td>N#Cc3ccc(C/C=C/C2=[O+][B-](F)(F)OC(/C=C/Cc1ccc...</td>\n",
       "      <td>&lt;rdkit.Chem.rdchem.Mol object at 0x000002A809D...</td>\n",
       "    </tr>\n",
       "    <tr>\n",
       "      <th>8</th>\n",
       "      <td>AD-18</td>\n",
       "      <td>506.357</td>\n",
       "      <td>7.88370</td>\n",
       "      <td>2.735</td>\n",
       "      <td>COc6ccc(C/C=C/C5=CC(/C=C/Cc1cc2ccc3cccc4ccc(c1...</td>\n",
       "      <td>&lt;rdkit.Chem.rdchem.Mol object at 0x000002A809D...</td>\n",
       "    </tr>\n",
       "    <tr>\n",
       "      <th>9</th>\n",
       "      <td>AD-24</td>\n",
       "      <td>512.361</td>\n",
       "      <td>7.30130</td>\n",
       "      <td>2.878</td>\n",
       "      <td>COc4ccc(C/C=C/C3=CC(/C=C/Cc1ccc(OC)c2ccccc12)=...</td>\n",
       "      <td>&lt;rdkit.Chem.rdchem.Mol object at 0x000002A809D...</td>\n",
       "    </tr>\n",
       "    <tr>\n",
       "      <th>10</th>\n",
       "      <td>AD-25</td>\n",
       "      <td>538.447</td>\n",
       "      <td>7.41610</td>\n",
       "      <td>2.686</td>\n",
       "      <td>CN(C)c4ccc(C/C=C/C3=CC(/C=C/Cc1ccc(N(C)C)c2ccc...</td>\n",
       "      <td>&lt;rdkit.Chem.rdchem.Mol object at 0x000002A809D...</td>\n",
       "    </tr>\n",
       "    <tr>\n",
       "      <th>11</th>\n",
       "      <td>AD-3</td>\n",
       "      <td>402.209</td>\n",
       "      <td>4.72106</td>\n",
       "      <td>3.215</td>\n",
       "      <td>N#Cc3ccc(C/C=C/C2=CC(/C=C/Cc1ccc(C#N)cc1)=[O+]...</td>\n",
       "      <td>&lt;rdkit.Chem.rdchem.Mol object at 0x000002A809D...</td>\n",
       "    </tr>\n",
       "    <tr>\n",
       "      <th>12</th>\n",
       "      <td>AD-35</td>\n",
       "      <td>606.651</td>\n",
       "      <td>9.79090</td>\n",
       "      <td>2.770</td>\n",
       "      <td>CCCCN(CCCC)c3ccc(C/C=C/C2=CC(/C=C/Cc1ccc(N(CCC...</td>\n",
       "      <td>&lt;rdkit.Chem.rdchem.Mol object at 0x000002A809D...</td>\n",
       "    </tr>\n",
       "    <tr>\n",
       "      <th>13</th>\n",
       "      <td>AD-4</td>\n",
       "      <td>407.225</td>\n",
       "      <td>4.85798</td>\n",
       "      <td>3.001</td>\n",
       "      <td>COc3ccc(C/C=C/C2=CC(/C=C/Cc1ccc(C#N)cc1)=[O+][...</td>\n",
       "      <td>&lt;rdkit.Chem.rdchem.Mol object at 0x000002A809D...</td>\n",
       "    </tr>\n",
       "    <tr>\n",
       "      <th>14</th>\n",
       "      <td>AD-48</td>\n",
       "      <td>542.479</td>\n",
       "      <td>7.89550</td>\n",
       "      <td>2.702</td>\n",
       "      <td>CN5/C(=C\\C\\C=C\\C3=CC(/C=C/C/C=C/2N(C)c1ccccc1C...</td>\n",
       "      <td>&lt;rdkit.Chem.rdchem.Mol object at 0x000002A809D...</td>\n",
       "    </tr>\n",
       "    <tr>\n",
       "      <th>15</th>\n",
       "      <td>AD-5</td>\n",
       "      <td>428.309</td>\n",
       "      <td>5.70820</td>\n",
       "      <td>2.970</td>\n",
       "      <td>COc3ccc(C/C=C/C2=[O+][B-](F)(F)OC(/C=C/Cc1ccc(...</td>\n",
       "      <td>&lt;rdkit.Chem.rdchem.Mol object at 0x000002A809D...</td>\n",
       "    </tr>\n",
       "    <tr>\n",
       "      <th>16</th>\n",
       "      <td>AD-6</td>\n",
       "      <td>444.377</td>\n",
       "      <td>6.42150</td>\n",
       "      <td>2.890</td>\n",
       "      <td>CSc3ccc(C/C=C/C2=CC(/C=C/Cc1ccc(SC)cc1)=[O+][B...</td>\n",
       "      <td>&lt;rdkit.Chem.rdchem.Mol object at 0x000002A809D...</td>\n",
       "    </tr>\n",
       "    <tr>\n",
       "      <th>17</th>\n",
       "      <td>AD-7</td>\n",
       "      <td>425.284</td>\n",
       "      <td>5.05230</td>\n",
       "      <td>2.859</td>\n",
       "      <td>COc3ccc(C/C=C/C2=CC(/C=C/Cc1ccc(N(C)C)cc1)=[O+...</td>\n",
       "      <td>&lt;rdkit.Chem.rdchem.Mol object at 0x000002A809D...</td>\n",
       "    </tr>\n",
       "    <tr>\n",
       "      <th>18</th>\n",
       "      <td>AD-9</td>\n",
       "      <td>412.241</td>\n",
       "      <td>4.99490</td>\n",
       "      <td>3.137</td>\n",
       "      <td>COc1ccccc1C/C=C/C3=CC(/C=C/Cc2ccccc2OC)=[O+][B...</td>\n",
       "      <td>&lt;rdkit.Chem.rdchem.Mol object at 0x000002A809D...</td>\n",
       "    </tr>\n",
       "    <tr>\n",
       "      <th>19</th>\n",
       "      <td>YD-30</td>\n",
       "      <td>752.933</td>\n",
       "      <td>14.70550</td>\n",
       "      <td>2.525</td>\n",
       "      <td>CCCCCC(CC)c5ccc(c4ccc(C/C=C/C3=CC(/C=C/Cc2ccc(...</td>\n",
       "      <td>&lt;rdkit.Chem.rdchem.Mol object at 0x000002A809D...</td>\n",
       "    </tr>\n",
       "  </tbody>\n",
       "</table>\n",
       "</div>"
      ],
      "text/plain": [
       "       Molecule  Molecular Weight      LogP  Homo-Lumo Gap (eV)  \\\n",
       "0      2-ADMeO3           532.345   5.02930               3.077   \n",
       "1       3-MR83a           472.293   5.01210               3.072   \n",
       "2         AD-10           472.293   5.01210               3.259   \n",
       "3       AD-1013           482.335   7.29270               2.625   \n",
       "4       AD-1022           472.293   5.01210               2.938   \n",
       "5         AD-11           444.239   4.40610               2.946   \n",
       "6   AD-14-Moore           438.327   5.10970               2.811   \n",
       "7     AD-16-DMF           377.199   4.84938               3.231   \n",
       "8         AD-18           506.357   7.88370               2.735   \n",
       "9         AD-24           512.361   7.30130               2.878   \n",
       "10        AD-25           538.447   7.41610               2.686   \n",
       "11         AD-3           402.209   4.72106               3.215   \n",
       "12        AD-35           606.651   9.79090               2.770   \n",
       "13         AD-4           407.225   4.85798               3.001   \n",
       "14        AD-48           542.479   7.89550               2.702   \n",
       "15         AD-5           428.309   5.70820               2.970   \n",
       "16         AD-6           444.377   6.42150               2.890   \n",
       "17         AD-7           425.284   5.05230               2.859   \n",
       "18         AD-9           412.241   4.99490               3.137   \n",
       "19        YD-30           752.933  14.70550               2.525   \n",
       "\n",
       "                                               Smiles  \\\n",
       "0   COc3cc(OC)c(C/C=C/C2=CC(/C=C/Cc1c(OC)cc(OC)cc1...   \n",
       "1   COc3ccc(C/C=C/C2=[O+][B-](F)(F)OC(/C=C/Cc1c(OC...   \n",
       "2   COc3ccc(C/C=C/C2=CC(/C=C/Cc1ccc(OC)cc1OC)=[O+]...   \n",
       "3   COc5ccc(C/C=C/C4=[O+][B-](F)(F)OC(/C=C/Cc2c1cc...   \n",
       "4   COc3ccc(OC)c(C/C=C/C2=CC(/C=C/Cc1cc(OC)ccc1OC)...   \n",
       "5   COc3cc(C/C=C/C2=CC(/C=C/Cc1ccc(O)c(OC)c1)=[O+]...   \n",
       "6   CN(C)c3ccc(C/C=C/C2=CC(/C=C/Cc1ccc(N(C)C)cc1)=...   \n",
       "7   N#Cc3ccc(C/C=C/C2=[O+][B-](F)(F)OC(/C=C/Cc1ccc...   \n",
       "8   COc6ccc(C/C=C/C5=CC(/C=C/Cc1cc2ccc3cccc4ccc(c1...   \n",
       "9   COc4ccc(C/C=C/C3=CC(/C=C/Cc1ccc(OC)c2ccccc12)=...   \n",
       "10  CN(C)c4ccc(C/C=C/C3=CC(/C=C/Cc1ccc(N(C)C)c2ccc...   \n",
       "11  N#Cc3ccc(C/C=C/C2=CC(/C=C/Cc1ccc(C#N)cc1)=[O+]...   \n",
       "12  CCCCN(CCCC)c3ccc(C/C=C/C2=CC(/C=C/Cc1ccc(N(CCC...   \n",
       "13  COc3ccc(C/C=C/C2=CC(/C=C/Cc1ccc(C#N)cc1)=[O+][...   \n",
       "14  CN5/C(=C\\C\\C=C\\C3=CC(/C=C/C/C=C/2N(C)c1ccccc1C...   \n",
       "15  COc3ccc(C/C=C/C2=[O+][B-](F)(F)OC(/C=C/Cc1ccc(...   \n",
       "16  CSc3ccc(C/C=C/C2=CC(/C=C/Cc1ccc(SC)cc1)=[O+][B...   \n",
       "17  COc3ccc(C/C=C/C2=CC(/C=C/Cc1ccc(N(C)C)cc1)=[O+...   \n",
       "18  COc1ccccc1C/C=C/C3=CC(/C=C/Cc2ccccc2OC)=[O+][B...   \n",
       "19  CCCCCC(CC)c5ccc(c4ccc(C/C=C/C3=CC(/C=C/Cc2ccc(...   \n",
       "\n",
       "                                                  mol  \n",
       "0   <rdkit.Chem.rdchem.Mol object at 0x000002A809D...  \n",
       "1   <rdkit.Chem.rdchem.Mol object at 0x000002A809D...  \n",
       "2   <rdkit.Chem.rdchem.Mol object at 0x000002A809D...  \n",
       "3   <rdkit.Chem.rdchem.Mol object at 0x000002A809D...  \n",
       "4   <rdkit.Chem.rdchem.Mol object at 0x000002A809D...  \n",
       "5   <rdkit.Chem.rdchem.Mol object at 0x000002A809D...  \n",
       "6   <rdkit.Chem.rdchem.Mol object at 0x000002A809D...  \n",
       "7   <rdkit.Chem.rdchem.Mol object at 0x000002A809D...  \n",
       "8   <rdkit.Chem.rdchem.Mol object at 0x000002A809D...  \n",
       "9   <rdkit.Chem.rdchem.Mol object at 0x000002A809D...  \n",
       "10  <rdkit.Chem.rdchem.Mol object at 0x000002A809D...  \n",
       "11  <rdkit.Chem.rdchem.Mol object at 0x000002A809D...  \n",
       "12  <rdkit.Chem.rdchem.Mol object at 0x000002A809D...  \n",
       "13  <rdkit.Chem.rdchem.Mol object at 0x000002A809D...  \n",
       "14  <rdkit.Chem.rdchem.Mol object at 0x000002A809D...  \n",
       "15  <rdkit.Chem.rdchem.Mol object at 0x000002A809D...  \n",
       "16  <rdkit.Chem.rdchem.Mol object at 0x000002A809D...  \n",
       "17  <rdkit.Chem.rdchem.Mol object at 0x000002A809D...  \n",
       "18  <rdkit.Chem.rdchem.Mol object at 0x000002A809D...  \n",
       "19  <rdkit.Chem.rdchem.Mol object at 0x000002A809D...  "
      ]
     },
     "execution_count": 29,
     "metadata": {},
     "output_type": "execute_result"
    }
   ],
   "source": [
    "curcumin_df"
   ]
  },
  {
   "cell_type": "code",
   "execution_count": null,
   "metadata": {},
   "outputs": [],
   "source": [
    "X = opv_df_morgan.iloc[:, 7:]\n",
    "y = opv_df_morgan[\"LUMO_calib\"]\n",
    "\n",
    "X_train, X_test, y_train, y_test = train_test_split(X, y, test_size=0.2, random_state=42)\n",
    "\n",
    "lgbm_model = lgb.LGBMRegressor(**lgbm_params)\n",
    "lgbm_model.fit(X_train, y_train)\n"
   ]
  }
 ],
 "metadata": {
  "kernelspec": {
   "display_name": ".venv",
   "language": "python",
   "name": "python3"
  },
  "language_info": {
   "codemirror_mode": {
    "name": "ipython",
    "version": 3
   },
   "file_extension": ".py",
   "mimetype": "text/x-python",
   "name": "python",
   "nbconvert_exporter": "python",
   "pygments_lexer": "ipython3",
   "version": "3.11.5"
  }
 },
 "nbformat": 4,
 "nbformat_minor": 2
}
