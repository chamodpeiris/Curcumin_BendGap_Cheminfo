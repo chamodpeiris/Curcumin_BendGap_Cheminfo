{
 "cells": [
  {
   "cell_type": "code",
   "execution_count": 14,
   "metadata": {},
   "outputs": [
    {
     "name": "stdout",
     "output_type": "stream",
     "text": [
      "rdkit: 2023.09.5\n",
      "pycaret: 3.2.0\n",
      "joblib: 1.3.2\n"
     ]
    }
   ],
   "source": [
    "%reset -f\n",
    "import rdkit\n",
    "import pycaret\n",
    "import joblib\n",
    "\n",
    "print('rdkit: %s' % rdkit.__version__)\n",
    "print('pycaret: %s' % pycaret.__version__)\n",
    "print('joblib: %s' % joblib.__version__)"
   ]
  },
  {
   "cell_type": "code",
   "execution_count": 15,
   "metadata": {},
   "outputs": [
    {
     "name": "stdout",
     "output_type": "stream",
     "text": [
      "CPU times: total: 11.8 s\n",
      "Wall time: 15.1 s\n"
     ]
    }
   ],
   "source": [
    "%%time\n",
    "import pandas as pd\n",
    "import numpy as np\n",
    "from rdkit import Chem, DataStructs\n",
    "from rdkit.Chem import AllChem, MACCSkeys, Descriptors\n",
    "\n",
    "# Defining the SMILES strings for the cucumin varients\n",
    "curcumin_variants = (\n",
    "    \"COc3cc(OC)c(C/C=C/C2=CC(/C=C/Cc1c(OC)cc(OC)cc1OC)=[O+][B-](F)(F)O2)c(OC)c3\",\n",
    "    \"COc3ccc(C/C=C/C2=[O+][B-](F)(F)OC(/C=C/Cc1c(OC)cc(OC)cc1OC)=C2)cc3\",\n",
    "    \"COc3ccc(C/C=C/C2=CC(/C=C/Cc1ccc(OC)cc1OC)=[O+][B-](F)(F)O2)c(OC)c3\",\n",
    "    \"COc5ccc(C/C=C/C4=[O+][B-](F)(F)OC(/C=C/Cc2c1ccccc1cc3ccccc23)=C4)cc5\",\n",
    "    \"COc3ccc(OC)c(C/C=C/C2=CC(/C=C/Cc1cc(OC)ccc1OC)=[O+][B-](F)(F)O2)c3\",\n",
    "    \"COc3cc(C/C=C/C2=CC(/C=C/Cc1ccc(O)c(OC)c1)=[O+][B-](F)(F)O2)ccc3O\",\n",
    "    \"F[B-]3(F)OC(/C=C/Cc1ccc(Br)cc1)=CC(/C=C/Cc2ccc(Br)cc2)=[O+]3\",\n",
    "    \"C=C(OC)c3ccc(C/C=C/C2=CC(/C=C/Cc1ccc(C(=C)OC)cc1)=[O+][B-](F)(F)O2)cc3\",\n",
    "    \"C=C(OC)c3ccc(C/C=C/C2=CC(/C=C/Cc1ccc(C(=C)OC)cc1)=[O+][B-](F)(F)O2)cc3\",\n",
    "    \"CN(C)c3ccc(C/C=C/C2=CC(/C=C/Cc1ccc(N(C)C)cc1)=[O+][B-](F)(F)O2)cc3\",\n",
    "    \"CCCOc1cc(N(CC)CC)ccc1C/C=C/C3=CC(/C=C/Cc2ccc(N(CC)CC)cc2OCCC)=[O+][B-](F)(F)O3\",\n",
    "    \"CCCOc1cc(N(CC)CC)ccc1C/C=C/C3=CC(/C=C/Cc2ccc(N(CC)CC)cc2OCCC)=[O+][B-](F)(F)O3\",\n",
    "    \"N#Cc3ccc(C/C=C/C2=[O+][B-](F)(F)OC(/C=C/Cc1ccccc1)=C2)cc3\",\n",
    "    \"COc6ccc(C/C=C/C5=CC(/C=C/Cc1cc2ccc3cccc4ccc(c1)c2c34)=[O+][B-](F)(F)O5)cc6\",\n",
    "    \"COc4ccc(C/C=C/C3=CC(/C=C/Cc1ccc(OC)c2ccccc12)=[O+][B-](F)(F)O3)c5ccccc45\",\n",
    "    \"CN(C)c4ccc(C/C=C/C3=CC(/C=C/Cc1ccc(N(C)C)c2ccccc12)=[O+][B-](F)(F)O3)c5ccccc45\",\n",
    "    \"N#Cc3ccc(C/C=C/C2=CC(/C=C/Cc1ccc(C#N)cc1)=[O+][B-](F)(F)O2)cc3\",\n",
    "    \"CCCCN(CCCC)c3ccc(C/C=C/C2=CC(/C=C/Cc1ccc(N(CCCC)CCCC)cc1)=[O+][B-](F)(F)O2)cc3\",\n",
    "    \"COc3ccc(C/C=C/C2=CC(/C=C/Cc1ccc(C#N)cc1)=[O+][B-](F)(F)O2)cc3\",\n",
    "    \"CN5/C(=C\\C\\C=C\\C3=CC(/C=C/C/C=C/2N(C)c1ccccc1C2(C)C)=[O+][B-](F)(F)O3)C(C)(C)c4ccccc45\",\n",
    "    \"COc3ccc(C/C=C/C2=[O+][B-](F)(F)OC(/C=C/Cc1ccc(SC)cc1)=C2)cc3\",\n",
    "    \"CSc3ccc(C/C=C/C2=CC(/C=C/Cc1ccc(SC)cc1)=[O+][B-](F)(F)O2)cc3\",\n",
    "    \"COc3ccc(C/C=C/C2=CC(/C=C/Cc1ccc(N(C)C)cc1)=[O+][B-](F)(F)O2)cc3\",\n",
    "    \"COc5ccc(C/C=C/C4=[O+][B-](F)(F)OC(/C=C/Cc3ccc2c1ccccc1n(C)c2c3)=C4)cc5\",\n",
    "    \"COc1ccccc1C/C=C/C3=CC(/C=C/Cc2ccccc2OC)=[O+][B-](F)(F)O3\",\n",
    "    \"CCCCCC(CC)c5ccc(c4ccc(C/C=C/C3=CC(/C=C/Cc2ccc(c1ccc(C(CC)CCCCC)s1)s2)=[O+][B-](F)(F)O3)s4)s5\"\n",
    ")\n",
    "\n",
    "# Defining the molecule names and HOMO-LUMO Gap\n",
    "molecule_names = ['2-ADMeO3', '3-MR83a', 'AD-10', 'AD-1013', 'AD-1022', 'AD-11', 'AD-12', 'AD-13', 'AD-13-DMF', 'AD-14-Moore', 'AD-15', 'AD-15-DMF', 'AD-16-DMF', 'AD-18', 'AD-24', 'AD-25', 'AD-3', 'AD-35', 'AD-4', 'AD-48', 'AD-5', 'AD-6', 'AD-7', 'AD-8', 'AD-9', 'YD-30']\n",
    "homo_lumo_gap = [3.077, 3.072, 3.259, 2.625, 2.938, 2.946, 3.191, 3.226, 3.228, 2.811, 2.971, 2.813, 3.231, 2.735, 2.878, 2.686, 3.215, 2.77, 3.001, 2.702, 2.97, 2.89, 2.859, 2.97, 3.137, 2.525]\n",
    "\n",
    "molecules = [Chem.MolFromSmiles(smiles) for smiles in curcumin_variants]\n",
    "mws = [round(Descriptors.MolWt(mol),3) for mol in molecules]\n",
    "logp = [Descriptors.MolLogP(mol) for mol in molecules]\n",
    "\n",
    "# Create the initial DataFrame\n",
    "data = {\n",
    "    'Molecule': molecule_names,\n",
    "    'Molecular Weight': mws,\n",
    "    'LogP': logp,\n",
    "    'Homo-Lumo Gap (eV)': homo_lumo_gap,\n",
    "    'Smiles': curcumin_variants\n",
    "}\n",
    "curcumin_df = pd.DataFrame(data)\n",
    "curcumin_df['mol'] = curcumin_df['Smiles'].apply(Chem.MolFromSmiles)\n",
    "\n",
    "# Harvard OPV dataset import\n",
    "data = pd.read_csv('https://raw.githubusercontent.com/AjStephan/havard-smile-opv/main/Non-fullerene%20small-molecules%20acceptors.csv')\n",
    "opv_df = data.drop(columns=[\n",
    "    'index', 'inchikey', 'HOMO_calc', 'LUMO_calc', 'LUMO_calib', 'LUMO_calib_stds',\n",
    "    'HOMO_calib', 'HOMO_calib_stds','GAP_calc', 'molW', 'PCE_calc', 'Voc_calc', 'Jsc_calc',\n",
    "    'FF_calc', 'EQE_calc', 'PCE_calib', 'Voc_calib', 'Jsc_calib', 'FF_calib',\n",
    "    'EQE_calib', 'PCE_cdiff', 'PCE_calib_plus'], axis=1)\n",
    "\n",
    "opv_df['mol'] = opv_df['smiles'].apply(Chem.MolFromSmiles)"
   ]
  },
  {
   "cell_type": "code",
   "execution_count": 16,
   "metadata": {},
   "outputs": [
    {
     "name": "stdout",
     "output_type": "stream",
     "text": [
      "Finished processing morgan fingerprints\n",
      "Finished processing maccs fingerprints\n",
      "Finished processing atom_pair fingerprints\n",
      "Finished processing fcfp fingerprints\n",
      "CPU times: total: 4min 8s\n",
      "Wall time: 4min 15s\n"
     ]
    }
   ],
   "source": [
    "%%time\n",
    "import pandas as pd\n",
    "from rdkit import Chem\n",
    "from rdkit.Chem import AllChem, MACCSkeys, rdMolDescriptors\n",
    "from rdkit.DataStructs import ExplicitBitVect\n",
    "import numpy as np\n",
    "\n",
    "# Functions to generate fingerprints\n",
    "def generate_morgan_fingerprint(mol, radius=2, nBits=2048):\n",
    "    return AllChem.GetMorganFingerprintAsBitVect(mol, radius, nBits=nBits)\n",
    "\n",
    "def generate_maccs166_fingerprint(mol):\n",
    "    return MACCSkeys.GenMACCSKeys(mol)\n",
    "\n",
    "def generate_atom_pair_fingerprint(mol, nBits=2048):\n",
    "    fp = rdMolDescriptors.GetAtomPairFingerprint(mol)\n",
    "    return convert_to_bit_vector(fp, nBits)\n",
    "\n",
    "def generate_fcfp_fingerprint(mol, radius=2, nBits=2048):\n",
    "    return AllChem.GetMorganFingerprintAsBitVect(mol, radius, nBits=nBits, useFeatures=True)\n",
    "\n",
    "# Convert any fingerprint to a bit vector\n",
    "def convert_to_bit_vector(fp, nBits=2048):\n",
    "    bit_vector = ExplicitBitVect(nBits)\n",
    "    for bit in fp.GetNonzeroElements().keys():\n",
    "        bit_vector.SetBit(bit % nBits)\n",
    "    return bit_vector\n",
    "\n",
    "# Function to add fingerprint to dataframe\n",
    "def add_fingerprint_to_df(df, fingerprint_func, fp_name):\n",
    "    df[fp_name] = df['mol'].apply(fingerprint_func)\n",
    "    return df\n",
    "\n",
    "# Function to split fingerprints into separate bit columns\n",
    "def split_fingerprint_bits(df, fp_column, prefix):\n",
    "    bit_array = np.array([list(fp) for fp in df[fp_column].values])\n",
    "    bit_columns = pd.DataFrame(bit_array, columns=[f'{prefix}_{i}' for i in range(bit_array.shape[1])])\n",
    "    df = pd.concat([df.drop(columns=[fp_column]), bit_columns], axis=1)\n",
    "    return df\n",
    "\n",
    "# Assuming opv_df is already defined and 'mol' column has been created\n",
    "# List of fingerprint generation functions and names\n",
    "fingerprint_functions = [\n",
    "    (generate_morgan_fingerprint, 'morgan_fp', 'morgan'),\n",
    "    (generate_maccs166_fingerprint, 'maccs_fp', 'maccs'),\n",
    "    (generate_atom_pair_fingerprint, 'atom_pair_fp', 'atom_pair'),\n",
    "    (generate_fcfp_fingerprint, 'fcfp_fp', 'fcfp')\n",
    "]\n",
    "\n",
    "# List to store resulting dataframes\n",
    "resulting_dfs = []\n",
    "\n",
    "# Generate and store dataframes with fingerprints\n",
    "for fp_func, fp_name, prefix in fingerprint_functions:\n",
    "    df_copy = opv_df.copy()\n",
    "    df_copy = add_fingerprint_to_df(df_copy, fp_func, fp_name)\n",
    "    df_copy = split_fingerprint_bits(df_copy, fp_name, prefix)\n",
    "    resulting_dfs.append(df_copy)\n",
    "    print(f'Finished processing {prefix} fingerprints')\n",
    "\n",
    "# The resulting_dfs list now contains your four dataframes with split fingerprint columns\n",
    "opv_df_morgan = resulting_dfs[0]\n",
    "opv_df_maccs = resulting_dfs[1]\n",
    "opv_df_atom_pair = resulting_dfs[2]\n",
    "opv_df_fcfp = resulting_dfs[3]"
   ]
  },
  {
   "cell_type": "code",
   "execution_count": 6,
   "metadata": {},
   "outputs": [
    {
     "name": "stdout",
     "output_type": "stream",
     "text": [
      "Processing the training of Morgan...\n",
      "Completed pulling results of Morgan\n",
      "Processing the training of MACCS...\n",
      "Completed pulling results of MACCS\n",
      "Processing the training of AtomPair...\n",
      "Completed pulling results of AtomPair\n",
      "Processing the training of FCFP...\n",
      "Completed pulling results of FCFP\n",
      "CPU times: total: 54.5 s\n",
      "Wall time: 8min\n"
     ]
    },
    {
     "data": {
      "text/html": [
       "<div>\n",
       "<style scoped>\n",
       "    .dataframe tbody tr th:only-of-type {\n",
       "        vertical-align: middle;\n",
       "    }\n",
       "\n",
       "    .dataframe tbody tr th {\n",
       "        vertical-align: top;\n",
       "    }\n",
       "\n",
       "    .dataframe thead th {\n",
       "        text-align: right;\n",
       "    }\n",
       "</style>\n",
       "<table border=\"1\" class=\"dataframe\">\n",
       "  <thead>\n",
       "    <tr style=\"text-align: right;\">\n",
       "      <th></th>\n",
       "      <th>Model</th>\n",
       "      <th>MAE</th>\n",
       "      <th>MSE</th>\n",
       "      <th>RMSE</th>\n",
       "      <th>R2</th>\n",
       "      <th>RMSLE</th>\n",
       "      <th>MAPE</th>\n",
       "      <th>TT (Sec)</th>\n",
       "      <th>Fingerprint Type</th>\n",
       "      <th>Time Taken (s)</th>\n",
       "    </tr>\n",
       "  </thead>\n",
       "  <tbody>\n",
       "    <tr>\n",
       "      <th>0</th>\n",
       "      <td>Light Gradient Boosting Machine</td>\n",
       "      <td>0.1602</td>\n",
       "      <td>0.0508</td>\n",
       "      <td>0.2234</td>\n",
       "      <td>0.8673</td>\n",
       "      <td>0.0582</td>\n",
       "      <td>0.0610</td>\n",
       "      <td>2.109</td>\n",
       "      <td>Morgan</td>\n",
       "      <td>161.588898</td>\n",
       "    </tr>\n",
       "    <tr>\n",
       "      <th>1</th>\n",
       "      <td>Bayesian Ridge</td>\n",
       "      <td>0.1793</td>\n",
       "      <td>0.0623</td>\n",
       "      <td>0.2482</td>\n",
       "      <td>0.8368</td>\n",
       "      <td>0.0675</td>\n",
       "      <td>0.0696</td>\n",
       "      <td>9.329</td>\n",
       "      <td>Morgan</td>\n",
       "      <td>161.588898</td>\n",
       "    </tr>\n",
       "    <tr>\n",
       "      <th>2</th>\n",
       "      <td>K Neighbors Regressor</td>\n",
       "      <td>0.1954</td>\n",
       "      <td>0.0787</td>\n",
       "      <td>0.2792</td>\n",
       "      <td>0.7938</td>\n",
       "      <td>0.0760</td>\n",
       "      <td>0.0778</td>\n",
       "      <td>2.494</td>\n",
       "      <td>Morgan</td>\n",
       "      <td>161.588898</td>\n",
       "    </tr>\n",
       "    <tr>\n",
       "      <th>3</th>\n",
       "      <td>Passive Aggressive Regressor</td>\n",
       "      <td>0.2332</td>\n",
       "      <td>0.0959</td>\n",
       "      <td>0.3087</td>\n",
       "      <td>0.7480</td>\n",
       "      <td>0.0841</td>\n",
       "      <td>0.0901</td>\n",
       "      <td>0.922</td>\n",
       "      <td>Morgan</td>\n",
       "      <td>161.588898</td>\n",
       "    </tr>\n",
       "    <tr>\n",
       "      <th>4</th>\n",
       "      <td>Light Gradient Boosting Machine</td>\n",
       "      <td>0.2315</td>\n",
       "      <td>0.0964</td>\n",
       "      <td>0.3095</td>\n",
       "      <td>0.7471</td>\n",
       "      <td>0.0827</td>\n",
       "      <td>0.0894</td>\n",
       "      <td>0.342</td>\n",
       "      <td>MACCS</td>\n",
       "      <td>11.351094</td>\n",
       "    </tr>\n",
       "  </tbody>\n",
       "</table>\n",
       "</div>"
      ],
      "text/plain": [
       "                             Model     MAE     MSE    RMSE      R2   RMSLE  \\\n",
       "0  Light Gradient Boosting Machine  0.1602  0.0508  0.2234  0.8673  0.0582   \n",
       "1                   Bayesian Ridge  0.1793  0.0623  0.2482  0.8368  0.0675   \n",
       "2            K Neighbors Regressor  0.1954  0.0787  0.2792  0.7938  0.0760   \n",
       "3     Passive Aggressive Regressor  0.2332  0.0959  0.3087  0.7480  0.0841   \n",
       "4  Light Gradient Boosting Machine  0.2315  0.0964  0.3095  0.7471  0.0827   \n",
       "\n",
       "     MAPE  TT (Sec) Fingerprint Type  Time Taken (s)  \n",
       "0  0.0610     2.109           Morgan      161.588898  \n",
       "1  0.0696     9.329           Morgan      161.588898  \n",
       "2  0.0778     2.494           Morgan      161.588898  \n",
       "3  0.0901     0.922           Morgan      161.588898  \n",
       "4  0.0894     0.342            MACCS       11.351094  "
      ]
     },
     "execution_count": 6,
     "metadata": {},
     "output_type": "execute_result"
    }
   ],
   "source": [
    "%%time\n",
    "import pandas as pd\n",
    "from sklearn.model_selection import train_test_split\n",
    "from pycaret.regression import *\n",
    "import time\n",
    "\n",
    "# Define the fingerprint datasets\n",
    "fingerprint_datasets = [\n",
    "    (opv_df_morgan, 'Morgan'),\n",
    "    (opv_df_maccs, 'MACCS'),\n",
    "    (opv_df_atom_pair, 'AtomPair'),\n",
    "    (opv_df_fcfp, 'FCFP')\n",
    "]\n",
    "\n",
    "def train_models_and_get_results(fingerprint_data, fingerprint_name):\n",
    "    print(f\"Processing the training of {fingerprint_name}...\")\n",
    "    start_time = time.time()\n",
    "    \n",
    "    # Splitting the data\n",
    "    X = fingerprint_data.iloc[:, 3:]\n",
    "    y = fingerprint_data[\"GAP_calib\"]\n",
    "    X_train, X_test, y_train, y_test = train_test_split(X, y, test_size=0.25, random_state=42)\n",
    "\n",
    "    # Preparing the data for PyCaret\n",
    "    setup_data = pd.concat([X_train, y_train], axis=1)\n",
    "\n",
    "    # Setting up PyCaret regression\n",
    "    regression_setup = setup(setup_data, target='GAP_calib', verbose=False, session_id=123)\n",
    "\n",
    "    # Selecting and comparing models\n",
    "    models_to_include = ['lightgbm', 'br', 'knn', 'par']\n",
    "    best_model = compare_models(include=models_to_include, sort='r2', verbose=False)\n",
    "    \n",
    "    # Pulling the results\n",
    "    results = pull()\n",
    "\n",
    "    # Adding the fingerprint type and time taken to the results\n",
    "    results['Fingerprint Type'] = fingerprint_name\n",
    "    results['Time Taken (s)'] = time.time() - start_time\n",
    "\n",
    "    print(f\"Completed pulling results of {fingerprint_name}\")\n",
    "\n",
    "    return results, best_model\n",
    "\n",
    "all_results = []\n",
    "best_models = {}\n",
    "\n",
    "for fp_data, fp_name in fingerprint_datasets:\n",
    "    fp_results, best_model = train_models_and_get_results(fp_data, fp_name)\n",
    "    all_results.append(fp_results)\n",
    "    best_models[fp_name] = best_model\n",
    "\n",
    "final_results = pd.concat(all_results, ignore_index=True)\n",
    "final_results.to_csv(path_or_buf=r\"C:\\Users\\Chamod Peiris\\Documents\\Curcumin_Scripts\\Phase01.csv\")\n",
    "final_results.head()"
   ]
  },
  {
   "cell_type": "code",
   "execution_count": 3,
   "metadata": {},
   "outputs": [
    {
     "data": {
      "text/html": [
       "<div>\n",
       "<style scoped>\n",
       "    .dataframe tbody tr th:only-of-type {\n",
       "        vertical-align: middle;\n",
       "    }\n",
       "\n",
       "    .dataframe tbody tr th {\n",
       "        vertical-align: top;\n",
       "    }\n",
       "\n",
       "    .dataframe thead th {\n",
       "        text-align: right;\n",
       "    }\n",
       "</style>\n",
       "<table border=\"1\" class=\"dataframe\">\n",
       "  <thead>\n",
       "    <tr style=\"text-align: right;\">\n",
       "      <th></th>\n",
       "      <th>Unnamed: 0</th>\n",
       "      <th>Model</th>\n",
       "      <th>MAE</th>\n",
       "      <th>MSE</th>\n",
       "      <th>RMSE</th>\n",
       "      <th>R2</th>\n",
       "      <th>RMSLE</th>\n",
       "      <th>MAPE</th>\n",
       "      <th>TT (Sec)</th>\n",
       "      <th>Fingerprint Type</th>\n",
       "      <th>Time Taken (s)</th>\n",
       "    </tr>\n",
       "  </thead>\n",
       "  <tbody>\n",
       "    <tr>\n",
       "      <th>0</th>\n",
       "      <td>0</td>\n",
       "      <td>Light Gradient Boosting Machine</td>\n",
       "      <td>0.1602</td>\n",
       "      <td>0.0508</td>\n",
       "      <td>0.2234</td>\n",
       "      <td>0.8673</td>\n",
       "      <td>0.0582</td>\n",
       "      <td>0.0610</td>\n",
       "      <td>2.109</td>\n",
       "      <td>Morgan</td>\n",
       "      <td>161.588898</td>\n",
       "    </tr>\n",
       "    <tr>\n",
       "      <th>1</th>\n",
       "      <td>1</td>\n",
       "      <td>Bayesian Ridge</td>\n",
       "      <td>0.1793</td>\n",
       "      <td>0.0623</td>\n",
       "      <td>0.2482</td>\n",
       "      <td>0.8368</td>\n",
       "      <td>0.0675</td>\n",
       "      <td>0.0696</td>\n",
       "      <td>9.329</td>\n",
       "      <td>Morgan</td>\n",
       "      <td>161.588898</td>\n",
       "    </tr>\n",
       "    <tr>\n",
       "      <th>2</th>\n",
       "      <td>2</td>\n",
       "      <td>K Neighbors Regressor</td>\n",
       "      <td>0.1954</td>\n",
       "      <td>0.0787</td>\n",
       "      <td>0.2792</td>\n",
       "      <td>0.7938</td>\n",
       "      <td>0.0760</td>\n",
       "      <td>0.0778</td>\n",
       "      <td>2.494</td>\n",
       "      <td>Morgan</td>\n",
       "      <td>161.588898</td>\n",
       "    </tr>\n",
       "    <tr>\n",
       "      <th>3</th>\n",
       "      <td>3</td>\n",
       "      <td>Passive Aggressive Regressor</td>\n",
       "      <td>0.2332</td>\n",
       "      <td>0.0959</td>\n",
       "      <td>0.3087</td>\n",
       "      <td>0.7480</td>\n",
       "      <td>0.0841</td>\n",
       "      <td>0.0901</td>\n",
       "      <td>0.922</td>\n",
       "      <td>Morgan</td>\n",
       "      <td>161.588898</td>\n",
       "    </tr>\n",
       "    <tr>\n",
       "      <th>4</th>\n",
       "      <td>4</td>\n",
       "      <td>Light Gradient Boosting Machine</td>\n",
       "      <td>0.2315</td>\n",
       "      <td>0.0964</td>\n",
       "      <td>0.3095</td>\n",
       "      <td>0.7471</td>\n",
       "      <td>0.0827</td>\n",
       "      <td>0.0894</td>\n",
       "      <td>0.342</td>\n",
       "      <td>MACCS</td>\n",
       "      <td>11.351094</td>\n",
       "    </tr>\n",
       "    <tr>\n",
       "      <th>5</th>\n",
       "      <td>5</td>\n",
       "      <td>K Neighbors Regressor</td>\n",
       "      <td>0.2415</td>\n",
       "      <td>0.1102</td>\n",
       "      <td>0.3311</td>\n",
       "      <td>0.7105</td>\n",
       "      <td>0.0899</td>\n",
       "      <td>0.0943</td>\n",
       "      <td>0.229</td>\n",
       "      <td>MACCS</td>\n",
       "      <td>11.351094</td>\n",
       "    </tr>\n",
       "    <tr>\n",
       "      <th>6</th>\n",
       "      <td>6</td>\n",
       "      <td>Bayesian Ridge</td>\n",
       "      <td>0.2992</td>\n",
       "      <td>0.1534</td>\n",
       "      <td>0.3912</td>\n",
       "      <td>0.5966</td>\n",
       "      <td>0.1065</td>\n",
       "      <td>0.1176</td>\n",
       "      <td>0.213</td>\n",
       "      <td>MACCS</td>\n",
       "      <td>11.351094</td>\n",
       "    </tr>\n",
       "    <tr>\n",
       "      <th>7</th>\n",
       "      <td>7</td>\n",
       "      <td>Passive Aggressive Regressor</td>\n",
       "      <td>0.3556</td>\n",
       "      <td>0.2114</td>\n",
       "      <td>0.4582</td>\n",
       "      <td>0.4441</td>\n",
       "      <td>0.1248</td>\n",
       "      <td>0.1415</td>\n",
       "      <td>0.076</td>\n",
       "      <td>MACCS</td>\n",
       "      <td>11.351094</td>\n",
       "    </tr>\n",
       "    <tr>\n",
       "      <th>8</th>\n",
       "      <td>8</td>\n",
       "      <td>Light Gradient Boosting Machine</td>\n",
       "      <td>0.2583</td>\n",
       "      <td>0.1271</td>\n",
       "      <td>0.3556</td>\n",
       "      <td>0.6663</td>\n",
       "      <td>0.0969</td>\n",
       "      <td>0.1026</td>\n",
       "      <td>0.965</td>\n",
       "      <td>AtomPair</td>\n",
       "      <td>144.205276</td>\n",
       "    </tr>\n",
       "    <tr>\n",
       "      <th>9</th>\n",
       "      <td>9</td>\n",
       "      <td>K Neighbors Regressor</td>\n",
       "      <td>0.2763</td>\n",
       "      <td>0.1525</td>\n",
       "      <td>0.3898</td>\n",
       "      <td>0.5994</td>\n",
       "      <td>0.1071</td>\n",
       "      <td>0.1103</td>\n",
       "      <td>2.397</td>\n",
       "      <td>AtomPair</td>\n",
       "      <td>144.205276</td>\n",
       "    </tr>\n",
       "    <tr>\n",
       "      <th>10</th>\n",
       "      <td>10</td>\n",
       "      <td>Bayesian Ridge</td>\n",
       "      <td>0.3305</td>\n",
       "      <td>0.1938</td>\n",
       "      <td>0.4396</td>\n",
       "      <td>0.4906</td>\n",
       "      <td>0.1206</td>\n",
       "      <td>0.1321</td>\n",
       "      <td>9.395</td>\n",
       "      <td>AtomPair</td>\n",
       "      <td>144.205276</td>\n",
       "    </tr>\n",
       "    <tr>\n",
       "      <th>11</th>\n",
       "      <td>11</td>\n",
       "      <td>Passive Aggressive Regressor</td>\n",
       "      <td>0.4143</td>\n",
       "      <td>0.2821</td>\n",
       "      <td>0.5304</td>\n",
       "      <td>0.2560</td>\n",
       "      <td>0.1458</td>\n",
       "      <td>0.1591</td>\n",
       "      <td>0.711</td>\n",
       "      <td>AtomPair</td>\n",
       "      <td>144.205276</td>\n",
       "    </tr>\n",
       "    <tr>\n",
       "      <th>12</th>\n",
       "      <td>12</td>\n",
       "      <td>Light Gradient Boosting Machine</td>\n",
       "      <td>0.1711</td>\n",
       "      <td>0.0568</td>\n",
       "      <td>0.2368</td>\n",
       "      <td>0.8514</td>\n",
       "      <td>0.0614</td>\n",
       "      <td>0.0649</td>\n",
       "      <td>1.027</td>\n",
       "      <td>FCFP</td>\n",
       "      <td>157.218741</td>\n",
       "    </tr>\n",
       "    <tr>\n",
       "      <th>13</th>\n",
       "      <td>13</td>\n",
       "      <td>Bayesian Ridge</td>\n",
       "      <td>0.1992</td>\n",
       "      <td>0.0736</td>\n",
       "      <td>0.2704</td>\n",
       "      <td>0.8069</td>\n",
       "      <td>0.0736</td>\n",
       "      <td>0.0771</td>\n",
       "      <td>10.571</td>\n",
       "      <td>FCFP</td>\n",
       "      <td>157.218741</td>\n",
       "    </tr>\n",
       "    <tr>\n",
       "      <th>14</th>\n",
       "      <td>14</td>\n",
       "      <td>K Neighbors Regressor</td>\n",
       "      <td>0.1912</td>\n",
       "      <td>0.0740</td>\n",
       "      <td>0.2707</td>\n",
       "      <td>0.8062</td>\n",
       "      <td>0.0721</td>\n",
       "      <td>0.0740</td>\n",
       "      <td>2.411</td>\n",
       "      <td>FCFP</td>\n",
       "      <td>157.218741</td>\n",
       "    </tr>\n",
       "    <tr>\n",
       "      <th>15</th>\n",
       "      <td>15</td>\n",
       "      <td>Passive Aggressive Regressor</td>\n",
       "      <td>0.2590</td>\n",
       "      <td>0.1152</td>\n",
       "      <td>0.3378</td>\n",
       "      <td>0.6975</td>\n",
       "      <td>0.0921</td>\n",
       "      <td>0.1005</td>\n",
       "      <td>0.719</td>\n",
       "      <td>FCFP</td>\n",
       "      <td>157.218741</td>\n",
       "    </tr>\n",
       "  </tbody>\n",
       "</table>\n",
       "</div>"
      ],
      "text/plain": [
       "    Unnamed: 0                            Model     MAE     MSE    RMSE  \\\n",
       "0            0  Light Gradient Boosting Machine  0.1602  0.0508  0.2234   \n",
       "1            1                   Bayesian Ridge  0.1793  0.0623  0.2482   \n",
       "2            2            K Neighbors Regressor  0.1954  0.0787  0.2792   \n",
       "3            3     Passive Aggressive Regressor  0.2332  0.0959  0.3087   \n",
       "4            4  Light Gradient Boosting Machine  0.2315  0.0964  0.3095   \n",
       "5            5            K Neighbors Regressor  0.2415  0.1102  0.3311   \n",
       "6            6                   Bayesian Ridge  0.2992  0.1534  0.3912   \n",
       "7            7     Passive Aggressive Regressor  0.3556  0.2114  0.4582   \n",
       "8            8  Light Gradient Boosting Machine  0.2583  0.1271  0.3556   \n",
       "9            9            K Neighbors Regressor  0.2763  0.1525  0.3898   \n",
       "10          10                   Bayesian Ridge  0.3305  0.1938  0.4396   \n",
       "11          11     Passive Aggressive Regressor  0.4143  0.2821  0.5304   \n",
       "12          12  Light Gradient Boosting Machine  0.1711  0.0568  0.2368   \n",
       "13          13                   Bayesian Ridge  0.1992  0.0736  0.2704   \n",
       "14          14            K Neighbors Regressor  0.1912  0.0740  0.2707   \n",
       "15          15     Passive Aggressive Regressor  0.2590  0.1152  0.3378   \n",
       "\n",
       "        R2   RMSLE    MAPE  TT (Sec) Fingerprint Type  Time Taken (s)  \n",
       "0   0.8673  0.0582  0.0610     2.109           Morgan      161.588898  \n",
       "1   0.8368  0.0675  0.0696     9.329           Morgan      161.588898  \n",
       "2   0.7938  0.0760  0.0778     2.494           Morgan      161.588898  \n",
       "3   0.7480  0.0841  0.0901     0.922           Morgan      161.588898  \n",
       "4   0.7471  0.0827  0.0894     0.342            MACCS       11.351094  \n",
       "5   0.7105  0.0899  0.0943     0.229            MACCS       11.351094  \n",
       "6   0.5966  0.1065  0.1176     0.213            MACCS       11.351094  \n",
       "7   0.4441  0.1248  0.1415     0.076            MACCS       11.351094  \n",
       "8   0.6663  0.0969  0.1026     0.965         AtomPair      144.205276  \n",
       "9   0.5994  0.1071  0.1103     2.397         AtomPair      144.205276  \n",
       "10  0.4906  0.1206  0.1321     9.395         AtomPair      144.205276  \n",
       "11  0.2560  0.1458  0.1591     0.711         AtomPair      144.205276  \n",
       "12  0.8514  0.0614  0.0649     1.027             FCFP      157.218741  \n",
       "13  0.8069  0.0736  0.0771    10.571             FCFP      157.218741  \n",
       "14  0.8062  0.0721  0.0740     2.411             FCFP      157.218741  \n",
       "15  0.6975  0.0921  0.1005     0.719             FCFP      157.218741  "
      ]
     },
     "execution_count": 3,
     "metadata": {},
     "output_type": "execute_result"
    }
   ],
   "source": [
    "import pandas as pd\n",
    "path = (r\"C:\\Users\\Chamod Peiris\\Documents\\Curcumin_Scripts\\Phase01.csv\")\n",
    "final_results = pd.read_csv(path)\n",
    "final_results"
   ]
  },
  {
   "cell_type": "code",
   "execution_count": 13,
   "metadata": {},
   "outputs": [
    {
     "data": {
      "application/vnd.plotly.v1+json": {
       "config": {
        "plotlyServerURL": "https://plot.ly"
       },
       "data": [
        {
         "name": "Morgan",
         "text": [
          0.8673,
          0.8368,
          0.7938,
          0.748
         ],
         "textposition": "auto",
         "type": "bar",
         "x": [
          "Light Gradient Boosting Machine",
          "Bayesian Ridge",
          "K Neighbors Regressor",
          "Passive Aggressive Regressor"
         ],
         "y": [
          0.8673,
          0.8368,
          0.7938,
          0.748
         ]
        },
        {
         "name": "MACCS",
         "text": [
          0.7471,
          0.7105,
          0.5966,
          0.4441
         ],
         "textposition": "auto",
         "type": "bar",
         "x": [
          "Light Gradient Boosting Machine",
          "K Neighbors Regressor",
          "Bayesian Ridge",
          "Passive Aggressive Regressor"
         ],
         "y": [
          0.7471,
          0.7105,
          0.5966,
          0.4441
         ]
        },
        {
         "name": "AtomPair",
         "text": [
          0.6663,
          0.5994,
          0.4906,
          0.256
         ],
         "textposition": "auto",
         "type": "bar",
         "x": [
          "Light Gradient Boosting Machine",
          "K Neighbors Regressor",
          "Bayesian Ridge",
          "Passive Aggressive Regressor"
         ],
         "y": [
          0.6663,
          0.5994,
          0.4906,
          0.256
         ]
        },
        {
         "name": "FCFP",
         "text": [
          0.8514,
          0.8069,
          0.8062,
          0.6975
         ],
         "textposition": "auto",
         "type": "bar",
         "x": [
          "Light Gradient Boosting Machine",
          "Bayesian Ridge",
          "K Neighbors Regressor",
          "Passive Aggressive Regressor"
         ],
         "y": [
          0.8514,
          0.8069,
          0.8062,
          0.6975
         ]
        }
       ],
       "layout": {
        "barmode": "group",
        "height": 600,
        "template": {
         "data": {
          "bar": [
           {
            "error_x": {
             "color": "#2a3f5f"
            },
            "error_y": {
             "color": "#2a3f5f"
            },
            "marker": {
             "line": {
              "color": "#E5ECF6",
              "width": 0.5
             },
             "pattern": {
              "fillmode": "overlay",
              "size": 10,
              "solidity": 0.2
             }
            },
            "type": "bar"
           }
          ],
          "barpolar": [
           {
            "marker": {
             "line": {
              "color": "#E5ECF6",
              "width": 0.5
             },
             "pattern": {
              "fillmode": "overlay",
              "size": 10,
              "solidity": 0.2
             }
            },
            "type": "barpolar"
           }
          ],
          "carpet": [
           {
            "aaxis": {
             "endlinecolor": "#2a3f5f",
             "gridcolor": "white",
             "linecolor": "white",
             "minorgridcolor": "white",
             "startlinecolor": "#2a3f5f"
            },
            "baxis": {
             "endlinecolor": "#2a3f5f",
             "gridcolor": "white",
             "linecolor": "white",
             "minorgridcolor": "white",
             "startlinecolor": "#2a3f5f"
            },
            "type": "carpet"
           }
          ],
          "choropleth": [
           {
            "colorbar": {
             "outlinewidth": 0,
             "ticks": ""
            },
            "type": "choropleth"
           }
          ],
          "contour": [
           {
            "colorbar": {
             "outlinewidth": 0,
             "ticks": ""
            },
            "colorscale": [
             [
              0,
              "#0d0887"
             ],
             [
              0.1111111111111111,
              "#46039f"
             ],
             [
              0.2222222222222222,
              "#7201a8"
             ],
             [
              0.3333333333333333,
              "#9c179e"
             ],
             [
              0.4444444444444444,
              "#bd3786"
             ],
             [
              0.5555555555555556,
              "#d8576b"
             ],
             [
              0.6666666666666666,
              "#ed7953"
             ],
             [
              0.7777777777777778,
              "#fb9f3a"
             ],
             [
              0.8888888888888888,
              "#fdca26"
             ],
             [
              1,
              "#f0f921"
             ]
            ],
            "type": "contour"
           }
          ],
          "contourcarpet": [
           {
            "colorbar": {
             "outlinewidth": 0,
             "ticks": ""
            },
            "type": "contourcarpet"
           }
          ],
          "heatmap": [
           {
            "colorbar": {
             "outlinewidth": 0,
             "ticks": ""
            },
            "colorscale": [
             [
              0,
              "#0d0887"
             ],
             [
              0.1111111111111111,
              "#46039f"
             ],
             [
              0.2222222222222222,
              "#7201a8"
             ],
             [
              0.3333333333333333,
              "#9c179e"
             ],
             [
              0.4444444444444444,
              "#bd3786"
             ],
             [
              0.5555555555555556,
              "#d8576b"
             ],
             [
              0.6666666666666666,
              "#ed7953"
             ],
             [
              0.7777777777777778,
              "#fb9f3a"
             ],
             [
              0.8888888888888888,
              "#fdca26"
             ],
             [
              1,
              "#f0f921"
             ]
            ],
            "type": "heatmap"
           }
          ],
          "heatmapgl": [
           {
            "colorbar": {
             "outlinewidth": 0,
             "ticks": ""
            },
            "colorscale": [
             [
              0,
              "#0d0887"
             ],
             [
              0.1111111111111111,
              "#46039f"
             ],
             [
              0.2222222222222222,
              "#7201a8"
             ],
             [
              0.3333333333333333,
              "#9c179e"
             ],
             [
              0.4444444444444444,
              "#bd3786"
             ],
             [
              0.5555555555555556,
              "#d8576b"
             ],
             [
              0.6666666666666666,
              "#ed7953"
             ],
             [
              0.7777777777777778,
              "#fb9f3a"
             ],
             [
              0.8888888888888888,
              "#fdca26"
             ],
             [
              1,
              "#f0f921"
             ]
            ],
            "type": "heatmapgl"
           }
          ],
          "histogram": [
           {
            "marker": {
             "pattern": {
              "fillmode": "overlay",
              "size": 10,
              "solidity": 0.2
             }
            },
            "type": "histogram"
           }
          ],
          "histogram2d": [
           {
            "colorbar": {
             "outlinewidth": 0,
             "ticks": ""
            },
            "colorscale": [
             [
              0,
              "#0d0887"
             ],
             [
              0.1111111111111111,
              "#46039f"
             ],
             [
              0.2222222222222222,
              "#7201a8"
             ],
             [
              0.3333333333333333,
              "#9c179e"
             ],
             [
              0.4444444444444444,
              "#bd3786"
             ],
             [
              0.5555555555555556,
              "#d8576b"
             ],
             [
              0.6666666666666666,
              "#ed7953"
             ],
             [
              0.7777777777777778,
              "#fb9f3a"
             ],
             [
              0.8888888888888888,
              "#fdca26"
             ],
             [
              1,
              "#f0f921"
             ]
            ],
            "type": "histogram2d"
           }
          ],
          "histogram2dcontour": [
           {
            "colorbar": {
             "outlinewidth": 0,
             "ticks": ""
            },
            "colorscale": [
             [
              0,
              "#0d0887"
             ],
             [
              0.1111111111111111,
              "#46039f"
             ],
             [
              0.2222222222222222,
              "#7201a8"
             ],
             [
              0.3333333333333333,
              "#9c179e"
             ],
             [
              0.4444444444444444,
              "#bd3786"
             ],
             [
              0.5555555555555556,
              "#d8576b"
             ],
             [
              0.6666666666666666,
              "#ed7953"
             ],
             [
              0.7777777777777778,
              "#fb9f3a"
             ],
             [
              0.8888888888888888,
              "#fdca26"
             ],
             [
              1,
              "#f0f921"
             ]
            ],
            "type": "histogram2dcontour"
           }
          ],
          "mesh3d": [
           {
            "colorbar": {
             "outlinewidth": 0,
             "ticks": ""
            },
            "type": "mesh3d"
           }
          ],
          "parcoords": [
           {
            "line": {
             "colorbar": {
              "outlinewidth": 0,
              "ticks": ""
             }
            },
            "type": "parcoords"
           }
          ],
          "pie": [
           {
            "automargin": true,
            "type": "pie"
           }
          ],
          "scatter": [
           {
            "fillpattern": {
             "fillmode": "overlay",
             "size": 10,
             "solidity": 0.2
            },
            "type": "scatter"
           }
          ],
          "scatter3d": [
           {
            "line": {
             "colorbar": {
              "outlinewidth": 0,
              "ticks": ""
             }
            },
            "marker": {
             "colorbar": {
              "outlinewidth": 0,
              "ticks": ""
             }
            },
            "type": "scatter3d"
           }
          ],
          "scattercarpet": [
           {
            "marker": {
             "colorbar": {
              "outlinewidth": 0,
              "ticks": ""
             }
            },
            "type": "scattercarpet"
           }
          ],
          "scattergeo": [
           {
            "marker": {
             "colorbar": {
              "outlinewidth": 0,
              "ticks": ""
             }
            },
            "type": "scattergeo"
           }
          ],
          "scattergl": [
           {
            "marker": {
             "colorbar": {
              "outlinewidth": 0,
              "ticks": ""
             }
            },
            "type": "scattergl"
           }
          ],
          "scattermapbox": [
           {
            "marker": {
             "colorbar": {
              "outlinewidth": 0,
              "ticks": ""
             }
            },
            "type": "scattermapbox"
           }
          ],
          "scatterpolar": [
           {
            "marker": {
             "colorbar": {
              "outlinewidth": 0,
              "ticks": ""
             }
            },
            "type": "scatterpolar"
           }
          ],
          "scatterpolargl": [
           {
            "marker": {
             "colorbar": {
              "outlinewidth": 0,
              "ticks": ""
             }
            },
            "type": "scatterpolargl"
           }
          ],
          "scatterternary": [
           {
            "marker": {
             "colorbar": {
              "outlinewidth": 0,
              "ticks": ""
             }
            },
            "type": "scatterternary"
           }
          ],
          "surface": [
           {
            "colorbar": {
             "outlinewidth": 0,
             "ticks": ""
            },
            "colorscale": [
             [
              0,
              "#0d0887"
             ],
             [
              0.1111111111111111,
              "#46039f"
             ],
             [
              0.2222222222222222,
              "#7201a8"
             ],
             [
              0.3333333333333333,
              "#9c179e"
             ],
             [
              0.4444444444444444,
              "#bd3786"
             ],
             [
              0.5555555555555556,
              "#d8576b"
             ],
             [
              0.6666666666666666,
              "#ed7953"
             ],
             [
              0.7777777777777778,
              "#fb9f3a"
             ],
             [
              0.8888888888888888,
              "#fdca26"
             ],
             [
              1,
              "#f0f921"
             ]
            ],
            "type": "surface"
           }
          ],
          "table": [
           {
            "cells": {
             "fill": {
              "color": "#EBF0F8"
             },
             "line": {
              "color": "white"
             }
            },
            "header": {
             "fill": {
              "color": "#C8D4E3"
             },
             "line": {
              "color": "white"
             }
            },
            "type": "table"
           }
          ]
         },
         "layout": {
          "annotationdefaults": {
           "arrowcolor": "#2a3f5f",
           "arrowhead": 0,
           "arrowwidth": 1
          },
          "autotypenumbers": "strict",
          "coloraxis": {
           "colorbar": {
            "outlinewidth": 0,
            "ticks": ""
           }
          },
          "colorscale": {
           "diverging": [
            [
             0,
             "#8e0152"
            ],
            [
             0.1,
             "#c51b7d"
            ],
            [
             0.2,
             "#de77ae"
            ],
            [
             0.3,
             "#f1b6da"
            ],
            [
             0.4,
             "#fde0ef"
            ],
            [
             0.5,
             "#f7f7f7"
            ],
            [
             0.6,
             "#e6f5d0"
            ],
            [
             0.7,
             "#b8e186"
            ],
            [
             0.8,
             "#7fbc41"
            ],
            [
             0.9,
             "#4d9221"
            ],
            [
             1,
             "#276419"
            ]
           ],
           "sequential": [
            [
             0,
             "#0d0887"
            ],
            [
             0.1111111111111111,
             "#46039f"
            ],
            [
             0.2222222222222222,
             "#7201a8"
            ],
            [
             0.3333333333333333,
             "#9c179e"
            ],
            [
             0.4444444444444444,
             "#bd3786"
            ],
            [
             0.5555555555555556,
             "#d8576b"
            ],
            [
             0.6666666666666666,
             "#ed7953"
            ],
            [
             0.7777777777777778,
             "#fb9f3a"
            ],
            [
             0.8888888888888888,
             "#fdca26"
            ],
            [
             1,
             "#f0f921"
            ]
           ],
           "sequentialminus": [
            [
             0,
             "#0d0887"
            ],
            [
             0.1111111111111111,
             "#46039f"
            ],
            [
             0.2222222222222222,
             "#7201a8"
            ],
            [
             0.3333333333333333,
             "#9c179e"
            ],
            [
             0.4444444444444444,
             "#bd3786"
            ],
            [
             0.5555555555555556,
             "#d8576b"
            ],
            [
             0.6666666666666666,
             "#ed7953"
            ],
            [
             0.7777777777777778,
             "#fb9f3a"
            ],
            [
             0.8888888888888888,
             "#fdca26"
            ],
            [
             1,
             "#f0f921"
            ]
           ]
          },
          "colorway": [
           "#636efa",
           "#EF553B",
           "#00cc96",
           "#ab63fa",
           "#FFA15A",
           "#19d3f3",
           "#FF6692",
           "#B6E880",
           "#FF97FF",
           "#FECB52"
          ],
          "font": {
           "color": "#2a3f5f"
          },
          "geo": {
           "bgcolor": "white",
           "lakecolor": "white",
           "landcolor": "#E5ECF6",
           "showlakes": true,
           "showland": true,
           "subunitcolor": "white"
          },
          "hoverlabel": {
           "align": "left"
          },
          "hovermode": "closest",
          "mapbox": {
           "style": "light"
          },
          "paper_bgcolor": "white",
          "plot_bgcolor": "#E5ECF6",
          "polar": {
           "angularaxis": {
            "gridcolor": "white",
            "linecolor": "white",
            "ticks": ""
           },
           "bgcolor": "#E5ECF6",
           "radialaxis": {
            "gridcolor": "white",
            "linecolor": "white",
            "ticks": ""
           }
          },
          "scene": {
           "xaxis": {
            "backgroundcolor": "#E5ECF6",
            "gridcolor": "white",
            "gridwidth": 2,
            "linecolor": "white",
            "showbackground": true,
            "ticks": "",
            "zerolinecolor": "white"
           },
           "yaxis": {
            "backgroundcolor": "#E5ECF6",
            "gridcolor": "white",
            "gridwidth": 2,
            "linecolor": "white",
            "showbackground": true,
            "ticks": "",
            "zerolinecolor": "white"
           },
           "zaxis": {
            "backgroundcolor": "#E5ECF6",
            "gridcolor": "white",
            "gridwidth": 2,
            "linecolor": "white",
            "showbackground": true,
            "ticks": "",
            "zerolinecolor": "white"
           }
          },
          "shapedefaults": {
           "line": {
            "color": "#2a3f5f"
           }
          },
          "ternary": {
           "aaxis": {
            "gridcolor": "white",
            "linecolor": "white",
            "ticks": ""
           },
           "baxis": {
            "gridcolor": "white",
            "linecolor": "white",
            "ticks": ""
           },
           "bgcolor": "#E5ECF6",
           "caxis": {
            "gridcolor": "white",
            "linecolor": "white",
            "ticks": ""
           }
          },
          "title": {
           "x": 0.05
          },
          "xaxis": {
           "automargin": true,
           "gridcolor": "white",
           "linecolor": "white",
           "ticks": "",
           "title": {
            "standoff": 15
           },
           "zerolinecolor": "white",
           "zerolinewidth": 2
          },
          "yaxis": {
           "automargin": true,
           "gridcolor": "white",
           "linecolor": "white",
           "ticks": "",
           "title": {
            "standoff": 15
           },
           "zerolinecolor": "white",
           "zerolinewidth": 2
          }
         }
        },
        "title": {
         "text": "Model R2 Scores by Fingerprint Type"
        },
        "width": 1150,
        "xaxis": {
         "title": {
          "text": "Model"
         }
        },
        "yaxis": {
         "title": {
          "text": "R2 Score"
         }
        }
       }
      }
     },
     "metadata": {},
     "output_type": "display_data"
    }
   ],
   "source": [
    "import plotly.graph_objects as go\n",
    "# Create a bar plot\n",
    "fig = go.Figure()\n",
    "\n",
    "# Add bars for each fingerprint type\n",
    "for fingerprint_type in final_results['Fingerprint Type'].unique():\n",
    "    filtered_df = final_results[final_results['Fingerprint Type'] == fingerprint_type]\n",
    "    fig.add_trace(go.Bar(\n",
    "        x=filtered_df['Model'],\n",
    "        y=filtered_df['R2'],\n",
    "        name=fingerprint_type,\n",
    "        text=filtered_df['R2'].round(4),\n",
    "        textposition='auto' \n",
    "    ))\n",
    "\n",
    "# Update layout\n",
    "fig.update_layout(\n",
    "    title='Model R2 Scores by Fingerprint Type',\n",
    "    xaxis_title='Model',\n",
    "    yaxis_title='R2 Score',\n",
    "    barmode='group',  # Group bars together\n",
    "    height=600,\n",
    "    width=1150\n",
    ")\n",
    "\n",
    "# Show the plot\n",
    "fig.show()"
   ]
  },
  {
   "cell_type": "code",
   "execution_count": 12,
   "metadata": {},
   "outputs": [
    {
     "data": {
      "application/vnd.plotly.v1+json": {
       "config": {
        "plotlyServerURL": "https://plot.ly"
       },
       "data": [
        {
         "marker": {
          "color": [
           "red",
           "blue",
           "blue",
           "blue"
          ]
         },
         "name": "Morgan",
         "text": [
          0.8673,
          0.8368,
          0.7938,
          0.748
         ],
         "textposition": "auto",
         "type": "bar",
         "x": [
          "Light Gradient Boosting Machine",
          "Bayesian Ridge",
          "K Neighbors Regressor",
          "Passive Aggressive Regressor"
         ],
         "y": [
          0.8673,
          0.8368,
          0.7938,
          0.748
         ]
        },
        {
         "marker": {
          "color": [
           "blue",
           "blue",
           "blue",
           "blue"
          ]
         },
         "name": "MACCS",
         "text": [
          0.7471,
          0.7105,
          0.5966,
          0.4441
         ],
         "textposition": "auto",
         "type": "bar",
         "x": [
          "Light Gradient Boosting Machine",
          "K Neighbors Regressor",
          "Bayesian Ridge",
          "Passive Aggressive Regressor"
         ],
         "y": [
          0.7471,
          0.7105,
          0.5966,
          0.4441
         ]
        },
        {
         "marker": {
          "color": [
           "blue",
           "blue",
           "blue",
           "blue"
          ]
         },
         "name": "AtomPair",
         "text": [
          0.6663,
          0.5994,
          0.4906,
          0.256
         ],
         "textposition": "auto",
         "type": "bar",
         "x": [
          "Light Gradient Boosting Machine",
          "K Neighbors Regressor",
          "Bayesian Ridge",
          "Passive Aggressive Regressor"
         ],
         "y": [
          0.6663,
          0.5994,
          0.4906,
          0.256
         ]
        },
        {
         "marker": {
          "color": [
           "blue",
           "blue",
           "blue",
           "blue"
          ]
         },
         "name": "FCFP",
         "text": [
          0.8514,
          0.8069,
          0.8062,
          0.6975
         ],
         "textposition": "auto",
         "type": "bar",
         "x": [
          "Light Gradient Boosting Machine",
          "Bayesian Ridge",
          "K Neighbors Regressor",
          "Passive Aggressive Regressor"
         ],
         "y": [
          0.8514,
          0.8069,
          0.8062,
          0.6975
         ]
        }
       ],
       "layout": {
        "annotations": [
         {
          "arrowhead": 2,
          "ax": 0,
          "ay": -40,
          "showarrow": true,
          "text": "Best Model: Light Gradient Boosting Machine<br>Fingerprint Type: Morgan<br>R2: 0.8673",
          "x": "Light Gradient Boosting Machine",
          "y": 0.8673
         }
        ],
        "barmode": "group",
        "height": 800,
        "template": {
         "data": {
          "bar": [
           {
            "error_x": {
             "color": "#2a3f5f"
            },
            "error_y": {
             "color": "#2a3f5f"
            },
            "marker": {
             "line": {
              "color": "#E5ECF6",
              "width": 0.5
             },
             "pattern": {
              "fillmode": "overlay",
              "size": 10,
              "solidity": 0.2
             }
            },
            "type": "bar"
           }
          ],
          "barpolar": [
           {
            "marker": {
             "line": {
              "color": "#E5ECF6",
              "width": 0.5
             },
             "pattern": {
              "fillmode": "overlay",
              "size": 10,
              "solidity": 0.2
             }
            },
            "type": "barpolar"
           }
          ],
          "carpet": [
           {
            "aaxis": {
             "endlinecolor": "#2a3f5f",
             "gridcolor": "white",
             "linecolor": "white",
             "minorgridcolor": "white",
             "startlinecolor": "#2a3f5f"
            },
            "baxis": {
             "endlinecolor": "#2a3f5f",
             "gridcolor": "white",
             "linecolor": "white",
             "minorgridcolor": "white",
             "startlinecolor": "#2a3f5f"
            },
            "type": "carpet"
           }
          ],
          "choropleth": [
           {
            "colorbar": {
             "outlinewidth": 0,
             "ticks": ""
            },
            "type": "choropleth"
           }
          ],
          "contour": [
           {
            "colorbar": {
             "outlinewidth": 0,
             "ticks": ""
            },
            "colorscale": [
             [
              0,
              "#0d0887"
             ],
             [
              0.1111111111111111,
              "#46039f"
             ],
             [
              0.2222222222222222,
              "#7201a8"
             ],
             [
              0.3333333333333333,
              "#9c179e"
             ],
             [
              0.4444444444444444,
              "#bd3786"
             ],
             [
              0.5555555555555556,
              "#d8576b"
             ],
             [
              0.6666666666666666,
              "#ed7953"
             ],
             [
              0.7777777777777778,
              "#fb9f3a"
             ],
             [
              0.8888888888888888,
              "#fdca26"
             ],
             [
              1,
              "#f0f921"
             ]
            ],
            "type": "contour"
           }
          ],
          "contourcarpet": [
           {
            "colorbar": {
             "outlinewidth": 0,
             "ticks": ""
            },
            "type": "contourcarpet"
           }
          ],
          "heatmap": [
           {
            "colorbar": {
             "outlinewidth": 0,
             "ticks": ""
            },
            "colorscale": [
             [
              0,
              "#0d0887"
             ],
             [
              0.1111111111111111,
              "#46039f"
             ],
             [
              0.2222222222222222,
              "#7201a8"
             ],
             [
              0.3333333333333333,
              "#9c179e"
             ],
             [
              0.4444444444444444,
              "#bd3786"
             ],
             [
              0.5555555555555556,
              "#d8576b"
             ],
             [
              0.6666666666666666,
              "#ed7953"
             ],
             [
              0.7777777777777778,
              "#fb9f3a"
             ],
             [
              0.8888888888888888,
              "#fdca26"
             ],
             [
              1,
              "#f0f921"
             ]
            ],
            "type": "heatmap"
           }
          ],
          "heatmapgl": [
           {
            "colorbar": {
             "outlinewidth": 0,
             "ticks": ""
            },
            "colorscale": [
             [
              0,
              "#0d0887"
             ],
             [
              0.1111111111111111,
              "#46039f"
             ],
             [
              0.2222222222222222,
              "#7201a8"
             ],
             [
              0.3333333333333333,
              "#9c179e"
             ],
             [
              0.4444444444444444,
              "#bd3786"
             ],
             [
              0.5555555555555556,
              "#d8576b"
             ],
             [
              0.6666666666666666,
              "#ed7953"
             ],
             [
              0.7777777777777778,
              "#fb9f3a"
             ],
             [
              0.8888888888888888,
              "#fdca26"
             ],
             [
              1,
              "#f0f921"
             ]
            ],
            "type": "heatmapgl"
           }
          ],
          "histogram": [
           {
            "marker": {
             "pattern": {
              "fillmode": "overlay",
              "size": 10,
              "solidity": 0.2
             }
            },
            "type": "histogram"
           }
          ],
          "histogram2d": [
           {
            "colorbar": {
             "outlinewidth": 0,
             "ticks": ""
            },
            "colorscale": [
             [
              0,
              "#0d0887"
             ],
             [
              0.1111111111111111,
              "#46039f"
             ],
             [
              0.2222222222222222,
              "#7201a8"
             ],
             [
              0.3333333333333333,
              "#9c179e"
             ],
             [
              0.4444444444444444,
              "#bd3786"
             ],
             [
              0.5555555555555556,
              "#d8576b"
             ],
             [
              0.6666666666666666,
              "#ed7953"
             ],
             [
              0.7777777777777778,
              "#fb9f3a"
             ],
             [
              0.8888888888888888,
              "#fdca26"
             ],
             [
              1,
              "#f0f921"
             ]
            ],
            "type": "histogram2d"
           }
          ],
          "histogram2dcontour": [
           {
            "colorbar": {
             "outlinewidth": 0,
             "ticks": ""
            },
            "colorscale": [
             [
              0,
              "#0d0887"
             ],
             [
              0.1111111111111111,
              "#46039f"
             ],
             [
              0.2222222222222222,
              "#7201a8"
             ],
             [
              0.3333333333333333,
              "#9c179e"
             ],
             [
              0.4444444444444444,
              "#bd3786"
             ],
             [
              0.5555555555555556,
              "#d8576b"
             ],
             [
              0.6666666666666666,
              "#ed7953"
             ],
             [
              0.7777777777777778,
              "#fb9f3a"
             ],
             [
              0.8888888888888888,
              "#fdca26"
             ],
             [
              1,
              "#f0f921"
             ]
            ],
            "type": "histogram2dcontour"
           }
          ],
          "mesh3d": [
           {
            "colorbar": {
             "outlinewidth": 0,
             "ticks": ""
            },
            "type": "mesh3d"
           }
          ],
          "parcoords": [
           {
            "line": {
             "colorbar": {
              "outlinewidth": 0,
              "ticks": ""
             }
            },
            "type": "parcoords"
           }
          ],
          "pie": [
           {
            "automargin": true,
            "type": "pie"
           }
          ],
          "scatter": [
           {
            "fillpattern": {
             "fillmode": "overlay",
             "size": 10,
             "solidity": 0.2
            },
            "type": "scatter"
           }
          ],
          "scatter3d": [
           {
            "line": {
             "colorbar": {
              "outlinewidth": 0,
              "ticks": ""
             }
            },
            "marker": {
             "colorbar": {
              "outlinewidth": 0,
              "ticks": ""
             }
            },
            "type": "scatter3d"
           }
          ],
          "scattercarpet": [
           {
            "marker": {
             "colorbar": {
              "outlinewidth": 0,
              "ticks": ""
             }
            },
            "type": "scattercarpet"
           }
          ],
          "scattergeo": [
           {
            "marker": {
             "colorbar": {
              "outlinewidth": 0,
              "ticks": ""
             }
            },
            "type": "scattergeo"
           }
          ],
          "scattergl": [
           {
            "marker": {
             "colorbar": {
              "outlinewidth": 0,
              "ticks": ""
             }
            },
            "type": "scattergl"
           }
          ],
          "scattermapbox": [
           {
            "marker": {
             "colorbar": {
              "outlinewidth": 0,
              "ticks": ""
             }
            },
            "type": "scattermapbox"
           }
          ],
          "scatterpolar": [
           {
            "marker": {
             "colorbar": {
              "outlinewidth": 0,
              "ticks": ""
             }
            },
            "type": "scatterpolar"
           }
          ],
          "scatterpolargl": [
           {
            "marker": {
             "colorbar": {
              "outlinewidth": 0,
              "ticks": ""
             }
            },
            "type": "scatterpolargl"
           }
          ],
          "scatterternary": [
           {
            "marker": {
             "colorbar": {
              "outlinewidth": 0,
              "ticks": ""
             }
            },
            "type": "scatterternary"
           }
          ],
          "surface": [
           {
            "colorbar": {
             "outlinewidth": 0,
             "ticks": ""
            },
            "colorscale": [
             [
              0,
              "#0d0887"
             ],
             [
              0.1111111111111111,
              "#46039f"
             ],
             [
              0.2222222222222222,
              "#7201a8"
             ],
             [
              0.3333333333333333,
              "#9c179e"
             ],
             [
              0.4444444444444444,
              "#bd3786"
             ],
             [
              0.5555555555555556,
              "#d8576b"
             ],
             [
              0.6666666666666666,
              "#ed7953"
             ],
             [
              0.7777777777777778,
              "#fb9f3a"
             ],
             [
              0.8888888888888888,
              "#fdca26"
             ],
             [
              1,
              "#f0f921"
             ]
            ],
            "type": "surface"
           }
          ],
          "table": [
           {
            "cells": {
             "fill": {
              "color": "#EBF0F8"
             },
             "line": {
              "color": "white"
             }
            },
            "header": {
             "fill": {
              "color": "#C8D4E3"
             },
             "line": {
              "color": "white"
             }
            },
            "type": "table"
           }
          ]
         },
         "layout": {
          "annotationdefaults": {
           "arrowcolor": "#2a3f5f",
           "arrowhead": 0,
           "arrowwidth": 1
          },
          "autotypenumbers": "strict",
          "coloraxis": {
           "colorbar": {
            "outlinewidth": 0,
            "ticks": ""
           }
          },
          "colorscale": {
           "diverging": [
            [
             0,
             "#8e0152"
            ],
            [
             0.1,
             "#c51b7d"
            ],
            [
             0.2,
             "#de77ae"
            ],
            [
             0.3,
             "#f1b6da"
            ],
            [
             0.4,
             "#fde0ef"
            ],
            [
             0.5,
             "#f7f7f7"
            ],
            [
             0.6,
             "#e6f5d0"
            ],
            [
             0.7,
             "#b8e186"
            ],
            [
             0.8,
             "#7fbc41"
            ],
            [
             0.9,
             "#4d9221"
            ],
            [
             1,
             "#276419"
            ]
           ],
           "sequential": [
            [
             0,
             "#0d0887"
            ],
            [
             0.1111111111111111,
             "#46039f"
            ],
            [
             0.2222222222222222,
             "#7201a8"
            ],
            [
             0.3333333333333333,
             "#9c179e"
            ],
            [
             0.4444444444444444,
             "#bd3786"
            ],
            [
             0.5555555555555556,
             "#d8576b"
            ],
            [
             0.6666666666666666,
             "#ed7953"
            ],
            [
             0.7777777777777778,
             "#fb9f3a"
            ],
            [
             0.8888888888888888,
             "#fdca26"
            ],
            [
             1,
             "#f0f921"
            ]
           ],
           "sequentialminus": [
            [
             0,
             "#0d0887"
            ],
            [
             0.1111111111111111,
             "#46039f"
            ],
            [
             0.2222222222222222,
             "#7201a8"
            ],
            [
             0.3333333333333333,
             "#9c179e"
            ],
            [
             0.4444444444444444,
             "#bd3786"
            ],
            [
             0.5555555555555556,
             "#d8576b"
            ],
            [
             0.6666666666666666,
             "#ed7953"
            ],
            [
             0.7777777777777778,
             "#fb9f3a"
            ],
            [
             0.8888888888888888,
             "#fdca26"
            ],
            [
             1,
             "#f0f921"
            ]
           ]
          },
          "colorway": [
           "#636efa",
           "#EF553B",
           "#00cc96",
           "#ab63fa",
           "#FFA15A",
           "#19d3f3",
           "#FF6692",
           "#B6E880",
           "#FF97FF",
           "#FECB52"
          ],
          "font": {
           "color": "#2a3f5f"
          },
          "geo": {
           "bgcolor": "white",
           "lakecolor": "white",
           "landcolor": "#E5ECF6",
           "showlakes": true,
           "showland": true,
           "subunitcolor": "white"
          },
          "hoverlabel": {
           "align": "left"
          },
          "hovermode": "closest",
          "mapbox": {
           "style": "light"
          },
          "paper_bgcolor": "white",
          "plot_bgcolor": "#E5ECF6",
          "polar": {
           "angularaxis": {
            "gridcolor": "white",
            "linecolor": "white",
            "ticks": ""
           },
           "bgcolor": "#E5ECF6",
           "radialaxis": {
            "gridcolor": "white",
            "linecolor": "white",
            "ticks": ""
           }
          },
          "scene": {
           "xaxis": {
            "backgroundcolor": "#E5ECF6",
            "gridcolor": "white",
            "gridwidth": 2,
            "linecolor": "white",
            "showbackground": true,
            "ticks": "",
            "zerolinecolor": "white"
           },
           "yaxis": {
            "backgroundcolor": "#E5ECF6",
            "gridcolor": "white",
            "gridwidth": 2,
            "linecolor": "white",
            "showbackground": true,
            "ticks": "",
            "zerolinecolor": "white"
           },
           "zaxis": {
            "backgroundcolor": "#E5ECF6",
            "gridcolor": "white",
            "gridwidth": 2,
            "linecolor": "white",
            "showbackground": true,
            "ticks": "",
            "zerolinecolor": "white"
           }
          },
          "shapedefaults": {
           "line": {
            "color": "#2a3f5f"
           }
          },
          "ternary": {
           "aaxis": {
            "gridcolor": "white",
            "linecolor": "white",
            "ticks": ""
           },
           "baxis": {
            "gridcolor": "white",
            "linecolor": "white",
            "ticks": ""
           },
           "bgcolor": "#E5ECF6",
           "caxis": {
            "gridcolor": "white",
            "linecolor": "white",
            "ticks": ""
           }
          },
          "title": {
           "x": 0.05
          },
          "xaxis": {
           "automargin": true,
           "gridcolor": "white",
           "linecolor": "white",
           "ticks": "",
           "title": {
            "standoff": 15
           },
           "zerolinecolor": "white",
           "zerolinewidth": 2
          },
          "yaxis": {
           "automargin": true,
           "gridcolor": "white",
           "linecolor": "white",
           "ticks": "",
           "title": {
            "standoff": 15
           },
           "zerolinecolor": "white",
           "zerolinewidth": 2
          }
         }
        },
        "title": {
         "text": "Model R2 Scores by Fingerprint Type"
        },
        "width": 1000,
        "xaxis": {
         "title": {
          "text": "Model"
         }
        },
        "yaxis": {
         "title": {
          "text": "R2 Score"
         }
        }
       }
      }
     },
     "metadata": {},
     "output_type": "display_data"
    }
   ],
   "source": [
    "import plotly.graph_objects as go\n",
    "\n",
    "# Find the best model and fingerprint type\n",
    "best_row = final_results.loc[final_results['R2'].idxmax()]\n",
    "best_model = best_row['Model']\n",
    "best_fingerprint_type = best_row['Fingerprint Type']\n",
    "best_r2 = best_row['R2']\n",
    "\n",
    "# Create a bar plot\n",
    "fig = go.Figure()\n",
    "\n",
    "# Add bars for each fingerprint type\n",
    "for fingerprint_type in final_results['Fingerprint Type'].unique():\n",
    "    filtered_df = final_results[final_results['Fingerprint Type'] == fingerprint_type]\n",
    "    fig.add_trace(go.Bar(\n",
    "        x=filtered_df['Model'],\n",
    "        y=filtered_df['R2'],\n",
    "        name=fingerprint_type,\n",
    "        text=filtered_df['R2'].round(4),\n",
    "        textposition='auto',\n",
    "        marker=dict(color=['red' if (row['Model'] == best_model and row['Fingerprint Type'] == best_fingerprint_type) else 'blue' for index, row in filtered_df.iterrows()])\n",
    "    ))\n",
    "\n",
    "# Add annotation for the best model\n",
    "fig.add_annotation(\n",
    "    x=best_model,\n",
    "    y=best_r2,\n",
    "    text=f\"Best Model: {best_model}<br>Fingerprint Type: {best_fingerprint_type}<br>R2: {best_r2:.4f}\",\n",
    "    showarrow=True,\n",
    "    arrowhead=2,\n",
    "    ax=0,\n",
    "    ay=-40\n",
    ")\n",
    "\n",
    "# Update layout\n",
    "fig.update_layout(\n",
    "    title='Model R2 Scores by Fingerprint Type',\n",
    "    xaxis_title='Model',\n",
    "    yaxis_title='R2 Score',\n",
    "    barmode='group',  # Group bars together\n",
    "    height=800,\n",
    "    width=1000\n",
    ")\n",
    "\n",
    "# Show the plot\n",
    "fig.show()"
   ]
  }
 ],
 "metadata": {
  "kernelspec": {
   "display_name": "Python 3",
   "language": "python",
   "name": "python3"
  },
  "language_info": {
   "codemirror_mode": {
    "name": "ipython",
    "version": 3
   },
   "file_extension": ".py",
   "mimetype": "text/x-python",
   "name": "python",
   "nbconvert_exporter": "python",
   "pygments_lexer": "ipython3",
   "version": "3.11.5"
  }
 },
 "nbformat": 4,
 "nbformat_minor": 2
}
