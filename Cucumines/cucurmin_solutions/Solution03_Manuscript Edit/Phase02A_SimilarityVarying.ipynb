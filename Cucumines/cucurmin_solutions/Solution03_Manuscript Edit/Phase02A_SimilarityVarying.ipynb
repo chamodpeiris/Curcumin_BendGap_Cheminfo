{
 "cells": [
  {
   "cell_type": "code",
   "execution_count": 16,
   "metadata": {},
   "outputs": [
    {
     "name": "stdout",
     "output_type": "stream",
     "text": [
      "CPU times: total: 12.7 s\n",
      "Wall time: 25.8 s\n"
     ]
    }
   ],
   "source": [
    "%%time\n",
    "import pandas as pd\n",
    "import numpy as np\n",
    "from rdkit import Chem, DataStructs\n",
    "from rdkit.Chem import AllChem, MACCSkeys, Descriptors\n",
    "\n",
    "# Defining the SMILES strings for the cucumin varients\n",
    "curcumin_variants = (\n",
    "    \"COc3cc(OC)c(C/C=C/C2=CC(/C=C/Cc1c(OC)cc(OC)cc1OC)=[O+][B-](F)(F)O2)c(OC)c3\",\n",
    "    \"COc3ccc(C/C=C/C2=[O+][B-](F)(F)OC(/C=C/Cc1c(OC)cc(OC)cc1OC)=C2)cc3\",\n",
    "    \"COc3ccc(C/C=C/C2=CC(/C=C/Cc1ccc(OC)cc1OC)=[O+][B-](F)(F)O2)c(OC)c3\",\n",
    "    \"COc5ccc(C/C=C/C4=[O+][B-](F)(F)OC(/C=C/Cc2c1ccccc1cc3ccccc23)=C4)cc5\",\n",
    "    \"COc3ccc(OC)c(C/C=C/C2=CC(/C=C/Cc1cc(OC)ccc1OC)=[O+][B-](F)(F)O2)c3\",\n",
    "    \"COc3cc(C/C=C/C2=CC(/C=C/Cc1ccc(O)c(OC)c1)=[O+][B-](F)(F)O2)ccc3O\",\n",
    "    \"F[B-]3(F)OC(/C=C/Cc1ccc(Br)cc1)=CC(/C=C/Cc2ccc(Br)cc2)=[O+]3\",\n",
    "    \"C=C(OC)c3ccc(C/C=C/C2=CC(/C=C/Cc1ccc(C(=C)OC)cc1)=[O+][B-](F)(F)O2)cc3\",\n",
    "    \"C=C(OC)c3ccc(C/C=C/C2=CC(/C=C/Cc1ccc(C(=C)OC)cc1)=[O+][B-](F)(F)O2)cc3\",\n",
    "    \"CN(C)c3ccc(C/C=C/C2=CC(/C=C/Cc1ccc(N(C)C)cc1)=[O+][B-](F)(F)O2)cc3\",\n",
    "    \"CCCOc1cc(N(CC)CC)ccc1C/C=C/C3=CC(/C=C/Cc2ccc(N(CC)CC)cc2OCCC)=[O+][B-](F)(F)O3\",\n",
    "    \"CCCOc1cc(N(CC)CC)ccc1C/C=C/C3=CC(/C=C/Cc2ccc(N(CC)CC)cc2OCCC)=[O+][B-](F)(F)O3\",\n",
    "    \"N#Cc3ccc(C/C=C/C2=[O+][B-](F)(F)OC(/C=C/Cc1ccccc1)=C2)cc3\",\n",
    "    \"COc6ccc(C/C=C/C5=CC(/C=C/Cc1cc2ccc3cccc4ccc(c1)c2c34)=[O+][B-](F)(F)O5)cc6\",\n",
    "    \"COc4ccc(C/C=C/C3=CC(/C=C/Cc1ccc(OC)c2ccccc12)=[O+][B-](F)(F)O3)c5ccccc45\",\n",
    "    \"CN(C)c4ccc(C/C=C/C3=CC(/C=C/Cc1ccc(N(C)C)c2ccccc12)=[O+][B-](F)(F)O3)c5ccccc45\",\n",
    "    \"N#Cc3ccc(C/C=C/C2=CC(/C=C/Cc1ccc(C#N)cc1)=[O+][B-](F)(F)O2)cc3\",\n",
    "    \"CCCCN(CCCC)c3ccc(C/C=C/C2=CC(/C=C/Cc1ccc(N(CCCC)CCCC)cc1)=[O+][B-](F)(F)O2)cc3\",\n",
    "    \"COc3ccc(C/C=C/C2=CC(/C=C/Cc1ccc(C#N)cc1)=[O+][B-](F)(F)O2)cc3\",\n",
    "    \"CN5/C(=C\\C\\C=C\\C3=CC(/C=C/C/C=C/2N(C)c1ccccc1C2(C)C)=[O+][B-](F)(F)O3)C(C)(C)c4ccccc45\",\n",
    "    \"COc3ccc(C/C=C/C2=[O+][B-](F)(F)OC(/C=C/Cc1ccc(SC)cc1)=C2)cc3\",\n",
    "    \"CSc3ccc(C/C=C/C2=CC(/C=C/Cc1ccc(SC)cc1)=[O+][B-](F)(F)O2)cc3\",\n",
    "    \"COc3ccc(C/C=C/C2=CC(/C=C/Cc1ccc(N(C)C)cc1)=[O+][B-](F)(F)O2)cc3\",\n",
    "    \"COc5ccc(C/C=C/C4=[O+][B-](F)(F)OC(/C=C/Cc3ccc2c1ccccc1n(C)c2c3)=C4)cc5\",\n",
    "    \"COc1ccccc1C/C=C/C3=CC(/C=C/Cc2ccccc2OC)=[O+][B-](F)(F)O3\",\n",
    "    \"CCCCCC(CC)c5ccc(c4ccc(C/C=C/C3=CC(/C=C/Cc2ccc(c1ccc(C(CC)CCCCC)s1)s2)=[O+][B-](F)(F)O3)s4)s5\"\n",
    ")\n",
    "\n",
    "# Defining the molecule names and HOMO-LUMO Gap\n",
    "molecule_names = ['2-ADMeO3', '3-MR83a', 'AD-10', 'AD-1013', 'AD-1022', 'AD-11', 'AD-12', 'AD-13', 'AD-13-DMF', 'AD-14-Moore', 'AD-15', 'AD-15-DMF', 'AD-16-DMF', 'AD-18', 'AD-24', 'AD-25', 'AD-3', 'AD-35', 'AD-4', 'AD-48', 'AD-5', 'AD-6', 'AD-7', 'AD-8', 'AD-9', 'YD-30']\n",
    "homo_lumo_gap = [3.077, 3.072, 3.259, 2.625, 2.938, 2.946, 3.191, 3.226, 3.228, 2.811, 2.971, 2.813, 3.231, 2.735, 2.878, 2.686, 3.215, 2.77, 3.001, 2.702, 2.97, 2.89, 2.859, 2.97, 3.137, 2.525]\n",
    "\n",
    "molecules = [Chem.MolFromSmiles(smiles) for smiles in curcumin_variants]\n",
    "mws = [round(Descriptors.MolWt(mol),3) for mol in molecules]\n",
    "logp = [Descriptors.MolLogP(mol) for mol in molecules]\n",
    "\n",
    "# Create the initial DataFrame\n",
    "data = {\n",
    "    'Molecule': molecule_names,\n",
    "    'Molecular Weight': mws,\n",
    "    'LogP': logp,\n",
    "    'Homo-Lumo Gap (eV)': homo_lumo_gap,\n",
    "    'Smiles': curcumin_variants\n",
    "}\n",
    "curcumin_df = pd.DataFrame(data)\n",
    "curcumin_df['mol'] = curcumin_df['Smiles'].apply(Chem.MolFromSmiles)\n",
    "\n",
    "# Harvard OPV dataset import\n",
    "data = pd.read_csv('https://raw.githubusercontent.com/AjStephan/havard-smile-opv/main/Non-fullerene%20small-molecules%20acceptors.csv')\n",
    "opv_df = data.drop(columns=[\n",
    "    'index', 'inchikey', 'HOMO_calc', 'LUMO_calc', 'LUMO_calib', 'LUMO_calib_stds',\n",
    "    'HOMO_calib', 'HOMO_calib_stds','GAP_calc', 'molW', 'PCE_calc', 'Voc_calc', 'Jsc_calc',\n",
    "    'FF_calc', 'EQE_calc', 'PCE_calib', 'Voc_calib', 'Jsc_calib', 'FF_calib',\n",
    "    'EQE_calib', 'PCE_cdiff', 'PCE_calib_plus'], axis=1)\n",
    "\n",
    "opv_df['mol'] = opv_df['smiles'].apply(Chem.MolFromSmiles)"
   ]
  },
  {
   "cell_type": "code",
   "execution_count": 17,
   "metadata": {},
   "outputs": [
    {
     "name": "stdout",
     "output_type": "stream",
     "text": [
      "Similarity calculation for morgan fingerprint with dice metric done --> shape: (15587, 4)\n",
      "Similarity calculation for morgan fingerprint with cosine metric done --> shape: (15393, 4)\n",
      "Similarity calculation for morgan fingerprint with kulczynski metric done --> shape: (15860, 4)\n",
      "Similarity calculation for morgan fingerprint with tanimoto metric done --> shape: (15587, 4)\n",
      "Similarity calculation for atom_pair fingerprint with dice metric done --> shape: (15378, 4)\n",
      "Similarity calculation for atom_pair fingerprint with cosine metric done --> shape: (15382, 4)\n",
      "Similarity calculation for atom_pair fingerprint with kulczynski metric done --> shape: (15377, 4)\n",
      "Similarity calculation for atom_pair fingerprint with tanimoto metric done --> shape: (15378, 4)\n",
      "Similarity calculation for maccs fingerprint with dice metric done --> shape: (15431, 4)\n",
      "Similarity calculation for maccs fingerprint with cosine metric done --> shape: (15441, 4)\n",
      "Similarity calculation for maccs fingerprint with kulczynski metric done --> shape: (15597, 4)\n",
      "Similarity calculation for maccs fingerprint with tanimoto metric done --> shape: (15431, 4)\n",
      "CPU times: total: 8min 2s\n",
      "Wall time: 8min 39s\n"
     ]
    }
   ],
   "source": [
    "%%time\n",
    "import pandas as pd\n",
    "import numpy as np\n",
    "from rdkit import Chem, DataStructs\n",
    "from rdkit.Chem import AllChem, MACCSkeys, Descriptors\n",
    "\n",
    "# Defining the molecule to be used for similarity search\n",
    "reference_molecule_smiles = 'Cc3ccc(/C=C/C2=CC(/C=C/c1ccc(C)cc1)=[O+][B-](F)(F)O2)cc3'\n",
    "reference_molecule = Chem.MolFromSmiles(reference_molecule_smiles)\n",
    "\n",
    "# Function to calculate similarity\n",
    "def calculate_similarity(fp1, fp2, metric=\"dice\"):\n",
    "    if metric == \"dice\":\n",
    "        return DataStructs.DiceSimilarity(fp1, fp2)\n",
    "    elif metric == \"cosine\":\n",
    "        return DataStructs.CosineSimilarity(fp1, fp2)\n",
    "    elif metric == \"kulczynski\":\n",
    "        return DataStructs.KulczynskiSimilarity(fp1, fp2)\n",
    "    elif metric == \"tanimoto\":\n",
    "        return DataStructs.TanimotoSimilarity(fp1, fp2)\n",
    "    else:\n",
    "        raise ValueError(f\"Unknown similarity metric: {metric}\")\n",
    "\n",
    "# atom pair fingerprint function convert to bitvector\n",
    "def atom_pair_to_bitvector(mol):\n",
    "    fp = AllChem.GetAtomPairFingerprint(mol)\n",
    "    bit_fp = AllChem.GetHashedAtomPairFingerprintAsBitVect(mol, nBits=2048)\n",
    "    return bit_fp\n",
    "\n",
    "# Dictionary to hold the dataframes\n",
    "similarity_dfs = {}\n",
    "\n",
    "# Fingerprint types and similarity metrics\n",
    "fingerprints = {\n",
    "    \"morgan\": lambda mol: AllChem.GetMorganFingerprintAsBitVect(mol, 2, nBits=2048),\n",
    "    \"atom_pair\": lambda mol: atom_pair_to_bitvector(mol),\n",
    "    \"maccs\": lambda mol: MACCSkeys.GenMACCSKeys(mol)\n",
    "}\n",
    "\n",
    "metrics = [\"dice\", \"cosine\", \"kulczynski\", \"tanimoto\"]\n",
    "\n",
    "# Loop over fingerprint types and similarity metrics\n",
    "for fp_name, fp_func in fingerprints.items():\n",
    "    reference_fp = fp_func(reference_molecule)\n",
    "    \n",
    "    for metric in metrics:\n",
    "        # Calculate similarity and create a new dataframe with similarity scores\n",
    "        opv_df_sim = opv_df.copy()\n",
    "        opv_df_sim[f'similarity_{fp_name}_{metric}'] = opv_df_sim['mol'].apply(\n",
    "            lambda x: calculate_similarity(fp_func(x), reference_fp, metric)\n",
    "        )\n",
    "        \n",
    "        # Filter top 30% similar molecules\n",
    "        quantile_value = opv_df_sim[f'similarity_{fp_name}_{metric}'].quantile(0.7)\n",
    "        top_similar_df = opv_df_sim[opv_df_sim[f'similarity_{fp_name}_{metric}'] >= quantile_value]\n",
    "        \n",
    "        # Store in dictionary\n",
    "        similarity_dfs[f'similarity_{fp_name}_{metric}_top30'] = top_similar_df\n",
    "\n",
    "        print(f\"Similarity calculation for {fp_name} fingerprint with {metric} metric done --> shape: {top_similar_df.shape}\")"
   ]
  },
  {
   "cell_type": "code",
   "execution_count": 18,
   "metadata": {},
   "outputs": [
    {
     "name": "stdout",
     "output_type": "stream",
     "text": [
      "Processing similarity_morgan_dice_top30...\n",
      "Finished processing similarity_morgan_dice_top30 - shape (15587, 2052)\n",
      "Processing similarity_morgan_cosine_top30...\n",
      "Finished processing similarity_morgan_cosine_top30 - shape (15393, 2052)\n",
      "Processing similarity_morgan_kulczynski_top30...\n",
      "Finished processing similarity_morgan_kulczynski_top30 - shape (15860, 2052)\n",
      "Processing similarity_morgan_tanimoto_top30...\n",
      "Finished processing similarity_morgan_tanimoto_top30 - shape (15587, 2052)\n",
      "Processing similarity_atom_pair_dice_top30...\n",
      "Finished processing similarity_atom_pair_dice_top30 - shape (15378, 2052)\n",
      "Processing similarity_atom_pair_cosine_top30...\n",
      "Finished processing similarity_atom_pair_cosine_top30 - shape (15382, 2052)\n",
      "Processing similarity_atom_pair_kulczynski_top30...\n",
      "Finished processing similarity_atom_pair_kulczynski_top30 - shape (15377, 2052)\n",
      "Processing similarity_atom_pair_tanimoto_top30...\n",
      "Finished processing similarity_atom_pair_tanimoto_top30 - shape (15378, 2052)\n",
      "Processing similarity_maccs_dice_top30...\n",
      "Finished processing similarity_maccs_dice_top30 - shape (15431, 2052)\n",
      "Processing similarity_maccs_cosine_top30...\n",
      "Finished processing similarity_maccs_cosine_top30 - shape (15441, 2052)\n",
      "Processing similarity_maccs_kulczynski_top30...\n",
      "Finished processing similarity_maccs_kulczynski_top30 - shape (15597, 2052)\n",
      "Processing similarity_maccs_tanimoto_top30...\n",
      "Finished processing similarity_maccs_tanimoto_top30 - shape (15431, 2052)\n",
      "CPU times: total: 3min 57s\n",
      "Wall time: 4min 16s\n"
     ]
    }
   ],
   "source": [
    "%%time\n",
    "import pandas as pd\n",
    "from rdkit import Chem\n",
    "from rdkit.Chem import AllChem\n",
    "\n",
    "# Function to generate Morgan fingerprints safely\n",
    "def generate_morgan_fingerprint_safe(smiles):\n",
    "    \"\"\"Generate Morgan fingerprint and handle errors gracefully.\"\"\"\n",
    "    try:\n",
    "        mol = Chem.MolFromSmiles(smiles)\n",
    "        if mol:\n",
    "            return list(AllChem.GetMorganFingerprintAsBitVect(mol, 2, nBits=2048))\n",
    "    except Exception as e:\n",
    "        print(f\"Error generating fingerprint for SMILES {smiles}: {e}\")\n",
    "        return None\n",
    "    return None\n",
    "\n",
    "# Dictionary to store processed dataframes\n",
    "processed_similarity_dfs = {}\n",
    "\n",
    "# Process each dataframe\n",
    "for combination, df in similarity_dfs.items():\n",
    "    print(f\"Processing {combination}...\")\n",
    "    \n",
    "    # Make sure df is a copy, not a slice, to avoid the warning\n",
    "    df = df.copy()\n",
    "\n",
    "    # Apply the function and store the result in a new column\n",
    "    df.loc[:, 'Morgan_Fingerprints'] = df['smiles'].apply(generate_morgan_fingerprint_safe)\n",
    "    df = df[df['Morgan_Fingerprints'].notnull()].reset_index(drop=True)\n",
    "    \n",
    "    # Convert fingerprints to a DataFrame and concatenate with the original\n",
    "    morgan_df = pd.DataFrame(df['Morgan_Fingerprints'].tolist(), columns=[f'morgan_{i}' for i in range(2048)])\n",
    "    df_combined = pd.concat([df.drop(columns=['Morgan_Fingerprints']), morgan_df], axis=1)\n",
    "    \n",
    "    # Store the combined DataFrame\n",
    "    processed_similarity_dfs[combination] = df_combined\n",
    "    print(f\"Finished processing {combination} - shape {df_combined.shape}\")\n",
    "\n",
    "# Unpacking the dictionary to individual DataFrames\n",
    "for combination, df in processed_similarity_dfs.items():\n",
    "    globals()[f'similarity_dfs_{combination}'] = df"
   ]
  },
  {
   "cell_type": "code",
   "execution_count": 21,
   "metadata": {},
   "outputs": [
    {
     "name": "stdout",
     "output_type": "stream",
     "text": [
      "Processing similarity_dfs_similarity_morgan_dice_top30...\n",
      "[LightGBM] [Info] Auto-choosing row-wise multi-threading, the overhead of testing was 0.023567 seconds.\n",
      "You can set `force_row_wise=true` to remove the overhead.\n",
      "And if memory is not enough, you can set `force_col_wise=true`.\n",
      "[LightGBM] [Info] Total Bins 2302\n",
      "[LightGBM] [Info] Number of data points in the train set: 11690, number of used features: 1151\n",
      "[LightGBM] [Info] Start training from score 2.764779\n",
      "Done processing similarity_dfs_similarity_morgan_dice_top30 with R^2 score: 0.9398020190041924\n",
      "Processing similarity_dfs_similarity_morgan_cosine_top30...\n",
      "[LightGBM] [Info] Auto-choosing row-wise multi-threading, the overhead of testing was 0.024077 seconds.\n",
      "You can set `force_row_wise=true` to remove the overhead.\n",
      "And if memory is not enough, you can set `force_col_wise=true`.\n",
      "[LightGBM] [Info] Total Bins 2262\n",
      "[LightGBM] [Info] Number of data points in the train set: 11544, number of used features: 1131\n",
      "[LightGBM] [Info] Start training from score 2.756515\n",
      "Done processing similarity_dfs_similarity_morgan_cosine_top30 with R^2 score: 0.9351186613326533\n",
      "Processing similarity_dfs_similarity_morgan_kulczynski_top30...\n",
      "[LightGBM] [Info] Auto-choosing row-wise multi-threading, the overhead of testing was 0.025907 seconds.\n",
      "You can set `force_row_wise=true` to remove the overhead.\n",
      "And if memory is not enough, you can set `force_col_wise=true`.\n",
      "[LightGBM] [Info] Total Bins 2280\n",
      "[LightGBM] [Info] Number of data points in the train set: 11895, number of used features: 1140\n",
      "[LightGBM] [Info] Start training from score 2.742631\n",
      "Done processing similarity_dfs_similarity_morgan_kulczynski_top30 with R^2 score: 0.9344150864637872\n",
      "Processing similarity_dfs_similarity_morgan_tanimoto_top30...\n",
      "[LightGBM] [Info] Auto-choosing row-wise multi-threading, the overhead of testing was 0.019752 seconds.\n",
      "You can set `force_row_wise=true` to remove the overhead.\n",
      "And if memory is not enough, you can set `force_col_wise=true`.\n",
      "[LightGBM] [Info] Total Bins 2302\n",
      "[LightGBM] [Info] Number of data points in the train set: 11690, number of used features: 1151\n",
      "[LightGBM] [Info] Start training from score 2.764779\n",
      "Done processing similarity_dfs_similarity_morgan_tanimoto_top30 with R^2 score: 0.9398020190041924\n",
      "Processing similarity_dfs_similarity_atom_pair_dice_top30...\n",
      "[LightGBM] [Info] Auto-choosing row-wise multi-threading, the overhead of testing was 0.020065 seconds.\n",
      "You can set `force_row_wise=true` to remove the overhead.\n",
      "And if memory is not enough, you can set `force_col_wise=true`.\n",
      "[LightGBM] [Info] Total Bins 2280\n",
      "[LightGBM] [Info] Number of data points in the train set: 11533, number of used features: 1140\n",
      "[LightGBM] [Info] Start training from score 2.862827\n",
      "Done processing similarity_dfs_similarity_atom_pair_dice_top30 with R^2 score: 0.9276074084185486\n",
      "Processing similarity_dfs_similarity_atom_pair_cosine_top30...\n",
      "[LightGBM] [Info] Auto-choosing row-wise multi-threading, the overhead of testing was 0.020390 seconds.\n",
      "You can set `force_row_wise=true` to remove the overhead.\n",
      "And if memory is not enough, you can set `force_col_wise=true`.\n",
      "[LightGBM] [Info] Total Bins 2288\n",
      "[LightGBM] [Info] Number of data points in the train set: 11536, number of used features: 1144\n",
      "[LightGBM] [Info] Start training from score 2.785295\n",
      "Done processing similarity_dfs_similarity_atom_pair_cosine_top30 with R^2 score: 0.9293196203560332\n",
      "Processing similarity_dfs_similarity_atom_pair_kulczynski_top30...\n",
      "[LightGBM] [Info] Auto-choosing row-wise multi-threading, the overhead of testing was 0.024864 seconds.\n",
      "You can set `force_row_wise=true` to remove the overhead.\n",
      "And if memory is not enough, you can set `force_col_wise=true`.\n",
      "[LightGBM] [Info] Total Bins 2332\n",
      "[LightGBM] [Info] Number of data points in the train set: 11532, number of used features: 1166\n",
      "[LightGBM] [Info] Start training from score 2.726119\n",
      "Done processing similarity_dfs_similarity_atom_pair_kulczynski_top30 with R^2 score: 0.9298419367636672\n",
      "Processing similarity_dfs_similarity_atom_pair_tanimoto_top30...\n",
      "[LightGBM] [Info] Auto-choosing row-wise multi-threading, the overhead of testing was 0.022446 seconds.\n",
      "You can set `force_row_wise=true` to remove the overhead.\n",
      "And if memory is not enough, you can set `force_col_wise=true`.\n",
      "[LightGBM] [Info] Total Bins 2280\n",
      "[LightGBM] [Info] Number of data points in the train set: 11533, number of used features: 1140\n",
      "[LightGBM] [Info] Start training from score 2.862827\n",
      "Done processing similarity_dfs_similarity_atom_pair_tanimoto_top30 with R^2 score: 0.9276074084185486\n",
      "Processing similarity_dfs_similarity_maccs_dice_top30...\n",
      "[LightGBM] [Info] Auto-choosing row-wise multi-threading, the overhead of testing was 0.020180 seconds.\n",
      "You can set `force_row_wise=true` to remove the overhead.\n",
      "And if memory is not enough, you can set `force_col_wise=true`.\n",
      "[LightGBM] [Info] Total Bins 2296\n",
      "[LightGBM] [Info] Number of data points in the train set: 11573, number of used features: 1148\n",
      "[LightGBM] [Info] Start training from score 2.864277\n",
      "Done processing similarity_dfs_similarity_maccs_dice_top30 with R^2 score: 0.9288217053124538\n",
      "Processing similarity_dfs_similarity_maccs_cosine_top30...\n",
      "[LightGBM] [Info] Auto-choosing row-wise multi-threading, the overhead of testing was 0.020884 seconds.\n",
      "You can set `force_row_wise=true` to remove the overhead.\n",
      "And if memory is not enough, you can set `force_col_wise=true`.\n",
      "[LightGBM] [Info] Total Bins 2292\n",
      "[LightGBM] [Info] Number of data points in the train set: 11580, number of used features: 1146\n",
      "[LightGBM] [Info] Start training from score 2.824902\n",
      "Done processing similarity_dfs_similarity_maccs_cosine_top30 with R^2 score: 0.9325258494192095\n",
      "Processing similarity_dfs_similarity_maccs_kulczynski_top30...\n",
      "[LightGBM] [Info] Auto-choosing row-wise multi-threading, the overhead of testing was 0.021218 seconds.\n",
      "You can set `force_row_wise=true` to remove the overhead.\n",
      "And if memory is not enough, you can set `force_col_wise=true`.\n",
      "[LightGBM] [Info] Total Bins 2278\n",
      "[LightGBM] [Info] Number of data points in the train set: 11697, number of used features: 1139\n",
      "[LightGBM] [Info] Start training from score 2.777426\n",
      "Done processing similarity_dfs_similarity_maccs_kulczynski_top30 with R^2 score: 0.9364081010414715\n",
      "Processing similarity_dfs_similarity_maccs_tanimoto_top30...\n",
      "[LightGBM] [Info] Auto-choosing row-wise multi-threading, the overhead of testing was 0.026785 seconds.\n",
      "You can set `force_row_wise=true` to remove the overhead.\n",
      "And if memory is not enough, you can set `force_col_wise=true`.\n",
      "[LightGBM] [Info] Total Bins 2296\n",
      "[LightGBM] [Info] Number of data points in the train set: 11573, number of used features: 1148\n",
      "[LightGBM] [Info] Start training from score 2.864277\n",
      "Done processing similarity_dfs_similarity_maccs_tanimoto_top30 with R^2 score: 0.9288217053124538\n"
     ]
    },
    {
     "data": {
      "text/html": [
       "<div>\n",
       "<style scoped>\n",
       "    .dataframe tbody tr th:only-of-type {\n",
       "        vertical-align: middle;\n",
       "    }\n",
       "\n",
       "    .dataframe tbody tr th {\n",
       "        vertical-align: top;\n",
       "    }\n",
       "\n",
       "    .dataframe thead th {\n",
       "        text-align: right;\n",
       "    }\n",
       "</style>\n",
       "<table border=\"1\" class=\"dataframe\">\n",
       "  <thead>\n",
       "    <tr style=\"text-align: right;\">\n",
       "      <th></th>\n",
       "      <th>similarity_method</th>\n",
       "      <th>r2_score</th>\n",
       "    </tr>\n",
       "  </thead>\n",
       "  <tbody>\n",
       "    <tr>\n",
       "      <th>0</th>\n",
       "      <td>similarity_dfs_similarity_morgan_dice_top30</td>\n",
       "      <td>0.939802</td>\n",
       "    </tr>\n",
       "    <tr>\n",
       "      <th>1</th>\n",
       "      <td>similarity_dfs_similarity_morgan_cosine_top30</td>\n",
       "      <td>0.935119</td>\n",
       "    </tr>\n",
       "    <tr>\n",
       "      <th>2</th>\n",
       "      <td>similarity_dfs_similarity_morgan_kulczynski_top30</td>\n",
       "      <td>0.934415</td>\n",
       "    </tr>\n",
       "    <tr>\n",
       "      <th>3</th>\n",
       "      <td>similarity_dfs_similarity_morgan_tanimoto_top30</td>\n",
       "      <td>0.939802</td>\n",
       "    </tr>\n",
       "    <tr>\n",
       "      <th>4</th>\n",
       "      <td>similarity_dfs_similarity_atom_pair_dice_top30</td>\n",
       "      <td>0.927607</td>\n",
       "    </tr>\n",
       "  </tbody>\n",
       "</table>\n",
       "</div>"
      ],
      "text/plain": [
       "                                   similarity_method  r2_score\n",
       "0        similarity_dfs_similarity_morgan_dice_top30  0.939802\n",
       "1      similarity_dfs_similarity_morgan_cosine_top30  0.935119\n",
       "2  similarity_dfs_similarity_morgan_kulczynski_top30  0.934415\n",
       "3    similarity_dfs_similarity_morgan_tanimoto_top30  0.939802\n",
       "4     similarity_dfs_similarity_atom_pair_dice_top30  0.927607"
      ]
     },
     "execution_count": 21,
     "metadata": {},
     "output_type": "execute_result"
    }
   ],
   "source": [
    "import lightgbm as lgb\n",
    "import pandas as pd\n",
    "from sklearn.model_selection import train_test_split\n",
    "from sklearn.metrics import r2_score\n",
    "\n",
    "# Define similarity methods based on your data\n",
    "similarity_methods = [\n",
    "    'morgan_dice', 'morgan_cosine', 'morgan_kulczynski', 'morgan_tanimoto',\n",
    "    'atom_pair_dice', 'atom_pair_cosine', 'atom_pair_kulczynski', 'atom_pair_tanimoto',\n",
    "    'maccs_dice', 'maccs_cosine', 'maccs_kulczynski', 'maccs_tanimoto'\n",
    "]\n",
    "\n",
    "# Load dataframes from global namespace\n",
    "dataframes = [\n",
    "    (f'similarity_dfs_similarity_{method}_top30', globals()[f'similarity_dfs_similarity_{method}_top30'])\n",
    "    for method in similarity_methods\n",
    "]\n",
    "\n",
    "# Tuned parameters for LightGBM\n",
    "tuned_params = {'n_estimators': 1000, 'learning_rate': 0.23685145356420312, 'num_leaves': 51}\n",
    "\n",
    "# To store results\n",
    "results = []\n",
    "\n",
    "for name, df in dataframes:\n",
    "    print(f\"Processing {name}...\")\n",
    "    X = df.iloc[:, 4:]  # Features\n",
    "    y = df['GAP_calib']  # Target variable\n",
    "\n",
    "    # Split the data into training and testing sets\n",
    "    X_train, X_test, y_train, y_test = train_test_split(X, y, test_size=0.25, random_state=123)\n",
    "\n",
    "    # Initialize and train the LightGBM model\n",
    "    model = lgb.LGBMRegressor(**tuned_params)\n",
    "    model.fit(X_train, y_train)\n",
    "\n",
    "    # Make predictions and calculate R^2 score\n",
    "    y_pred = model.predict(X_test)\n",
    "    r2 = r2_score(y_test, y_pred)\n",
    "    \n",
    "    # Store results\n",
    "    results.append({\n",
    "        'similarity_method': name,\n",
    "        'r2_score': r2\n",
    "    })\n",
    "\n",
    "    print(f\"Done processing {name} with R^2 score: {r2}\")\n",
    "\n",
    "# Convert results to a DataFrame for further analysis\n",
    "final_results_top30 = pd.DataFrame(results)\n",
    "final_results_top30.head()"
   ]
  },
  {
   "cell_type": "code",
   "execution_count": 29,
   "metadata": {},
   "outputs": [
    {
     "data": {
      "text/html": [
       "<div>\n",
       "<style scoped>\n",
       "    .dataframe tbody tr th:only-of-type {\n",
       "        vertical-align: middle;\n",
       "    }\n",
       "\n",
       "    .dataframe tbody tr th {\n",
       "        vertical-align: top;\n",
       "    }\n",
       "\n",
       "    .dataframe thead th {\n",
       "        text-align: right;\n",
       "    }\n",
       "</style>\n",
       "<table border=\"1\" class=\"dataframe\">\n",
       "  <thead>\n",
       "    <tr style=\"text-align: right;\">\n",
       "      <th></th>\n",
       "      <th>similarity_method</th>\n",
       "      <th>r2_score</th>\n",
       "      <th>Fingerprint type</th>\n",
       "      <th>Similarity Method</th>\n",
       "    </tr>\n",
       "  </thead>\n",
       "  <tbody>\n",
       "    <tr>\n",
       "      <th>0</th>\n",
       "      <td>similarity_dfs_similarity_morgan_dice_top30</td>\n",
       "      <td>0.939802</td>\n",
       "      <td>Morgan Fingerprint</td>\n",
       "      <td>Dice Similarity</td>\n",
       "    </tr>\n",
       "    <tr>\n",
       "      <th>1</th>\n",
       "      <td>similarity_dfs_similarity_morgan_cosine_top30</td>\n",
       "      <td>0.935119</td>\n",
       "      <td>Morgan Fingerprint</td>\n",
       "      <td>Cosine Similarity</td>\n",
       "    </tr>\n",
       "    <tr>\n",
       "      <th>2</th>\n",
       "      <td>similarity_dfs_similarity_morgan_kulczynski_top30</td>\n",
       "      <td>0.934415</td>\n",
       "      <td>Morgan Fingerprint</td>\n",
       "      <td>Kulczynski Similarity</td>\n",
       "    </tr>\n",
       "    <tr>\n",
       "      <th>3</th>\n",
       "      <td>similarity_dfs_similarity_morgan_tanimoto_top30</td>\n",
       "      <td>0.939802</td>\n",
       "      <td>Morgan Fingerprint</td>\n",
       "      <td>Tanimoto Similarity</td>\n",
       "    </tr>\n",
       "    <tr>\n",
       "      <th>4</th>\n",
       "      <td>similarity_dfs_similarity_atom_pair_dice_top30</td>\n",
       "      <td>0.927607</td>\n",
       "      <td>Atom Pair Fingerprint</td>\n",
       "      <td>Dice Similarity</td>\n",
       "    </tr>\n",
       "    <tr>\n",
       "      <th>5</th>\n",
       "      <td>similarity_dfs_similarity_atom_pair_cosine_top30</td>\n",
       "      <td>0.929320</td>\n",
       "      <td>Atom Pair Fingerprint</td>\n",
       "      <td>Cosine Similarity</td>\n",
       "    </tr>\n",
       "    <tr>\n",
       "      <th>6</th>\n",
       "      <td>similarity_dfs_similarity_atom_pair_kulczynski...</td>\n",
       "      <td>0.929842</td>\n",
       "      <td>Atom Pair Fingerprint</td>\n",
       "      <td>Kulczynski Similarity</td>\n",
       "    </tr>\n",
       "    <tr>\n",
       "      <th>7</th>\n",
       "      <td>similarity_dfs_similarity_atom_pair_tanimoto_t...</td>\n",
       "      <td>0.927607</td>\n",
       "      <td>Atom Pair Fingerprint</td>\n",
       "      <td>Tanimoto Similarity</td>\n",
       "    </tr>\n",
       "    <tr>\n",
       "      <th>8</th>\n",
       "      <td>similarity_dfs_similarity_maccs_dice_top30</td>\n",
       "      <td>0.928822</td>\n",
       "      <td>MACCS Fingerprint</td>\n",
       "      <td>Dice Similarity</td>\n",
       "    </tr>\n",
       "    <tr>\n",
       "      <th>9</th>\n",
       "      <td>similarity_dfs_similarity_maccs_cosine_top30</td>\n",
       "      <td>0.932526</td>\n",
       "      <td>MACCS Fingerprint</td>\n",
       "      <td>Cosine Similarity</td>\n",
       "    </tr>\n",
       "    <tr>\n",
       "      <th>10</th>\n",
       "      <td>similarity_dfs_similarity_maccs_kulczynski_top30</td>\n",
       "      <td>0.936408</td>\n",
       "      <td>MACCS Fingerprint</td>\n",
       "      <td>Kulczynski Similarity</td>\n",
       "    </tr>\n",
       "    <tr>\n",
       "      <th>11</th>\n",
       "      <td>similarity_dfs_similarity_maccs_tanimoto_top30</td>\n",
       "      <td>0.928822</td>\n",
       "      <td>MACCS Fingerprint</td>\n",
       "      <td>Tanimoto Similarity</td>\n",
       "    </tr>\n",
       "  </tbody>\n",
       "</table>\n",
       "</div>"
      ],
      "text/plain": [
       "                                    similarity_method  r2_score  \\\n",
       "0         similarity_dfs_similarity_morgan_dice_top30  0.939802   \n",
       "1       similarity_dfs_similarity_morgan_cosine_top30  0.935119   \n",
       "2   similarity_dfs_similarity_morgan_kulczynski_top30  0.934415   \n",
       "3     similarity_dfs_similarity_morgan_tanimoto_top30  0.939802   \n",
       "4      similarity_dfs_similarity_atom_pair_dice_top30  0.927607   \n",
       "5    similarity_dfs_similarity_atom_pair_cosine_top30  0.929320   \n",
       "6   similarity_dfs_similarity_atom_pair_kulczynski...  0.929842   \n",
       "7   similarity_dfs_similarity_atom_pair_tanimoto_t...  0.927607   \n",
       "8          similarity_dfs_similarity_maccs_dice_top30  0.928822   \n",
       "9        similarity_dfs_similarity_maccs_cosine_top30  0.932526   \n",
       "10   similarity_dfs_similarity_maccs_kulczynski_top30  0.936408   \n",
       "11     similarity_dfs_similarity_maccs_tanimoto_top30  0.928822   \n",
       "\n",
       "         Fingerprint type      Similarity Method  \n",
       "0      Morgan Fingerprint        Dice Similarity  \n",
       "1      Morgan Fingerprint      Cosine Similarity  \n",
       "2      Morgan Fingerprint  Kulczynski Similarity  \n",
       "3      Morgan Fingerprint    Tanimoto Similarity  \n",
       "4   Atom Pair Fingerprint        Dice Similarity  \n",
       "5   Atom Pair Fingerprint      Cosine Similarity  \n",
       "6   Atom Pair Fingerprint  Kulczynski Similarity  \n",
       "7   Atom Pair Fingerprint    Tanimoto Similarity  \n",
       "8       MACCS Fingerprint        Dice Similarity  \n",
       "9       MACCS Fingerprint      Cosine Similarity  \n",
       "10      MACCS Fingerprint  Kulczynski Similarity  \n",
       "11      MACCS Fingerprint    Tanimoto Similarity  "
      ]
     },
     "execution_count": 29,
     "metadata": {},
     "output_type": "execute_result"
    }
   ],
   "source": [
    "import pandas as pd\n",
    "\n",
    "# Define the similarity methods and fingerprints\n",
    "similarity_methods = [\"dice\", \"cosine\", \"kulczynski\", \"tanimoto\"]\n",
    "fingerprints = [\"morgan\", \"atom\", \"maccs\"]\n",
    "\n",
    "# Define the mappings\n",
    "fingerprint_mapping = {\n",
    "    \"morgan\": \"Morgan Fingerprint\",\n",
    "    \"atom\": \"Atom Pair Fingerprint\",\n",
    "    \"maccs\": \"MACCS Fingerprint\"\n",
    "}\n",
    "\n",
    "similarity_mapping = {\n",
    "    \"dice\": \"Dice Similarity\",\n",
    "    \"cosine\": \"Cosine Similarity\",\n",
    "    \"kulczynski\": \"Kulczynski Similarity\",\n",
    "    \"tanimoto\": \"Tanimoto Similarity\"\n",
    "}\n",
    "\n",
    "# Define a function to extract fingerprint type and similarity method\n",
    "def extract_info(method_str):\n",
    "    for fp in fingerprints:\n",
    "        if fp in method_str:\n",
    "            fingerprint_type = fingerprint_mapping[fp]\n",
    "            break\n",
    "    for sm in similarity_methods:\n",
    "        if sm in method_str:\n",
    "            similarity_method = similarity_mapping[sm]\n",
    "            break\n",
    "    return pd.Series([fingerprint_type, similarity_method], index=['Fingerprint type', 'Similarity Method'])\n",
    "\n",
    "# Apply the function to the similarity_method column\n",
    "final_results_top30[['Fingerprint type', 'Similarity Method']] = final_results_top30['similarity_method'].apply(extract_info)\n",
    "\n",
    "# Display the updated DataFrame\n",
    "final_results_top30"
   ]
  },
  {
   "cell_type": "code",
   "execution_count": 75,
   "metadata": {},
   "outputs": [
    {
     "data": {
      "application/vnd.plotly.v1+json": {
       "config": {
        "plotlyServerURL": "https://plot.ly"
       },
       "data": [
        {
         "name": "Morgan Fingerprint",
         "text": [
          0.9398,
          0.9351,
          0.9344,
          0.9398
         ],
         "textposition": "auto",
         "type": "bar",
         "x": [
          "Dice Similarity",
          "Cosine Similarity",
          "Kulczynski Similarity",
          "Tanimoto Similarity"
         ],
         "y": [
          0.9398020190041924,
          0.9351186613326533,
          0.9344150864637872,
          0.9398020190041924
         ]
        },
        {
         "name": "Atom Pair Fingerprint",
         "text": [
          0.9276,
          0.9293,
          0.9298,
          0.9276
         ],
         "textposition": "auto",
         "type": "bar",
         "x": [
          "Dice Similarity",
          "Cosine Similarity",
          "Kulczynski Similarity",
          "Tanimoto Similarity"
         ],
         "y": [
          0.9276074084185486,
          0.9293196203560332,
          0.9298419367636672,
          0.9276074084185486
         ]
        },
        {
         "name": "MACCS Fingerprint",
         "text": [
          0.9288,
          0.9325,
          0.9364,
          0.9288
         ],
         "textposition": "auto",
         "type": "bar",
         "x": [
          "Dice Similarity",
          "Cosine Similarity",
          "Kulczynski Similarity",
          "Tanimoto Similarity"
         ],
         "y": [
          0.9288217053124538,
          0.9325258494192095,
          0.9364081010414715,
          0.9288217053124538
         ]
        }
       ],
       "layout": {
        "barmode": "group",
        "height": 800,
        "legend": {
         "orientation": "h",
         "x": 0.5,
         "xanchor": "center",
         "y": 1.01,
         "yanchor": "bottom"
        },
        "template": {
         "data": {
          "bar": [
           {
            "error_x": {
             "color": "#2a3f5f"
            },
            "error_y": {
             "color": "#2a3f5f"
            },
            "marker": {
             "line": {
              "color": "#E5ECF6",
              "width": 0.5
             },
             "pattern": {
              "fillmode": "overlay",
              "size": 10,
              "solidity": 0.2
             }
            },
            "type": "bar"
           }
          ],
          "barpolar": [
           {
            "marker": {
             "line": {
              "color": "#E5ECF6",
              "width": 0.5
             },
             "pattern": {
              "fillmode": "overlay",
              "size": 10,
              "solidity": 0.2
             }
            },
            "type": "barpolar"
           }
          ],
          "carpet": [
           {
            "aaxis": {
             "endlinecolor": "#2a3f5f",
             "gridcolor": "white",
             "linecolor": "white",
             "minorgridcolor": "white",
             "startlinecolor": "#2a3f5f"
            },
            "baxis": {
             "endlinecolor": "#2a3f5f",
             "gridcolor": "white",
             "linecolor": "white",
             "minorgridcolor": "white",
             "startlinecolor": "#2a3f5f"
            },
            "type": "carpet"
           }
          ],
          "choropleth": [
           {
            "colorbar": {
             "outlinewidth": 0,
             "ticks": ""
            },
            "type": "choropleth"
           }
          ],
          "contour": [
           {
            "colorbar": {
             "outlinewidth": 0,
             "ticks": ""
            },
            "colorscale": [
             [
              0,
              "#0d0887"
             ],
             [
              0.1111111111111111,
              "#46039f"
             ],
             [
              0.2222222222222222,
              "#7201a8"
             ],
             [
              0.3333333333333333,
              "#9c179e"
             ],
             [
              0.4444444444444444,
              "#bd3786"
             ],
             [
              0.5555555555555556,
              "#d8576b"
             ],
             [
              0.6666666666666666,
              "#ed7953"
             ],
             [
              0.7777777777777778,
              "#fb9f3a"
             ],
             [
              0.8888888888888888,
              "#fdca26"
             ],
             [
              1,
              "#f0f921"
             ]
            ],
            "type": "contour"
           }
          ],
          "contourcarpet": [
           {
            "colorbar": {
             "outlinewidth": 0,
             "ticks": ""
            },
            "type": "contourcarpet"
           }
          ],
          "heatmap": [
           {
            "colorbar": {
             "outlinewidth": 0,
             "ticks": ""
            },
            "colorscale": [
             [
              0,
              "#0d0887"
             ],
             [
              0.1111111111111111,
              "#46039f"
             ],
             [
              0.2222222222222222,
              "#7201a8"
             ],
             [
              0.3333333333333333,
              "#9c179e"
             ],
             [
              0.4444444444444444,
              "#bd3786"
             ],
             [
              0.5555555555555556,
              "#d8576b"
             ],
             [
              0.6666666666666666,
              "#ed7953"
             ],
             [
              0.7777777777777778,
              "#fb9f3a"
             ],
             [
              0.8888888888888888,
              "#fdca26"
             ],
             [
              1,
              "#f0f921"
             ]
            ],
            "type": "heatmap"
           }
          ],
          "heatmapgl": [
           {
            "colorbar": {
             "outlinewidth": 0,
             "ticks": ""
            },
            "colorscale": [
             [
              0,
              "#0d0887"
             ],
             [
              0.1111111111111111,
              "#46039f"
             ],
             [
              0.2222222222222222,
              "#7201a8"
             ],
             [
              0.3333333333333333,
              "#9c179e"
             ],
             [
              0.4444444444444444,
              "#bd3786"
             ],
             [
              0.5555555555555556,
              "#d8576b"
             ],
             [
              0.6666666666666666,
              "#ed7953"
             ],
             [
              0.7777777777777778,
              "#fb9f3a"
             ],
             [
              0.8888888888888888,
              "#fdca26"
             ],
             [
              1,
              "#f0f921"
             ]
            ],
            "type": "heatmapgl"
           }
          ],
          "histogram": [
           {
            "marker": {
             "pattern": {
              "fillmode": "overlay",
              "size": 10,
              "solidity": 0.2
             }
            },
            "type": "histogram"
           }
          ],
          "histogram2d": [
           {
            "colorbar": {
             "outlinewidth": 0,
             "ticks": ""
            },
            "colorscale": [
             [
              0,
              "#0d0887"
             ],
             [
              0.1111111111111111,
              "#46039f"
             ],
             [
              0.2222222222222222,
              "#7201a8"
             ],
             [
              0.3333333333333333,
              "#9c179e"
             ],
             [
              0.4444444444444444,
              "#bd3786"
             ],
             [
              0.5555555555555556,
              "#d8576b"
             ],
             [
              0.6666666666666666,
              "#ed7953"
             ],
             [
              0.7777777777777778,
              "#fb9f3a"
             ],
             [
              0.8888888888888888,
              "#fdca26"
             ],
             [
              1,
              "#f0f921"
             ]
            ],
            "type": "histogram2d"
           }
          ],
          "histogram2dcontour": [
           {
            "colorbar": {
             "outlinewidth": 0,
             "ticks": ""
            },
            "colorscale": [
             [
              0,
              "#0d0887"
             ],
             [
              0.1111111111111111,
              "#46039f"
             ],
             [
              0.2222222222222222,
              "#7201a8"
             ],
             [
              0.3333333333333333,
              "#9c179e"
             ],
             [
              0.4444444444444444,
              "#bd3786"
             ],
             [
              0.5555555555555556,
              "#d8576b"
             ],
             [
              0.6666666666666666,
              "#ed7953"
             ],
             [
              0.7777777777777778,
              "#fb9f3a"
             ],
             [
              0.8888888888888888,
              "#fdca26"
             ],
             [
              1,
              "#f0f921"
             ]
            ],
            "type": "histogram2dcontour"
           }
          ],
          "mesh3d": [
           {
            "colorbar": {
             "outlinewidth": 0,
             "ticks": ""
            },
            "type": "mesh3d"
           }
          ],
          "parcoords": [
           {
            "line": {
             "colorbar": {
              "outlinewidth": 0,
              "ticks": ""
             }
            },
            "type": "parcoords"
           }
          ],
          "pie": [
           {
            "automargin": true,
            "type": "pie"
           }
          ],
          "scatter": [
           {
            "fillpattern": {
             "fillmode": "overlay",
             "size": 10,
             "solidity": 0.2
            },
            "type": "scatter"
           }
          ],
          "scatter3d": [
           {
            "line": {
             "colorbar": {
              "outlinewidth": 0,
              "ticks": ""
             }
            },
            "marker": {
             "colorbar": {
              "outlinewidth": 0,
              "ticks": ""
             }
            },
            "type": "scatter3d"
           }
          ],
          "scattercarpet": [
           {
            "marker": {
             "colorbar": {
              "outlinewidth": 0,
              "ticks": ""
             }
            },
            "type": "scattercarpet"
           }
          ],
          "scattergeo": [
           {
            "marker": {
             "colorbar": {
              "outlinewidth": 0,
              "ticks": ""
             }
            },
            "type": "scattergeo"
           }
          ],
          "scattergl": [
           {
            "marker": {
             "colorbar": {
              "outlinewidth": 0,
              "ticks": ""
             }
            },
            "type": "scattergl"
           }
          ],
          "scattermapbox": [
           {
            "marker": {
             "colorbar": {
              "outlinewidth": 0,
              "ticks": ""
             }
            },
            "type": "scattermapbox"
           }
          ],
          "scatterpolar": [
           {
            "marker": {
             "colorbar": {
              "outlinewidth": 0,
              "ticks": ""
             }
            },
            "type": "scatterpolar"
           }
          ],
          "scatterpolargl": [
           {
            "marker": {
             "colorbar": {
              "outlinewidth": 0,
              "ticks": ""
             }
            },
            "type": "scatterpolargl"
           }
          ],
          "scatterternary": [
           {
            "marker": {
             "colorbar": {
              "outlinewidth": 0,
              "ticks": ""
             }
            },
            "type": "scatterternary"
           }
          ],
          "surface": [
           {
            "colorbar": {
             "outlinewidth": 0,
             "ticks": ""
            },
            "colorscale": [
             [
              0,
              "#0d0887"
             ],
             [
              0.1111111111111111,
              "#46039f"
             ],
             [
              0.2222222222222222,
              "#7201a8"
             ],
             [
              0.3333333333333333,
              "#9c179e"
             ],
             [
              0.4444444444444444,
              "#bd3786"
             ],
             [
              0.5555555555555556,
              "#d8576b"
             ],
             [
              0.6666666666666666,
              "#ed7953"
             ],
             [
              0.7777777777777778,
              "#fb9f3a"
             ],
             [
              0.8888888888888888,
              "#fdca26"
             ],
             [
              1,
              "#f0f921"
             ]
            ],
            "type": "surface"
           }
          ],
          "table": [
           {
            "cells": {
             "fill": {
              "color": "#EBF0F8"
             },
             "line": {
              "color": "white"
             }
            },
            "header": {
             "fill": {
              "color": "#C8D4E3"
             },
             "line": {
              "color": "white"
             }
            },
            "type": "table"
           }
          ]
         },
         "layout": {
          "annotationdefaults": {
           "arrowcolor": "#2a3f5f",
           "arrowhead": 0,
           "arrowwidth": 1
          },
          "autotypenumbers": "strict",
          "coloraxis": {
           "colorbar": {
            "outlinewidth": 0,
            "ticks": ""
           }
          },
          "colorscale": {
           "diverging": [
            [
             0,
             "#8e0152"
            ],
            [
             0.1,
             "#c51b7d"
            ],
            [
             0.2,
             "#de77ae"
            ],
            [
             0.3,
             "#f1b6da"
            ],
            [
             0.4,
             "#fde0ef"
            ],
            [
             0.5,
             "#f7f7f7"
            ],
            [
             0.6,
             "#e6f5d0"
            ],
            [
             0.7,
             "#b8e186"
            ],
            [
             0.8,
             "#7fbc41"
            ],
            [
             0.9,
             "#4d9221"
            ],
            [
             1,
             "#276419"
            ]
           ],
           "sequential": [
            [
             0,
             "#0d0887"
            ],
            [
             0.1111111111111111,
             "#46039f"
            ],
            [
             0.2222222222222222,
             "#7201a8"
            ],
            [
             0.3333333333333333,
             "#9c179e"
            ],
            [
             0.4444444444444444,
             "#bd3786"
            ],
            [
             0.5555555555555556,
             "#d8576b"
            ],
            [
             0.6666666666666666,
             "#ed7953"
            ],
            [
             0.7777777777777778,
             "#fb9f3a"
            ],
            [
             0.8888888888888888,
             "#fdca26"
            ],
            [
             1,
             "#f0f921"
            ]
           ],
           "sequentialminus": [
            [
             0,
             "#0d0887"
            ],
            [
             0.1111111111111111,
             "#46039f"
            ],
            [
             0.2222222222222222,
             "#7201a8"
            ],
            [
             0.3333333333333333,
             "#9c179e"
            ],
            [
             0.4444444444444444,
             "#bd3786"
            ],
            [
             0.5555555555555556,
             "#d8576b"
            ],
            [
             0.6666666666666666,
             "#ed7953"
            ],
            [
             0.7777777777777778,
             "#fb9f3a"
            ],
            [
             0.8888888888888888,
             "#fdca26"
            ],
            [
             1,
             "#f0f921"
            ]
           ]
          },
          "colorway": [
           "#636efa",
           "#EF553B",
           "#00cc96",
           "#ab63fa",
           "#FFA15A",
           "#19d3f3",
           "#FF6692",
           "#B6E880",
           "#FF97FF",
           "#FECB52"
          ],
          "font": {
           "color": "#2a3f5f"
          },
          "geo": {
           "bgcolor": "white",
           "lakecolor": "white",
           "landcolor": "#E5ECF6",
           "showlakes": true,
           "showland": true,
           "subunitcolor": "white"
          },
          "hoverlabel": {
           "align": "left"
          },
          "hovermode": "closest",
          "mapbox": {
           "style": "light"
          },
          "paper_bgcolor": "white",
          "plot_bgcolor": "#E5ECF6",
          "polar": {
           "angularaxis": {
            "gridcolor": "white",
            "linecolor": "white",
            "ticks": ""
           },
           "bgcolor": "#E5ECF6",
           "radialaxis": {
            "gridcolor": "white",
            "linecolor": "white",
            "ticks": ""
           }
          },
          "scene": {
           "xaxis": {
            "backgroundcolor": "#E5ECF6",
            "gridcolor": "white",
            "gridwidth": 2,
            "linecolor": "white",
            "showbackground": true,
            "ticks": "",
            "zerolinecolor": "white"
           },
           "yaxis": {
            "backgroundcolor": "#E5ECF6",
            "gridcolor": "white",
            "gridwidth": 2,
            "linecolor": "white",
            "showbackground": true,
            "ticks": "",
            "zerolinecolor": "white"
           },
           "zaxis": {
            "backgroundcolor": "#E5ECF6",
            "gridcolor": "white",
            "gridwidth": 2,
            "linecolor": "white",
            "showbackground": true,
            "ticks": "",
            "zerolinecolor": "white"
           }
          },
          "shapedefaults": {
           "line": {
            "color": "#2a3f5f"
           }
          },
          "ternary": {
           "aaxis": {
            "gridcolor": "white",
            "linecolor": "white",
            "ticks": ""
           },
           "baxis": {
            "gridcolor": "white",
            "linecolor": "white",
            "ticks": ""
           },
           "bgcolor": "#E5ECF6",
           "caxis": {
            "gridcolor": "white",
            "linecolor": "white",
            "ticks": ""
           }
          },
          "title": {
           "x": 0.05
          },
          "xaxis": {
           "automargin": true,
           "gridcolor": "white",
           "linecolor": "white",
           "ticks": "",
           "title": {
            "standoff": 15
           },
           "zerolinecolor": "white",
           "zerolinewidth": 2
          },
          "yaxis": {
           "automargin": true,
           "gridcolor": "white",
           "linecolor": "white",
           "ticks": "",
           "title": {
            "standoff": 15
           },
           "zerolinecolor": "white",
           "zerolinewidth": 2
          }
         }
        },
        "title": {
         "text": "R2 Scores by Fingerprint type and Similarity Method (Top 30% filtered data with LightGBM Tuned Model)"
        },
        "width": 970,
        "xaxis": {
         "title": {
          "text": "Similarity Method"
         }
        },
        "yaxis": {
         "title": {
          "text": "R2 Score"
         }
        }
       }
      }
     },
     "metadata": {},
     "output_type": "display_data"
    }
   ],
   "source": [
    "import plotly.graph_objects as go\n",
    "\n",
    "# Create a bar plot\n",
    "fig = go.Figure()\n",
    "\n",
    "# Add bars for each Fingerprint type\n",
    "for similarity_method in final_results_top30['Fingerprint type'].unique():\n",
    "    filtered_df = final_results_top30[final_results_top30['Fingerprint type'] == similarity_method]\n",
    "    fig.add_trace(go.Bar(\n",
    "        x=filtered_df['Similarity Method'],\n",
    "        y=filtered_df['r2_score'],\n",
    "        name=similarity_method,\n",
    "        text=filtered_df['r2_score'].round(4),\n",
    "        textposition='auto'\n",
    "    ))\n",
    "\n",
    "# Update layout\n",
    "fig.update_layout(\n",
    "    title='R2 Scores by Fingerprint type and Similarity Method (Top 30% filtered data with LightGBM Tuned Model)',\n",
    "    xaxis_title='Similarity Method',\n",
    "    yaxis_title='R2 Score',\n",
    "    barmode='group',  # Group bars together\n",
    "    height=800,\n",
    "    width=970,\n",
    "    legend=dict(\n",
    "        orientation='h',  # Horizontal orientation\n",
    "        yanchor='bottom',\n",
    "        y=1.01,  # Position above the plot\n",
    "        xanchor='center',\n",
    "        x=0.5  # Center horizontally\n",
    "    )\n",
    ")\n",
    "\n",
    "# Show the plot\n",
    "fig.show()"
   ]
  },
  {
   "cell_type": "code",
   "execution_count": 35,
   "metadata": {},
   "outputs": [
    {
     "data": {
      "application/vnd.plotly.v1+json": {
       "config": {
        "plotlyServerURL": "https://plot.ly"
       },
       "data": [
        {
         "marker": {
          "color": [
           "red",
           "blue",
           "blue",
           "blue"
          ]
         },
         "name": "Morgan Fingerprint",
         "text": [
          0.9398,
          0.9351,
          0.9344,
          0.9398
         ],
         "textposition": "auto",
         "type": "bar",
         "x": [
          "Dice Similarity",
          "Cosine Similarity",
          "Kulczynski Similarity",
          "Tanimoto Similarity"
         ],
         "y": [
          0.9398020190041924,
          0.9351186613326533,
          0.9344150864637872,
          0.9398020190041924
         ]
        },
        {
         "marker": {
          "color": [
           "blue",
           "blue",
           "blue",
           "blue"
          ]
         },
         "name": "Atom Pair Fingerprint",
         "text": [
          0.9276,
          0.9293,
          0.9298,
          0.9276
         ],
         "textposition": "auto",
         "type": "bar",
         "x": [
          "Dice Similarity",
          "Cosine Similarity",
          "Kulczynski Similarity",
          "Tanimoto Similarity"
         ],
         "y": [
          0.9276074084185486,
          0.9293196203560332,
          0.9298419367636672,
          0.9276074084185486
         ]
        },
        {
         "marker": {
          "color": [
           "blue",
           "blue",
           "blue",
           "blue"
          ]
         },
         "name": "MACCS Fingerprint",
         "text": [
          0.9288,
          0.9325,
          0.9364,
          0.9288
         ],
         "textposition": "auto",
         "type": "bar",
         "x": [
          "Dice Similarity",
          "Cosine Similarity",
          "Kulczynski Similarity",
          "Tanimoto Similarity"
         ],
         "y": [
          0.9288217053124538,
          0.9325258494192095,
          0.9364081010414715,
          0.9288217053124538
         ]
        }
       ],
       "layout": {
        "annotations": [
         {
          "arrowhead": 2,
          "ax": 0,
          "ay": -40,
          "showarrow": true,
          "text": "Best: Dice Similarity<br>Fingerprint: Morgan Fingerprint<br>R2: 0.9398",
          "x": "Dice Similarity",
          "y": 0.9398020190041924
         }
        ],
        "barmode": "group",
        "height": 600,
        "template": {
         "data": {
          "bar": [
           {
            "error_x": {
             "color": "#2a3f5f"
            },
            "error_y": {
             "color": "#2a3f5f"
            },
            "marker": {
             "line": {
              "color": "#E5ECF6",
              "width": 0.5
             },
             "pattern": {
              "fillmode": "overlay",
              "size": 10,
              "solidity": 0.2
             }
            },
            "type": "bar"
           }
          ],
          "barpolar": [
           {
            "marker": {
             "line": {
              "color": "#E5ECF6",
              "width": 0.5
             },
             "pattern": {
              "fillmode": "overlay",
              "size": 10,
              "solidity": 0.2
             }
            },
            "type": "barpolar"
           }
          ],
          "carpet": [
           {
            "aaxis": {
             "endlinecolor": "#2a3f5f",
             "gridcolor": "white",
             "linecolor": "white",
             "minorgridcolor": "white",
             "startlinecolor": "#2a3f5f"
            },
            "baxis": {
             "endlinecolor": "#2a3f5f",
             "gridcolor": "white",
             "linecolor": "white",
             "minorgridcolor": "white",
             "startlinecolor": "#2a3f5f"
            },
            "type": "carpet"
           }
          ],
          "choropleth": [
           {
            "colorbar": {
             "outlinewidth": 0,
             "ticks": ""
            },
            "type": "choropleth"
           }
          ],
          "contour": [
           {
            "colorbar": {
             "outlinewidth": 0,
             "ticks": ""
            },
            "colorscale": [
             [
              0,
              "#0d0887"
             ],
             [
              0.1111111111111111,
              "#46039f"
             ],
             [
              0.2222222222222222,
              "#7201a8"
             ],
             [
              0.3333333333333333,
              "#9c179e"
             ],
             [
              0.4444444444444444,
              "#bd3786"
             ],
             [
              0.5555555555555556,
              "#d8576b"
             ],
             [
              0.6666666666666666,
              "#ed7953"
             ],
             [
              0.7777777777777778,
              "#fb9f3a"
             ],
             [
              0.8888888888888888,
              "#fdca26"
             ],
             [
              1,
              "#f0f921"
             ]
            ],
            "type": "contour"
           }
          ],
          "contourcarpet": [
           {
            "colorbar": {
             "outlinewidth": 0,
             "ticks": ""
            },
            "type": "contourcarpet"
           }
          ],
          "heatmap": [
           {
            "colorbar": {
             "outlinewidth": 0,
             "ticks": ""
            },
            "colorscale": [
             [
              0,
              "#0d0887"
             ],
             [
              0.1111111111111111,
              "#46039f"
             ],
             [
              0.2222222222222222,
              "#7201a8"
             ],
             [
              0.3333333333333333,
              "#9c179e"
             ],
             [
              0.4444444444444444,
              "#bd3786"
             ],
             [
              0.5555555555555556,
              "#d8576b"
             ],
             [
              0.6666666666666666,
              "#ed7953"
             ],
             [
              0.7777777777777778,
              "#fb9f3a"
             ],
             [
              0.8888888888888888,
              "#fdca26"
             ],
             [
              1,
              "#f0f921"
             ]
            ],
            "type": "heatmap"
           }
          ],
          "heatmapgl": [
           {
            "colorbar": {
             "outlinewidth": 0,
             "ticks": ""
            },
            "colorscale": [
             [
              0,
              "#0d0887"
             ],
             [
              0.1111111111111111,
              "#46039f"
             ],
             [
              0.2222222222222222,
              "#7201a8"
             ],
             [
              0.3333333333333333,
              "#9c179e"
             ],
             [
              0.4444444444444444,
              "#bd3786"
             ],
             [
              0.5555555555555556,
              "#d8576b"
             ],
             [
              0.6666666666666666,
              "#ed7953"
             ],
             [
              0.7777777777777778,
              "#fb9f3a"
             ],
             [
              0.8888888888888888,
              "#fdca26"
             ],
             [
              1,
              "#f0f921"
             ]
            ],
            "type": "heatmapgl"
           }
          ],
          "histogram": [
           {
            "marker": {
             "pattern": {
              "fillmode": "overlay",
              "size": 10,
              "solidity": 0.2
             }
            },
            "type": "histogram"
           }
          ],
          "histogram2d": [
           {
            "colorbar": {
             "outlinewidth": 0,
             "ticks": ""
            },
            "colorscale": [
             [
              0,
              "#0d0887"
             ],
             [
              0.1111111111111111,
              "#46039f"
             ],
             [
              0.2222222222222222,
              "#7201a8"
             ],
             [
              0.3333333333333333,
              "#9c179e"
             ],
             [
              0.4444444444444444,
              "#bd3786"
             ],
             [
              0.5555555555555556,
              "#d8576b"
             ],
             [
              0.6666666666666666,
              "#ed7953"
             ],
             [
              0.7777777777777778,
              "#fb9f3a"
             ],
             [
              0.8888888888888888,
              "#fdca26"
             ],
             [
              1,
              "#f0f921"
             ]
            ],
            "type": "histogram2d"
           }
          ],
          "histogram2dcontour": [
           {
            "colorbar": {
             "outlinewidth": 0,
             "ticks": ""
            },
            "colorscale": [
             [
              0,
              "#0d0887"
             ],
             [
              0.1111111111111111,
              "#46039f"
             ],
             [
              0.2222222222222222,
              "#7201a8"
             ],
             [
              0.3333333333333333,
              "#9c179e"
             ],
             [
              0.4444444444444444,
              "#bd3786"
             ],
             [
              0.5555555555555556,
              "#d8576b"
             ],
             [
              0.6666666666666666,
              "#ed7953"
             ],
             [
              0.7777777777777778,
              "#fb9f3a"
             ],
             [
              0.8888888888888888,
              "#fdca26"
             ],
             [
              1,
              "#f0f921"
             ]
            ],
            "type": "histogram2dcontour"
           }
          ],
          "mesh3d": [
           {
            "colorbar": {
             "outlinewidth": 0,
             "ticks": ""
            },
            "type": "mesh3d"
           }
          ],
          "parcoords": [
           {
            "line": {
             "colorbar": {
              "outlinewidth": 0,
              "ticks": ""
             }
            },
            "type": "parcoords"
           }
          ],
          "pie": [
           {
            "automargin": true,
            "type": "pie"
           }
          ],
          "scatter": [
           {
            "fillpattern": {
             "fillmode": "overlay",
             "size": 10,
             "solidity": 0.2
            },
            "type": "scatter"
           }
          ],
          "scatter3d": [
           {
            "line": {
             "colorbar": {
              "outlinewidth": 0,
              "ticks": ""
             }
            },
            "marker": {
             "colorbar": {
              "outlinewidth": 0,
              "ticks": ""
             }
            },
            "type": "scatter3d"
           }
          ],
          "scattercarpet": [
           {
            "marker": {
             "colorbar": {
              "outlinewidth": 0,
              "ticks": ""
             }
            },
            "type": "scattercarpet"
           }
          ],
          "scattergeo": [
           {
            "marker": {
             "colorbar": {
              "outlinewidth": 0,
              "ticks": ""
             }
            },
            "type": "scattergeo"
           }
          ],
          "scattergl": [
           {
            "marker": {
             "colorbar": {
              "outlinewidth": 0,
              "ticks": ""
             }
            },
            "type": "scattergl"
           }
          ],
          "scattermapbox": [
           {
            "marker": {
             "colorbar": {
              "outlinewidth": 0,
              "ticks": ""
             }
            },
            "type": "scattermapbox"
           }
          ],
          "scatterpolar": [
           {
            "marker": {
             "colorbar": {
              "outlinewidth": 0,
              "ticks": ""
             }
            },
            "type": "scatterpolar"
           }
          ],
          "scatterpolargl": [
           {
            "marker": {
             "colorbar": {
              "outlinewidth": 0,
              "ticks": ""
             }
            },
            "type": "scatterpolargl"
           }
          ],
          "scatterternary": [
           {
            "marker": {
             "colorbar": {
              "outlinewidth": 0,
              "ticks": ""
             }
            },
            "type": "scatterternary"
           }
          ],
          "surface": [
           {
            "colorbar": {
             "outlinewidth": 0,
             "ticks": ""
            },
            "colorscale": [
             [
              0,
              "#0d0887"
             ],
             [
              0.1111111111111111,
              "#46039f"
             ],
             [
              0.2222222222222222,
              "#7201a8"
             ],
             [
              0.3333333333333333,
              "#9c179e"
             ],
             [
              0.4444444444444444,
              "#bd3786"
             ],
             [
              0.5555555555555556,
              "#d8576b"
             ],
             [
              0.6666666666666666,
              "#ed7953"
             ],
             [
              0.7777777777777778,
              "#fb9f3a"
             ],
             [
              0.8888888888888888,
              "#fdca26"
             ],
             [
              1,
              "#f0f921"
             ]
            ],
            "type": "surface"
           }
          ],
          "table": [
           {
            "cells": {
             "fill": {
              "color": "#EBF0F8"
             },
             "line": {
              "color": "white"
             }
            },
            "header": {
             "fill": {
              "color": "#C8D4E3"
             },
             "line": {
              "color": "white"
             }
            },
            "type": "table"
           }
          ]
         },
         "layout": {
          "annotationdefaults": {
           "arrowcolor": "#2a3f5f",
           "arrowhead": 0,
           "arrowwidth": 1
          },
          "autotypenumbers": "strict",
          "coloraxis": {
           "colorbar": {
            "outlinewidth": 0,
            "ticks": ""
           }
          },
          "colorscale": {
           "diverging": [
            [
             0,
             "#8e0152"
            ],
            [
             0.1,
             "#c51b7d"
            ],
            [
             0.2,
             "#de77ae"
            ],
            [
             0.3,
             "#f1b6da"
            ],
            [
             0.4,
             "#fde0ef"
            ],
            [
             0.5,
             "#f7f7f7"
            ],
            [
             0.6,
             "#e6f5d0"
            ],
            [
             0.7,
             "#b8e186"
            ],
            [
             0.8,
             "#7fbc41"
            ],
            [
             0.9,
             "#4d9221"
            ],
            [
             1,
             "#276419"
            ]
           ],
           "sequential": [
            [
             0,
             "#0d0887"
            ],
            [
             0.1111111111111111,
             "#46039f"
            ],
            [
             0.2222222222222222,
             "#7201a8"
            ],
            [
             0.3333333333333333,
             "#9c179e"
            ],
            [
             0.4444444444444444,
             "#bd3786"
            ],
            [
             0.5555555555555556,
             "#d8576b"
            ],
            [
             0.6666666666666666,
             "#ed7953"
            ],
            [
             0.7777777777777778,
             "#fb9f3a"
            ],
            [
             0.8888888888888888,
             "#fdca26"
            ],
            [
             1,
             "#f0f921"
            ]
           ],
           "sequentialminus": [
            [
             0,
             "#0d0887"
            ],
            [
             0.1111111111111111,
             "#46039f"
            ],
            [
             0.2222222222222222,
             "#7201a8"
            ],
            [
             0.3333333333333333,
             "#9c179e"
            ],
            [
             0.4444444444444444,
             "#bd3786"
            ],
            [
             0.5555555555555556,
             "#d8576b"
            ],
            [
             0.6666666666666666,
             "#ed7953"
            ],
            [
             0.7777777777777778,
             "#fb9f3a"
            ],
            [
             0.8888888888888888,
             "#fdca26"
            ],
            [
             1,
             "#f0f921"
            ]
           ]
          },
          "colorway": [
           "#636efa",
           "#EF553B",
           "#00cc96",
           "#ab63fa",
           "#FFA15A",
           "#19d3f3",
           "#FF6692",
           "#B6E880",
           "#FF97FF",
           "#FECB52"
          ],
          "font": {
           "color": "#2a3f5f"
          },
          "geo": {
           "bgcolor": "white",
           "lakecolor": "white",
           "landcolor": "#E5ECF6",
           "showlakes": true,
           "showland": true,
           "subunitcolor": "white"
          },
          "hoverlabel": {
           "align": "left"
          },
          "hovermode": "closest",
          "mapbox": {
           "style": "light"
          },
          "paper_bgcolor": "white",
          "plot_bgcolor": "#E5ECF6",
          "polar": {
           "angularaxis": {
            "gridcolor": "white",
            "linecolor": "white",
            "ticks": ""
           },
           "bgcolor": "#E5ECF6",
           "radialaxis": {
            "gridcolor": "white",
            "linecolor": "white",
            "ticks": ""
           }
          },
          "scene": {
           "xaxis": {
            "backgroundcolor": "#E5ECF6",
            "gridcolor": "white",
            "gridwidth": 2,
            "linecolor": "white",
            "showbackground": true,
            "ticks": "",
            "zerolinecolor": "white"
           },
           "yaxis": {
            "backgroundcolor": "#E5ECF6",
            "gridcolor": "white",
            "gridwidth": 2,
            "linecolor": "white",
            "showbackground": true,
            "ticks": "",
            "zerolinecolor": "white"
           },
           "zaxis": {
            "backgroundcolor": "#E5ECF6",
            "gridcolor": "white",
            "gridwidth": 2,
            "linecolor": "white",
            "showbackground": true,
            "ticks": "",
            "zerolinecolor": "white"
           }
          },
          "shapedefaults": {
           "line": {
            "color": "#2a3f5f"
           }
          },
          "ternary": {
           "aaxis": {
            "gridcolor": "white",
            "linecolor": "white",
            "ticks": ""
           },
           "baxis": {
            "gridcolor": "white",
            "linecolor": "white",
            "ticks": ""
           },
           "bgcolor": "#E5ECF6",
           "caxis": {
            "gridcolor": "white",
            "linecolor": "white",
            "ticks": ""
           }
          },
          "title": {
           "x": 0.05
          },
          "xaxis": {
           "automargin": true,
           "gridcolor": "white",
           "linecolor": "white",
           "ticks": "",
           "title": {
            "standoff": 15
           },
           "zerolinecolor": "white",
           "zerolinewidth": 2
          },
          "yaxis": {
           "automargin": true,
           "gridcolor": "white",
           "linecolor": "white",
           "ticks": "",
           "title": {
            "standoff": 15
           },
           "zerolinecolor": "white",
           "zerolinewidth": 2
          }
         }
        },
        "title": {
         "text": "R2 Scores by Fingerprint type and Similarity Method (Top 30% filtered data with LightGBM Tuned Model)"
        },
        "width": 1150,
        "xaxis": {
         "title": {
          "text": "Similarity Method"
         }
        },
        "yaxis": {
         "title": {
          "text": "R2 Score"
         }
        }
       }
      }
     },
     "metadata": {},
     "output_type": "display_data"
    }
   ],
   "source": [
    "import plotly.graph_objects as go\n",
    "\n",
    "# Find the best model and fingerprint type\n",
    "best_row = final_results_top30.loc[final_results_top30['r2_score'].idxmax()]\n",
    "best_similarity_method = best_row['Similarity Method']\n",
    "best_fingerprint_type = best_row['Fingerprint type']\n",
    "best_r2 = best_row['r2_score']\n",
    "\n",
    "# Create a bar plot\n",
    "fig = go.Figure()\n",
    "\n",
    "# Add bars for each Fingerprint type\n",
    "for fingerprint_type in final_results_top30['Fingerprint type'].unique():\n",
    "    filtered_df = final_results_top30[final_results_top30['Fingerprint type'] == fingerprint_type]\n",
    "    fig.add_trace(go.Bar(\n",
    "        x=filtered_df['Similarity Method'],\n",
    "        y=filtered_df['r2_score'],\n",
    "        name=fingerprint_type,\n",
    "        text=filtered_df['r2_score'].round(4),\n",
    "        textposition='auto',\n",
    "        marker=dict(color=['red' if (row['Similarity Method'] == best_similarity_method and row['Fingerprint type'] == best_fingerprint_type) else 'blue' for index, row in filtered_df.iterrows()])\n",
    "    ))\n",
    "\n",
    "# Add annotation for the best model\n",
    "fig.add_annotation(\n",
    "    x=best_similarity_method,\n",
    "    y=best_r2,\n",
    "    text=f\"Best: {best_similarity_method}<br>Fingerprint: {best_fingerprint_type}<br>R2: {best_r2:.4f}\",\n",
    "    showarrow=True,\n",
    "    arrowhead=2,\n",
    "    ax=0,\n",
    "    ay=-40\n",
    ")\n",
    "\n",
    "# Update layout\n",
    "fig.update_layout(\n",
    "    title='R2 Scores by Fingerprint type and Similarity Method (Top 30% filtered data with LightGBM Tuned Model)',\n",
    "    xaxis_title='Similarity Method',\n",
    "    yaxis_title='R2 Score',\n",
    "    barmode='group',  # Group bars together\n",
    "    height=600,\n",
    "    width=1150\n",
    ")\n",
    "\n",
    "# Show the plot\n",
    "fig.show()"
   ]
  },
  {
   "cell_type": "code",
   "execution_count": 79,
   "metadata": {},
   "outputs": [
    {
     "data": {
      "application/vnd.plotly.v1+json": {
       "config": {
        "plotlyServerURL": "https://plot.ly"
       },
       "data": [
        {
         "marker": {
          "color": [
           "red",
           "green",
           "blue",
           "blue"
          ]
         },
         "name": "Morgan Fingerprint",
         "showlegend": false,
         "text": [
          "Best 1<br>R2: 0.9398",
          "Best 2<br>R2: 0.9398",
          "R2: 0.9351",
          "R2: 0.9344"
         ],
         "textposition": "auto",
         "type": "bar",
         "x": [
          "Dice Similarity",
          "Tanimoto Similarity",
          "Cosine Similarity",
          "Kulczynski Similarity"
         ],
         "y": [
          0.9398020190041924,
          0.9398020190041924,
          0.9351186613326533,
          0.9344150864637872
         ]
        },
        {
         "marker": {
          "color": [
           "blue",
           "blue",
           "blue",
           "blue"
          ]
         },
         "name": "Atom Pair Fingerprint",
         "showlegend": false,
         "text": [
          "R2: 0.9298",
          "R2: 0.9293",
          "R2: 0.9276",
          "R2: 0.9276"
         ],
         "textposition": "auto",
         "type": "bar",
         "x": [
          "Kulczynski Similarity",
          "Cosine Similarity",
          "Dice Similarity",
          "Tanimoto Similarity"
         ],
         "y": [
          0.9298419367636672,
          0.9293196203560332,
          0.9276074084185486,
          0.9276074084185486
         ]
        },
        {
         "marker": {
          "color": [
           "orange",
           "blue",
           "blue",
           "blue"
          ]
         },
         "name": "MACCS Fingerprint",
         "showlegend": false,
         "text": [
          "Best 3<br>R2: 0.9364",
          "R2: 0.9325",
          "R2: 0.9288",
          "R2: 0.9288"
         ],
         "textposition": "auto",
         "type": "bar",
         "x": [
          "Kulczynski Similarity",
          "Cosine Similarity",
          "Dice Similarity",
          "Tanimoto Similarity"
         ],
         "y": [
          0.9364081010414715,
          0.9325258494192095,
          0.9288217053124538,
          0.9288217053124538
         ]
        }
       ],
       "layout": {
        "annotations": [
         {
          "arrowhead": 2,
          "ax": 0,
          "ay": -40,
          "showarrow": true,
          "text": "Best 1: Dice Similarity<br>Fingerprint: Morgan Fingerprint<br>R2: 0.9398",
          "x": "Dice Similarity",
          "y": 0.9398020190041924
         },
         {
          "arrowhead": 2,
          "ax": 0,
          "ay": -40,
          "showarrow": true,
          "text": "Best 2: Tanimoto Similarity<br>Fingerprint: Morgan Fingerprint<br>R2: 0.9398",
          "x": "Tanimoto Similarity",
          "y": 0.9398020190041924
         },
         {
          "arrowhead": 2,
          "ax": 0,
          "ay": -40,
          "showarrow": true,
          "text": "Best 3: Kulczynski Similarity<br>Fingerprint: MACCS Fingerprint<br>R2: 0.9364",
          "x": "Kulczynski Similarity",
          "y": 0.9364081010414715
         }
        ],
        "barmode": "group",
        "height": 800,
        "template": {
         "data": {
          "bar": [
           {
            "error_x": {
             "color": "#2a3f5f"
            },
            "error_y": {
             "color": "#2a3f5f"
            },
            "marker": {
             "line": {
              "color": "#E5ECF6",
              "width": 0.5
             },
             "pattern": {
              "fillmode": "overlay",
              "size": 10,
              "solidity": 0.2
             }
            },
            "type": "bar"
           }
          ],
          "barpolar": [
           {
            "marker": {
             "line": {
              "color": "#E5ECF6",
              "width": 0.5
             },
             "pattern": {
              "fillmode": "overlay",
              "size": 10,
              "solidity": 0.2
             }
            },
            "type": "barpolar"
           }
          ],
          "carpet": [
           {
            "aaxis": {
             "endlinecolor": "#2a3f5f",
             "gridcolor": "white",
             "linecolor": "white",
             "minorgridcolor": "white",
             "startlinecolor": "#2a3f5f"
            },
            "baxis": {
             "endlinecolor": "#2a3f5f",
             "gridcolor": "white",
             "linecolor": "white",
             "minorgridcolor": "white",
             "startlinecolor": "#2a3f5f"
            },
            "type": "carpet"
           }
          ],
          "choropleth": [
           {
            "colorbar": {
             "outlinewidth": 0,
             "ticks": ""
            },
            "type": "choropleth"
           }
          ],
          "contour": [
           {
            "colorbar": {
             "outlinewidth": 0,
             "ticks": ""
            },
            "colorscale": [
             [
              0,
              "#0d0887"
             ],
             [
              0.1111111111111111,
              "#46039f"
             ],
             [
              0.2222222222222222,
              "#7201a8"
             ],
             [
              0.3333333333333333,
              "#9c179e"
             ],
             [
              0.4444444444444444,
              "#bd3786"
             ],
             [
              0.5555555555555556,
              "#d8576b"
             ],
             [
              0.6666666666666666,
              "#ed7953"
             ],
             [
              0.7777777777777778,
              "#fb9f3a"
             ],
             [
              0.8888888888888888,
              "#fdca26"
             ],
             [
              1,
              "#f0f921"
             ]
            ],
            "type": "contour"
           }
          ],
          "contourcarpet": [
           {
            "colorbar": {
             "outlinewidth": 0,
             "ticks": ""
            },
            "type": "contourcarpet"
           }
          ],
          "heatmap": [
           {
            "colorbar": {
             "outlinewidth": 0,
             "ticks": ""
            },
            "colorscale": [
             [
              0,
              "#0d0887"
             ],
             [
              0.1111111111111111,
              "#46039f"
             ],
             [
              0.2222222222222222,
              "#7201a8"
             ],
             [
              0.3333333333333333,
              "#9c179e"
             ],
             [
              0.4444444444444444,
              "#bd3786"
             ],
             [
              0.5555555555555556,
              "#d8576b"
             ],
             [
              0.6666666666666666,
              "#ed7953"
             ],
             [
              0.7777777777777778,
              "#fb9f3a"
             ],
             [
              0.8888888888888888,
              "#fdca26"
             ],
             [
              1,
              "#f0f921"
             ]
            ],
            "type": "heatmap"
           }
          ],
          "heatmapgl": [
           {
            "colorbar": {
             "outlinewidth": 0,
             "ticks": ""
            },
            "colorscale": [
             [
              0,
              "#0d0887"
             ],
             [
              0.1111111111111111,
              "#46039f"
             ],
             [
              0.2222222222222222,
              "#7201a8"
             ],
             [
              0.3333333333333333,
              "#9c179e"
             ],
             [
              0.4444444444444444,
              "#bd3786"
             ],
             [
              0.5555555555555556,
              "#d8576b"
             ],
             [
              0.6666666666666666,
              "#ed7953"
             ],
             [
              0.7777777777777778,
              "#fb9f3a"
             ],
             [
              0.8888888888888888,
              "#fdca26"
             ],
             [
              1,
              "#f0f921"
             ]
            ],
            "type": "heatmapgl"
           }
          ],
          "histogram": [
           {
            "marker": {
             "pattern": {
              "fillmode": "overlay",
              "size": 10,
              "solidity": 0.2
             }
            },
            "type": "histogram"
           }
          ],
          "histogram2d": [
           {
            "colorbar": {
             "outlinewidth": 0,
             "ticks": ""
            },
            "colorscale": [
             [
              0,
              "#0d0887"
             ],
             [
              0.1111111111111111,
              "#46039f"
             ],
             [
              0.2222222222222222,
              "#7201a8"
             ],
             [
              0.3333333333333333,
              "#9c179e"
             ],
             [
              0.4444444444444444,
              "#bd3786"
             ],
             [
              0.5555555555555556,
              "#d8576b"
             ],
             [
              0.6666666666666666,
              "#ed7953"
             ],
             [
              0.7777777777777778,
              "#fb9f3a"
             ],
             [
              0.8888888888888888,
              "#fdca26"
             ],
             [
              1,
              "#f0f921"
             ]
            ],
            "type": "histogram2d"
           }
          ],
          "histogram2dcontour": [
           {
            "colorbar": {
             "outlinewidth": 0,
             "ticks": ""
            },
            "colorscale": [
             [
              0,
              "#0d0887"
             ],
             [
              0.1111111111111111,
              "#46039f"
             ],
             [
              0.2222222222222222,
              "#7201a8"
             ],
             [
              0.3333333333333333,
              "#9c179e"
             ],
             [
              0.4444444444444444,
              "#bd3786"
             ],
             [
              0.5555555555555556,
              "#d8576b"
             ],
             [
              0.6666666666666666,
              "#ed7953"
             ],
             [
              0.7777777777777778,
              "#fb9f3a"
             ],
             [
              0.8888888888888888,
              "#fdca26"
             ],
             [
              1,
              "#f0f921"
             ]
            ],
            "type": "histogram2dcontour"
           }
          ],
          "mesh3d": [
           {
            "colorbar": {
             "outlinewidth": 0,
             "ticks": ""
            },
            "type": "mesh3d"
           }
          ],
          "parcoords": [
           {
            "line": {
             "colorbar": {
              "outlinewidth": 0,
              "ticks": ""
             }
            },
            "type": "parcoords"
           }
          ],
          "pie": [
           {
            "automargin": true,
            "type": "pie"
           }
          ],
          "scatter": [
           {
            "fillpattern": {
             "fillmode": "overlay",
             "size": 10,
             "solidity": 0.2
            },
            "type": "scatter"
           }
          ],
          "scatter3d": [
           {
            "line": {
             "colorbar": {
              "outlinewidth": 0,
              "ticks": ""
             }
            },
            "marker": {
             "colorbar": {
              "outlinewidth": 0,
              "ticks": ""
             }
            },
            "type": "scatter3d"
           }
          ],
          "scattercarpet": [
           {
            "marker": {
             "colorbar": {
              "outlinewidth": 0,
              "ticks": ""
             }
            },
            "type": "scattercarpet"
           }
          ],
          "scattergeo": [
           {
            "marker": {
             "colorbar": {
              "outlinewidth": 0,
              "ticks": ""
             }
            },
            "type": "scattergeo"
           }
          ],
          "scattergl": [
           {
            "marker": {
             "colorbar": {
              "outlinewidth": 0,
              "ticks": ""
             }
            },
            "type": "scattergl"
           }
          ],
          "scattermapbox": [
           {
            "marker": {
             "colorbar": {
              "outlinewidth": 0,
              "ticks": ""
             }
            },
            "type": "scattermapbox"
           }
          ],
          "scatterpolar": [
           {
            "marker": {
             "colorbar": {
              "outlinewidth": 0,
              "ticks": ""
             }
            },
            "type": "scatterpolar"
           }
          ],
          "scatterpolargl": [
           {
            "marker": {
             "colorbar": {
              "outlinewidth": 0,
              "ticks": ""
             }
            },
            "type": "scatterpolargl"
           }
          ],
          "scatterternary": [
           {
            "marker": {
             "colorbar": {
              "outlinewidth": 0,
              "ticks": ""
             }
            },
            "type": "scatterternary"
           }
          ],
          "surface": [
           {
            "colorbar": {
             "outlinewidth": 0,
             "ticks": ""
            },
            "colorscale": [
             [
              0,
              "#0d0887"
             ],
             [
              0.1111111111111111,
              "#46039f"
             ],
             [
              0.2222222222222222,
              "#7201a8"
             ],
             [
              0.3333333333333333,
              "#9c179e"
             ],
             [
              0.4444444444444444,
              "#bd3786"
             ],
             [
              0.5555555555555556,
              "#d8576b"
             ],
             [
              0.6666666666666666,
              "#ed7953"
             ],
             [
              0.7777777777777778,
              "#fb9f3a"
             ],
             [
              0.8888888888888888,
              "#fdca26"
             ],
             [
              1,
              "#f0f921"
             ]
            ],
            "type": "surface"
           }
          ],
          "table": [
           {
            "cells": {
             "fill": {
              "color": "#EBF0F8"
             },
             "line": {
              "color": "white"
             }
            },
            "header": {
             "fill": {
              "color": "#C8D4E3"
             },
             "line": {
              "color": "white"
             }
            },
            "type": "table"
           }
          ]
         },
         "layout": {
          "annotationdefaults": {
           "arrowcolor": "#2a3f5f",
           "arrowhead": 0,
           "arrowwidth": 1
          },
          "autotypenumbers": "strict",
          "coloraxis": {
           "colorbar": {
            "outlinewidth": 0,
            "ticks": ""
           }
          },
          "colorscale": {
           "diverging": [
            [
             0,
             "#8e0152"
            ],
            [
             0.1,
             "#c51b7d"
            ],
            [
             0.2,
             "#de77ae"
            ],
            [
             0.3,
             "#f1b6da"
            ],
            [
             0.4,
             "#fde0ef"
            ],
            [
             0.5,
             "#f7f7f7"
            ],
            [
             0.6,
             "#e6f5d0"
            ],
            [
             0.7,
             "#b8e186"
            ],
            [
             0.8,
             "#7fbc41"
            ],
            [
             0.9,
             "#4d9221"
            ],
            [
             1,
             "#276419"
            ]
           ],
           "sequential": [
            [
             0,
             "#0d0887"
            ],
            [
             0.1111111111111111,
             "#46039f"
            ],
            [
             0.2222222222222222,
             "#7201a8"
            ],
            [
             0.3333333333333333,
             "#9c179e"
            ],
            [
             0.4444444444444444,
             "#bd3786"
            ],
            [
             0.5555555555555556,
             "#d8576b"
            ],
            [
             0.6666666666666666,
             "#ed7953"
            ],
            [
             0.7777777777777778,
             "#fb9f3a"
            ],
            [
             0.8888888888888888,
             "#fdca26"
            ],
            [
             1,
             "#f0f921"
            ]
           ],
           "sequentialminus": [
            [
             0,
             "#0d0887"
            ],
            [
             0.1111111111111111,
             "#46039f"
            ],
            [
             0.2222222222222222,
             "#7201a8"
            ],
            [
             0.3333333333333333,
             "#9c179e"
            ],
            [
             0.4444444444444444,
             "#bd3786"
            ],
            [
             0.5555555555555556,
             "#d8576b"
            ],
            [
             0.6666666666666666,
             "#ed7953"
            ],
            [
             0.7777777777777778,
             "#fb9f3a"
            ],
            [
             0.8888888888888888,
             "#fdca26"
            ],
            [
             1,
             "#f0f921"
            ]
           ]
          },
          "colorway": [
           "#636efa",
           "#EF553B",
           "#00cc96",
           "#ab63fa",
           "#FFA15A",
           "#19d3f3",
           "#FF6692",
           "#B6E880",
           "#FF97FF",
           "#FECB52"
          ],
          "font": {
           "color": "#2a3f5f"
          },
          "geo": {
           "bgcolor": "white",
           "lakecolor": "white",
           "landcolor": "#E5ECF6",
           "showlakes": true,
           "showland": true,
           "subunitcolor": "white"
          },
          "hoverlabel": {
           "align": "left"
          },
          "hovermode": "closest",
          "mapbox": {
           "style": "light"
          },
          "paper_bgcolor": "white",
          "plot_bgcolor": "#E5ECF6",
          "polar": {
           "angularaxis": {
            "gridcolor": "white",
            "linecolor": "white",
            "ticks": ""
           },
           "bgcolor": "#E5ECF6",
           "radialaxis": {
            "gridcolor": "white",
            "linecolor": "white",
            "ticks": ""
           }
          },
          "scene": {
           "xaxis": {
            "backgroundcolor": "#E5ECF6",
            "gridcolor": "white",
            "gridwidth": 2,
            "linecolor": "white",
            "showbackground": true,
            "ticks": "",
            "zerolinecolor": "white"
           },
           "yaxis": {
            "backgroundcolor": "#E5ECF6",
            "gridcolor": "white",
            "gridwidth": 2,
            "linecolor": "white",
            "showbackground": true,
            "ticks": "",
            "zerolinecolor": "white"
           },
           "zaxis": {
            "backgroundcolor": "#E5ECF6",
            "gridcolor": "white",
            "gridwidth": 2,
            "linecolor": "white",
            "showbackground": true,
            "ticks": "",
            "zerolinecolor": "white"
           }
          },
          "shapedefaults": {
           "line": {
            "color": "#2a3f5f"
           }
          },
          "ternary": {
           "aaxis": {
            "gridcolor": "white",
            "linecolor": "white",
            "ticks": ""
           },
           "baxis": {
            "gridcolor": "white",
            "linecolor": "white",
            "ticks": ""
           },
           "bgcolor": "#E5ECF6",
           "caxis": {
            "gridcolor": "white",
            "linecolor": "white",
            "ticks": ""
           }
          },
          "title": {
           "x": 0.05
          },
          "xaxis": {
           "automargin": true,
           "gridcolor": "white",
           "linecolor": "white",
           "ticks": "",
           "title": {
            "standoff": 15
           },
           "zerolinecolor": "white",
           "zerolinewidth": 2
          },
          "yaxis": {
           "automargin": true,
           "gridcolor": "white",
           "linecolor": "white",
           "ticks": "",
           "title": {
            "standoff": 15
           },
           "zerolinecolor": "white",
           "zerolinewidth": 2
          }
         }
        },
        "title": {
         "text": "R2 Scores by Fingerprint Type and Similarity Method (Top 30% filtered data with LightGBM Tuned Model)"
        },
        "width": 1100,
        "xaxis": {
         "title": {
          "text": "Similarity Method"
         }
        },
        "yaxis": {
         "title": {
          "text": "R2 Score"
         }
        }
       }
      }
     },
     "metadata": {},
     "output_type": "display_data"
    }
   ],
   "source": [
    "import plotly.graph_objects as go\n",
    "\n",
    "# Sort the dataframe by R2 score and label Best 1, Best 2, Best 3\n",
    "sorted_df = final_results_top30.sort_values(by='r2_score', ascending=False).reset_index(drop=True)\n",
    "sorted_df['Rank'] = ['Best 1', 'Best 2', 'Best 3'] + [''] * (len(sorted_df) - 3)\n",
    "\n",
    "# Create a bar plot\n",
    "fig = go.Figure()\n",
    "\n",
    "# Add bars for each Fingerprint type\n",
    "for fingerprint_type in final_results_top30['Fingerprint type'].unique():\n",
    "    filtered_df = sorted_df[sorted_df['Fingerprint type'] == fingerprint_type]\n",
    "    \n",
    "    fig.add_trace(go.Bar(\n",
    "        x=filtered_df['Similarity Method'],\n",
    "        y=filtered_df['r2_score'],\n",
    "        name=fingerprint_type,\n",
    "        text=filtered_df.apply(lambda row: f\"{row['Rank']}<br>R2: {row['r2_score']:.4f}\" if row['Rank'] else f\"R2: {row['r2_score']:.4f}\", axis=1),\n",
    "        textposition='auto',\n",
    "        showlegend=False,\n",
    "        marker=dict(color=[\n",
    "            'red' if row['Rank'] == 'Best 1' else \n",
    "            'green' if row['Rank'] == 'Best 2' else \n",
    "            'orange' if row['Rank'] == 'Best 3' else \n",
    "            'blue' \n",
    "            for index, row in filtered_df.iterrows()\n",
    "        ])\n",
    "    ))\n",
    "\n",
    "# Add annotations for the top 3 models\n",
    "for i, row in sorted_df.head(3).iterrows():\n",
    "    fig.add_annotation(\n",
    "        x=row['Similarity Method'],\n",
    "        y=row['r2_score'],\n",
    "        text=f\"{row['Rank']}: {row['Similarity Method']}<br>Fingerprint: {row['Fingerprint type']}<br>R2: {row['r2_score']:.4f}\",\n",
    "        showarrow=True,\n",
    "        arrowhead=2,\n",
    "        ax=0,\n",
    "        ay=-40\n",
    "    )\n",
    "\n",
    "# Update layout\n",
    "fig.update_layout(\n",
    "    title='R2 Scores by Fingerprint Type and Similarity Method (Top 30% filtered data with LightGBM Tuned Model)',\n",
    "    xaxis_title='Similarity Method',\n",
    "    yaxis_title='R2 Score',\n",
    "    barmode='group',  # Group bars together\n",
    "    height=800,\n",
    "    width=1100\n",
    ")\n",
    "\n",
    "# Show the plot\n",
    "fig.show()"
   ]
  },
  {
   "cell_type": "code",
   "execution_count": 103,
   "metadata": {},
   "outputs": [
    {
     "data": {
      "text/html": [
       "<div>\n",
       "<style scoped>\n",
       "    .dataframe tbody tr th:only-of-type {\n",
       "        vertical-align: middle;\n",
       "    }\n",
       "\n",
       "    .dataframe tbody tr th {\n",
       "        vertical-align: top;\n",
       "    }\n",
       "\n",
       "    .dataframe thead th {\n",
       "        text-align: right;\n",
       "    }\n",
       "</style>\n",
       "<table border=\"1\" class=\"dataframe\">\n",
       "  <thead>\n",
       "    <tr style=\"text-align: right;\">\n",
       "      <th></th>\n",
       "      <th>Molecule</th>\n",
       "      <th>Molecular Weight</th>\n",
       "      <th>LogP</th>\n",
       "      <th>Homo-Lumo Gap (eV)</th>\n",
       "      <th>Smiles</th>\n",
       "      <th>mol</th>\n",
       "      <th>morgan_0</th>\n",
       "      <th>morgan_1</th>\n",
       "      <th>morgan_2</th>\n",
       "      <th>morgan_3</th>\n",
       "      <th>...</th>\n",
       "      <th>morgan_2038</th>\n",
       "      <th>morgan_2039</th>\n",
       "      <th>morgan_2040</th>\n",
       "      <th>morgan_2041</th>\n",
       "      <th>morgan_2042</th>\n",
       "      <th>morgan_2043</th>\n",
       "      <th>morgan_2044</th>\n",
       "      <th>morgan_2045</th>\n",
       "      <th>morgan_2046</th>\n",
       "      <th>morgan_2047</th>\n",
       "    </tr>\n",
       "  </thead>\n",
       "  <tbody>\n",
       "    <tr>\n",
       "      <th>0</th>\n",
       "      <td>AD-10</td>\n",
       "      <td>472.293</td>\n",
       "      <td>5.01210</td>\n",
       "      <td>3.259</td>\n",
       "      <td>COc3ccc(C/C=C/C2=CC(/C=C/Cc1ccc(OC)cc1OC)=[O+]...</td>\n",
       "      <td>&lt;rdkit.Chem.rdchem.Mol object at 0x000002C5337...</td>\n",
       "      <td>0</td>\n",
       "      <td>0</td>\n",
       "      <td>0</td>\n",
       "      <td>0</td>\n",
       "      <td>...</td>\n",
       "      <td>0</td>\n",
       "      <td>0</td>\n",
       "      <td>0</td>\n",
       "      <td>0</td>\n",
       "      <td>0</td>\n",
       "      <td>0</td>\n",
       "      <td>0</td>\n",
       "      <td>0</td>\n",
       "      <td>0</td>\n",
       "      <td>0</td>\n",
       "    </tr>\n",
       "    <tr>\n",
       "      <th>1</th>\n",
       "      <td>AD-16-DMF</td>\n",
       "      <td>377.199</td>\n",
       "      <td>4.84938</td>\n",
       "      <td>3.231</td>\n",
       "      <td>N#Cc3ccc(C/C=C/C2=[O+][B-](F)(F)OC(/C=C/Cc1ccc...</td>\n",
       "      <td>&lt;rdkit.Chem.rdchem.Mol object at 0x000002C5546...</td>\n",
       "      <td>0</td>\n",
       "      <td>0</td>\n",
       "      <td>0</td>\n",
       "      <td>0</td>\n",
       "      <td>...</td>\n",
       "      <td>0</td>\n",
       "      <td>0</td>\n",
       "      <td>0</td>\n",
       "      <td>0</td>\n",
       "      <td>0</td>\n",
       "      <td>0</td>\n",
       "      <td>0</td>\n",
       "      <td>0</td>\n",
       "      <td>0</td>\n",
       "      <td>0</td>\n",
       "    </tr>\n",
       "    <tr>\n",
       "      <th>2</th>\n",
       "      <td>AD-13-DMF</td>\n",
       "      <td>464.317</td>\n",
       "      <td>6.21190</td>\n",
       "      <td>3.228</td>\n",
       "      <td>C=C(OC)c3ccc(C/C=C/C2=CC(/C=C/Cc1ccc(C(=C)OC)c...</td>\n",
       "      <td>&lt;rdkit.Chem.rdchem.Mol object at 0x000002C5544...</td>\n",
       "      <td>0</td>\n",
       "      <td>0</td>\n",
       "      <td>0</td>\n",
       "      <td>0</td>\n",
       "      <td>...</td>\n",
       "      <td>0</td>\n",
       "      <td>0</td>\n",
       "      <td>0</td>\n",
       "      <td>0</td>\n",
       "      <td>0</td>\n",
       "      <td>0</td>\n",
       "      <td>0</td>\n",
       "      <td>0</td>\n",
       "      <td>0</td>\n",
       "      <td>0</td>\n",
       "    </tr>\n",
       "    <tr>\n",
       "      <th>3</th>\n",
       "      <td>AD-13</td>\n",
       "      <td>464.317</td>\n",
       "      <td>6.21190</td>\n",
       "      <td>3.226</td>\n",
       "      <td>C=C(OC)c3ccc(C/C=C/C2=CC(/C=C/Cc1ccc(C(=C)OC)c...</td>\n",
       "      <td>&lt;rdkit.Chem.rdchem.Mol object at 0x000002C5337...</td>\n",
       "      <td>0</td>\n",
       "      <td>0</td>\n",
       "      <td>0</td>\n",
       "      <td>0</td>\n",
       "      <td>...</td>\n",
       "      <td>0</td>\n",
       "      <td>0</td>\n",
       "      <td>0</td>\n",
       "      <td>0</td>\n",
       "      <td>0</td>\n",
       "      <td>0</td>\n",
       "      <td>0</td>\n",
       "      <td>0</td>\n",
       "      <td>0</td>\n",
       "      <td>0</td>\n",
       "    </tr>\n",
       "    <tr>\n",
       "      <th>4</th>\n",
       "      <td>AD-3</td>\n",
       "      <td>402.209</td>\n",
       "      <td>4.72106</td>\n",
       "      <td>3.215</td>\n",
       "      <td>N#Cc3ccc(C/C=C/C2=CC(/C=C/Cc1ccc(C#N)cc1)=[O+]...</td>\n",
       "      <td>&lt;rdkit.Chem.rdchem.Mol object at 0x000002C5546...</td>\n",
       "      <td>0</td>\n",
       "      <td>0</td>\n",
       "      <td>0</td>\n",
       "      <td>0</td>\n",
       "      <td>...</td>\n",
       "      <td>0</td>\n",
       "      <td>0</td>\n",
       "      <td>0</td>\n",
       "      <td>0</td>\n",
       "      <td>0</td>\n",
       "      <td>0</td>\n",
       "      <td>0</td>\n",
       "      <td>0</td>\n",
       "      <td>0</td>\n",
       "      <td>0</td>\n",
       "    </tr>\n",
       "  </tbody>\n",
       "</table>\n",
       "<p>5 rows × 2054 columns</p>\n",
       "</div>"
      ],
      "text/plain": [
       "    Molecule  Molecular Weight     LogP  Homo-Lumo Gap (eV)  \\\n",
       "0      AD-10           472.293  5.01210               3.259   \n",
       "1  AD-16-DMF           377.199  4.84938               3.231   \n",
       "2  AD-13-DMF           464.317  6.21190               3.228   \n",
       "3      AD-13           464.317  6.21190               3.226   \n",
       "4       AD-3           402.209  4.72106               3.215   \n",
       "\n",
       "                                              Smiles  \\\n",
       "0  COc3ccc(C/C=C/C2=CC(/C=C/Cc1ccc(OC)cc1OC)=[O+]...   \n",
       "1  N#Cc3ccc(C/C=C/C2=[O+][B-](F)(F)OC(/C=C/Cc1ccc...   \n",
       "2  C=C(OC)c3ccc(C/C=C/C2=CC(/C=C/Cc1ccc(C(=C)OC)c...   \n",
       "3  C=C(OC)c3ccc(C/C=C/C2=CC(/C=C/Cc1ccc(C(=C)OC)c...   \n",
       "4  N#Cc3ccc(C/C=C/C2=CC(/C=C/Cc1ccc(C#N)cc1)=[O+]...   \n",
       "\n",
       "                                                 mol  morgan_0  morgan_1  \\\n",
       "0  <rdkit.Chem.rdchem.Mol object at 0x000002C5337...         0         0   \n",
       "1  <rdkit.Chem.rdchem.Mol object at 0x000002C5546...         0         0   \n",
       "2  <rdkit.Chem.rdchem.Mol object at 0x000002C5544...         0         0   \n",
       "3  <rdkit.Chem.rdchem.Mol object at 0x000002C5337...         0         0   \n",
       "4  <rdkit.Chem.rdchem.Mol object at 0x000002C5546...         0         0   \n",
       "\n",
       "   morgan_2  morgan_3  ...  morgan_2038  morgan_2039  morgan_2040  \\\n",
       "0         0         0  ...            0            0            0   \n",
       "1         0         0  ...            0            0            0   \n",
       "2         0         0  ...            0            0            0   \n",
       "3         0         0  ...            0            0            0   \n",
       "4         0         0  ...            0            0            0   \n",
       "\n",
       "   morgan_2041  morgan_2042  morgan_2043  morgan_2044  morgan_2045  \\\n",
       "0            0            0            0            0            0   \n",
       "1            0            0            0            0            0   \n",
       "2            0            0            0            0            0   \n",
       "3            0            0            0            0            0   \n",
       "4            0            0            0            0            0   \n",
       "\n",
       "   morgan_2046  morgan_2047  \n",
       "0            0            0  \n",
       "1            0            0  \n",
       "2            0            0  \n",
       "3            0            0  \n",
       "4            0            0  \n",
       "\n",
       "[5 rows x 2054 columns]"
      ]
     },
     "execution_count": 103,
     "metadata": {},
     "output_type": "execute_result"
    }
   ],
   "source": [
    "curcumin_df_mf = curcumin_df.copy()\n",
    "curcumin_df_mf['Morgan_Fingerprints'] = curcumin_df_mf['mol'].apply(\n",
    "    lambda x: list(AllChem.GetMorganFingerprintAsBitVect(x, 2, nBits=2048))\n",
    ")\n",
    "curcumin_df_mf.head()\n",
    "\n",
    "# convert the fingerprints to a DataFrame\n",
    "morgan_df = pd.DataFrame(curcumin_df_mf['Morgan_Fingerprints'].tolist(), columns=[f'morgan_{i}' for i in range(2048)])\n",
    "curcumin_df_mf = pd.concat([curcumin_df_mf.drop(columns=['Morgan_Fingerprints']), morgan_df], axis=1)\n",
    "curcumin_df_mf = curcumin_df_mf.sort_values(by='Homo-Lumo Gap (eV)', ascending=False).reset_index(drop=True)\n",
    "curcumin_df_mf.head()"
   ]
  },
  {
   "cell_type": "code",
   "execution_count": 104,
   "metadata": {},
   "outputs": [
    {
     "name": "stdout",
     "output_type": "stream",
     "text": [
      "[LightGBM] [Info] Auto-choosing row-wise multi-threading, the overhead of testing was 0.021180 seconds.\n",
      "You can set `force_row_wise=true` to remove the overhead.\n",
      "And if memory is not enough, you can set `force_col_wise=true`.\n",
      "[LightGBM] [Info] Total Bins 2302\n",
      "[LightGBM] [Info] Number of data points in the train set: 11690, number of used features: 1151\n",
      "[LightGBM] [Info] Start training from score 2.764779\n",
      "Model similarity_morgan_dice R2 Score: 0.9398020190041924 & RMSE value: 0.14614475789047782\n",
      "Prediction with similarity_morgan_dice model R2 Score: -0.42051782594244336 & RMSE value: 0.058863854753810944\n"
     ]
    }
   ],
   "source": [
    "x = similarity_dfs_similarity_morgan_dice_top30.iloc[:, 4:]\n",
    "y = similarity_dfs_similarity_morgan_dice_top30['GAP_calib']\n",
    "\n",
    "# Split the data into training and testing sets\n",
    "x_train, x_test, y_train, y_test = train_test_split(x, y, test_size=0.25, random_state=123)\n",
    "\n",
    "# Initialize and train the LightGBM model\n",
    "model = lgb.LGBMRegressor(**tuned_params)\n",
    "model.fit(x_train, y_train)\n",
    "\n",
    "# Make predictions and calculate R^2 score\n",
    "y_pred = model.predict(x_test)\n",
    "\n",
    "# Calculate R2 score\n",
    "r2_model = r2_score(y_test, y_pred)\n",
    "from sklearn.metrics import mean_squared_error\n",
    "rmse_model = mean_squared_error(y_test, y_pred, squared=False)\n",
    "\n",
    "curcumin_df_mf_pred = curcumin_df_mf.copy()\n",
    "curcumin_df_mf_pred['Homo-Lumo Gap (eV) Pred'] = model.predict(curcumin_df_mf.iloc[:, 6:])\n",
    "\n",
    "r2_predict = r2_score(curcumin_df_mf_pred['Homo-Lumo Gap (eV)'],curcumin_df_mf_pred['Homo-Lumo Gap (eV) Pred'])\n",
    "rmse_predict = mean_squared_error(curcumin_df_mf_pred['Homo-Lumo Gap (eV)'],curcumin_df_mf_pred['Homo-Lumo Gap (eV) Pred'])\n",
    "\n",
    "print(f\"Model similarity_morgan_dice R2 Score: {r2_model} & RMSE value: {rmse_model}\")\n",
    "print(f\"Prediction with similarity_morgan_dice model R2 Score: {r2_predict} & RMSE value: {rmse_predict}\")                                           "
   ]
  },
  {
   "cell_type": "code",
   "execution_count": 106,
   "metadata": {},
   "outputs": [
    {
     "data": {
      "image/png": "[encoded data removed]",
      "text/plain": [
       "<Figure size 900x400 with 1 Axes>"
      ]
     },
     "metadata": {},
     "output_type": "display_data"
    }
   ],
   "source": [
    "import matplotlib.pyplot as plt\n",
    "plt.figure(figsize=(9, 4))\n",
    "plt.plot(curcumin_df_mf_pred['Molecule'], curcumin_df_mf_pred['Homo-Lumo Gap (eV)'], marker='s', label='Homo-Lumo Gap (eV)', color='blue')\n",
    "plt.plot(curcumin_df_mf_pred['Molecule'], curcumin_df_mf_pred[f'Homo-Lumo Gap (eV) Pred'], marker='h', label=f'Homo-Lumo Gap (eV) Pred', color='orange')\n",
    "plt.xlabel('Molecule')\n",
    "plt.ylabel('Homo-Lumo Gap (eV)')\n",
    "plt.grid(True)\n",
    "plt.tight_layout()\n",
    "plt.title(f'Homo-Lumo Gap (eV) vs Homo-Lumo Gap (eV) Pred')\n",
    "plt.legend()\n",
    "plt.legend(loc='lower center')"
   ]
  },
  {
   "cell_type": "code",
   "execution_count": 111,
   "metadata": {},
   "outputs": [
    {
     "name": "stdout",
     "output_type": "stream",
     "text": [
      "[LightGBM] [Info] Auto-choosing row-wise multi-threading, the overhead of testing was 0.029369 seconds.\n",
      "You can set `force_row_wise=true` to remove the overhead.\n",
      "And if memory is not enough, you can set `force_col_wise=true`.\n",
      "[LightGBM] [Info] Total Bins 2302\n",
      "[LightGBM] [Info] Number of data points in the train set: 11690, number of used features: 1151\n",
      "[LightGBM] [Info] Start training from score 2.764779\n",
      "Model similarity_morgan_tanimoto R2 Score: 0.9398020190041924 & RMSE value: 0.14614475789047782\n",
      "Prediction with similarity_morgan_tanimoto model R2 Score: -0.42051782594244336 & RMSE value: 0.058863854753810944\n"
     ]
    }
   ],
   "source": [
    "x = similarity_dfs_similarity_morgan_tanimoto_top30.iloc[:, 4:]\n",
    "y = similarity_dfs_similarity_morgan_tanimoto_top30['GAP_calib']\n",
    "\n",
    "# Split the data into training and testing sets\n",
    "x_train, x_test, y_train, y_test = train_test_split(x, y, test_size=0.25, random_state=123)\n",
    "\n",
    "# Initialize and train the LightGBM model\n",
    "model = lgb.LGBMRegressor(**tuned_params)\n",
    "model.fit(x_train, y_train)\n",
    "\n",
    "# Make predictions and calculate R^2 score\n",
    "y_pred = model.predict(x_test)\n",
    "\n",
    "# Calculate R2 score\n",
    "r2_model = r2_score(y_test, y_pred)\n",
    "from sklearn.metrics import mean_squared_error\n",
    "rmse_model = mean_squared_error(y_test, y_pred, squared=False)\n",
    "\n",
    "curcumin_df_mf_pred = curcumin_df_mf.copy()\n",
    "curcumin_df_mf_pred['Homo-Lumo Gap (eV) Pred'] = model.predict(curcumin_df_mf.iloc[:, 6:])\n",
    "\n",
    "r2_predict = r2_score(curcumin_df_mf_pred['Homo-Lumo Gap (eV)'],curcumin_df_mf_pred['Homo-Lumo Gap (eV) Pred'])\n",
    "rmse_predict = mean_squared_error(curcumin_df_mf_pred['Homo-Lumo Gap (eV)'],curcumin_df_mf_pred['Homo-Lumo Gap (eV) Pred'])\n",
    "\n",
    "print(f\"Model similarity_morgan_tanimoto R2 Score: {r2_model} & RMSE value: {rmse_model}\")\n",
    "print(f\"Prediction with similarity_morgan_tanimoto model R2 Score: {r2_predict} & RMSE value: {rmse_predict}\")                                           "
   ]
  },
  {
   "cell_type": "code",
   "execution_count": 112,
   "metadata": {},
   "outputs": [
    {
     "data": {
      "image/png": "[encoded data removed]",
      "text/plain": [
       "<Figure size 900x400 with 1 Axes>"
      ]
     },
     "metadata": {},
     "output_type": "display_data"
    }
   ],
   "source": [
    "import matplotlib.pyplot as plt\n",
    "plt.figure(figsize=(9, 4))\n",
    "plt.plot(curcumin_df_mf_pred['Molecule'], curcumin_df_mf_pred['Homo-Lumo Gap (eV)'], marker='o', label='Homo-Lumo Gap (eV)', color='green')\n",
    "plt.plot(curcumin_df_mf_pred['Molecule'], curcumin_df_mf_pred[f'Homo-Lumo Gap (eV) Pred'], marker='v', label=f'Homo-Lumo Gap (eV) Pred', color='black')\n",
    "plt.xlabel('Molecule')\n",
    "plt.ylabel('Homo-Lumo Gap (eV)')\n",
    "plt.grid(True)\n",
    "plt.tight_layout()\n",
    "plt.title(f'Homo-Lumo Gap (eV) vs Homo-Lumo Gap (eV) Pred')\n",
    "plt.legend()\n",
    "plt.ylim(0, 3.75)\n",
    "plt.legend(loc='lower center')\n",
    "plt.xticks(rotation=90)\n",
    "plt.show()"
   ]
  },
  {
   "cell_type": "code",
   "execution_count": 113,
   "metadata": {},
   "outputs": [
    {
     "name": "stdout",
     "output_type": "stream",
     "text": [
      "[LightGBM] [Info] Auto-choosing row-wise multi-threading, the overhead of testing was 0.035341 seconds.\n",
      "You can set `force_row_wise=true` to remove the overhead.\n",
      "And if memory is not enough, you can set `force_col_wise=true`.\n",
      "[LightGBM] [Info] Total Bins 2278\n",
      "[LightGBM] [Info] Number of data points in the train set: 11697, number of used features: 1139\n",
      "[LightGBM] [Info] Start training from score 2.777426\n",
      "Model similarity_maccs_kulczynski R2 Score: 0.9364081010414715 & RMSE value: 0.14527166736579736\n",
      "Prediction with similarity_maccs_kulczynski model R2 Score: -2.3031114967937163 & RMSE value: 0.136875350546137\n"
     ]
    }
   ],
   "source": [
    "x = similarity_dfs_similarity_maccs_kulczynski_top30.iloc[:, 4:]\n",
    "y = similarity_dfs_similarity_maccs_kulczynski_top30['GAP_calib']\n",
    "\n",
    "# Split the data into training and testing sets\n",
    "x_train, x_test, y_train, y_test = train_test_split(x, y, test_size=0.25, random_state=123)\n",
    "\n",
    "# Initialize and train the LightGBM model\n",
    "model = lgb.LGBMRegressor(**tuned_params)\n",
    "model.fit(x_train, y_train)\n",
    "\n",
    "# Make predictions and calculate R^2 score\n",
    "y_pred = model.predict(x_test)\n",
    "\n",
    "# Calculate R2 score\n",
    "r2_model = r2_score(y_test, y_pred)\n",
    "from sklearn.metrics import mean_squared_error\n",
    "rmse_model = mean_squared_error(y_test, y_pred, squared=False)\n",
    "\n",
    "curcumin_df_mf_pred = curcumin_df_mf.copy()\n",
    "curcumin_df_mf_pred['Homo-Lumo Gap (eV) Pred'] = model.predict(curcumin_df_mf.iloc[:, 6:])\n",
    "\n",
    "r2_predict = r2_score(curcumin_df_mf_pred['Homo-Lumo Gap (eV)'],curcumin_df_mf_pred['Homo-Lumo Gap (eV) Pred'])\n",
    "rmse_predict = mean_squared_error(curcumin_df_mf_pred['Homo-Lumo Gap (eV)'],curcumin_df_mf_pred['Homo-Lumo Gap (eV) Pred'])\n",
    "\n",
    "print(f\"Model similarity_maccs_kulczynski R2 Score: {r2_model} & RMSE value: {rmse_model}\")\n",
    "print(f\"Prediction with similarity_maccs_kulczynski model R2 Score: {r2_predict} & RMSE value: {rmse_predict}\")                                           "
   ]
  },
  {
   "cell_type": "code",
   "execution_count": 115,
   "metadata": {},
   "outputs": [
    {
     "data": {
      "image/png": "[encoded data removed]",
      "text/plain": [
       "<Figure size 900x400 with 1 Axes>"
      ]
     },
     "metadata": {},
     "output_type": "display_data"
    }
   ],
   "source": [
    "import matplotlib.pyplot as plt\n",
    "plt.figure(figsize=(9, 4))\n",
    "plt.plot(curcumin_df_mf_pred['Molecule'], curcumin_df_mf_pred['Homo-Lumo Gap (eV)'], marker='p', label='Homo-Lumo Gap (eV)', color='purple')\n",
    "plt.plot(curcumin_df_mf_pred['Molecule'], curcumin_df_mf_pred[f'Homo-Lumo Gap (eV) Pred'], marker='^', label=f'Homo-Lumo Gap (eV) Pred', color='red')\n",
    "plt.xlabel('Molecule')\n",
    "plt.ylabel('Homo-Lumo Gap (eV)')\n",
    "plt.grid(True)\n",
    "plt.tight_layout()\n",
    "plt.title(f'Homo-Lumo Gap (eV) vs Homo-Lumo Gap (eV) Pred')\n",
    "plt.legend()\n",
    "plt.ylim(0, 3.75)\n",
    "plt.legend(loc='lower center')\n",
    "plt.xticks(rotation=90)\n",
    "plt.show()"
   ]
  }
 ],
 "metadata": {
  "kernelspec": {
   "display_name": "Python 3",
   "language": "python",
   "name": "python3"
  },
  "language_info": {
   "codemirror_mode": {
    "name": "ipython",
    "version": 3
   },
   "file_extension": ".py",
   "mimetype": "text/x-python",
   "name": "python",
   "nbconvert_exporter": "python",
   "pygments_lexer": "ipython3",
   "version": "3.11.5"
  }
 },
 "nbformat": 4,
 "nbformat_minor": 2
}
