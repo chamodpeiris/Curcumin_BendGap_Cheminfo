{
 "cells": [
  {
   "cell_type": "code",
   "execution_count": 1,
   "metadata": {},
   "outputs": [
    {
     "name": "stdout",
     "output_type": "stream",
     "text": [
      "CPU times: total: 11.2 s\n",
      "Wall time: 38.9 s\n"
     ]
    }
   ],
   "source": [
    "%%time\n",
    "import pandas as pd\n",
    "import numpy as np\n",
    "from rdkit import Chem, DataStructs\n",
    "from rdkit.Chem import AllChem, MACCSkeys, Descriptors\n",
    "\n",
    "# Defining the SMILES strings for the cucumin varients\n",
    "curcumin_variants = (\n",
    "    \"COc3cc(OC)c(C/C=C/C2=CC(/C=C/Cc1c(OC)cc(OC)cc1OC)=[O+][B-](F)(F)O2)c(OC)c3\",\n",
    "    \"COc3ccc(C/C=C/C2=[O+][B-](F)(F)OC(/C=C/Cc1c(OC)cc(OC)cc1OC)=C2)cc3\",\n",
    "    \"COc3ccc(C/C=C/C2=CC(/C=C/Cc1ccc(OC)cc1OC)=[O+][B-](F)(F)O2)c(OC)c3\",\n",
    "    \"COc5ccc(C/C=C/C4=[O+][B-](F)(F)OC(/C=C/Cc2c1ccccc1cc3ccccc23)=C4)cc5\",\n",
    "    \"COc3ccc(OC)c(C/C=C/C2=CC(/C=C/Cc1cc(OC)ccc1OC)=[O+][B-](F)(F)O2)c3\",\n",
    "    \"COc3cc(C/C=C/C2=CC(/C=C/Cc1ccc(O)c(OC)c1)=[O+][B-](F)(F)O2)ccc3O\",\n",
    "    \"F[B-]3(F)OC(/C=C/Cc1ccc(Br)cc1)=CC(/C=C/Cc2ccc(Br)cc2)=[O+]3\",\n",
    "    \"C=C(OC)c3ccc(C/C=C/C2=CC(/C=C/Cc1ccc(C(=C)OC)cc1)=[O+][B-](F)(F)O2)cc3\",\n",
    "    \"C=C(OC)c3ccc(C/C=C/C2=CC(/C=C/Cc1ccc(C(=C)OC)cc1)=[O+][B-](F)(F)O2)cc3\",\n",
    "    \"CN(C)c3ccc(C/C=C/C2=CC(/C=C/Cc1ccc(N(C)C)cc1)=[O+][B-](F)(F)O2)cc3\",\n",
    "    \"CCCOc1cc(N(CC)CC)ccc1C/C=C/C3=CC(/C=C/Cc2ccc(N(CC)CC)cc2OCCC)=[O+][B-](F)(F)O3\",\n",
    "    \"CCCOc1cc(N(CC)CC)ccc1C/C=C/C3=CC(/C=C/Cc2ccc(N(CC)CC)cc2OCCC)=[O+][B-](F)(F)O3\",\n",
    "    \"N#Cc3ccc(C/C=C/C2=[O+][B-](F)(F)OC(/C=C/Cc1ccccc1)=C2)cc3\",\n",
    "    \"COc6ccc(C/C=C/C5=CC(/C=C/Cc1cc2ccc3cccc4ccc(c1)c2c34)=[O+][B-](F)(F)O5)cc6\",\n",
    "    \"COc4ccc(C/C=C/C3=CC(/C=C/Cc1ccc(OC)c2ccccc12)=[O+][B-](F)(F)O3)c5ccccc45\",\n",
    "    \"CN(C)c4ccc(C/C=C/C3=CC(/C=C/Cc1ccc(N(C)C)c2ccccc12)=[O+][B-](F)(F)O3)c5ccccc45\",\n",
    "    \"N#Cc3ccc(C/C=C/C2=CC(/C=C/Cc1ccc(C#N)cc1)=[O+][B-](F)(F)O2)cc3\",\n",
    "    \"CCCCN(CCCC)c3ccc(C/C=C/C2=CC(/C=C/Cc1ccc(N(CCCC)CCCC)cc1)=[O+][B-](F)(F)O2)cc3\",\n",
    "    \"COc3ccc(C/C=C/C2=CC(/C=C/Cc1ccc(C#N)cc1)=[O+][B-](F)(F)O2)cc3\",\n",
    "    \"CN5/C(=C\\C\\C=C\\C3=CC(/C=C/C/C=C/2N(C)c1ccccc1C2(C)C)=[O+][B-](F)(F)O3)C(C)(C)c4ccccc45\",\n",
    "    \"COc3ccc(C/C=C/C2=[O+][B-](F)(F)OC(/C=C/Cc1ccc(SC)cc1)=C2)cc3\",\n",
    "    \"CSc3ccc(C/C=C/C2=CC(/C=C/Cc1ccc(SC)cc1)=[O+][B-](F)(F)O2)cc3\",\n",
    "    \"COc3ccc(C/C=C/C2=CC(/C=C/Cc1ccc(N(C)C)cc1)=[O+][B-](F)(F)O2)cc3\",\n",
    "    \"COc5ccc(C/C=C/C4=[O+][B-](F)(F)OC(/C=C/Cc3ccc2c1ccccc1n(C)c2c3)=C4)cc5\",\n",
    "    \"COc1ccccc1C/C=C/C3=CC(/C=C/Cc2ccccc2OC)=[O+][B-](F)(F)O3\",\n",
    "    \"CCCCCC(CC)c5ccc(c4ccc(C/C=C/C3=CC(/C=C/Cc2ccc(c1ccc(C(CC)CCCCC)s1)s2)=[O+][B-](F)(F)O3)s4)s5\"\n",
    ")\n",
    "\n",
    "# Defining the molecule names and HOMO-LUMO Gap\n",
    "molecule_names = ['2-ADMeO3', '3-MR83a', 'AD-10', 'AD-1013', 'AD-1022', 'AD-11', 'AD-12', 'AD-13', 'AD-13-DMF', 'AD-14-Moore', 'AD-15', 'AD-15-DMF', 'AD-16-DMF', 'AD-18', 'AD-24', 'AD-25', 'AD-3', 'AD-35', 'AD-4', 'AD-48', 'AD-5', 'AD-6', 'AD-7', 'AD-8', 'AD-9', 'YD-30']\n",
    "homo_lumo_gap = [3.077, 3.072, 3.259, 2.625, 2.938, 2.946, 3.191, 3.226, 3.228, 2.811, 2.971, 2.813, 3.231, 2.735, 2.878, 2.686, 3.215, 2.77, 3.001, 2.702, 2.97, 2.89, 2.859, 2.97, 3.137, 2.525]\n",
    "\n",
    "molecules = [Chem.MolFromSmiles(smiles) for smiles in curcumin_variants]\n",
    "mws = [round(Descriptors.MolWt(mol),3) for mol in molecules]\n",
    "logp = [Descriptors.MolLogP(mol) for mol in molecules]\n",
    "\n",
    "# Create the initial DataFrame\n",
    "data = {\n",
    "    'Molecule': molecule_names,\n",
    "    'Molecular Weight': mws,\n",
    "    'LogP': logp,\n",
    "    'Homo-Lumo Gap (eV)': homo_lumo_gap,\n",
    "    'Smiles': curcumin_variants\n",
    "}\n",
    "curcumin_df = pd.DataFrame(data)\n",
    "curcumin_df['mol'] = curcumin_df['Smiles'].apply(Chem.MolFromSmiles)\n",
    "\n",
    "# Harvard OPV dataset import\n",
    "data = pd.read_csv('https://raw.githubusercontent.com/AjStephan/havard-smile-opv/main/Non-fullerene%20small-molecules%20acceptors.csv')\n",
    "opv_df = data.drop(columns=[\n",
    "    'index', 'inchikey', 'HOMO_calc', 'LUMO_calc', 'LUMO_calib', 'LUMO_calib_stds',\n",
    "    'HOMO_calib', 'HOMO_calib_stds','GAP_calc', 'molW', 'PCE_calc', 'Voc_calc', 'Jsc_calc',\n",
    "    'FF_calc', 'EQE_calc', 'PCE_calib', 'Voc_calib', 'Jsc_calib', 'FF_calib',\n",
    "    'EQE_calib', 'PCE_cdiff', 'PCE_calib_plus'], axis=1)\n",
    "\n",
    "opv_df['mol'] = opv_df['smiles'].apply(Chem.MolFromSmiles)"
   ]
  },
  {
   "cell_type": "code",
   "execution_count": 2,
   "metadata": {},
   "outputs": [
    {
     "name": "stdout",
     "output_type": "stream",
     "text": [
      "Similarity calculation for morgan fingerprint with Dice metric done for top 6% --> shape: (3143, 4)\n",
      "Similarity calculation for morgan fingerprint with Dice metric done for top 12% --> shape: (6280, 4)\n",
      "Similarity calculation for morgan fingerprint with Dice metric done for top 18% --> shape: (9481, 4)\n",
      "Similarity calculation for morgan fingerprint with Dice metric done for top 24% --> shape: (12408, 4)\n",
      "Similarity calculation for morgan fingerprint with Dice metric done for top 30% --> shape: (15587, 4)\n",
      "Similarity calculation for morgan fingerprint with Dice metric done for top 36% --> shape: (18729, 4)\n",
      "Similarity calculation for morgan fingerprint with Dice metric done for top 42% --> shape: (22178, 4)\n",
      "Similarity calculation for morgan fingerprint with Dice metric done for top 48% --> shape: (24961, 4)\n",
      "Similarity calculation for morgan fingerprint with Dice metric done for top 54% --> shape: (27921, 4)\n",
      "Similarity calculation for morgan fingerprint with Dice metric done for top 60% --> shape: (30755, 4)\n",
      "CPU times: total: 40.6 s\n",
      "Wall time: 42.5 s\n"
     ]
    }
   ],
   "source": [
    "%%time\n",
    "import pandas as pd\n",
    "import numpy as np\n",
    "from rdkit import Chem, DataStructs\n",
    "from rdkit.Chem import AllChem\n",
    "\n",
    "# Defining the molecule to be used for similarity search\n",
    "reference_molecule_smiles = 'Cc3ccc(/C=C/C2=CC(/C=C/c1ccc(C)cc1)=[O+][B-](F)(F)O2)cc3'\n",
    "reference_molecule = Chem.MolFromSmiles(reference_molecule_smiles)\n",
    "\n",
    "# Function to calculate similarity using Dice metric\n",
    "def calculate_similarity(fp1, fp2):\n",
    "    return DataStructs.DiceSimilarity(fp1, fp2)\n",
    "\n",
    "# Dictionary to hold the dataframes\n",
    "similarity_dfs = {}\n",
    "\n",
    "# Using Morgan fingerprint only\n",
    "fp_name = \"morgan\"\n",
    "fp_func = lambda mol: AllChem.GetMorganFingerprintAsBitVect(mol, 2, nBits=2048)\n",
    "reference_fp = fp_func(reference_molecule)\n",
    "\n",
    "# Loop over quantiles from top 6% to top 60% in intervals of 6%\n",
    "for quantile in np.arange(0.94, 0.39, -0.06):\n",
    "    # Calculate similarity and create a new dataframe with similarity scores\n",
    "    opv_df_sim = opv_df.copy()\n",
    "    opv_df_sim[f'similarity_{fp_name}_dice'] = opv_df_sim['mol'].apply(\n",
    "        lambda x: calculate_similarity(fp_func(x), reference_fp)\n",
    "    )\n",
    "    \n",
    "    # Filter top similar molecules based on the quantile\n",
    "    quantile_value = opv_df_sim[f'similarity_{fp_name}_dice'].quantile(quantile)\n",
    "    top_similar_df = opv_df_sim[opv_df_sim[f'similarity_{fp_name}_dice'] >= quantile_value]\n",
    "    \n",
    "    # Store in dictionary\n",
    "    quantile_percentage = int((1 - quantile) * 100)\n",
    "    similarity_dfs[f'similarity_{fp_name}_dice_top{quantile_percentage}'] = top_similar_df\n",
    "\n",
    "    print(f\"Similarity calculation for {fp_name} fingerprint with Dice metric done for top {quantile_percentage}% --> shape: {top_similar_df.shape}\")"
   ]
  },
  {
   "cell_type": "code",
   "execution_count": 3,
   "metadata": {},
   "outputs": [
    {
     "name": "stdout",
     "output_type": "stream",
     "text": [
      "Processing similarity_morgan_dice_top6...\n",
      "Finished processing similarity_morgan_dice_top6 - shape (3143, 2052)\n",
      "Processing similarity_morgan_dice_top12...\n",
      "Finished processing similarity_morgan_dice_top12 - shape (6280, 2052)\n",
      "Processing similarity_morgan_dice_top18...\n",
      "Finished processing similarity_morgan_dice_top18 - shape (9481, 2052)\n",
      "Processing similarity_morgan_dice_top24...\n",
      "Finished processing similarity_morgan_dice_top24 - shape (12408, 2052)\n",
      "Processing similarity_morgan_dice_top30...\n",
      "Finished processing similarity_morgan_dice_top30 - shape (15587, 2052)\n",
      "Processing similarity_morgan_dice_top36...\n",
      "Finished processing similarity_morgan_dice_top36 - shape (18729, 2052)\n",
      "Processing similarity_morgan_dice_top42...\n",
      "Finished processing similarity_morgan_dice_top42 - shape (22178, 2052)\n",
      "Processing similarity_morgan_dice_top48...\n",
      "Finished processing similarity_morgan_dice_top48 - shape (24961, 2052)\n",
      "Processing similarity_morgan_dice_top54...\n",
      "Finished processing similarity_morgan_dice_top54 - shape (27921, 2052)\n",
      "Processing similarity_morgan_dice_top60...\n",
      "Finished processing similarity_morgan_dice_top60 - shape (30755, 2052)\n",
      "CPU times: total: 3min 17s\n",
      "Wall time: 3min 21s\n"
     ]
    }
   ],
   "source": [
    "%%time\n",
    "import pandas as pd\n",
    "from rdkit import Chem\n",
    "from rdkit.Chem import AllChem\n",
    "\n",
    "# Function to generate Morgan fingerprints safely\n",
    "def generate_morgan_fingerprint_safe(smiles):\n",
    "    \"\"\"Generate Morgan fingerprint and handle errors gracefully.\"\"\"\n",
    "    try:\n",
    "        mol = Chem.MolFromSmiles(smiles)\n",
    "        if mol:\n",
    "            return list(AllChem.GetMorganFingerprintAsBitVect(mol, 2, nBits=2048))\n",
    "    except Exception as e:\n",
    "        print(f\"Error generating fingerprint for SMILES {smiles}: {e}\")\n",
    "        return None\n",
    "    return None\n",
    "\n",
    "# Dictionary to store processed dataframes\n",
    "processed_similarity_dfs = {}\n",
    "\n",
    "# Process each dataframe generated by the previous script\n",
    "for quantile in np.arange(0.94, 0.39, -0.06):\n",
    "    quantile_percentage = int((1 - quantile) * 100)\n",
    "    combination = f'similarity_morgan_dice_top{quantile_percentage}'\n",
    "    \n",
    "    if combination in similarity_dfs:\n",
    "        df = similarity_dfs[combination]\n",
    "        print(f\"Processing {combination}...\")\n",
    "        \n",
    "        # Make sure df is a copy, not a slice, to avoid the warning\n",
    "        df = df.copy()\n",
    "\n",
    "        # Apply the function and store the result in a new column\n",
    "        df['Morgan_Fingerprints'] = df['smiles'].apply(generate_morgan_fingerprint_safe)\n",
    "        df = df[df['Morgan_Fingerprints'].notnull()].reset_index(drop=True)\n",
    "        \n",
    "        # Convert fingerprints to a DataFrame and concatenate with the original\n",
    "        morgan_df = pd.DataFrame(df['Morgan_Fingerprints'].tolist(), columns=[f'morgan_{i}' for i in range(2048)])\n",
    "        df_combined = pd.concat([df.drop(columns=['Morgan_Fingerprints']), morgan_df], axis=1)\n",
    "        \n",
    "        # Store the combined DataFrame\n",
    "        processed_similarity_dfs[combination] = df_combined\n",
    "        print(f\"Finished processing {combination} - shape {df_combined.shape}\")\n",
    "\n",
    "# Unpacking the dictionary to individual DataFrames\n",
    "for combination, df in processed_similarity_dfs.items():\n",
    "    globals()[f'similarity_dfs_{combination}'] = df"
   ]
  },
  {
   "cell_type": "code",
   "execution_count": 5,
   "metadata": {},
   "outputs": [
    {
     "name": "stdout",
     "output_type": "stream",
     "text": [
      "Processing similarity_morgan_dice_top6...\n",
      "[LightGBM] [Info] Auto-choosing row-wise multi-threading, the overhead of testing was 0.002509 seconds.\n",
      "You can set `force_row_wise=true` to remove the overhead.\n",
      "And if memory is not enough, you can set `force_col_wise=true`.\n",
      "[LightGBM] [Info] Total Bins 1250\n",
      "[LightGBM] [Info] Number of data points in the train set: 2357, number of used features: 625\n",
      "[LightGBM] [Info] Start training from score 2.799595\n",
      "Done processing similarity_morgan_dice_top6 with Test R² score: 0.9116544622279132, Test RMSE: 0.1802194971121202\n",
      "Processing similarity_morgan_dice_top12...\n",
      "[LightGBM] [Info] Auto-choosing row-wise multi-threading, the overhead of testing was 0.008153 seconds.\n",
      "You can set `force_row_wise=true` to remove the overhead.\n",
      "And if memory is not enough, you can set `force_col_wise=true`.\n",
      "[LightGBM] [Info] Total Bins 1694\n",
      "[LightGBM] [Info] Number of data points in the train set: 4710, number of used features: 847\n",
      "[LightGBM] [Info] Start training from score 2.794865\n",
      "Done processing similarity_morgan_dice_top12 with Test R² score: 0.9200865137113466, Test RMSE: 0.16794937244488817\n",
      "Processing similarity_morgan_dice_top18...\n",
      "[LightGBM] [Info] Auto-choosing row-wise multi-threading, the overhead of testing was 0.014310 seconds.\n",
      "You can set `force_row_wise=true` to remove the overhead.\n",
      "And if memory is not enough, you can set `force_col_wise=true`.\n",
      "[LightGBM] [Info] Total Bins 1924\n",
      "[LightGBM] [Info] Number of data points in the train set: 7110, number of used features: 962\n",
      "[LightGBM] [Info] Start training from score 2.772621\n",
      "Done processing similarity_morgan_dice_top18 with Test R² score: 0.9091850413282923, Test RMSE: 0.18072485069905941\n",
      "Processing similarity_morgan_dice_top24...\n",
      "[LightGBM] [Info] Auto-choosing row-wise multi-threading, the overhead of testing was 0.016498 seconds.\n",
      "You can set `force_row_wise=true` to remove the overhead.\n",
      "And if memory is not enough, you can set `force_col_wise=true`.\n",
      "[LightGBM] [Info] Total Bins 2122\n",
      "[LightGBM] [Info] Number of data points in the train set: 9306, number of used features: 1061\n",
      "[LightGBM] [Info] Start training from score 2.763858\n",
      "Done processing similarity_morgan_dice_top24 with Test R² score: 0.9260046154335834, Test RMSE: 0.16256256151315415\n",
      "Processing similarity_morgan_dice_top30...\n",
      "[LightGBM] [Info] Auto-choosing row-wise multi-threading, the overhead of testing was 0.031174 seconds.\n",
      "You can set `force_row_wise=true` to remove the overhead.\n",
      "And if memory is not enough, you can set `force_col_wise=true`.\n",
      "[LightGBM] [Info] Total Bins 2302\n",
      "[LightGBM] [Info] Number of data points in the train set: 11690, number of used features: 1151\n",
      "[LightGBM] [Info] Start training from score 2.764779\n",
      "Done processing similarity_morgan_dice_top30 with Test R² score: 0.9398020190041924, Test RMSE: 0.14614475789047782\n",
      "Processing similarity_morgan_dice_top36...\n",
      "[LightGBM] [Info] Auto-choosing row-wise multi-threading, the overhead of testing was 0.032977 seconds.\n",
      "You can set `force_row_wise=true` to remove the overhead.\n",
      "And if memory is not enough, you can set `force_col_wise=true`.\n",
      "[LightGBM] [Info] Total Bins 2408\n",
      "[LightGBM] [Info] Number of data points in the train set: 14046, number of used features: 1204\n",
      "[LightGBM] [Info] Start training from score 2.769816\n",
      "Done processing similarity_morgan_dice_top36 with Test R² score: 0.9287776906982043, Test RMSE: 0.1588583624857099\n",
      "Processing similarity_morgan_dice_top42...\n",
      "[LightGBM] [Info] Auto-choosing row-wise multi-threading, the overhead of testing was 0.042751 seconds.\n",
      "You can set `force_row_wise=true` to remove the overhead.\n",
      "And if memory is not enough, you can set `force_col_wise=true`.\n",
      "[LightGBM] [Info] Total Bins 2512\n",
      "[LightGBM] [Info] Number of data points in the train set: 16633, number of used features: 1256\n",
      "[LightGBM] [Info] Start training from score 2.770777\n",
      "Done processing similarity_morgan_dice_top42 with Test R² score: 0.9323319049368852, Test RMSE: 0.15400734377106653\n",
      "Processing similarity_morgan_dice_top48...\n",
      "[LightGBM] [Info] Auto-choosing row-wise multi-threading, the overhead of testing was 0.044618 seconds.\n",
      "You can set `force_row_wise=true` to remove the overhead.\n",
      "And if memory is not enough, you can set `force_col_wise=true`.\n",
      "[LightGBM] [Info] Total Bins 2594\n",
      "[LightGBM] [Info] Number of data points in the train set: 18720, number of used features: 1297\n",
      "[LightGBM] [Info] Start training from score 2.772299\n",
      "Done processing similarity_morgan_dice_top48 with Test R² score: 0.9438994013261439, Test RMSE: 0.13935659280095283\n",
      "Processing similarity_morgan_dice_top54...\n",
      "[LightGBM] [Info] Auto-choosing row-wise multi-threading, the overhead of testing was 0.057893 seconds.\n",
      "You can set `force_row_wise=true` to remove the overhead.\n",
      "And if memory is not enough, you can set `force_col_wise=true`.\n",
      "[LightGBM] [Info] Total Bins 2654\n",
      "[LightGBM] [Info] Number of data points in the train set: 20940, number of used features: 1327\n",
      "[LightGBM] [Info] Start training from score 2.770402\n",
      "Done processing similarity_morgan_dice_top54 with Test R² score: 0.9390055159122573, Test RMSE: 0.14534479577042034\n",
      "Processing similarity_morgan_dice_top60...\n",
      "[LightGBM] [Info] Auto-choosing row-wise multi-threading, the overhead of testing was 0.059060 seconds.\n",
      "You can set `force_row_wise=true` to remove the overhead.\n",
      "And if memory is not enough, you can set `force_col_wise=true`.\n",
      "[LightGBM] [Info] Total Bins 2728\n",
      "[LightGBM] [Info] Number of data points in the train set: 23066, number of used features: 1364\n",
      "[LightGBM] [Info] Start training from score 2.770919\n",
      "Done processing similarity_morgan_dice_top60 with Test R² score: 0.8974565940954358, Test RMSE: 0.19529997114704054\n"
     ]
    },
    {
     "data": {
      "text/html": [
       "<div>\n",
       "<style scoped>\n",
       "    .dataframe tbody tr th:only-of-type {\n",
       "        vertical-align: middle;\n",
       "    }\n",
       "\n",
       "    .dataframe tbody tr th {\n",
       "        vertical-align: top;\n",
       "    }\n",
       "\n",
       "    .dataframe thead th {\n",
       "        text-align: right;\n",
       "    }\n",
       "</style>\n",
       "<table border=\"1\" class=\"dataframe\">\n",
       "  <thead>\n",
       "    <tr style=\"text-align: right;\">\n",
       "      <th></th>\n",
       "      <th>similarity_method</th>\n",
       "      <th>train_r2_score</th>\n",
       "      <th>test_r2_score</th>\n",
       "      <th>train_rmse</th>\n",
       "      <th>test_rmse</th>\n",
       "      <th>percentile_int</th>\n",
       "      <th>Filtered Percentage</th>\n",
       "      <th>num_molecules</th>\n",
       "    </tr>\n",
       "  </thead>\n",
       "  <tbody>\n",
       "    <tr>\n",
       "      <th>0</th>\n",
       "      <td>similarity_morgan_dice_top6</td>\n",
       "      <td>0.998788</td>\n",
       "      <td>0.911654</td>\n",
       "      <td>0.020637</td>\n",
       "      <td>0.180219</td>\n",
       "      <td>6</td>\n",
       "      <td>Top 6%</td>\n",
       "      <td>3143</td>\n",
       "    </tr>\n",
       "    <tr>\n",
       "      <th>1</th>\n",
       "      <td>similarity_morgan_dice_top12</td>\n",
       "      <td>0.998174</td>\n",
       "      <td>0.920087</td>\n",
       "      <td>0.025399</td>\n",
       "      <td>0.167949</td>\n",
       "      <td>12</td>\n",
       "      <td>Top 12%</td>\n",
       "      <td>6280</td>\n",
       "    </tr>\n",
       "    <tr>\n",
       "      <th>2</th>\n",
       "      <td>similarity_morgan_dice_top18</td>\n",
       "      <td>0.997740</td>\n",
       "      <td>0.909185</td>\n",
       "      <td>0.028264</td>\n",
       "      <td>0.180725</td>\n",
       "      <td>18</td>\n",
       "      <td>Top 18%</td>\n",
       "      <td>9481</td>\n",
       "    </tr>\n",
       "    <tr>\n",
       "      <th>3</th>\n",
       "      <td>similarity_morgan_dice_top24</td>\n",
       "      <td>0.996482</td>\n",
       "      <td>0.926005</td>\n",
       "      <td>0.035192</td>\n",
       "      <td>0.162563</td>\n",
       "      <td>24</td>\n",
       "      <td>Top 24%</td>\n",
       "      <td>12408</td>\n",
       "    </tr>\n",
       "    <tr>\n",
       "      <th>4</th>\n",
       "      <td>similarity_morgan_dice_top30</td>\n",
       "      <td>0.995301</td>\n",
       "      <td>0.939802</td>\n",
       "      <td>0.040628</td>\n",
       "      <td>0.146145</td>\n",
       "      <td>30</td>\n",
       "      <td>Top 30%</td>\n",
       "      <td>15587</td>\n",
       "    </tr>\n",
       "  </tbody>\n",
       "</table>\n",
       "</div>"
      ],
      "text/plain": [
       "              similarity_method  train_r2_score  test_r2_score  train_rmse  \\\n",
       "0   similarity_morgan_dice_top6        0.998788       0.911654    0.020637   \n",
       "1  similarity_morgan_dice_top12        0.998174       0.920087    0.025399   \n",
       "2  similarity_morgan_dice_top18        0.997740       0.909185    0.028264   \n",
       "3  similarity_morgan_dice_top24        0.996482       0.926005    0.035192   \n",
       "4  similarity_morgan_dice_top30        0.995301       0.939802    0.040628   \n",
       "\n",
       "   test_rmse  percentile_int Filtered Percentage  num_molecules  \n",
       "0   0.180219               6              Top 6%           3143  \n",
       "1   0.167949              12             Top 12%           6280  \n",
       "2   0.180725              18             Top 18%           9481  \n",
       "3   0.162563              24             Top 24%          12408  \n",
       "4   0.146145              30             Top 30%          15587  "
      ]
     },
     "execution_count": 5,
     "metadata": {},
     "output_type": "execute_result"
    }
   ],
   "source": [
    "# Required imports\n",
    "from sklearn.metrics import r2_score, mean_squared_error\n",
    "import lightgbm as lgb\n",
    "from sklearn.model_selection import train_test_split\n",
    "import pandas as pd\n",
    "import numpy as np\n",
    "\n",
    "# Tuned parameters for LightGBM\n",
    "tuned_params = {'n_estimators': 1000, 'learning_rate': 0.23685145356420312, 'num_leaves': 51}\n",
    "\n",
    "# To store results\n",
    "results = []\n",
    "\n",
    "# Loop through each dataframe in the processed_similarity_dfs dictionary\n",
    "for name, df in processed_similarity_dfs.items():\n",
    "    print(f\"Processing {name}...\")\n",
    "    \n",
    "    # Features (skip the first 4 columns to get the Morgan fingerprint columns)\n",
    "    X = df.iloc[:, 4:]\n",
    "    \n",
    "    # Target variable\n",
    "    y = df['GAP_calib']  \n",
    "    \n",
    "    # Split the data into training and testing sets\n",
    "    X_train, X_test, y_train, y_test = train_test_split(X, y, test_size=0.25, random_state=123)\n",
    "    \n",
    "    # Initialize and train the LightGBM model\n",
    "    model = lgb.LGBMRegressor(**tuned_params)\n",
    "    model.fit(X_train, y_train)\n",
    "    \n",
    "    # Predictions\n",
    "    y_train_pred = model.predict(X_train)\n",
    "    y_test_pred = model.predict(X_test)\n",
    "    \n",
    "    # Calculate R² scores\n",
    "    train_r2 = r2_score(y_train, y_train_pred)\n",
    "    test_r2 = r2_score(y_test, y_test_pred)\n",
    "    \n",
    "    # Calculate RMSE (Root Mean Squared Error)\n",
    "    train_rmse = np.sqrt(mean_squared_error(y_train, y_train_pred))\n",
    "    test_rmse = np.sqrt(mean_squared_error(y_test, y_test_pred))\n",
    "    \n",
    "    # Extract percentile from the dataframe name\n",
    "    # Assuming the name format is \"similarity_morgan_dice_topXX\"\n",
    "    try:\n",
    "        percentile = int(name.split('_')[-1].replace('top', ''))  # Extract \"XX\" from \"topXX\"\n",
    "        percentile_str = f\"Top {percentile}%\"  # Convert to string format \"Top XX%\"\n",
    "    except ValueError:\n",
    "        percentile = np.nan  # Handle cases where the name does not follow the expected format\n",
    "        percentile_str = \"Unknown\"  # Set a default value for the string\n",
    "    \n",
    "    # Store results\n",
    "    results.append({\n",
    "        'similarity_method': name,\n",
    "        'train_r2_score': train_r2,\n",
    "        'test_r2_score': test_r2,\n",
    "        'train_rmse': train_rmse,\n",
    "        'test_rmse': test_rmse,\n",
    "        'percentile_int': percentile,\n",
    "        'Filtered Percentage': percentile_str,\n",
    "        'num_molecules': df.shape[0]\n",
    "    })\n",
    "    \n",
    "    print(f\"Done processing {name} with Test R² score: {test_r2}, Test RMSE: {test_rmse}\")\n",
    "\n",
    "# Convert results to a DataFrame for further analysis\n",
    "final_results = pd.DataFrame(results)\n",
    "final_results.head()"
   ]
  },
  {
   "cell_type": "code",
   "execution_count": 33,
   "metadata": {},
   "outputs": [
    {
     "data": {
      "application/vnd.plotly.v1+json": {
       "config": {
        "plotlyServerURL": "https://plot.ly"
       },
       "data": [
        {
         "marker": {
          "color": [
           "rgba(55, 83, 109, 0.7)",
           "rgba(55, 83, 109, 0.7)",
           "rgba(55, 83, 109, 0.7)",
           "rgba(55, 83, 109, 0.7)",
           "rgba(255, 99, 71, 0.8)",
           "rgba(55, 83, 109, 0.7)",
           "rgba(55, 83, 109, 0.7)",
           "rgba(255, 99, 71, 0.8)",
           "rgba(255, 99, 71, 0.8)",
           "rgba(55, 83, 109, 0.7)"
          ]
         },
         "name": "Test R² Score",
         "text": [
          0.912,
          0.92,
          0.909,
          0.926,
          0.94,
          0.929,
          0.932,
          0.944,
          0.939,
          0.897
         ],
         "textposition": "auto",
         "type": "bar",
         "x": [
          "Top 6%",
          "Top 12%",
          "Top 18%",
          "Top 24%",
          "Top 30%",
          "Top 36%",
          "Top 42%",
          "Top 48%",
          "Top 54%",
          "Top 60%"
         ],
         "y": [
          0.9116544622279132,
          0.9200865137113466,
          0.9091850413282923,
          0.9260046154335834,
          0.9398020190041924,
          0.9287776906982043,
          0.9323319049368852,
          0.9438994013261439,
          0.9390055159122573,
          0.8974565940954358
         ]
        },
        {
         "line": {
          "color": "firebrick",
          "width": 2
         },
         "marker": {
          "size": 8
         },
         "mode": "lines+markers",
         "name": "Number of Molecules",
         "text": [
          3143,
          6280,
          9481,
          12408,
          15587,
          18729,
          22178,
          24961,
          27921,
          30755
         ],
         "type": "scatter",
         "x": [
          "Top 6%",
          "Top 12%",
          "Top 18%",
          "Top 24%",
          "Top 30%",
          "Top 36%",
          "Top 42%",
          "Top 48%",
          "Top 54%",
          "Top 60%"
         ],
         "y": [
          3143,
          6280,
          9481,
          12408,
          15587,
          18729,
          22178,
          24961,
          27921,
          30755
         ],
         "yaxis": "y2"
        }
       ],
       "layout": {
        "height": 800,
        "legend": {
         "bgcolor": "rgba(255, 255, 255, 0)",
         "orientation": "h",
         "x": 0.5,
         "y": 1
        },
        "margin": {
         "b": 50,
         "l": 100,
         "r": 100,
         "t": 100
        },
        "template": {
         "data": {
          "bar": [
           {
            "error_x": {
             "color": "#2a3f5f"
            },
            "error_y": {
             "color": "#2a3f5f"
            },
            "marker": {
             "line": {
              "color": "white",
              "width": 0.5
             },
             "pattern": {
              "fillmode": "overlay",
              "size": 10,
              "solidity": 0.2
             }
            },
            "type": "bar"
           }
          ],
          "barpolar": [
           {
            "marker": {
             "line": {
              "color": "white",
              "width": 0.5
             },
             "pattern": {
              "fillmode": "overlay",
              "size": 10,
              "solidity": 0.2
             }
            },
            "type": "barpolar"
           }
          ],
          "carpet": [
           {
            "aaxis": {
             "endlinecolor": "#2a3f5f",
             "gridcolor": "#C8D4E3",
             "linecolor": "#C8D4E3",
             "minorgridcolor": "#C8D4E3",
             "startlinecolor": "#2a3f5f"
            },
            "baxis": {
             "endlinecolor": "#2a3f5f",
             "gridcolor": "#C8D4E3",
             "linecolor": "#C8D4E3",
             "minorgridcolor": "#C8D4E3",
             "startlinecolor": "#2a3f5f"
            },
            "type": "carpet"
           }
          ],
          "choropleth": [
           {
            "colorbar": {
             "outlinewidth": 0,
             "ticks": ""
            },
            "type": "choropleth"
           }
          ],
          "contour": [
           {
            "colorbar": {
             "outlinewidth": 0,
             "ticks": ""
            },
            "colorscale": [
             [
              0,
              "#0d0887"
             ],
             [
              0.1111111111111111,
              "#46039f"
             ],
             [
              0.2222222222222222,
              "#7201a8"
             ],
             [
              0.3333333333333333,
              "#9c179e"
             ],
             [
              0.4444444444444444,
              "#bd3786"
             ],
             [
              0.5555555555555556,
              "#d8576b"
             ],
             [
              0.6666666666666666,
              "#ed7953"
             ],
             [
              0.7777777777777778,
              "#fb9f3a"
             ],
             [
              0.8888888888888888,
              "#fdca26"
             ],
             [
              1,
              "#f0f921"
             ]
            ],
            "type": "contour"
           }
          ],
          "contourcarpet": [
           {
            "colorbar": {
             "outlinewidth": 0,
             "ticks": ""
            },
            "type": "contourcarpet"
           }
          ],
          "heatmap": [
           {
            "colorbar": {
             "outlinewidth": 0,
             "ticks": ""
            },
            "colorscale": [
             [
              0,
              "#0d0887"
             ],
             [
              0.1111111111111111,
              "#46039f"
             ],
             [
              0.2222222222222222,
              "#7201a8"
             ],
             [
              0.3333333333333333,
              "#9c179e"
             ],
             [
              0.4444444444444444,
              "#bd3786"
             ],
             [
              0.5555555555555556,
              "#d8576b"
             ],
             [
              0.6666666666666666,
              "#ed7953"
             ],
             [
              0.7777777777777778,
              "#fb9f3a"
             ],
             [
              0.8888888888888888,
              "#fdca26"
             ],
             [
              1,
              "#f0f921"
             ]
            ],
            "type": "heatmap"
           }
          ],
          "heatmapgl": [
           {
            "colorbar": {
             "outlinewidth": 0,
             "ticks": ""
            },
            "colorscale": [
             [
              0,
              "#0d0887"
             ],
             [
              0.1111111111111111,
              "#46039f"
             ],
             [
              0.2222222222222222,
              "#7201a8"
             ],
             [
              0.3333333333333333,
              "#9c179e"
             ],
             [
              0.4444444444444444,
              "#bd3786"
             ],
             [
              0.5555555555555556,
              "#d8576b"
             ],
             [
              0.6666666666666666,
              "#ed7953"
             ],
             [
              0.7777777777777778,
              "#fb9f3a"
             ],
             [
              0.8888888888888888,
              "#fdca26"
             ],
             [
              1,
              "#f0f921"
             ]
            ],
            "type": "heatmapgl"
           }
          ],
          "histogram": [
           {
            "marker": {
             "pattern": {
              "fillmode": "overlay",
              "size": 10,
              "solidity": 0.2
             }
            },
            "type": "histogram"
           }
          ],
          "histogram2d": [
           {
            "colorbar": {
             "outlinewidth": 0,
             "ticks": ""
            },
            "colorscale": [
             [
              0,
              "#0d0887"
             ],
             [
              0.1111111111111111,
              "#46039f"
             ],
             [
              0.2222222222222222,
              "#7201a8"
             ],
             [
              0.3333333333333333,
              "#9c179e"
             ],
             [
              0.4444444444444444,
              "#bd3786"
             ],
             [
              0.5555555555555556,
              "#d8576b"
             ],
             [
              0.6666666666666666,
              "#ed7953"
             ],
             [
              0.7777777777777778,
              "#fb9f3a"
             ],
             [
              0.8888888888888888,
              "#fdca26"
             ],
             [
              1,
              "#f0f921"
             ]
            ],
            "type": "histogram2d"
           }
          ],
          "histogram2dcontour": [
           {
            "colorbar": {
             "outlinewidth": 0,
             "ticks": ""
            },
            "colorscale": [
             [
              0,
              "#0d0887"
             ],
             [
              0.1111111111111111,
              "#46039f"
             ],
             [
              0.2222222222222222,
              "#7201a8"
             ],
             [
              0.3333333333333333,
              "#9c179e"
             ],
             [
              0.4444444444444444,
              "#bd3786"
             ],
             [
              0.5555555555555556,
              "#d8576b"
             ],
             [
              0.6666666666666666,
              "#ed7953"
             ],
             [
              0.7777777777777778,
              "#fb9f3a"
             ],
             [
              0.8888888888888888,
              "#fdca26"
             ],
             [
              1,
              "#f0f921"
             ]
            ],
            "type": "histogram2dcontour"
           }
          ],
          "mesh3d": [
           {
            "colorbar": {
             "outlinewidth": 0,
             "ticks": ""
            },
            "type": "mesh3d"
           }
          ],
          "parcoords": [
           {
            "line": {
             "colorbar": {
              "outlinewidth": 0,
              "ticks": ""
             }
            },
            "type": "parcoords"
           }
          ],
          "pie": [
           {
            "automargin": true,
            "type": "pie"
           }
          ],
          "scatter": [
           {
            "fillpattern": {
             "fillmode": "overlay",
             "size": 10,
             "solidity": 0.2
            },
            "type": "scatter"
           }
          ],
          "scatter3d": [
           {
            "line": {
             "colorbar": {
              "outlinewidth": 0,
              "ticks": ""
             }
            },
            "marker": {
             "colorbar": {
              "outlinewidth": 0,
              "ticks": ""
             }
            },
            "type": "scatter3d"
           }
          ],
          "scattercarpet": [
           {
            "marker": {
             "colorbar": {
              "outlinewidth": 0,
              "ticks": ""
             }
            },
            "type": "scattercarpet"
           }
          ],
          "scattergeo": [
           {
            "marker": {
             "colorbar": {
              "outlinewidth": 0,
              "ticks": ""
             }
            },
            "type": "scattergeo"
           }
          ],
          "scattergl": [
           {
            "marker": {
             "colorbar": {
              "outlinewidth": 0,
              "ticks": ""
             }
            },
            "type": "scattergl"
           }
          ],
          "scattermapbox": [
           {
            "marker": {
             "colorbar": {
              "outlinewidth": 0,
              "ticks": ""
             }
            },
            "type": "scattermapbox"
           }
          ],
          "scatterpolar": [
           {
            "marker": {
             "colorbar": {
              "outlinewidth": 0,
              "ticks": ""
             }
            },
            "type": "scatterpolar"
           }
          ],
          "scatterpolargl": [
           {
            "marker": {
             "colorbar": {
              "outlinewidth": 0,
              "ticks": ""
             }
            },
            "type": "scatterpolargl"
           }
          ],
          "scatterternary": [
           {
            "marker": {
             "colorbar": {
              "outlinewidth": 0,
              "ticks": ""
             }
            },
            "type": "scatterternary"
           }
          ],
          "surface": [
           {
            "colorbar": {
             "outlinewidth": 0,
             "ticks": ""
            },
            "colorscale": [
             [
              0,
              "#0d0887"
             ],
             [
              0.1111111111111111,
              "#46039f"
             ],
             [
              0.2222222222222222,
              "#7201a8"
             ],
             [
              0.3333333333333333,
              "#9c179e"
             ],
             [
              0.4444444444444444,
              "#bd3786"
             ],
             [
              0.5555555555555556,
              "#d8576b"
             ],
             [
              0.6666666666666666,
              "#ed7953"
             ],
             [
              0.7777777777777778,
              "#fb9f3a"
             ],
             [
              0.8888888888888888,
              "#fdca26"
             ],
             [
              1,
              "#f0f921"
             ]
            ],
            "type": "surface"
           }
          ],
          "table": [
           {
            "cells": {
             "fill": {
              "color": "#EBF0F8"
             },
             "line": {
              "color": "white"
             }
            },
            "header": {
             "fill": {
              "color": "#C8D4E3"
             },
             "line": {
              "color": "white"
             }
            },
            "type": "table"
           }
          ]
         },
         "layout": {
          "annotationdefaults": {
           "arrowcolor": "#2a3f5f",
           "arrowhead": 0,
           "arrowwidth": 1
          },
          "autotypenumbers": "strict",
          "coloraxis": {
           "colorbar": {
            "outlinewidth": 0,
            "ticks": ""
           }
          },
          "colorscale": {
           "diverging": [
            [
             0,
             "#8e0152"
            ],
            [
             0.1,
             "#c51b7d"
            ],
            [
             0.2,
             "#de77ae"
            ],
            [
             0.3,
             "#f1b6da"
            ],
            [
             0.4,
             "#fde0ef"
            ],
            [
             0.5,
             "#f7f7f7"
            ],
            [
             0.6,
             "#e6f5d0"
            ],
            [
             0.7,
             "#b8e186"
            ],
            [
             0.8,
             "#7fbc41"
            ],
            [
             0.9,
             "#4d9221"
            ],
            [
             1,
             "#276419"
            ]
           ],
           "sequential": [
            [
             0,
             "#0d0887"
            ],
            [
             0.1111111111111111,
             "#46039f"
            ],
            [
             0.2222222222222222,
             "#7201a8"
            ],
            [
             0.3333333333333333,
             "#9c179e"
            ],
            [
             0.4444444444444444,
             "#bd3786"
            ],
            [
             0.5555555555555556,
             "#d8576b"
            ],
            [
             0.6666666666666666,
             "#ed7953"
            ],
            [
             0.7777777777777778,
             "#fb9f3a"
            ],
            [
             0.8888888888888888,
             "#fdca26"
            ],
            [
             1,
             "#f0f921"
            ]
           ],
           "sequentialminus": [
            [
             0,
             "#0d0887"
            ],
            [
             0.1111111111111111,
             "#46039f"
            ],
            [
             0.2222222222222222,
             "#7201a8"
            ],
            [
             0.3333333333333333,
             "#9c179e"
            ],
            [
             0.4444444444444444,
             "#bd3786"
            ],
            [
             0.5555555555555556,
             "#d8576b"
            ],
            [
             0.6666666666666666,
             "#ed7953"
            ],
            [
             0.7777777777777778,
             "#fb9f3a"
            ],
            [
             0.8888888888888888,
             "#fdca26"
            ],
            [
             1,
             "#f0f921"
            ]
           ]
          },
          "colorway": [
           "#636efa",
           "#EF553B",
           "#00cc96",
           "#ab63fa",
           "#FFA15A",
           "#19d3f3",
           "#FF6692",
           "#B6E880",
           "#FF97FF",
           "#FECB52"
          ],
          "font": {
           "color": "#2a3f5f"
          },
          "geo": {
           "bgcolor": "white",
           "lakecolor": "white",
           "landcolor": "white",
           "showlakes": true,
           "showland": true,
           "subunitcolor": "#C8D4E3"
          },
          "hoverlabel": {
           "align": "left"
          },
          "hovermode": "closest",
          "mapbox": {
           "style": "light"
          },
          "paper_bgcolor": "white",
          "plot_bgcolor": "white",
          "polar": {
           "angularaxis": {
            "gridcolor": "#EBF0F8",
            "linecolor": "#EBF0F8",
            "ticks": ""
           },
           "bgcolor": "white",
           "radialaxis": {
            "gridcolor": "#EBF0F8",
            "linecolor": "#EBF0F8",
            "ticks": ""
           }
          },
          "scene": {
           "xaxis": {
            "backgroundcolor": "white",
            "gridcolor": "#DFE8F3",
            "gridwidth": 2,
            "linecolor": "#EBF0F8",
            "showbackground": true,
            "ticks": "",
            "zerolinecolor": "#EBF0F8"
           },
           "yaxis": {
            "backgroundcolor": "white",
            "gridcolor": "#DFE8F3",
            "gridwidth": 2,
            "linecolor": "#EBF0F8",
            "showbackground": true,
            "ticks": "",
            "zerolinecolor": "#EBF0F8"
           },
           "zaxis": {
            "backgroundcolor": "white",
            "gridcolor": "#DFE8F3",
            "gridwidth": 2,
            "linecolor": "#EBF0F8",
            "showbackground": true,
            "ticks": "",
            "zerolinecolor": "#EBF0F8"
           }
          },
          "shapedefaults": {
           "line": {
            "color": "#2a3f5f"
           }
          },
          "ternary": {
           "aaxis": {
            "gridcolor": "#DFE8F3",
            "linecolor": "#A2B1C6",
            "ticks": ""
           },
           "baxis": {
            "gridcolor": "#DFE8F3",
            "linecolor": "#A2B1C6",
            "ticks": ""
           },
           "bgcolor": "white",
           "caxis": {
            "gridcolor": "#DFE8F3",
            "linecolor": "#A2B1C6",
            "ticks": ""
           }
          },
          "title": {
           "x": 0.05
          },
          "xaxis": {
           "automargin": true,
           "gridcolor": "#EBF0F8",
           "linecolor": "#EBF0F8",
           "ticks": "",
           "title": {
            "standoff": 15
           },
           "zerolinecolor": "#EBF0F8",
           "zerolinewidth": 2
          },
          "yaxis": {
           "automargin": true,
           "gridcolor": "#EBF0F8",
           "linecolor": "#EBF0F8",
           "ticks": "",
           "title": {
            "standoff": 15
           },
           "zerolinecolor": "#EBF0F8",
           "zerolinewidth": 2
          }
         }
        },
        "title": {
         "text": "R² Score and Number of Molecules vs. Filtered Percentage"
        },
        "width": 1000,
        "xaxis": {
         "tickmode": "array",
         "tickvals": [
          "Top 6%",
          "Top 12%",
          "Top 18%",
          "Top 24%",
          "Top 30%",
          "Top 36%",
          "Top 42%",
          "Top 48%",
          "Top 54%",
          "Top 60%"
         ],
         "title": {
          "text": "Filtered Percentage"
         }
        },
        "yaxis": {
         "showgrid": false,
         "title": {
          "text": "Test R² Score"
         }
        },
        "yaxis2": {
         "overlaying": "y",
         "showgrid": false,
         "side": "right",
         "title": {
          "text": "Number of Molecules"
         }
        }
       }
      }
     },
     "metadata": {},
     "output_type": "display_data"
    }
   ],
   "source": [
    "import plotly.graph_objects as go\n",
    "\n",
    "# Ensure final_results DataFrame is sorted by percentile for better visualization\n",
    "final_results_sorted = final_results.sort_values(by='percentile_int')\n",
    "\n",
    "# Determine the top 3 R² scores and their indices\n",
    "top_3_indices = final_results_sorted['test_r2_score'].nlargest(3).index\n",
    "\n",
    "# Create a color array to highlight the top 3 R² scores\n",
    "colors = ['rgba(55, 83, 109, 0.7)'] * len(final_results_sorted)\n",
    "for i in top_3_indices:\n",
    "    colors[i] = 'rgba(255, 99, 71, 0.8)'  # Highlight with a distinct color, e.g., tomato red\n",
    "\n",
    "# Create the figure\n",
    "fig = go.Figure()\n",
    "\n",
    "# Bar plot for R² scores\n",
    "fig.add_trace(go.Bar(\n",
    "    x=final_results_sorted['Filtered Percentage'],\n",
    "    y=final_results_sorted['test_r2_score'],\n",
    "    name='Test R² Score',\n",
    "    marker_color=colors,\n",
    "    text=final_results_sorted['test_r2_score'].round(3),\n",
    "    textposition='auto'\n",
    "))\n",
    "\n",
    "# Line plot for the number of molecules\n",
    "fig.add_trace(go.Scatter(\n",
    "    x=final_results_sorted['Filtered Percentage'],\n",
    "    y=final_results_sorted['num_molecules'],\n",
    "    name='Number of Molecules',\n",
    "    yaxis='y2',\n",
    "    mode='lines+markers',\n",
    "    line=dict(color='firebrick', width=2),\n",
    "    marker=dict(size=8),\n",
    "    text=final_results_sorted['num_molecules']\n",
    "))\n",
    "\n",
    "# Update the layout to include a secondary y-axis\n",
    "fig.update_layout(\n",
    "    title='R² Score and Number of Molecules vs. Filtered Percentage',\n",
    "    xaxis=dict(\n",
    "        title='Filtered Percentage',\n",
    "        tickmode='array',\n",
    "        tickvals=final_results_sorted['Filtered Percentage'],\n",
    "    ),\n",
    "    yaxis=dict(\n",
    "        title='Test R² Score',\n",
    "        showgrid=False,\n",
    "    ),\n",
    "    yaxis2=dict(\n",
    "        title='Number of Molecules',\n",
    "        overlaying='y',\n",
    "        side='right',\n",
    "        showgrid=False,\n",
    "    ),\n",
    "    legend=dict(\n",
    "        x=0.5,\n",
    "        y=1.0,\n",
    "        orientation='h',\n",
    "        bgcolor='rgba(255, 255, 255, 0)',\n",
    "    ),\n",
    "    template='plotly_white',\n",
    "    margin=dict(l=100, r=100, t=100, b=50),\n",
    "    height=800,\n",
    "    width = 1000\n",
    ")\n",
    "\n",
    "# Display the figure\n",
    "fig.show()"
   ]
  },
  {
   "cell_type": "code",
   "execution_count": 41,
   "metadata": {},
   "outputs": [
    {
     "data": {
      "application/vnd.plotly.v1+json": {
       "config": {
        "plotlyServerURL": "https://plot.ly"
       },
       "data": [
        {
         "marker": {
          "color": "rgba(55, 83, 109, 0.7)"
         },
         "name": "Train R² Score",
         "text": [
          0.99879,
          0.99817,
          0.99774,
          0.99648,
          0.9953,
          0.99473,
          0.99361,
          0.99268,
          0.99264,
          0.99146
         ],
         "textposition": "auto",
         "type": "bar",
         "x": [
          "Top 6%",
          "Top 12%",
          "Top 18%",
          "Top 24%",
          "Top 30%",
          "Top 36%",
          "Top 42%",
          "Top 48%",
          "Top 54%",
          "Top 60%"
         ],
         "y": [
          0.9987881058650093,
          0.9981737700910897,
          0.9977399885556778,
          0.9964821670673839,
          0.9953010643676417,
          0.9947256542796311,
          0.9936148546372351,
          0.992682594715942,
          0.9926423174089053,
          0.9914641783301307
         ]
        },
        {
         "marker": {
          "color": "rgba(255, 99, 71, 0.8)"
         },
         "name": "Test R² Score",
         "text": [
          0.91165,
          0.92009,
          0.90919,
          0.926,
          0.9398,
          0.92878,
          0.93233,
          0.9439,
          0.93901,
          0.89746
         ],
         "textposition": "auto",
         "type": "bar",
         "x": [
          "Top 6%",
          "Top 12%",
          "Top 18%",
          "Top 24%",
          "Top 30%",
          "Top 36%",
          "Top 42%",
          "Top 48%",
          "Top 54%",
          "Top 60%"
         ],
         "y": [
          0.9116544622279132,
          0.9200865137113466,
          0.9091850413282923,
          0.9260046154335834,
          0.9398020190041924,
          0.9287776906982043,
          0.9323319049368852,
          0.9438994013261439,
          0.9390055159122573,
          0.8974565940954358
         ]
        }
       ],
       "layout": {
        "annotations": [
         {
          "arrowcolor": "blue",
          "arrowhead": 2,
          "arrowsize": 2,
          "arrowwidth": 2,
          "ax": "Top 48%",
          "axref": "x",
          "ay": 1.043899401326144,
          "ayref": "y",
          "bgcolor": "white",
          "font": {
           "color": "black",
           "size": 12
          },
          "showarrow": true,
          "text": "Best Model\nTest R²: 0.94\nTrain R²: 0.99\nNum Molecules: 24961",
          "x": "Top 48%",
          "xref": "x",
          "y": 0.9438994013261439,
          "yref": "y"
         }
        ],
        "barmode": "group",
        "height": 800,
        "legend": {
         "bgcolor": "rgba(255, 255, 255, 0)",
         "orientation": "h",
         "x": 0.5,
         "y": 1.05
        },
        "margin": {
         "b": 50,
         "l": 100,
         "r": 100,
         "t": 100
        },
        "template": {
         "data": {
          "bar": [
           {
            "error_x": {
             "color": "#2a3f5f"
            },
            "error_y": {
             "color": "#2a3f5f"
            },
            "marker": {
             "line": {
              "color": "white",
              "width": 0.5
             },
             "pattern": {
              "fillmode": "overlay",
              "size": 10,
              "solidity": 0.2
             }
            },
            "type": "bar"
           }
          ],
          "barpolar": [
           {
            "marker": {
             "line": {
              "color": "white",
              "width": 0.5
             },
             "pattern": {
              "fillmode": "overlay",
              "size": 10,
              "solidity": 0.2
             }
            },
            "type": "barpolar"
           }
          ],
          "carpet": [
           {
            "aaxis": {
             "endlinecolor": "#2a3f5f",
             "gridcolor": "#C8D4E3",
             "linecolor": "#C8D4E3",
             "minorgridcolor": "#C8D4E3",
             "startlinecolor": "#2a3f5f"
            },
            "baxis": {
             "endlinecolor": "#2a3f5f",
             "gridcolor": "#C8D4E3",
             "linecolor": "#C8D4E3",
             "minorgridcolor": "#C8D4E3",
             "startlinecolor": "#2a3f5f"
            },
            "type": "carpet"
           }
          ],
          "choropleth": [
           {
            "colorbar": {
             "outlinewidth": 0,
             "ticks": ""
            },
            "type": "choropleth"
           }
          ],
          "contour": [
           {
            "colorbar": {
             "outlinewidth": 0,
             "ticks": ""
            },
            "colorscale": [
             [
              0,
              "#0d0887"
             ],
             [
              0.1111111111111111,
              "#46039f"
             ],
             [
              0.2222222222222222,
              "#7201a8"
             ],
             [
              0.3333333333333333,
              "#9c179e"
             ],
             [
              0.4444444444444444,
              "#bd3786"
             ],
             [
              0.5555555555555556,
              "#d8576b"
             ],
             [
              0.6666666666666666,
              "#ed7953"
             ],
             [
              0.7777777777777778,
              "#fb9f3a"
             ],
             [
              0.8888888888888888,
              "#fdca26"
             ],
             [
              1,
              "#f0f921"
             ]
            ],
            "type": "contour"
           }
          ],
          "contourcarpet": [
           {
            "colorbar": {
             "outlinewidth": 0,
             "ticks": ""
            },
            "type": "contourcarpet"
           }
          ],
          "heatmap": [
           {
            "colorbar": {
             "outlinewidth": 0,
             "ticks": ""
            },
            "colorscale": [
             [
              0,
              "#0d0887"
             ],
             [
              0.1111111111111111,
              "#46039f"
             ],
             [
              0.2222222222222222,
              "#7201a8"
             ],
             [
              0.3333333333333333,
              "#9c179e"
             ],
             [
              0.4444444444444444,
              "#bd3786"
             ],
             [
              0.5555555555555556,
              "#d8576b"
             ],
             [
              0.6666666666666666,
              "#ed7953"
             ],
             [
              0.7777777777777778,
              "#fb9f3a"
             ],
             [
              0.8888888888888888,
              "#fdca26"
             ],
             [
              1,
              "#f0f921"
             ]
            ],
            "type": "heatmap"
           }
          ],
          "heatmapgl": [
           {
            "colorbar": {
             "outlinewidth": 0,
             "ticks": ""
            },
            "colorscale": [
             [
              0,
              "#0d0887"
             ],
             [
              0.1111111111111111,
              "#46039f"
             ],
             [
              0.2222222222222222,
              "#7201a8"
             ],
             [
              0.3333333333333333,
              "#9c179e"
             ],
             [
              0.4444444444444444,
              "#bd3786"
             ],
             [
              0.5555555555555556,
              "#d8576b"
             ],
             [
              0.6666666666666666,
              "#ed7953"
             ],
             [
              0.7777777777777778,
              "#fb9f3a"
             ],
             [
              0.8888888888888888,
              "#fdca26"
             ],
             [
              1,
              "#f0f921"
             ]
            ],
            "type": "heatmapgl"
           }
          ],
          "histogram": [
           {
            "marker": {
             "pattern": {
              "fillmode": "overlay",
              "size": 10,
              "solidity": 0.2
             }
            },
            "type": "histogram"
           }
          ],
          "histogram2d": [
           {
            "colorbar": {
             "outlinewidth": 0,
             "ticks": ""
            },
            "colorscale": [
             [
              0,
              "#0d0887"
             ],
             [
              0.1111111111111111,
              "#46039f"
             ],
             [
              0.2222222222222222,
              "#7201a8"
             ],
             [
              0.3333333333333333,
              "#9c179e"
             ],
             [
              0.4444444444444444,
              "#bd3786"
             ],
             [
              0.5555555555555556,
              "#d8576b"
             ],
             [
              0.6666666666666666,
              "#ed7953"
             ],
             [
              0.7777777777777778,
              "#fb9f3a"
             ],
             [
              0.8888888888888888,
              "#fdca26"
             ],
             [
              1,
              "#f0f921"
             ]
            ],
            "type": "histogram2d"
           }
          ],
          "histogram2dcontour": [
           {
            "colorbar": {
             "outlinewidth": 0,
             "ticks": ""
            },
            "colorscale": [
             [
              0,
              "#0d0887"
             ],
             [
              0.1111111111111111,
              "#46039f"
             ],
             [
              0.2222222222222222,
              "#7201a8"
             ],
             [
              0.3333333333333333,
              "#9c179e"
             ],
             [
              0.4444444444444444,
              "#bd3786"
             ],
             [
              0.5555555555555556,
              "#d8576b"
             ],
             [
              0.6666666666666666,
              "#ed7953"
             ],
             [
              0.7777777777777778,
              "#fb9f3a"
             ],
             [
              0.8888888888888888,
              "#fdca26"
             ],
             [
              1,
              "#f0f921"
             ]
            ],
            "type": "histogram2dcontour"
           }
          ],
          "mesh3d": [
           {
            "colorbar": {
             "outlinewidth": 0,
             "ticks": ""
            },
            "type": "mesh3d"
           }
          ],
          "parcoords": [
           {
            "line": {
             "colorbar": {
              "outlinewidth": 0,
              "ticks": ""
             }
            },
            "type": "parcoords"
           }
          ],
          "pie": [
           {
            "automargin": true,
            "type": "pie"
           }
          ],
          "scatter": [
           {
            "fillpattern": {
             "fillmode": "overlay",
             "size": 10,
             "solidity": 0.2
            },
            "type": "scatter"
           }
          ],
          "scatter3d": [
           {
            "line": {
             "colorbar": {
              "outlinewidth": 0,
              "ticks": ""
             }
            },
            "marker": {
             "colorbar": {
              "outlinewidth": 0,
              "ticks": ""
             }
            },
            "type": "scatter3d"
           }
          ],
          "scattercarpet": [
           {
            "marker": {
             "colorbar": {
              "outlinewidth": 0,
              "ticks": ""
             }
            },
            "type": "scattercarpet"
           }
          ],
          "scattergeo": [
           {
            "marker": {
             "colorbar": {
              "outlinewidth": 0,
              "ticks": ""
             }
            },
            "type": "scattergeo"
           }
          ],
          "scattergl": [
           {
            "marker": {
             "colorbar": {
              "outlinewidth": 0,
              "ticks": ""
             }
            },
            "type": "scattergl"
           }
          ],
          "scattermapbox": [
           {
            "marker": {
             "colorbar": {
              "outlinewidth": 0,
              "ticks": ""
             }
            },
            "type": "scattermapbox"
           }
          ],
          "scatterpolar": [
           {
            "marker": {
             "colorbar": {
              "outlinewidth": 0,
              "ticks": ""
             }
            },
            "type": "scatterpolar"
           }
          ],
          "scatterpolargl": [
           {
            "marker": {
             "colorbar": {
              "outlinewidth": 0,
              "ticks": ""
             }
            },
            "type": "scatterpolargl"
           }
          ],
          "scatterternary": [
           {
            "marker": {
             "colorbar": {
              "outlinewidth": 0,
              "ticks": ""
             }
            },
            "type": "scatterternary"
           }
          ],
          "surface": [
           {
            "colorbar": {
             "outlinewidth": 0,
             "ticks": ""
            },
            "colorscale": [
             [
              0,
              "#0d0887"
             ],
             [
              0.1111111111111111,
              "#46039f"
             ],
             [
              0.2222222222222222,
              "#7201a8"
             ],
             [
              0.3333333333333333,
              "#9c179e"
             ],
             [
              0.4444444444444444,
              "#bd3786"
             ],
             [
              0.5555555555555556,
              "#d8576b"
             ],
             [
              0.6666666666666666,
              "#ed7953"
             ],
             [
              0.7777777777777778,
              "#fb9f3a"
             ],
             [
              0.8888888888888888,
              "#fdca26"
             ],
             [
              1,
              "#f0f921"
             ]
            ],
            "type": "surface"
           }
          ],
          "table": [
           {
            "cells": {
             "fill": {
              "color": "#EBF0F8"
             },
             "line": {
              "color": "white"
             }
            },
            "header": {
             "fill": {
              "color": "#C8D4E3"
             },
             "line": {
              "color": "white"
             }
            },
            "type": "table"
           }
          ]
         },
         "layout": {
          "annotationdefaults": {
           "arrowcolor": "#2a3f5f",
           "arrowhead": 0,
           "arrowwidth": 1
          },
          "autotypenumbers": "strict",
          "coloraxis": {
           "colorbar": {
            "outlinewidth": 0,
            "ticks": ""
           }
          },
          "colorscale": {
           "diverging": [
            [
             0,
             "#8e0152"
            ],
            [
             0.1,
             "#c51b7d"
            ],
            [
             0.2,
             "#de77ae"
            ],
            [
             0.3,
             "#f1b6da"
            ],
            [
             0.4,
             "#fde0ef"
            ],
            [
             0.5,
             "#f7f7f7"
            ],
            [
             0.6,
             "#e6f5d0"
            ],
            [
             0.7,
             "#b8e186"
            ],
            [
             0.8,
             "#7fbc41"
            ],
            [
             0.9,
             "#4d9221"
            ],
            [
             1,
             "#276419"
            ]
           ],
           "sequential": [
            [
             0,
             "#0d0887"
            ],
            [
             0.1111111111111111,
             "#46039f"
            ],
            [
             0.2222222222222222,
             "#7201a8"
            ],
            [
             0.3333333333333333,
             "#9c179e"
            ],
            [
             0.4444444444444444,
             "#bd3786"
            ],
            [
             0.5555555555555556,
             "#d8576b"
            ],
            [
             0.6666666666666666,
             "#ed7953"
            ],
            [
             0.7777777777777778,
             "#fb9f3a"
            ],
            [
             0.8888888888888888,
             "#fdca26"
            ],
            [
             1,
             "#f0f921"
            ]
           ],
           "sequentialminus": [
            [
             0,
             "#0d0887"
            ],
            [
             0.1111111111111111,
             "#46039f"
            ],
            [
             0.2222222222222222,
             "#7201a8"
            ],
            [
             0.3333333333333333,
             "#9c179e"
            ],
            [
             0.4444444444444444,
             "#bd3786"
            ],
            [
             0.5555555555555556,
             "#d8576b"
            ],
            [
             0.6666666666666666,
             "#ed7953"
            ],
            [
             0.7777777777777778,
             "#fb9f3a"
            ],
            [
             0.8888888888888888,
             "#fdca26"
            ],
            [
             1,
             "#f0f921"
            ]
           ]
          },
          "colorway": [
           "#636efa",
           "#EF553B",
           "#00cc96",
           "#ab63fa",
           "#FFA15A",
           "#19d3f3",
           "#FF6692",
           "#B6E880",
           "#FF97FF",
           "#FECB52"
          ],
          "font": {
           "color": "#2a3f5f"
          },
          "geo": {
           "bgcolor": "white",
           "lakecolor": "white",
           "landcolor": "white",
           "showlakes": true,
           "showland": true,
           "subunitcolor": "#C8D4E3"
          },
          "hoverlabel": {
           "align": "left"
          },
          "hovermode": "closest",
          "mapbox": {
           "style": "light"
          },
          "paper_bgcolor": "white",
          "plot_bgcolor": "white",
          "polar": {
           "angularaxis": {
            "gridcolor": "#EBF0F8",
            "linecolor": "#EBF0F8",
            "ticks": ""
           },
           "bgcolor": "white",
           "radialaxis": {
            "gridcolor": "#EBF0F8",
            "linecolor": "#EBF0F8",
            "ticks": ""
           }
          },
          "scene": {
           "xaxis": {
            "backgroundcolor": "white",
            "gridcolor": "#DFE8F3",
            "gridwidth": 2,
            "linecolor": "#EBF0F8",
            "showbackground": true,
            "ticks": "",
            "zerolinecolor": "#EBF0F8"
           },
           "yaxis": {
            "backgroundcolor": "white",
            "gridcolor": "#DFE8F3",
            "gridwidth": 2,
            "linecolor": "#EBF0F8",
            "showbackground": true,
            "ticks": "",
            "zerolinecolor": "#EBF0F8"
           },
           "zaxis": {
            "backgroundcolor": "white",
            "gridcolor": "#DFE8F3",
            "gridwidth": 2,
            "linecolor": "#EBF0F8",
            "showbackground": true,
            "ticks": "",
            "zerolinecolor": "#EBF0F8"
           }
          },
          "shapedefaults": {
           "line": {
            "color": "#2a3f5f"
           }
          },
          "ternary": {
           "aaxis": {
            "gridcolor": "#DFE8F3",
            "linecolor": "#A2B1C6",
            "ticks": ""
           },
           "baxis": {
            "gridcolor": "#DFE8F3",
            "linecolor": "#A2B1C6",
            "ticks": ""
           },
           "bgcolor": "white",
           "caxis": {
            "gridcolor": "#DFE8F3",
            "linecolor": "#A2B1C6",
            "ticks": ""
           }
          },
          "title": {
           "x": 0.05
          },
          "xaxis": {
           "automargin": true,
           "gridcolor": "#EBF0F8",
           "linecolor": "#EBF0F8",
           "ticks": "",
           "title": {
            "standoff": 15
           },
           "zerolinecolor": "#EBF0F8",
           "zerolinewidth": 2
          },
          "yaxis": {
           "automargin": true,
           "gridcolor": "#EBF0F8",
           "linecolor": "#EBF0F8",
           "ticks": "",
           "title": {
            "standoff": 15
           },
           "zerolinecolor": "#EBF0F8",
           "zerolinewidth": 2
          }
         }
        },
        "title": {
         "text": "Train and Test R² Scores vs. Filtered Percentage"
        },
        "xaxis": {
         "tickmode": "array",
         "tickvals": [
          "Top 6%",
          "Top 12%",
          "Top 18%",
          "Top 24%",
          "Top 30%",
          "Top 36%",
          "Top 42%",
          "Top 48%",
          "Top 54%",
          "Top 60%"
         ],
         "title": {
          "text": "Filtered Percentage"
         }
        },
        "yaxis": {
         "showgrid": true,
         "title": {
          "text": "R² Score"
         }
        }
       }
      }
     },
     "metadata": {},
     "output_type": "display_data"
    }
   ],
   "source": [
    "import plotly.graph_objects as go\n",
    "\n",
    "# Ensure final_results DataFrame is sorted by percentile for better visualization\n",
    "final_results_sorted = final_results.sort_values(by='percentile_int')\n",
    "\n",
    "# Calculate the variation between train and test R² scores\n",
    "final_results_sorted['r2_variation'] = abs(final_results_sorted['train_r2_score'] - final_results_sorted['test_r2_score'])\n",
    "\n",
    "# Identify the best model with the highest test R² and lowest variation\n",
    "best_model = final_results_sorted.loc[final_results_sorted['test_r2_score'].idxmax()]\n",
    "\n",
    "# Create the figure\n",
    "fig = go.Figure()\n",
    "\n",
    "# Grouped bar plot for Train and Test R² scores\n",
    "fig.add_trace(go.Bar(\n",
    "    x=final_results_sorted['Filtered Percentage'],\n",
    "    y=final_results_sorted['train_r2_score'],\n",
    "    name='Train R² Score',\n",
    "    marker_color='rgba(55, 83, 109, 0.7)',\n",
    "    text=final_results_sorted['train_r2_score'].round(5),\n",
    "    textposition='auto'\n",
    "))\n",
    "\n",
    "fig.add_trace(go.Bar(\n",
    "    x=final_results_sorted['Filtered Percentage'],\n",
    "    y=final_results_sorted['test_r2_score'],\n",
    "    name='Test R² Score',\n",
    "    marker_color='rgba(255, 99, 71, 0.8)',\n",
    "    text=final_results_sorted['test_r2_score'].round(5),\n",
    "    textposition='auto'\n",
    "))\n",
    "\n",
    "# Highlight the best model with an annotation arrow\n",
    "fig.add_annotation(\n",
    "    x=best_model['Filtered Percentage'],\n",
    "    y=best_model['test_r2_score'],\n",
    "    ax=best_model['Filtered Percentage'],\n",
    "    ay=best_model['test_r2_score'] + 0.1,  # Adjust this value to position the arrow\n",
    "    xref='x',\n",
    "    yref='y',\n",
    "    axref='x',\n",
    "    ayref='y',\n",
    "    text=f\"Best Model\\nTest R²: {best_model['test_r2_score']:.2f}\\nTrain R²: {best_model['train_r2_score']:.2f}\\nNum Molecules: {best_model['num_molecules']}\",\n",
    "    showarrow=True,\n",
    "    arrowhead=2,\n",
    "    arrowsize=2,\n",
    "    arrowwidth=2,\n",
    "    arrowcolor='blue',\n",
    "    font=dict(size=12, color='black'),\n",
    "    bgcolor='white'\n",
    ")\n",
    "\n",
    "# Update the layout to include the grouped bars\n",
    "fig.update_layout(\n",
    "    title='Train and Test R² Scores vs. Filtered Percentage',\n",
    "    xaxis=dict(\n",
    "        title='Filtered Percentage',\n",
    "        tickmode='array',\n",
    "        tickvals=final_results_sorted['Filtered Percentage'],\n",
    "    ),\n",
    "    yaxis=dict(\n",
    "        title='R² Score',\n",
    "        showgrid=True,\n",
    "    ),\n",
    "    barmode='group',\n",
    "    legend=dict(\n",
    "        x=0.5,\n",
    "        y=1.05,\n",
    "        orientation='h',\n",
    "        bgcolor='rgba(255, 255, 255, 0)',\n",
    "    ),\n",
    "    template='plotly_white',\n",
    "    margin=dict(l=100, r=100, t=100, b=50),\n",
    "    height=800\n",
    ")\n",
    "\n",
    "# Display the figure\n",
    "fig.show()"
   ]
  },
  {
   "cell_type": "code",
   "execution_count": 42,
   "metadata": {},
   "outputs": [
    {
     "data": {
      "text/html": [
       "<div>\n",
       "<style scoped>\n",
       "    .dataframe tbody tr th:only-of-type {\n",
       "        vertical-align: middle;\n",
       "    }\n",
       "\n",
       "    .dataframe tbody tr th {\n",
       "        vertical-align: top;\n",
       "    }\n",
       "\n",
       "    .dataframe thead th {\n",
       "        text-align: right;\n",
       "    }\n",
       "</style>\n",
       "<table border=\"1\" class=\"dataframe\">\n",
       "  <thead>\n",
       "    <tr style=\"text-align: right;\">\n",
       "      <th></th>\n",
       "      <th>smiles</th>\n",
       "      <th>GAP_calib</th>\n",
       "      <th>mol</th>\n",
       "      <th>similarity_morgan_dice</th>\n",
       "      <th>morgan_0</th>\n",
       "      <th>morgan_1</th>\n",
       "      <th>morgan_2</th>\n",
       "      <th>morgan_3</th>\n",
       "      <th>morgan_4</th>\n",
       "      <th>morgan_5</th>\n",
       "      <th>...</th>\n",
       "      <th>morgan_2038</th>\n",
       "      <th>morgan_2039</th>\n",
       "      <th>morgan_2040</th>\n",
       "      <th>morgan_2041</th>\n",
       "      <th>morgan_2042</th>\n",
       "      <th>morgan_2043</th>\n",
       "      <th>morgan_2044</th>\n",
       "      <th>morgan_2045</th>\n",
       "      <th>morgan_2046</th>\n",
       "      <th>morgan_2047</th>\n",
       "    </tr>\n",
       "  </thead>\n",
       "  <tbody>\n",
       "    <tr>\n",
       "      <th>0</th>\n",
       "      <td>CN1C(=O)C(=Cc2occc2C(=O)c2ccc(-c3ncc(C4=CC=CC5...</td>\n",
       "      <td>2.601647</td>\n",
       "      <td>&lt;rdkit.Chem.rdchem.Mol object at 0x0000024A0AC...</td>\n",
       "      <td>0.135922</td>\n",
       "      <td>0</td>\n",
       "      <td>0</td>\n",
       "      <td>0</td>\n",
       "      <td>0</td>\n",
       "      <td>0</td>\n",
       "      <td>0</td>\n",
       "      <td>...</td>\n",
       "      <td>0</td>\n",
       "      <td>0</td>\n",
       "      <td>0</td>\n",
       "      <td>0</td>\n",
       "      <td>0</td>\n",
       "      <td>0</td>\n",
       "      <td>0</td>\n",
       "      <td>0</td>\n",
       "      <td>0</td>\n",
       "      <td>0</td>\n",
       "    </tr>\n",
       "    <tr>\n",
       "      <th>1</th>\n",
       "      <td>CN1C(=O)C(=CC2=CC=C(c3cnc(-c4ccc(C(=O)c5ccoc5)...</td>\n",
       "      <td>2.204408</td>\n",
       "      <td>&lt;rdkit.Chem.rdchem.Mol object at 0x0000024A0AC...</td>\n",
       "      <td>0.161616</td>\n",
       "      <td>0</td>\n",
       "      <td>0</td>\n",
       "      <td>0</td>\n",
       "      <td>0</td>\n",
       "      <td>0</td>\n",
       "      <td>0</td>\n",
       "      <td>...</td>\n",
       "      <td>0</td>\n",
       "      <td>0</td>\n",
       "      <td>0</td>\n",
       "      <td>0</td>\n",
       "      <td>0</td>\n",
       "      <td>0</td>\n",
       "      <td>0</td>\n",
       "      <td>0</td>\n",
       "      <td>0</td>\n",
       "      <td>0</td>\n",
       "    </tr>\n",
       "    <tr>\n",
       "      <th>2</th>\n",
       "      <td>CN1C(=O)C(=Cc2ncc(-c3ccc(C(=O)c4cocc4C=Cc4ccnc...</td>\n",
       "      <td>2.374851</td>\n",
       "      <td>&lt;rdkit.Chem.rdchem.Mol object at 0x0000024A0AC...</td>\n",
       "      <td>0.144330</td>\n",
       "      <td>0</td>\n",
       "      <td>0</td>\n",
       "      <td>0</td>\n",
       "      <td>0</td>\n",
       "      <td>0</td>\n",
       "      <td>0</td>\n",
       "      <td>...</td>\n",
       "      <td>0</td>\n",
       "      <td>0</td>\n",
       "      <td>0</td>\n",
       "      <td>0</td>\n",
       "      <td>0</td>\n",
       "      <td>0</td>\n",
       "      <td>0</td>\n",
       "      <td>0</td>\n",
       "      <td>0</td>\n",
       "      <td>0</td>\n",
       "    </tr>\n",
       "    <tr>\n",
       "      <th>3</th>\n",
       "      <td>CN1C(=O)C(=Cc2nccc(C=Cc3cocc3C(=O)c3ccc(-c4cnc...</td>\n",
       "      <td>2.887886</td>\n",
       "      <td>&lt;rdkit.Chem.rdchem.Mol object at 0x0000024A0AC...</td>\n",
       "      <td>0.141414</td>\n",
       "      <td>0</td>\n",
       "      <td>0</td>\n",
       "      <td>0</td>\n",
       "      <td>0</td>\n",
       "      <td>0</td>\n",
       "      <td>0</td>\n",
       "      <td>...</td>\n",
       "      <td>0</td>\n",
       "      <td>0</td>\n",
       "      <td>0</td>\n",
       "      <td>0</td>\n",
       "      <td>0</td>\n",
       "      <td>0</td>\n",
       "      <td>0</td>\n",
       "      <td>0</td>\n",
       "      <td>0</td>\n",
       "      <td>0</td>\n",
       "    </tr>\n",
       "    <tr>\n",
       "      <th>4</th>\n",
       "      <td>CN1C(=O)C(=Cc2sc(C#N)c(-c3ncc(-c4ccsc4C(=O)c4c...</td>\n",
       "      <td>2.876440</td>\n",
       "      <td>&lt;rdkit.Chem.rdchem.Mol object at 0x0000024A0AC...</td>\n",
       "      <td>0.161616</td>\n",
       "      <td>0</td>\n",
       "      <td>0</td>\n",
       "      <td>0</td>\n",
       "      <td>0</td>\n",
       "      <td>0</td>\n",
       "      <td>0</td>\n",
       "      <td>...</td>\n",
       "      <td>0</td>\n",
       "      <td>0</td>\n",
       "      <td>0</td>\n",
       "      <td>0</td>\n",
       "      <td>0</td>\n",
       "      <td>0</td>\n",
       "      <td>0</td>\n",
       "      <td>0</td>\n",
       "      <td>0</td>\n",
       "      <td>0</td>\n",
       "    </tr>\n",
       "  </tbody>\n",
       "</table>\n",
       "<p>5 rows × 2052 columns</p>\n",
       "</div>"
      ],
      "text/plain": [
       "                                              smiles  GAP_calib  \\\n",
       "0  CN1C(=O)C(=Cc2occc2C(=O)c2ccc(-c3ncc(C4=CC=CC5...   2.601647   \n",
       "1  CN1C(=O)C(=CC2=CC=C(c3cnc(-c4ccc(C(=O)c5ccoc5)...   2.204408   \n",
       "2  CN1C(=O)C(=Cc2ncc(-c3ccc(C(=O)c4cocc4C=Cc4ccnc...   2.374851   \n",
       "3  CN1C(=O)C(=Cc2nccc(C=Cc3cocc3C(=O)c3ccc(-c4cnc...   2.887886   \n",
       "4  CN1C(=O)C(=Cc2sc(C#N)c(-c3ncc(-c4ccsc4C(=O)c4c...   2.876440   \n",
       "\n",
       "                                                 mol  similarity_morgan_dice  \\\n",
       "0  <rdkit.Chem.rdchem.Mol object at 0x0000024A0AC...                0.135922   \n",
       "1  <rdkit.Chem.rdchem.Mol object at 0x0000024A0AC...                0.161616   \n",
       "2  <rdkit.Chem.rdchem.Mol object at 0x0000024A0AC...                0.144330   \n",
       "3  <rdkit.Chem.rdchem.Mol object at 0x0000024A0AC...                0.141414   \n",
       "4  <rdkit.Chem.rdchem.Mol object at 0x0000024A0AC...                0.161616   \n",
       "\n",
       "   morgan_0  morgan_1  morgan_2  morgan_3  morgan_4  morgan_5  ...  \\\n",
       "0         0         0         0         0         0         0  ...   \n",
       "1         0         0         0         0         0         0  ...   \n",
       "2         0         0         0         0         0         0  ...   \n",
       "3         0         0         0         0         0         0  ...   \n",
       "4         0         0         0         0         0         0  ...   \n",
       "\n",
       "   morgan_2038  morgan_2039  morgan_2040  morgan_2041  morgan_2042  \\\n",
       "0            0            0            0            0            0   \n",
       "1            0            0            0            0            0   \n",
       "2            0            0            0            0            0   \n",
       "3            0            0            0            0            0   \n",
       "4            0            0            0            0            0   \n",
       "\n",
       "   morgan_2043  morgan_2044  morgan_2045  morgan_2046  morgan_2047  \n",
       "0            0            0            0            0            0  \n",
       "1            0            0            0            0            0  \n",
       "2            0            0            0            0            0  \n",
       "3            0            0            0            0            0  \n",
       "4            0            0            0            0            0  \n",
       "\n",
       "[5 rows x 2052 columns]"
      ]
     },
     "execution_count": 42,
     "metadata": {},
     "output_type": "execute_result"
    }
   ],
   "source": [
    "similarity_dfs_similarity_morgan_dice_top48.head()"
   ]
  },
  {
   "cell_type": "code",
   "execution_count": null,
   "metadata": {},
   "outputs": [],
   "source": [
    "x = similarity_dfs_similarity_morgan_dice_top30.iloc[:, 4:]\n",
    "y = similarity_dfs_similarity_morgan_dice_top30['GAP_calib']\n",
    "\n",
    "# Split the data into training and testing sets\n",
    "x_train, x_test, y_train, y_test = train_test_split(x, y, test_size=0.25, random_state=123)\n",
    "\n",
    "# Initialize and train the LightGBM model\n",
    "model = lgb.LGBMRegressor(**tuned_params)\n",
    "model.fit(x_train, y_train)\n",
    "\n",
    "# Make predictions and calculate R^2 score\n",
    "y_pred = model.predict(x_test)\n",
    "\n",
    "# Calculate R2 score\n",
    "r2_model = r2_score(y_test, y_pred)\n",
    "from sklearn.metrics import mean_squared_error\n",
    "rmse_model = mean_squared_error(y_test, y_pred, squared=False)\n",
    "\n",
    "curcumin_df_mf_pred = curcumin_df_mf.copy()\n",
    "curcumin_df_mf_pred['Homo-Lumo Gap (eV) Pred'] = model.predict(curcumin_df_mf.iloc[:, 6:])\n",
    "\n",
    "r2_predict = r2_score(curcumin_df_mf_pred['Homo-Lumo Gap (eV)'],curcumin_df_mf_pred['Homo-Lumo Gap (eV) Pred'])\n",
    "rmse_predict = mean_squared_error(curcumin_df_mf_pred['Homo-Lumo Gap (eV)'],curcumin_df_mf_pred['Homo-Lumo Gap (eV) Pred'])\n",
    "\n",
    "print(f\"Model similarity_morgan_dice R2 Score: {r2_model} & RMSE value: {rmse_model}\")\n",
    "print(f\"Prediction with similarity_morgan_dice model R2 Score: {r2_predict} & RMSE value: {rmse_predict}\")                                           "
   ]
  },
  {
   "cell_type": "code",
   "execution_count": null,
   "metadata": {},
   "outputs": [],
   "source": [
    "import matplotlib.pyplot as plt\n",
    "plt.figure(figsize=(9, 4))\n",
    "plt.plot(curcumin_df_mf_pred['Molecule'], curcumin_df_mf_pred['Homo-Lumo Gap (eV)'], marker='s', label='Homo-Lumo Gap (eV)', color='blue')\n",
    "plt.plot(curcumin_df_mf_pred['Molecule'], curcumin_df_mf_pred[f'Homo-Lumo Gap (eV) Pred'], marker='h', label=f'Homo-Lumo Gap (eV) Pred', color='orange')\n",
    "plt.xlabel('Molecule')\n",
    "plt.ylabel('Homo-Lumo Gap (eV)')\n",
    "plt.grid(True)\n",
    "plt.tight_layout()\n",
    "plt.title(f'Homo-Lumo Gap (eV) vs Homo-Lumo Gap (eV) Pred')\n",
    "plt.legend()\n",
    "plt.legend(loc='lower center')\n",
    "plt.ylim(0, 3.75)\n",
    "plt.xticks(rotation=90)\n",
    "plt.show()"
   ]
  }
 ],
 "metadata": {
  "kernelspec": {
   "display_name": "Python 3",
   "language": "python",
   "name": "python3"
  },
  "language_info": {
   "codemirror_mode": {
    "name": "ipython",
    "version": 3
   },
   "file_extension": ".py",
   "mimetype": "text/x-python",
   "name": "python",
   "nbconvert_exporter": "python",
   "pygments_lexer": "ipython3",
   "version": "3.11.5"
  }
 },
 "nbformat": 4,
 "nbformat_minor": 2
}
