{
  "cells": [
    {
      "cell_type": "markdown",
      "metadata": {
        "id": "NfA4dHxj7F52"
      },
      "source": [
        "#import of the python librairies\n",
        "\n",
        "## Pandas for the dataframe\n",
        "## Sklearn for the feature selection\n",
        "\n",
        "We can import the dataset from a website (my github) as a CSV"
      ]
    },
    {
      "cell_type": "code",
      "execution_count": null,
      "metadata": {
        "colab": {
          "base_uri": "https://localhost:8080/"
        },
        "id": "JQkp047Z58k2",
        "outputId": "ccaf5440-ab66-4732-cfbb-4e8f41d576a8"
      },
      "outputs": [],
      "source": [
        "# Importing necessary libraries\n",
        "import pandas as pd\n",
        "from sklearn.feature_selection import SelectKBest, f_classif , f_regression\n",
        "\n",
        "# Reading the data\n",
        "data = pd.read_csv('https://raw.githubusercontent.com/AjStephan/havard-smile-opv/main/Non-fullerene%20small-molecules%20acceptors.csv')\n",
        "print(data.shape)\n",
        "print(data.columns)"
      ]
    },
    {
      "cell_type": "code",
      "execution_count": null,
      "metadata": {
        "colab": {
          "base_uri": "https://localhost:8080/",
          "height": 533
        },
        "id": "pwaevzSw72Ag",
        "outputId": "9e78513e-7879-4444-80a8-89eec65cdb75"
      },
      "outputs": [],
      "source": [
        "newdata = data.drop(columns=['index', 'inchikey',  'HOMO_calc', 'LUMO_calc', 'LUMO_calib',\n",
        "       'LUMO_calib_stds', 'HOMO_calib', 'HOMO_calib_stds', 'molW',\n",
        "       'PCE_calc', 'Voc_calc', 'Jsc_calc', 'FF_calc', 'EQE_calc',\n",
        "       'PCE_calib', 'Voc_calib', 'Jsc_calib', 'FF_calib', 'EQE_calib',\n",
        "       'PCE_cdiff', 'PCE_calib_plus'], axis=1)\n",
        "newdata"
      ]
    },
    {
      "cell_type": "markdown",
      "metadata": {
        "id": "rDuEsX8-B9zg"
      },
      "source": [
        "#Generation of the Fingerprint"
      ]
    },
    {
      "cell_type": "code",
      "execution_count": null,
      "metadata": {
        "id": "rWrzDT27CgTg"
      },
      "outputs": [],
      "source": [
        "from rdkit import Chem\n",
        "from rdkit.Chem import Draw\n",
        "from rdkit.Chem.Draw import IPythonConsole\n",
        "from rdkit.Chem import Descriptors\n",
        "from rdkit.Chem import AllChem\n",
        "from rdkit import DataStructs\n",
        "import numpy as np\n",
        "from rdkit.Chem import PandasTools\n",
        "import pandas as pd\n",
        "import os\n",
        "from rdkit import RDConfig"
      ]
    },
    {
      "cell_type": "code",
      "execution_count": null,
      "metadata": {
        "id": "4goD3V-JCO8K"
      },
      "outputs": [],
      "source": [
        "mfull = [Chem.MolFromSmiles(x) for x in newdata['smiles']]\n",
        "allfingerprint  = [AllChem.GetMorganFingerprintAsBitVect(x,useChirality=True, radius=3, nBits=2048) for x in mfull]\n",
        "vectorfull = [np.array(x) for x in allfingerprint]\n",
        "vectorfull_shape = np.array(vectorfull).shape\n",
        "print(vectorfull_shape)\n",
        "type(vectorfull)\n",
        "nBits = 1024\n",
        "morgandata = [f'Bit_{i}' for i in range(nBits)]\n",
        "morgandata = [list(l) for l in allfingerprint]\n",
        "df_morgan = pd.DataFrame(morgandata)\n",
        "df_morgan"
      ]
    },
    {
      "cell_type": "code",
      "execution_count": null,
      "metadata": {
        "id": "l03jQmz519AY"
      },
      "outputs": [],
      "source": [
        "ez33 = 'InChI=1S/C23H23BF2O6/c1-27-20-11-7-16(13-22(20)29-3)5-9-18-15-19(32-24(25,26)31-18)10-6-17-8-12-21(28-2)23(14-17)30-4/h5-15H,1-4H3/b9-5+,10-6+'\n",
        "ad1022 = 'InChI=1S/C23H23BF2O6/c1-27-18-9-11-22(29-3)16(13-18)5-7-20-15-21(32-24(25,26)31-20)8-6-17-14-19(28-2)10-12-23(17)30-4/h5-15H,1-4H3/b7-5+,8-6+'\n",
        "ad11 = 'InChI=1S/C21H19BF2O6/c1-27-20-11-14(5-9-18(20)25)3-7-16-13-17(30-22(23,24)29-16)8-4-15-6-10-19(26)21(12-15)28-2/h3-13,25-26H,1-2H3/b7-3+,8-4+'\n",
        "ad10 = 'InChI=1S/C23H23BF2O6/c1-27-18-9-5-16(22(14-18)29-3)7-11-20-13-21(32-24(25,26)31-20)12-8-17-6-10-19(28-2)15-23(17)30-4/h5-15H,1-4H3/b11-7+,12-8+'\n",
        "ad9 = 'InChI=1S/C21H19BF2O4/c1-25-20-9-5-3-7-16(20)11-13-18-15-19(28-22(23,24)27-18)14-12-17-8-4-6-10-21(17)26-2/h3-15H,1-2H3/b13-11+,14-12+'\n",
        "ADMeO3 ='InChI=1S/C25H27BF2O8/c1-29-18-12-22(31-3)20(23(13-18)32-4)9-7-16-11-17(36-26(27,28)35-16)8-10-21-24(33-5)14-19(30-2)15-25(21)34-6/h7-15H,1-6H3/b9-7+,10-8+'\n",
        "AD14 = 'InChI=1S/C23H25BF2N2O2/c1-27(2)20-11-5-18(6-12-20)9-15-22-17-23(30-24(25,26)29-22)16-10-19-7-13-21(14-8-19)28(3)4/h5-17H,1-4H3/b15-9+,16-10+'\n",
        "substitute_listinchi = (ADMeO3,ad9,ad10,ad11,ad1022,ez33,AD14)\n",
        "# 2.16. 2.49 2.3  2.16.  2.22.  2.22\n",
        "molecules_without = [Chem.MolFromInchi(smiles) for smiles in substitute_listinchi]"
      ]
    },
    {
      "cell_type": "code",
      "execution_count": null,
      "metadata": {
        "colab": {
          "base_uri": "https://localhost:8080/",
          "height": 167
        },
        "id": "-6v3XjvH1-4c",
        "outputId": "86e30f5a-864f-421d-8084-3977ebbe4510"
      },
      "outputs": [],
      "source": [
        "molecules_without[0]"
      ]
    },
    {
      "cell_type": "code",
      "execution_count": null,
      "metadata": {
        "colab": {
          "base_uri": "https://localhost:8080/",
          "height": 167
        },
        "id": "AkA4jTtG25fo",
        "outputId": "96ca72ed-e2c3-419d-ce4d-f9838c35d3ed"
      },
      "outputs": [],
      "source": [
        "molecules_without[1]"
      ]
    },
    {
      "cell_type": "code",
      "execution_count": null,
      "metadata": {
        "colab": {
          "base_uri": "https://localhost:8080/",
          "height": 167
        },
        "id": "FoaX3-1M26X_",
        "outputId": "d2bfcbad-e013-4fc7-c769-19cf4dc797f4"
      },
      "outputs": [],
      "source": [
        "molecules_without[2]"
      ]
    },
    {
      "cell_type": "code",
      "execution_count": null,
      "metadata": {
        "colab": {
          "base_uri": "https://localhost:8080/",
          "height": 167
        },
        "id": "tr3YNPiy27fN",
        "outputId": "a1dc9838-2484-41e1-c134-292b448a25cd"
      },
      "outputs": [],
      "source": [
        "molecules_without[3]"
      ]
    },
    {
      "cell_type": "code",
      "execution_count": null,
      "metadata": {
        "colab": {
          "base_uri": "https://localhost:8080/",
          "height": 167
        },
        "id": "q-8gUQnL28af",
        "outputId": "f24d587e-9079-46c6-bf73-96c356dc6311"
      },
      "outputs": [],
      "source": [
        "molecules_without[4]"
      ]
    },
    {
      "cell_type": "markdown",
      "metadata": {
        "id": "2L9zpKLDTaXx"
      },
      "source": [
        "#Different types of fingerprint\n"
      ]
    },
    {
      "cell_type": "code",
      "execution_count": null,
      "metadata": {
        "id": "IgmU2IRvFrB5"
      },
      "outputs": [],
      "source": [
        "from sklearn.linear_model import LinearRegression\n",
        "from sklearn.model_selection import train_test_split\n",
        "from sklearn.preprocessing import PolynomialFeatures, StandardScaler\n",
        "from sklearn.svm import SVR\n",
        "from sklearn.tree import DecisionTreeRegressor\n",
        "from sklearn.ensemble import RandomForestRegressor\n",
        "from sklearn.gaussian_process import GaussianProcessRegressor\n",
        "from sklearn.metrics import mean_squared_error, mean_absolute_error, r2_score, explained_variance_score\n",
        "from sklearn.neural_network import MLPRegressor\n",
        "from sklearn.preprocessing import StandardScaler\n",
        "from sklearn.model_selection import train_test_split\n",
        "from sklearn.metrics import mean_squared_error\n",
        "from rdkit.Chem import AllChem, MACCSkeys, AtomPairs"
      ]
    },
    {
      "cell_type": "markdown",
      "metadata": {
        "id": "j3TTE3CYXLL0"
      },
      "source": [
        "#MORGAN With Neural nets\n"
      ]
    },
    {
      "cell_type": "code",
      "execution_count": null,
      "metadata": {
        "colab": {
          "background_save": true
        },
        "id": "KyWdCwh5W8E7"
      },
      "outputs": [],
      "source": [
        "import numpy as np\n",
        "from sklearn.model_selection import train_test_split\n",
        "\n",
        "mfull = [Chem.MolFromSmiles(x) for x in newdata['smiles']]\n",
        "morgan_fps = [AllChem.GetMorganFingerprintAsBitVect(mol, 3, nBits=2048) for mol in mfull]\n",
        "morgan_fps = np.array(morgan_fps)\n",
        "X_train, X_test, y_train, y_test = train_test_split(morgan_fps, newdata['GAP_calib'], test_size=0.151, random_state=42)"
      ]
    },
    {
      "cell_type": "code",
      "execution_count": null,
      "metadata": {},
      "outputs": [],
      "source": [
        "from sklearn.preprocessing import StandardScaler\n",
        "from sklearn.neural_network import MLPRegressor\n",
        "from sklearn.metrics import mean_squared_error, mean_absolute_error, r2_score"
      ]
    },
    {
      "cell_type": "code",
      "execution_count": null,
      "metadata": {},
      "outputs": [],
      "source": [
        "scaler = StandardScaler()\n",
        "X_train_scaled = scaler.fit_transform(X_train)\n",
        "X_test_scaled = scaler.transform(X_test)"
      ]
    },
    {
      "cell_type": "code",
      "execution_count": null,
      "metadata": {},
      "outputs": [],
      "source": [
        "# Create an MLPRegressor\n",
        "regressor = MLPRegressor(hidden_layer_sizes=(1000,500,200,50), activation='relu', solver='adam', random_state=42)\n",
        "\n",
        "# Fit the regressor to the scaled training data\n",
        "regressor.fit(X_train_scaled, y_train)\n",
        "\n",
        "# Make predictions on the scaled testing data\n",
        "y_pred = regressor.predict(X_test_scaled)\n",
        "\n",
        "mse = mean_squared_error(y_test, y_pred)\n",
        "mae = mean_absolute_error(y_test, y_pred)\n",
        "r2 = r2_score(y_test, y_pred)\n",
        "print('Mean Squared Error:', mse)\n",
        "print(f\"MAE: {mae}\")\n",
        "print(f\"R2 Score: {r2}\")"
      ]
    },
    {
      "cell_type": "markdown",
      "metadata": {
        "id": "jVz3gnN3CvEk"
      },
      "source": [
        "TEst the Morgan fingerprint on curcumin variant\n"
      ]
    },
    {
      "cell_type": "code",
      "execution_count": null,
      "metadata": {
        "colab": {
          "background_save": true
        },
        "id": "wDfpNFPUCu3g"
      },
      "outputs": [],
      "source": [
        "ez33 = 'InChI=1S/C23H23BF2O6/c1-27-20-11-7-16(13-22(20)29-3)5-9-18-15-19(32-24(25,26)31-18)10-6-17-8-12-21(28-2)23(14-17)30-4/h5-15H,1-4H3/b9-5+,10-6+'\n",
        "ad1022 = 'InChI=1S/C23H23BF2O6/c1-27-18-9-11-22(29-3)16(13-18)5-7-20-15-21(32-24(25,26)31-20)8-6-17-14-19(28-2)10-12-23(17)30-4/h5-15H,1-4H3/b7-5+,8-6+'\n",
        "ad11 = 'InChI=1S/C21H19BF2O6/c1-27-20-11-14(5-9-18(20)25)3-7-16-13-17(30-22(23,24)29-16)8-4-15-6-10-19(26)21(12-15)28-2/h3-13,25-26H,1-2H3/b7-3+,8-4+'\n",
        "ad10 = 'InChI=1S/C23H23BF2O6/c1-27-18-9-5-16(22(14-18)29-3)7-11-20-13-21(32-24(25,26)31-20)12-8-17-6-10-19(28-2)15-23(17)30-4/h5-15H,1-4H3/b11-7+,12-8+'\n",
        "ad9 = 'InChI=1S/C21H19BF2O4/c1-25-20-9-5-3-7-16(20)11-13-18-15-19(28-22(23,24)27-18)14-12-17-8-4-6-10-21(17)26-2/h3-15H,1-2H3/b13-11+,14-12+'\n",
        "ADMeO3 ='InChI=1S/C25H27BF2O8/c1-29-18-12-22(31-3)20(23(13-18)32-4)9-7-16-11-17(36-26(27,28)35-16)8-10-21-24(33-5)14-19(30-2)15-25(21)34-6/h7-15H,1-6H3/b9-7+,10-8+'\n",
        "AD14 = 'InChI=1S/C23H25BF2N2O2/c1-27(2)20-11-5-18(6-12-20)9-15-22-17-23(30-24(25,26)29-22)16-10-19-7-13-21(14-8-19)28(3)4/h5-17H,1-4H3/b15-9+,16-10+'\n",
        "substitute_listinchi = (ADMeO3,ad9,ad10,ad11,ad1022,ez33,AD14)\n",
        "# 2.16. 2.49 2.3  2.16.  2.22.  2.22\n",
        "molecules_without = [Chem.MolFromInchi(smiles) for smiles in substitute_listinchi]\n",
        "morgan_fps = [AllChem.GetMorganFingerprintAsBitVect(mol, 4, nBits=2048) for mol in molecules_without]\n",
        "XXX = scaler.transform(morgan_fps)\n",
        "for x in (morgan_fps):\n",
        "  y_pred = regressor.predict(XXX)\n",
        "print(y_pred)"
      ]
    },
    {
      "cell_type": "code",
      "execution_count": null,
      "metadata": {},
      "outputs": [],
      "source": [
        "# Import necessary modules\n",
        "from rdkit import Chem\n",
        "from rdkit.Chem import Draw\n",
        "from rdkit.Chem import Descriptors\n",
        "\n",
        "M01=\"COc3cc(OC)c(C/C=C/C2=CC(/C=C/Cc1c(OC)cc(OC)cc1OC)=[O+][B-](F)(F)O2)c(OC)c3\"\n",
        "M02=\"COc3ccc(C/C=C/C2=[O+][B-](F)(F)OC(/C=C/Cc1c(OC)cc(OC)cc1OC)=C2)cc3\"\n",
        "M03=\"COc3ccc(C/C=C/C2=CC(/C=C/Cc1ccc(OC)cc1OC)=[O+][B-](F)(F)O2)c(OC)c3\"\n",
        "M04=\"COc5ccc(C/C=C/C4=[O+][B-](F)(F)OC(/C=C/Cc2c1ccccc1cc3ccccc23)=C4)cc5\"\n",
        "M05=\"COc3ccc(OC)c(C/C=C/C2=CC(/C=C/Cc1cc(OC)ccc1OC)=[O+][B-](F)(F)O2)c3\"\n",
        "M06=\"COc3cc(C/C=C/C2=CC(/C=C/Cc1ccc(O)c(OC)c1)=[O+][B-](F)(F)O2)ccc3O\"\n",
        "M07=\"F[B-]3(F)OC(/C=C/Cc1ccc(Br)cc1)=CC(/C=C/Cc2ccc(Br)cc2)=[O+]3\"\n",
        "M08=\"C=C(OC)c3ccc(C/C=C/C2=CC(/C=C/Cc1ccc(C(=C)OC)cc1)=[O+][B-](F)(F)O2)cc3\"\n",
        "M09=\"C=C(OC)c3ccc(C/C=C/C2=CC(/C=C/Cc1ccc(C(=C)OC)cc1)=[O+][B-](F)(F)O2)cc3\"\n",
        "M10=\"CN(C)c3ccc(C/C=C/C2=CC(/C=C/Cc1ccc(N(C)C)cc1)=[O+][B-](F)(F)O2)cc3\"\n",
        "M11=\"CCCOc1cc(N(CC)CC)ccc1C/C=C/C3=CC(/C=C/Cc2ccc(N(CC)CC)cc2OCCC)=[O+][B-](F)(F)O3\"\n",
        "M12=\"CCCOc1cc(N(CC)CC)ccc1C/C=C/C3=CC(/C=C/Cc2ccc(N(CC)CC)cc2OCCC)=[O+][B-](F)(F)O3\"\n",
        "M13=\"N#Cc3ccc(C/C=C/C2=[O+][B-](F)(F)OC(/C=C/Cc1ccccc1)=C2)cc3\"\n",
        "M14=\"COc6ccc(C/C=C/C5=CC(/C=C/Cc1cc2ccc3cccc4ccc(c1)c2c34)=[O+][B-](F)(F)O5)cc6\"\n",
        "M15=\"COc4ccc(C/C=C/C3=CC(/C=C/Cc1ccc(OC)c2ccccc12)=[O+][B-](F)(F)O3)c5ccccc45\"\n",
        "M16=\"CN(C)c4ccc(C/C=C/C3=CC(/C=C/Cc1ccc(N(C)C)c2ccccc12)=[O+][B-](F)(F)O3)c5ccccc45\"\n",
        "M17=\"N#Cc3ccc(C/C=C/C2=CC(/C=C/Cc1ccc(C#N)cc1)=[O+][B-](F)(F)O2)cc3\"\n",
        "M18=\"CCCCN(CCCC)c3ccc(C/C=C/C2=CC(/C=C/Cc1ccc(N(CCCC)CCCC)cc1)=[O+][B-](F)(F)O2)cc3\"\n",
        "M19=\"COc3ccc(C/C=C/C2=CC(/C=C/Cc1ccc(C#N)cc1)=[O+][B-](F)(F)O2)cc3\"\n",
        "M20=\"CN5/C(=C\\C\\C=C\\C3=CC(/C=C/C/C=C/2N(C)c1ccccc1C2(C)C)=[O+][B-](F)(F)O3)C(C)(C)c4ccccc45\"\n",
        "M21=\"COc3ccc(C/C=C/C2=[O+][B-](F)(F)OC(/C=C/Cc1ccc(SC)cc1)=C2)cc3\"\n",
        "M22=\"CSc3ccc(C/C=C/C2=CC(/C=C/Cc1ccc(SC)cc1)=[O+][B-](F)(F)O2)cc3\"\n",
        "M23=\"COc3ccc(C/C=C/C2=CC(/C=C/Cc1ccc(N(C)C)cc1)=[O+][B-](F)(F)O2)cc3\"\n",
        "M24=\"COc5ccc(C/C=C/C4=[O+][B-](F)(F)OC(/C=C/Cc3ccc2c1ccccc1n(C)c2c3)=C4)cc5\"\n",
        "M25=\"COc1ccccc1C/C=C/C3=CC(/C=C/Cc2ccccc2OC)=[O+][B-](F)(F)O3\"\n",
        "M26=\"CCCCCC(CC)c5ccc(c4ccc(C/C=C/C3=CC(/C=C/Cc2ccc(c1ccc(C(CC)CCCCC)s1)s2)=[O+][B-](F)(F)O3)s4)s5\"\n",
        "\n",
        "# Draw the molecule m01 to m26\n",
        "molecules = [Chem.MolFromSmiles(smiles) for smiles in [M01, M02, M03, M04, M05, M06, M07, M08, M09, M10, M11, M12, M13, M14, M15, M16, M17, M18, M19, M20, M21, M22, M23, M24, M25, M26]]\n",
        "Draw.MolsToGridImage(molecules, molsPerRow=5, subImgSize=(300,250), legends=[f'Molecule {i+1}' for i in range(26)])"
      ]
    },
    {
      "cell_type": "code",
      "execution_count": null,
      "metadata": {},
      "outputs": [],
      "source": [
        "# calculate molecular descriptors\n",
        "mws = [Descriptors.MolWt(mol) for mol in molecules]\n",
        "logps = [Descriptors.MolLogP(mol) for mol in molecules]\n",
        "tpsa = [Descriptors.TPSA(mol) for mol in molecules]\n",
        "bandgaps = [Descriptors.NumValenceElectrons(mol) for mol in molecules]\n",
        "\n",
        "# print the calculated descriptors in a table df\n",
        "import pandas as pd\n",
        "cucmins= pd.DataFrame({'Molecule': [f'Molecule {i+1}' for i in range(26)], 'Molecular weight': mws, 'LogP': logps, 'TPSA': tpsa, 'Band gap': bandgaps})\n",
        "cucmins['SMILES'] = [smiles for smiles in [M01, M02, M03, M04, M05, M06, M07, M08, M09, M10, M11, M12, M13, M14, M15, M16, M17, M18, M19, M20, M21, M22, M23, M24, M25, M26]]\n",
        "\n",
        "molecule_names = ['2-ADMeO3', '3-MR83a', 'AD-10', 'AD-1013', 'AD-1022', 'AD-11', 'AD-12', 'AD-13', 'AD-13-DMF', 'AD-14-Moore', 'AD-15', 'AD-15-DMF', 'AD-16-DMF', 'AD-18', 'AD-24', 'AD-25', 'AD-3', 'AD-35', 'AD-4', 'AD-48', 'AD-5', 'AD-6', 'AD-7', 'AD-8', 'AD-9', 'YD-30']\n",
        "homo_lumo_gap = [3.077, 3.072, 3.259, 2.625, 2.938, 2.946, 3.191, 3.226, 3.228, 2.811, 2.971, 2.813, 3.231, 2.735, 2.878, 2.686, 3.215, 2.77, 3.001, 2.702, 2.97, 2.89, 2.859, 2.97, 3.137, 2.525]\n",
        "\n",
        "# add molecule names and homolumo gap\n",
        "cucmins['Molecule Name'] = [molecule_names for molecule_names in ['2-ADMeO3', '3-MR83a', 'AD-10', 'AD-1013', 'AD-1022', 'AD-11', 'AD-12', 'AD-13', 'AD-13-DMF', 'AD-14-Moore', 'AD-15', 'AD-15-DMF', 'AD-16-DMF', 'AD-18', 'AD-24', 'AD-25', 'AD-3', 'AD-35', 'AD-4', 'AD-48', 'AD-5', 'AD-6', 'AD-7', 'AD-8', 'AD-9', 'YD-30']]\n",
        "cucmins['Homo Lumo Gap (ev)'] = [homo_lumo_gap for homo_lumo_gap in [3.077, 3.072, 3.259, 2.625, 2.938, 2.946, 3.191, 3.226, 3.228, 2.811, 2.971, 2.813, 3.231, 2.735, 2.878, 2.686, 3.215, 2.77, 3.001, 2.702, 2.97, 2.89, 2.859, 2.97, 3.137, 2.525]]\n",
        "cucmins.head(5)"
      ]
    },
    {
      "cell_type": "code",
      "execution_count": null,
      "metadata": {},
      "outputs": [],
      "source": [
        "from rdkit.Chem import AllChem\n",
        "\n",
        "# Function to generate Morgan fingerprints\n",
        "def generate_morgan_fingerprint(smiles, radius=3, n_bits=2048):\n",
        "    mol = Chem.MolFromSmiles(smiles)\n",
        "    if mol:\n",
        "        fingerprint = AllChem.GetMorganFingerprintAsBitVect(mol, radius, nBits=n_bits, useChirality = True)\n",
        "        return list(fingerprint)\n",
        "    else:\n",
        "        return None\n",
        "\n",
        "cucmins['Morgan_Fingerprint'] = cucmins['SMILES'].apply(generate_morgan_fingerprint)\n",
        "fingerprint_df = pd.DataFrame(cucmins['Morgan_Fingerprint'].tolist(), columns=[f'morgan_{i}' for i in range(2048)])\n",
        "cucmins_df = pd.concat([cucmins, fingerprint_df], axis=1)\n",
        "cucmins_df.drop(columns=['Morgan_Fingerprint'], inplace=True)\n",
        "cucmins_df.head()"
      ]
    },
    {
      "cell_type": "code",
      "execution_count": null,
      "metadata": {},
      "outputs": [],
      "source": [
        "XXX = scaler.transform(fingerprint_df)\n",
        "for x in (fingerprint_df):\n",
        "  y_pred = regressor.predict(XXX)\n",
        "print(y_pred)"
      ]
    },
    {
      "cell_type": "code",
      "execution_count": null,
      "metadata": {},
      "outputs": [],
      "source": [
        "# add y_pred list to cucmins_df as predicted band gap next to Homo Lumo Gap\n",
        "column_index = cucmins_df.columns.get_loc('Homo Lumo Gap (ev)')\n",
        "cucmins_df.insert(column_index + 1, 'Predicted Band Gap (ev)', y_pred)\n",
        "cucmins_df.head()"
      ]
    },
    {
      "cell_type": "code",
      "execution_count": null,
      "metadata": {},
      "outputs": [],
      "source": [
        "# visualize Homo Lumo Gap (ev) with Predicted Band Gap (ev) for comparison\n",
        "import pandas as pd\n",
        "import matplotlib.pyplot as plt\n",
        "\n",
        "plt.figure(figsize=(12, 6))\n",
        "plt.plot(cucmins_df['Molecule'], cucmins_df['Homo Lumo Gap (ev)'], marker='o', label='Homo Lumo Gap')\n",
        "plt.plot(cucmins_df['Molecule'], cucmins_df['Predicted Band Gap (ev)'], marker='o', label='Predicted Band Gap')\n",
        "plt.xlabel('Molecule')\n",
        "plt.ylabel('Energy (ev)')\n",
        "plt.title('Comparison of Homo Lumo Gap and Predicted Band Gap')\n",
        "plt.xticks(rotation=90)\n",
        "plt.legend()\n",
        "plt.grid(True)\n",
        "plt.tight_layout()\n",
        "plt.show()"
      ]
    },
    {
      "cell_type": "markdown",
      "metadata": {
        "id": "mbIWXqANXV7l"
      },
      "source": [
        "#MACS"
      ]
    },
    {
      "cell_type": "code",
      "execution_count": null,
      "metadata": {
        "colab": {
          "background_save": true
        },
        "id": "sKlka4H0XXz9"
      },
      "outputs": [],
      "source": [
        "# Generate MACCS keys\n",
        "maccs_fps = [MACCSkeys.GenMACCSKeys(mol) for mol in mfull]\n",
        "maccs_fps = np.array(maccs_fps)\n",
        "# Split the dataset into training and testing sets\n",
        "X_train, X_test, y_train, y_test = train_test_split(maccs_fps, newdata['GAP_calib'], test_size=0.2, random_state=42)\n",
        "\n",
        "scaler = StandardScaler()\n",
        "X_train_scaled = scaler.fit_transform(X_train)\n",
        "X_test_scaled = scaler.transform(X_test)\n",
        "\n",
        "# Create an MLPRegressor\n",
        "regressor = MLPRegressor(hidden_layer_sizes=(500,250,100), activation='relu', solver='adam', random_state=42)\n",
        "\n",
        "# Fit the regressor to the scaled training data\n",
        "regressor.fit(X_train_scaled, y_train)\n",
        "\n",
        "# Make predictions on the scaled testing data\n",
        "y_pred = regressor.predict(X_test_scaled)\n",
        "\n",
        "# Calculate Mean Squared Error (MSE)\n",
        "mse = mean_squared_error(y_test, y_pred)\n",
        "mae = mean_absolute_error(y_test, y_pred)\n",
        "r2 = r2_score(y_test, y_pred)\n",
        "print('Mean Squared Error:', mse)\n",
        "print(f\"MAE: {mae}\")\n",
        "print(f\"R2 Score: {r2}\")\n",
        "\n",
        "ez33 = 'InChI=1S/C23H23BF2O6/c1-27-20-11-7-16(13-22(20)29-3)5-9-18-15-19(32-24(25,26)31-18)10-6-17-8-12-21(28-2)23(14-17)30-4/h5-15H,1-4H3/b9-5+,10-6+'\n",
        "ad1022 = 'InChI=1S/C23H23BF2O6/c1-27-18-9-11-22(29-3)16(13-18)5-7-20-15-21(32-24(25,26)31-20)8-6-17-14-19(28-2)10-12-23(17)30-4/h5-15H,1-4H3/b7-5+,8-6+'\n",
        "ad11 = 'InChI=1S/C21H19BF2O6/c1-27-20-11-14(5-9-18(20)25)3-7-16-13-17(30-22(23,24)29-16)8-4-15-6-10-19(26)21(12-15)28-2/h3-13,25-26H,1-2H3/b7-3+,8-4+'\n",
        "ad10 = 'InChI=1S/C23H23BF2O6/c1-27-18-9-5-16(22(14-18)29-3)7-11-20-13-21(32-24(25,26)31-20)12-8-17-6-10-19(28-2)15-23(17)30-4/h5-15H,1-4H3/b11-7+,12-8+'\n",
        "ad9 = 'InChI=1S/C21H19BF2O4/c1-25-20-9-5-3-7-16(20)11-13-18-15-19(28-22(23,24)27-18)14-12-17-8-4-6-10-21(17)26-2/h3-15H,1-2H3/b13-11+,14-12+'\n",
        "ADMeO3 ='InChI=1S/C25H27BF2O8/c1-29-18-12-22(31-3)20(23(13-18)32-4)9-7-16-11-17(36-26(27,28)35-16)8-10-21-24(33-5)14-19(30-2)15-25(21)34-6/h7-15H,1-6H3/b9-7+,10-8+'\n",
        "AD14 = 'InChI=1S/C23H25BF2N2O2/c1-27(2)20-11-5-18(6-12-20)9-15-22-17-23(30-24(25,26)29-22)16-10-19-7-13-21(14-8-19)28(3)4/h5-17H,1-4H3/b15-9+,16-10+'\n",
        "substitute_listinchi = (ADMeO3,ad9,ad10,ad11,ad1022,ez33,AD14)\n",
        "# 2.16. 2.49 2.3  2.16.  2.22.  2.22 1.77\n",
        "molecules_without = [Chem.MolFromInchi(smiles) for smiles in substitute_listinchi]\n",
        "maccs_fps = [MACCSkeys.GenMACCSKeys(mol) for mol in molecules_without]\n",
        "maccs_fps = np.array(maccs_fps)\n",
        "XXX = scaler.transform(maccs_fps)\n",
        "for x in (maccs_fps):\n",
        "  y_pred = regressor.predict(XXX)\n",
        "print(y_pred)"
      ]
    },
    {
      "cell_type": "markdown",
      "metadata": {
        "id": "bfovX-8cXmv7"
      },
      "source": [
        "#PUB Chem"
      ]
    },
    {
      "cell_type": "code",
      "execution_count": null,
      "metadata": {
        "id": "cBNmvzByXlg-"
      },
      "outputs": [],
      "source": [
        "# Generate PubChem fingerprints\n",
        "pubchem_fps = [Chem.RDKFingerprint(mol) for mol in mfull]\n",
        "pubchem_fps = np.array(pubchem_fps)\n",
        "\n",
        "# Split the dataset into training and testing sets\n",
        "X_train, X_test, y_train, y_test = train_test_split(pubchem_fps, newdata['GAP_calc'], test_size=0.3, random_state=42)\n",
        "\n",
        "scaler = StandardScaler()\n",
        "X_train_scaled = scaler.fit_transform(X_train)\n",
        "X_test_scaled = scaler.transform(X_test)\n",
        "\n",
        "# Create an MLPRegressor\n",
        "regressor = MLPRegressor(hidden_layer_sizes=(1000,500,100,50), activation='relu', solver='adam', random_state=42)\n",
        "\n",
        "# Fit the regressor to the scaled training data\n",
        "regressor.fit(X_train_scaled, y_train)\n",
        "\n",
        "# Make predictions on the scaled testing data\n",
        "y_pred = regressor.predict(X_test_scaled)\n",
        "\n",
        "# Calculate Mean Squared Error (MSE)\n",
        "mse = mean_squared_error(y_test, y_pred)\n",
        "mae = mean_absolute_error(y_test, y_pred)\n",
        "r2 = r2_score(y_test, y_pred)\n",
        "print('Mean Squared Error:', mse)\n",
        "print(f\"MAE: {mae}\")\n",
        "print(f\"R2 Score: {r2}\")"
      ]
    },
    {
      "cell_type": "markdown",
      "metadata": {
        "id": "h3a692BS9Cff"
      },
      "source": [
        "#ECFP"
      ]
    },
    {
      "cell_type": "markdown",
      "metadata": {
        "id": "HoSVbeKnX7Se"
      },
      "source": []
    },
    {
      "cell_type": "code",
      "execution_count": null,
      "metadata": {
        "id": "tJxYKKilX73I"
      },
      "outputs": [],
      "source": [
        "# Generate topological fingerprints (ECFP4)\n",
        "ecfp_fps = [AllChem.GetMorganFingerprintAsBitVect(mol, 2, nBits=2048) for mol in mfull]\n",
        "ecfp_fps = np.array(ecfp_fps)\n",
        "\n",
        "# Split the dataset into training and testing sets\n",
        "X_train, X_test, y_train, y_test = train_test_split(maccs_fps, newdata['GAP_calc'], test_size=0.3, random_state=42)\n",
        "\n",
        "scaler = StandardScaler()\n",
        "X_train_scaled = scaler.fit_transform(X_train)\n",
        "X_test_scaled = scaler.transform(X_test)\n",
        "\n",
        "# Create an MLPRegressor\n",
        "regressor = MLPRegressor(hidden_layer_sizes=(2000,1000,500,50), activation='relu', solver='adam', random_state=42)\n",
        "\n",
        "# Fit the regressor to the scaled training data\n",
        "regressor.fit(X_train_scaled, y_train)\n",
        "\n",
        "# Make predictions on the scaled testing data\n",
        "y_pred = regressor.predict(X_test_scaled)\n",
        "\n",
        "# Calculate Mean Squared Error (MSE)\n",
        "mse = mean_squared_error(y_test, y_pred)\n",
        "mae = mean_absolute_error(y_test, y_pred)\n",
        "r2 = r2_score(y_test, y_pred)\n",
        "print('Mean Squared Error:', mse)\n",
        "print(f\"MAE: {mae}\")\n",
        "print(f\"R2 Score: {r2}\")"
      ]
    },
    {
      "cell_type": "code",
      "execution_count": null,
      "metadata": {
        "id": "F3sTgn5lDXvD"
      },
      "outputs": [],
      "source": [
        "\n",
        "# Generate Morgan fingerprints\n",
        "morgan_fps = [AllChem.GetMorganFingerprintAsBitVect(mol, 4, nBits=1000) for mol in mfull]\n",
        "morgan_fps = np.array(morgan_fps)\n",
        "# Split the dataset into training and testing sets\n",
        "X_train, X_test, y_train, y_test = train_test_split(morgan_fps, newdata['GAP_calc'], test_size=0.151, random_state=42)\n",
        "\n",
        "scaler = StandardScaler()\n",
        "X_train_scaled = scaler.fit_transform(X_train)\n",
        "X_test_scaled = scaler.transform(X_test)\n",
        "\n",
        "\n",
        "# Define a list of algorithms\n",
        "algorithms = [\n",
        "    ('Support Vector Regression', SVR()),\n",
        "    ('Gaussian Process', GaussianProcessRegressor())\n",
        "]\n",
        "\n",
        "# Train and evaluate each algorithm\n",
        "for name, algorithm in algorithms:\n",
        "    if name == 'Support Vector Regression':\n",
        "        algorithm.set_params(C=2.0, epsilon=0.1)  # Set SVR hyperparameters as needed\n",
        "    if name == 'Polynomial Regression':\n",
        "        # Preprocess the data for polynomial regression\n",
        "        poly_features = algorithm\n",
        "        X_train_transformed = poly_features.fit_transform(X_train)\n",
        "        X_test_transformed = poly_features.transform(X_test)\n",
        "        algorithm = LinearRegression()  # Use linear regression as the model\n",
        "\n",
        "    else:\n",
        "        # Preprocess the data using standard scaler\n",
        "        scaler = StandardScaler()\n",
        "        X_train_transformed = scaler.fit_transform(X_train)\n",
        "        X_test_transformed = scaler.transform(X_test)\n",
        "\n",
        "    # Train the algorithm\n",
        "    algorithm.fit(X_train_transformed, y_train)\n",
        "\n",
        "    # Evaluate the algorithm\n",
        "    y_pred = algorithm.predict(X_test_transformed)\n",
        "    mse = mean_squared_error(y_test, y_pred)\n",
        "    mae = mean_absolute_error(y_test, y_pred)\n",
        "    r2 = r2_score(y_test, y_pred)\n",
        "    evs = explained_variance_score(y_test, y_pred)\n",
        "\n",
        "    print(f\"Algorithm: {name}\")\n",
        "    print(f\"MSE: {mse}\")\n",
        "    print(f\"MAE: {mae}\")\n",
        "    print(f\"R2 Score: {r2}\")\n",
        "    print(f\"explained_variance_score: {evs}\")\n",
        "    print()\n"
      ]
    },
    {
      "cell_type": "code",
      "execution_count": null,
      "metadata": {
        "id": "UOFTP1zgd47T"
      },
      "outputs": [],
      "source": [
        "\n",
        "\n",
        "# Define a list of algorithms\n",
        "algorithms = [\n",
        "    ('Polynomial Regression', PolynomialFeatures(degree=2)),\n",
        "    ('Support Vector Regression', SVR()),\n",
        "    ('Decision Tree', DecisionTreeRegressor()),\n",
        "    ('Random Forest', RandomForestRegressor()),\n",
        "    ('Gaussian Process', GaussianProcessRegressor())\n",
        "]\n",
        "\n",
        "# Train and evaluate each algorithm\n",
        "for name, algorithm in algorithms:\n",
        "    if name == 'Support Vector Regression':\n",
        "        algorithm.set_params(C=1.0, epsilon=0.1)  # Set SVR hyperparameters as needed\n",
        "    if name == 'Polynomial Regression':\n",
        "        # Preprocess the data for polynomial regression\n",
        "        poly_features = algorithm\n",
        "        X_train_transformed = poly_features.fit_transform(X_train)\n",
        "        X_test_transformed = poly_features.transform(X_test)\n",
        "        algorithm = LinearRegression()  # Use linear regression as the model\n",
        "\n",
        "    else:\n",
        "        # Preprocess the data using standard scaler\n",
        "        scaler = StandardScaler()\n",
        "        X_train_transformed = scaler.fit_transform(X_train)\n",
        "        X_test_transformed = scaler.transform(X_test)\n",
        "\n",
        "    # Train the algorithm\n",
        "    algorithm.fit(X_train_transformed, y_train)\n",
        "\n",
        "    # Evaluate the algorithm\n",
        "    y_pred = algorithm.predict(X_test_transformed)\n",
        "    mse = mean_squared_error(y_test, y_pred)\n",
        "    mae = mean_absolute_error(y_test, y_pred)\n",
        "    r2 = r2_score(y_test, y_pred)\n",
        "    evs = explained_variance_score(y_test, y_pred)\n",
        "\n",
        "    print(f\"Algorithm: {name}\")\n",
        "    print(f\"MSE: {mse}\")\n",
        "    print(f\"MAE: {mae}\")\n",
        "    print(f\"R2 Score: {r2}\")\n",
        "    print(f\"explained_variance_score: {evs}\")\n",
        "    print()\n"
      ]
    }
  ],
  "metadata": {
    "colab": {
      "provenance": []
    },
    "kernelspec": {
      "display_name": "Python 3",
      "name": "python3"
    },
    "language_info": {
      "codemirror_mode": {
        "name": "ipython",
        "version": 3
      },
      "file_extension": ".py",
      "mimetype": "text/x-python",
      "name": "python",
      "nbconvert_exporter": "python",
      "pygments_lexer": "ipython3",
      "version": "3.11.5"
    }
  },
  "nbformat": 4,
  "nbformat_minor": 0
}
