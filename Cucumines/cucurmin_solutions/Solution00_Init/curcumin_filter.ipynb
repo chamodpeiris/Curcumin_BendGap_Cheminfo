{
 "cells": [
  {
   "cell_type": "code",
   "execution_count": 7,
   "metadata": {},
   "outputs": [
    {
     "name": "stdout",
     "output_type": "stream",
     "text": [
      "CPU times: total: 1min 7s\n",
      "Wall time: 1min 32s\n"
     ]
    }
   ],
   "source": [
    "%%time\n",
    "# importing dependencies\n",
    "import pandas as pd\n",
    "import numpy as np\n",
    "from rdkit import Chem\n",
    "from rdkit.Chem import AllChem, DataStructs, rdMolDescriptors, MACCSkeys, Descriptors, Draw\n",
    "\n",
    "# Defining the SMILES strings for the cucumin varients\n",
    "curcumin_variants = (\n",
    "    \"COc3cc(OC)c(C/C=C/C2=CC(/C=C/Cc1c(OC)cc(OC)cc1OC)=[O+][B-](F)(F)O2)c(OC)c3\",\n",
    "    \"COc3ccc(C/C=C/C2=[O+][B-](F)(F)OC(/C=C/Cc1c(OC)cc(OC)cc1OC)=C2)cc3\",\n",
    "    \"COc3ccc(C/C=C/C2=CC(/C=C/Cc1ccc(OC)cc1OC)=[O+][B-](F)(F)O2)c(OC)c3\",\n",
    "    \"COc5ccc(C/C=C/C4=[O+][B-](F)(F)OC(/C=C/Cc2c1ccccc1cc3ccccc23)=C4)cc5\",\n",
    "    \"COc3ccc(OC)c(C/C=C/C2=CC(/C=C/Cc1cc(OC)ccc1OC)=[O+][B-](F)(F)O2)c3\",\n",
    "    \"COc3cc(C/C=C/C2=CC(/C=C/Cc1ccc(O)c(OC)c1)=[O+][B-](F)(F)O2)ccc3O\",\n",
    "    \"F[B-]3(F)OC(/C=C/Cc1ccc(Br)cc1)=CC(/C=C/Cc2ccc(Br)cc2)=[O+]3\",\n",
    "    \"C=C(OC)c3ccc(C/C=C/C2=CC(/C=C/Cc1ccc(C(=C)OC)cc1)=[O+][B-](F)(F)O2)cc3\",\n",
    "    \"C=C(OC)c3ccc(C/C=C/C2=CC(/C=C/Cc1ccc(C(=C)OC)cc1)=[O+][B-](F)(F)O2)cc3\",\n",
    "    \"CN(C)c3ccc(C/C=C/C2=CC(/C=C/Cc1ccc(N(C)C)cc1)=[O+][B-](F)(F)O2)cc3\",\n",
    "    \"CCCOc1cc(N(CC)CC)ccc1C/C=C/C3=CC(/C=C/Cc2ccc(N(CC)CC)cc2OCCC)=[O+][B-](F)(F)O3\",\n",
    "    \"CCCOc1cc(N(CC)CC)ccc1C/C=C/C3=CC(/C=C/Cc2ccc(N(CC)CC)cc2OCCC)=[O+][B-](F)(F)O3\",\n",
    "    \"N#Cc3ccc(C/C=C/C2=[O+][B-](F)(F)OC(/C=C/Cc1ccccc1)=C2)cc3\",\n",
    "    \"COc6ccc(C/C=C/C5=CC(/C=C/Cc1cc2ccc3cccc4ccc(c1)c2c34)=[O+][B-](F)(F)O5)cc6\",\n",
    "    \"COc4ccc(C/C=C/C3=CC(/C=C/Cc1ccc(OC)c2ccccc12)=[O+][B-](F)(F)O3)c5ccccc45\",\n",
    "    \"CN(C)c4ccc(C/C=C/C3=CC(/C=C/Cc1ccc(N(C)C)c2ccccc12)=[O+][B-](F)(F)O3)c5ccccc45\",\n",
    "    \"N#Cc3ccc(C/C=C/C2=CC(/C=C/Cc1ccc(C#N)cc1)=[O+][B-](F)(F)O2)cc3\",\n",
    "    \"CCCCN(CCCC)c3ccc(C/C=C/C2=CC(/C=C/Cc1ccc(N(CCCC)CCCC)cc1)=[O+][B-](F)(F)O2)cc3\",\n",
    "    \"COc3ccc(C/C=C/C2=CC(/C=C/Cc1ccc(C#N)cc1)=[O+][B-](F)(F)O2)cc3\",\n",
    "    \"CN5/C(=C\\C\\C=C\\C3=CC(/C=C/C/C=C/2N(C)c1ccccc1C2(C)C)=[O+][B-](F)(F)O3)C(C)(C)c4ccccc45\",\n",
    "    \"COc3ccc(C/C=C/C2=[O+][B-](F)(F)OC(/C=C/Cc1ccc(SC)cc1)=C2)cc3\",\n",
    "    \"CSc3ccc(C/C=C/C2=CC(/C=C/Cc1ccc(SC)cc1)=[O+][B-](F)(F)O2)cc3\",\n",
    "    \"COc3ccc(C/C=C/C2=CC(/C=C/Cc1ccc(N(C)C)cc1)=[O+][B-](F)(F)O2)cc3\",\n",
    "    \"COc5ccc(C/C=C/C4=[O+][B-](F)(F)OC(/C=C/Cc3ccc2c1ccccc1n(C)c2c3)=C4)cc5\",\n",
    "    \"COc1ccccc1C/C=C/C3=CC(/C=C/Cc2ccccc2OC)=[O+][B-](F)(F)O3\",\n",
    "    \"CCCCCC(CC)c5ccc(c4ccc(C/C=C/C3=CC(/C=C/Cc2ccc(c1ccc(C(CC)CCCCC)s1)s2)=[O+][B-](F)(F)O3)s4)s5\"\n",
    ")\n",
    "\n",
    "# Defining the molecule names and HOMO-LUMO Gap\n",
    "molecule_names = ['2-ADMeO3', '3-MR83a', 'AD-10', 'AD-1013', 'AD-1022', 'AD-11', 'AD-12', 'AD-13', 'AD-13-DMF', 'AD-14-Moore', 'AD-15', 'AD-15-DMF', 'AD-16-DMF', 'AD-18', 'AD-24', 'AD-25', 'AD-3', 'AD-35', 'AD-4', 'AD-48', 'AD-5', 'AD-6', 'AD-7', 'AD-8', 'AD-9', 'YD-30']\n",
    "homo_lumo_gap = [3.077, 3.072, 3.259, 2.625, 2.938, 2.946, 3.191, 3.226, 3.228, 2.811, 2.971, 2.813, 3.231, 2.735, 2.878, 2.686, 3.215, 2.77, 3.001, 2.702, 2.97, 2.89, 2.859, 2.97, 3.137, 2.525]\n",
    "\n",
    "# Molecules generation and descriptor calculations\n",
    "molecules = [Chem.MolFromSmiles(smiles) for smiles in curcumin_variants]\n",
    "mws = [round(Descriptors.MolWt(mol),3) for mol in molecules]\n",
    "logp = [Descriptors.MolLogP(mol) for mol in molecules]\n",
    "# legends = [f\"{name} : {gap} eV\" for name, gap in zip(molecule_names, homo_lumo_gap)]\n",
    "# Draw.MolsToGridImage(molecules, molsPerRow=4, subImgSize=(300,250), legends=legends)\n",
    "\n",
    "# Function to generate Morgan fingerprints\n",
    "def generate_morgan_fingerprint(smiles, radius=4, n_bits=2048):\n",
    "    mol = Chem.MolFromSmiles(smiles)\n",
    "    if mol:\n",
    "        fingerprint = AllChem.GetMorganFingerprintAsBitVect(mol, radius, nBits=n_bits, useChirality = True)\n",
    "        return list(fingerprint)\n",
    "    else:\n",
    "        return None\n",
    "\n",
    "# Creating the initial dataframe\n",
    "data = {\n",
    "    'Molecule': molecule_names,\n",
    "    'Molecular Weight': mws,\n",
    "    'LogP': logp,\n",
    "    'Homo-Lumo Gap (eV)': homo_lumo_gap,\n",
    "    'Smiles': curcumin_variants\n",
    "}\n",
    "\n",
    "curcumin_df = pd.DataFrame(data)\n",
    "\n",
    "# Generate Morgan fingerprints and create the dataframe\n",
    "curcumin_df['Morgan_Fingerprint'] = curcumin_df['Smiles'].apply(generate_morgan_fingerprint)\n",
    "morgan_df = pd.DataFrame(curcumin_df['Morgan_Fingerprint'].tolist(), columns=[f'morgan_{i}' for i in range(2048)])\n",
    "curcumin_df_mf = pd.concat([curcumin_df.drop(columns=['Morgan_Fingerprint']), morgan_df], axis=1)\n",
    "\n",
    "# Harvard OPV dataset import\n",
    "data = pd.read_csv('https://raw.githubusercontent.com/AjStephan/havard-smile-opv/main/Non-fullerene%20small-molecules%20acceptors.csv')\n",
    "newdata = data.drop(columns=['index', 'inchikey',  'HOMO_calc', 'LUMO_calc', 'LUMO_calib',\n",
    "       'LUMO_calib_stds', 'HOMO_calib', 'HOMO_calib_stds', 'molW',\n",
    "       'PCE_calc', 'Voc_calc', 'Jsc_calc', 'FF_calc', 'EQE_calc',\n",
    "       'PCE_calib', 'Voc_calib', 'Jsc_calib', 'FF_calib', 'EQE_calib',\n",
    "       'PCE_cdiff', 'PCE_calib_plus'], axis=1)\n",
    "\n",
    "# Generate New dataframe of morgan fingerprint for trainning\n",
    "newdata[\"mol\"] = newdata[\"smiles\"].apply(Chem.MolFromSmiles)\n",
    "newdata[\"Morgan_Fingerprints\"] = newdata['smiles'].apply(generate_morgan_fingerprint)\n",
    "morgan_df_opv = pd.DataFrame(newdata['Morgan_Fingerprints'].tolist(), columns=[f'morgan_{i}' for i in range(2048)])\n",
    "opv_df_mf = pd.concat([newdata.drop(columns = ['Morgan_Fingerprints']), morgan_df_opv],axis = 1)"
   ]
  },
  {
   "cell_type": "code",
   "execution_count": 8,
   "metadata": {},
   "outputs": [],
   "source": [
    "curcumin_sim = curcumin_df_mf.iloc[:,:5]\n",
    "curcumin_sim[\"mol\"] = curcumin_sim[\"Smiles\"].apply(Chem.MolFromSmiles)"
   ]
  },
  {
   "cell_type": "code",
   "execution_count": null,
   "metadata": {},
   "outputs": [],
   "source": [
    "# Similarity loop\n",
    "opv_df_sim = opv_df_mf.iloc[:,:3]\n",
    "opv_df_sim[\"mol\"] = opv_df_sim[\"smiles\"].apply(Chem.MolFromSmiles)\n",
    "\n",
    "# Define similarity algo\n",
    "def Tanimoto_similarity(mol_fp, specific_fp):\n",
    "    return DataStructs.TanimotoSimilarity(mol_fp, specific_fp)\n",
    "\n",
    "def calculate_similarity(mol_fp, specific_fp):\n",
    "    return DataStructs.DiceSimilarity(mol_fp, specific_fp)\n",
    "\n",
    "def calculate_cosine(mol_fp, specific_fp):\n",
    "    return DataStructs.CosineSimilarity(mol_fp, specific_fp)\n",
    "\n",
    "def calculate_kulczynski(mol_fp, specific_fp):\n",
    "    return DataStructs.KulczynskiSimilarity(mol_fp, specific_fp)\n",
    "\n",
    "# Define similarity searching molecule\n",
    "specific_smiles = 'Cc3ccc(/C=C/C2=CC(/C=C/c1ccc(C)cc1)=[O+][B-](F)(F)O2)cc3'\n",
    "specific_mol = Chem.MolFromSmiles(specific_smiles)\n",
    "\n",
    "# Define fingerprint for the specific molecule\n",
    "specific_fp_morgan = generate_morgan_fingerprint(specific_smiles)\n",
    "specific_fp_atompair = rdMolDescriptors.GetHashedAtomPairFingerprintAsBitVect(specific_mol)\n",
    "specific_fp_maccs = MACCSkeys.GenMACCSKeys(specific_mol)"
   ]
  },
  {
   "cell_type": "code",
   "execution_count": 11,
   "metadata": {},
   "outputs": [
    {
     "name": "stdout",
     "output_type": "stream",
     "text": [
      "morgan_Tanimoto_top10: (5196, 6)\n",
      "morgan_Dice_top10: (5196, 6)\n",
      "morgan_Cosine_top10: (5160, 6)\n",
      "morgan_Kulczynski_top10: (5139, 6)\n",
      "atom_pair_Tanimoto_top10: (5129, 6)\n",
      "atom_pair_Dice_top10: (5129, 6)\n",
      "atom_pair_Cosine_top10: (5130, 6)\n",
      "atom_pair_Kulczynski_top10: (5126, 6)\n",
      "maccs_Tanimoto_top10: (5187, 6)\n",
      "maccs_Dice_top10: (5187, 6)\n",
      "maccs_Cosine_top10: (5188, 6)\n",
      "maccs_Kulczynski_top10: (5168, 6)\n"
     ]
    }
   ],
   "source": [
    "import pandas as pd\n",
    "from rdkit import Chem\n",
    "from rdkit.Chem import AllChem, MACCSkeys, rdMolDescriptors, DataStructs\n",
    "\n",
    "# Function to generate Morgan fingerprint\n",
    "def generate_morgan_fingerprint(mol, radius=2):\n",
    "    return rdMolDescriptors.GetMorganFingerprintAsBitVect(mol, radius, nBits=2048)\n",
    "\n",
    "# Function to generate Atom Pair fingerprint\n",
    "def generate_atom_pair_fingerprint(mol):\n",
    "    return rdMolDescriptors.GetHashedAtomPairFingerprintAsBitVect(mol, nBits=2048)\n",
    "\n",
    "# Define similarity functions\n",
    "def Tanimoto_similarity(mol_fp, specific_fp):\n",
    "    return DataStructs.TanimotoSimilarity(mol_fp, specific_fp)\n",
    "\n",
    "def calculate_similarity(mol_fp, specific_fp):\n",
    "    return DataStructs.DiceSimilarity(mol_fp, specific_fp)\n",
    "\n",
    "def calculate_cosine(mol_fp, specific_fp):\n",
    "    return DataStructs.CosineSimilarity(mol_fp, specific_fp)\n",
    "\n",
    "def calculate_kulczynski(mol_fp, specific_fp):\n",
    "    return DataStructs.KulczynskiSimilarity(mol_fp, specific_fp)\n",
    "\n",
    "# Define similarity searching molecule\n",
    "specific_smiles = 'Cc3ccc(/C=C/C2=CC(/C=C/c1ccc(C)cc1)=[O+][B-](F)(F)O2)cc3'\n",
    "specific_mol = Chem.MolFromSmiles(specific_smiles)\n",
    "\n",
    "# Define fingerprints for the specific molecule\n",
    "specific_fp_morgan = generate_morgan_fingerprint(specific_mol)\n",
    "specific_fp_atompair = generate_atom_pair_fingerprint(specific_mol)\n",
    "specific_fp_maccs = MACCSkeys.GenMACCSKeys(specific_mol)\n",
    "\n",
    "# Initialize the resulting dictionary\n",
    "resulting_dfs = {}\n",
    "\n",
    "# Define a dictionary for fingerprint functions and their names\n",
    "fingerprint_functions = {\n",
    "    'morgan': generate_morgan_fingerprint,\n",
    "    'atom_pair': generate_atom_pair_fingerprint,\n",
    "    'maccs': MACCSkeys.GenMACCSKeys\n",
    "}\n",
    "\n",
    "# Define a dictionary for similarity functions and their names\n",
    "similarity_functions = {\n",
    "    'Tanimoto': Tanimoto_similarity,\n",
    "    'Dice': calculate_similarity,\n",
    "    'Cosine': calculate_cosine,\n",
    "    'Kulczynski': calculate_kulczynski\n",
    "}\n",
    "\n",
    "# Process each fingerprint and similarity metric\n",
    "for fp_name, fp_function in fingerprint_functions.items():\n",
    "    for sim_name, sim_function in similarity_functions.items():\n",
    "        # Create the fingerprint dataframe name\n",
    "        fp_df_name = f'opv_df_sim_{fp_name}_{sim_name}'\n",
    "\n",
    "        # Generate fingerprints for the dataframe\n",
    "        opv_df_sim = opv_df_mf.iloc[:, :3].copy()\n",
    "        opv_df_sim[\"mol\"] = opv_df_sim[\"smiles\"].apply(Chem.MolFromSmiles)\n",
    "        \n",
    "        # Generate the fingerprints\n",
    "        if fp_name == 'morgan':\n",
    "            opv_df_sim[\"fp\"] = opv_df_sim[\"mol\"].apply(lambda mol: generate_morgan_fingerprint(mol))\n",
    "        elif fp_name == 'atom_pair':\n",
    "            opv_df_sim[\"fp\"] = opv_df_sim[\"mol\"].apply(lambda mol: generate_atom_pair_fingerprint(mol))\n",
    "        elif fp_name == 'maccs':\n",
    "            opv_df_sim[\"fp\"] = opv_df_sim[\"mol\"].apply(lambda mol: MACCSkeys.GenMACCSKeys(mol))\n",
    "        \n",
    "        # Calculate similarity\n",
    "        if fp_name == 'morgan':\n",
    "            specific_fp = specific_fp_morgan\n",
    "        elif fp_name == 'atom_pair':\n",
    "            specific_fp = specific_fp_atompair\n",
    "        elif fp_name == 'maccs':\n",
    "            specific_fp = specific_fp_maccs\n",
    "\n",
    "        opv_df_sim['similarity'] = opv_df_sim['fp'].apply(lambda x: sim_function(x, specific_fp))\n",
    "\n",
    "        # Filter the top 10% similar molecules\n",
    "        top10_df = opv_df_sim.sort_values(by='similarity', ascending=False).reset_index(drop=True)\n",
    "        top10_df = top10_df[top10_df['similarity'] >= top10_df['similarity'].quantile(0.90)].copy()\n",
    "\n",
    "        # Store in resulting_dfs\n",
    "        resulting_dfs[f'{fp_name}_{sim_name}_top10'] = top10_df\n",
    "        print(f'{fp_name}_{sim_name}_top10: {top10_df.shape}')"
   ]
  },
  {
   "cell_type": "code",
   "execution_count": 14,
   "metadata": {},
   "outputs": [],
   "source": [
    "for name, df in resulting_dfs.items():\n",
    "    globals()[name] = df"
   ]
  },
  {
   "cell_type": "code",
   "execution_count": 21,
   "metadata": {},
   "outputs": [
    {
     "name": "stdout",
     "output_type": "stream",
     "text": [
      "Processing morgan_Tanimoto_top10...\n"
     ]
    },
    {
     "data": {
      "text/html": [],
      "text/plain": [
       "<IPython.core.display.HTML object>"
      ]
     },
     "metadata": {},
     "output_type": "display_data"
    },
    {
     "data": {
      "text/html": [
       "<style type=\"text/css\">\n",
       "#T_03083 th {\n",
       "  text-align: left;\n",
       "}\n",
       "#T_03083_row0_col0, #T_03083_row1_col0, #T_03083_row1_col1, #T_03083_row1_col2, #T_03083_row1_col3, #T_03083_row1_col4, #T_03083_row1_col5, #T_03083_row1_col6, #T_03083_row2_col0, #T_03083_row2_col1, #T_03083_row2_col2, #T_03083_row2_col3, #T_03083_row2_col4, #T_03083_row2_col5, #T_03083_row2_col6, #T_03083_row3_col0, #T_03083_row3_col1, #T_03083_row3_col2, #T_03083_row3_col3, #T_03083_row3_col4, #T_03083_row3_col5, #T_03083_row3_col6, #T_03083_row4_col0, #T_03083_row4_col1, #T_03083_row4_col2, #T_03083_row4_col3, #T_03083_row4_col4, #T_03083_row4_col5, #T_03083_row4_col6 {\n",
       "  text-align: left;\n",
       "}\n",
       "#T_03083_row0_col1, #T_03083_row0_col2, #T_03083_row0_col3, #T_03083_row0_col4, #T_03083_row0_col5, #T_03083_row0_col6 {\n",
       "  text-align: left;\n",
       "  background-color: yellow;\n",
       "}\n",
       "#T_03083_row0_col7, #T_03083_row1_col7, #T_03083_row2_col7, #T_03083_row3_col7 {\n",
       "  text-align: left;\n",
       "  background-color: lightgrey;\n",
       "}\n",
       "#T_03083_row4_col7 {\n",
       "  text-align: left;\n",
       "  background-color: yellow;\n",
       "  background-color: lightgrey;\n",
       "}\n",
       "</style>\n",
       "<table id=\"T_03083\">\n",
       "  <thead>\n",
       "    <tr>\n",
       "      <th class=\"blank level0\" >&nbsp;</th>\n",
       "      <th id=\"T_03083_level0_col0\" class=\"col_heading level0 col0\" >Model</th>\n",
       "      <th id=\"T_03083_level0_col1\" class=\"col_heading level0 col1\" >MAE</th>\n",
       "      <th id=\"T_03083_level0_col2\" class=\"col_heading level0 col2\" >MSE</th>\n",
       "      <th id=\"T_03083_level0_col3\" class=\"col_heading level0 col3\" >RMSE</th>\n",
       "      <th id=\"T_03083_level0_col4\" class=\"col_heading level0 col4\" >R2</th>\n",
       "      <th id=\"T_03083_level0_col5\" class=\"col_heading level0 col5\" >RMSLE</th>\n",
       "      <th id=\"T_03083_level0_col6\" class=\"col_heading level0 col6\" >MAPE</th>\n",
       "      <th id=\"T_03083_level0_col7\" class=\"col_heading level0 col7\" >TT (Sec)</th>\n",
       "    </tr>\n",
       "  </thead>\n",
       "  <tbody>\n",
       "    <tr>\n",
       "      <th id=\"T_03083_level0_row0\" class=\"row_heading level0 row0\" >lightgbm</th>\n",
       "      <td id=\"T_03083_row0_col0\" class=\"data row0 col0\" >Light Gradient Boosting Machine</td>\n",
       "      <td id=\"T_03083_row0_col1\" class=\"data row0 col1\" >0.1495</td>\n",
       "      <td id=\"T_03083_row0_col2\" class=\"data row0 col2\" >0.0441</td>\n",
       "      <td id=\"T_03083_row0_col3\" class=\"data row0 col3\" >0.2086</td>\n",
       "      <td id=\"T_03083_row0_col4\" class=\"data row0 col4\" >0.8731</td>\n",
       "      <td id=\"T_03083_row0_col5\" class=\"data row0 col5\" >0.0553</td>\n",
       "      <td id=\"T_03083_row0_col6\" class=\"data row0 col6\" >0.0566</td>\n",
       "      <td id=\"T_03083_row0_col7\" class=\"data row0 col7\" >0.8280</td>\n",
       "    </tr>\n",
       "    <tr>\n",
       "      <th id=\"T_03083_level0_row1\" class=\"row_heading level0 row1\" >xgboost</th>\n",
       "      <td id=\"T_03083_row1_col0\" class=\"data row1 col0\" >Extreme Gradient Boosting</td>\n",
       "      <td id=\"T_03083_row1_col1\" class=\"data row1 col1\" >0.1532</td>\n",
       "      <td id=\"T_03083_row1_col2\" class=\"data row1 col2\" >0.0472</td>\n",
       "      <td id=\"T_03083_row1_col3\" class=\"data row1 col3\" >0.2158</td>\n",
       "      <td id=\"T_03083_row1_col4\" class=\"data row1 col4\" >0.8640</td>\n",
       "      <td id=\"T_03083_row1_col5\" class=\"data row1 col5\" >0.0582</td>\n",
       "      <td id=\"T_03083_row1_col6\" class=\"data row1 col6\" >0.0580</td>\n",
       "      <td id=\"T_03083_row1_col7\" class=\"data row1 col7\" >0.9350</td>\n",
       "    </tr>\n",
       "    <tr>\n",
       "      <th id=\"T_03083_level0_row2\" class=\"row_heading level0 row2\" >br</th>\n",
       "      <td id=\"T_03083_row2_col0\" class=\"data row2 col0\" >Bayesian Ridge</td>\n",
       "      <td id=\"T_03083_row2_col1\" class=\"data row2 col1\" >0.1732</td>\n",
       "      <td id=\"T_03083_row2_col2\" class=\"data row2 col2\" >0.0559</td>\n",
       "      <td id=\"T_03083_row2_col3\" class=\"data row2 col3\" >0.2352</td>\n",
       "      <td id=\"T_03083_row2_col4\" class=\"data row2 col4\" >0.8388</td>\n",
       "      <td id=\"T_03083_row2_col5\" class=\"data row2 col5\" >0.0635</td>\n",
       "      <td id=\"T_03083_row2_col6\" class=\"data row2 col6\" >0.0664</td>\n",
       "      <td id=\"T_03083_row2_col7\" class=\"data row2 col7\" >3.3900</td>\n",
       "    </tr>\n",
       "    <tr>\n",
       "      <th id=\"T_03083_level0_row3\" class=\"row_heading level0 row3\" >huber</th>\n",
       "      <td id=\"T_03083_row3_col0\" class=\"data row3 col0\" >Huber Regressor</td>\n",
       "      <td id=\"T_03083_row3_col1\" class=\"data row3 col1\" >0.1933</td>\n",
       "      <td id=\"T_03083_row3_col2\" class=\"data row3 col2\" >0.0706</td>\n",
       "      <td id=\"T_03083_row3_col3\" class=\"data row3 col3\" >0.2649</td>\n",
       "      <td id=\"T_03083_row3_col4\" class=\"data row3 col4\" >0.7958</td>\n",
       "      <td id=\"T_03083_row3_col5\" class=\"data row3 col5\" >0.0725</td>\n",
       "      <td id=\"T_03083_row3_col6\" class=\"data row3 col6\" >0.0740</td>\n",
       "      <td id=\"T_03083_row3_col7\" class=\"data row3 col7\" >1.5360</td>\n",
       "    </tr>\n",
       "    <tr>\n",
       "      <th id=\"T_03083_level0_row4\" class=\"row_heading level0 row4\" >knn</th>\n",
       "      <td id=\"T_03083_row4_col0\" class=\"data row4 col0\" >K Neighbors Regressor</td>\n",
       "      <td id=\"T_03083_row4_col1\" class=\"data row4 col1\" >0.2283</td>\n",
       "      <td id=\"T_03083_row4_col2\" class=\"data row4 col2\" >0.1085</td>\n",
       "      <td id=\"T_03083_row4_col3\" class=\"data row4 col3\" >0.3283</td>\n",
       "      <td id=\"T_03083_row4_col4\" class=\"data row4 col4\" >0.6866</td>\n",
       "      <td id=\"T_03083_row4_col5\" class=\"data row4 col5\" >0.0905</td>\n",
       "      <td id=\"T_03083_row4_col6\" class=\"data row4 col6\" >0.0925</td>\n",
       "      <td id=\"T_03083_row4_col7\" class=\"data row4 col7\" >0.0920</td>\n",
       "    </tr>\n",
       "  </tbody>\n",
       "</table>\n"
      ],
      "text/plain": [
       "<pandas.io.formats.style.Styler at 0x2646bed0bd0>"
      ]
     },
     "metadata": {},
     "output_type": "display_data"
    },
    {
     "data": {
      "text/html": [],
      "text/plain": [
       "<IPython.core.display.HTML object>"
      ]
     },
     "metadata": {},
     "output_type": "display_data"
    },
    {
     "name": "stdout",
     "output_type": "stream",
     "text": [
      "Processing morgan_Dice_top10...\n"
     ]
    },
    {
     "data": {
      "text/html": [],
      "text/plain": [
       "<IPython.core.display.HTML object>"
      ]
     },
     "metadata": {},
     "output_type": "display_data"
    },
    {
     "data": {
      "text/html": [
       "<style type=\"text/css\">\n",
       "#T_36c87 th {\n",
       "  text-align: left;\n",
       "}\n",
       "#T_36c87_row0_col0, #T_36c87_row1_col0, #T_36c87_row1_col1, #T_36c87_row1_col2, #T_36c87_row1_col3, #T_36c87_row1_col4, #T_36c87_row1_col5, #T_36c87_row1_col6, #T_36c87_row2_col0, #T_36c87_row2_col1, #T_36c87_row2_col2, #T_36c87_row2_col3, #T_36c87_row2_col4, #T_36c87_row2_col5, #T_36c87_row2_col6, #T_36c87_row3_col0, #T_36c87_row3_col1, #T_36c87_row3_col2, #T_36c87_row3_col3, #T_36c87_row3_col4, #T_36c87_row3_col5, #T_36c87_row3_col6, #T_36c87_row4_col0, #T_36c87_row4_col1, #T_36c87_row4_col2, #T_36c87_row4_col3, #T_36c87_row4_col4, #T_36c87_row4_col5, #T_36c87_row4_col6 {\n",
       "  text-align: left;\n",
       "}\n",
       "#T_36c87_row0_col1, #T_36c87_row0_col2, #T_36c87_row0_col3, #T_36c87_row0_col4, #T_36c87_row0_col5, #T_36c87_row0_col6 {\n",
       "  text-align: left;\n",
       "  background-color: yellow;\n",
       "}\n",
       "#T_36c87_row0_col7, #T_36c87_row1_col7, #T_36c87_row2_col7, #T_36c87_row3_col7 {\n",
       "  text-align: left;\n",
       "  background-color: lightgrey;\n",
       "}\n",
       "#T_36c87_row4_col7 {\n",
       "  text-align: left;\n",
       "  background-color: yellow;\n",
       "  background-color: lightgrey;\n",
       "}\n",
       "</style>\n",
       "<table id=\"T_36c87\">\n",
       "  <thead>\n",
       "    <tr>\n",
       "      <th class=\"blank level0\" >&nbsp;</th>\n",
       "      <th id=\"T_36c87_level0_col0\" class=\"col_heading level0 col0\" >Model</th>\n",
       "      <th id=\"T_36c87_level0_col1\" class=\"col_heading level0 col1\" >MAE</th>\n",
       "      <th id=\"T_36c87_level0_col2\" class=\"col_heading level0 col2\" >MSE</th>\n",
       "      <th id=\"T_36c87_level0_col3\" class=\"col_heading level0 col3\" >RMSE</th>\n",
       "      <th id=\"T_36c87_level0_col4\" class=\"col_heading level0 col4\" >R2</th>\n",
       "      <th id=\"T_36c87_level0_col5\" class=\"col_heading level0 col5\" >RMSLE</th>\n",
       "      <th id=\"T_36c87_level0_col6\" class=\"col_heading level0 col6\" >MAPE</th>\n",
       "      <th id=\"T_36c87_level0_col7\" class=\"col_heading level0 col7\" >TT (Sec)</th>\n",
       "    </tr>\n",
       "  </thead>\n",
       "  <tbody>\n",
       "    <tr>\n",
       "      <th id=\"T_36c87_level0_row0\" class=\"row_heading level0 row0\" >lightgbm</th>\n",
       "      <td id=\"T_36c87_row0_col0\" class=\"data row0 col0\" >Light Gradient Boosting Machine</td>\n",
       "      <td id=\"T_36c87_row0_col1\" class=\"data row0 col1\" >0.1495</td>\n",
       "      <td id=\"T_36c87_row0_col2\" class=\"data row0 col2\" >0.0441</td>\n",
       "      <td id=\"T_36c87_row0_col3\" class=\"data row0 col3\" >0.2086</td>\n",
       "      <td id=\"T_36c87_row0_col4\" class=\"data row0 col4\" >0.8731</td>\n",
       "      <td id=\"T_36c87_row0_col5\" class=\"data row0 col5\" >0.0553</td>\n",
       "      <td id=\"T_36c87_row0_col6\" class=\"data row0 col6\" >0.0566</td>\n",
       "      <td id=\"T_36c87_row0_col7\" class=\"data row0 col7\" >0.2600</td>\n",
       "    </tr>\n",
       "    <tr>\n",
       "      <th id=\"T_36c87_level0_row1\" class=\"row_heading level0 row1\" >xgboost</th>\n",
       "      <td id=\"T_36c87_row1_col0\" class=\"data row1 col0\" >Extreme Gradient Boosting</td>\n",
       "      <td id=\"T_36c87_row1_col1\" class=\"data row1 col1\" >0.1532</td>\n",
       "      <td id=\"T_36c87_row1_col2\" class=\"data row1 col2\" >0.0472</td>\n",
       "      <td id=\"T_36c87_row1_col3\" class=\"data row1 col3\" >0.2158</td>\n",
       "      <td id=\"T_36c87_row1_col4\" class=\"data row1 col4\" >0.8640</td>\n",
       "      <td id=\"T_36c87_row1_col5\" class=\"data row1 col5\" >0.0582</td>\n",
       "      <td id=\"T_36c87_row1_col6\" class=\"data row1 col6\" >0.0580</td>\n",
       "      <td id=\"T_36c87_row1_col7\" class=\"data row1 col7\" >0.2870</td>\n",
       "    </tr>\n",
       "    <tr>\n",
       "      <th id=\"T_36c87_level0_row2\" class=\"row_heading level0 row2\" >br</th>\n",
       "      <td id=\"T_36c87_row2_col0\" class=\"data row2 col0\" >Bayesian Ridge</td>\n",
       "      <td id=\"T_36c87_row2_col1\" class=\"data row2 col1\" >0.1732</td>\n",
       "      <td id=\"T_36c87_row2_col2\" class=\"data row2 col2\" >0.0559</td>\n",
       "      <td id=\"T_36c87_row2_col3\" class=\"data row2 col3\" >0.2352</td>\n",
       "      <td id=\"T_36c87_row2_col4\" class=\"data row2 col4\" >0.8388</td>\n",
       "      <td id=\"T_36c87_row2_col5\" class=\"data row2 col5\" >0.0635</td>\n",
       "      <td id=\"T_36c87_row2_col6\" class=\"data row2 col6\" >0.0664</td>\n",
       "      <td id=\"T_36c87_row2_col7\" class=\"data row2 col7\" >3.4740</td>\n",
       "    </tr>\n",
       "    <tr>\n",
       "      <th id=\"T_36c87_level0_row3\" class=\"row_heading level0 row3\" >huber</th>\n",
       "      <td id=\"T_36c87_row3_col0\" class=\"data row3 col0\" >Huber Regressor</td>\n",
       "      <td id=\"T_36c87_row3_col1\" class=\"data row3 col1\" >0.1933</td>\n",
       "      <td id=\"T_36c87_row3_col2\" class=\"data row3 col2\" >0.0706</td>\n",
       "      <td id=\"T_36c87_row3_col3\" class=\"data row3 col3\" >0.2649</td>\n",
       "      <td id=\"T_36c87_row3_col4\" class=\"data row3 col4\" >0.7958</td>\n",
       "      <td id=\"T_36c87_row3_col5\" class=\"data row3 col5\" >0.0725</td>\n",
       "      <td id=\"T_36c87_row3_col6\" class=\"data row3 col6\" >0.0740</td>\n",
       "      <td id=\"T_36c87_row3_col7\" class=\"data row3 col7\" >1.4940</td>\n",
       "    </tr>\n",
       "    <tr>\n",
       "      <th id=\"T_36c87_level0_row4\" class=\"row_heading level0 row4\" >knn</th>\n",
       "      <td id=\"T_36c87_row4_col0\" class=\"data row4 col0\" >K Neighbors Regressor</td>\n",
       "      <td id=\"T_36c87_row4_col1\" class=\"data row4 col1\" >0.2283</td>\n",
       "      <td id=\"T_36c87_row4_col2\" class=\"data row4 col2\" >0.1085</td>\n",
       "      <td id=\"T_36c87_row4_col3\" class=\"data row4 col3\" >0.3283</td>\n",
       "      <td id=\"T_36c87_row4_col4\" class=\"data row4 col4\" >0.6866</td>\n",
       "      <td id=\"T_36c87_row4_col5\" class=\"data row4 col5\" >0.0905</td>\n",
       "      <td id=\"T_36c87_row4_col6\" class=\"data row4 col6\" >0.0925</td>\n",
       "      <td id=\"T_36c87_row4_col7\" class=\"data row4 col7\" >0.0780</td>\n",
       "    </tr>\n",
       "  </tbody>\n",
       "</table>\n"
      ],
      "text/plain": [
       "<pandas.io.formats.style.Styler at 0x264618fed90>"
      ]
     },
     "metadata": {},
     "output_type": "display_data"
    },
    {
     "data": {
      "text/html": [],
      "text/plain": [
       "<IPython.core.display.HTML object>"
      ]
     },
     "metadata": {},
     "output_type": "display_data"
    },
    {
     "name": "stdout",
     "output_type": "stream",
     "text": [
      "Processing morgan_Cosine_top10...\n"
     ]
    },
    {
     "data": {
      "text/html": [],
      "text/plain": [
       "<IPython.core.display.HTML object>"
      ]
     },
     "metadata": {},
     "output_type": "display_data"
    },
    {
     "data": {
      "text/html": [
       "<style type=\"text/css\">\n",
       "#T_4f38c th {\n",
       "  text-align: left;\n",
       "}\n",
       "#T_4f38c_row0_col0, #T_4f38c_row1_col0, #T_4f38c_row1_col1, #T_4f38c_row1_col2, #T_4f38c_row1_col3, #T_4f38c_row1_col4, #T_4f38c_row1_col5, #T_4f38c_row1_col6, #T_4f38c_row2_col0, #T_4f38c_row2_col1, #T_4f38c_row2_col2, #T_4f38c_row2_col3, #T_4f38c_row2_col4, #T_4f38c_row2_col5, #T_4f38c_row2_col6, #T_4f38c_row3_col0, #T_4f38c_row3_col1, #T_4f38c_row3_col2, #T_4f38c_row3_col3, #T_4f38c_row3_col4, #T_4f38c_row3_col5, #T_4f38c_row3_col6, #T_4f38c_row4_col0, #T_4f38c_row4_col1, #T_4f38c_row4_col2, #T_4f38c_row4_col3, #T_4f38c_row4_col4, #T_4f38c_row4_col5, #T_4f38c_row4_col6 {\n",
       "  text-align: left;\n",
       "}\n",
       "#T_4f38c_row0_col1, #T_4f38c_row0_col2, #T_4f38c_row0_col3, #T_4f38c_row0_col4, #T_4f38c_row0_col5, #T_4f38c_row0_col6 {\n",
       "  text-align: left;\n",
       "  background-color: yellow;\n",
       "}\n",
       "#T_4f38c_row0_col7, #T_4f38c_row1_col7, #T_4f38c_row2_col7, #T_4f38c_row3_col7 {\n",
       "  text-align: left;\n",
       "  background-color: lightgrey;\n",
       "}\n",
       "#T_4f38c_row4_col7 {\n",
       "  text-align: left;\n",
       "  background-color: yellow;\n",
       "  background-color: lightgrey;\n",
       "}\n",
       "</style>\n",
       "<table id=\"T_4f38c\">\n",
       "  <thead>\n",
       "    <tr>\n",
       "      <th class=\"blank level0\" >&nbsp;</th>\n",
       "      <th id=\"T_4f38c_level0_col0\" class=\"col_heading level0 col0\" >Model</th>\n",
       "      <th id=\"T_4f38c_level0_col1\" class=\"col_heading level0 col1\" >MAE</th>\n",
       "      <th id=\"T_4f38c_level0_col2\" class=\"col_heading level0 col2\" >MSE</th>\n",
       "      <th id=\"T_4f38c_level0_col3\" class=\"col_heading level0 col3\" >RMSE</th>\n",
       "      <th id=\"T_4f38c_level0_col4\" class=\"col_heading level0 col4\" >R2</th>\n",
       "      <th id=\"T_4f38c_level0_col5\" class=\"col_heading level0 col5\" >RMSLE</th>\n",
       "      <th id=\"T_4f38c_level0_col6\" class=\"col_heading level0 col6\" >MAPE</th>\n",
       "      <th id=\"T_4f38c_level0_col7\" class=\"col_heading level0 col7\" >TT (Sec)</th>\n",
       "    </tr>\n",
       "  </thead>\n",
       "  <tbody>\n",
       "    <tr>\n",
       "      <th id=\"T_4f38c_level0_row0\" class=\"row_heading level0 row0\" >lightgbm</th>\n",
       "      <td id=\"T_4f38c_row0_col0\" class=\"data row0 col0\" >Light Gradient Boosting Machine</td>\n",
       "      <td id=\"T_4f38c_row0_col1\" class=\"data row0 col1\" >0.1467</td>\n",
       "      <td id=\"T_4f38c_row0_col2\" class=\"data row0 col2\" >0.0425</td>\n",
       "      <td id=\"T_4f38c_row0_col3\" class=\"data row0 col3\" >0.2050</td>\n",
       "      <td id=\"T_4f38c_row0_col4\" class=\"data row0 col4\" >0.8758</td>\n",
       "      <td id=\"T_4f38c_row0_col5\" class=\"data row0 col5\" >0.0540</td>\n",
       "      <td id=\"T_4f38c_row0_col6\" class=\"data row0 col6\" >0.0560</td>\n",
       "      <td id=\"T_4f38c_row0_col7\" class=\"data row0 col7\" >0.2320</td>\n",
       "    </tr>\n",
       "    <tr>\n",
       "      <th id=\"T_4f38c_level0_row1\" class=\"row_heading level0 row1\" >xgboost</th>\n",
       "      <td id=\"T_4f38c_row1_col0\" class=\"data row1 col0\" >Extreme Gradient Boosting</td>\n",
       "      <td id=\"T_4f38c_row1_col1\" class=\"data row1 col1\" >0.1523</td>\n",
       "      <td id=\"T_4f38c_row1_col2\" class=\"data row1 col2\" >0.0457</td>\n",
       "      <td id=\"T_4f38c_row1_col3\" class=\"data row1 col3\" >0.2128</td>\n",
       "      <td id=\"T_4f38c_row1_col4\" class=\"data row1 col4\" >0.8665</td>\n",
       "      <td id=\"T_4f38c_row1_col5\" class=\"data row1 col5\" >0.0567</td>\n",
       "      <td id=\"T_4f38c_row1_col6\" class=\"data row1 col6\" >0.0578</td>\n",
       "      <td id=\"T_4f38c_row1_col7\" class=\"data row1 col7\" >0.2890</td>\n",
       "    </tr>\n",
       "    <tr>\n",
       "      <th id=\"T_4f38c_level0_row2\" class=\"row_heading level0 row2\" >br</th>\n",
       "      <td id=\"T_4f38c_row2_col0\" class=\"data row2 col0\" >Bayesian Ridge</td>\n",
       "      <td id=\"T_4f38c_row2_col1\" class=\"data row2 col1\" >0.1720</td>\n",
       "      <td id=\"T_4f38c_row2_col2\" class=\"data row2 col2\" >0.0545</td>\n",
       "      <td id=\"T_4f38c_row2_col3\" class=\"data row2 col3\" >0.2325</td>\n",
       "      <td id=\"T_4f38c_row2_col4\" class=\"data row2 col4\" >0.8409</td>\n",
       "      <td id=\"T_4f38c_row2_col5\" class=\"data row2 col5\" >0.0629</td>\n",
       "      <td id=\"T_4f38c_row2_col6\" class=\"data row2 col6\" >0.0664</td>\n",
       "      <td id=\"T_4f38c_row2_col7\" class=\"data row2 col7\" >3.3970</td>\n",
       "    </tr>\n",
       "    <tr>\n",
       "      <th id=\"T_4f38c_level0_row3\" class=\"row_heading level0 row3\" >huber</th>\n",
       "      <td id=\"T_4f38c_row3_col0\" class=\"data row3 col0\" >Huber Regressor</td>\n",
       "      <td id=\"T_4f38c_row3_col1\" class=\"data row3 col1\" >0.1898</td>\n",
       "      <td id=\"T_4f38c_row3_col2\" class=\"data row3 col2\" >0.0662</td>\n",
       "      <td id=\"T_4f38c_row3_col3\" class=\"data row3 col3\" >0.2566</td>\n",
       "      <td id=\"T_4f38c_row3_col4\" class=\"data row3 col4\" >0.8059</td>\n",
       "      <td id=\"T_4f38c_row3_col5\" class=\"data row3 col5\" >0.0699</td>\n",
       "      <td id=\"T_4f38c_row3_col6\" class=\"data row3 col6\" >0.0730</td>\n",
       "      <td id=\"T_4f38c_row3_col7\" class=\"data row3 col7\" >1.5130</td>\n",
       "    </tr>\n",
       "    <tr>\n",
       "      <th id=\"T_4f38c_level0_row4\" class=\"row_heading level0 row4\" >knn</th>\n",
       "      <td id=\"T_4f38c_row4_col0\" class=\"data row4 col0\" >K Neighbors Regressor</td>\n",
       "      <td id=\"T_4f38c_row4_col1\" class=\"data row4 col1\" >0.2196</td>\n",
       "      <td id=\"T_4f38c_row4_col2\" class=\"data row4 col2\" >0.1045</td>\n",
       "      <td id=\"T_4f38c_row4_col3\" class=\"data row4 col3\" >0.3222</td>\n",
       "      <td id=\"T_4f38c_row4_col4\" class=\"data row4 col4\" >0.6942</td>\n",
       "      <td id=\"T_4f38c_row4_col5\" class=\"data row4 col5\" >0.0883</td>\n",
       "      <td id=\"T_4f38c_row4_col6\" class=\"data row4 col6\" >0.0894</td>\n",
       "      <td id=\"T_4f38c_row4_col7\" class=\"data row4 col7\" >0.0770</td>\n",
       "    </tr>\n",
       "  </tbody>\n",
       "</table>\n"
      ],
      "text/plain": [
       "<pandas.io.formats.style.Styler at 0x2625fbcaf10>"
      ]
     },
     "metadata": {},
     "output_type": "display_data"
    },
    {
     "data": {
      "text/html": [],
      "text/plain": [
       "<IPython.core.display.HTML object>"
      ]
     },
     "metadata": {},
     "output_type": "display_data"
    },
    {
     "name": "stdout",
     "output_type": "stream",
     "text": [
      "Processing morgan_Kulczynski_top10...\n"
     ]
    },
    {
     "data": {
      "text/html": [],
      "text/plain": [
       "<IPython.core.display.HTML object>"
      ]
     },
     "metadata": {},
     "output_type": "display_data"
    },
    {
     "data": {
      "text/html": [
       "<style type=\"text/css\">\n",
       "#T_265f4 th {\n",
       "  text-align: left;\n",
       "}\n",
       "#T_265f4_row0_col0, #T_265f4_row1_col0, #T_265f4_row1_col1, #T_265f4_row1_col2, #T_265f4_row1_col3, #T_265f4_row1_col4, #T_265f4_row1_col5, #T_265f4_row1_col6, #T_265f4_row2_col0, #T_265f4_row2_col1, #T_265f4_row2_col2, #T_265f4_row2_col3, #T_265f4_row2_col4, #T_265f4_row2_col5, #T_265f4_row2_col6, #T_265f4_row3_col0, #T_265f4_row3_col1, #T_265f4_row3_col2, #T_265f4_row3_col3, #T_265f4_row3_col4, #T_265f4_row3_col5, #T_265f4_row3_col6, #T_265f4_row4_col0, #T_265f4_row4_col1, #T_265f4_row4_col2, #T_265f4_row4_col3, #T_265f4_row4_col4, #T_265f4_row4_col5, #T_265f4_row4_col6 {\n",
       "  text-align: left;\n",
       "}\n",
       "#T_265f4_row0_col1, #T_265f4_row0_col2, #T_265f4_row0_col3, #T_265f4_row0_col4, #T_265f4_row0_col5, #T_265f4_row0_col6 {\n",
       "  text-align: left;\n",
       "  background-color: yellow;\n",
       "}\n",
       "#T_265f4_row0_col7, #T_265f4_row1_col7, #T_265f4_row2_col7, #T_265f4_row3_col7 {\n",
       "  text-align: left;\n",
       "  background-color: lightgrey;\n",
       "}\n",
       "#T_265f4_row4_col7 {\n",
       "  text-align: left;\n",
       "  background-color: yellow;\n",
       "  background-color: lightgrey;\n",
       "}\n",
       "</style>\n",
       "<table id=\"T_265f4\">\n",
       "  <thead>\n",
       "    <tr>\n",
       "      <th class=\"blank level0\" >&nbsp;</th>\n",
       "      <th id=\"T_265f4_level0_col0\" class=\"col_heading level0 col0\" >Model</th>\n",
       "      <th id=\"T_265f4_level0_col1\" class=\"col_heading level0 col1\" >MAE</th>\n",
       "      <th id=\"T_265f4_level0_col2\" class=\"col_heading level0 col2\" >MSE</th>\n",
       "      <th id=\"T_265f4_level0_col3\" class=\"col_heading level0 col3\" >RMSE</th>\n",
       "      <th id=\"T_265f4_level0_col4\" class=\"col_heading level0 col4\" >R2</th>\n",
       "      <th id=\"T_265f4_level0_col5\" class=\"col_heading level0 col5\" >RMSLE</th>\n",
       "      <th id=\"T_265f4_level0_col6\" class=\"col_heading level0 col6\" >MAPE</th>\n",
       "      <th id=\"T_265f4_level0_col7\" class=\"col_heading level0 col7\" >TT (Sec)</th>\n",
       "    </tr>\n",
       "  </thead>\n",
       "  <tbody>\n",
       "    <tr>\n",
       "      <th id=\"T_265f4_level0_row0\" class=\"row_heading level0 row0\" >lightgbm</th>\n",
       "      <td id=\"T_265f4_row0_col0\" class=\"data row0 col0\" >Light Gradient Boosting Machine</td>\n",
       "      <td id=\"T_265f4_row0_col1\" class=\"data row0 col1\" >0.1443</td>\n",
       "      <td id=\"T_265f4_row0_col2\" class=\"data row0 col2\" >0.0398</td>\n",
       "      <td id=\"T_265f4_row0_col3\" class=\"data row0 col3\" >0.1991</td>\n",
       "      <td id=\"T_265f4_row0_col4\" class=\"data row0 col4\" >0.8786</td>\n",
       "      <td id=\"T_265f4_row0_col5\" class=\"data row0 col5\" >0.0549</td>\n",
       "      <td id=\"T_265f4_row0_col6\" class=\"data row0 col6\" >0.0557</td>\n",
       "      <td id=\"T_265f4_row0_col7\" class=\"data row0 col7\" >0.2500</td>\n",
       "    </tr>\n",
       "    <tr>\n",
       "      <th id=\"T_265f4_level0_row1\" class=\"row_heading level0 row1\" >xgboost</th>\n",
       "      <td id=\"T_265f4_row1_col0\" class=\"data row1 col0\" >Extreme Gradient Boosting</td>\n",
       "      <td id=\"T_265f4_row1_col1\" class=\"data row1 col1\" >0.1488</td>\n",
       "      <td id=\"T_265f4_row1_col2\" class=\"data row1 col2\" >0.0413</td>\n",
       "      <td id=\"T_265f4_row1_col3\" class=\"data row1 col3\" >0.2028</td>\n",
       "      <td id=\"T_265f4_row1_col4\" class=\"data row1 col4\" >0.8743</td>\n",
       "      <td id=\"T_265f4_row1_col5\" class=\"data row1 col5\" >0.0555</td>\n",
       "      <td id=\"T_265f4_row1_col6\" class=\"data row1 col6\" >0.0569</td>\n",
       "      <td id=\"T_265f4_row1_col7\" class=\"data row1 col7\" >0.2960</td>\n",
       "    </tr>\n",
       "    <tr>\n",
       "      <th id=\"T_265f4_level0_row2\" class=\"row_heading level0 row2\" >br</th>\n",
       "      <td id=\"T_265f4_row2_col0\" class=\"data row2 col0\" >Bayesian Ridge</td>\n",
       "      <td id=\"T_265f4_row2_col1\" class=\"data row2 col1\" >0.1666</td>\n",
       "      <td id=\"T_265f4_row2_col2\" class=\"data row2 col2\" >0.0490</td>\n",
       "      <td id=\"T_265f4_row2_col3\" class=\"data row2 col3\" >0.2209</td>\n",
       "      <td id=\"T_265f4_row2_col4\" class=\"data row2 col4\" >0.8507</td>\n",
       "      <td id=\"T_265f4_row2_col5\" class=\"data row2 col5\" >0.0623</td>\n",
       "      <td id=\"T_265f4_row2_col6\" class=\"data row2 col6\" >0.0650</td>\n",
       "      <td id=\"T_265f4_row2_col7\" class=\"data row2 col7\" >3.4470</td>\n",
       "    </tr>\n",
       "    <tr>\n",
       "      <th id=\"T_265f4_level0_row3\" class=\"row_heading level0 row3\" >huber</th>\n",
       "      <td id=\"T_265f4_row3_col0\" class=\"data row3 col0\" >Huber Regressor</td>\n",
       "      <td id=\"T_265f4_row3_col1\" class=\"data row3 col1\" >0.1826</td>\n",
       "      <td id=\"T_265f4_row3_col2\" class=\"data row3 col2\" >0.0596</td>\n",
       "      <td id=\"T_265f4_row3_col3\" class=\"data row3 col3\" >0.2438</td>\n",
       "      <td id=\"T_265f4_row3_col4\" class=\"data row3 col4\" >0.8181</td>\n",
       "      <td id=\"T_265f4_row3_col5\" class=\"data row3 col5\" >0.0683</td>\n",
       "      <td id=\"T_265f4_row3_col6\" class=\"data row3 col6\" >0.0707</td>\n",
       "      <td id=\"T_265f4_row3_col7\" class=\"data row3 col7\" >1.5010</td>\n",
       "    </tr>\n",
       "    <tr>\n",
       "      <th id=\"T_265f4_level0_row4\" class=\"row_heading level0 row4\" >knn</th>\n",
       "      <td id=\"T_265f4_row4_col0\" class=\"data row4 col0\" >K Neighbors Regressor</td>\n",
       "      <td id=\"T_265f4_row4_col1\" class=\"data row4 col1\" >0.2164</td>\n",
       "      <td id=\"T_265f4_row4_col2\" class=\"data row4 col2\" >0.0964</td>\n",
       "      <td id=\"T_265f4_row4_col3\" class=\"data row4 col3\" >0.3101</td>\n",
       "      <td id=\"T_265f4_row4_col4\" class=\"data row4 col4\" >0.7064</td>\n",
       "      <td id=\"T_265f4_row4_col5\" class=\"data row4 col5\" >0.0874</td>\n",
       "      <td id=\"T_265f4_row4_col6\" class=\"data row4 col6\" >0.0890</td>\n",
       "      <td id=\"T_265f4_row4_col7\" class=\"data row4 col7\" >0.0770</td>\n",
       "    </tr>\n",
       "  </tbody>\n",
       "</table>\n"
      ],
      "text/plain": [
       "<pandas.io.formats.style.Styler at 0x2646be3cc50>"
      ]
     },
     "metadata": {},
     "output_type": "display_data"
    },
    {
     "data": {
      "text/html": [],
      "text/plain": [
       "<IPython.core.display.HTML object>"
      ]
     },
     "metadata": {},
     "output_type": "display_data"
    },
    {
     "name": "stdout",
     "output_type": "stream",
     "text": [
      "Processing atom_pair_Tanimoto_top10...\n"
     ]
    },
    {
     "data": {
      "text/html": [],
      "text/plain": [
       "<IPython.core.display.HTML object>"
      ]
     },
     "metadata": {},
     "output_type": "display_data"
    },
    {
     "data": {
      "text/html": [
       "<style type=\"text/css\">\n",
       "#T_19a1a th {\n",
       "  text-align: left;\n",
       "}\n",
       "#T_19a1a_row0_col0, #T_19a1a_row1_col0, #T_19a1a_row1_col1, #T_19a1a_row1_col2, #T_19a1a_row1_col3, #T_19a1a_row1_col4, #T_19a1a_row1_col5, #T_19a1a_row1_col6, #T_19a1a_row2_col0, #T_19a1a_row2_col1, #T_19a1a_row2_col2, #T_19a1a_row2_col3, #T_19a1a_row2_col4, #T_19a1a_row2_col5, #T_19a1a_row2_col6, #T_19a1a_row3_col0, #T_19a1a_row3_col1, #T_19a1a_row3_col2, #T_19a1a_row3_col3, #T_19a1a_row3_col4, #T_19a1a_row3_col5, #T_19a1a_row3_col6, #T_19a1a_row4_col0, #T_19a1a_row4_col1, #T_19a1a_row4_col2, #T_19a1a_row4_col3, #T_19a1a_row4_col4, #T_19a1a_row4_col5, #T_19a1a_row4_col6 {\n",
       "  text-align: left;\n",
       "}\n",
       "#T_19a1a_row0_col1, #T_19a1a_row0_col2, #T_19a1a_row0_col3, #T_19a1a_row0_col4, #T_19a1a_row0_col5, #T_19a1a_row0_col6 {\n",
       "  text-align: left;\n",
       "  background-color: yellow;\n",
       "}\n",
       "#T_19a1a_row0_col7, #T_19a1a_row1_col7, #T_19a1a_row2_col7, #T_19a1a_row3_col7 {\n",
       "  text-align: left;\n",
       "  background-color: lightgrey;\n",
       "}\n",
       "#T_19a1a_row4_col7 {\n",
       "  text-align: left;\n",
       "  background-color: yellow;\n",
       "  background-color: lightgrey;\n",
       "}\n",
       "</style>\n",
       "<table id=\"T_19a1a\">\n",
       "  <thead>\n",
       "    <tr>\n",
       "      <th class=\"blank level0\" >&nbsp;</th>\n",
       "      <th id=\"T_19a1a_level0_col0\" class=\"col_heading level0 col0\" >Model</th>\n",
       "      <th id=\"T_19a1a_level0_col1\" class=\"col_heading level0 col1\" >MAE</th>\n",
       "      <th id=\"T_19a1a_level0_col2\" class=\"col_heading level0 col2\" >MSE</th>\n",
       "      <th id=\"T_19a1a_level0_col3\" class=\"col_heading level0 col3\" >RMSE</th>\n",
       "      <th id=\"T_19a1a_level0_col4\" class=\"col_heading level0 col4\" >R2</th>\n",
       "      <th id=\"T_19a1a_level0_col5\" class=\"col_heading level0 col5\" >RMSLE</th>\n",
       "      <th id=\"T_19a1a_level0_col6\" class=\"col_heading level0 col6\" >MAPE</th>\n",
       "      <th id=\"T_19a1a_level0_col7\" class=\"col_heading level0 col7\" >TT (Sec)</th>\n",
       "    </tr>\n",
       "  </thead>\n",
       "  <tbody>\n",
       "    <tr>\n",
       "      <th id=\"T_19a1a_level0_row0\" class=\"row_heading level0 row0\" >lightgbm</th>\n",
       "      <td id=\"T_19a1a_row0_col0\" class=\"data row0 col0\" >Light Gradient Boosting Machine</td>\n",
       "      <td id=\"T_19a1a_row0_col1\" class=\"data row0 col1\" >0.1385</td>\n",
       "      <td id=\"T_19a1a_row0_col2\" class=\"data row0 col2\" >0.0350</td>\n",
       "      <td id=\"T_19a1a_row0_col3\" class=\"data row0 col3\" >0.1871</td>\n",
       "      <td id=\"T_19a1a_row0_col4\" class=\"data row0 col4\" >0.8626</td>\n",
       "      <td id=\"T_19a1a_row0_col5\" class=\"data row0 col5\" >0.0493</td>\n",
       "      <td id=\"T_19a1a_row0_col6\" class=\"data row0 col6\" >0.0495</td>\n",
       "      <td id=\"T_19a1a_row0_col7\" class=\"data row0 col7\" >0.2480</td>\n",
       "    </tr>\n",
       "    <tr>\n",
       "      <th id=\"T_19a1a_level0_row1\" class=\"row_heading level0 row1\" >xgboost</th>\n",
       "      <td id=\"T_19a1a_row1_col0\" class=\"data row1 col0\" >Extreme Gradient Boosting</td>\n",
       "      <td id=\"T_19a1a_row1_col1\" class=\"data row1 col1\" >0.1454</td>\n",
       "      <td id=\"T_19a1a_row1_col2\" class=\"data row1 col2\" >0.0387</td>\n",
       "      <td id=\"T_19a1a_row1_col3\" class=\"data row1 col3\" >0.1967</td>\n",
       "      <td id=\"T_19a1a_row1_col4\" class=\"data row1 col4\" >0.8479</td>\n",
       "      <td id=\"T_19a1a_row1_col5\" class=\"data row1 col5\" >0.0517</td>\n",
       "      <td id=\"T_19a1a_row1_col6\" class=\"data row1 col6\" >0.0518</td>\n",
       "      <td id=\"T_19a1a_row1_col7\" class=\"data row1 col7\" >0.2840</td>\n",
       "    </tr>\n",
       "    <tr>\n",
       "      <th id=\"T_19a1a_level0_row2\" class=\"row_heading level0 row2\" >br</th>\n",
       "      <td id=\"T_19a1a_row2_col0\" class=\"data row2 col0\" >Bayesian Ridge</td>\n",
       "      <td id=\"T_19a1a_row2_col1\" class=\"data row2 col1\" >0.1540</td>\n",
       "      <td id=\"T_19a1a_row2_col2\" class=\"data row2 col2\" >0.0427</td>\n",
       "      <td id=\"T_19a1a_row2_col3\" class=\"data row2 col3\" >0.2063</td>\n",
       "      <td id=\"T_19a1a_row2_col4\" class=\"data row2 col4\" >0.8328</td>\n",
       "      <td id=\"T_19a1a_row2_col5\" class=\"data row2 col5\" >0.0546</td>\n",
       "      <td id=\"T_19a1a_row2_col6\" class=\"data row2 col6\" >0.0551</td>\n",
       "      <td id=\"T_19a1a_row2_col7\" class=\"data row2 col7\" >3.3820</td>\n",
       "    </tr>\n",
       "    <tr>\n",
       "      <th id=\"T_19a1a_level0_row3\" class=\"row_heading level0 row3\" >huber</th>\n",
       "      <td id=\"T_19a1a_row3_col0\" class=\"data row3 col0\" >Huber Regressor</td>\n",
       "      <td id=\"T_19a1a_row3_col1\" class=\"data row3 col1\" >0.1668</td>\n",
       "      <td id=\"T_19a1a_row3_col2\" class=\"data row3 col2\" >0.0513</td>\n",
       "      <td id=\"T_19a1a_row3_col3\" class=\"data row3 col3\" >0.2263</td>\n",
       "      <td id=\"T_19a1a_row3_col4\" class=\"data row3 col4\" >0.7991</td>\n",
       "      <td id=\"T_19a1a_row3_col5\" class=\"data row3 col5\" >0.0601</td>\n",
       "      <td id=\"T_19a1a_row3_col6\" class=\"data row3 col6\" >0.0595</td>\n",
       "      <td id=\"T_19a1a_row3_col7\" class=\"data row3 col7\" >1.4710</td>\n",
       "    </tr>\n",
       "    <tr>\n",
       "      <th id=\"T_19a1a_level0_row4\" class=\"row_heading level0 row4\" >knn</th>\n",
       "      <td id=\"T_19a1a_row4_col0\" class=\"data row4 col0\" >K Neighbors Regressor</td>\n",
       "      <td id=\"T_19a1a_row4_col1\" class=\"data row4 col1\" >0.2124</td>\n",
       "      <td id=\"T_19a1a_row4_col2\" class=\"data row4 col2\" >0.0912</td>\n",
       "      <td id=\"T_19a1a_row4_col3\" class=\"data row4 col3\" >0.3013</td>\n",
       "      <td id=\"T_19a1a_row4_col4\" class=\"data row4 col4\" >0.6413</td>\n",
       "      <td id=\"T_19a1a_row4_col5\" class=\"data row4 col5\" >0.0805</td>\n",
       "      <td id=\"T_19a1a_row4_col6\" class=\"data row4 col6\" >0.0797</td>\n",
       "      <td id=\"T_19a1a_row4_col7\" class=\"data row4 col7\" >0.0780</td>\n",
       "    </tr>\n",
       "  </tbody>\n",
       "</table>\n"
      ],
      "text/plain": [
       "<pandas.io.formats.style.Styler at 0x2646bd8ad50>"
      ]
     },
     "metadata": {},
     "output_type": "display_data"
    },
    {
     "data": {
      "text/html": [],
      "text/plain": [
       "<IPython.core.display.HTML object>"
      ]
     },
     "metadata": {},
     "output_type": "display_data"
    },
    {
     "name": "stdout",
     "output_type": "stream",
     "text": [
      "Processing atom_pair_Dice_top10...\n"
     ]
    },
    {
     "data": {
      "text/html": [],
      "text/plain": [
       "<IPython.core.display.HTML object>"
      ]
     },
     "metadata": {},
     "output_type": "display_data"
    },
    {
     "data": {
      "text/html": [
       "<style type=\"text/css\">\n",
       "#T_1ba52 th {\n",
       "  text-align: left;\n",
       "}\n",
       "#T_1ba52_row0_col0, #T_1ba52_row1_col0, #T_1ba52_row1_col1, #T_1ba52_row1_col2, #T_1ba52_row1_col3, #T_1ba52_row1_col4, #T_1ba52_row1_col5, #T_1ba52_row1_col6, #T_1ba52_row2_col0, #T_1ba52_row2_col1, #T_1ba52_row2_col2, #T_1ba52_row2_col3, #T_1ba52_row2_col4, #T_1ba52_row2_col5, #T_1ba52_row2_col6, #T_1ba52_row3_col0, #T_1ba52_row3_col1, #T_1ba52_row3_col2, #T_1ba52_row3_col3, #T_1ba52_row3_col4, #T_1ba52_row3_col5, #T_1ba52_row3_col6, #T_1ba52_row4_col0, #T_1ba52_row4_col1, #T_1ba52_row4_col2, #T_1ba52_row4_col3, #T_1ba52_row4_col4, #T_1ba52_row4_col5, #T_1ba52_row4_col6 {\n",
       "  text-align: left;\n",
       "}\n",
       "#T_1ba52_row0_col1, #T_1ba52_row0_col2, #T_1ba52_row0_col3, #T_1ba52_row0_col4, #T_1ba52_row0_col5, #T_1ba52_row0_col6 {\n",
       "  text-align: left;\n",
       "  background-color: yellow;\n",
       "}\n",
       "#T_1ba52_row0_col7, #T_1ba52_row1_col7, #T_1ba52_row2_col7, #T_1ba52_row3_col7 {\n",
       "  text-align: left;\n",
       "  background-color: lightgrey;\n",
       "}\n",
       "#T_1ba52_row4_col7 {\n",
       "  text-align: left;\n",
       "  background-color: yellow;\n",
       "  background-color: lightgrey;\n",
       "}\n",
       "</style>\n",
       "<table id=\"T_1ba52\">\n",
       "  <thead>\n",
       "    <tr>\n",
       "      <th class=\"blank level0\" >&nbsp;</th>\n",
       "      <th id=\"T_1ba52_level0_col0\" class=\"col_heading level0 col0\" >Model</th>\n",
       "      <th id=\"T_1ba52_level0_col1\" class=\"col_heading level0 col1\" >MAE</th>\n",
       "      <th id=\"T_1ba52_level0_col2\" class=\"col_heading level0 col2\" >MSE</th>\n",
       "      <th id=\"T_1ba52_level0_col3\" class=\"col_heading level0 col3\" >RMSE</th>\n",
       "      <th id=\"T_1ba52_level0_col4\" class=\"col_heading level0 col4\" >R2</th>\n",
       "      <th id=\"T_1ba52_level0_col5\" class=\"col_heading level0 col5\" >RMSLE</th>\n",
       "      <th id=\"T_1ba52_level0_col6\" class=\"col_heading level0 col6\" >MAPE</th>\n",
       "      <th id=\"T_1ba52_level0_col7\" class=\"col_heading level0 col7\" >TT (Sec)</th>\n",
       "    </tr>\n",
       "  </thead>\n",
       "  <tbody>\n",
       "    <tr>\n",
       "      <th id=\"T_1ba52_level0_row0\" class=\"row_heading level0 row0\" >lightgbm</th>\n",
       "      <td id=\"T_1ba52_row0_col0\" class=\"data row0 col0\" >Light Gradient Boosting Machine</td>\n",
       "      <td id=\"T_1ba52_row0_col1\" class=\"data row0 col1\" >0.1385</td>\n",
       "      <td id=\"T_1ba52_row0_col2\" class=\"data row0 col2\" >0.0350</td>\n",
       "      <td id=\"T_1ba52_row0_col3\" class=\"data row0 col3\" >0.1871</td>\n",
       "      <td id=\"T_1ba52_row0_col4\" class=\"data row0 col4\" >0.8626</td>\n",
       "      <td id=\"T_1ba52_row0_col5\" class=\"data row0 col5\" >0.0493</td>\n",
       "      <td id=\"T_1ba52_row0_col6\" class=\"data row0 col6\" >0.0495</td>\n",
       "      <td id=\"T_1ba52_row0_col7\" class=\"data row0 col7\" >0.2560</td>\n",
       "    </tr>\n",
       "    <tr>\n",
       "      <th id=\"T_1ba52_level0_row1\" class=\"row_heading level0 row1\" >xgboost</th>\n",
       "      <td id=\"T_1ba52_row1_col0\" class=\"data row1 col0\" >Extreme Gradient Boosting</td>\n",
       "      <td id=\"T_1ba52_row1_col1\" class=\"data row1 col1\" >0.1454</td>\n",
       "      <td id=\"T_1ba52_row1_col2\" class=\"data row1 col2\" >0.0387</td>\n",
       "      <td id=\"T_1ba52_row1_col3\" class=\"data row1 col3\" >0.1967</td>\n",
       "      <td id=\"T_1ba52_row1_col4\" class=\"data row1 col4\" >0.8479</td>\n",
       "      <td id=\"T_1ba52_row1_col5\" class=\"data row1 col5\" >0.0517</td>\n",
       "      <td id=\"T_1ba52_row1_col6\" class=\"data row1 col6\" >0.0518</td>\n",
       "      <td id=\"T_1ba52_row1_col7\" class=\"data row1 col7\" >0.3060</td>\n",
       "    </tr>\n",
       "    <tr>\n",
       "      <th id=\"T_1ba52_level0_row2\" class=\"row_heading level0 row2\" >br</th>\n",
       "      <td id=\"T_1ba52_row2_col0\" class=\"data row2 col0\" >Bayesian Ridge</td>\n",
       "      <td id=\"T_1ba52_row2_col1\" class=\"data row2 col1\" >0.1540</td>\n",
       "      <td id=\"T_1ba52_row2_col2\" class=\"data row2 col2\" >0.0427</td>\n",
       "      <td id=\"T_1ba52_row2_col3\" class=\"data row2 col3\" >0.2063</td>\n",
       "      <td id=\"T_1ba52_row2_col4\" class=\"data row2 col4\" >0.8328</td>\n",
       "      <td id=\"T_1ba52_row2_col5\" class=\"data row2 col5\" >0.0546</td>\n",
       "      <td id=\"T_1ba52_row2_col6\" class=\"data row2 col6\" >0.0551</td>\n",
       "      <td id=\"T_1ba52_row2_col7\" class=\"data row2 col7\" >3.3800</td>\n",
       "    </tr>\n",
       "    <tr>\n",
       "      <th id=\"T_1ba52_level0_row3\" class=\"row_heading level0 row3\" >huber</th>\n",
       "      <td id=\"T_1ba52_row3_col0\" class=\"data row3 col0\" >Huber Regressor</td>\n",
       "      <td id=\"T_1ba52_row3_col1\" class=\"data row3 col1\" >0.1668</td>\n",
       "      <td id=\"T_1ba52_row3_col2\" class=\"data row3 col2\" >0.0513</td>\n",
       "      <td id=\"T_1ba52_row3_col3\" class=\"data row3 col3\" >0.2263</td>\n",
       "      <td id=\"T_1ba52_row3_col4\" class=\"data row3 col4\" >0.7991</td>\n",
       "      <td id=\"T_1ba52_row3_col5\" class=\"data row3 col5\" >0.0601</td>\n",
       "      <td id=\"T_1ba52_row3_col6\" class=\"data row3 col6\" >0.0595</td>\n",
       "      <td id=\"T_1ba52_row3_col7\" class=\"data row3 col7\" >1.4760</td>\n",
       "    </tr>\n",
       "    <tr>\n",
       "      <th id=\"T_1ba52_level0_row4\" class=\"row_heading level0 row4\" >knn</th>\n",
       "      <td id=\"T_1ba52_row4_col0\" class=\"data row4 col0\" >K Neighbors Regressor</td>\n",
       "      <td id=\"T_1ba52_row4_col1\" class=\"data row4 col1\" >0.2124</td>\n",
       "      <td id=\"T_1ba52_row4_col2\" class=\"data row4 col2\" >0.0912</td>\n",
       "      <td id=\"T_1ba52_row4_col3\" class=\"data row4 col3\" >0.3013</td>\n",
       "      <td id=\"T_1ba52_row4_col4\" class=\"data row4 col4\" >0.6413</td>\n",
       "      <td id=\"T_1ba52_row4_col5\" class=\"data row4 col5\" >0.0805</td>\n",
       "      <td id=\"T_1ba52_row4_col6\" class=\"data row4 col6\" >0.0797</td>\n",
       "      <td id=\"T_1ba52_row4_col7\" class=\"data row4 col7\" >0.0810</td>\n",
       "    </tr>\n",
       "  </tbody>\n",
       "</table>\n"
      ],
      "text/plain": [
       "<pandas.io.formats.style.Styler at 0x26268bd77d0>"
      ]
     },
     "metadata": {},
     "output_type": "display_data"
    },
    {
     "data": {
      "text/html": [],
      "text/plain": [
       "<IPython.core.display.HTML object>"
      ]
     },
     "metadata": {},
     "output_type": "display_data"
    },
    {
     "name": "stdout",
     "output_type": "stream",
     "text": [
      "Processing atom_pair_Cosine_top10...\n"
     ]
    },
    {
     "data": {
      "text/html": [],
      "text/plain": [
       "<IPython.core.display.HTML object>"
      ]
     },
     "metadata": {},
     "output_type": "display_data"
    },
    {
     "data": {
      "text/html": [
       "<style type=\"text/css\">\n",
       "#T_4026b th {\n",
       "  text-align: left;\n",
       "}\n",
       "#T_4026b_row0_col0, #T_4026b_row1_col0, #T_4026b_row1_col1, #T_4026b_row1_col2, #T_4026b_row1_col3, #T_4026b_row1_col4, #T_4026b_row1_col5, #T_4026b_row1_col6, #T_4026b_row2_col0, #T_4026b_row2_col1, #T_4026b_row2_col2, #T_4026b_row2_col3, #T_4026b_row2_col4, #T_4026b_row2_col5, #T_4026b_row2_col6, #T_4026b_row3_col0, #T_4026b_row3_col1, #T_4026b_row3_col2, #T_4026b_row3_col3, #T_4026b_row3_col4, #T_4026b_row3_col5, #T_4026b_row3_col6, #T_4026b_row4_col0, #T_4026b_row4_col1, #T_4026b_row4_col2, #T_4026b_row4_col3, #T_4026b_row4_col4, #T_4026b_row4_col5, #T_4026b_row4_col6 {\n",
       "  text-align: left;\n",
       "}\n",
       "#T_4026b_row0_col1, #T_4026b_row0_col2, #T_4026b_row0_col3, #T_4026b_row0_col4, #T_4026b_row0_col5, #T_4026b_row0_col6 {\n",
       "  text-align: left;\n",
       "  background-color: yellow;\n",
       "}\n",
       "#T_4026b_row0_col7, #T_4026b_row1_col7, #T_4026b_row2_col7, #T_4026b_row3_col7 {\n",
       "  text-align: left;\n",
       "  background-color: lightgrey;\n",
       "}\n",
       "#T_4026b_row4_col7 {\n",
       "  text-align: left;\n",
       "  background-color: yellow;\n",
       "  background-color: lightgrey;\n",
       "}\n",
       "</style>\n",
       "<table id=\"T_4026b\">\n",
       "  <thead>\n",
       "    <tr>\n",
       "      <th class=\"blank level0\" >&nbsp;</th>\n",
       "      <th id=\"T_4026b_level0_col0\" class=\"col_heading level0 col0\" >Model</th>\n",
       "      <th id=\"T_4026b_level0_col1\" class=\"col_heading level0 col1\" >MAE</th>\n",
       "      <th id=\"T_4026b_level0_col2\" class=\"col_heading level0 col2\" >MSE</th>\n",
       "      <th id=\"T_4026b_level0_col3\" class=\"col_heading level0 col3\" >RMSE</th>\n",
       "      <th id=\"T_4026b_level0_col4\" class=\"col_heading level0 col4\" >R2</th>\n",
       "      <th id=\"T_4026b_level0_col5\" class=\"col_heading level0 col5\" >RMSLE</th>\n",
       "      <th id=\"T_4026b_level0_col6\" class=\"col_heading level0 col6\" >MAPE</th>\n",
       "      <th id=\"T_4026b_level0_col7\" class=\"col_heading level0 col7\" >TT (Sec)</th>\n",
       "    </tr>\n",
       "  </thead>\n",
       "  <tbody>\n",
       "    <tr>\n",
       "      <th id=\"T_4026b_level0_row0\" class=\"row_heading level0 row0\" >lightgbm</th>\n",
       "      <td id=\"T_4026b_row0_col0\" class=\"data row0 col0\" >Light Gradient Boosting Machine</td>\n",
       "      <td id=\"T_4026b_row0_col1\" class=\"data row0 col1\" >0.1447</td>\n",
       "      <td id=\"T_4026b_row0_col2\" class=\"data row0 col2\" >0.0410</td>\n",
       "      <td id=\"T_4026b_row0_col3\" class=\"data row0 col3\" >0.2020</td>\n",
       "      <td id=\"T_4026b_row0_col4\" class=\"data row0 col4\" >0.8497</td>\n",
       "      <td id=\"T_4026b_row0_col5\" class=\"data row0 col5\" >0.0567</td>\n",
       "      <td id=\"T_4026b_row0_col6\" class=\"data row0 col6\" >0.0558</td>\n",
       "      <td id=\"T_4026b_row0_col7\" class=\"data row0 col7\" >0.2730</td>\n",
       "    </tr>\n",
       "    <tr>\n",
       "      <th id=\"T_4026b_level0_row1\" class=\"row_heading level0 row1\" >xgboost</th>\n",
       "      <td id=\"T_4026b_row1_col0\" class=\"data row1 col0\" >Extreme Gradient Boosting</td>\n",
       "      <td id=\"T_4026b_row1_col1\" class=\"data row1 col1\" >0.1478</td>\n",
       "      <td id=\"T_4026b_row1_col2\" class=\"data row1 col2\" >0.0425</td>\n",
       "      <td id=\"T_4026b_row1_col3\" class=\"data row1 col3\" >0.2054</td>\n",
       "      <td id=\"T_4026b_row1_col4\" class=\"data row1 col4\" >0.8450</td>\n",
       "      <td id=\"T_4026b_row1_col5\" class=\"data row1 col5\" >0.0569</td>\n",
       "      <td id=\"T_4026b_row1_col6\" class=\"data row1 col6\" >0.0563</td>\n",
       "      <td id=\"T_4026b_row1_col7\" class=\"data row1 col7\" >0.3100</td>\n",
       "    </tr>\n",
       "    <tr>\n",
       "      <th id=\"T_4026b_level0_row2\" class=\"row_heading level0 row2\" >br</th>\n",
       "      <td id=\"T_4026b_row2_col0\" class=\"data row2 col0\" >Bayesian Ridge</td>\n",
       "      <td id=\"T_4026b_row2_col1\" class=\"data row2 col1\" >0.1610</td>\n",
       "      <td id=\"T_4026b_row2_col2\" class=\"data row2 col2\" >0.0480</td>\n",
       "      <td id=\"T_4026b_row2_col3\" class=\"data row2 col3\" >0.2187</td>\n",
       "      <td id=\"T_4026b_row2_col4\" class=\"data row2 col4\" >0.8243</td>\n",
       "      <td id=\"T_4026b_row2_col5\" class=\"data row2 col5\" >0.0613</td>\n",
       "      <td id=\"T_4026b_row2_col6\" class=\"data row2 col6\" >0.0618</td>\n",
       "      <td id=\"T_4026b_row2_col7\" class=\"data row2 col7\" >3.4120</td>\n",
       "    </tr>\n",
       "    <tr>\n",
       "      <th id=\"T_4026b_level0_row3\" class=\"row_heading level0 row3\" >huber</th>\n",
       "      <td id=\"T_4026b_row3_col0\" class=\"data row3 col0\" >Huber Regressor</td>\n",
       "      <td id=\"T_4026b_row3_col1\" class=\"data row3 col1\" >0.1761</td>\n",
       "      <td id=\"T_4026b_row3_col2\" class=\"data row3 col2\" >0.0585</td>\n",
       "      <td id=\"T_4026b_row3_col3\" class=\"data row3 col3\" >0.2414</td>\n",
       "      <td id=\"T_4026b_row3_col4\" class=\"data row3 col4\" >0.7862</td>\n",
       "      <td id=\"T_4026b_row3_col5\" class=\"data row3 col5\" >0.0675</td>\n",
       "      <td id=\"T_4026b_row3_col6\" class=\"data row3 col6\" >0.0670</td>\n",
       "      <td id=\"T_4026b_row3_col7\" class=\"data row3 col7\" >1.4610</td>\n",
       "    </tr>\n",
       "    <tr>\n",
       "      <th id=\"T_4026b_level0_row4\" class=\"row_heading level0 row4\" >knn</th>\n",
       "      <td id=\"T_4026b_row4_col0\" class=\"data row4 col0\" >K Neighbors Regressor</td>\n",
       "      <td id=\"T_4026b_row4_col1\" class=\"data row4 col1\" >0.2129</td>\n",
       "      <td id=\"T_4026b_row4_col2\" class=\"data row4 col2\" >0.0912</td>\n",
       "      <td id=\"T_4026b_row4_col3\" class=\"data row4 col3\" >0.3014</td>\n",
       "      <td id=\"T_4026b_row4_col4\" class=\"data row4 col4\" >0.6655</td>\n",
       "      <td id=\"T_4026b_row4_col5\" class=\"data row4 col5\" >0.0839</td>\n",
       "      <td id=\"T_4026b_row4_col6\" class=\"data row4 col6\" >0.0848</td>\n",
       "      <td id=\"T_4026b_row4_col7\" class=\"data row4 col7\" >0.0750</td>\n",
       "    </tr>\n",
       "  </tbody>\n",
       "</table>\n"
      ],
      "text/plain": [
       "<pandas.io.formats.style.Styler at 0x2646bd24750>"
      ]
     },
     "metadata": {},
     "output_type": "display_data"
    },
    {
     "data": {
      "text/html": [],
      "text/plain": [
       "<IPython.core.display.HTML object>"
      ]
     },
     "metadata": {},
     "output_type": "display_data"
    },
    {
     "name": "stdout",
     "output_type": "stream",
     "text": [
      "Processing atom_pair_Kulczynski_top10...\n"
     ]
    },
    {
     "data": {
      "text/html": [],
      "text/plain": [
       "<IPython.core.display.HTML object>"
      ]
     },
     "metadata": {},
     "output_type": "display_data"
    },
    {
     "data": {
      "text/html": [
       "<style type=\"text/css\">\n",
       "#T_08ebc th {\n",
       "  text-align: left;\n",
       "}\n",
       "#T_08ebc_row0_col0, #T_08ebc_row1_col0, #T_08ebc_row1_col1, #T_08ebc_row1_col2, #T_08ebc_row1_col3, #T_08ebc_row1_col4, #T_08ebc_row1_col5, #T_08ebc_row1_col6, #T_08ebc_row2_col0, #T_08ebc_row2_col1, #T_08ebc_row2_col2, #T_08ebc_row2_col3, #T_08ebc_row2_col4, #T_08ebc_row2_col5, #T_08ebc_row2_col6, #T_08ebc_row3_col0, #T_08ebc_row3_col1, #T_08ebc_row3_col2, #T_08ebc_row3_col3, #T_08ebc_row3_col4, #T_08ebc_row3_col5, #T_08ebc_row3_col6, #T_08ebc_row4_col0, #T_08ebc_row4_col1, #T_08ebc_row4_col2, #T_08ebc_row4_col3, #T_08ebc_row4_col4, #T_08ebc_row4_col5, #T_08ebc_row4_col6 {\n",
       "  text-align: left;\n",
       "}\n",
       "#T_08ebc_row0_col1, #T_08ebc_row0_col2, #T_08ebc_row0_col3, #T_08ebc_row0_col4, #T_08ebc_row0_col5, #T_08ebc_row0_col6 {\n",
       "  text-align: left;\n",
       "  background-color: yellow;\n",
       "}\n",
       "#T_08ebc_row0_col7, #T_08ebc_row1_col7, #T_08ebc_row2_col7, #T_08ebc_row3_col7 {\n",
       "  text-align: left;\n",
       "  background-color: lightgrey;\n",
       "}\n",
       "#T_08ebc_row4_col7 {\n",
       "  text-align: left;\n",
       "  background-color: yellow;\n",
       "  background-color: lightgrey;\n",
       "}\n",
       "</style>\n",
       "<table id=\"T_08ebc\">\n",
       "  <thead>\n",
       "    <tr>\n",
       "      <th class=\"blank level0\" >&nbsp;</th>\n",
       "      <th id=\"T_08ebc_level0_col0\" class=\"col_heading level0 col0\" >Model</th>\n",
       "      <th id=\"T_08ebc_level0_col1\" class=\"col_heading level0 col1\" >MAE</th>\n",
       "      <th id=\"T_08ebc_level0_col2\" class=\"col_heading level0 col2\" >MSE</th>\n",
       "      <th id=\"T_08ebc_level0_col3\" class=\"col_heading level0 col3\" >RMSE</th>\n",
       "      <th id=\"T_08ebc_level0_col4\" class=\"col_heading level0 col4\" >R2</th>\n",
       "      <th id=\"T_08ebc_level0_col5\" class=\"col_heading level0 col5\" >RMSLE</th>\n",
       "      <th id=\"T_08ebc_level0_col6\" class=\"col_heading level0 col6\" >MAPE</th>\n",
       "      <th id=\"T_08ebc_level0_col7\" class=\"col_heading level0 col7\" >TT (Sec)</th>\n",
       "    </tr>\n",
       "  </thead>\n",
       "  <tbody>\n",
       "    <tr>\n",
       "      <th id=\"T_08ebc_level0_row0\" class=\"row_heading level0 row0\" >lightgbm</th>\n",
       "      <td id=\"T_08ebc_row0_col0\" class=\"data row0 col0\" >Light Gradient Boosting Machine</td>\n",
       "      <td id=\"T_08ebc_row0_col1\" class=\"data row0 col1\" >0.1517</td>\n",
       "      <td id=\"T_08ebc_row0_col2\" class=\"data row0 col2\" >0.0463</td>\n",
       "      <td id=\"T_08ebc_row0_col3\" class=\"data row0 col3\" >0.2135</td>\n",
       "      <td id=\"T_08ebc_row0_col4\" class=\"data row0 col4\" >0.8249</td>\n",
       "      <td id=\"T_08ebc_row0_col5\" class=\"data row0 col5\" >0.0597</td>\n",
       "      <td id=\"T_08ebc_row0_col6\" class=\"data row0 col6\" >0.0607</td>\n",
       "      <td id=\"T_08ebc_row0_col7\" class=\"data row0 col7\" >0.2750</td>\n",
       "    </tr>\n",
       "    <tr>\n",
       "      <th id=\"T_08ebc_level0_row1\" class=\"row_heading level0 row1\" >xgboost</th>\n",
       "      <td id=\"T_08ebc_row1_col0\" class=\"data row1 col0\" >Extreme Gradient Boosting</td>\n",
       "      <td id=\"T_08ebc_row1_col1\" class=\"data row1 col1\" >0.1558</td>\n",
       "      <td id=\"T_08ebc_row1_col2\" class=\"data row1 col2\" >0.0485</td>\n",
       "      <td id=\"T_08ebc_row1_col3\" class=\"data row1 col3\" >0.2187</td>\n",
       "      <td id=\"T_08ebc_row1_col4\" class=\"data row1 col4\" >0.8164</td>\n",
       "      <td id=\"T_08ebc_row1_col5\" class=\"data row1 col5\" >0.0615</td>\n",
       "      <td id=\"T_08ebc_row1_col6\" class=\"data row1 col6\" >0.0623</td>\n",
       "      <td id=\"T_08ebc_row1_col7\" class=\"data row1 col7\" >0.3040</td>\n",
       "    </tr>\n",
       "    <tr>\n",
       "      <th id=\"T_08ebc_level0_row2\" class=\"row_heading level0 row2\" >br</th>\n",
       "      <td id=\"T_08ebc_row2_col0\" class=\"data row2 col0\" >Bayesian Ridge</td>\n",
       "      <td id=\"T_08ebc_row2_col1\" class=\"data row2 col1\" >0.1707</td>\n",
       "      <td id=\"T_08ebc_row2_col2\" class=\"data row2 col2\" >0.0555</td>\n",
       "      <td id=\"T_08ebc_row2_col3\" class=\"data row2 col3\" >0.2331</td>\n",
       "      <td id=\"T_08ebc_row2_col4\" class=\"data row2 col4\" >0.7910</td>\n",
       "      <td id=\"T_08ebc_row2_col5\" class=\"data row2 col5\" >0.0644</td>\n",
       "      <td id=\"T_08ebc_row2_col6\" class=\"data row2 col6\" >0.0681</td>\n",
       "      <td id=\"T_08ebc_row2_col7\" class=\"data row2 col7\" >3.4130</td>\n",
       "    </tr>\n",
       "    <tr>\n",
       "      <th id=\"T_08ebc_level0_row3\" class=\"row_heading level0 row3\" >huber</th>\n",
       "      <td id=\"T_08ebc_row3_col0\" class=\"data row3 col0\" >Huber Regressor</td>\n",
       "      <td id=\"T_08ebc_row3_col1\" class=\"data row3 col1\" >0.1866</td>\n",
       "      <td id=\"T_08ebc_row3_col2\" class=\"data row3 col2\" >0.0682</td>\n",
       "      <td id=\"T_08ebc_row3_col3\" class=\"data row3 col3\" >0.2590</td>\n",
       "      <td id=\"T_08ebc_row3_col4\" class=\"data row3 col4\" >0.7416</td>\n",
       "      <td id=\"T_08ebc_row3_col5\" class=\"data row3 col5\" >0.0719</td>\n",
       "      <td id=\"T_08ebc_row3_col6\" class=\"data row3 col6\" >0.0739</td>\n",
       "      <td id=\"T_08ebc_row3_col7\" class=\"data row3 col7\" >1.4960</td>\n",
       "    </tr>\n",
       "    <tr>\n",
       "      <th id=\"T_08ebc_level0_row4\" class=\"row_heading level0 row4\" >knn</th>\n",
       "      <td id=\"T_08ebc_row4_col0\" class=\"data row4 col0\" >K Neighbors Regressor</td>\n",
       "      <td id=\"T_08ebc_row4_col1\" class=\"data row4 col1\" >0.2048</td>\n",
       "      <td id=\"T_08ebc_row4_col2\" class=\"data row4 col2\" >0.0860</td>\n",
       "      <td id=\"T_08ebc_row4_col3\" class=\"data row4 col3\" >0.2926</td>\n",
       "      <td id=\"T_08ebc_row4_col4\" class=\"data row4 col4\" >0.6708</td>\n",
       "      <td id=\"T_08ebc_row4_col5\" class=\"data row4 col5\" >0.0828</td>\n",
       "      <td id=\"T_08ebc_row4_col6\" class=\"data row4 col6\" >0.0846</td>\n",
       "      <td id=\"T_08ebc_row4_col7\" class=\"data row4 col7\" >0.0740</td>\n",
       "    </tr>\n",
       "  </tbody>\n",
       "</table>\n"
      ],
      "text/plain": [
       "<pandas.io.formats.style.Styler at 0x2625fbfe710>"
      ]
     },
     "metadata": {},
     "output_type": "display_data"
    },
    {
     "data": {
      "text/html": [],
      "text/plain": [
       "<IPython.core.display.HTML object>"
      ]
     },
     "metadata": {},
     "output_type": "display_data"
    },
    {
     "name": "stdout",
     "output_type": "stream",
     "text": [
      "Processing maccs_Tanimoto_top10...\n"
     ]
    },
    {
     "data": {
      "text/html": [],
      "text/plain": [
       "<IPython.core.display.HTML object>"
      ]
     },
     "metadata": {},
     "output_type": "display_data"
    },
    {
     "data": {
      "text/html": [
       "<style type=\"text/css\">\n",
       "#T_2509d th {\n",
       "  text-align: left;\n",
       "}\n",
       "#T_2509d_row0_col0, #T_2509d_row1_col0, #T_2509d_row1_col1, #T_2509d_row1_col2, #T_2509d_row1_col3, #T_2509d_row1_col4, #T_2509d_row1_col5, #T_2509d_row1_col6, #T_2509d_row2_col0, #T_2509d_row2_col1, #T_2509d_row2_col2, #T_2509d_row2_col3, #T_2509d_row2_col4, #T_2509d_row2_col5, #T_2509d_row2_col6, #T_2509d_row3_col0, #T_2509d_row3_col1, #T_2509d_row3_col2, #T_2509d_row3_col3, #T_2509d_row3_col4, #T_2509d_row3_col5, #T_2509d_row3_col6, #T_2509d_row4_col0, #T_2509d_row4_col1, #T_2509d_row4_col2, #T_2509d_row4_col3, #T_2509d_row4_col4, #T_2509d_row4_col5, #T_2509d_row4_col6 {\n",
       "  text-align: left;\n",
       "}\n",
       "#T_2509d_row0_col1, #T_2509d_row0_col2, #T_2509d_row0_col3, #T_2509d_row0_col4, #T_2509d_row0_col5, #T_2509d_row0_col6 {\n",
       "  text-align: left;\n",
       "  background-color: yellow;\n",
       "}\n",
       "#T_2509d_row0_col7, #T_2509d_row1_col7, #T_2509d_row2_col7, #T_2509d_row3_col7 {\n",
       "  text-align: left;\n",
       "  background-color: lightgrey;\n",
       "}\n",
       "#T_2509d_row4_col7 {\n",
       "  text-align: left;\n",
       "  background-color: yellow;\n",
       "  background-color: lightgrey;\n",
       "}\n",
       "</style>\n",
       "<table id=\"T_2509d\">\n",
       "  <thead>\n",
       "    <tr>\n",
       "      <th class=\"blank level0\" >&nbsp;</th>\n",
       "      <th id=\"T_2509d_level0_col0\" class=\"col_heading level0 col0\" >Model</th>\n",
       "      <th id=\"T_2509d_level0_col1\" class=\"col_heading level0 col1\" >MAE</th>\n",
       "      <th id=\"T_2509d_level0_col2\" class=\"col_heading level0 col2\" >MSE</th>\n",
       "      <th id=\"T_2509d_level0_col3\" class=\"col_heading level0 col3\" >RMSE</th>\n",
       "      <th id=\"T_2509d_level0_col4\" class=\"col_heading level0 col4\" >R2</th>\n",
       "      <th id=\"T_2509d_level0_col5\" class=\"col_heading level0 col5\" >RMSLE</th>\n",
       "      <th id=\"T_2509d_level0_col6\" class=\"col_heading level0 col6\" >MAPE</th>\n",
       "      <th id=\"T_2509d_level0_col7\" class=\"col_heading level0 col7\" >TT (Sec)</th>\n",
       "    </tr>\n",
       "  </thead>\n",
       "  <tbody>\n",
       "    <tr>\n",
       "      <th id=\"T_2509d_level0_row0\" class=\"row_heading level0 row0\" >lightgbm</th>\n",
       "      <td id=\"T_2509d_row0_col0\" class=\"data row0 col0\" >Light Gradient Boosting Machine</td>\n",
       "      <td id=\"T_2509d_row0_col1\" class=\"data row0 col1\" >0.1529</td>\n",
       "      <td id=\"T_2509d_row0_col2\" class=\"data row0 col2\" >0.0429</td>\n",
       "      <td id=\"T_2509d_row0_col3\" class=\"data row0 col3\" >0.2071</td>\n",
       "      <td id=\"T_2509d_row0_col4\" class=\"data row0 col4\" >0.8611</td>\n",
       "      <td id=\"T_2509d_row0_col5\" class=\"data row0 col5\" >0.0536</td>\n",
       "      <td id=\"T_2509d_row0_col6\" class=\"data row0 col6\" >0.0538</td>\n",
       "      <td id=\"T_2509d_row0_col7\" class=\"data row0 col7\" >0.2560</td>\n",
       "    </tr>\n",
       "    <tr>\n",
       "      <th id=\"T_2509d_level0_row1\" class=\"row_heading level0 row1\" >xgboost</th>\n",
       "      <td id=\"T_2509d_row1_col0\" class=\"data row1 col0\" >Extreme Gradient Boosting</td>\n",
       "      <td id=\"T_2509d_row1_col1\" class=\"data row1 col1\" >0.1541</td>\n",
       "      <td id=\"T_2509d_row1_col2\" class=\"data row1 col2\" >0.0450</td>\n",
       "      <td id=\"T_2509d_row1_col3\" class=\"data row1 col3\" >0.2120</td>\n",
       "      <td id=\"T_2509d_row1_col4\" class=\"data row1 col4\" >0.8547</td>\n",
       "      <td id=\"T_2509d_row1_col5\" class=\"data row1 col5\" >0.0547</td>\n",
       "      <td id=\"T_2509d_row1_col6\" class=\"data row1 col6\" >0.0540</td>\n",
       "      <td id=\"T_2509d_row1_col7\" class=\"data row1 col7\" >0.3060</td>\n",
       "    </tr>\n",
       "    <tr>\n",
       "      <th id=\"T_2509d_level0_row2\" class=\"row_heading level0 row2\" >br</th>\n",
       "      <td id=\"T_2509d_row2_col0\" class=\"data row2 col0\" >Bayesian Ridge</td>\n",
       "      <td id=\"T_2509d_row2_col1\" class=\"data row2 col1\" >0.1798</td>\n",
       "      <td id=\"T_2509d_row2_col2\" class=\"data row2 col2\" >0.0565</td>\n",
       "      <td id=\"T_2509d_row2_col3\" class=\"data row2 col3\" >0.2376</td>\n",
       "      <td id=\"T_2509d_row2_col4\" class=\"data row2 col4\" >0.8173</td>\n",
       "      <td id=\"T_2509d_row2_col5\" class=\"data row2 col5\" >0.0618</td>\n",
       "      <td id=\"T_2509d_row2_col6\" class=\"data row2 col6\" >0.0634</td>\n",
       "      <td id=\"T_2509d_row2_col7\" class=\"data row2 col7\" >3.4800</td>\n",
       "    </tr>\n",
       "    <tr>\n",
       "      <th id=\"T_2509d_level0_row3\" class=\"row_heading level0 row3\" >huber</th>\n",
       "      <td id=\"T_2509d_row3_col0\" class=\"data row3 col0\" >Huber Regressor</td>\n",
       "      <td id=\"T_2509d_row3_col1\" class=\"data row3 col1\" >0.1988</td>\n",
       "      <td id=\"T_2509d_row3_col2\" class=\"data row3 col2\" >0.0731</td>\n",
       "      <td id=\"T_2509d_row3_col3\" class=\"data row3 col3\" >0.2702</td>\n",
       "      <td id=\"T_2509d_row3_col4\" class=\"data row3 col4\" >0.7637</td>\n",
       "      <td id=\"T_2509d_row3_col5\" class=\"data row3 col5\" >0.0700</td>\n",
       "      <td id=\"T_2509d_row3_col6\" class=\"data row3 col6\" >0.0697</td>\n",
       "      <td id=\"T_2509d_row3_col7\" class=\"data row3 col7\" >1.5100</td>\n",
       "    </tr>\n",
       "    <tr>\n",
       "      <th id=\"T_2509d_level0_row4\" class=\"row_heading level0 row4\" >knn</th>\n",
       "      <td id=\"T_2509d_row4_col0\" class=\"data row4 col0\" >K Neighbors Regressor</td>\n",
       "      <td id=\"T_2509d_row4_col1\" class=\"data row4 col1\" >0.2137</td>\n",
       "      <td id=\"T_2509d_row4_col2\" class=\"data row4 col2\" >0.0931</td>\n",
       "      <td id=\"T_2509d_row4_col3\" class=\"data row4 col3\" >0.3046</td>\n",
       "      <td id=\"T_2509d_row4_col4\" class=\"data row4 col4\" >0.6993</td>\n",
       "      <td id=\"T_2509d_row4_col5\" class=\"data row4 col5\" >0.0797</td>\n",
       "      <td id=\"T_2509d_row4_col6\" class=\"data row4 col6\" >0.0790</td>\n",
       "      <td id=\"T_2509d_row4_col7\" class=\"data row4 col7\" >0.0780</td>\n",
       "    </tr>\n",
       "  </tbody>\n",
       "</table>\n"
      ],
      "text/plain": [
       "<pandas.io.formats.style.Styler at 0x2625fbf13d0>"
      ]
     },
     "metadata": {},
     "output_type": "display_data"
    },
    {
     "data": {
      "text/html": [],
      "text/plain": [
       "<IPython.core.display.HTML object>"
      ]
     },
     "metadata": {},
     "output_type": "display_data"
    },
    {
     "name": "stdout",
     "output_type": "stream",
     "text": [
      "Processing maccs_Dice_top10...\n"
     ]
    },
    {
     "data": {
      "text/html": [],
      "text/plain": [
       "<IPython.core.display.HTML object>"
      ]
     },
     "metadata": {},
     "output_type": "display_data"
    },
    {
     "data": {
      "text/html": [
       "<style type=\"text/css\">\n",
       "#T_f0426 th {\n",
       "  text-align: left;\n",
       "}\n",
       "#T_f0426_row0_col0, #T_f0426_row1_col0, #T_f0426_row1_col1, #T_f0426_row1_col2, #T_f0426_row1_col3, #T_f0426_row1_col4, #T_f0426_row1_col5, #T_f0426_row1_col6, #T_f0426_row2_col0, #T_f0426_row2_col1, #T_f0426_row2_col2, #T_f0426_row2_col3, #T_f0426_row2_col4, #T_f0426_row2_col5, #T_f0426_row2_col6, #T_f0426_row3_col0, #T_f0426_row3_col1, #T_f0426_row3_col2, #T_f0426_row3_col3, #T_f0426_row3_col4, #T_f0426_row3_col5, #T_f0426_row3_col6, #T_f0426_row4_col0, #T_f0426_row4_col1, #T_f0426_row4_col2, #T_f0426_row4_col3, #T_f0426_row4_col4, #T_f0426_row4_col5, #T_f0426_row4_col6 {\n",
       "  text-align: left;\n",
       "}\n",
       "#T_f0426_row0_col1, #T_f0426_row0_col2, #T_f0426_row0_col3, #T_f0426_row0_col4, #T_f0426_row0_col5, #T_f0426_row0_col6 {\n",
       "  text-align: left;\n",
       "  background-color: yellow;\n",
       "}\n",
       "#T_f0426_row0_col7, #T_f0426_row1_col7, #T_f0426_row2_col7, #T_f0426_row3_col7 {\n",
       "  text-align: left;\n",
       "  background-color: lightgrey;\n",
       "}\n",
       "#T_f0426_row4_col7 {\n",
       "  text-align: left;\n",
       "  background-color: yellow;\n",
       "  background-color: lightgrey;\n",
       "}\n",
       "</style>\n",
       "<table id=\"T_f0426\">\n",
       "  <thead>\n",
       "    <tr>\n",
       "      <th class=\"blank level0\" >&nbsp;</th>\n",
       "      <th id=\"T_f0426_level0_col0\" class=\"col_heading level0 col0\" >Model</th>\n",
       "      <th id=\"T_f0426_level0_col1\" class=\"col_heading level0 col1\" >MAE</th>\n",
       "      <th id=\"T_f0426_level0_col2\" class=\"col_heading level0 col2\" >MSE</th>\n",
       "      <th id=\"T_f0426_level0_col3\" class=\"col_heading level0 col3\" >RMSE</th>\n",
       "      <th id=\"T_f0426_level0_col4\" class=\"col_heading level0 col4\" >R2</th>\n",
       "      <th id=\"T_f0426_level0_col5\" class=\"col_heading level0 col5\" >RMSLE</th>\n",
       "      <th id=\"T_f0426_level0_col6\" class=\"col_heading level0 col6\" >MAPE</th>\n",
       "      <th id=\"T_f0426_level0_col7\" class=\"col_heading level0 col7\" >TT (Sec)</th>\n",
       "    </tr>\n",
       "  </thead>\n",
       "  <tbody>\n",
       "    <tr>\n",
       "      <th id=\"T_f0426_level0_row0\" class=\"row_heading level0 row0\" >lightgbm</th>\n",
       "      <td id=\"T_f0426_row0_col0\" class=\"data row0 col0\" >Light Gradient Boosting Machine</td>\n",
       "      <td id=\"T_f0426_row0_col1\" class=\"data row0 col1\" >0.1529</td>\n",
       "      <td id=\"T_f0426_row0_col2\" class=\"data row0 col2\" >0.0429</td>\n",
       "      <td id=\"T_f0426_row0_col3\" class=\"data row0 col3\" >0.2071</td>\n",
       "      <td id=\"T_f0426_row0_col4\" class=\"data row0 col4\" >0.8611</td>\n",
       "      <td id=\"T_f0426_row0_col5\" class=\"data row0 col5\" >0.0536</td>\n",
       "      <td id=\"T_f0426_row0_col6\" class=\"data row0 col6\" >0.0538</td>\n",
       "      <td id=\"T_f0426_row0_col7\" class=\"data row0 col7\" >0.2560</td>\n",
       "    </tr>\n",
       "    <tr>\n",
       "      <th id=\"T_f0426_level0_row1\" class=\"row_heading level0 row1\" >xgboost</th>\n",
       "      <td id=\"T_f0426_row1_col0\" class=\"data row1 col0\" >Extreme Gradient Boosting</td>\n",
       "      <td id=\"T_f0426_row1_col1\" class=\"data row1 col1\" >0.1541</td>\n",
       "      <td id=\"T_f0426_row1_col2\" class=\"data row1 col2\" >0.0450</td>\n",
       "      <td id=\"T_f0426_row1_col3\" class=\"data row1 col3\" >0.2120</td>\n",
       "      <td id=\"T_f0426_row1_col4\" class=\"data row1 col4\" >0.8547</td>\n",
       "      <td id=\"T_f0426_row1_col5\" class=\"data row1 col5\" >0.0547</td>\n",
       "      <td id=\"T_f0426_row1_col6\" class=\"data row1 col6\" >0.0540</td>\n",
       "      <td id=\"T_f0426_row1_col7\" class=\"data row1 col7\" >0.3090</td>\n",
       "    </tr>\n",
       "    <tr>\n",
       "      <th id=\"T_f0426_level0_row2\" class=\"row_heading level0 row2\" >br</th>\n",
       "      <td id=\"T_f0426_row2_col0\" class=\"data row2 col0\" >Bayesian Ridge</td>\n",
       "      <td id=\"T_f0426_row2_col1\" class=\"data row2 col1\" >0.1798</td>\n",
       "      <td id=\"T_f0426_row2_col2\" class=\"data row2 col2\" >0.0565</td>\n",
       "      <td id=\"T_f0426_row2_col3\" class=\"data row2 col3\" >0.2376</td>\n",
       "      <td id=\"T_f0426_row2_col4\" class=\"data row2 col4\" >0.8173</td>\n",
       "      <td id=\"T_f0426_row2_col5\" class=\"data row2 col5\" >0.0618</td>\n",
       "      <td id=\"T_f0426_row2_col6\" class=\"data row2 col6\" >0.0634</td>\n",
       "      <td id=\"T_f0426_row2_col7\" class=\"data row2 col7\" >3.4470</td>\n",
       "    </tr>\n",
       "    <tr>\n",
       "      <th id=\"T_f0426_level0_row3\" class=\"row_heading level0 row3\" >huber</th>\n",
       "      <td id=\"T_f0426_row3_col0\" class=\"data row3 col0\" >Huber Regressor</td>\n",
       "      <td id=\"T_f0426_row3_col1\" class=\"data row3 col1\" >0.1988</td>\n",
       "      <td id=\"T_f0426_row3_col2\" class=\"data row3 col2\" >0.0731</td>\n",
       "      <td id=\"T_f0426_row3_col3\" class=\"data row3 col3\" >0.2702</td>\n",
       "      <td id=\"T_f0426_row3_col4\" class=\"data row3 col4\" >0.7637</td>\n",
       "      <td id=\"T_f0426_row3_col5\" class=\"data row3 col5\" >0.0700</td>\n",
       "      <td id=\"T_f0426_row3_col6\" class=\"data row3 col6\" >0.0697</td>\n",
       "      <td id=\"T_f0426_row3_col7\" class=\"data row3 col7\" >1.4970</td>\n",
       "    </tr>\n",
       "    <tr>\n",
       "      <th id=\"T_f0426_level0_row4\" class=\"row_heading level0 row4\" >knn</th>\n",
       "      <td id=\"T_f0426_row4_col0\" class=\"data row4 col0\" >K Neighbors Regressor</td>\n",
       "      <td id=\"T_f0426_row4_col1\" class=\"data row4 col1\" >0.2137</td>\n",
       "      <td id=\"T_f0426_row4_col2\" class=\"data row4 col2\" >0.0931</td>\n",
       "      <td id=\"T_f0426_row4_col3\" class=\"data row4 col3\" >0.3046</td>\n",
       "      <td id=\"T_f0426_row4_col4\" class=\"data row4 col4\" >0.6993</td>\n",
       "      <td id=\"T_f0426_row4_col5\" class=\"data row4 col5\" >0.0797</td>\n",
       "      <td id=\"T_f0426_row4_col6\" class=\"data row4 col6\" >0.0790</td>\n",
       "      <td id=\"T_f0426_row4_col7\" class=\"data row4 col7\" >0.0810</td>\n",
       "    </tr>\n",
       "  </tbody>\n",
       "</table>\n"
      ],
      "text/plain": [
       "<pandas.io.formats.style.Styler at 0x26461fb5510>"
      ]
     },
     "metadata": {},
     "output_type": "display_data"
    },
    {
     "data": {
      "text/html": [],
      "text/plain": [
       "<IPython.core.display.HTML object>"
      ]
     },
     "metadata": {},
     "output_type": "display_data"
    },
    {
     "name": "stdout",
     "output_type": "stream",
     "text": [
      "Processing maccs_Cosine_top10...\n"
     ]
    },
    {
     "data": {
      "text/html": [],
      "text/plain": [
       "<IPython.core.display.HTML object>"
      ]
     },
     "metadata": {},
     "output_type": "display_data"
    },
    {
     "data": {
      "text/html": [
       "<style type=\"text/css\">\n",
       "#T_bc6d2 th {\n",
       "  text-align: left;\n",
       "}\n",
       "#T_bc6d2_row0_col0, #T_bc6d2_row1_col0, #T_bc6d2_row1_col1, #T_bc6d2_row1_col2, #T_bc6d2_row1_col3, #T_bc6d2_row1_col4, #T_bc6d2_row1_col5, #T_bc6d2_row1_col6, #T_bc6d2_row2_col0, #T_bc6d2_row2_col1, #T_bc6d2_row2_col2, #T_bc6d2_row2_col3, #T_bc6d2_row2_col4, #T_bc6d2_row2_col5, #T_bc6d2_row2_col6, #T_bc6d2_row3_col0, #T_bc6d2_row3_col1, #T_bc6d2_row3_col2, #T_bc6d2_row3_col3, #T_bc6d2_row3_col4, #T_bc6d2_row3_col5, #T_bc6d2_row3_col6, #T_bc6d2_row4_col0, #T_bc6d2_row4_col1, #T_bc6d2_row4_col2, #T_bc6d2_row4_col3, #T_bc6d2_row4_col4, #T_bc6d2_row4_col5, #T_bc6d2_row4_col6 {\n",
       "  text-align: left;\n",
       "}\n",
       "#T_bc6d2_row0_col1, #T_bc6d2_row0_col2, #T_bc6d2_row0_col3, #T_bc6d2_row0_col4, #T_bc6d2_row0_col5, #T_bc6d2_row0_col6 {\n",
       "  text-align: left;\n",
       "  background-color: yellow;\n",
       "}\n",
       "#T_bc6d2_row0_col7, #T_bc6d2_row1_col7, #T_bc6d2_row2_col7, #T_bc6d2_row3_col7 {\n",
       "  text-align: left;\n",
       "  background-color: lightgrey;\n",
       "}\n",
       "#T_bc6d2_row4_col7 {\n",
       "  text-align: left;\n",
       "  background-color: yellow;\n",
       "  background-color: lightgrey;\n",
       "}\n",
       "</style>\n",
       "<table id=\"T_bc6d2\">\n",
       "  <thead>\n",
       "    <tr>\n",
       "      <th class=\"blank level0\" >&nbsp;</th>\n",
       "      <th id=\"T_bc6d2_level0_col0\" class=\"col_heading level0 col0\" >Model</th>\n",
       "      <th id=\"T_bc6d2_level0_col1\" class=\"col_heading level0 col1\" >MAE</th>\n",
       "      <th id=\"T_bc6d2_level0_col2\" class=\"col_heading level0 col2\" >MSE</th>\n",
       "      <th id=\"T_bc6d2_level0_col3\" class=\"col_heading level0 col3\" >RMSE</th>\n",
       "      <th id=\"T_bc6d2_level0_col4\" class=\"col_heading level0 col4\" >R2</th>\n",
       "      <th id=\"T_bc6d2_level0_col5\" class=\"col_heading level0 col5\" >RMSLE</th>\n",
       "      <th id=\"T_bc6d2_level0_col6\" class=\"col_heading level0 col6\" >MAPE</th>\n",
       "      <th id=\"T_bc6d2_level0_col7\" class=\"col_heading level0 col7\" >TT (Sec)</th>\n",
       "    </tr>\n",
       "  </thead>\n",
       "  <tbody>\n",
       "    <tr>\n",
       "      <th id=\"T_bc6d2_level0_row0\" class=\"row_heading level0 row0\" >lightgbm</th>\n",
       "      <td id=\"T_bc6d2_row0_col0\" class=\"data row0 col0\" >Light Gradient Boosting Machine</td>\n",
       "      <td id=\"T_bc6d2_row0_col1\" class=\"data row0 col1\" >0.1484</td>\n",
       "      <td id=\"T_bc6d2_row0_col2\" class=\"data row0 col2\" >0.0410</td>\n",
       "      <td id=\"T_bc6d2_row0_col3\" class=\"data row0 col3\" >0.2022</td>\n",
       "      <td id=\"T_bc6d2_row0_col4\" class=\"data row0 col4\" >0.8683</td>\n",
       "      <td id=\"T_bc6d2_row0_col5\" class=\"data row0 col5\" >0.0532</td>\n",
       "      <td id=\"T_bc6d2_row0_col6\" class=\"data row0 col6\" >0.0534</td>\n",
       "      <td id=\"T_bc6d2_row0_col7\" class=\"data row0 col7\" >0.2670</td>\n",
       "    </tr>\n",
       "    <tr>\n",
       "      <th id=\"T_bc6d2_level0_row1\" class=\"row_heading level0 row1\" >xgboost</th>\n",
       "      <td id=\"T_bc6d2_row1_col0\" class=\"data row1 col0\" >Extreme Gradient Boosting</td>\n",
       "      <td id=\"T_bc6d2_row1_col1\" class=\"data row1 col1\" >0.1526</td>\n",
       "      <td id=\"T_bc6d2_row1_col2\" class=\"data row1 col2\" >0.0439</td>\n",
       "      <td id=\"T_bc6d2_row1_col3\" class=\"data row1 col3\" >0.2090</td>\n",
       "      <td id=\"T_bc6d2_row1_col4\" class=\"data row1 col4\" >0.8595</td>\n",
       "      <td id=\"T_bc6d2_row1_col5\" class=\"data row1 col5\" >0.0542</td>\n",
       "      <td id=\"T_bc6d2_row1_col6\" class=\"data row1 col6\" >0.0543</td>\n",
       "      <td id=\"T_bc6d2_row1_col7\" class=\"data row1 col7\" >0.3040</td>\n",
       "    </tr>\n",
       "    <tr>\n",
       "      <th id=\"T_bc6d2_level0_row2\" class=\"row_heading level0 row2\" >br</th>\n",
       "      <td id=\"T_bc6d2_row2_col0\" class=\"data row2 col0\" >Bayesian Ridge</td>\n",
       "      <td id=\"T_bc6d2_row2_col1\" class=\"data row2 col1\" >0.1746</td>\n",
       "      <td id=\"T_bc6d2_row2_col2\" class=\"data row2 col2\" >0.0538</td>\n",
       "      <td id=\"T_bc6d2_row2_col3\" class=\"data row2 col3\" >0.2318</td>\n",
       "      <td id=\"T_bc6d2_row2_col4\" class=\"data row2 col4\" >0.8272</td>\n",
       "      <td id=\"T_bc6d2_row2_col5\" class=\"data row2 col5\" >0.0608</td>\n",
       "      <td id=\"T_bc6d2_row2_col6\" class=\"data row2 col6\" >0.0628</td>\n",
       "      <td id=\"T_bc6d2_row2_col7\" class=\"data row2 col7\" >3.4450</td>\n",
       "    </tr>\n",
       "    <tr>\n",
       "      <th id=\"T_bc6d2_level0_row3\" class=\"row_heading level0 row3\" >huber</th>\n",
       "      <td id=\"T_bc6d2_row3_col0\" class=\"data row3 col0\" >Huber Regressor</td>\n",
       "      <td id=\"T_bc6d2_row3_col1\" class=\"data row3 col1\" >0.1950</td>\n",
       "      <td id=\"T_bc6d2_row3_col2\" class=\"data row3 col2\" >0.0693</td>\n",
       "      <td id=\"T_bc6d2_row3_col3\" class=\"data row3 col3\" >0.2630</td>\n",
       "      <td id=\"T_bc6d2_row3_col4\" class=\"data row3 col4\" >0.7770</td>\n",
       "      <td id=\"T_bc6d2_row3_col5\" class=\"data row3 col5\" >0.0690</td>\n",
       "      <td id=\"T_bc6d2_row3_col6\" class=\"data row3 col6\" >0.0698</td>\n",
       "      <td id=\"T_bc6d2_row3_col7\" class=\"data row3 col7\" >1.4960</td>\n",
       "    </tr>\n",
       "    <tr>\n",
       "      <th id=\"T_bc6d2_level0_row4\" class=\"row_heading level0 row4\" >knn</th>\n",
       "      <td id=\"T_bc6d2_row4_col0\" class=\"data row4 col0\" >K Neighbors Regressor</td>\n",
       "      <td id=\"T_bc6d2_row4_col1\" class=\"data row4 col1\" >0.2148</td>\n",
       "      <td id=\"T_bc6d2_row4_col2\" class=\"data row4 col2\" >0.0944</td>\n",
       "      <td id=\"T_bc6d2_row4_col3\" class=\"data row4 col3\" >0.3066</td>\n",
       "      <td id=\"T_bc6d2_row4_col4\" class=\"data row4 col4\" >0.6975</td>\n",
       "      <td id=\"T_bc6d2_row4_col5\" class=\"data row4 col5\" >0.0820</td>\n",
       "      <td id=\"T_bc6d2_row4_col6\" class=\"data row4 col6\" >0.0819</td>\n",
       "      <td id=\"T_bc6d2_row4_col7\" class=\"data row4 col7\" >0.0750</td>\n",
       "    </tr>\n",
       "  </tbody>\n",
       "</table>\n"
      ],
      "text/plain": [
       "<pandas.io.formats.style.Styler at 0x26462414510>"
      ]
     },
     "metadata": {},
     "output_type": "display_data"
    },
    {
     "data": {
      "text/html": [],
      "text/plain": [
       "<IPython.core.display.HTML object>"
      ]
     },
     "metadata": {},
     "output_type": "display_data"
    },
    {
     "name": "stdout",
     "output_type": "stream",
     "text": [
      "Processing maccs_Kulczynski_top10...\n"
     ]
    },
    {
     "data": {
      "text/html": [],
      "text/plain": [
       "<IPython.core.display.HTML object>"
      ]
     },
     "metadata": {},
     "output_type": "display_data"
    },
    {
     "data": {
      "text/html": [
       "<style type=\"text/css\">\n",
       "#T_1f2e9 th {\n",
       "  text-align: left;\n",
       "}\n",
       "#T_1f2e9_row0_col0, #T_1f2e9_row1_col0, #T_1f2e9_row1_col1, #T_1f2e9_row1_col2, #T_1f2e9_row1_col3, #T_1f2e9_row1_col4, #T_1f2e9_row1_col5, #T_1f2e9_row1_col6, #T_1f2e9_row2_col0, #T_1f2e9_row2_col1, #T_1f2e9_row2_col2, #T_1f2e9_row2_col3, #T_1f2e9_row2_col4, #T_1f2e9_row2_col5, #T_1f2e9_row2_col6, #T_1f2e9_row3_col0, #T_1f2e9_row3_col1, #T_1f2e9_row3_col2, #T_1f2e9_row3_col3, #T_1f2e9_row3_col4, #T_1f2e9_row3_col5, #T_1f2e9_row3_col6, #T_1f2e9_row4_col0, #T_1f2e9_row4_col1, #T_1f2e9_row4_col2, #T_1f2e9_row4_col3, #T_1f2e9_row4_col4, #T_1f2e9_row4_col5, #T_1f2e9_row4_col6 {\n",
       "  text-align: left;\n",
       "}\n",
       "#T_1f2e9_row0_col1, #T_1f2e9_row0_col2, #T_1f2e9_row0_col3, #T_1f2e9_row0_col4, #T_1f2e9_row0_col5, #T_1f2e9_row0_col6 {\n",
       "  text-align: left;\n",
       "  background-color: yellow;\n",
       "}\n",
       "#T_1f2e9_row0_col7, #T_1f2e9_row1_col7, #T_1f2e9_row2_col7, #T_1f2e9_row3_col7 {\n",
       "  text-align: left;\n",
       "  background-color: lightgrey;\n",
       "}\n",
       "#T_1f2e9_row4_col7 {\n",
       "  text-align: left;\n",
       "  background-color: yellow;\n",
       "  background-color: lightgrey;\n",
       "}\n",
       "</style>\n",
       "<table id=\"T_1f2e9\">\n",
       "  <thead>\n",
       "    <tr>\n",
       "      <th class=\"blank level0\" >&nbsp;</th>\n",
       "      <th id=\"T_1f2e9_level0_col0\" class=\"col_heading level0 col0\" >Model</th>\n",
       "      <th id=\"T_1f2e9_level0_col1\" class=\"col_heading level0 col1\" >MAE</th>\n",
       "      <th id=\"T_1f2e9_level0_col2\" class=\"col_heading level0 col2\" >MSE</th>\n",
       "      <th id=\"T_1f2e9_level0_col3\" class=\"col_heading level0 col3\" >RMSE</th>\n",
       "      <th id=\"T_1f2e9_level0_col4\" class=\"col_heading level0 col4\" >R2</th>\n",
       "      <th id=\"T_1f2e9_level0_col5\" class=\"col_heading level0 col5\" >RMSLE</th>\n",
       "      <th id=\"T_1f2e9_level0_col6\" class=\"col_heading level0 col6\" >MAPE</th>\n",
       "      <th id=\"T_1f2e9_level0_col7\" class=\"col_heading level0 col7\" >TT (Sec)</th>\n",
       "    </tr>\n",
       "  </thead>\n",
       "  <tbody>\n",
       "    <tr>\n",
       "      <th id=\"T_1f2e9_level0_row0\" class=\"row_heading level0 row0\" >lightgbm</th>\n",
       "      <td id=\"T_1f2e9_row0_col0\" class=\"data row0 col0\" >Light Gradient Boosting Machine</td>\n",
       "      <td id=\"T_1f2e9_row0_col1\" class=\"data row0 col1\" >0.1432</td>\n",
       "      <td id=\"T_1f2e9_row0_col2\" class=\"data row0 col2\" >0.0406</td>\n",
       "      <td id=\"T_1f2e9_row0_col3\" class=\"data row0 col3\" >0.2007</td>\n",
       "      <td id=\"T_1f2e9_row0_col4\" class=\"data row0 col4\" >0.8716</td>\n",
       "      <td id=\"T_1f2e9_row0_col5\" class=\"data row0 col5\" >0.0530</td>\n",
       "      <td id=\"T_1f2e9_row0_col6\" class=\"data row0 col6\" >0.0524</td>\n",
       "      <td id=\"T_1f2e9_row0_col7\" class=\"data row0 col7\" >0.2510</td>\n",
       "    </tr>\n",
       "    <tr>\n",
       "      <th id=\"T_1f2e9_level0_row1\" class=\"row_heading level0 row1\" >xgboost</th>\n",
       "      <td id=\"T_1f2e9_row1_col0\" class=\"data row1 col0\" >Extreme Gradient Boosting</td>\n",
       "      <td id=\"T_1f2e9_row1_col1\" class=\"data row1 col1\" >0.1492</td>\n",
       "      <td id=\"T_1f2e9_row1_col2\" class=\"data row1 col2\" >0.0437</td>\n",
       "      <td id=\"T_1f2e9_row1_col3\" class=\"data row1 col3\" >0.2081</td>\n",
       "      <td id=\"T_1f2e9_row1_col4\" class=\"data row1 col4\" >0.8620</td>\n",
       "      <td id=\"T_1f2e9_row1_col5\" class=\"data row1 col5\" >0.0547</td>\n",
       "      <td id=\"T_1f2e9_row1_col6\" class=\"data row1 col6\" >0.0544</td>\n",
       "      <td id=\"T_1f2e9_row1_col7\" class=\"data row1 col7\" >0.3060</td>\n",
       "    </tr>\n",
       "    <tr>\n",
       "      <th id=\"T_1f2e9_level0_row2\" class=\"row_heading level0 row2\" >br</th>\n",
       "      <td id=\"T_1f2e9_row2_col0\" class=\"data row2 col0\" >Bayesian Ridge</td>\n",
       "      <td id=\"T_1f2e9_row2_col1\" class=\"data row2 col1\" >0.1667</td>\n",
       "      <td id=\"T_1f2e9_row2_col2\" class=\"data row2 col2\" >0.0514</td>\n",
       "      <td id=\"T_1f2e9_row2_col3\" class=\"data row2 col3\" >0.2262</td>\n",
       "      <td id=\"T_1f2e9_row2_col4\" class=\"data row2 col4\" >0.8370</td>\n",
       "      <td id=\"T_1f2e9_row2_col5\" class=\"data row2 col5\" >0.0599</td>\n",
       "      <td id=\"T_1f2e9_row2_col6\" class=\"data row2 col6\" >0.0610</td>\n",
       "      <td id=\"T_1f2e9_row2_col7\" class=\"data row2 col7\" >3.3950</td>\n",
       "    </tr>\n",
       "    <tr>\n",
       "      <th id=\"T_1f2e9_level0_row3\" class=\"row_heading level0 row3\" >huber</th>\n",
       "      <td id=\"T_1f2e9_row3_col0\" class=\"data row3 col0\" >Huber Regressor</td>\n",
       "      <td id=\"T_1f2e9_row3_col1\" class=\"data row3 col1\" >0.1878</td>\n",
       "      <td id=\"T_1f2e9_row3_col2\" class=\"data row3 col2\" >0.0669</td>\n",
       "      <td id=\"T_1f2e9_row3_col3\" class=\"data row3 col3\" >0.2581</td>\n",
       "      <td id=\"T_1f2e9_row3_col4\" class=\"data row3 col4\" >0.7874</td>\n",
       "      <td id=\"T_1f2e9_row3_col5\" class=\"data row3 col5\" >0.0680</td>\n",
       "      <td id=\"T_1f2e9_row3_col6\" class=\"data row3 col6\" >0.0682</td>\n",
       "      <td id=\"T_1f2e9_row3_col7\" class=\"data row3 col7\" >1.5170</td>\n",
       "    </tr>\n",
       "    <tr>\n",
       "      <th id=\"T_1f2e9_level0_row4\" class=\"row_heading level0 row4\" >knn</th>\n",
       "      <td id=\"T_1f2e9_row4_col0\" class=\"data row4 col0\" >K Neighbors Regressor</td>\n",
       "      <td id=\"T_1f2e9_row4_col1\" class=\"data row4 col1\" >0.2066</td>\n",
       "      <td id=\"T_1f2e9_row4_col2\" class=\"data row4 col2\" >0.0898</td>\n",
       "      <td id=\"T_1f2e9_row4_col3\" class=\"data row4 col3\" >0.2986</td>\n",
       "      <td id=\"T_1f2e9_row4_col4\" class=\"data row4 col4\" >0.7148</td>\n",
       "      <td id=\"T_1f2e9_row4_col5\" class=\"data row4 col5\" >0.0808</td>\n",
       "      <td id=\"T_1f2e9_row4_col6\" class=\"data row4 col6\" >0.0805</td>\n",
       "      <td id=\"T_1f2e9_row4_col7\" class=\"data row4 col7\" >0.0810</td>\n",
       "    </tr>\n",
       "  </tbody>\n",
       "</table>\n"
      ],
      "text/plain": [
       "<pandas.io.formats.style.Styler at 0x2646bd58c90>"
      ]
     },
     "metadata": {},
     "output_type": "display_data"
    },
    {
     "data": {
      "text/html": [],
      "text/plain": [
       "<IPython.core.display.HTML object>"
      ]
     },
     "metadata": {},
     "output_type": "display_data"
    },
    {
     "data": {
      "text/html": [
       "<div>\n",
       "<style scoped>\n",
       "    .dataframe tbody tr th:only-of-type {\n",
       "        vertical-align: middle;\n",
       "    }\n",
       "\n",
       "    .dataframe tbody tr th {\n",
       "        vertical-align: top;\n",
       "    }\n",
       "\n",
       "    .dataframe thead th {\n",
       "        text-align: right;\n",
       "    }\n",
       "</style>\n",
       "<table border=\"1\" class=\"dataframe\">\n",
       "  <thead>\n",
       "    <tr style=\"text-align: right;\">\n",
       "      <th></th>\n",
       "      <th>dataset</th>\n",
       "      <th>best_model</th>\n",
       "    </tr>\n",
       "  </thead>\n",
       "  <tbody>\n",
       "    <tr>\n",
       "      <th>0</th>\n",
       "      <td>morgan_Tanimoto_top10</td>\n",
       "      <td>LGBMRegressor(n_jobs=-1, random_state=123)</td>\n",
       "    </tr>\n",
       "    <tr>\n",
       "      <th>1</th>\n",
       "      <td>morgan_Dice_top10</td>\n",
       "      <td>LGBMRegressor(n_jobs=-1, random_state=123)</td>\n",
       "    </tr>\n",
       "    <tr>\n",
       "      <th>2</th>\n",
       "      <td>morgan_Cosine_top10</td>\n",
       "      <td>LGBMRegressor(n_jobs=-1, random_state=123)</td>\n",
       "    </tr>\n",
       "    <tr>\n",
       "      <th>3</th>\n",
       "      <td>morgan_Kulczynski_top10</td>\n",
       "      <td>LGBMRegressor(n_jobs=-1, random_state=123)</td>\n",
       "    </tr>\n",
       "    <tr>\n",
       "      <th>4</th>\n",
       "      <td>atom_pair_Tanimoto_top10</td>\n",
       "      <td>LGBMRegressor(n_jobs=-1, random_state=123)</td>\n",
       "    </tr>\n",
       "  </tbody>\n",
       "</table>\n",
       "</div>"
      ],
      "text/plain": [
       "                    dataset                                  best_model\n",
       "0     morgan_Tanimoto_top10  LGBMRegressor(n_jobs=-1, random_state=123)\n",
       "1         morgan_Dice_top10  LGBMRegressor(n_jobs=-1, random_state=123)\n",
       "2       morgan_Cosine_top10  LGBMRegressor(n_jobs=-1, random_state=123)\n",
       "3   morgan_Kulczynski_top10  LGBMRegressor(n_jobs=-1, random_state=123)\n",
       "4  atom_pair_Tanimoto_top10  LGBMRegressor(n_jobs=-1, random_state=123)"
      ]
     },
     "execution_count": 21,
     "metadata": {},
     "output_type": "execute_result"
    }
   ],
   "source": [
    "import pandas as pd\n",
    "from rdkit import Chem\n",
    "from rdkit.Chem import AllChem\n",
    "from pycaret.regression import *\n",
    "\n",
    "# Function to generate Morgan fingerprints\n",
    "def generate_morgan_fingerprint(smiles, radius=4, n_bits=2048):\n",
    "    mol = Chem.MolFromSmiles(smiles)\n",
    "    if mol:\n",
    "        fingerprint = AllChem.GetMorganFingerprintAsBitVect(mol, radius, nBits=n_bits, useChirality=True)\n",
    "        return list(fingerprint)\n",
    "    else:\n",
    "        return [0]*n_bits  # Return a list of zeros if the molecule is None\n",
    "\n",
    "# Add Morgan fingerprints to each dataframe in resulting_dfs\n",
    "fingerprint_dfs = {}\n",
    "for name, df in resulting_dfs.items():\n",
    "    df['Morgan_Fingerprint'] = df['smiles'].apply(generate_morgan_fingerprint)\n",
    "    morgan_df = pd.DataFrame(df['Morgan_Fingerprint'].tolist(), columns=[f'morgan_{i}' for i in range(2048)])\n",
    "    fingerprint_dfs[name] = pd.concat([df.drop(columns=['Morgan_Fingerprint']), morgan_df], axis=1)\n",
    "\n",
    "# PyCaret setup and model comparison\n",
    "results = []\n",
    "\n",
    "for name, df in fingerprint_dfs.items():\n",
    "    print(f\"Processing {name}...\")\n",
    "    X = df.iloc[:, 6:]  # Adjust column index as needed\n",
    "    y = df[\"GAP_calib\"]\n",
    "    \n",
    "    setup_data = pd.concat([X, y], axis=1)\n",
    "    regression_setup = setup(setup_data, target='GAP_calib', verbose=False, session_id=123, train_size=0.75)\n",
    "    models_to_include = ['xgboost', 'lightgbm', 'knn', 'br', 'huber']\n",
    "    best_model = compare_models(include=models_to_include)\n",
    "    \n",
    "    results.append({\n",
    "        'dataset': name,\n",
    "        'best_model': best_model\n",
    "    })\n",
    "\n",
    "# Convert results to DataFrame\n",
    "results_df = pd.DataFrame(results)\n",
    "results_df.head()"
   ]
  },
  {
   "cell_type": "code",
   "execution_count": 24,
   "metadata": {},
   "outputs": [
    {
     "name": "stdout",
     "output_type": "stream",
     "text": [
      "Processing morgan_Tanimoto_top10...\n",
      "Completed morgan_Tanimoto_top10!\n",
      "Processing morgan_Dice_top10...\n",
      "Completed morgan_Dice_top10!\n",
      "Processing morgan_Cosine_top10...\n",
      "Completed morgan_Cosine_top10!\n",
      "Processing morgan_Kulczynski_top10...\n",
      "Completed morgan_Kulczynski_top10!\n",
      "Processing atom_pair_Tanimoto_top10...\n",
      "Completed atom_pair_Tanimoto_top10!\n",
      "Processing atom_pair_Dice_top10...\n",
      "Completed atom_pair_Dice_top10!\n",
      "Processing atom_pair_Cosine_top10...\n",
      "Completed atom_pair_Cosine_top10!\n",
      "Processing atom_pair_Kulczynski_top10...\n",
      "Completed atom_pair_Kulczynski_top10!\n",
      "Processing maccs_Tanimoto_top10...\n",
      "Completed maccs_Tanimoto_top10!\n",
      "Processing maccs_Dice_top10...\n",
      "Completed maccs_Dice_top10!\n",
      "Processing maccs_Cosine_top10...\n",
      "Completed maccs_Cosine_top10!\n",
      "Processing maccs_Kulczynski_top10...\n",
      "Completed maccs_Kulczynski_top10!\n"
     ]
    },
    {
     "data": {
      "text/html": [
       "<div>\n",
       "<style scoped>\n",
       "    .dataframe tbody tr th:only-of-type {\n",
       "        vertical-align: middle;\n",
       "    }\n",
       "\n",
       "    .dataframe tbody tr th {\n",
       "        vertical-align: top;\n",
       "    }\n",
       "\n",
       "    .dataframe thead th {\n",
       "        text-align: right;\n",
       "    }\n",
       "</style>\n",
       "<table border=\"1\" class=\"dataframe\">\n",
       "  <thead>\n",
       "    <tr style=\"text-align: right;\">\n",
       "      <th></th>\n",
       "      <th>Model</th>\n",
       "      <th>MAE</th>\n",
       "      <th>MSE</th>\n",
       "      <th>RMSE</th>\n",
       "      <th>R2</th>\n",
       "      <th>RMSLE</th>\n",
       "      <th>MAPE</th>\n",
       "      <th>TT (Sec)</th>\n",
       "      <th>dataset</th>\n",
       "    </tr>\n",
       "  </thead>\n",
       "  <tbody>\n",
       "    <tr>\n",
       "      <th>0</th>\n",
       "      <td>Light Gradient Boosting Machine</td>\n",
       "      <td>0.1495</td>\n",
       "      <td>0.0441</td>\n",
       "      <td>0.2086</td>\n",
       "      <td>0.8731</td>\n",
       "      <td>0.0553</td>\n",
       "      <td>0.0566</td>\n",
       "      <td>1.214</td>\n",
       "      <td>morgan_Tanimoto_top10</td>\n",
       "    </tr>\n",
       "    <tr>\n",
       "      <th>1</th>\n",
       "      <td>Extreme Gradient Boosting</td>\n",
       "      <td>0.1532</td>\n",
       "      <td>0.0472</td>\n",
       "      <td>0.2158</td>\n",
       "      <td>0.8640</td>\n",
       "      <td>0.0582</td>\n",
       "      <td>0.0580</td>\n",
       "      <td>1.035</td>\n",
       "      <td>morgan_Tanimoto_top10</td>\n",
       "    </tr>\n",
       "    <tr>\n",
       "      <th>2</th>\n",
       "      <td>Bayesian Ridge</td>\n",
       "      <td>0.1732</td>\n",
       "      <td>0.0559</td>\n",
       "      <td>0.2352</td>\n",
       "      <td>0.8388</td>\n",
       "      <td>0.0635</td>\n",
       "      <td>0.0664</td>\n",
       "      <td>3.593</td>\n",
       "      <td>morgan_Tanimoto_top10</td>\n",
       "    </tr>\n",
       "    <tr>\n",
       "      <th>3</th>\n",
       "      <td>Huber Regressor</td>\n",
       "      <td>0.1918</td>\n",
       "      <td>0.0690</td>\n",
       "      <td>0.2619</td>\n",
       "      <td>0.8003</td>\n",
       "      <td>0.0715</td>\n",
       "      <td>0.0734</td>\n",
       "      <td>1.774</td>\n",
       "      <td>morgan_Tanimoto_top10</td>\n",
       "    </tr>\n",
       "    <tr>\n",
       "      <th>4</th>\n",
       "      <td>K Neighbors Regressor</td>\n",
       "      <td>0.2283</td>\n",
       "      <td>0.1085</td>\n",
       "      <td>0.3283</td>\n",
       "      <td>0.6866</td>\n",
       "      <td>0.0905</td>\n",
       "      <td>0.0925</td>\n",
       "      <td>0.325</td>\n",
       "      <td>morgan_Tanimoto_top10</td>\n",
       "    </tr>\n",
       "  </tbody>\n",
       "</table>\n",
       "</div>"
      ],
      "text/plain": [
       "                             Model     MAE     MSE    RMSE      R2   RMSLE  \\\n",
       "0  Light Gradient Boosting Machine  0.1495  0.0441  0.2086  0.8731  0.0553   \n",
       "1        Extreme Gradient Boosting  0.1532  0.0472  0.2158  0.8640  0.0582   \n",
       "2                   Bayesian Ridge  0.1732  0.0559  0.2352  0.8388  0.0635   \n",
       "3                  Huber Regressor  0.1918  0.0690  0.2619  0.8003  0.0715   \n",
       "4            K Neighbors Regressor  0.2283  0.1085  0.3283  0.6866  0.0905   \n",
       "\n",
       "     MAPE  TT (Sec)                dataset  \n",
       "0  0.0566     1.214  morgan_Tanimoto_top10  \n",
       "1  0.0580     1.035  morgan_Tanimoto_top10  \n",
       "2  0.0664     3.593  morgan_Tanimoto_top10  \n",
       "3  0.0734     1.774  morgan_Tanimoto_top10  \n",
       "4  0.0925     0.325  morgan_Tanimoto_top10  "
      ]
     },
     "execution_count": 24,
     "metadata": {},
     "output_type": "execute_result"
    }
   ],
   "source": [
    "import pandas as pd\n",
    "from rdkit import Chem\n",
    "from rdkit.Chem import AllChem\n",
    "from pycaret.regression import *\n",
    "\n",
    "# Step 1: Generate Morgan fingerprints for each dataframe in resulting_dfs\n",
    "def generate_morgan_fingerprint(smiles, radius=4, n_bits=2048):\n",
    "    mol = Chem.MolFromSmiles(smiles)\n",
    "    if mol:\n",
    "        fingerprint = AllChem.GetMorganFingerprintAsBitVect(mol, radius, nBits=n_bits, useChirality=True)\n",
    "        return list(fingerprint)\n",
    "    else:\n",
    "        return [0]*n_bits  # Return a list of zeros if the molecule is None\n",
    "\n",
    "fingerprint_dfs = {}\n",
    "for name, df in resulting_dfs.items():\n",
    "    df['Morgan_Fingerprint'] = df['smiles'].apply(generate_morgan_fingerprint)\n",
    "    morgan_df = pd.DataFrame(df['Morgan_Fingerprint'].tolist(), columns=[f'morgan_{i}' for i in range(2048)])\n",
    "    fingerprint_dfs[name] = pd.concat([df.drop(columns=['Morgan_Fingerprint']), morgan_df], axis=1)\n",
    "\n",
    "# Step 2: Define a function to train models and get results\n",
    "def train_models_and_get_results(df, models_to_include=['xgboost', 'lightgbm', 'knn', 'br', 'huber']):\n",
    "    X = df.iloc[:, 6:] \n",
    "    y = df[\"GAP_calib\"]\n",
    "    \n",
    "    setup_data = pd.concat([X, y], axis=1)\n",
    "    regression_setup = setup(setup_data, target='GAP_calib', verbose=False, session_id=123, train_size=0.75)\n",
    "    best_model = compare_models(include=models_to_include, verbose=False)\n",
    "\n",
    "    model_results = pull()\n",
    "    model_results['dataset'] = df['dataset_name'].iloc[0] \n",
    "    \n",
    "    return model_results\n",
    "\n",
    "# Step 3: Run the loop to apply the function to each dataframe in fingerprint_dfs\n",
    "all_results = []\n",
    "for name, df in fingerprint_dfs.items():\n",
    "    print(f\"Processing {name}...\")\n",
    "    df['dataset_name'] = name \n",
    "    model_results = train_models_and_get_results(df)\n",
    "    all_results.append(model_results)\n",
    "    print(f\"Completed {name}!\")\n",
    "\n",
    "# Step 4: Collect final results and save\n",
    "final_results = pd.concat(all_results, ignore_index=True)\n",
    "final_results.to_csv(path_or_buf=r\"C:\\Users\\Chamod Peiris\\Documents\\Curcumin_Scripts\\Similarity_model_comparison_results.csv\", index=False)\n",
    "final_results.head()"
   ]
  },
  {
   "cell_type": "code",
   "execution_count": 48,
   "metadata": {},
   "outputs": [
    {
     "data": {
      "application/vnd.plotly.v1+json": {
       "config": {
        "plotlyServerURL": "https://plot.ly"
       },
       "data": [
        {
         "name": "R2 Score (Fingerprint)",
         "text": [
          0.790095,
          0.80648,
          0.81701
         ],
         "textposition": "auto",
         "type": "bar",
         "x": [
          "atom",
          "maccs",
          "morgan"
         ],
         "y": [
          0.790095,
          0.80648,
          0.81701
         ]
        },
        {
         "mode": "lines+markers",
         "name": "RMSE Score (Fingerprint)",
         "type": "scatter",
         "x": [
          "atom",
          "maccs",
          "morgan"
         ],
         "y": [
          0.230545,
          0.24233500000000002,
          0.24516999999999997
         ],
         "yaxis": "y2"
        }
       ],
       "layout": {
        "barmode": "group",
        "height": 600,
        "legend": {
         "orientation": "h",
         "x": 1,
         "xanchor": "center",
         "y": 1.15
        },
        "template": {
         "data": {
          "bar": [
           {
            "error_x": {
             "color": "#2a3f5f"
            },
            "error_y": {
             "color": "#2a3f5f"
            },
            "marker": {
             "line": {
              "color": "#E5ECF6",
              "width": 0.5
             },
             "pattern": {
              "fillmode": "overlay",
              "size": 10,
              "solidity": 0.2
             }
            },
            "type": "bar"
           }
          ],
          "barpolar": [
           {
            "marker": {
             "line": {
              "color": "#E5ECF6",
              "width": 0.5
             },
             "pattern": {
              "fillmode": "overlay",
              "size": 10,
              "solidity": 0.2
             }
            },
            "type": "barpolar"
           }
          ],
          "carpet": [
           {
            "aaxis": {
             "endlinecolor": "#2a3f5f",
             "gridcolor": "white",
             "linecolor": "white",
             "minorgridcolor": "white",
             "startlinecolor": "#2a3f5f"
            },
            "baxis": {
             "endlinecolor": "#2a3f5f",
             "gridcolor": "white",
             "linecolor": "white",
             "minorgridcolor": "white",
             "startlinecolor": "#2a3f5f"
            },
            "type": "carpet"
           }
          ],
          "choropleth": [
           {
            "colorbar": {
             "outlinewidth": 0,
             "ticks": ""
            },
            "type": "choropleth"
           }
          ],
          "contour": [
           {
            "colorbar": {
             "outlinewidth": 0,
             "ticks": ""
            },
            "colorscale": [
             [
              0,
              "#0d0887"
             ],
             [
              0.1111111111111111,
              "#46039f"
             ],
             [
              0.2222222222222222,
              "#7201a8"
             ],
             [
              0.3333333333333333,
              "#9c179e"
             ],
             [
              0.4444444444444444,
              "#bd3786"
             ],
             [
              0.5555555555555556,
              "#d8576b"
             ],
             [
              0.6666666666666666,
              "#ed7953"
             ],
             [
              0.7777777777777778,
              "#fb9f3a"
             ],
             [
              0.8888888888888888,
              "#fdca26"
             ],
             [
              1,
              "#f0f921"
             ]
            ],
            "type": "contour"
           }
          ],
          "contourcarpet": [
           {
            "colorbar": {
             "outlinewidth": 0,
             "ticks": ""
            },
            "type": "contourcarpet"
           }
          ],
          "heatmap": [
           {
            "colorbar": {
             "outlinewidth": 0,
             "ticks": ""
            },
            "colorscale": [
             [
              0,
              "#0d0887"
             ],
             [
              0.1111111111111111,
              "#46039f"
             ],
             [
              0.2222222222222222,
              "#7201a8"
             ],
             [
              0.3333333333333333,
              "#9c179e"
             ],
             [
              0.4444444444444444,
              "#bd3786"
             ],
             [
              0.5555555555555556,
              "#d8576b"
             ],
             [
              0.6666666666666666,
              "#ed7953"
             ],
             [
              0.7777777777777778,
              "#fb9f3a"
             ],
             [
              0.8888888888888888,
              "#fdca26"
             ],
             [
              1,
              "#f0f921"
             ]
            ],
            "type": "heatmap"
           }
          ],
          "heatmapgl": [
           {
            "colorbar": {
             "outlinewidth": 0,
             "ticks": ""
            },
            "colorscale": [
             [
              0,
              "#0d0887"
             ],
             [
              0.1111111111111111,
              "#46039f"
             ],
             [
              0.2222222222222222,
              "#7201a8"
             ],
             [
              0.3333333333333333,
              "#9c179e"
             ],
             [
              0.4444444444444444,
              "#bd3786"
             ],
             [
              0.5555555555555556,
              "#d8576b"
             ],
             [
              0.6666666666666666,
              "#ed7953"
             ],
             [
              0.7777777777777778,
              "#fb9f3a"
             ],
             [
              0.8888888888888888,
              "#fdca26"
             ],
             [
              1,
              "#f0f921"
             ]
            ],
            "type": "heatmapgl"
           }
          ],
          "histogram": [
           {
            "marker": {
             "pattern": {
              "fillmode": "overlay",
              "size": 10,
              "solidity": 0.2
             }
            },
            "type": "histogram"
           }
          ],
          "histogram2d": [
           {
            "colorbar": {
             "outlinewidth": 0,
             "ticks": ""
            },
            "colorscale": [
             [
              0,
              "#0d0887"
             ],
             [
              0.1111111111111111,
              "#46039f"
             ],
             [
              0.2222222222222222,
              "#7201a8"
             ],
             [
              0.3333333333333333,
              "#9c179e"
             ],
             [
              0.4444444444444444,
              "#bd3786"
             ],
             [
              0.5555555555555556,
              "#d8576b"
             ],
             [
              0.6666666666666666,
              "#ed7953"
             ],
             [
              0.7777777777777778,
              "#fb9f3a"
             ],
             [
              0.8888888888888888,
              "#fdca26"
             ],
             [
              1,
              "#f0f921"
             ]
            ],
            "type": "histogram2d"
           }
          ],
          "histogram2dcontour": [
           {
            "colorbar": {
             "outlinewidth": 0,
             "ticks": ""
            },
            "colorscale": [
             [
              0,
              "#0d0887"
             ],
             [
              0.1111111111111111,
              "#46039f"
             ],
             [
              0.2222222222222222,
              "#7201a8"
             ],
             [
              0.3333333333333333,
              "#9c179e"
             ],
             [
              0.4444444444444444,
              "#bd3786"
             ],
             [
              0.5555555555555556,
              "#d8576b"
             ],
             [
              0.6666666666666666,
              "#ed7953"
             ],
             [
              0.7777777777777778,
              "#fb9f3a"
             ],
             [
              0.8888888888888888,
              "#fdca26"
             ],
             [
              1,
              "#f0f921"
             ]
            ],
            "type": "histogram2dcontour"
           }
          ],
          "mesh3d": [
           {
            "colorbar": {
             "outlinewidth": 0,
             "ticks": ""
            },
            "type": "mesh3d"
           }
          ],
          "parcoords": [
           {
            "line": {
             "colorbar": {
              "outlinewidth": 0,
              "ticks": ""
             }
            },
            "type": "parcoords"
           }
          ],
          "pie": [
           {
            "automargin": true,
            "type": "pie"
           }
          ],
          "scatter": [
           {
            "fillpattern": {
             "fillmode": "overlay",
             "size": 10,
             "solidity": 0.2
            },
            "type": "scatter"
           }
          ],
          "scatter3d": [
           {
            "line": {
             "colorbar": {
              "outlinewidth": 0,
              "ticks": ""
             }
            },
            "marker": {
             "colorbar": {
              "outlinewidth": 0,
              "ticks": ""
             }
            },
            "type": "scatter3d"
           }
          ],
          "scattercarpet": [
           {
            "marker": {
             "colorbar": {
              "outlinewidth": 0,
              "ticks": ""
             }
            },
            "type": "scattercarpet"
           }
          ],
          "scattergeo": [
           {
            "marker": {
             "colorbar": {
              "outlinewidth": 0,
              "ticks": ""
             }
            },
            "type": "scattergeo"
           }
          ],
          "scattergl": [
           {
            "marker": {
             "colorbar": {
              "outlinewidth": 0,
              "ticks": ""
             }
            },
            "type": "scattergl"
           }
          ],
          "scattermapbox": [
           {
            "marker": {
             "colorbar": {
              "outlinewidth": 0,
              "ticks": ""
             }
            },
            "type": "scattermapbox"
           }
          ],
          "scatterpolar": [
           {
            "marker": {
             "colorbar": {
              "outlinewidth": 0,
              "ticks": ""
             }
            },
            "type": "scatterpolar"
           }
          ],
          "scatterpolargl": [
           {
            "marker": {
             "colorbar": {
              "outlinewidth": 0,
              "ticks": ""
             }
            },
            "type": "scatterpolargl"
           }
          ],
          "scatterternary": [
           {
            "marker": {
             "colorbar": {
              "outlinewidth": 0,
              "ticks": ""
             }
            },
            "type": "scatterternary"
           }
          ],
          "surface": [
           {
            "colorbar": {
             "outlinewidth": 0,
             "ticks": ""
            },
            "colorscale": [
             [
              0,
              "#0d0887"
             ],
             [
              0.1111111111111111,
              "#46039f"
             ],
             [
              0.2222222222222222,
              "#7201a8"
             ],
             [
              0.3333333333333333,
              "#9c179e"
             ],
             [
              0.4444444444444444,
              "#bd3786"
             ],
             [
              0.5555555555555556,
              "#d8576b"
             ],
             [
              0.6666666666666666,
              "#ed7953"
             ],
             [
              0.7777777777777778,
              "#fb9f3a"
             ],
             [
              0.8888888888888888,
              "#fdca26"
             ],
             [
              1,
              "#f0f921"
             ]
            ],
            "type": "surface"
           }
          ],
          "table": [
           {
            "cells": {
             "fill": {
              "color": "#EBF0F8"
             },
             "line": {
              "color": "white"
             }
            },
            "header": {
             "fill": {
              "color": "#C8D4E3"
             },
             "line": {
              "color": "white"
             }
            },
            "type": "table"
           }
          ]
         },
         "layout": {
          "annotationdefaults": {
           "arrowcolor": "#2a3f5f",
           "arrowhead": 0,
           "arrowwidth": 1
          },
          "autotypenumbers": "strict",
          "coloraxis": {
           "colorbar": {
            "outlinewidth": 0,
            "ticks": ""
           }
          },
          "colorscale": {
           "diverging": [
            [
             0,
             "#8e0152"
            ],
            [
             0.1,
             "#c51b7d"
            ],
            [
             0.2,
             "#de77ae"
            ],
            [
             0.3,
             "#f1b6da"
            ],
            [
             0.4,
             "#fde0ef"
            ],
            [
             0.5,
             "#f7f7f7"
            ],
            [
             0.6,
             "#e6f5d0"
            ],
            [
             0.7,
             "#b8e186"
            ],
            [
             0.8,
             "#7fbc41"
            ],
            [
             0.9,
             "#4d9221"
            ],
            [
             1,
             "#276419"
            ]
           ],
           "sequential": [
            [
             0,
             "#0d0887"
            ],
            [
             0.1111111111111111,
             "#46039f"
            ],
            [
             0.2222222222222222,
             "#7201a8"
            ],
            [
             0.3333333333333333,
             "#9c179e"
            ],
            [
             0.4444444444444444,
             "#bd3786"
            ],
            [
             0.5555555555555556,
             "#d8576b"
            ],
            [
             0.6666666666666666,
             "#ed7953"
            ],
            [
             0.7777777777777778,
             "#fb9f3a"
            ],
            [
             0.8888888888888888,
             "#fdca26"
            ],
            [
             1,
             "#f0f921"
            ]
           ],
           "sequentialminus": [
            [
             0,
             "#0d0887"
            ],
            [
             0.1111111111111111,
             "#46039f"
            ],
            [
             0.2222222222222222,
             "#7201a8"
            ],
            [
             0.3333333333333333,
             "#9c179e"
            ],
            [
             0.4444444444444444,
             "#bd3786"
            ],
            [
             0.5555555555555556,
             "#d8576b"
            ],
            [
             0.6666666666666666,
             "#ed7953"
            ],
            [
             0.7777777777777778,
             "#fb9f3a"
            ],
            [
             0.8888888888888888,
             "#fdca26"
            ],
            [
             1,
             "#f0f921"
            ]
           ]
          },
          "colorway": [
           "#636efa",
           "#EF553B",
           "#00cc96",
           "#ab63fa",
           "#FFA15A",
           "#19d3f3",
           "#FF6692",
           "#B6E880",
           "#FF97FF",
           "#FECB52"
          ],
          "font": {
           "color": "#2a3f5f"
          },
          "geo": {
           "bgcolor": "white",
           "lakecolor": "white",
           "landcolor": "#E5ECF6",
           "showlakes": true,
           "showland": true,
           "subunitcolor": "white"
          },
          "hoverlabel": {
           "align": "left"
          },
          "hovermode": "closest",
          "mapbox": {
           "style": "light"
          },
          "paper_bgcolor": "white",
          "plot_bgcolor": "#E5ECF6",
          "polar": {
           "angularaxis": {
            "gridcolor": "white",
            "linecolor": "white",
            "ticks": ""
           },
           "bgcolor": "#E5ECF6",
           "radialaxis": {
            "gridcolor": "white",
            "linecolor": "white",
            "ticks": ""
           }
          },
          "scene": {
           "xaxis": {
            "backgroundcolor": "#E5ECF6",
            "gridcolor": "white",
            "gridwidth": 2,
            "linecolor": "white",
            "showbackground": true,
            "ticks": "",
            "zerolinecolor": "white"
           },
           "yaxis": {
            "backgroundcolor": "#E5ECF6",
            "gridcolor": "white",
            "gridwidth": 2,
            "linecolor": "white",
            "showbackground": true,
            "ticks": "",
            "zerolinecolor": "white"
           },
           "zaxis": {
            "backgroundcolor": "#E5ECF6",
            "gridcolor": "white",
            "gridwidth": 2,
            "linecolor": "white",
            "showbackground": true,
            "ticks": "",
            "zerolinecolor": "white"
           }
          },
          "shapedefaults": {
           "line": {
            "color": "#2a3f5f"
           }
          },
          "ternary": {
           "aaxis": {
            "gridcolor": "white",
            "linecolor": "white",
            "ticks": ""
           },
           "baxis": {
            "gridcolor": "white",
            "linecolor": "white",
            "ticks": ""
           },
           "bgcolor": "#E5ECF6",
           "caxis": {
            "gridcolor": "white",
            "linecolor": "white",
            "ticks": ""
           }
          },
          "title": {
           "x": 0.05
          },
          "xaxis": {
           "automargin": true,
           "gridcolor": "white",
           "linecolor": "white",
           "ticks": "",
           "title": {
            "standoff": 15
           },
           "zerolinecolor": "white",
           "zerolinewidth": 2
          },
          "yaxis": {
           "automargin": true,
           "gridcolor": "white",
           "linecolor": "white",
           "ticks": "",
           "title": {
            "standoff": 15
           },
           "zerolinecolor": "white",
           "zerolinewidth": 2
          }
         }
        },
        "title": {
         "text": "Average R2 and RMSE Scores by Fingerprint"
        },
        "width": 900,
        "xaxis": {
         "title": {
          "text": "Fingerprint"
         }
        },
        "yaxis": {
         "range": [
          0.6,
          0.85
         ],
         "title": {
          "text": "R2 Score"
         }
        },
        "yaxis2": {
         "overlaying": "y",
         "side": "right",
         "title": {
          "text": "RMSE Score"
         }
        }
       }
      }
     },
     "metadata": {},
     "output_type": "display_data"
    }
   ],
   "source": [
    "import plotly.graph_objects as go\n",
    "import pandas as pd\n",
    "\n",
    "# Extract fingerprint and similarity from 'dataset' column\n",
    "final_results['Fingerprint'] = final_results['dataset'].apply(lambda x: x.split('_')[0])\n",
    "final_results['Similarity'] = final_results['dataset'].apply(lambda x: x.split('_')[1])\n",
    "\n",
    "# Group by Fingerprint\n",
    "fingerprint_group = final_results.groupby('Fingerprint').agg({'R2': 'mean', 'RMSE': 'mean'}).reset_index()\n",
    "\n",
    "# Create the figure for Fingerprint-wise averages\n",
    "fig_fingerprint = go.Figure()\n",
    "\n",
    "# R2 Score\n",
    "fig_fingerprint.add_trace(go.Bar(\n",
    "    x=fingerprint_group['Fingerprint'],\n",
    "    y=fingerprint_group['R2'],\n",
    "    name='R2 Score (Fingerprint)',\n",
    "    text=fingerprint_group['R2'],\n",
    "    textposition='auto'\n",
    "))\n",
    "\n",
    "# RMSE Score\n",
    "fig_fingerprint.add_trace(go.Scatter(\n",
    "    x=fingerprint_group['Fingerprint'],\n",
    "    y=fingerprint_group['RMSE'],\n",
    "    name='RMSE Score (Fingerprint)',\n",
    "    mode='lines+markers',\n",
    "    yaxis='y2'\n",
    "))\n",
    "\n",
    "# Update layout for Fingerprint plot\n",
    "fig_fingerprint.update_layout(\n",
    "    title='Average R2 and RMSE Scores by Fingerprint',\n",
    "    xaxis_title='Fingerprint',\n",
    "    yaxis_title='R2 Score',\n",
    "    yaxis=dict(range=[0.6, 0.85]),\n",
    "    yaxis2=dict(\n",
    "        title='RMSE Score',\n",
    "        overlaying='y',\n",
    "        side='right'\n",
    "    ),\n",
    "    barmode='group',\n",
    "    width=900,height=600,\n",
    "        legend=dict(\n",
    "        orientation='h',\n",
    "        x=1,\n",
    "        xanchor='center',\n",
    "        y=1.15\n",
    "    )\n",
    ")\n",
    "\n",
    "fig_fingerprint.show()"
   ]
  },
  {
   "cell_type": "code",
   "execution_count": 50,
   "metadata": {},
   "outputs": [
    {
     "data": {
      "application/vnd.plotly.v1+json": {
       "config": {
        "plotlyServerURL": "https://plot.ly"
       },
       "data": [
        {
         "name": "R2 Score (Similarity)",
         "text": [
          "0.8125",
          "0.8068",
          "0.8209",
          "0.8068",
          "0.7901"
         ],
         "textposition": "auto",
         "type": "bar",
         "x": [
          "Cosine",
          "Dice",
          "Kulczynski",
          "Tanimoto",
          "pair"
         ],
         "y": [
          0.81254,
          0.8067500000000001,
          0.82094,
          0.8067500000000001,
          0.790095
         ]
        },
        {
         "mode": "lines+markers",
         "name": "RMSE Score (Similarity)",
         "type": "scatter",
         "x": [
          "Cosine",
          "Dice",
          "Kulczynski",
          "Tanimoto",
          "pair"
         ],
         "y": [
          0.24341999999999997,
          0.24763000000000002,
          0.23633,
          0.24763000000000002,
          0.230545
         ],
         "yaxis": "y2"
        }
       ],
       "layout": {
        "barmode": "group",
        "height": 600,
        "legend": {
         "orientation": "h",
         "x": 1,
         "xanchor": "center",
         "y": 1.15
        },
        "template": {
         "data": {
          "bar": [
           {
            "error_x": {
             "color": "#2a3f5f"
            },
            "error_y": {
             "color": "#2a3f5f"
            },
            "marker": {
             "line": {
              "color": "#E5ECF6",
              "width": 0.5
             },
             "pattern": {
              "fillmode": "overlay",
              "size": 10,
              "solidity": 0.2
             }
            },
            "type": "bar"
           }
          ],
          "barpolar": [
           {
            "marker": {
             "line": {
              "color": "#E5ECF6",
              "width": 0.5
             },
             "pattern": {
              "fillmode": "overlay",
              "size": 10,
              "solidity": 0.2
             }
            },
            "type": "barpolar"
           }
          ],
          "carpet": [
           {
            "aaxis": {
             "endlinecolor": "#2a3f5f",
             "gridcolor": "white",
             "linecolor": "white",
             "minorgridcolor": "white",
             "startlinecolor": "#2a3f5f"
            },
            "baxis": {
             "endlinecolor": "#2a3f5f",
             "gridcolor": "white",
             "linecolor": "white",
             "minorgridcolor": "white",
             "startlinecolor": "#2a3f5f"
            },
            "type": "carpet"
           }
          ],
          "choropleth": [
           {
            "colorbar": {
             "outlinewidth": 0,
             "ticks": ""
            },
            "type": "choropleth"
           }
          ],
          "contour": [
           {
            "colorbar": {
             "outlinewidth": 0,
             "ticks": ""
            },
            "colorscale": [
             [
              0,
              "#0d0887"
             ],
             [
              0.1111111111111111,
              "#46039f"
             ],
             [
              0.2222222222222222,
              "#7201a8"
             ],
             [
              0.3333333333333333,
              "#9c179e"
             ],
             [
              0.4444444444444444,
              "#bd3786"
             ],
             [
              0.5555555555555556,
              "#d8576b"
             ],
             [
              0.6666666666666666,
              "#ed7953"
             ],
             [
              0.7777777777777778,
              "#fb9f3a"
             ],
             [
              0.8888888888888888,
              "#fdca26"
             ],
             [
              1,
              "#f0f921"
             ]
            ],
            "type": "contour"
           }
          ],
          "contourcarpet": [
           {
            "colorbar": {
             "outlinewidth": 0,
             "ticks": ""
            },
            "type": "contourcarpet"
           }
          ],
          "heatmap": [
           {
            "colorbar": {
             "outlinewidth": 0,
             "ticks": ""
            },
            "colorscale": [
             [
              0,
              "#0d0887"
             ],
             [
              0.1111111111111111,
              "#46039f"
             ],
             [
              0.2222222222222222,
              "#7201a8"
             ],
             [
              0.3333333333333333,
              "#9c179e"
             ],
             [
              0.4444444444444444,
              "#bd3786"
             ],
             [
              0.5555555555555556,
              "#d8576b"
             ],
             [
              0.6666666666666666,
              "#ed7953"
             ],
             [
              0.7777777777777778,
              "#fb9f3a"
             ],
             [
              0.8888888888888888,
              "#fdca26"
             ],
             [
              1,
              "#f0f921"
             ]
            ],
            "type": "heatmap"
           }
          ],
          "heatmapgl": [
           {
            "colorbar": {
             "outlinewidth": 0,
             "ticks": ""
            },
            "colorscale": [
             [
              0,
              "#0d0887"
             ],
             [
              0.1111111111111111,
              "#46039f"
             ],
             [
              0.2222222222222222,
              "#7201a8"
             ],
             [
              0.3333333333333333,
              "#9c179e"
             ],
             [
              0.4444444444444444,
              "#bd3786"
             ],
             [
              0.5555555555555556,
              "#d8576b"
             ],
             [
              0.6666666666666666,
              "#ed7953"
             ],
             [
              0.7777777777777778,
              "#fb9f3a"
             ],
             [
              0.8888888888888888,
              "#fdca26"
             ],
             [
              1,
              "#f0f921"
             ]
            ],
            "type": "heatmapgl"
           }
          ],
          "histogram": [
           {
            "marker": {
             "pattern": {
              "fillmode": "overlay",
              "size": 10,
              "solidity": 0.2
             }
            },
            "type": "histogram"
           }
          ],
          "histogram2d": [
           {
            "colorbar": {
             "outlinewidth": 0,
             "ticks": ""
            },
            "colorscale": [
             [
              0,
              "#0d0887"
             ],
             [
              0.1111111111111111,
              "#46039f"
             ],
             [
              0.2222222222222222,
              "#7201a8"
             ],
             [
              0.3333333333333333,
              "#9c179e"
             ],
             [
              0.4444444444444444,
              "#bd3786"
             ],
             [
              0.5555555555555556,
              "#d8576b"
             ],
             [
              0.6666666666666666,
              "#ed7953"
             ],
             [
              0.7777777777777778,
              "#fb9f3a"
             ],
             [
              0.8888888888888888,
              "#fdca26"
             ],
             [
              1,
              "#f0f921"
             ]
            ],
            "type": "histogram2d"
           }
          ],
          "histogram2dcontour": [
           {
            "colorbar": {
             "outlinewidth": 0,
             "ticks": ""
            },
            "colorscale": [
             [
              0,
              "#0d0887"
             ],
             [
              0.1111111111111111,
              "#46039f"
             ],
             [
              0.2222222222222222,
              "#7201a8"
             ],
             [
              0.3333333333333333,
              "#9c179e"
             ],
             [
              0.4444444444444444,
              "#bd3786"
             ],
             [
              0.5555555555555556,
              "#d8576b"
             ],
             [
              0.6666666666666666,
              "#ed7953"
             ],
             [
              0.7777777777777778,
              "#fb9f3a"
             ],
             [
              0.8888888888888888,
              "#fdca26"
             ],
             [
              1,
              "#f0f921"
             ]
            ],
            "type": "histogram2dcontour"
           }
          ],
          "mesh3d": [
           {
            "colorbar": {
             "outlinewidth": 0,
             "ticks": ""
            },
            "type": "mesh3d"
           }
          ],
          "parcoords": [
           {
            "line": {
             "colorbar": {
              "outlinewidth": 0,
              "ticks": ""
             }
            },
            "type": "parcoords"
           }
          ],
          "pie": [
           {
            "automargin": true,
            "type": "pie"
           }
          ],
          "scatter": [
           {
            "fillpattern": {
             "fillmode": "overlay",
             "size": 10,
             "solidity": 0.2
            },
            "type": "scatter"
           }
          ],
          "scatter3d": [
           {
            "line": {
             "colorbar": {
              "outlinewidth": 0,
              "ticks": ""
             }
            },
            "marker": {
             "colorbar": {
              "outlinewidth": 0,
              "ticks": ""
             }
            },
            "type": "scatter3d"
           }
          ],
          "scattercarpet": [
           {
            "marker": {
             "colorbar": {
              "outlinewidth": 0,
              "ticks": ""
             }
            },
            "type": "scattercarpet"
           }
          ],
          "scattergeo": [
           {
            "marker": {
             "colorbar": {
              "outlinewidth": 0,
              "ticks": ""
             }
            },
            "type": "scattergeo"
           }
          ],
          "scattergl": [
           {
            "marker": {
             "colorbar": {
              "outlinewidth": 0,
              "ticks": ""
             }
            },
            "type": "scattergl"
           }
          ],
          "scattermapbox": [
           {
            "marker": {
             "colorbar": {
              "outlinewidth": 0,
              "ticks": ""
             }
            },
            "type": "scattermapbox"
           }
          ],
          "scatterpolar": [
           {
            "marker": {
             "colorbar": {
              "outlinewidth": 0,
              "ticks": ""
             }
            },
            "type": "scatterpolar"
           }
          ],
          "scatterpolargl": [
           {
            "marker": {
             "colorbar": {
              "outlinewidth": 0,
              "ticks": ""
             }
            },
            "type": "scatterpolargl"
           }
          ],
          "scatterternary": [
           {
            "marker": {
             "colorbar": {
              "outlinewidth": 0,
              "ticks": ""
             }
            },
            "type": "scatterternary"
           }
          ],
          "surface": [
           {
            "colorbar": {
             "outlinewidth": 0,
             "ticks": ""
            },
            "colorscale": [
             [
              0,
              "#0d0887"
             ],
             [
              0.1111111111111111,
              "#46039f"
             ],
             [
              0.2222222222222222,
              "#7201a8"
             ],
             [
              0.3333333333333333,
              "#9c179e"
             ],
             [
              0.4444444444444444,
              "#bd3786"
             ],
             [
              0.5555555555555556,
              "#d8576b"
             ],
             [
              0.6666666666666666,
              "#ed7953"
             ],
             [
              0.7777777777777778,
              "#fb9f3a"
             ],
             [
              0.8888888888888888,
              "#fdca26"
             ],
             [
              1,
              "#f0f921"
             ]
            ],
            "type": "surface"
           }
          ],
          "table": [
           {
            "cells": {
             "fill": {
              "color": "#EBF0F8"
             },
             "line": {
              "color": "white"
             }
            },
            "header": {
             "fill": {
              "color": "#C8D4E3"
             },
             "line": {
              "color": "white"
             }
            },
            "type": "table"
           }
          ]
         },
         "layout": {
          "annotationdefaults": {
           "arrowcolor": "#2a3f5f",
           "arrowhead": 0,
           "arrowwidth": 1
          },
          "autotypenumbers": "strict",
          "coloraxis": {
           "colorbar": {
            "outlinewidth": 0,
            "ticks": ""
           }
          },
          "colorscale": {
           "diverging": [
            [
             0,
             "#8e0152"
            ],
            [
             0.1,
             "#c51b7d"
            ],
            [
             0.2,
             "#de77ae"
            ],
            [
             0.3,
             "#f1b6da"
            ],
            [
             0.4,
             "#fde0ef"
            ],
            [
             0.5,
             "#f7f7f7"
            ],
            [
             0.6,
             "#e6f5d0"
            ],
            [
             0.7,
             "#b8e186"
            ],
            [
             0.8,
             "#7fbc41"
            ],
            [
             0.9,
             "#4d9221"
            ],
            [
             1,
             "#276419"
            ]
           ],
           "sequential": [
            [
             0,
             "#0d0887"
            ],
            [
             0.1111111111111111,
             "#46039f"
            ],
            [
             0.2222222222222222,
             "#7201a8"
            ],
            [
             0.3333333333333333,
             "#9c179e"
            ],
            [
             0.4444444444444444,
             "#bd3786"
            ],
            [
             0.5555555555555556,
             "#d8576b"
            ],
            [
             0.6666666666666666,
             "#ed7953"
            ],
            [
             0.7777777777777778,
             "#fb9f3a"
            ],
            [
             0.8888888888888888,
             "#fdca26"
            ],
            [
             1,
             "#f0f921"
            ]
           ],
           "sequentialminus": [
            [
             0,
             "#0d0887"
            ],
            [
             0.1111111111111111,
             "#46039f"
            ],
            [
             0.2222222222222222,
             "#7201a8"
            ],
            [
             0.3333333333333333,
             "#9c179e"
            ],
            [
             0.4444444444444444,
             "#bd3786"
            ],
            [
             0.5555555555555556,
             "#d8576b"
            ],
            [
             0.6666666666666666,
             "#ed7953"
            ],
            [
             0.7777777777777778,
             "#fb9f3a"
            ],
            [
             0.8888888888888888,
             "#fdca26"
            ],
            [
             1,
             "#f0f921"
            ]
           ]
          },
          "colorway": [
           "#636efa",
           "#EF553B",
           "#00cc96",
           "#ab63fa",
           "#FFA15A",
           "#19d3f3",
           "#FF6692",
           "#B6E880",
           "#FF97FF",
           "#FECB52"
          ],
          "font": {
           "color": "#2a3f5f"
          },
          "geo": {
           "bgcolor": "white",
           "lakecolor": "white",
           "landcolor": "#E5ECF6",
           "showlakes": true,
           "showland": true,
           "subunitcolor": "white"
          },
          "hoverlabel": {
           "align": "left"
          },
          "hovermode": "closest",
          "mapbox": {
           "style": "light"
          },
          "paper_bgcolor": "white",
          "plot_bgcolor": "#E5ECF6",
          "polar": {
           "angularaxis": {
            "gridcolor": "white",
            "linecolor": "white",
            "ticks": ""
           },
           "bgcolor": "#E5ECF6",
           "radialaxis": {
            "gridcolor": "white",
            "linecolor": "white",
            "ticks": ""
           }
          },
          "scene": {
           "xaxis": {
            "backgroundcolor": "#E5ECF6",
            "gridcolor": "white",
            "gridwidth": 2,
            "linecolor": "white",
            "showbackground": true,
            "ticks": "",
            "zerolinecolor": "white"
           },
           "yaxis": {
            "backgroundcolor": "#E5ECF6",
            "gridcolor": "white",
            "gridwidth": 2,
            "linecolor": "white",
            "showbackground": true,
            "ticks": "",
            "zerolinecolor": "white"
           },
           "zaxis": {
            "backgroundcolor": "#E5ECF6",
            "gridcolor": "white",
            "gridwidth": 2,
            "linecolor": "white",
            "showbackground": true,
            "ticks": "",
            "zerolinecolor": "white"
           }
          },
          "shapedefaults": {
           "line": {
            "color": "#2a3f5f"
           }
          },
          "ternary": {
           "aaxis": {
            "gridcolor": "white",
            "linecolor": "white",
            "ticks": ""
           },
           "baxis": {
            "gridcolor": "white",
            "linecolor": "white",
            "ticks": ""
           },
           "bgcolor": "#E5ECF6",
           "caxis": {
            "gridcolor": "white",
            "linecolor": "white",
            "ticks": ""
           }
          },
          "title": {
           "x": 0.05
          },
          "xaxis": {
           "automargin": true,
           "gridcolor": "white",
           "linecolor": "white",
           "ticks": "",
           "title": {
            "standoff": 15
           },
           "zerolinecolor": "white",
           "zerolinewidth": 2
          },
          "yaxis": {
           "automargin": true,
           "gridcolor": "white",
           "linecolor": "white",
           "ticks": "",
           "title": {
            "standoff": 15
           },
           "zerolinecolor": "white",
           "zerolinewidth": 2
          }
         }
        },
        "title": {
         "text": "Average R2 and RMSE Scores by Similarity"
        },
        "width": 900,
        "xaxis": {
         "title": {
          "text": "Similarity"
         }
        },
        "yaxis": {
         "range": [
          0.6,
          0.85
         ],
         "title": {
          "text": "R2 Score"
         }
        },
        "yaxis2": {
         "overlaying": "y",
         "side": "right",
         "title": {
          "text": "RMSE Score"
         }
        }
       }
      }
     },
     "metadata": {},
     "output_type": "display_data"
    }
   ],
   "source": [
    "# Group by Similarity\n",
    "similarity_group = final_results.groupby('Similarity').agg({'R2': 'mean', 'RMSE': 'mean'}).reset_index()\n",
    "\n",
    "# Create the figure for Similarity-wise averages\n",
    "fig_similarity = go.Figure()\n",
    "\n",
    "# R2 Score\n",
    "fig_similarity.add_trace(go.Bar(\n",
    "    x=similarity_group['Similarity'],\n",
    "    y=similarity_group['R2'],\n",
    "    name='R2 Score (Similarity)',\n",
    "    text=similarity_group['R2'].map(lambda x: f\"{x:.4f}\"),\n",
    "    textposition='auto'\n",
    "))\n",
    "\n",
    "# RMSE Score\n",
    "fig_similarity.add_trace(go.Scatter(\n",
    "    x=similarity_group['Similarity'],\n",
    "    y=similarity_group['RMSE'],\n",
    "    name='RMSE Score (Similarity)',\n",
    "    mode='lines+markers',\n",
    "    yaxis='y2'\n",
    "))\n",
    "\n",
    "# Update layout for Similarity plot\n",
    "fig_similarity.update_layout(\n",
    "    title='Average R2 and RMSE Scores by Similarity',\n",
    "    xaxis_title='Similarity',\n",
    "    yaxis_title='R2 Score',\n",
    "    yaxis = dict(range=[0.6, 0.85]),\n",
    "    yaxis2=dict(\n",
    "        title='RMSE Score',\n",
    "        overlaying='y',\n",
    "        side='right'\n",
    "    ),\n",
    "    barmode='group',\n",
    "    width=900,height=600,\n",
    "    legend=dict(\n",
    "        orientation='h',\n",
    "        x=1,\n",
    "        xanchor='center',\n",
    "        y=1.15)\n",
    ")\n",
    "\n",
    "fig_similarity.show()"
   ]
  },
  {
   "cell_type": "code",
   "execution_count": 68,
   "metadata": {},
   "outputs": [
    {
     "data": {
      "application/vnd.plotly.v1+json": {
       "config": {
        "plotlyServerURL": "https://plot.ly"
       },
       "data": [
        {
         "alignmentgroup": "True",
         "hovertemplate": "Model=Light Gradient Boosting Machine<br>Dataset=%{x}<br>R2 Score=%{text}<extra></extra>",
         "legendgroup": "Light Gradient Boosting Machine",
         "marker": {
          "color": "#636efa",
          "pattern": {
           "shape": ""
          }
         },
         "name": "Light Gradient Boosting Machine",
         "offsetgroup": "Light Gradient Boosting Machine",
         "orientation": "v",
         "showlegend": true,
         "text": [
          0.8497,
          0.8626,
          0.8249,
          0.8626,
          0.8683,
          0.8611,
          0.8716,
          0.8611,
          0.8758,
          0.8731,
          0.8786,
          0.8731
         ],
         "textposition": "auto",
         "texttemplate": "%{text:.4f}",
         "type": "bar",
         "x": [
          "atom_pair_Cosine_top10",
          "atom_pair_Dice_top10",
          "atom_pair_Kulczynski_top10",
          "atom_pair_Tanimoto_top10",
          "maccs_Cosine_top10",
          "maccs_Dice_top10",
          "maccs_Kulczynski_top10",
          "maccs_Tanimoto_top10",
          "morgan_Cosine_top10",
          "morgan_Dice_top10",
          "morgan_Kulczynski_top10",
          "morgan_Tanimoto_top10"
         ],
         "xaxis": "x",
         "y": [
          0.8497,
          0.8626,
          0.8249,
          0.8626,
          0.8683,
          0.8611,
          0.8716,
          0.8611,
          0.8758,
          0.8731,
          0.8786,
          0.8731
         ],
         "yaxis": "y"
        }
       ],
       "layout": {
        "barmode": "relative",
        "height": 600,
        "legend": {
         "orientation": "h",
         "title": {
          "text": "Model"
         },
         "tracegroupgap": 0,
         "x": 1,
         "xanchor": "center",
         "y": 1.15
        },
        "template": {
         "data": {
          "bar": [
           {
            "error_x": {
             "color": "#2a3f5f"
            },
            "error_y": {
             "color": "#2a3f5f"
            },
            "marker": {
             "line": {
              "color": "#E5ECF6",
              "width": 0.5
             },
             "pattern": {
              "fillmode": "overlay",
              "size": 10,
              "solidity": 0.2
             }
            },
            "type": "bar"
           }
          ],
          "barpolar": [
           {
            "marker": {
             "line": {
              "color": "#E5ECF6",
              "width": 0.5
             },
             "pattern": {
              "fillmode": "overlay",
              "size": 10,
              "solidity": 0.2
             }
            },
            "type": "barpolar"
           }
          ],
          "carpet": [
           {
            "aaxis": {
             "endlinecolor": "#2a3f5f",
             "gridcolor": "white",
             "linecolor": "white",
             "minorgridcolor": "white",
             "startlinecolor": "#2a3f5f"
            },
            "baxis": {
             "endlinecolor": "#2a3f5f",
             "gridcolor": "white",
             "linecolor": "white",
             "minorgridcolor": "white",
             "startlinecolor": "#2a3f5f"
            },
            "type": "carpet"
           }
          ],
          "choropleth": [
           {
            "colorbar": {
             "outlinewidth": 0,
             "ticks": ""
            },
            "type": "choropleth"
           }
          ],
          "contour": [
           {
            "colorbar": {
             "outlinewidth": 0,
             "ticks": ""
            },
            "colorscale": [
             [
              0,
              "#0d0887"
             ],
             [
              0.1111111111111111,
              "#46039f"
             ],
             [
              0.2222222222222222,
              "#7201a8"
             ],
             [
              0.3333333333333333,
              "#9c179e"
             ],
             [
              0.4444444444444444,
              "#bd3786"
             ],
             [
              0.5555555555555556,
              "#d8576b"
             ],
             [
              0.6666666666666666,
              "#ed7953"
             ],
             [
              0.7777777777777778,
              "#fb9f3a"
             ],
             [
              0.8888888888888888,
              "#fdca26"
             ],
             [
              1,
              "#f0f921"
             ]
            ],
            "type": "contour"
           }
          ],
          "contourcarpet": [
           {
            "colorbar": {
             "outlinewidth": 0,
             "ticks": ""
            },
            "type": "contourcarpet"
           }
          ],
          "heatmap": [
           {
            "colorbar": {
             "outlinewidth": 0,
             "ticks": ""
            },
            "colorscale": [
             [
              0,
              "#0d0887"
             ],
             [
              0.1111111111111111,
              "#46039f"
             ],
             [
              0.2222222222222222,
              "#7201a8"
             ],
             [
              0.3333333333333333,
              "#9c179e"
             ],
             [
              0.4444444444444444,
              "#bd3786"
             ],
             [
              0.5555555555555556,
              "#d8576b"
             ],
             [
              0.6666666666666666,
              "#ed7953"
             ],
             [
              0.7777777777777778,
              "#fb9f3a"
             ],
             [
              0.8888888888888888,
              "#fdca26"
             ],
             [
              1,
              "#f0f921"
             ]
            ],
            "type": "heatmap"
           }
          ],
          "heatmapgl": [
           {
            "colorbar": {
             "outlinewidth": 0,
             "ticks": ""
            },
            "colorscale": [
             [
              0,
              "#0d0887"
             ],
             [
              0.1111111111111111,
              "#46039f"
             ],
             [
              0.2222222222222222,
              "#7201a8"
             ],
             [
              0.3333333333333333,
              "#9c179e"
             ],
             [
              0.4444444444444444,
              "#bd3786"
             ],
             [
              0.5555555555555556,
              "#d8576b"
             ],
             [
              0.6666666666666666,
              "#ed7953"
             ],
             [
              0.7777777777777778,
              "#fb9f3a"
             ],
             [
              0.8888888888888888,
              "#fdca26"
             ],
             [
              1,
              "#f0f921"
             ]
            ],
            "type": "heatmapgl"
           }
          ],
          "histogram": [
           {
            "marker": {
             "pattern": {
              "fillmode": "overlay",
              "size": 10,
              "solidity": 0.2
             }
            },
            "type": "histogram"
           }
          ],
          "histogram2d": [
           {
            "colorbar": {
             "outlinewidth": 0,
             "ticks": ""
            },
            "colorscale": [
             [
              0,
              "#0d0887"
             ],
             [
              0.1111111111111111,
              "#46039f"
             ],
             [
              0.2222222222222222,
              "#7201a8"
             ],
             [
              0.3333333333333333,
              "#9c179e"
             ],
             [
              0.4444444444444444,
              "#bd3786"
             ],
             [
              0.5555555555555556,
              "#d8576b"
             ],
             [
              0.6666666666666666,
              "#ed7953"
             ],
             [
              0.7777777777777778,
              "#fb9f3a"
             ],
             [
              0.8888888888888888,
              "#fdca26"
             ],
             [
              1,
              "#f0f921"
             ]
            ],
            "type": "histogram2d"
           }
          ],
          "histogram2dcontour": [
           {
            "colorbar": {
             "outlinewidth": 0,
             "ticks": ""
            },
            "colorscale": [
             [
              0,
              "#0d0887"
             ],
             [
              0.1111111111111111,
              "#46039f"
             ],
             [
              0.2222222222222222,
              "#7201a8"
             ],
             [
              0.3333333333333333,
              "#9c179e"
             ],
             [
              0.4444444444444444,
              "#bd3786"
             ],
             [
              0.5555555555555556,
              "#d8576b"
             ],
             [
              0.6666666666666666,
              "#ed7953"
             ],
             [
              0.7777777777777778,
              "#fb9f3a"
             ],
             [
              0.8888888888888888,
              "#fdca26"
             ],
             [
              1,
              "#f0f921"
             ]
            ],
            "type": "histogram2dcontour"
           }
          ],
          "mesh3d": [
           {
            "colorbar": {
             "outlinewidth": 0,
             "ticks": ""
            },
            "type": "mesh3d"
           }
          ],
          "parcoords": [
           {
            "line": {
             "colorbar": {
              "outlinewidth": 0,
              "ticks": ""
             }
            },
            "type": "parcoords"
           }
          ],
          "pie": [
           {
            "automargin": true,
            "type": "pie"
           }
          ],
          "scatter": [
           {
            "fillpattern": {
             "fillmode": "overlay",
             "size": 10,
             "solidity": 0.2
            },
            "type": "scatter"
           }
          ],
          "scatter3d": [
           {
            "line": {
             "colorbar": {
              "outlinewidth": 0,
              "ticks": ""
             }
            },
            "marker": {
             "colorbar": {
              "outlinewidth": 0,
              "ticks": ""
             }
            },
            "type": "scatter3d"
           }
          ],
          "scattercarpet": [
           {
            "marker": {
             "colorbar": {
              "outlinewidth": 0,
              "ticks": ""
             }
            },
            "type": "scattercarpet"
           }
          ],
          "scattergeo": [
           {
            "marker": {
             "colorbar": {
              "outlinewidth": 0,
              "ticks": ""
             }
            },
            "type": "scattergeo"
           }
          ],
          "scattergl": [
           {
            "marker": {
             "colorbar": {
              "outlinewidth": 0,
              "ticks": ""
             }
            },
            "type": "scattergl"
           }
          ],
          "scattermapbox": [
           {
            "marker": {
             "colorbar": {
              "outlinewidth": 0,
              "ticks": ""
             }
            },
            "type": "scattermapbox"
           }
          ],
          "scatterpolar": [
           {
            "marker": {
             "colorbar": {
              "outlinewidth": 0,
              "ticks": ""
             }
            },
            "type": "scatterpolar"
           }
          ],
          "scatterpolargl": [
           {
            "marker": {
             "colorbar": {
              "outlinewidth": 0,
              "ticks": ""
             }
            },
            "type": "scatterpolargl"
           }
          ],
          "scatterternary": [
           {
            "marker": {
             "colorbar": {
              "outlinewidth": 0,
              "ticks": ""
             }
            },
            "type": "scatterternary"
           }
          ],
          "surface": [
           {
            "colorbar": {
             "outlinewidth": 0,
             "ticks": ""
            },
            "colorscale": [
             [
              0,
              "#0d0887"
             ],
             [
              0.1111111111111111,
              "#46039f"
             ],
             [
              0.2222222222222222,
              "#7201a8"
             ],
             [
              0.3333333333333333,
              "#9c179e"
             ],
             [
              0.4444444444444444,
              "#bd3786"
             ],
             [
              0.5555555555555556,
              "#d8576b"
             ],
             [
              0.6666666666666666,
              "#ed7953"
             ],
             [
              0.7777777777777778,
              "#fb9f3a"
             ],
             [
              0.8888888888888888,
              "#fdca26"
             ],
             [
              1,
              "#f0f921"
             ]
            ],
            "type": "surface"
           }
          ],
          "table": [
           {
            "cells": {
             "fill": {
              "color": "#EBF0F8"
             },
             "line": {
              "color": "white"
             }
            },
            "header": {
             "fill": {
              "color": "#C8D4E3"
             },
             "line": {
              "color": "white"
             }
            },
            "type": "table"
           }
          ]
         },
         "layout": {
          "annotationdefaults": {
           "arrowcolor": "#2a3f5f",
           "arrowhead": 0,
           "arrowwidth": 1
          },
          "autotypenumbers": "strict",
          "coloraxis": {
           "colorbar": {
            "outlinewidth": 0,
            "ticks": ""
           }
          },
          "colorscale": {
           "diverging": [
            [
             0,
             "#8e0152"
            ],
            [
             0.1,
             "#c51b7d"
            ],
            [
             0.2,
             "#de77ae"
            ],
            [
             0.3,
             "#f1b6da"
            ],
            [
             0.4,
             "#fde0ef"
            ],
            [
             0.5,
             "#f7f7f7"
            ],
            [
             0.6,
             "#e6f5d0"
            ],
            [
             0.7,
             "#b8e186"
            ],
            [
             0.8,
             "#7fbc41"
            ],
            [
             0.9,
             "#4d9221"
            ],
            [
             1,
             "#276419"
            ]
           ],
           "sequential": [
            [
             0,
             "#0d0887"
            ],
            [
             0.1111111111111111,
             "#46039f"
            ],
            [
             0.2222222222222222,
             "#7201a8"
            ],
            [
             0.3333333333333333,
             "#9c179e"
            ],
            [
             0.4444444444444444,
             "#bd3786"
            ],
            [
             0.5555555555555556,
             "#d8576b"
            ],
            [
             0.6666666666666666,
             "#ed7953"
            ],
            [
             0.7777777777777778,
             "#fb9f3a"
            ],
            [
             0.8888888888888888,
             "#fdca26"
            ],
            [
             1,
             "#f0f921"
            ]
           ],
           "sequentialminus": [
            [
             0,
             "#0d0887"
            ],
            [
             0.1111111111111111,
             "#46039f"
            ],
            [
             0.2222222222222222,
             "#7201a8"
            ],
            [
             0.3333333333333333,
             "#9c179e"
            ],
            [
             0.4444444444444444,
             "#bd3786"
            ],
            [
             0.5555555555555556,
             "#d8576b"
            ],
            [
             0.6666666666666666,
             "#ed7953"
            ],
            [
             0.7777777777777778,
             "#fb9f3a"
            ],
            [
             0.8888888888888888,
             "#fdca26"
            ],
            [
             1,
             "#f0f921"
            ]
           ]
          },
          "colorway": [
           "#636efa",
           "#EF553B",
           "#00cc96",
           "#ab63fa",
           "#FFA15A",
           "#19d3f3",
           "#FF6692",
           "#B6E880",
           "#FF97FF",
           "#FECB52"
          ],
          "font": {
           "color": "#2a3f5f"
          },
          "geo": {
           "bgcolor": "white",
           "lakecolor": "white",
           "landcolor": "#E5ECF6",
           "showlakes": true,
           "showland": true,
           "subunitcolor": "white"
          },
          "hoverlabel": {
           "align": "left"
          },
          "hovermode": "closest",
          "mapbox": {
           "style": "light"
          },
          "paper_bgcolor": "white",
          "plot_bgcolor": "#E5ECF6",
          "polar": {
           "angularaxis": {
            "gridcolor": "white",
            "linecolor": "white",
            "ticks": ""
           },
           "bgcolor": "#E5ECF6",
           "radialaxis": {
            "gridcolor": "white",
            "linecolor": "white",
            "ticks": ""
           }
          },
          "scene": {
           "xaxis": {
            "backgroundcolor": "#E5ECF6",
            "gridcolor": "white",
            "gridwidth": 2,
            "linecolor": "white",
            "showbackground": true,
            "ticks": "",
            "zerolinecolor": "white"
           },
           "yaxis": {
            "backgroundcolor": "#E5ECF6",
            "gridcolor": "white",
            "gridwidth": 2,
            "linecolor": "white",
            "showbackground": true,
            "ticks": "",
            "zerolinecolor": "white"
           },
           "zaxis": {
            "backgroundcolor": "#E5ECF6",
            "gridcolor": "white",
            "gridwidth": 2,
            "linecolor": "white",
            "showbackground": true,
            "ticks": "",
            "zerolinecolor": "white"
           }
          },
          "shapedefaults": {
           "line": {
            "color": "#2a3f5f"
           }
          },
          "ternary": {
           "aaxis": {
            "gridcolor": "white",
            "linecolor": "white",
            "ticks": ""
           },
           "baxis": {
            "gridcolor": "white",
            "linecolor": "white",
            "ticks": ""
           },
           "bgcolor": "#E5ECF6",
           "caxis": {
            "gridcolor": "white",
            "linecolor": "white",
            "ticks": ""
           }
          },
          "title": {
           "x": 0.05
          },
          "xaxis": {
           "automargin": true,
           "gridcolor": "white",
           "linecolor": "white",
           "ticks": "",
           "title": {
            "standoff": 15
           },
           "zerolinecolor": "white",
           "zerolinewidth": 2
          },
          "yaxis": {
           "automargin": true,
           "gridcolor": "white",
           "linecolor": "white",
           "ticks": "",
           "title": {
            "standoff": 15
           },
           "zerolinecolor": "white",
           "zerolinewidth": 2
          }
         }
        },
        "title": {
         "text": "Best Model for Each Dataset with R2 Label"
        },
        "width": 1000,
        "xaxis": {
         "anchor": "y",
         "domain": [
          0,
          1
         ],
         "title": {
          "text": "Dataset"
         }
        },
        "yaxis": {
         "anchor": "x",
         "domain": [
          0,
          1
         ],
         "range": [
          0.6,
          0.9
         ],
         "title": {
          "text": "R2 Score"
         }
        }
       }
      }
     },
     "metadata": {},
     "output_type": "display_data"
    }
   ],
   "source": [
    "# Find the best model for each dataset\n",
    "best_models = final_results.loc[final_results.groupby('dataset')['R2'].idxmax()]\n",
    "\n",
    "fig = px.bar(best_models, x='dataset', y='R2', color='Model',\n",
    "             text='R2', title='Best Model for Each Dataset with R2 Label',\n",
    "             labels={'R2': 'R2 Score', 'dataset': 'Dataset'})\n",
    "fig.update_traces(texttemplate='%{text:.4f}', textposition='auto')\n",
    "fig.update_layout(width=1000,height=600,yaxis=dict(range=[0.6, 0.9]),\n",
    "                   legend=dict(orientation='h', x=1, xanchor='center', y=1.15)\n",
    "                   )      \n",
    "fig.show()"
   ]
  },
  {
   "cell_type": "code",
   "execution_count": 63,
   "metadata": {},
   "outputs": [
    {
     "data": {
      "application/vnd.plotly.v1+json": {
       "config": {
        "plotlyServerURL": "https://plot.ly"
       },
       "data": [
        {
         "alignmentgroup": "True",
         "hovertemplate": "Model=Light Gradient Boosting Machine<br>Dataset=%{x}<br>R2 Score=%{text}<extra></extra>",
         "legendgroup": "Light Gradient Boosting Machine",
         "marker": {
          "color": "#636efa",
          "pattern": {
           "shape": ""
          }
         },
         "name": "Light Gradient Boosting Machine",
         "offsetgroup": "Light Gradient Boosting Machine",
         "orientation": "v",
         "showlegend": true,
         "text": [
          0.8731,
          0.8731,
          0.8758,
          0.8786,
          0.8626,
          0.8626,
          0.8497,
          0.8249,
          0.8611,
          0.8611,
          0.8683,
          0.8716
         ],
         "textposition": "auto",
         "type": "bar",
         "x": [
          "morgan_Tanimoto_top10",
          "morgan_Dice_top10",
          "morgan_Cosine_top10",
          "morgan_Kulczynski_top10",
          "atom_pair_Tanimoto_top10",
          "atom_pair_Dice_top10",
          "atom_pair_Cosine_top10",
          "atom_pair_Kulczynski_top10",
          "maccs_Tanimoto_top10",
          "maccs_Dice_top10",
          "maccs_Cosine_top10",
          "maccs_Kulczynski_top10"
         ],
         "xaxis": "x",
         "y": [
          0.8731,
          0.8731,
          0.8758,
          0.8786,
          0.8626,
          0.8626,
          0.8497,
          0.8249,
          0.8611,
          0.8611,
          0.8683,
          0.8716
         ],
         "yaxis": "y"
        },
        {
         "alignmentgroup": "True",
         "hovertemplate": "Model=Extreme Gradient Boosting<br>Dataset=%{x}<br>R2 Score=%{text}<extra></extra>",
         "legendgroup": "Extreme Gradient Boosting",
         "marker": {
          "color": "#EF553B",
          "pattern": {
           "shape": ""
          }
         },
         "name": "Extreme Gradient Boosting",
         "offsetgroup": "Extreme Gradient Boosting",
         "orientation": "v",
         "showlegend": true,
         "text": [
          0.864,
          0.864,
          0.8665,
          0.8743,
          0.8479,
          0.8479,
          0.845,
          0.8164,
          0.8547,
          0.8547,
          0.8595,
          0.862
         ],
         "textposition": "auto",
         "type": "bar",
         "x": [
          "morgan_Tanimoto_top10",
          "morgan_Dice_top10",
          "morgan_Cosine_top10",
          "morgan_Kulczynski_top10",
          "atom_pair_Tanimoto_top10",
          "atom_pair_Dice_top10",
          "atom_pair_Cosine_top10",
          "atom_pair_Kulczynski_top10",
          "maccs_Tanimoto_top10",
          "maccs_Dice_top10",
          "maccs_Cosine_top10",
          "maccs_Kulczynski_top10"
         ],
         "xaxis": "x",
         "y": [
          0.864,
          0.864,
          0.8665,
          0.8743,
          0.8479,
          0.8479,
          0.845,
          0.8164,
          0.8547,
          0.8547,
          0.8595,
          0.862
         ],
         "yaxis": "y"
        },
        {
         "alignmentgroup": "True",
         "hovertemplate": "Model=Bayesian Ridge<br>Dataset=%{x}<br>R2 Score=%{text}<extra></extra>",
         "legendgroup": "Bayesian Ridge",
         "marker": {
          "color": "#00cc96",
          "pattern": {
           "shape": ""
          }
         },
         "name": "Bayesian Ridge",
         "offsetgroup": "Bayesian Ridge",
         "orientation": "v",
         "showlegend": true,
         "text": [
          0.8388,
          0.8388,
          0.8409,
          0.8507,
          0.8328,
          0.8328,
          0.8243,
          0.791,
          0.8173,
          0.8173,
          0.8272,
          0.837
         ],
         "textposition": "auto",
         "type": "bar",
         "x": [
          "morgan_Tanimoto_top10",
          "morgan_Dice_top10",
          "morgan_Cosine_top10",
          "morgan_Kulczynski_top10",
          "atom_pair_Tanimoto_top10",
          "atom_pair_Dice_top10",
          "atom_pair_Cosine_top10",
          "atom_pair_Kulczynski_top10",
          "maccs_Tanimoto_top10",
          "maccs_Dice_top10",
          "maccs_Cosine_top10",
          "maccs_Kulczynski_top10"
         ],
         "xaxis": "x",
         "y": [
          0.8388,
          0.8388,
          0.8409,
          0.8507,
          0.8328,
          0.8328,
          0.8243,
          0.791,
          0.8173,
          0.8173,
          0.8272,
          0.837
         ],
         "yaxis": "y"
        },
        {
         "alignmentgroup": "True",
         "hovertemplate": "Model=Huber Regressor<br>Dataset=%{x}<br>R2 Score=%{text}<extra></extra>",
         "legendgroup": "Huber Regressor",
         "marker": {
          "color": "#ab63fa",
          "pattern": {
           "shape": ""
          }
         },
         "name": "Huber Regressor",
         "offsetgroup": "Huber Regressor",
         "orientation": "v",
         "showlegend": true,
         "text": [
          0.8003,
          0.8003,
          0.8081,
          0.8191,
          0.8043,
          0.8043,
          0.7884,
          0.7481,
          0.7723,
          0.7723,
          0.7874,
          0.7949
         ],
         "textposition": "auto",
         "type": "bar",
         "x": [
          "morgan_Tanimoto_top10",
          "morgan_Dice_top10",
          "morgan_Cosine_top10",
          "morgan_Kulczynski_top10",
          "atom_pair_Tanimoto_top10",
          "atom_pair_Dice_top10",
          "atom_pair_Cosine_top10",
          "atom_pair_Kulczynski_top10",
          "maccs_Tanimoto_top10",
          "maccs_Dice_top10",
          "maccs_Cosine_top10",
          "maccs_Kulczynski_top10"
         ],
         "xaxis": "x",
         "y": [
          0.8003,
          0.8003,
          0.8081,
          0.8191,
          0.8043,
          0.8043,
          0.7884,
          0.7481,
          0.7723,
          0.7723,
          0.7874,
          0.7949
         ],
         "yaxis": "y"
        },
        {
         "alignmentgroup": "True",
         "hovertemplate": "Model=K Neighbors Regressor<br>Dataset=%{x}<br>R2 Score=%{text}<extra></extra>",
         "legendgroup": "K Neighbors Regressor",
         "marker": {
          "color": "#FFA15A",
          "pattern": {
           "shape": ""
          }
         },
         "name": "K Neighbors Regressor",
         "offsetgroup": "K Neighbors Regressor",
         "orientation": "v",
         "showlegend": true,
         "text": [
          0.6866,
          0.6866,
          0.6942,
          0.7064,
          0.6413,
          0.6413,
          0.6655,
          0.6708,
          0.6993,
          0.6993,
          0.6975,
          0.7148
         ],
         "textposition": "auto",
         "type": "bar",
         "x": [
          "morgan_Tanimoto_top10",
          "morgan_Dice_top10",
          "morgan_Cosine_top10",
          "morgan_Kulczynski_top10",
          "atom_pair_Tanimoto_top10",
          "atom_pair_Dice_top10",
          "atom_pair_Cosine_top10",
          "atom_pair_Kulczynski_top10",
          "maccs_Tanimoto_top10",
          "maccs_Dice_top10",
          "maccs_Cosine_top10",
          "maccs_Kulczynski_top10"
         ],
         "xaxis": "x",
         "y": [
          0.6866,
          0.6866,
          0.6942,
          0.7064,
          0.6413,
          0.6413,
          0.6655,
          0.6708,
          0.6993,
          0.6993,
          0.6975,
          0.7148
         ],
         "yaxis": "y"
        },
        {
         "marker": {
          "color": "red",
          "size": 5
         },
         "mode": "markers+text",
         "text": [
          "Best: Light Gradient Boosting Machine (0.88)"
         ],
         "textposition": "top center",
         "type": "scatter",
         "x": [
          "morgan_Kulczynski_top10"
         ],
         "y": [
          0.8786
         ]
        }
       ],
       "layout": {
        "barmode": "group",
        "height": 600,
        "legend": {
         "orientation": "h",
         "title": {
          "text": "Model"
         },
         "tracegroupgap": 0,
         "x": 1,
         "xanchor": "center",
         "y": 1.15
        },
        "template": {
         "data": {
          "bar": [
           {
            "error_x": {
             "color": "#2a3f5f"
            },
            "error_y": {
             "color": "#2a3f5f"
            },
            "marker": {
             "line": {
              "color": "#E5ECF6",
              "width": 0.5
             },
             "pattern": {
              "fillmode": "overlay",
              "size": 10,
              "solidity": 0.2
             }
            },
            "type": "bar"
           }
          ],
          "barpolar": [
           {
            "marker": {
             "line": {
              "color": "#E5ECF6",
              "width": 0.5
             },
             "pattern": {
              "fillmode": "overlay",
              "size": 10,
              "solidity": 0.2
             }
            },
            "type": "barpolar"
           }
          ],
          "carpet": [
           {
            "aaxis": {
             "endlinecolor": "#2a3f5f",
             "gridcolor": "white",
             "linecolor": "white",
             "minorgridcolor": "white",
             "startlinecolor": "#2a3f5f"
            },
            "baxis": {
             "endlinecolor": "#2a3f5f",
             "gridcolor": "white",
             "linecolor": "white",
             "minorgridcolor": "white",
             "startlinecolor": "#2a3f5f"
            },
            "type": "carpet"
           }
          ],
          "choropleth": [
           {
            "colorbar": {
             "outlinewidth": 0,
             "ticks": ""
            },
            "type": "choropleth"
           }
          ],
          "contour": [
           {
            "colorbar": {
             "outlinewidth": 0,
             "ticks": ""
            },
            "colorscale": [
             [
              0,
              "#0d0887"
             ],
             [
              0.1111111111111111,
              "#46039f"
             ],
             [
              0.2222222222222222,
              "#7201a8"
             ],
             [
              0.3333333333333333,
              "#9c179e"
             ],
             [
              0.4444444444444444,
              "#bd3786"
             ],
             [
              0.5555555555555556,
              "#d8576b"
             ],
             [
              0.6666666666666666,
              "#ed7953"
             ],
             [
              0.7777777777777778,
              "#fb9f3a"
             ],
             [
              0.8888888888888888,
              "#fdca26"
             ],
             [
              1,
              "#f0f921"
             ]
            ],
            "type": "contour"
           }
          ],
          "contourcarpet": [
           {
            "colorbar": {
             "outlinewidth": 0,
             "ticks": ""
            },
            "type": "contourcarpet"
           }
          ],
          "heatmap": [
           {
            "colorbar": {
             "outlinewidth": 0,
             "ticks": ""
            },
            "colorscale": [
             [
              0,
              "#0d0887"
             ],
             [
              0.1111111111111111,
              "#46039f"
             ],
             [
              0.2222222222222222,
              "#7201a8"
             ],
             [
              0.3333333333333333,
              "#9c179e"
             ],
             [
              0.4444444444444444,
              "#bd3786"
             ],
             [
              0.5555555555555556,
              "#d8576b"
             ],
             [
              0.6666666666666666,
              "#ed7953"
             ],
             [
              0.7777777777777778,
              "#fb9f3a"
             ],
             [
              0.8888888888888888,
              "#fdca26"
             ],
             [
              1,
              "#f0f921"
             ]
            ],
            "type": "heatmap"
           }
          ],
          "heatmapgl": [
           {
            "colorbar": {
             "outlinewidth": 0,
             "ticks": ""
            },
            "colorscale": [
             [
              0,
              "#0d0887"
             ],
             [
              0.1111111111111111,
              "#46039f"
             ],
             [
              0.2222222222222222,
              "#7201a8"
             ],
             [
              0.3333333333333333,
              "#9c179e"
             ],
             [
              0.4444444444444444,
              "#bd3786"
             ],
             [
              0.5555555555555556,
              "#d8576b"
             ],
             [
              0.6666666666666666,
              "#ed7953"
             ],
             [
              0.7777777777777778,
              "#fb9f3a"
             ],
             [
              0.8888888888888888,
              "#fdca26"
             ],
             [
              1,
              "#f0f921"
             ]
            ],
            "type": "heatmapgl"
           }
          ],
          "histogram": [
           {
            "marker": {
             "pattern": {
              "fillmode": "overlay",
              "size": 10,
              "solidity": 0.2
             }
            },
            "type": "histogram"
           }
          ],
          "histogram2d": [
           {
            "colorbar": {
             "outlinewidth": 0,
             "ticks": ""
            },
            "colorscale": [
             [
              0,
              "#0d0887"
             ],
             [
              0.1111111111111111,
              "#46039f"
             ],
             [
              0.2222222222222222,
              "#7201a8"
             ],
             [
              0.3333333333333333,
              "#9c179e"
             ],
             [
              0.4444444444444444,
              "#bd3786"
             ],
             [
              0.5555555555555556,
              "#d8576b"
             ],
             [
              0.6666666666666666,
              "#ed7953"
             ],
             [
              0.7777777777777778,
              "#fb9f3a"
             ],
             [
              0.8888888888888888,
              "#fdca26"
             ],
             [
              1,
              "#f0f921"
             ]
            ],
            "type": "histogram2d"
           }
          ],
          "histogram2dcontour": [
           {
            "colorbar": {
             "outlinewidth": 0,
             "ticks": ""
            },
            "colorscale": [
             [
              0,
              "#0d0887"
             ],
             [
              0.1111111111111111,
              "#46039f"
             ],
             [
              0.2222222222222222,
              "#7201a8"
             ],
             [
              0.3333333333333333,
              "#9c179e"
             ],
             [
              0.4444444444444444,
              "#bd3786"
             ],
             [
              0.5555555555555556,
              "#d8576b"
             ],
             [
              0.6666666666666666,
              "#ed7953"
             ],
             [
              0.7777777777777778,
              "#fb9f3a"
             ],
             [
              0.8888888888888888,
              "#fdca26"
             ],
             [
              1,
              "#f0f921"
             ]
            ],
            "type": "histogram2dcontour"
           }
          ],
          "mesh3d": [
           {
            "colorbar": {
             "outlinewidth": 0,
             "ticks": ""
            },
            "type": "mesh3d"
           }
          ],
          "parcoords": [
           {
            "line": {
             "colorbar": {
              "outlinewidth": 0,
              "ticks": ""
             }
            },
            "type": "parcoords"
           }
          ],
          "pie": [
           {
            "automargin": true,
            "type": "pie"
           }
          ],
          "scatter": [
           {
            "fillpattern": {
             "fillmode": "overlay",
             "size": 10,
             "solidity": 0.2
            },
            "type": "scatter"
           }
          ],
          "scatter3d": [
           {
            "line": {
             "colorbar": {
              "outlinewidth": 0,
              "ticks": ""
             }
            },
            "marker": {
             "colorbar": {
              "outlinewidth": 0,
              "ticks": ""
             }
            },
            "type": "scatter3d"
           }
          ],
          "scattercarpet": [
           {
            "marker": {
             "colorbar": {
              "outlinewidth": 0,
              "ticks": ""
             }
            },
            "type": "scattercarpet"
           }
          ],
          "scattergeo": [
           {
            "marker": {
             "colorbar": {
              "outlinewidth": 0,
              "ticks": ""
             }
            },
            "type": "scattergeo"
           }
          ],
          "scattergl": [
           {
            "marker": {
             "colorbar": {
              "outlinewidth": 0,
              "ticks": ""
             }
            },
            "type": "scattergl"
           }
          ],
          "scattermapbox": [
           {
            "marker": {
             "colorbar": {
              "outlinewidth": 0,
              "ticks": ""
             }
            },
            "type": "scattermapbox"
           }
          ],
          "scatterpolar": [
           {
            "marker": {
             "colorbar": {
              "outlinewidth": 0,
              "ticks": ""
             }
            },
            "type": "scatterpolar"
           }
          ],
          "scatterpolargl": [
           {
            "marker": {
             "colorbar": {
              "outlinewidth": 0,
              "ticks": ""
             }
            },
            "type": "scatterpolargl"
           }
          ],
          "scatterternary": [
           {
            "marker": {
             "colorbar": {
              "outlinewidth": 0,
              "ticks": ""
             }
            },
            "type": "scatterternary"
           }
          ],
          "surface": [
           {
            "colorbar": {
             "outlinewidth": 0,
             "ticks": ""
            },
            "colorscale": [
             [
              0,
              "#0d0887"
             ],
             [
              0.1111111111111111,
              "#46039f"
             ],
             [
              0.2222222222222222,
              "#7201a8"
             ],
             [
              0.3333333333333333,
              "#9c179e"
             ],
             [
              0.4444444444444444,
              "#bd3786"
             ],
             [
              0.5555555555555556,
              "#d8576b"
             ],
             [
              0.6666666666666666,
              "#ed7953"
             ],
             [
              0.7777777777777778,
              "#fb9f3a"
             ],
             [
              0.8888888888888888,
              "#fdca26"
             ],
             [
              1,
              "#f0f921"
             ]
            ],
            "type": "surface"
           }
          ],
          "table": [
           {
            "cells": {
             "fill": {
              "color": "#EBF0F8"
             },
             "line": {
              "color": "white"
             }
            },
            "header": {
             "fill": {
              "color": "#C8D4E3"
             },
             "line": {
              "color": "white"
             }
            },
            "type": "table"
           }
          ]
         },
         "layout": {
          "annotationdefaults": {
           "arrowcolor": "#2a3f5f",
           "arrowhead": 0,
           "arrowwidth": 1
          },
          "autotypenumbers": "strict",
          "coloraxis": {
           "colorbar": {
            "outlinewidth": 0,
            "ticks": ""
           }
          },
          "colorscale": {
           "diverging": [
            [
             0,
             "#8e0152"
            ],
            [
             0.1,
             "#c51b7d"
            ],
            [
             0.2,
             "#de77ae"
            ],
            [
             0.3,
             "#f1b6da"
            ],
            [
             0.4,
             "#fde0ef"
            ],
            [
             0.5,
             "#f7f7f7"
            ],
            [
             0.6,
             "#e6f5d0"
            ],
            [
             0.7,
             "#b8e186"
            ],
            [
             0.8,
             "#7fbc41"
            ],
            [
             0.9,
             "#4d9221"
            ],
            [
             1,
             "#276419"
            ]
           ],
           "sequential": [
            [
             0,
             "#0d0887"
            ],
            [
             0.1111111111111111,
             "#46039f"
            ],
            [
             0.2222222222222222,
             "#7201a8"
            ],
            [
             0.3333333333333333,
             "#9c179e"
            ],
            [
             0.4444444444444444,
             "#bd3786"
            ],
            [
             0.5555555555555556,
             "#d8576b"
            ],
            [
             0.6666666666666666,
             "#ed7953"
            ],
            [
             0.7777777777777778,
             "#fb9f3a"
            ],
            [
             0.8888888888888888,
             "#fdca26"
            ],
            [
             1,
             "#f0f921"
            ]
           ],
           "sequentialminus": [
            [
             0,
             "#0d0887"
            ],
            [
             0.1111111111111111,
             "#46039f"
            ],
            [
             0.2222222222222222,
             "#7201a8"
            ],
            [
             0.3333333333333333,
             "#9c179e"
            ],
            [
             0.4444444444444444,
             "#bd3786"
            ],
            [
             0.5555555555555556,
             "#d8576b"
            ],
            [
             0.6666666666666666,
             "#ed7953"
            ],
            [
             0.7777777777777778,
             "#fb9f3a"
            ],
            [
             0.8888888888888888,
             "#fdca26"
            ],
            [
             1,
             "#f0f921"
            ]
           ]
          },
          "colorway": [
           "#636efa",
           "#EF553B",
           "#00cc96",
           "#ab63fa",
           "#FFA15A",
           "#19d3f3",
           "#FF6692",
           "#B6E880",
           "#FF97FF",
           "#FECB52"
          ],
          "font": {
           "color": "#2a3f5f"
          },
          "geo": {
           "bgcolor": "white",
           "lakecolor": "white",
           "landcolor": "#E5ECF6",
           "showlakes": true,
           "showland": true,
           "subunitcolor": "white"
          },
          "hoverlabel": {
           "align": "left"
          },
          "hovermode": "closest",
          "mapbox": {
           "style": "light"
          },
          "paper_bgcolor": "white",
          "plot_bgcolor": "#E5ECF6",
          "polar": {
           "angularaxis": {
            "gridcolor": "white",
            "linecolor": "white",
            "ticks": ""
           },
           "bgcolor": "#E5ECF6",
           "radialaxis": {
            "gridcolor": "white",
            "linecolor": "white",
            "ticks": ""
           }
          },
          "scene": {
           "xaxis": {
            "backgroundcolor": "#E5ECF6",
            "gridcolor": "white",
            "gridwidth": 2,
            "linecolor": "white",
            "showbackground": true,
            "ticks": "",
            "zerolinecolor": "white"
           },
           "yaxis": {
            "backgroundcolor": "#E5ECF6",
            "gridcolor": "white",
            "gridwidth": 2,
            "linecolor": "white",
            "showbackground": true,
            "ticks": "",
            "zerolinecolor": "white"
           },
           "zaxis": {
            "backgroundcolor": "#E5ECF6",
            "gridcolor": "white",
            "gridwidth": 2,
            "linecolor": "white",
            "showbackground": true,
            "ticks": "",
            "zerolinecolor": "white"
           }
          },
          "shapedefaults": {
           "line": {
            "color": "#2a3f5f"
           }
          },
          "ternary": {
           "aaxis": {
            "gridcolor": "white",
            "linecolor": "white",
            "ticks": ""
           },
           "baxis": {
            "gridcolor": "white",
            "linecolor": "white",
            "ticks": ""
           },
           "bgcolor": "#E5ECF6",
           "caxis": {
            "gridcolor": "white",
            "linecolor": "white",
            "ticks": ""
           }
          },
          "title": {
           "x": 0.05
          },
          "xaxis": {
           "automargin": true,
           "gridcolor": "white",
           "linecolor": "white",
           "ticks": "",
           "title": {
            "standoff": 15
           },
           "zerolinecolor": "white",
           "zerolinewidth": 2
          },
          "yaxis": {
           "automargin": true,
           "gridcolor": "white",
           "linecolor": "white",
           "ticks": "",
           "title": {
            "standoff": 15
           },
           "zerolinecolor": "white",
           "zerolinewidth": 2
          }
         }
        },
        "title": {
         "text": "Best Model Across All Dataset Types"
        },
        "width": 1200,
        "xaxis": {
         "anchor": "y",
         "domain": [
          0,
          1
         ],
         "title": {
          "text": "Dataset"
         }
        },
        "yaxis": {
         "anchor": "x",
         "domain": [
          0,
          1
         ],
         "range": [
          0.6,
          0.9
         ],
         "title": {
          "text": "R2 Score"
         }
        }
       }
      }
     },
     "metadata": {},
     "output_type": "display_data"
    }
   ],
   "source": [
    "overall_best = final_results.loc[final_results['R2'].idxmax()]\n",
    "\n",
    "# Create the vertical bar plot\n",
    "fig = px.bar(final_results, x='dataset', y='R2', color='Model',\n",
    "             title='Best Model Across All Dataset Types',\n",
    "             labels={'R2': 'R2 Score', 'dataset': 'Dataset'},\n",
    "             text='R2')\n",
    "\n",
    "# Highlight the best model\n",
    "fig.add_trace(go.Scatter(x=[overall_best['dataset']], y=[overall_best['R2']],\n",
    "                         mode='markers+text', text=[f'Best: {overall_best[\"Model\"]} ({overall_best[\"R2\"]:.2f})'],\n",
    "                         marker=dict(color='red', size=5),\n",
    "                         textposition='top center'))\n",
    "\n",
    "# Update layout to show R2 scores on bars\n",
    "fig.update_layout(barmode='group', yaxis=dict(range=[0.6, 0.9]),\n",
    "                  width=1200, height=600,\n",
    "                    legend=dict(orientation='h', x=1, xanchor='center', y=1.15)\n",
    "                  )\n",
    "\n",
    "# Show the figure\n",
    "fig.show()"
   ]
  }
 ],
 "metadata": {
  "kernelspec": {
   "display_name": "Python 3",
   "language": "python",
   "name": "python3"
  },
  "language_info": {
   "codemirror_mode": {
    "name": "ipython",
    "version": 3
   },
   "file_extension": ".py",
   "mimetype": "text/x-python",
   "name": "python",
   "nbconvert_exporter": "python",
   "pygments_lexer": "ipython3",
   "version": "3.11.5"
  }
 },
 "nbformat": 4,
 "nbformat_minor": 2
}
