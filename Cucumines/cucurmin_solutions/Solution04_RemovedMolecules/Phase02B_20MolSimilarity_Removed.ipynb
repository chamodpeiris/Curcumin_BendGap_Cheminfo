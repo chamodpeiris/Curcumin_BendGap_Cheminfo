{
 "cells": [
  {
   "cell_type": "code",
   "execution_count": 1,
   "metadata": {},
   "outputs": [
    {
     "name": "stdout",
     "output_type": "stream",
     "text": [
      "CPU times: total: 266 ms\n",
      "Wall time: 703 ms\n"
     ]
    }
   ],
   "source": [
    "%%time\n",
    "import pandas as pd\n",
    "import numpy as np\n",
    "from rdkit import Chem, DataStructs\n",
    "from rdkit.Chem import AllChem, MACCSkeys, Descriptors\n",
    "\n",
    "# Defining the SMILES strings for the cucumin varients\n",
    "curcumin_variants = (\n",
    "    \"COc3cc(OC)c(C/C=C/C2=CC(/C=C/Cc1c(OC)cc(OC)cc1OC)=[O+][B-](F)(F)O2)c(OC)c3\",\n",
    "    \"COc3ccc(C/C=C/C2=[O+][B-](F)(F)OC(/C=C/Cc1c(OC)cc(OC)cc1OC)=C2)cc3\",\n",
    "    \"COc3ccc(C/C=C/C2=CC(/C=C/Cc1ccc(OC)cc1OC)=[O+][B-](F)(F)O2)c(OC)c3\",\n",
    "    \"COc5ccc(C/C=C/C4=[O+][B-](F)(F)OC(/C=C/Cc2c1ccccc1cc3ccccc23)=C4)cc5\",\n",
    "    \"COc3ccc(OC)c(C/C=C/C2=CC(/C=C/Cc1cc(OC)ccc1OC)=[O+][B-](F)(F)O2)c3\",\n",
    "    \"COc3cc(C/C=C/C2=CC(/C=C/Cc1ccc(O)c(OC)c1)=[O+][B-](F)(F)O2)ccc3O\",\n",
    "    \"CN(C)c3ccc(C/C=C/C2=CC(/C=C/Cc1ccc(N(C)C)cc1)=[O+][B-](F)(F)O2)cc3\",\n",
    "    \"N#Cc3ccc(C/C=C/C2=[O+][B-](F)(F)OC(/C=C/Cc1ccccc1)=C2)cc3\",\n",
    "    \"COc6ccc(C/C=C/C5=CC(/C=C/Cc1cc2ccc3cccc4ccc(c1)c2c34)=[O+][B-](F)(F)O5)cc6\",\n",
    "    \"COc4ccc(C/C=C/C3=CC(/C=C/Cc1ccc(OC)c2ccccc12)=[O+][B-](F)(F)O3)c5ccccc45\",\n",
    "    \"CN(C)c4ccc(C/C=C/C3=CC(/C=C/Cc1ccc(N(C)C)c2ccccc12)=[O+][B-](F)(F)O3)c5ccccc45\",\n",
    "    \"N#Cc3ccc(C/C=C/C2=CC(/C=C/Cc1ccc(C#N)cc1)=[O+][B-](F)(F)O2)cc3\",\n",
    "    \"CCCCN(CCCC)c3ccc(C/C=C/C2=CC(/C=C/Cc1ccc(N(CCCC)CCCC)cc1)=[O+][B-](F)(F)O2)cc3\",\n",
    "    \"COc3ccc(C/C=C/C2=CC(/C=C/Cc1ccc(C#N)cc1)=[O+][B-](F)(F)O2)cc3\",\n",
    "    \"CN5/C(=C\\C\\C=C\\C3=CC(/C=C/C/C=C/2N(C)c1ccccc1C2(C)C)=[O+][B-](F)(F)O3)C(C)(C)c4ccccc45\",\n",
    "    \"COc3ccc(C/C=C/C2=[O+][B-](F)(F)OC(/C=C/Cc1ccc(SC)cc1)=C2)cc3\",\n",
    "    \"CSc3ccc(C/C=C/C2=CC(/C=C/Cc1ccc(SC)cc1)=[O+][B-](F)(F)O2)cc3\",\n",
    "    \"COc3ccc(C/C=C/C2=CC(/C=C/Cc1ccc(N(C)C)cc1)=[O+][B-](F)(F)O2)cc3\",\n",
    "    \"COc1ccccc1C/C=C/C3=CC(/C=C/Cc2ccccc2OC)=[O+][B-](F)(F)O3\",\n",
    "    \"CCCCCC(CC)c5ccc(c4ccc(C/C=C/C3=CC(/C=C/Cc2ccc(c1ccc(C(CC)CCCCC)s1)s2)=[O+][B-](F)(F)O3)s4)s5\"\n",
    ")\n",
    "\n",
    "molecule_names = ['2-ADMeO3', '3-MR83a', 'AD-10', 'AD-1013', 'AD-1022', 'AD-11', 'AD-14-Moore', 'AD-16-DMF', 'AD-18', 'AD-24', 'AD-25', 'AD-3', 'AD-35', 'AD-4', 'AD-48', 'AD-5', 'AD-6', 'AD-7', 'AD-9', 'YD-30']\n",
    "homo_lumo_gap = [3.077, 3.072, 3.259, 2.625, 2.938, 2.946, 2.811, 3.231, 2.735, 2.878, 2.686, 3.215, 2.77, 3.001, 2.702, 2.97, 2.89, 2.859, 3.137, 2.525]\n",
    "\n",
    "# Function to generate Morgan fingerprints safely\n",
    "def generate_morgan_fingerprint_safe(smiles):\n",
    "    \"\"\"Generate Morgan fingerprint and handle errors gracefully.\"\"\"\n",
    "    try:\n",
    "        mol = Chem.MolFromSmiles(smiles)\n",
    "        if mol:\n",
    "            return list(AllChem.GetMorganFingerprintAsBitVect(mol, 2, nBits=2048))\n",
    "    except Exception:\n",
    "        return None\n",
    "    return None\n",
    "\n",
    "molecules = [Chem.MolFromSmiles(smiles) for smiles in curcumin_variants]\n",
    "mws = [round(Descriptors.MolWt(mol),3) for mol in molecules]\n",
    "logp = [Descriptors.MolLogP(mol) for mol in molecules]\n",
    "\n",
    "# Create the initial DataFrame\n",
    "data = {\n",
    "    'Molecule': molecule_names,\n",
    "    'Molecular Weight': mws,\n",
    "    'LogP': logp,\n",
    "    'Homo-Lumo Gap (eV)': homo_lumo_gap,\n",
    "    'Smiles': curcumin_variants\n",
    "}\n",
    "curcumin_df = pd.DataFrame(data)\n",
    "\n",
    "# apply morgan fingerprint to the curcumin_df dataframe\n",
    "curcumin_df['mol'] = curcumin_df['Smiles'].apply(Chem.MolFromSmiles)\n",
    "curcumin_df['Morgan_Fingerprints'] = curcumin_df['Smiles'].apply(generate_morgan_fingerprint_safe)\n",
    "curcumin_df = curcumin_df[curcumin_df['Morgan_Fingerprints'].notnull()].reset_index(drop=True)\n",
    "morgan_df = pd.DataFrame(curcumin_df['Morgan_Fingerprints'].tolist(), columns=[f'morgan_{i}' for i in range(2048)])\n",
    "\n",
    "curcumin_df_mf = pd.concat([curcumin_df.drop(columns=['Morgan_Fingerprints']), morgan_df], axis=1)"
   ]
  },
  {
   "cell_type": "code",
   "execution_count": 2,
   "metadata": {},
   "outputs": [
    {
     "name": "stdout",
     "output_type": "stream",
     "text": [
      "CPU times: total: 5.22 s\n",
      "Wall time: 23.8 s\n"
     ]
    }
   ],
   "source": [
    "%%time\n",
    "# Harvard OPV dataset import\n",
    "data = pd.read_csv('https://raw.githubusercontent.com/AjStephan/havard-smile-opv/main/Non-fullerene%20small-molecules%20acceptors.csv')\n",
    "opv_df = data.drop(columns=[\n",
    "    'index', 'inchikey', 'HOMO_calc', 'LUMO_calc', 'LUMO_calib', 'LUMO_calib_stds',\n",
    "    'HOMO_calib', 'HOMO_calib_stds','GAP_calc', 'molW', 'PCE_calc', 'Voc_calc', 'Jsc_calc',\n",
    "    'FF_calc', 'EQE_calc', 'PCE_calib', 'Voc_calib', 'Jsc_calib', 'FF_calib',\n",
    "    'EQE_calib', 'PCE_cdiff', 'PCE_calib_plus'], axis=1)\n",
    "\n",
    "opv_df['mol'] = opv_df['smiles'].apply(Chem.MolFromSmiles)"
   ]
  },
  {
   "cell_type": "code",
   "execution_count": 3,
   "metadata": {},
   "outputs": [],
   "source": [
    "curcumin_variants_dict = {\n",
    "    \"curcumin_variant00\": \"COc3cc(OC)c(C/C=C/C2=CC(/C=C/Cc1c(OC)cc(OC)cc1OC)=[O+][B-](F)(F)O2)c(OC)c3\",\n",
    "    \"curcumin_variant01\": \"COc3ccc(C/C=C/C2=[O+][B-](F)(F)OC(/C=C/Cc1c(OC)cc(OC)cc1OC)=C2)cc3\",\n",
    "    \"curcumin_variant02\": \"COc3ccc(C/C=C/C2=CC(/C=C/Cc1ccc(OC)cc1OC)=[O+][B-](F)(F)O2)c(OC)c3\",\n",
    "    \"curcumin_variant03\": \"COc5ccc(C/C=C/C4=[O+][B-](F)(F)OC(/C=C/Cc2c1ccccc1cc3ccccc23)=C4)cc5\",\n",
    "    \"curcumin_variant04\": \"COc3ccc(OC)c(C/C=C/C2=CC(/C=C/Cc1cc(OC)ccc1OC)=[O+][B-](F)(F)O2)c3\",\n",
    "    \"curcumin_variant05\": \"COc3cc(C/C=C/C2=CC(/C=C/Cc1ccc(O)c(OC)c1)=[O+][B-](F)(F)O2)ccc3O\",\n",
    "    \"curcumin_variant06\": \"CN(C)c3ccc(C/C=C/C2=CC(/C=C/Cc1ccc(N(C)C)cc1)=[O+][B-](F)(F)O2)cc3\",\n",
    "    \"curcumin_variant07\": \"N#Cc3ccc(C/C=C/C2=[O+][B-](F)(F)OC(/C=C/Cc1ccccc1)=C2)cc3\",\n",
    "    \"curcumin_variant08\": \"COc6ccc(C/C=C/C5=CC(/C=C/Cc1cc2ccc3cccc4ccc(c1)c2c34)=[O+][B-](F)(F)O5)cc6\",\n",
    "    \"curcumin_variant09\": \"COc4ccc(C/C=C/C3=CC(/C=C/Cc1ccc(OC)c2ccccc12)=[O+][B-](F)(F)O3)c5ccccc45\",\n",
    "    \"curcumin_variant10\": \"CN(C)c4ccc(C/C=C/C3=CC(/C=C/Cc1ccc(N(C)C)c2ccccc12)=[O+][B-](F)(F)O3)c5ccccc45\",\n",
    "    \"curcumin_variant11\": \"N#Cc3ccc(C/C=C/C2=CC(/C=C/Cc1ccc(C#N)cc1)=[O+][B-](F)(F)O2)cc3\",\n",
    "    \"curcumin_variant12\": \"CCCCN(CCCC)c3ccc(C/C=C/C2=CC(/C=C/Cc1ccc(N(CCCC)CCCC)cc1)=[O+][B-](F)(F)O2)cc3\",\n",
    "    \"curcumin_variant13\": \"COc3ccc(C/C=C/C2=CC(/C=C/Cc1ccc(C#N)cc1)=[O+][B-](F)(F)O2)cc3\",\n",
    "    \"curcumin_variant14\": \"CN5/C(=C\\C\\C=C\\C3=CC(/C=C/C/C=C/2N(C)c1ccccc1C2(C)C)=[O+][B-](F)(F)O3)C(C)(C)c4ccccc45\",\n",
    "    \"curcumin_variant15\": \"COc3ccc(C/C=C/C2=[O+][B-](F)(F)OC(/C=C/Cc1ccc(SC)cc1)=C2)cc3\",\n",
    "    \"curcumin_variant16\": \"CSc3ccc(C/C=C/C2=CC(/C=C/Cc1ccc(SC)cc1)=[O+][B-](F)(F)O2)cc3\",\n",
    "    \"curcumin_variant17\": \"COc3ccc(C/C=C/C2=CC(/C=C/Cc1ccc(N(C)C)cc1)=[O+][B-](F)(F)O2)cc3\",\n",
    "    \"curcumin_variant18\": \"COc1ccccc1C/C=C/C3=CC(/C=C/Cc2ccccc2OC)=[O+][B-](F)(F)O3\",\n",
    "    \"curcumin_variant19\": \"CCCCCC(CC)c5ccc(c4ccc(C/C=C/C3=CC(/C=C/Cc2ccc(c1ccc(C(CC)CCCCC)s1)s2)=[O+][B-](F)(F)O3)s4)s5\"\n",
    "}"
   ]
  },
  {
   "cell_type": "code",
   "execution_count": 4,
   "metadata": {},
   "outputs": [
    {
     "name": "stdout",
     "output_type": "stream",
     "text": [
      "Processing similarity dataframes...\n",
      "Done processing similarity dataframes.\n",
      "Processing similarity dataframes with Morgan fingerprints...\n",
      "Done processing curcumin_variant00_morgan_dice dataframe - shape (24708, 2052)\n",
      "Done processing curcumin_variant01_morgan_dice dataframe - shape (24625, 2052)\n",
      "Done processing curcumin_variant02_morgan_dice dataframe - shape (24714, 2052)\n",
      "Done processing curcumin_variant03_morgan_dice dataframe - shape (25010, 2052)\n",
      "Done processing curcumin_variant04_morgan_dice dataframe - shape (25257, 2052)\n",
      "Done processing curcumin_variant05_morgan_dice dataframe - shape (24796, 2052)\n",
      "Done processing curcumin_variant06_morgan_dice dataframe - shape (25344, 2052)\n",
      "Done processing curcumin_variant07_morgan_dice dataframe - shape (24765, 2052)\n",
      "Done processing curcumin_variant08_morgan_dice dataframe - shape (24634, 2052)\n",
      "Done processing curcumin_variant09_morgan_dice dataframe - shape (24605, 2052)\n",
      "Done processing curcumin_variant10_morgan_dice dataframe - shape (25026, 2052)\n",
      "Done processing curcumin_variant11_morgan_dice dataframe - shape (24630, 2052)\n",
      "Done processing curcumin_variant12_morgan_dice dataframe - shape (25054, 2052)\n",
      "Done processing curcumin_variant13_morgan_dice dataframe - shape (24669, 2052)\n",
      "Done processing curcumin_variant14_morgan_dice dataframe - shape (24742, 2052)\n",
      "Done processing curcumin_variant15_morgan_dice dataframe - shape (24746, 2052)\n",
      "Done processing curcumin_variant16_morgan_dice dataframe - shape (24836, 2052)\n",
      "Done processing curcumin_variant17_morgan_dice dataframe - shape (24900, 2052)\n",
      "Done processing curcumin_variant18_morgan_dice dataframe - shape (24643, 2052)\n",
      "Done processing curcumin_variant19_morgan_dice dataframe - shape (24811, 2052)\n",
      "Done processing similarity dataframes with Morgan fingerprints.\n",
      "CPU times: total: 7min 34s\n",
      "Wall time: 16min 47s\n"
     ]
    }
   ],
   "source": [
    "%%time\n",
    "from rdkit import Chem\n",
    "from rdkit.Chem import AllChem, DataStructs\n",
    "import pandas as pd\n",
    "\n",
    "# Dictionary to hold the dataframes\n",
    "similarity_dfs = {}\n",
    "\n",
    "# Function to calculate similarity\n",
    "def calculate_similarity(fp1, fp2, metric=\"dice\"):\n",
    "    if metric == \"dice\":\n",
    "        return DataStructs.DiceSimilarity(fp1, fp2)\n",
    "    else:\n",
    "        raise ValueError(f\"Unknown similarity metric: {metric}\")\n",
    "\n",
    "print(\"Processing similarity dataframes...\")\n",
    "\n",
    "# Loop over curcumin variants and create similarity dataframes\n",
    "for key, smiles in curcumin_variants_dict.items():\n",
    "    specific_mol = Chem.MolFromSmiles(smiles)\n",
    "    specific_fp = AllChem.GetMorganFingerprintAsBitVect(specific_mol, 2, nBits=2048)\n",
    "\n",
    "    # Calculate similarity and create a new dataframe with similarity scores\n",
    "    opv_df_sim_segment = opv_df.copy()\n",
    "    opv_df_sim_segment['mol'] = opv_df_sim_segment['smiles'].apply(Chem.MolFromSmiles)\n",
    "    opv_df_sim_segment[f'similarity_{key}_morgan_dice'] = opv_df_sim_segment['mol'].apply(\n",
    "        lambda x: calculate_similarity(AllChem.GetMorganFingerprintAsBitVect(x, 2, nBits=2048), specific_fp)\n",
    "    )\n",
    "\n",
    "    # Filter top 48% similar molecules\n",
    "    quantile_value = opv_df_sim_segment[f'similarity_{key}_morgan_dice'].quantile(0.52)\n",
    "    filtered_df = opv_df_sim_segment[opv_df_sim_segment[f'similarity_{key}_morgan_dice'] >= quantile_value]\n",
    "\n",
    "    # Keep only the relevant columns (initial columns + similarity)\n",
    "    filtered_df = filtered_df[['smiles', 'mol', 'GAP_calib', f'similarity_{key}_morgan_dice']]\n",
    "\n",
    "    # Store the filtered dataframe in the dictionary\n",
    "    similarity_dfs[f'{key}_morgan_dice'] = filtered_df\n",
    "\n",
    "print(\"Done processing similarity dataframes.\")\n",
    "\n",
    "# Dictionary to store DataFrames with Morgan fingerprints\n",
    "similarity_dfs_top48 = {}\n",
    "\n",
    "print(\"Processing similarity dataframes with Morgan fingerprints...\")\n",
    "\n",
    "# Process each dataframe in the similarity_dfs dictionary\n",
    "for key, df in similarity_dfs.items():\n",
    "    # Generate Morgan fingerprints for the smiles in the dataframe\n",
    "    df['Morgan_Fingerprints'] = df['smiles'].apply(generate_morgan_fingerprint_safe)\n",
    "    \n",
    "    # Filter out rows where Morgan fingerprints could not be generated\n",
    "    df = df[df['Morgan_Fingerprints'].notnull()].reset_index(drop=True)\n",
    "    \n",
    "    # Convert the list of fingerprints into a DataFrame\n",
    "    morgan_df = pd.DataFrame(df['Morgan_Fingerprints'].tolist(), columns=[f'morgan_{i}' for i in range(2048)])\n",
    "    \n",
    "    # Concatenate the original DataFrame with the Morgan fingerprints DataFrame\n",
    "    df_mf = pd.concat([df.drop(columns=['Morgan_Fingerprints']), morgan_df], axis=1)\n",
    "    \n",
    "    # Store the final DataFrame in the new dictionary\n",
    "    similarity_dfs_top48[key] = df_mf\n",
    "    \n",
    "    print(f\"Done processing {key} dataframe - shape {df_mf.shape}\")\n",
    "\n",
    "# Unpacking the dictionary to global variables\n",
    "for curcumin_variant_key in similarity_dfs_top48.keys():\n",
    "    globals()[f'similarity_dfs_top48_{curcumin_variant_key}'] = similarity_dfs_top48[curcumin_variant_key]\n",
    "\n",
    "print(\"Done processing similarity dataframes with Morgan fingerprints.\")"
   ]
  },
  {
   "cell_type": "code",
   "execution_count": 5,
   "metadata": {},
   "outputs": [
    {
     "name": "stdout",
     "output_type": "stream",
     "text": [
      "Processing similarity_dfs_top48_curcumin_variant00_morgan_dice...\n",
      "[LightGBM] [Info] Auto-choosing row-wise multi-threading, the overhead of testing was 0.028850 seconds.\n",
      "You can set `force_row_wise=true` to remove the overhead.\n",
      "And if memory is not enough, you can set `force_col_wise=true`.\n",
      "[LightGBM] [Info] Total Bins 2580\n",
      "[LightGBM] [Info] Number of data points in the train set: 18531, number of used features: 1290\n",
      "[LightGBM] [Info] Start training from score 2.779891\n",
      "Done processing similarity_dfs_top48_curcumin_variant00_morgan_dice with R2 score: 0.9456\n",
      "Processing similarity_dfs_top48_curcumin_variant01_morgan_dice...\n",
      "[LightGBM] [Info] Auto-choosing row-wise multi-threading, the overhead of testing was 0.028902 seconds.\n",
      "You can set `force_row_wise=true` to remove the overhead.\n",
      "And if memory is not enough, you can set `force_col_wise=true`.\n",
      "[LightGBM] [Info] Total Bins 2566\n",
      "[LightGBM] [Info] Number of data points in the train set: 18468, number of used features: 1283\n",
      "[LightGBM] [Info] Start training from score 2.797469\n",
      "Done processing similarity_dfs_top48_curcumin_variant01_morgan_dice with R2 score: 0.9476\n",
      "Processing similarity_dfs_top48_curcumin_variant02_morgan_dice...\n",
      "[LightGBM] [Info] Auto-choosing row-wise multi-threading, the overhead of testing was 0.037208 seconds.\n",
      "You can set `force_row_wise=true` to remove the overhead.\n",
      "And if memory is not enough, you can set `force_col_wise=true`.\n",
      "[LightGBM] [Info] Total Bins 2600\n",
      "[LightGBM] [Info] Number of data points in the train set: 18535, number of used features: 1300\n",
      "[LightGBM] [Info] Start training from score 2.776420\n",
      "Done processing similarity_dfs_top48_curcumin_variant02_morgan_dice with R2 score: 0.9471\n",
      "Processing similarity_dfs_top48_curcumin_variant03_morgan_dice...\n",
      "[LightGBM] [Info] Auto-choosing row-wise multi-threading, the overhead of testing was 0.024098 seconds.\n",
      "You can set `force_row_wise=true` to remove the overhead.\n",
      "And if memory is not enough, you can set `force_col_wise=true`.\n",
      "[LightGBM] [Info] Total Bins 2592\n",
      "[LightGBM] [Info] Number of data points in the train set: 18757, number of used features: 1296\n",
      "[LightGBM] [Info] Start training from score 2.775995\n",
      "Done processing similarity_dfs_top48_curcumin_variant03_morgan_dice with R2 score: 0.9303\n",
      "Processing similarity_dfs_top48_curcumin_variant04_morgan_dice...\n",
      "[LightGBM] [Info] Auto-choosing row-wise multi-threading, the overhead of testing was 0.026429 seconds.\n",
      "You can set `force_row_wise=true` to remove the overhead.\n",
      "And if memory is not enough, you can set `force_col_wise=true`.\n",
      "[LightGBM] [Info] Total Bins 2612\n",
      "[LightGBM] [Info] Number of data points in the train set: 18942, number of used features: 1306\n",
      "[LightGBM] [Info] Start training from score 2.779212\n",
      "Done processing similarity_dfs_top48_curcumin_variant04_morgan_dice with R2 score: 0.9276\n",
      "Processing similarity_dfs_top48_curcumin_variant05_morgan_dice...\n",
      "[LightGBM] [Info] Auto-choosing row-wise multi-threading, the overhead of testing was 0.028464 seconds.\n",
      "You can set `force_row_wise=true` to remove the overhead.\n",
      "And if memory is not enough, you can set `force_col_wise=true`.\n",
      "[LightGBM] [Info] Total Bins 2608\n",
      "[LightGBM] [Info] Number of data points in the train set: 18597, number of used features: 1304\n",
      "[LightGBM] [Info] Start training from score 2.793571\n",
      "Done processing similarity_dfs_top48_curcumin_variant05_morgan_dice with R2 score: 0.9392\n",
      "Processing similarity_dfs_top48_curcumin_variant06_morgan_dice...\n",
      "[LightGBM] [Info] Auto-choosing row-wise multi-threading, the overhead of testing was 0.025258 seconds.\n",
      "You can set `force_row_wise=true` to remove the overhead.\n",
      "And if memory is not enough, you can set `force_col_wise=true`.\n",
      "[LightGBM] [Info] Total Bins 2598\n",
      "[LightGBM] [Info] Number of data points in the train set: 19008, number of used features: 1299\n",
      "[LightGBM] [Info] Start training from score 2.799018\n",
      "Done processing similarity_dfs_top48_curcumin_variant06_morgan_dice with R2 score: 0.9353\n",
      "Processing similarity_dfs_top48_curcumin_variant07_morgan_dice...\n",
      "[LightGBM] [Info] Auto-choosing col-wise multi-threading, the overhead of testing was 0.066649 seconds.\n",
      "You can set `force_col_wise=true` to remove the overhead.\n",
      "[LightGBM] [Info] Total Bins 2728\n",
      "[LightGBM] [Info] Number of data points in the train set: 18573, number of used features: 1364\n",
      "[LightGBM] [Info] Start training from score 2.827455\n",
      "Done processing similarity_dfs_top48_curcumin_variant07_morgan_dice with R2 score: 0.9256\n",
      "Processing similarity_dfs_top48_curcumin_variant08_morgan_dice...\n",
      "[LightGBM] [Info] Auto-choosing row-wise multi-threading, the overhead of testing was 0.025562 seconds.\n",
      "You can set `force_row_wise=true` to remove the overhead.\n",
      "And if memory is not enough, you can set `force_col_wise=true`.\n",
      "[LightGBM] [Info] Total Bins 2564\n",
      "[LightGBM] [Info] Number of data points in the train set: 18475, number of used features: 1282\n",
      "[LightGBM] [Info] Start training from score 2.771378\n",
      "Done processing similarity_dfs_top48_curcumin_variant08_morgan_dice with R2 score: 0.9421\n",
      "Processing similarity_dfs_top48_curcumin_variant09_morgan_dice...\n",
      "[LightGBM] [Info] Auto-choosing row-wise multi-threading, the overhead of testing was 0.026059 seconds.\n",
      "You can set `force_row_wise=true` to remove the overhead.\n",
      "And if memory is not enough, you can set `force_col_wise=true`.\n",
      "[LightGBM] [Info] Total Bins 2598\n",
      "[LightGBM] [Info] Number of data points in the train set: 18453, number of used features: 1299\n",
      "[LightGBM] [Info] Start training from score 2.766030\n",
      "Done processing similarity_dfs_top48_curcumin_variant09_morgan_dice with R2 score: 0.9397\n",
      "Processing similarity_dfs_top48_curcumin_variant10_morgan_dice...\n",
      "[LightGBM] [Info] Auto-choosing row-wise multi-threading, the overhead of testing was 0.026707 seconds.\n",
      "You can set `force_row_wise=true` to remove the overhead.\n",
      "And if memory is not enough, you can set `force_col_wise=true`.\n",
      "[LightGBM] [Info] Total Bins 2590\n",
      "[LightGBM] [Info] Number of data points in the train set: 18769, number of used features: 1295\n",
      "[LightGBM] [Info] Start training from score 2.789821\n",
      "Done processing similarity_dfs_top48_curcumin_variant10_morgan_dice with R2 score: 0.9351\n",
      "Processing similarity_dfs_top48_curcumin_variant11_morgan_dice...\n",
      "[LightGBM] [Info] Auto-choosing row-wise multi-threading, the overhead of testing was 0.026080 seconds.\n",
      "You can set `force_row_wise=true` to remove the overhead.\n",
      "And if memory is not enough, you can set `force_col_wise=true`.\n",
      "[LightGBM] [Info] Total Bins 2692\n",
      "[LightGBM] [Info] Number of data points in the train set: 18472, number of used features: 1346\n",
      "[LightGBM] [Info] Start training from score 2.811315\n",
      "Done processing similarity_dfs_top48_curcumin_variant11_morgan_dice with R2 score: 0.9334\n",
      "Processing similarity_dfs_top48_curcumin_variant12_morgan_dice...\n",
      "[LightGBM] [Info] Auto-choosing row-wise multi-threading, the overhead of testing was 0.026999 seconds.\n",
      "You can set `force_row_wise=true` to remove the overhead.\n",
      "And if memory is not enough, you can set `force_col_wise=true`.\n",
      "[LightGBM] [Info] Total Bins 2596\n",
      "[LightGBM] [Info] Number of data points in the train set: 18790, number of used features: 1298\n",
      "[LightGBM] [Info] Start training from score 2.786709\n",
      "Done processing similarity_dfs_top48_curcumin_variant12_morgan_dice with R2 score: 0.9403\n",
      "Processing similarity_dfs_top48_curcumin_variant13_morgan_dice...\n",
      "[LightGBM] [Info] Auto-choosing row-wise multi-threading, the overhead of testing was 0.025062 seconds.\n",
      "You can set `force_row_wise=true` to remove the overhead.\n",
      "And if memory is not enough, you can set `force_col_wise=true`.\n",
      "[LightGBM] [Info] Total Bins 2700\n",
      "[LightGBM] [Info] Number of data points in the train set: 18501, number of used features: 1350\n",
      "[LightGBM] [Info] Start training from score 2.792417\n",
      "Done processing similarity_dfs_top48_curcumin_variant13_morgan_dice with R2 score: 0.9423\n",
      "Processing similarity_dfs_top48_curcumin_variant14_morgan_dice...\n",
      "[LightGBM] [Info] Auto-choosing row-wise multi-threading, the overhead of testing was 0.024387 seconds.\n",
      "You can set `force_row_wise=true` to remove the overhead.\n",
      "And if memory is not enough, you can set `force_col_wise=true`.\n",
      "[LightGBM] [Info] Total Bins 2492\n",
      "[LightGBM] [Info] Number of data points in the train set: 18556, number of used features: 1246\n",
      "[LightGBM] [Info] Start training from score 2.606983\n",
      "Done processing similarity_dfs_top48_curcumin_variant14_morgan_dice with R2 score: 0.9441\n",
      "Processing similarity_dfs_top48_curcumin_variant15_morgan_dice...\n",
      "[LightGBM] [Info] Auto-choosing col-wise multi-threading, the overhead of testing was 0.027450 seconds.\n",
      "You can set `force_col_wise=true` to remove the overhead.\n",
      "[LightGBM] [Info] Total Bins 2596\n",
      "[LightGBM] [Info] Number of data points in the train set: 18559, number of used features: 1298\n",
      "[LightGBM] [Info] Start training from score 2.784774\n",
      "Done processing similarity_dfs_top48_curcumin_variant15_morgan_dice with R2 score: 0.9387\n",
      "Processing similarity_dfs_top48_curcumin_variant16_morgan_dice...\n",
      "[LightGBM] [Info] Auto-choosing row-wise multi-threading, the overhead of testing was 0.025853 seconds.\n",
      "You can set `force_row_wise=true` to remove the overhead.\n",
      "And if memory is not enough, you can set `force_col_wise=true`.\n",
      "[LightGBM] [Info] Total Bins 2572\n",
      "[LightGBM] [Info] Number of data points in the train set: 18627, number of used features: 1286\n",
      "[LightGBM] [Info] Start training from score 2.768410\n",
      "Done processing similarity_dfs_top48_curcumin_variant16_morgan_dice with R2 score: 0.9396\n",
      "Processing similarity_dfs_top48_curcumin_variant17_morgan_dice...\n",
      "[LightGBM] [Info] Auto-choosing row-wise multi-threading, the overhead of testing was 0.024115 seconds.\n",
      "You can set `force_row_wise=true` to remove the overhead.\n",
      "And if memory is not enough, you can set `force_col_wise=true`.\n",
      "[LightGBM] [Info] Total Bins 2604\n",
      "[LightGBM] [Info] Number of data points in the train set: 18675, number of used features: 1302\n",
      "[LightGBM] [Info] Start training from score 2.806743\n",
      "Done processing similarity_dfs_top48_curcumin_variant17_morgan_dice with R2 score: 0.9374\n",
      "Processing similarity_dfs_top48_curcumin_variant18_morgan_dice...\n",
      "[LightGBM] [Info] Auto-choosing row-wise multi-threading, the overhead of testing was 0.025682 seconds.\n",
      "You can set `force_row_wise=true` to remove the overhead.\n",
      "And if memory is not enough, you can set `force_col_wise=true`.\n",
      "[LightGBM] [Info] Total Bins 2610\n",
      "[LightGBM] [Info] Number of data points in the train set: 18482, number of used features: 1305\n",
      "[LightGBM] [Info] Start training from score 2.773175\n",
      "Done processing similarity_dfs_top48_curcumin_variant18_morgan_dice with R2 score: 0.9366\n",
      "Processing similarity_dfs_top48_curcumin_variant19_morgan_dice...\n",
      "[LightGBM] [Info] Auto-choosing row-wise multi-threading, the overhead of testing was 0.029295 seconds.\n",
      "You can set `force_row_wise=true` to remove the overhead.\n",
      "And if memory is not enough, you can set `force_col_wise=true`.\n",
      "[LightGBM] [Info] Total Bins 2638\n",
      "[LightGBM] [Info] Number of data points in the train set: 18608, number of used features: 1319\n",
      "[LightGBM] [Info] Start training from score 2.758854\n",
      "Done processing similarity_dfs_top48_curcumin_variant19_morgan_dice with R2 score: 0.8690\n",
      "CPU times: total: 2min 25s\n",
      "Wall time: 1min 24s\n"
     ]
    },
    {
     "data": {
      "text/html": [
       "<div>\n",
       "<style scoped>\n",
       "    .dataframe tbody tr th:only-of-type {\n",
       "        vertical-align: middle;\n",
       "    }\n",
       "\n",
       "    .dataframe tbody tr th {\n",
       "        vertical-align: top;\n",
       "    }\n",
       "\n",
       "    .dataframe thead th {\n",
       "        text-align: right;\n",
       "    }\n",
       "</style>\n",
       "<table border=\"1\" class=\"dataframe\">\n",
       "  <thead>\n",
       "    <tr style=\"text-align: right;\">\n",
       "      <th></th>\n",
       "      <th>variant</th>\n",
       "      <th>r2_score</th>\n",
       "    </tr>\n",
       "  </thead>\n",
       "  <tbody>\n",
       "    <tr>\n",
       "      <th>0</th>\n",
       "      <td>similarity_dfs_top48_curcumin_variant00_morgan...</td>\n",
       "      <td>0.945646</td>\n",
       "    </tr>\n",
       "    <tr>\n",
       "      <th>1</th>\n",
       "      <td>similarity_dfs_top48_curcumin_variant01_morgan...</td>\n",
       "      <td>0.947632</td>\n",
       "    </tr>\n",
       "    <tr>\n",
       "      <th>2</th>\n",
       "      <td>similarity_dfs_top48_curcumin_variant02_morgan...</td>\n",
       "      <td>0.947148</td>\n",
       "    </tr>\n",
       "    <tr>\n",
       "      <th>3</th>\n",
       "      <td>similarity_dfs_top48_curcumin_variant03_morgan...</td>\n",
       "      <td>0.930341</td>\n",
       "    </tr>\n",
       "    <tr>\n",
       "      <th>4</th>\n",
       "      <td>similarity_dfs_top48_curcumin_variant04_morgan...</td>\n",
       "      <td>0.927627</td>\n",
       "    </tr>\n",
       "    <tr>\n",
       "      <th>5</th>\n",
       "      <td>similarity_dfs_top48_curcumin_variant05_morgan...</td>\n",
       "      <td>0.939201</td>\n",
       "    </tr>\n",
       "    <tr>\n",
       "      <th>6</th>\n",
       "      <td>similarity_dfs_top48_curcumin_variant06_morgan...</td>\n",
       "      <td>0.935306</td>\n",
       "    </tr>\n",
       "    <tr>\n",
       "      <th>7</th>\n",
       "      <td>similarity_dfs_top48_curcumin_variant07_morgan...</td>\n",
       "      <td>0.925605</td>\n",
       "    </tr>\n",
       "    <tr>\n",
       "      <th>8</th>\n",
       "      <td>similarity_dfs_top48_curcumin_variant08_morgan...</td>\n",
       "      <td>0.942101</td>\n",
       "    </tr>\n",
       "    <tr>\n",
       "      <th>9</th>\n",
       "      <td>similarity_dfs_top48_curcumin_variant09_morgan...</td>\n",
       "      <td>0.939667</td>\n",
       "    </tr>\n",
       "    <tr>\n",
       "      <th>10</th>\n",
       "      <td>similarity_dfs_top48_curcumin_variant10_morgan...</td>\n",
       "      <td>0.935123</td>\n",
       "    </tr>\n",
       "    <tr>\n",
       "      <th>11</th>\n",
       "      <td>similarity_dfs_top48_curcumin_variant11_morgan...</td>\n",
       "      <td>0.933387</td>\n",
       "    </tr>\n",
       "    <tr>\n",
       "      <th>12</th>\n",
       "      <td>similarity_dfs_top48_curcumin_variant12_morgan...</td>\n",
       "      <td>0.940310</td>\n",
       "    </tr>\n",
       "    <tr>\n",
       "      <th>13</th>\n",
       "      <td>similarity_dfs_top48_curcumin_variant13_morgan...</td>\n",
       "      <td>0.942261</td>\n",
       "    </tr>\n",
       "    <tr>\n",
       "      <th>14</th>\n",
       "      <td>similarity_dfs_top48_curcumin_variant14_morgan...</td>\n",
       "      <td>0.944085</td>\n",
       "    </tr>\n",
       "    <tr>\n",
       "      <th>15</th>\n",
       "      <td>similarity_dfs_top48_curcumin_variant15_morgan...</td>\n",
       "      <td>0.938666</td>\n",
       "    </tr>\n",
       "    <tr>\n",
       "      <th>16</th>\n",
       "      <td>similarity_dfs_top48_curcumin_variant16_morgan...</td>\n",
       "      <td>0.939633</td>\n",
       "    </tr>\n",
       "    <tr>\n",
       "      <th>17</th>\n",
       "      <td>similarity_dfs_top48_curcumin_variant17_morgan...</td>\n",
       "      <td>0.937407</td>\n",
       "    </tr>\n",
       "    <tr>\n",
       "      <th>18</th>\n",
       "      <td>similarity_dfs_top48_curcumin_variant18_morgan...</td>\n",
       "      <td>0.936629</td>\n",
       "    </tr>\n",
       "    <tr>\n",
       "      <th>19</th>\n",
       "      <td>similarity_dfs_top48_curcumin_variant19_morgan...</td>\n",
       "      <td>0.868994</td>\n",
       "    </tr>\n",
       "  </tbody>\n",
       "</table>\n",
       "</div>"
      ],
      "text/plain": [
       "                                              variant  r2_score\n",
       "0   similarity_dfs_top48_curcumin_variant00_morgan...  0.945646\n",
       "1   similarity_dfs_top48_curcumin_variant01_morgan...  0.947632\n",
       "2   similarity_dfs_top48_curcumin_variant02_morgan...  0.947148\n",
       "3   similarity_dfs_top48_curcumin_variant03_morgan...  0.930341\n",
       "4   similarity_dfs_top48_curcumin_variant04_morgan...  0.927627\n",
       "5   similarity_dfs_top48_curcumin_variant05_morgan...  0.939201\n",
       "6   similarity_dfs_top48_curcumin_variant06_morgan...  0.935306\n",
       "7   similarity_dfs_top48_curcumin_variant07_morgan...  0.925605\n",
       "8   similarity_dfs_top48_curcumin_variant08_morgan...  0.942101\n",
       "9   similarity_dfs_top48_curcumin_variant09_morgan...  0.939667\n",
       "10  similarity_dfs_top48_curcumin_variant10_morgan...  0.935123\n",
       "11  similarity_dfs_top48_curcumin_variant11_morgan...  0.933387\n",
       "12  similarity_dfs_top48_curcumin_variant12_morgan...  0.940310\n",
       "13  similarity_dfs_top48_curcumin_variant13_morgan...  0.942261\n",
       "14  similarity_dfs_top48_curcumin_variant14_morgan...  0.944085\n",
       "15  similarity_dfs_top48_curcumin_variant15_morgan...  0.938666\n",
       "16  similarity_dfs_top48_curcumin_variant16_morgan...  0.939633\n",
       "17  similarity_dfs_top48_curcumin_variant17_morgan...  0.937407\n",
       "18  similarity_dfs_top48_curcumin_variant18_morgan...  0.936629\n",
       "19  similarity_dfs_top48_curcumin_variant19_morgan...  0.868994"
      ]
     },
     "execution_count": 5,
     "metadata": {},
     "output_type": "execute_result"
    }
   ],
   "source": [
    "%%time\n",
    "import lightgbm as lgb\n",
    "from sklearn.model_selection import train_test_split\n",
    "from sklearn.metrics import r2_score\n",
    "import pandas as pd\n",
    "\n",
    "curcumin_variants_dict = {\n",
    "    \"curcumin_variant00\": \"COc3cc(OC)c(C/C=C/C2=CC(/C=C/Cc1c(OC)cc(OC)cc1OC)=[O+][B-](F)(F)O2)c(OC)c3\",\n",
    "    \"curcumin_variant01\": \"COc3ccc(C/C=C/C2=[O+][B-](F)(F)OC(/C=C/Cc1c(OC)cc(OC)cc1OC)=C2)cc3\",\n",
    "    \"curcumin_variant02\": \"COc3ccc(C/C=C/C2=CC(/C=C/Cc1ccc(OC)cc1OC)=[O+][B-](F)(F)O2)c(OC)c3\",\n",
    "    \"curcumin_variant03\": \"COc5ccc(C/C=C/C4=[O+][B-](F)(F)OC(/C=C/Cc2c1ccccc1cc3ccccc23)=C4)cc5\",\n",
    "    \"curcumin_variant04\": \"COc3ccc(OC)c(C/C=C/C2=CC(/C=C/Cc1cc(OC)ccc1OC)=[O+][B-](F)(F)O2)c3\",\n",
    "    \"curcumin_variant05\": \"COc3cc(C/C=C/C2=CC(/C=C/Cc1ccc(O)c(OC)c1)=[O+][B-](F)(F)O2)ccc3O\",\n",
    "    \"curcumin_variant06\": \"CN(C)c3ccc(C/C=C/C2=CC(/C=C/Cc1ccc(N(C)C)cc1)=[O+][B-](F)(F)O2)cc3\",\n",
    "    \"curcumin_variant07\": \"N#Cc3ccc(C/C=C/C2=[O+][B-](F)(F)OC(/C=C/Cc1ccccc1)=C2)cc3\",\n",
    "    \"curcumin_variant08\": \"COc6ccc(C/C=C/C5=CC(/C=C/Cc1cc2ccc3cccc4ccc(c1)c2c34)=[O+][B-](F)(F)O5)cc6\",\n",
    "    \"curcumin_variant09\": \"COc4ccc(C/C=C/C3=CC(/C=C/Cc1ccc(OC)c2ccccc12)=[O+][B-](F)(F)O3)c5ccccc45\",\n",
    "    \"curcumin_variant10\": \"CN(C)c4ccc(C/C=C/C3=CC(/C=C/Cc1ccc(N(C)C)c2ccccc12)=[O+][B-](F)(F)O3)c5ccccc45\",\n",
    "    \"curcumin_variant11\": \"N#Cc3ccc(C/C=C/C2=CC(/C=C/Cc1ccc(C#N)cc1)=[O+][B-](F)(F)O2)cc3\",\n",
    "    \"curcumin_variant12\": \"CCCCN(CCCC)c3ccc(C/C=C/C2=CC(/C=C/Cc1ccc(N(CCCC)CCCC)cc1)=[O+][B-](F)(F)O2)cc3\",\n",
    "    \"curcumin_variant13\": \"COc3ccc(C/C=C/C2=CC(/C=C/Cc1ccc(C#N)cc1)=[O+][B-](F)(F)O2)cc3\",\n",
    "    \"curcumin_variant14\": \"CN5/C(=C\\C\\C=C\\C3=CC(/C=C/C/C=C/2N(C)c1ccccc1C2(C)C)=[O+][B-](F)(F)O3)C(C)(C)c4ccccc45\",\n",
    "    \"curcumin_variant15\": \"COc3ccc(C/C=C/C2=[O+][B-](F)(F)OC(/C=C/Cc1ccc(SC)cc1)=C2)cc3\",\n",
    "    \"curcumin_variant16\": \"CSc3ccc(C/C=C/C2=CC(/C=C/Cc1ccc(SC)cc1)=[O+][B-](F)(F)O2)cc3\",\n",
    "    \"curcumin_variant17\": \"COc3ccc(C/C=C/C2=CC(/C=C/Cc1ccc(N(C)C)cc1)=[O+][B-](F)(F)O2)cc3\",\n",
    "    \"curcumin_variant18\": \"COc1ccccc1C/C=C/C3=CC(/C=C/Cc2ccccc2OC)=[O+][B-](F)(F)O3\",\n",
    "    \"curcumin_variant19\": \"CCCCCC(CC)c5ccc(c4ccc(C/C=C/C3=CC(/C=C/Cc2ccc(c1ccc(C(CC)CCCCC)s1)s2)=[O+][B-](F)(F)O3)s4)s5\"\n",
    "}\n",
    "\n",
    "\n",
    "# Define the similarity method and curcumin variants\n",
    "similarity_method = 'morgan_dice'\n",
    "curcumin_variants = list(curcumin_variants_dict.keys())\n",
    "\n",
    "# Create a list of tuples for dataframes using the chosen similarity method\n",
    "dataframes = [\n",
    "    (f'similarity_dfs_top48_{variant}_{similarity_method}', globals()[f'similarity_dfs_top48_{variant}_{similarity_method}'])\n",
    "    for variant in curcumin_variants\n",
    "]\n",
    "\n",
    "# Define the LightGBM model with the specified parameters\n",
    "tuned_params = {'n_estimators': 1000, 'learning_rate': 0.23685145356420312, 'num_leaves': 51}\n",
    "lgb_model = lgb.LGBMRegressor(**tuned_params)\n",
    "\n",
    "results = []\n",
    "best_models = {}  # Dictionary to store the best models by variant name\n",
    "\n",
    "for name, df in dataframes:\n",
    "    print(f\"Processing {name}...\")\n",
    "    X = df.iloc[:, 4:]\n",
    "    y = df['GAP_calib']\n",
    "    X_train, X_test, y_train, y_test = train_test_split(X, y, test_size=0.25, random_state=123)\n",
    "    lgb_model.fit(X_train, y_train)\n",
    "    y_pred = lgb_model.predict(X_test)\n",
    "    \n",
    "    r2 = r2_score(y_test, y_pred)\n",
    "    \n",
    "    # Store the model and its R2 score\n",
    "    best_models[name] = lgb_model\n",
    "    results.append({'variant': name, 'r2_score': r2})\n",
    "\n",
    "    print(f\"Done processing {name} with R2 score: {r2:.4f}\")\n",
    "\n",
    "# Convert results to a DataFrame\n",
    "final_results_top48 = pd.DataFrame(results)\n",
    "\n",
    "# Display the first few rows of the final results\n",
    "final_results_top48"
   ]
  },
  {
   "cell_type": "code",
   "execution_count": 6,
   "metadata": {},
   "outputs": [
    {
     "data": {
      "text/html": [
       "<div>\n",
       "<style scoped>\n",
       "    .dataframe tbody tr th:only-of-type {\n",
       "        vertical-align: middle;\n",
       "    }\n",
       "\n",
       "    .dataframe tbody tr th {\n",
       "        vertical-align: top;\n",
       "    }\n",
       "\n",
       "    .dataframe thead th {\n",
       "        text-align: right;\n",
       "    }\n",
       "</style>\n",
       "<table border=\"1\" class=\"dataframe\">\n",
       "  <thead>\n",
       "    <tr style=\"text-align: right;\">\n",
       "      <th></th>\n",
       "      <th>variant</th>\n",
       "      <th>r2_score</th>\n",
       "      <th>Molecule</th>\n",
       "    </tr>\n",
       "  </thead>\n",
       "  <tbody>\n",
       "    <tr>\n",
       "      <th>0</th>\n",
       "      <td>similarity_dfs_top48_curcumin_variant00_morgan...</td>\n",
       "      <td>0.945646</td>\n",
       "      <td>2-ADMeO3</td>\n",
       "    </tr>\n",
       "    <tr>\n",
       "      <th>1</th>\n",
       "      <td>similarity_dfs_top48_curcumin_variant01_morgan...</td>\n",
       "      <td>0.947632</td>\n",
       "      <td>3-MR83a</td>\n",
       "    </tr>\n",
       "    <tr>\n",
       "      <th>2</th>\n",
       "      <td>similarity_dfs_top48_curcumin_variant02_morgan...</td>\n",
       "      <td>0.947148</td>\n",
       "      <td>AD-10</td>\n",
       "    </tr>\n",
       "    <tr>\n",
       "      <th>3</th>\n",
       "      <td>similarity_dfs_top48_curcumin_variant03_morgan...</td>\n",
       "      <td>0.930341</td>\n",
       "      <td>AD-1013</td>\n",
       "    </tr>\n",
       "    <tr>\n",
       "      <th>4</th>\n",
       "      <td>similarity_dfs_top48_curcumin_variant04_morgan...</td>\n",
       "      <td>0.927627</td>\n",
       "      <td>AD-1022</td>\n",
       "    </tr>\n",
       "    <tr>\n",
       "      <th>5</th>\n",
       "      <td>similarity_dfs_top48_curcumin_variant05_morgan...</td>\n",
       "      <td>0.939201</td>\n",
       "      <td>AD-11</td>\n",
       "    </tr>\n",
       "    <tr>\n",
       "      <th>6</th>\n",
       "      <td>similarity_dfs_top48_curcumin_variant06_morgan...</td>\n",
       "      <td>0.935306</td>\n",
       "      <td>AD-14-Moore</td>\n",
       "    </tr>\n",
       "    <tr>\n",
       "      <th>7</th>\n",
       "      <td>similarity_dfs_top48_curcumin_variant07_morgan...</td>\n",
       "      <td>0.925605</td>\n",
       "      <td>AD-16-DMF</td>\n",
       "    </tr>\n",
       "    <tr>\n",
       "      <th>8</th>\n",
       "      <td>similarity_dfs_top48_curcumin_variant08_morgan...</td>\n",
       "      <td>0.942101</td>\n",
       "      <td>AD-18</td>\n",
       "    </tr>\n",
       "    <tr>\n",
       "      <th>9</th>\n",
       "      <td>similarity_dfs_top48_curcumin_variant09_morgan...</td>\n",
       "      <td>0.939667</td>\n",
       "      <td>AD-24</td>\n",
       "    </tr>\n",
       "    <tr>\n",
       "      <th>10</th>\n",
       "      <td>similarity_dfs_top48_curcumin_variant10_morgan...</td>\n",
       "      <td>0.935123</td>\n",
       "      <td>AD-25</td>\n",
       "    </tr>\n",
       "    <tr>\n",
       "      <th>11</th>\n",
       "      <td>similarity_dfs_top48_curcumin_variant11_morgan...</td>\n",
       "      <td>0.933387</td>\n",
       "      <td>AD-3</td>\n",
       "    </tr>\n",
       "    <tr>\n",
       "      <th>12</th>\n",
       "      <td>similarity_dfs_top48_curcumin_variant12_morgan...</td>\n",
       "      <td>0.940310</td>\n",
       "      <td>AD-35</td>\n",
       "    </tr>\n",
       "    <tr>\n",
       "      <th>13</th>\n",
       "      <td>similarity_dfs_top48_curcumin_variant13_morgan...</td>\n",
       "      <td>0.942261</td>\n",
       "      <td>AD-4</td>\n",
       "    </tr>\n",
       "    <tr>\n",
       "      <th>14</th>\n",
       "      <td>similarity_dfs_top48_curcumin_variant14_morgan...</td>\n",
       "      <td>0.944085</td>\n",
       "      <td>AD-48</td>\n",
       "    </tr>\n",
       "    <tr>\n",
       "      <th>15</th>\n",
       "      <td>similarity_dfs_top48_curcumin_variant15_morgan...</td>\n",
       "      <td>0.938666</td>\n",
       "      <td>AD-5</td>\n",
       "    </tr>\n",
       "    <tr>\n",
       "      <th>16</th>\n",
       "      <td>similarity_dfs_top48_curcumin_variant16_morgan...</td>\n",
       "      <td>0.939633</td>\n",
       "      <td>AD-6</td>\n",
       "    </tr>\n",
       "    <tr>\n",
       "      <th>17</th>\n",
       "      <td>similarity_dfs_top48_curcumin_variant17_morgan...</td>\n",
       "      <td>0.937407</td>\n",
       "      <td>AD-7</td>\n",
       "    </tr>\n",
       "    <tr>\n",
       "      <th>18</th>\n",
       "      <td>similarity_dfs_top48_curcumin_variant18_morgan...</td>\n",
       "      <td>0.936629</td>\n",
       "      <td>AD-9</td>\n",
       "    </tr>\n",
       "    <tr>\n",
       "      <th>19</th>\n",
       "      <td>similarity_dfs_top48_curcumin_variant19_morgan...</td>\n",
       "      <td>0.868994</td>\n",
       "      <td>YD-30</td>\n",
       "    </tr>\n",
       "  </tbody>\n",
       "</table>\n",
       "</div>"
      ],
      "text/plain": [
       "                                              variant  r2_score     Molecule\n",
       "0   similarity_dfs_top48_curcumin_variant00_morgan...  0.945646     2-ADMeO3\n",
       "1   similarity_dfs_top48_curcumin_variant01_morgan...  0.947632      3-MR83a\n",
       "2   similarity_dfs_top48_curcumin_variant02_morgan...  0.947148        AD-10\n",
       "3   similarity_dfs_top48_curcumin_variant03_morgan...  0.930341      AD-1013\n",
       "4   similarity_dfs_top48_curcumin_variant04_morgan...  0.927627      AD-1022\n",
       "5   similarity_dfs_top48_curcumin_variant05_morgan...  0.939201        AD-11\n",
       "6   similarity_dfs_top48_curcumin_variant06_morgan...  0.935306  AD-14-Moore\n",
       "7   similarity_dfs_top48_curcumin_variant07_morgan...  0.925605    AD-16-DMF\n",
       "8   similarity_dfs_top48_curcumin_variant08_morgan...  0.942101        AD-18\n",
       "9   similarity_dfs_top48_curcumin_variant09_morgan...  0.939667        AD-24\n",
       "10  similarity_dfs_top48_curcumin_variant10_morgan...  0.935123        AD-25\n",
       "11  similarity_dfs_top48_curcumin_variant11_morgan...  0.933387         AD-3\n",
       "12  similarity_dfs_top48_curcumin_variant12_morgan...  0.940310        AD-35\n",
       "13  similarity_dfs_top48_curcumin_variant13_morgan...  0.942261         AD-4\n",
       "14  similarity_dfs_top48_curcumin_variant14_morgan...  0.944085        AD-48\n",
       "15  similarity_dfs_top48_curcumin_variant15_morgan...  0.938666         AD-5\n",
       "16  similarity_dfs_top48_curcumin_variant16_morgan...  0.939633         AD-6\n",
       "17  similarity_dfs_top48_curcumin_variant17_morgan...  0.937407         AD-7\n",
       "18  similarity_dfs_top48_curcumin_variant18_morgan...  0.936629         AD-9\n",
       "19  similarity_dfs_top48_curcumin_variant19_morgan...  0.868994        YD-30"
      ]
     },
     "execution_count": 6,
     "metadata": {},
     "output_type": "execute_result"
    }
   ],
   "source": [
    "# Extract index from the variant column in final_results_top48\n",
    "final_results_top48['index'] = final_results_top48['variant'].apply(\n",
    "    lambda x: int(x.split('variant')[1].split('_')[0])\n",
    ")\n",
    "\n",
    "# Map the Molecule column from curcumin_df_mf based on the extracted index\n",
    "final_results_top48['Molecule'] = final_results_top48['index'].map(\n",
    "    curcumin_df_mf.set_index(curcumin_df_mf.index)['Molecule']\n",
    ")\n",
    "\n",
    "# Drop the temporary index column if not needed\n",
    "final_results_top48.drop(columns=['index'], inplace=True)\n",
    "\n",
    "# Display the updated dataframe\n",
    "final_results_top48"
   ]
  },
  {
   "cell_type": "code",
   "execution_count": 7,
   "metadata": {},
   "outputs": [
    {
     "data": {
      "application/vnd.plotly.v1+json": {
       "config": {
        "plotlyServerURL": "https://plot.ly"
       },
       "data": [
        {
         "alignmentgroup": "True",
         "hovertemplate": "Molecule=%{x}<br>R2 Score=%{y}<br>text=%{text}<extra></extra>",
         "legendgroup": "",
         "marker": {
          "color": "#636efa",
          "pattern": {
           "shape": ""
          }
         },
         "name": "",
         "offsetgroup": "",
         "orientation": "v",
         "showlegend": false,
         "text": [
          0.9456,
          0.9476,
          0.9471,
          0.9303,
          0.9276,
          0.9392,
          0.9353,
          0.9256,
          0.9421,
          0.9397,
          0.9351,
          0.9334,
          0.9403,
          0.9423,
          0.9441,
          0.9387,
          0.9396,
          0.9374,
          0.9366,
          0.869
         ],
         "textposition": "auto",
         "type": "bar",
         "x": [
          "2-ADMeO3",
          "3-MR83a",
          "AD-10",
          "AD-1013",
          "AD-1022",
          "AD-11",
          "AD-14-Moore",
          "AD-16-DMF",
          "AD-18",
          "AD-24",
          "AD-25",
          "AD-3",
          "AD-35",
          "AD-4",
          "AD-48",
          "AD-5",
          "AD-6",
          "AD-7",
          "AD-9",
          "YD-30"
         ],
         "xaxis": "x",
         "y": [
          0.9456458372630127,
          0.9476318989640315,
          0.9471484945478946,
          0.9303405563536302,
          0.9276272141247179,
          0.9392007497338507,
          0.9353057181358244,
          0.9256052918204242,
          0.9421012207766629,
          0.9396669360935065,
          0.9351233814997182,
          0.9333873153673985,
          0.9403102467781521,
          0.9422606537620154,
          0.9440850117093872,
          0.9386659142356482,
          0.9396328604299561,
          0.9374070725802581,
          0.9366286897526753,
          0.8689937925855031
         ],
         "yaxis": "y"
        }
       ],
       "layout": {
        "barmode": "relative",
        "height": 800,
        "legend": {
         "tracegroupgap": 0
        },
        "template": {
         "data": {
          "bar": [
           {
            "error_x": {
             "color": "#2a3f5f"
            },
            "error_y": {
             "color": "#2a3f5f"
            },
            "marker": {
             "line": {
              "color": "#E5ECF6",
              "width": 0.5
             },
             "pattern": {
              "fillmode": "overlay",
              "size": 10,
              "solidity": 0.2
             }
            },
            "type": "bar"
           }
          ],
          "barpolar": [
           {
            "marker": {
             "line": {
              "color": "#E5ECF6",
              "width": 0.5
             },
             "pattern": {
              "fillmode": "overlay",
              "size": 10,
              "solidity": 0.2
             }
            },
            "type": "barpolar"
           }
          ],
          "carpet": [
           {
            "aaxis": {
             "endlinecolor": "#2a3f5f",
             "gridcolor": "white",
             "linecolor": "white",
             "minorgridcolor": "white",
             "startlinecolor": "#2a3f5f"
            },
            "baxis": {
             "endlinecolor": "#2a3f5f",
             "gridcolor": "white",
             "linecolor": "white",
             "minorgridcolor": "white",
             "startlinecolor": "#2a3f5f"
            },
            "type": "carpet"
           }
          ],
          "choropleth": [
           {
            "colorbar": {
             "outlinewidth": 0,
             "ticks": ""
            },
            "type": "choropleth"
           }
          ],
          "contour": [
           {
            "colorbar": {
             "outlinewidth": 0,
             "ticks": ""
            },
            "colorscale": [
             [
              0,
              "#0d0887"
             ],
             [
              0.1111111111111111,
              "#46039f"
             ],
             [
              0.2222222222222222,
              "#7201a8"
             ],
             [
              0.3333333333333333,
              "#9c179e"
             ],
             [
              0.4444444444444444,
              "#bd3786"
             ],
             [
              0.5555555555555556,
              "#d8576b"
             ],
             [
              0.6666666666666666,
              "#ed7953"
             ],
             [
              0.7777777777777778,
              "#fb9f3a"
             ],
             [
              0.8888888888888888,
              "#fdca26"
             ],
             [
              1,
              "#f0f921"
             ]
            ],
            "type": "contour"
           }
          ],
          "contourcarpet": [
           {
            "colorbar": {
             "outlinewidth": 0,
             "ticks": ""
            },
            "type": "contourcarpet"
           }
          ],
          "heatmap": [
           {
            "colorbar": {
             "outlinewidth": 0,
             "ticks": ""
            },
            "colorscale": [
             [
              0,
              "#0d0887"
             ],
             [
              0.1111111111111111,
              "#46039f"
             ],
             [
              0.2222222222222222,
              "#7201a8"
             ],
             [
              0.3333333333333333,
              "#9c179e"
             ],
             [
              0.4444444444444444,
              "#bd3786"
             ],
             [
              0.5555555555555556,
              "#d8576b"
             ],
             [
              0.6666666666666666,
              "#ed7953"
             ],
             [
              0.7777777777777778,
              "#fb9f3a"
             ],
             [
              0.8888888888888888,
              "#fdca26"
             ],
             [
              1,
              "#f0f921"
             ]
            ],
            "type": "heatmap"
           }
          ],
          "heatmapgl": [
           {
            "colorbar": {
             "outlinewidth": 0,
             "ticks": ""
            },
            "colorscale": [
             [
              0,
              "#0d0887"
             ],
             [
              0.1111111111111111,
              "#46039f"
             ],
             [
              0.2222222222222222,
              "#7201a8"
             ],
             [
              0.3333333333333333,
              "#9c179e"
             ],
             [
              0.4444444444444444,
              "#bd3786"
             ],
             [
              0.5555555555555556,
              "#d8576b"
             ],
             [
              0.6666666666666666,
              "#ed7953"
             ],
             [
              0.7777777777777778,
              "#fb9f3a"
             ],
             [
              0.8888888888888888,
              "#fdca26"
             ],
             [
              1,
              "#f0f921"
             ]
            ],
            "type": "heatmapgl"
           }
          ],
          "histogram": [
           {
            "marker": {
             "pattern": {
              "fillmode": "overlay",
              "size": 10,
              "solidity": 0.2
             }
            },
            "type": "histogram"
           }
          ],
          "histogram2d": [
           {
            "colorbar": {
             "outlinewidth": 0,
             "ticks": ""
            },
            "colorscale": [
             [
              0,
              "#0d0887"
             ],
             [
              0.1111111111111111,
              "#46039f"
             ],
             [
              0.2222222222222222,
              "#7201a8"
             ],
             [
              0.3333333333333333,
              "#9c179e"
             ],
             [
              0.4444444444444444,
              "#bd3786"
             ],
             [
              0.5555555555555556,
              "#d8576b"
             ],
             [
              0.6666666666666666,
              "#ed7953"
             ],
             [
              0.7777777777777778,
              "#fb9f3a"
             ],
             [
              0.8888888888888888,
              "#fdca26"
             ],
             [
              1,
              "#f0f921"
             ]
            ],
            "type": "histogram2d"
           }
          ],
          "histogram2dcontour": [
           {
            "colorbar": {
             "outlinewidth": 0,
             "ticks": ""
            },
            "colorscale": [
             [
              0,
              "#0d0887"
             ],
             [
              0.1111111111111111,
              "#46039f"
             ],
             [
              0.2222222222222222,
              "#7201a8"
             ],
             [
              0.3333333333333333,
              "#9c179e"
             ],
             [
              0.4444444444444444,
              "#bd3786"
             ],
             [
              0.5555555555555556,
              "#d8576b"
             ],
             [
              0.6666666666666666,
              "#ed7953"
             ],
             [
              0.7777777777777778,
              "#fb9f3a"
             ],
             [
              0.8888888888888888,
              "#fdca26"
             ],
             [
              1,
              "#f0f921"
             ]
            ],
            "type": "histogram2dcontour"
           }
          ],
          "mesh3d": [
           {
            "colorbar": {
             "outlinewidth": 0,
             "ticks": ""
            },
            "type": "mesh3d"
           }
          ],
          "parcoords": [
           {
            "line": {
             "colorbar": {
              "outlinewidth": 0,
              "ticks": ""
             }
            },
            "type": "parcoords"
           }
          ],
          "pie": [
           {
            "automargin": true,
            "type": "pie"
           }
          ],
          "scatter": [
           {
            "fillpattern": {
             "fillmode": "overlay",
             "size": 10,
             "solidity": 0.2
            },
            "type": "scatter"
           }
          ],
          "scatter3d": [
           {
            "line": {
             "colorbar": {
              "outlinewidth": 0,
              "ticks": ""
             }
            },
            "marker": {
             "colorbar": {
              "outlinewidth": 0,
              "ticks": ""
             }
            },
            "type": "scatter3d"
           }
          ],
          "scattercarpet": [
           {
            "marker": {
             "colorbar": {
              "outlinewidth": 0,
              "ticks": ""
             }
            },
            "type": "scattercarpet"
           }
          ],
          "scattergeo": [
           {
            "marker": {
             "colorbar": {
              "outlinewidth": 0,
              "ticks": ""
             }
            },
            "type": "scattergeo"
           }
          ],
          "scattergl": [
           {
            "marker": {
             "colorbar": {
              "outlinewidth": 0,
              "ticks": ""
             }
            },
            "type": "scattergl"
           }
          ],
          "scattermapbox": [
           {
            "marker": {
             "colorbar": {
              "outlinewidth": 0,
              "ticks": ""
             }
            },
            "type": "scattermapbox"
           }
          ],
          "scatterpolar": [
           {
            "marker": {
             "colorbar": {
              "outlinewidth": 0,
              "ticks": ""
             }
            },
            "type": "scatterpolar"
           }
          ],
          "scatterpolargl": [
           {
            "marker": {
             "colorbar": {
              "outlinewidth": 0,
              "ticks": ""
             }
            },
            "type": "scatterpolargl"
           }
          ],
          "scatterternary": [
           {
            "marker": {
             "colorbar": {
              "outlinewidth": 0,
              "ticks": ""
             }
            },
            "type": "scatterternary"
           }
          ],
          "surface": [
           {
            "colorbar": {
             "outlinewidth": 0,
             "ticks": ""
            },
            "colorscale": [
             [
              0,
              "#0d0887"
             ],
             [
              0.1111111111111111,
              "#46039f"
             ],
             [
              0.2222222222222222,
              "#7201a8"
             ],
             [
              0.3333333333333333,
              "#9c179e"
             ],
             [
              0.4444444444444444,
              "#bd3786"
             ],
             [
              0.5555555555555556,
              "#d8576b"
             ],
             [
              0.6666666666666666,
              "#ed7953"
             ],
             [
              0.7777777777777778,
              "#fb9f3a"
             ],
             [
              0.8888888888888888,
              "#fdca26"
             ],
             [
              1,
              "#f0f921"
             ]
            ],
            "type": "surface"
           }
          ],
          "table": [
           {
            "cells": {
             "fill": {
              "color": "#EBF0F8"
             },
             "line": {
              "color": "white"
             }
            },
            "header": {
             "fill": {
              "color": "#C8D4E3"
             },
             "line": {
              "color": "white"
             }
            },
            "type": "table"
           }
          ]
         },
         "layout": {
          "annotationdefaults": {
           "arrowcolor": "#2a3f5f",
           "arrowhead": 0,
           "arrowwidth": 1
          },
          "autotypenumbers": "strict",
          "coloraxis": {
           "colorbar": {
            "outlinewidth": 0,
            "ticks": ""
           }
          },
          "colorscale": {
           "diverging": [
            [
             0,
             "#8e0152"
            ],
            [
             0.1,
             "#c51b7d"
            ],
            [
             0.2,
             "#de77ae"
            ],
            [
             0.3,
             "#f1b6da"
            ],
            [
             0.4,
             "#fde0ef"
            ],
            [
             0.5,
             "#f7f7f7"
            ],
            [
             0.6,
             "#e6f5d0"
            ],
            [
             0.7,
             "#b8e186"
            ],
            [
             0.8,
             "#7fbc41"
            ],
            [
             0.9,
             "#4d9221"
            ],
            [
             1,
             "#276419"
            ]
           ],
           "sequential": [
            [
             0,
             "#0d0887"
            ],
            [
             0.1111111111111111,
             "#46039f"
            ],
            [
             0.2222222222222222,
             "#7201a8"
            ],
            [
             0.3333333333333333,
             "#9c179e"
            ],
            [
             0.4444444444444444,
             "#bd3786"
            ],
            [
             0.5555555555555556,
             "#d8576b"
            ],
            [
             0.6666666666666666,
             "#ed7953"
            ],
            [
             0.7777777777777778,
             "#fb9f3a"
            ],
            [
             0.8888888888888888,
             "#fdca26"
            ],
            [
             1,
             "#f0f921"
            ]
           ],
           "sequentialminus": [
            [
             0,
             "#0d0887"
            ],
            [
             0.1111111111111111,
             "#46039f"
            ],
            [
             0.2222222222222222,
             "#7201a8"
            ],
            [
             0.3333333333333333,
             "#9c179e"
            ],
            [
             0.4444444444444444,
             "#bd3786"
            ],
            [
             0.5555555555555556,
             "#d8576b"
            ],
            [
             0.6666666666666666,
             "#ed7953"
            ],
            [
             0.7777777777777778,
             "#fb9f3a"
            ],
            [
             0.8888888888888888,
             "#fdca26"
            ],
            [
             1,
             "#f0f921"
            ]
           ]
          },
          "colorway": [
           "#636efa",
           "#EF553B",
           "#00cc96",
           "#ab63fa",
           "#FFA15A",
           "#19d3f3",
           "#FF6692",
           "#B6E880",
           "#FF97FF",
           "#FECB52"
          ],
          "font": {
           "color": "#2a3f5f"
          },
          "geo": {
           "bgcolor": "white",
           "lakecolor": "white",
           "landcolor": "#E5ECF6",
           "showlakes": true,
           "showland": true,
           "subunitcolor": "white"
          },
          "hoverlabel": {
           "align": "left"
          },
          "hovermode": "closest",
          "mapbox": {
           "style": "light"
          },
          "paper_bgcolor": "white",
          "plot_bgcolor": "#E5ECF6",
          "polar": {
           "angularaxis": {
            "gridcolor": "white",
            "linecolor": "white",
            "ticks": ""
           },
           "bgcolor": "#E5ECF6",
           "radialaxis": {
            "gridcolor": "white",
            "linecolor": "white",
            "ticks": ""
           }
          },
          "scene": {
           "xaxis": {
            "backgroundcolor": "#E5ECF6",
            "gridcolor": "white",
            "gridwidth": 2,
            "linecolor": "white",
            "showbackground": true,
            "ticks": "",
            "zerolinecolor": "white"
           },
           "yaxis": {
            "backgroundcolor": "#E5ECF6",
            "gridcolor": "white",
            "gridwidth": 2,
            "linecolor": "white",
            "showbackground": true,
            "ticks": "",
            "zerolinecolor": "white"
           },
           "zaxis": {
            "backgroundcolor": "#E5ECF6",
            "gridcolor": "white",
            "gridwidth": 2,
            "linecolor": "white",
            "showbackground": true,
            "ticks": "",
            "zerolinecolor": "white"
           }
          },
          "shapedefaults": {
           "line": {
            "color": "#2a3f5f"
           }
          },
          "ternary": {
           "aaxis": {
            "gridcolor": "white",
            "linecolor": "white",
            "ticks": ""
           },
           "baxis": {
            "gridcolor": "white",
            "linecolor": "white",
            "ticks": ""
           },
           "bgcolor": "#E5ECF6",
           "caxis": {
            "gridcolor": "white",
            "linecolor": "white",
            "ticks": ""
           }
          },
          "title": {
           "x": 0.05
          },
          "xaxis": {
           "automargin": true,
           "gridcolor": "white",
           "linecolor": "white",
           "ticks": "",
           "title": {
            "standoff": 15
           },
           "zerolinecolor": "white",
           "zerolinewidth": 2
          },
          "yaxis": {
           "automargin": true,
           "gridcolor": "white",
           "linecolor": "white",
           "ticks": "",
           "title": {
            "standoff": 15
           },
           "zerolinecolor": "white",
           "zerolinewidth": 2
          }
         }
        },
        "title": {
         "text": "Molecule vs R2 Score"
        },
        "xaxis": {
         "anchor": "y",
         "domain": [
          0,
          1
         ],
         "tickangle": -45,
         "title": {
          "text": "Molecule"
         }
        },
        "yaxis": {
         "anchor": "x",
         "domain": [
          0,
          1
         ],
         "range": [
          0,
          1
         ],
         "title": {
          "text": "R2 Score"
         }
        }
       }
      }
     },
     "metadata": {},
     "output_type": "display_data"
    }
   ],
   "source": [
    "import plotly.express as px\n",
    "import pandas as pd\n",
    "\n",
    "# Create the bar plot\n",
    "fig = px.bar(final_results_top48, x='Molecule', y='r2_score', title='Molecule vs R2 Score',\n",
    "             labels={'r2_score': 'R2 Score', 'Molecule': 'Molecule'},\n",
    "             text=final_results_top48['r2_score'].round(4))\n",
    "\n",
    "# Update layout for better readability\n",
    "fig.update_layout(\n",
    "    xaxis_title='Molecule',\n",
    "    yaxis_title='R2 Score',\n",
    "    xaxis_tickangle=-45,\n",
    "    yaxis=dict(range=[0, 1]),\n",
    "    height = 800\n",
    ")\n",
    "\n",
    "# Display the plot\n",
    "fig.show()"
   ]
  },
  {
   "cell_type": "code",
   "execution_count": 16,
   "metadata": {},
   "outputs": [
    {
     "data": {
      "application/vnd.plotly.v1+json": {
       "config": {
        "plotlyServerURL": "https://plot.ly"
       },
       "data": [
        {
         "marker": {
          "color": [
           "green",
           "maroon",
           "gold",
           "navy",
           "navy",
           "navy",
           "navy",
           "navy",
           "navy",
           "navy",
           "navy",
           "navy",
           "navy",
           "navy",
           "navy",
           "navy",
           "navy",
           "navy",
           "navy",
           "navy"
          ]
         },
         "name": "Models",
         "text": [
          "Top 3<br>R2: 0.9456",
          "Top 1<br>R2: 0.9476",
          "Top 2<br>R2: 0.9471",
          "R2: 0.9303",
          "R2: 0.9276",
          "R2: 0.9392",
          "R2: 0.9353",
          "R2: 0.9256",
          "R2: 0.9421",
          "R2: 0.9397",
          "R2: 0.9351",
          "R2: 0.9334",
          "R2: 0.9403",
          "R2: 0.9423",
          "R2: 0.9441",
          "R2: 0.9387",
          "R2: 0.9396",
          "R2: 0.9374",
          "R2: 0.9366",
          "R2: 0.8690"
         ],
         "textposition": "auto",
         "type": "bar",
         "x": [
          "2-ADMeO3",
          "3-MR83a",
          "AD-10",
          "AD-1013",
          "AD-1022",
          "AD-11",
          "AD-14-Moore",
          "AD-16-DMF",
          "AD-18",
          "AD-24",
          "AD-25",
          "AD-3",
          "AD-35",
          "AD-4",
          "AD-48",
          "AD-5",
          "AD-6",
          "AD-7",
          "AD-9",
          "YD-30"
         ],
         "y": [
          0.9456458372630127,
          0.9476318989640315,
          0.9471484945478946,
          0.9303405563536302,
          0.9276272141247179,
          0.9392007497338507,
          0.9353057181358244,
          0.9256052918204242,
          0.9421012207766629,
          0.9396669360935065,
          0.9351233814997182,
          0.9333873153673985,
          0.9403102467781521,
          0.9422606537620154,
          0.9440850117093872,
          0.9386659142356482,
          0.9396328604299561,
          0.9374070725802581,
          0.9366286897526753,
          0.8689937925855031
         ]
        }
       ],
       "layout": {
        "annotations": [
         {
          "align": "center",
          "arrowhead": 2,
          "ax": 100,
          "ay": -50,
          "font": {
           "size": 12
          },
          "showarrow": true,
          "text": "Top 1: 3-MR83a<br>R2: 0.9476",
          "x": "3-MR83a",
          "y": 0.9476318989640315
         },
         {
          "align": "center",
          "arrowhead": 2,
          "ax": 200,
          "ay": -50,
          "font": {
           "size": 12
          },
          "showarrow": true,
          "text": "Top 2: AD-10<br>R2: 0.9471",
          "x": "AD-10",
          "y": 0.9471484945478946
         },
         {
          "align": "center",
          "arrowhead": 2,
          "ax": 0,
          "ay": -50,
          "font": {
           "size": 12
          },
          "showarrow": true,
          "text": "Top 3: 2-ADMeO3<br>R2: 0.9456",
          "x": "2-ADMeO3",
          "y": 0.9456458372630127
         }
        ],
        "barmode": "group",
        "height": 800,
        "legend": {
         "orientation": "h",
         "title": {
          "text": "Top Models"
         },
         "x": 0.5,
         "xanchor": "center",
         "y": 1.05,
         "yanchor": "bottom"
        },
        "margin": {
         "b": 50,
         "l": 100,
         "r": 100,
         "t": 100
        },
        "template": {
         "data": {
          "bar": [
           {
            "error_x": {
             "color": "#2a3f5f"
            },
            "error_y": {
             "color": "#2a3f5f"
            },
            "marker": {
             "line": {
              "color": "#E5ECF6",
              "width": 0.5
             },
             "pattern": {
              "fillmode": "overlay",
              "size": 10,
              "solidity": 0.2
             }
            },
            "type": "bar"
           }
          ],
          "barpolar": [
           {
            "marker": {
             "line": {
              "color": "#E5ECF6",
              "width": 0.5
             },
             "pattern": {
              "fillmode": "overlay",
              "size": 10,
              "solidity": 0.2
             }
            },
            "type": "barpolar"
           }
          ],
          "carpet": [
           {
            "aaxis": {
             "endlinecolor": "#2a3f5f",
             "gridcolor": "white",
             "linecolor": "white",
             "minorgridcolor": "white",
             "startlinecolor": "#2a3f5f"
            },
            "baxis": {
             "endlinecolor": "#2a3f5f",
             "gridcolor": "white",
             "linecolor": "white",
             "minorgridcolor": "white",
             "startlinecolor": "#2a3f5f"
            },
            "type": "carpet"
           }
          ],
          "choropleth": [
           {
            "colorbar": {
             "outlinewidth": 0,
             "ticks": ""
            },
            "type": "choropleth"
           }
          ],
          "contour": [
           {
            "colorbar": {
             "outlinewidth": 0,
             "ticks": ""
            },
            "colorscale": [
             [
              0,
              "#0d0887"
             ],
             [
              0.1111111111111111,
              "#46039f"
             ],
             [
              0.2222222222222222,
              "#7201a8"
             ],
             [
              0.3333333333333333,
              "#9c179e"
             ],
             [
              0.4444444444444444,
              "#bd3786"
             ],
             [
              0.5555555555555556,
              "#d8576b"
             ],
             [
              0.6666666666666666,
              "#ed7953"
             ],
             [
              0.7777777777777778,
              "#fb9f3a"
             ],
             [
              0.8888888888888888,
              "#fdca26"
             ],
             [
              1,
              "#f0f921"
             ]
            ],
            "type": "contour"
           }
          ],
          "contourcarpet": [
           {
            "colorbar": {
             "outlinewidth": 0,
             "ticks": ""
            },
            "type": "contourcarpet"
           }
          ],
          "heatmap": [
           {
            "colorbar": {
             "outlinewidth": 0,
             "ticks": ""
            },
            "colorscale": [
             [
              0,
              "#0d0887"
             ],
             [
              0.1111111111111111,
              "#46039f"
             ],
             [
              0.2222222222222222,
              "#7201a8"
             ],
             [
              0.3333333333333333,
              "#9c179e"
             ],
             [
              0.4444444444444444,
              "#bd3786"
             ],
             [
              0.5555555555555556,
              "#d8576b"
             ],
             [
              0.6666666666666666,
              "#ed7953"
             ],
             [
              0.7777777777777778,
              "#fb9f3a"
             ],
             [
              0.8888888888888888,
              "#fdca26"
             ],
             [
              1,
              "#f0f921"
             ]
            ],
            "type": "heatmap"
           }
          ],
          "heatmapgl": [
           {
            "colorbar": {
             "outlinewidth": 0,
             "ticks": ""
            },
            "colorscale": [
             [
              0,
              "#0d0887"
             ],
             [
              0.1111111111111111,
              "#46039f"
             ],
             [
              0.2222222222222222,
              "#7201a8"
             ],
             [
              0.3333333333333333,
              "#9c179e"
             ],
             [
              0.4444444444444444,
              "#bd3786"
             ],
             [
              0.5555555555555556,
              "#d8576b"
             ],
             [
              0.6666666666666666,
              "#ed7953"
             ],
             [
              0.7777777777777778,
              "#fb9f3a"
             ],
             [
              0.8888888888888888,
              "#fdca26"
             ],
             [
              1,
              "#f0f921"
             ]
            ],
            "type": "heatmapgl"
           }
          ],
          "histogram": [
           {
            "marker": {
             "pattern": {
              "fillmode": "overlay",
              "size": 10,
              "solidity": 0.2
             }
            },
            "type": "histogram"
           }
          ],
          "histogram2d": [
           {
            "colorbar": {
             "outlinewidth": 0,
             "ticks": ""
            },
            "colorscale": [
             [
              0,
              "#0d0887"
             ],
             [
              0.1111111111111111,
              "#46039f"
             ],
             [
              0.2222222222222222,
              "#7201a8"
             ],
             [
              0.3333333333333333,
              "#9c179e"
             ],
             [
              0.4444444444444444,
              "#bd3786"
             ],
             [
              0.5555555555555556,
              "#d8576b"
             ],
             [
              0.6666666666666666,
              "#ed7953"
             ],
             [
              0.7777777777777778,
              "#fb9f3a"
             ],
             [
              0.8888888888888888,
              "#fdca26"
             ],
             [
              1,
              "#f0f921"
             ]
            ],
            "type": "histogram2d"
           }
          ],
          "histogram2dcontour": [
           {
            "colorbar": {
             "outlinewidth": 0,
             "ticks": ""
            },
            "colorscale": [
             [
              0,
              "#0d0887"
             ],
             [
              0.1111111111111111,
              "#46039f"
             ],
             [
              0.2222222222222222,
              "#7201a8"
             ],
             [
              0.3333333333333333,
              "#9c179e"
             ],
             [
              0.4444444444444444,
              "#bd3786"
             ],
             [
              0.5555555555555556,
              "#d8576b"
             ],
             [
              0.6666666666666666,
              "#ed7953"
             ],
             [
              0.7777777777777778,
              "#fb9f3a"
             ],
             [
              0.8888888888888888,
              "#fdca26"
             ],
             [
              1,
              "#f0f921"
             ]
            ],
            "type": "histogram2dcontour"
           }
          ],
          "mesh3d": [
           {
            "colorbar": {
             "outlinewidth": 0,
             "ticks": ""
            },
            "type": "mesh3d"
           }
          ],
          "parcoords": [
           {
            "line": {
             "colorbar": {
              "outlinewidth": 0,
              "ticks": ""
             }
            },
            "type": "parcoords"
           }
          ],
          "pie": [
           {
            "automargin": true,
            "type": "pie"
           }
          ],
          "scatter": [
           {
            "fillpattern": {
             "fillmode": "overlay",
             "size": 10,
             "solidity": 0.2
            },
            "type": "scatter"
           }
          ],
          "scatter3d": [
           {
            "line": {
             "colorbar": {
              "outlinewidth": 0,
              "ticks": ""
             }
            },
            "marker": {
             "colorbar": {
              "outlinewidth": 0,
              "ticks": ""
             }
            },
            "type": "scatter3d"
           }
          ],
          "scattercarpet": [
           {
            "marker": {
             "colorbar": {
              "outlinewidth": 0,
              "ticks": ""
             }
            },
            "type": "scattercarpet"
           }
          ],
          "scattergeo": [
           {
            "marker": {
             "colorbar": {
              "outlinewidth": 0,
              "ticks": ""
             }
            },
            "type": "scattergeo"
           }
          ],
          "scattergl": [
           {
            "marker": {
             "colorbar": {
              "outlinewidth": 0,
              "ticks": ""
             }
            },
            "type": "scattergl"
           }
          ],
          "scattermapbox": [
           {
            "marker": {
             "colorbar": {
              "outlinewidth": 0,
              "ticks": ""
             }
            },
            "type": "scattermapbox"
           }
          ],
          "scatterpolar": [
           {
            "marker": {
             "colorbar": {
              "outlinewidth": 0,
              "ticks": ""
             }
            },
            "type": "scatterpolar"
           }
          ],
          "scatterpolargl": [
           {
            "marker": {
             "colorbar": {
              "outlinewidth": 0,
              "ticks": ""
             }
            },
            "type": "scatterpolargl"
           }
          ],
          "scatterternary": [
           {
            "marker": {
             "colorbar": {
              "outlinewidth": 0,
              "ticks": ""
             }
            },
            "type": "scatterternary"
           }
          ],
          "surface": [
           {
            "colorbar": {
             "outlinewidth": 0,
             "ticks": ""
            },
            "colorscale": [
             [
              0,
              "#0d0887"
             ],
             [
              0.1111111111111111,
              "#46039f"
             ],
             [
              0.2222222222222222,
              "#7201a8"
             ],
             [
              0.3333333333333333,
              "#9c179e"
             ],
             [
              0.4444444444444444,
              "#bd3786"
             ],
             [
              0.5555555555555556,
              "#d8576b"
             ],
             [
              0.6666666666666666,
              "#ed7953"
             ],
             [
              0.7777777777777778,
              "#fb9f3a"
             ],
             [
              0.8888888888888888,
              "#fdca26"
             ],
             [
              1,
              "#f0f921"
             ]
            ],
            "type": "surface"
           }
          ],
          "table": [
           {
            "cells": {
             "fill": {
              "color": "#EBF0F8"
             },
             "line": {
              "color": "white"
             }
            },
            "header": {
             "fill": {
              "color": "#C8D4E3"
             },
             "line": {
              "color": "white"
             }
            },
            "type": "table"
           }
          ]
         },
         "layout": {
          "annotationdefaults": {
           "arrowcolor": "#2a3f5f",
           "arrowhead": 0,
           "arrowwidth": 1
          },
          "autotypenumbers": "strict",
          "coloraxis": {
           "colorbar": {
            "outlinewidth": 0,
            "ticks": ""
           }
          },
          "colorscale": {
           "diverging": [
            [
             0,
             "#8e0152"
            ],
            [
             0.1,
             "#c51b7d"
            ],
            [
             0.2,
             "#de77ae"
            ],
            [
             0.3,
             "#f1b6da"
            ],
            [
             0.4,
             "#fde0ef"
            ],
            [
             0.5,
             "#f7f7f7"
            ],
            [
             0.6,
             "#e6f5d0"
            ],
            [
             0.7,
             "#b8e186"
            ],
            [
             0.8,
             "#7fbc41"
            ],
            [
             0.9,
             "#4d9221"
            ],
            [
             1,
             "#276419"
            ]
           ],
           "sequential": [
            [
             0,
             "#0d0887"
            ],
            [
             0.1111111111111111,
             "#46039f"
            ],
            [
             0.2222222222222222,
             "#7201a8"
            ],
            [
             0.3333333333333333,
             "#9c179e"
            ],
            [
             0.4444444444444444,
             "#bd3786"
            ],
            [
             0.5555555555555556,
             "#d8576b"
            ],
            [
             0.6666666666666666,
             "#ed7953"
            ],
            [
             0.7777777777777778,
             "#fb9f3a"
            ],
            [
             0.8888888888888888,
             "#fdca26"
            ],
            [
             1,
             "#f0f921"
            ]
           ],
           "sequentialminus": [
            [
             0,
             "#0d0887"
            ],
            [
             0.1111111111111111,
             "#46039f"
            ],
            [
             0.2222222222222222,
             "#7201a8"
            ],
            [
             0.3333333333333333,
             "#9c179e"
            ],
            [
             0.4444444444444444,
             "#bd3786"
            ],
            [
             0.5555555555555556,
             "#d8576b"
            ],
            [
             0.6666666666666666,
             "#ed7953"
            ],
            [
             0.7777777777777778,
             "#fb9f3a"
            ],
            [
             0.8888888888888888,
             "#fdca26"
            ],
            [
             1,
             "#f0f921"
            ]
           ]
          },
          "colorway": [
           "#636efa",
           "#EF553B",
           "#00cc96",
           "#ab63fa",
           "#FFA15A",
           "#19d3f3",
           "#FF6692",
           "#B6E880",
           "#FF97FF",
           "#FECB52"
          ],
          "font": {
           "color": "#2a3f5f"
          },
          "geo": {
           "bgcolor": "white",
           "lakecolor": "white",
           "landcolor": "#E5ECF6",
           "showlakes": true,
           "showland": true,
           "subunitcolor": "white"
          },
          "hoverlabel": {
           "align": "left"
          },
          "hovermode": "closest",
          "mapbox": {
           "style": "light"
          },
          "paper_bgcolor": "white",
          "plot_bgcolor": "#E5ECF6",
          "polar": {
           "angularaxis": {
            "gridcolor": "white",
            "linecolor": "white",
            "ticks": ""
           },
           "bgcolor": "#E5ECF6",
           "radialaxis": {
            "gridcolor": "white",
            "linecolor": "white",
            "ticks": ""
           }
          },
          "scene": {
           "xaxis": {
            "backgroundcolor": "#E5ECF6",
            "gridcolor": "white",
            "gridwidth": 2,
            "linecolor": "white",
            "showbackground": true,
            "ticks": "",
            "zerolinecolor": "white"
           },
           "yaxis": {
            "backgroundcolor": "#E5ECF6",
            "gridcolor": "white",
            "gridwidth": 2,
            "linecolor": "white",
            "showbackground": true,
            "ticks": "",
            "zerolinecolor": "white"
           },
           "zaxis": {
            "backgroundcolor": "#E5ECF6",
            "gridcolor": "white",
            "gridwidth": 2,
            "linecolor": "white",
            "showbackground": true,
            "ticks": "",
            "zerolinecolor": "white"
           }
          },
          "shapedefaults": {
           "line": {
            "color": "#2a3f5f"
           }
          },
          "ternary": {
           "aaxis": {
            "gridcolor": "white",
            "linecolor": "white",
            "ticks": ""
           },
           "baxis": {
            "gridcolor": "white",
            "linecolor": "white",
            "ticks": ""
           },
           "bgcolor": "#E5ECF6",
           "caxis": {
            "gridcolor": "white",
            "linecolor": "white",
            "ticks": ""
           }
          },
          "title": {
           "x": 0.05
          },
          "xaxis": {
           "automargin": true,
           "gridcolor": "white",
           "linecolor": "white",
           "ticks": "",
           "title": {
            "standoff": 15
           },
           "zerolinecolor": "white",
           "zerolinewidth": 2
          },
          "yaxis": {
           "automargin": true,
           "gridcolor": "white",
           "linecolor": "white",
           "ticks": "",
           "title": {
            "standoff": 15
           },
           "zerolinecolor": "white",
           "zerolinewidth": 2
          }
         }
        },
        "title": {
         "text": "Curcumin Derivative filtered dataframe Trained Model Performances"
        },
        "width": 1100,
        "xaxis": {
         "tickangle": -45,
         "title": {
          "text": "Curcumin Derivative Molecule Name"
         }
        },
        "yaxis": {
         "title": {
          "text": "R2 Score"
         }
        }
       }
      }
     },
     "metadata": {},
     "output_type": "display_data"
    }
   ],
   "source": [
    "import plotly.graph_objects as go\n",
    "import pandas as pd\n",
    "\n",
    "# Identify top 3 models by highest r2_score\n",
    "top_3_indices = final_results_top48.nlargest(3, 'r2_score').index\n",
    "final_results_top48['Rank'] = final_results_top48.index.map(lambda idx: 'Top 1' if idx == top_3_indices[0] \n",
    "                                                                else 'Top 2' if idx == top_3_indices[1]\n",
    "                                                                else 'Top 3' if idx == top_3_indices[2]\n",
    "                                                                else '')\n",
    "\n",
    "# Create a bar plot\n",
    "fig = go.Figure()\n",
    "\n",
    "# Add bars for each Molecule\n",
    "fig.add_trace(go.Bar(\n",
    "    x=final_results_top48['Molecule'],\n",
    "    y=final_results_top48['r2_score'],\n",
    "    text=final_results_top48.apply(lambda row: f\"{row['Rank']}<br>R2: {row['r2_score']:.4f}\" if row['Rank'] else f\"R2: {row['r2_score']:.4f}\", axis=1),\n",
    "    textposition='auto',\n",
    "    marker=dict(color=[\n",
    "        'maroon' if row['Rank'] == 'Top 1' else \n",
    "        'gold' if row['Rank'] == 'Top 2' else \n",
    "        'green' if row['Rank'] == 'Top 3' else \n",
    "        'navy' \n",
    "        for index, row in final_results_top48.iterrows()\n",
    "    ]),\n",
    "    name='Models'\n",
    "))\n",
    "\n",
    "# Add annotations for the top 3 models\n",
    "for idx in top_3_indices:\n",
    "    row = final_results_top48.loc[idx]\n",
    "    if row['Rank'] == 'Top 1':\n",
    "        ax_value = 100\n",
    "    elif row['Rank'] == 'Top 2':\n",
    "        ax_value = 200\n",
    "    elif row['Rank'] == 'Top 3':\n",
    "        ax_value = 0\n",
    "\n",
    "    fig.add_annotation(\n",
    "        x=row['Molecule'],\n",
    "        y=row['r2_score'],\n",
    "        text=f\"{row['Rank']}: {row['Molecule']}<br>R2: {row['r2_score']:.4f}\",\n",
    "        showarrow=True,\n",
    "        arrowhead=2,\n",
    "        ax=ax_value,\n",
    "        ay=-50,\n",
    "        font=dict(size=12),\n",
    "        align='center'\n",
    "    )\n",
    "\n",
    "# Update layout\n",
    "fig.update_layout(\n",
    "    title= 'Curcumin Derivative filtered dataframe Trained Model Performances',\n",
    "    xaxis_title='Curcumin Derivative Molecule Name',\n",
    "    yaxis_title='R2 Score',\n",
    "    barmode='group',  # Group bars together\n",
    "    xaxis_tickangle=-45,\n",
    "    height=800,\n",
    "    width=1100,\n",
    "    legend_title='Top Models',\n",
    "    legend=dict(\n",
    "        orientation='h',\n",
    "        yanchor='bottom',\n",
    "        y=1.05,\n",
    "        xanchor='center',\n",
    "        x=0.5\n",
    "    ),\n",
    "    margin=dict(l=100, r=100, t=100, b=50)\n",
    ")\n",
    "\n",
    "# Show the plot\n",
    "fig.show()"
   ]
  },
  {
   "cell_type": "code",
   "execution_count": 9,
   "metadata": {},
   "outputs": [
    {
     "data": {
      "application/vnd.plotly.v1+json": {
       "config": {
        "plotlyServerURL": "https://plot.ly"
       },
       "data": [
        {
         "marker": {
          "color": "lightblue",
          "opacity": 0.6
         },
         "text": [
          "0.94565",
          "0.94763",
          "0.94715",
          "0.93034",
          "0.92763",
          "0.93920",
          "0.93531",
          "0.92561",
          "0.94210",
          "0.93967",
          "0.93512",
          "0.93339",
          "0.94031",
          "0.94226",
          "0.94409",
          "0.93867",
          "0.93963",
          "0.93741",
          "0.93663",
          "0.86899"
         ],
         "textposition": "inside",
         "type": "bar",
         "x": [
          "2-ADMeO3",
          "3-MR83a",
          "AD-10",
          "AD-1013",
          "AD-1022",
          "AD-11",
          "AD-14-Moore",
          "AD-16-DMF",
          "AD-18",
          "AD-24",
          "AD-25",
          "AD-3",
          "AD-35",
          "AD-4",
          "AD-48",
          "AD-5",
          "AD-6",
          "AD-7",
          "AD-9",
          "YD-30"
         ],
         "y": [
          0.9456458372630127,
          0.9476318989640315,
          0.9471484945478946,
          0.9303405563536302,
          0.9276272141247179,
          0.9392007497338507,
          0.9353057181358244,
          0.9256052918204242,
          0.9421012207766629,
          0.9396669360935065,
          0.9351233814997182,
          0.9333873153673985,
          0.9403102467781521,
          0.9422606537620154,
          0.9440850117093872,
          0.9386659142356482,
          0.9396328604299561,
          0.9374070725802581,
          0.9366286897526753,
          0.8689937925855031
         ]
        },
        {
         "marker": {
          "color": "green",
          "line": {
           "color": "Black",
           "width": 2
          },
          "size": 12
         },
         "mode": "markers+text",
         "name": "Top 2 Variant",
         "text": "3-MR83a<br>R2: 0.94763",
         "textposition": "top center",
         "type": "scatter",
         "x": [
          "3-MR83a"
         ],
         "y": [
          0.9476318989640315
         ]
        },
        {
         "marker": {
          "color": "blue",
          "line": {
           "color": "Black",
           "width": 2
          },
          "size": 12
         },
         "mode": "markers+text",
         "name": "Top 3 Variant",
         "text": "AD-10<br>R2: 0.94715",
         "textposition": "top center",
         "type": "scatter",
         "x": [
          "AD-10"
         ],
         "y": [
          0.9471484945478946
         ]
        },
        {
         "marker": {
          "color": "red",
          "line": {
           "color": "Black",
           "width": 2
          },
          "size": 12
         },
         "mode": "markers+text",
         "name": "Top 1 Variant",
         "text": "2-ADMeO3<br>R2: 0.94565",
         "textposition": "top center",
         "type": "scatter",
         "x": [
          "2-ADMeO3"
         ],
         "y": [
          0.9456458372630127
         ]
        }
       ],
       "layout": {
        "annotations": [
         {
          "arrowcolor": "green",
          "arrowhead": 2,
          "ax": 0,
          "ay": -40,
          "showarrow": true,
          "text": "3-MR83a<br>R2: 0.94763",
          "x": "3-MR83a",
          "y": 0.9476318989640315
         },
         {
          "arrowcolor": "blue",
          "arrowhead": 2,
          "ax": 0,
          "ay": -40,
          "showarrow": true,
          "text": "AD-10<br>R2: 0.94715",
          "x": "AD-10",
          "y": 0.9471484945478946
         },
         {
          "arrowcolor": "red",
          "arrowhead": 2,
          "ax": 0,
          "ay": -40,
          "showarrow": true,
          "text": "2-ADMeO3<br>R2: 0.94565",
          "x": "2-ADMeO3",
          "y": 0.9456458372630127
         }
        ],
        "height": 800,
        "template": {
         "data": {
          "bar": [
           {
            "error_x": {
             "color": "#2a3f5f"
            },
            "error_y": {
             "color": "#2a3f5f"
            },
            "marker": {
             "line": {
              "color": "white",
              "width": 0.5
             },
             "pattern": {
              "fillmode": "overlay",
              "size": 10,
              "solidity": 0.2
             }
            },
            "type": "bar"
           }
          ],
          "barpolar": [
           {
            "marker": {
             "line": {
              "color": "white",
              "width": 0.5
             },
             "pattern": {
              "fillmode": "overlay",
              "size": 10,
              "solidity": 0.2
             }
            },
            "type": "barpolar"
           }
          ],
          "carpet": [
           {
            "aaxis": {
             "endlinecolor": "#2a3f5f",
             "gridcolor": "#C8D4E3",
             "linecolor": "#C8D4E3",
             "minorgridcolor": "#C8D4E3",
             "startlinecolor": "#2a3f5f"
            },
            "baxis": {
             "endlinecolor": "#2a3f5f",
             "gridcolor": "#C8D4E3",
             "linecolor": "#C8D4E3",
             "minorgridcolor": "#C8D4E3",
             "startlinecolor": "#2a3f5f"
            },
            "type": "carpet"
           }
          ],
          "choropleth": [
           {
            "colorbar": {
             "outlinewidth": 0,
             "ticks": ""
            },
            "type": "choropleth"
           }
          ],
          "contour": [
           {
            "colorbar": {
             "outlinewidth": 0,
             "ticks": ""
            },
            "colorscale": [
             [
              0,
              "#0d0887"
             ],
             [
              0.1111111111111111,
              "#46039f"
             ],
             [
              0.2222222222222222,
              "#7201a8"
             ],
             [
              0.3333333333333333,
              "#9c179e"
             ],
             [
              0.4444444444444444,
              "#bd3786"
             ],
             [
              0.5555555555555556,
              "#d8576b"
             ],
             [
              0.6666666666666666,
              "#ed7953"
             ],
             [
              0.7777777777777778,
              "#fb9f3a"
             ],
             [
              0.8888888888888888,
              "#fdca26"
             ],
             [
              1,
              "#f0f921"
             ]
            ],
            "type": "contour"
           }
          ],
          "contourcarpet": [
           {
            "colorbar": {
             "outlinewidth": 0,
             "ticks": ""
            },
            "type": "contourcarpet"
           }
          ],
          "heatmap": [
           {
            "colorbar": {
             "outlinewidth": 0,
             "ticks": ""
            },
            "colorscale": [
             [
              0,
              "#0d0887"
             ],
             [
              0.1111111111111111,
              "#46039f"
             ],
             [
              0.2222222222222222,
              "#7201a8"
             ],
             [
              0.3333333333333333,
              "#9c179e"
             ],
             [
              0.4444444444444444,
              "#bd3786"
             ],
             [
              0.5555555555555556,
              "#d8576b"
             ],
             [
              0.6666666666666666,
              "#ed7953"
             ],
             [
              0.7777777777777778,
              "#fb9f3a"
             ],
             [
              0.8888888888888888,
              "#fdca26"
             ],
             [
              1,
              "#f0f921"
             ]
            ],
            "type": "heatmap"
           }
          ],
          "heatmapgl": [
           {
            "colorbar": {
             "outlinewidth": 0,
             "ticks": ""
            },
            "colorscale": [
             [
              0,
              "#0d0887"
             ],
             [
              0.1111111111111111,
              "#46039f"
             ],
             [
              0.2222222222222222,
              "#7201a8"
             ],
             [
              0.3333333333333333,
              "#9c179e"
             ],
             [
              0.4444444444444444,
              "#bd3786"
             ],
             [
              0.5555555555555556,
              "#d8576b"
             ],
             [
              0.6666666666666666,
              "#ed7953"
             ],
             [
              0.7777777777777778,
              "#fb9f3a"
             ],
             [
              0.8888888888888888,
              "#fdca26"
             ],
             [
              1,
              "#f0f921"
             ]
            ],
            "type": "heatmapgl"
           }
          ],
          "histogram": [
           {
            "marker": {
             "pattern": {
              "fillmode": "overlay",
              "size": 10,
              "solidity": 0.2
             }
            },
            "type": "histogram"
           }
          ],
          "histogram2d": [
           {
            "colorbar": {
             "outlinewidth": 0,
             "ticks": ""
            },
            "colorscale": [
             [
              0,
              "#0d0887"
             ],
             [
              0.1111111111111111,
              "#46039f"
             ],
             [
              0.2222222222222222,
              "#7201a8"
             ],
             [
              0.3333333333333333,
              "#9c179e"
             ],
             [
              0.4444444444444444,
              "#bd3786"
             ],
             [
              0.5555555555555556,
              "#d8576b"
             ],
             [
              0.6666666666666666,
              "#ed7953"
             ],
             [
              0.7777777777777778,
              "#fb9f3a"
             ],
             [
              0.8888888888888888,
              "#fdca26"
             ],
             [
              1,
              "#f0f921"
             ]
            ],
            "type": "histogram2d"
           }
          ],
          "histogram2dcontour": [
           {
            "colorbar": {
             "outlinewidth": 0,
             "ticks": ""
            },
            "colorscale": [
             [
              0,
              "#0d0887"
             ],
             [
              0.1111111111111111,
              "#46039f"
             ],
             [
              0.2222222222222222,
              "#7201a8"
             ],
             [
              0.3333333333333333,
              "#9c179e"
             ],
             [
              0.4444444444444444,
              "#bd3786"
             ],
             [
              0.5555555555555556,
              "#d8576b"
             ],
             [
              0.6666666666666666,
              "#ed7953"
             ],
             [
              0.7777777777777778,
              "#fb9f3a"
             ],
             [
              0.8888888888888888,
              "#fdca26"
             ],
             [
              1,
              "#f0f921"
             ]
            ],
            "type": "histogram2dcontour"
           }
          ],
          "mesh3d": [
           {
            "colorbar": {
             "outlinewidth": 0,
             "ticks": ""
            },
            "type": "mesh3d"
           }
          ],
          "parcoords": [
           {
            "line": {
             "colorbar": {
              "outlinewidth": 0,
              "ticks": ""
             }
            },
            "type": "parcoords"
           }
          ],
          "pie": [
           {
            "automargin": true,
            "type": "pie"
           }
          ],
          "scatter": [
           {
            "fillpattern": {
             "fillmode": "overlay",
             "size": 10,
             "solidity": 0.2
            },
            "type": "scatter"
           }
          ],
          "scatter3d": [
           {
            "line": {
             "colorbar": {
              "outlinewidth": 0,
              "ticks": ""
             }
            },
            "marker": {
             "colorbar": {
              "outlinewidth": 0,
              "ticks": ""
             }
            },
            "type": "scatter3d"
           }
          ],
          "scattercarpet": [
           {
            "marker": {
             "colorbar": {
              "outlinewidth": 0,
              "ticks": ""
             }
            },
            "type": "scattercarpet"
           }
          ],
          "scattergeo": [
           {
            "marker": {
             "colorbar": {
              "outlinewidth": 0,
              "ticks": ""
             }
            },
            "type": "scattergeo"
           }
          ],
          "scattergl": [
           {
            "marker": {
             "colorbar": {
              "outlinewidth": 0,
              "ticks": ""
             }
            },
            "type": "scattergl"
           }
          ],
          "scattermapbox": [
           {
            "marker": {
             "colorbar": {
              "outlinewidth": 0,
              "ticks": ""
             }
            },
            "type": "scattermapbox"
           }
          ],
          "scatterpolar": [
           {
            "marker": {
             "colorbar": {
              "outlinewidth": 0,
              "ticks": ""
             }
            },
            "type": "scatterpolar"
           }
          ],
          "scatterpolargl": [
           {
            "marker": {
             "colorbar": {
              "outlinewidth": 0,
              "ticks": ""
             }
            },
            "type": "scatterpolargl"
           }
          ],
          "scatterternary": [
           {
            "marker": {
             "colorbar": {
              "outlinewidth": 0,
              "ticks": ""
             }
            },
            "type": "scatterternary"
           }
          ],
          "surface": [
           {
            "colorbar": {
             "outlinewidth": 0,
             "ticks": ""
            },
            "colorscale": [
             [
              0,
              "#0d0887"
             ],
             [
              0.1111111111111111,
              "#46039f"
             ],
             [
              0.2222222222222222,
              "#7201a8"
             ],
             [
              0.3333333333333333,
              "#9c179e"
             ],
             [
              0.4444444444444444,
              "#bd3786"
             ],
             [
              0.5555555555555556,
              "#d8576b"
             ],
             [
              0.6666666666666666,
              "#ed7953"
             ],
             [
              0.7777777777777778,
              "#fb9f3a"
             ],
             [
              0.8888888888888888,
              "#fdca26"
             ],
             [
              1,
              "#f0f921"
             ]
            ],
            "type": "surface"
           }
          ],
          "table": [
           {
            "cells": {
             "fill": {
              "color": "#EBF0F8"
             },
             "line": {
              "color": "white"
             }
            },
            "header": {
             "fill": {
              "color": "#C8D4E3"
             },
             "line": {
              "color": "white"
             }
            },
            "type": "table"
           }
          ]
         },
         "layout": {
          "annotationdefaults": {
           "arrowcolor": "#2a3f5f",
           "arrowhead": 0,
           "arrowwidth": 1
          },
          "autotypenumbers": "strict",
          "coloraxis": {
           "colorbar": {
            "outlinewidth": 0,
            "ticks": ""
           }
          },
          "colorscale": {
           "diverging": [
            [
             0,
             "#8e0152"
            ],
            [
             0.1,
             "#c51b7d"
            ],
            [
             0.2,
             "#de77ae"
            ],
            [
             0.3,
             "#f1b6da"
            ],
            [
             0.4,
             "#fde0ef"
            ],
            [
             0.5,
             "#f7f7f7"
            ],
            [
             0.6,
             "#e6f5d0"
            ],
            [
             0.7,
             "#b8e186"
            ],
            [
             0.8,
             "#7fbc41"
            ],
            [
             0.9,
             "#4d9221"
            ],
            [
             1,
             "#276419"
            ]
           ],
           "sequential": [
            [
             0,
             "#0d0887"
            ],
            [
             0.1111111111111111,
             "#46039f"
            ],
            [
             0.2222222222222222,
             "#7201a8"
            ],
            [
             0.3333333333333333,
             "#9c179e"
            ],
            [
             0.4444444444444444,
             "#bd3786"
            ],
            [
             0.5555555555555556,
             "#d8576b"
            ],
            [
             0.6666666666666666,
             "#ed7953"
            ],
            [
             0.7777777777777778,
             "#fb9f3a"
            ],
            [
             0.8888888888888888,
             "#fdca26"
            ],
            [
             1,
             "#f0f921"
            ]
           ],
           "sequentialminus": [
            [
             0,
             "#0d0887"
            ],
            [
             0.1111111111111111,
             "#46039f"
            ],
            [
             0.2222222222222222,
             "#7201a8"
            ],
            [
             0.3333333333333333,
             "#9c179e"
            ],
            [
             0.4444444444444444,
             "#bd3786"
            ],
            [
             0.5555555555555556,
             "#d8576b"
            ],
            [
             0.6666666666666666,
             "#ed7953"
            ],
            [
             0.7777777777777778,
             "#fb9f3a"
            ],
            [
             0.8888888888888888,
             "#fdca26"
            ],
            [
             1,
             "#f0f921"
            ]
           ]
          },
          "colorway": [
           "#636efa",
           "#EF553B",
           "#00cc96",
           "#ab63fa",
           "#FFA15A",
           "#19d3f3",
           "#FF6692",
           "#B6E880",
           "#FF97FF",
           "#FECB52"
          ],
          "font": {
           "color": "#2a3f5f"
          },
          "geo": {
           "bgcolor": "white",
           "lakecolor": "white",
           "landcolor": "white",
           "showlakes": true,
           "showland": true,
           "subunitcolor": "#C8D4E3"
          },
          "hoverlabel": {
           "align": "left"
          },
          "hovermode": "closest",
          "mapbox": {
           "style": "light"
          },
          "paper_bgcolor": "white",
          "plot_bgcolor": "white",
          "polar": {
           "angularaxis": {
            "gridcolor": "#EBF0F8",
            "linecolor": "#EBF0F8",
            "ticks": ""
           },
           "bgcolor": "white",
           "radialaxis": {
            "gridcolor": "#EBF0F8",
            "linecolor": "#EBF0F8",
            "ticks": ""
           }
          },
          "scene": {
           "xaxis": {
            "backgroundcolor": "white",
            "gridcolor": "#DFE8F3",
            "gridwidth": 2,
            "linecolor": "#EBF0F8",
            "showbackground": true,
            "ticks": "",
            "zerolinecolor": "#EBF0F8"
           },
           "yaxis": {
            "backgroundcolor": "white",
            "gridcolor": "#DFE8F3",
            "gridwidth": 2,
            "linecolor": "#EBF0F8",
            "showbackground": true,
            "ticks": "",
            "zerolinecolor": "#EBF0F8"
           },
           "zaxis": {
            "backgroundcolor": "white",
            "gridcolor": "#DFE8F3",
            "gridwidth": 2,
            "linecolor": "#EBF0F8",
            "showbackground": true,
            "ticks": "",
            "zerolinecolor": "#EBF0F8"
           }
          },
          "shapedefaults": {
           "line": {
            "color": "#2a3f5f"
           }
          },
          "ternary": {
           "aaxis": {
            "gridcolor": "#DFE8F3",
            "linecolor": "#A2B1C6",
            "ticks": ""
           },
           "baxis": {
            "gridcolor": "#DFE8F3",
            "linecolor": "#A2B1C6",
            "ticks": ""
           },
           "bgcolor": "white",
           "caxis": {
            "gridcolor": "#DFE8F3",
            "linecolor": "#A2B1C6",
            "ticks": ""
           }
          },
          "title": {
           "x": 0.05
          },
          "xaxis": {
           "automargin": true,
           "gridcolor": "#EBF0F8",
           "linecolor": "#EBF0F8",
           "ticks": "",
           "title": {
            "standoff": 15
           },
           "zerolinecolor": "#EBF0F8",
           "zerolinewidth": 2
          },
          "yaxis": {
           "automargin": true,
           "gridcolor": "#EBF0F8",
           "linecolor": "#EBF0F8",
           "ticks": "",
           "title": {
            "standoff": 15
           },
           "zerolinecolor": "#EBF0F8",
           "zerolinewidth": 2
          }
         }
        },
        "title": {
         "text": "Molecule vs R2 Score"
        },
        "width": 1100,
        "xaxis": {
         "tickangle": -45,
         "title": {
          "text": "Molecule"
         }
        },
        "yaxis": {
         "range": [
          0,
          1
         ],
         "title": {
          "text": "R2 Score"
         }
        }
       }
      }
     },
     "metadata": {},
     "output_type": "display_data"
    }
   ],
   "source": [
    "import plotly.graph_objects as go\n",
    "\n",
    "# Sort by r2_score in descending order to find the best 3 variants\n",
    "top_3_df = final_results_top48.sort_values(by='r2_score', ascending=False).head(3)\n",
    "\n",
    "# Create the bar chart\n",
    "fig = go.Figure()\n",
    "\n",
    "# Add bars\n",
    "fig.add_trace(go.Bar(\n",
    "    x=final_results_top48['Molecule'],\n",
    "    y=final_results_top48['r2_score'],\n",
    "    text=final_results_top48['r2_score'].apply(lambda x: f\"{x:.5f}\"),\n",
    "    textposition='inside',\n",
    "    marker=dict(color='lightblue', opacity=0.6)\n",
    "))\n",
    "\n",
    "# Define a list of colors or use a color scale\n",
    "color_scale = ['red', 'green', 'blue', 'orange', 'purple', 'cyan', 'magenta', 'yellow', 'grey', 'brown']\n",
    "\n",
    "# Annotate the top 3 variants with different colors\n",
    "for idx, row in top_3_df.iterrows():\n",
    "    color = color_scale[idx % len(color_scale)]  # Use modulo to avoid index out of range\n",
    "    fig.add_trace(go.Scatter(\n",
    "        x=[row['Molecule']],\n",
    "        y=[row['r2_score']],\n",
    "        mode='markers+text',\n",
    "        marker=dict(size=12, color=color, line=dict(width=2, color='Black')),\n",
    "        text=f\"{row['Molecule']}<br>R2: {row['r2_score']:.5f}\",\n",
    "        textposition='top center',\n",
    "        name=f\"Top {idx+1} Variant\"\n",
    "    ))\n",
    "\n",
    "    # Add annotation with an arrow\n",
    "    fig.add_annotation(\n",
    "        x=row['Molecule'],\n",
    "        y=row['r2_score'],\n",
    "        text=f\"{row['Molecule']}<br>R2: {row['r2_score']:.5f}\",\n",
    "        showarrow=True,\n",
    "        arrowhead=2,\n",
    "        ax=0,\n",
    "        ay=-40,\n",
    "        arrowcolor=color\n",
    "    )\n",
    "\n",
    "# Update layout\n",
    "fig.update_layout(\n",
    "    title='Molecule vs R2 Score',\n",
    "    xaxis_title='Molecule',\n",
    "    yaxis_title='R2 Score',\n",
    "    xaxis_tickangle=-45,\n",
    "    yaxis=dict(range=[0, 1]),  # Adjust range as needed\n",
    "    template='plotly_white',\n",
    "    height = 800,\n",
    "    width = 1100\n",
    ")\n",
    "\n",
    "# Show the plot\n",
    "fig.show()"
   ]
  },
  {
   "cell_type": "code",
   "execution_count": 7,
   "metadata": {},
   "outputs": [
    {
     "data": {
      "text/html": [
       "<div>\n",
       "<style scoped>\n",
       "    .dataframe tbody tr th:only-of-type {\n",
       "        vertical-align: middle;\n",
       "    }\n",
       "\n",
       "    .dataframe tbody tr th {\n",
       "        vertical-align: top;\n",
       "    }\n",
       "\n",
       "    .dataframe thead th {\n",
       "        text-align: right;\n",
       "    }\n",
       "</style>\n",
       "<table border=\"1\" class=\"dataframe\">\n",
       "  <thead>\n",
       "    <tr style=\"text-align: right;\">\n",
       "      <th></th>\n",
       "      <th>Molecule</th>\n",
       "      <th>Molecular Weight</th>\n",
       "      <th>LogP</th>\n",
       "      <th>Homo-Lumo Gap (eV)</th>\n",
       "      <th>Smiles</th>\n",
       "      <th>mol</th>\n",
       "      <th>morgan_0</th>\n",
       "      <th>morgan_1</th>\n",
       "      <th>morgan_2</th>\n",
       "      <th>morgan_3</th>\n",
       "      <th>...</th>\n",
       "      <th>morgan_2039</th>\n",
       "      <th>morgan_2040</th>\n",
       "      <th>morgan_2041</th>\n",
       "      <th>morgan_2042</th>\n",
       "      <th>morgan_2043</th>\n",
       "      <th>morgan_2044</th>\n",
       "      <th>morgan_2045</th>\n",
       "      <th>morgan_2046</th>\n",
       "      <th>morgan_2047</th>\n",
       "      <th>Homo-Lumo Gap (eV) Predicted</th>\n",
       "    </tr>\n",
       "  </thead>\n",
       "  <tbody>\n",
       "    <tr>\n",
       "      <th>0</th>\n",
       "      <td>2-ADMeO3</td>\n",
       "      <td>532.345</td>\n",
       "      <td>5.02930</td>\n",
       "      <td>3.077</td>\n",
       "      <td>COc3cc(OC)c(C/C=C/C2=CC(/C=C/Cc1c(OC)cc(OC)cc1...</td>\n",
       "      <td>&lt;rdkit.Chem.rdchem.Mol object at 0x0000011FAE9...</td>\n",
       "      <td>0</td>\n",
       "      <td>0</td>\n",
       "      <td>0</td>\n",
       "      <td>0</td>\n",
       "      <td>...</td>\n",
       "      <td>0</td>\n",
       "      <td>0</td>\n",
       "      <td>0</td>\n",
       "      <td>0</td>\n",
       "      <td>0</td>\n",
       "      <td>0</td>\n",
       "      <td>0</td>\n",
       "      <td>0</td>\n",
       "      <td>0</td>\n",
       "      <td>3.364453</td>\n",
       "    </tr>\n",
       "    <tr>\n",
       "      <th>1</th>\n",
       "      <td>3-MR83a</td>\n",
       "      <td>472.293</td>\n",
       "      <td>5.01210</td>\n",
       "      <td>3.072</td>\n",
       "      <td>COc3ccc(C/C=C/C2=[O+][B-](F)(F)OC(/C=C/Cc1c(OC...</td>\n",
       "      <td>&lt;rdkit.Chem.rdchem.Mol object at 0x0000011FAE9...</td>\n",
       "      <td>0</td>\n",
       "      <td>0</td>\n",
       "      <td>0</td>\n",
       "      <td>0</td>\n",
       "      <td>...</td>\n",
       "      <td>0</td>\n",
       "      <td>0</td>\n",
       "      <td>0</td>\n",
       "      <td>0</td>\n",
       "      <td>0</td>\n",
       "      <td>0</td>\n",
       "      <td>0</td>\n",
       "      <td>0</td>\n",
       "      <td>0</td>\n",
       "      <td>3.226149</td>\n",
       "    </tr>\n",
       "    <tr>\n",
       "      <th>2</th>\n",
       "      <td>AD-10</td>\n",
       "      <td>472.293</td>\n",
       "      <td>5.01210</td>\n",
       "      <td>3.259</td>\n",
       "      <td>COc3ccc(C/C=C/C2=CC(/C=C/Cc1ccc(OC)cc1OC)=[O+]...</td>\n",
       "      <td>&lt;rdkit.Chem.rdchem.Mol object at 0x0000011FAE9...</td>\n",
       "      <td>0</td>\n",
       "      <td>0</td>\n",
       "      <td>0</td>\n",
       "      <td>0</td>\n",
       "      <td>...</td>\n",
       "      <td>0</td>\n",
       "      <td>0</td>\n",
       "      <td>0</td>\n",
       "      <td>0</td>\n",
       "      <td>0</td>\n",
       "      <td>0</td>\n",
       "      <td>0</td>\n",
       "      <td>0</td>\n",
       "      <td>0</td>\n",
       "      <td>2.944993</td>\n",
       "    </tr>\n",
       "    <tr>\n",
       "      <th>3</th>\n",
       "      <td>AD-1013</td>\n",
       "      <td>482.335</td>\n",
       "      <td>7.29270</td>\n",
       "      <td>2.625</td>\n",
       "      <td>COc5ccc(C/C=C/C4=[O+][B-](F)(F)OC(/C=C/Cc2c1cc...</td>\n",
       "      <td>&lt;rdkit.Chem.rdchem.Mol object at 0x0000011FAE9...</td>\n",
       "      <td>0</td>\n",
       "      <td>0</td>\n",
       "      <td>0</td>\n",
       "      <td>0</td>\n",
       "      <td>...</td>\n",
       "      <td>0</td>\n",
       "      <td>0</td>\n",
       "      <td>0</td>\n",
       "      <td>0</td>\n",
       "      <td>0</td>\n",
       "      <td>0</td>\n",
       "      <td>0</td>\n",
       "      <td>0</td>\n",
       "      <td>0</td>\n",
       "      <td>3.016535</td>\n",
       "    </tr>\n",
       "    <tr>\n",
       "      <th>4</th>\n",
       "      <td>AD-1022</td>\n",
       "      <td>472.293</td>\n",
       "      <td>5.01210</td>\n",
       "      <td>2.938</td>\n",
       "      <td>COc3ccc(OC)c(C/C=C/C2=CC(/C=C/Cc1cc(OC)ccc1OC)...</td>\n",
       "      <td>&lt;rdkit.Chem.rdchem.Mol object at 0x0000011FAE9...</td>\n",
       "      <td>0</td>\n",
       "      <td>0</td>\n",
       "      <td>0</td>\n",
       "      <td>0</td>\n",
       "      <td>...</td>\n",
       "      <td>0</td>\n",
       "      <td>0</td>\n",
       "      <td>0</td>\n",
       "      <td>0</td>\n",
       "      <td>0</td>\n",
       "      <td>0</td>\n",
       "      <td>0</td>\n",
       "      <td>0</td>\n",
       "      <td>0</td>\n",
       "      <td>2.958797</td>\n",
       "    </tr>\n",
       "    <tr>\n",
       "      <th>5</th>\n",
       "      <td>AD-11</td>\n",
       "      <td>444.239</td>\n",
       "      <td>4.40610</td>\n",
       "      <td>2.946</td>\n",
       "      <td>COc3cc(C/C=C/C2=CC(/C=C/Cc1ccc(O)c(OC)c1)=[O+]...</td>\n",
       "      <td>&lt;rdkit.Chem.rdchem.Mol object at 0x0000011FAE9...</td>\n",
       "      <td>0</td>\n",
       "      <td>0</td>\n",
       "      <td>0</td>\n",
       "      <td>0</td>\n",
       "      <td>...</td>\n",
       "      <td>0</td>\n",
       "      <td>0</td>\n",
       "      <td>0</td>\n",
       "      <td>0</td>\n",
       "      <td>0</td>\n",
       "      <td>0</td>\n",
       "      <td>0</td>\n",
       "      <td>0</td>\n",
       "      <td>0</td>\n",
       "      <td>3.065937</td>\n",
       "    </tr>\n",
       "    <tr>\n",
       "      <th>6</th>\n",
       "      <td>AD-14-Moore</td>\n",
       "      <td>438.327</td>\n",
       "      <td>5.10970</td>\n",
       "      <td>2.811</td>\n",
       "      <td>CN(C)c3ccc(C/C=C/C2=CC(/C=C/Cc1ccc(N(C)C)cc1)=...</td>\n",
       "      <td>&lt;rdkit.Chem.rdchem.Mol object at 0x0000011FAE9...</td>\n",
       "      <td>0</td>\n",
       "      <td>0</td>\n",
       "      <td>0</td>\n",
       "      <td>0</td>\n",
       "      <td>...</td>\n",
       "      <td>0</td>\n",
       "      <td>0</td>\n",
       "      <td>0</td>\n",
       "      <td>0</td>\n",
       "      <td>0</td>\n",
       "      <td>0</td>\n",
       "      <td>0</td>\n",
       "      <td>0</td>\n",
       "      <td>0</td>\n",
       "      <td>3.193340</td>\n",
       "    </tr>\n",
       "    <tr>\n",
       "      <th>7</th>\n",
       "      <td>AD-16-DMF</td>\n",
       "      <td>377.199</td>\n",
       "      <td>4.84938</td>\n",
       "      <td>3.231</td>\n",
       "      <td>N#Cc3ccc(C/C=C/C2=[O+][B-](F)(F)OC(/C=C/Cc1ccc...</td>\n",
       "      <td>&lt;rdkit.Chem.rdchem.Mol object at 0x0000011FAE9...</td>\n",
       "      <td>0</td>\n",
       "      <td>0</td>\n",
       "      <td>0</td>\n",
       "      <td>0</td>\n",
       "      <td>...</td>\n",
       "      <td>0</td>\n",
       "      <td>0</td>\n",
       "      <td>0</td>\n",
       "      <td>0</td>\n",
       "      <td>0</td>\n",
       "      <td>0</td>\n",
       "      <td>0</td>\n",
       "      <td>0</td>\n",
       "      <td>0</td>\n",
       "      <td>3.145588</td>\n",
       "    </tr>\n",
       "    <tr>\n",
       "      <th>8</th>\n",
       "      <td>AD-18</td>\n",
       "      <td>506.357</td>\n",
       "      <td>7.88370</td>\n",
       "      <td>2.735</td>\n",
       "      <td>COc6ccc(C/C=C/C5=CC(/C=C/Cc1cc2ccc3cccc4ccc(c1...</td>\n",
       "      <td>&lt;rdkit.Chem.rdchem.Mol object at 0x0000011FAE9...</td>\n",
       "      <td>0</td>\n",
       "      <td>0</td>\n",
       "      <td>0</td>\n",
       "      <td>0</td>\n",
       "      <td>...</td>\n",
       "      <td>0</td>\n",
       "      <td>0</td>\n",
       "      <td>0</td>\n",
       "      <td>0</td>\n",
       "      <td>0</td>\n",
       "      <td>0</td>\n",
       "      <td>0</td>\n",
       "      <td>0</td>\n",
       "      <td>0</td>\n",
       "      <td>2.977047</td>\n",
       "    </tr>\n",
       "    <tr>\n",
       "      <th>9</th>\n",
       "      <td>AD-24</td>\n",
       "      <td>512.361</td>\n",
       "      <td>7.30130</td>\n",
       "      <td>2.878</td>\n",
       "      <td>COc4ccc(C/C=C/C3=CC(/C=C/Cc1ccc(OC)c2ccccc12)=...</td>\n",
       "      <td>&lt;rdkit.Chem.rdchem.Mol object at 0x0000011FAE9...</td>\n",
       "      <td>0</td>\n",
       "      <td>0</td>\n",
       "      <td>0</td>\n",
       "      <td>0</td>\n",
       "      <td>...</td>\n",
       "      <td>0</td>\n",
       "      <td>0</td>\n",
       "      <td>0</td>\n",
       "      <td>0</td>\n",
       "      <td>0</td>\n",
       "      <td>0</td>\n",
       "      <td>0</td>\n",
       "      <td>0</td>\n",
       "      <td>0</td>\n",
       "      <td>2.833901</td>\n",
       "    </tr>\n",
       "    <tr>\n",
       "      <th>10</th>\n",
       "      <td>AD-25</td>\n",
       "      <td>538.447</td>\n",
       "      <td>7.41610</td>\n",
       "      <td>2.686</td>\n",
       "      <td>CN(C)c4ccc(C/C=C/C3=CC(/C=C/Cc1ccc(N(C)C)c2ccc...</td>\n",
       "      <td>&lt;rdkit.Chem.rdchem.Mol object at 0x0000011FAE9...</td>\n",
       "      <td>0</td>\n",
       "      <td>0</td>\n",
       "      <td>0</td>\n",
       "      <td>0</td>\n",
       "      <td>...</td>\n",
       "      <td>0</td>\n",
       "      <td>0</td>\n",
       "      <td>0</td>\n",
       "      <td>0</td>\n",
       "      <td>0</td>\n",
       "      <td>0</td>\n",
       "      <td>0</td>\n",
       "      <td>0</td>\n",
       "      <td>0</td>\n",
       "      <td>2.924279</td>\n",
       "    </tr>\n",
       "    <tr>\n",
       "      <th>11</th>\n",
       "      <td>AD-3</td>\n",
       "      <td>402.209</td>\n",
       "      <td>4.72106</td>\n",
       "      <td>3.215</td>\n",
       "      <td>N#Cc3ccc(C/C=C/C2=CC(/C=C/Cc1ccc(C#N)cc1)=[O+]...</td>\n",
       "      <td>&lt;rdkit.Chem.rdchem.Mol object at 0x0000011FAE9...</td>\n",
       "      <td>0</td>\n",
       "      <td>0</td>\n",
       "      <td>0</td>\n",
       "      <td>0</td>\n",
       "      <td>...</td>\n",
       "      <td>0</td>\n",
       "      <td>0</td>\n",
       "      <td>0</td>\n",
       "      <td>0</td>\n",
       "      <td>0</td>\n",
       "      <td>0</td>\n",
       "      <td>0</td>\n",
       "      <td>0</td>\n",
       "      <td>0</td>\n",
       "      <td>3.222392</td>\n",
       "    </tr>\n",
       "    <tr>\n",
       "      <th>12</th>\n",
       "      <td>AD-35</td>\n",
       "      <td>606.651</td>\n",
       "      <td>9.79090</td>\n",
       "      <td>2.770</td>\n",
       "      <td>CCCCN(CCCC)c3ccc(C/C=C/C2=CC(/C=C/Cc1ccc(N(CCC...</td>\n",
       "      <td>&lt;rdkit.Chem.rdchem.Mol object at 0x0000011FAE9...</td>\n",
       "      <td>0</td>\n",
       "      <td>0</td>\n",
       "      <td>0</td>\n",
       "      <td>0</td>\n",
       "      <td>...</td>\n",
       "      <td>0</td>\n",
       "      <td>0</td>\n",
       "      <td>0</td>\n",
       "      <td>0</td>\n",
       "      <td>0</td>\n",
       "      <td>0</td>\n",
       "      <td>0</td>\n",
       "      <td>0</td>\n",
       "      <td>0</td>\n",
       "      <td>2.943746</td>\n",
       "    </tr>\n",
       "    <tr>\n",
       "      <th>13</th>\n",
       "      <td>AD-4</td>\n",
       "      <td>407.225</td>\n",
       "      <td>4.85798</td>\n",
       "      <td>3.001</td>\n",
       "      <td>COc3ccc(C/C=C/C2=CC(/C=C/Cc1ccc(C#N)cc1)=[O+][...</td>\n",
       "      <td>&lt;rdkit.Chem.rdchem.Mol object at 0x0000011FAE9...</td>\n",
       "      <td>0</td>\n",
       "      <td>0</td>\n",
       "      <td>0</td>\n",
       "      <td>0</td>\n",
       "      <td>...</td>\n",
       "      <td>0</td>\n",
       "      <td>0</td>\n",
       "      <td>0</td>\n",
       "      <td>0</td>\n",
       "      <td>0</td>\n",
       "      <td>0</td>\n",
       "      <td>0</td>\n",
       "      <td>0</td>\n",
       "      <td>0</td>\n",
       "      <td>3.130062</td>\n",
       "    </tr>\n",
       "    <tr>\n",
       "      <th>14</th>\n",
       "      <td>AD-48</td>\n",
       "      <td>542.479</td>\n",
       "      <td>7.89550</td>\n",
       "      <td>2.702</td>\n",
       "      <td>CN5/C(=C\\C\\C=C\\C3=CC(/C=C/C/C=C/2N(C)c1ccccc1C...</td>\n",
       "      <td>&lt;rdkit.Chem.rdchem.Mol object at 0x0000011FAE9...</td>\n",
       "      <td>0</td>\n",
       "      <td>0</td>\n",
       "      <td>0</td>\n",
       "      <td>0</td>\n",
       "      <td>...</td>\n",
       "      <td>0</td>\n",
       "      <td>0</td>\n",
       "      <td>0</td>\n",
       "      <td>0</td>\n",
       "      <td>0</td>\n",
       "      <td>0</td>\n",
       "      <td>0</td>\n",
       "      <td>0</td>\n",
       "      <td>0</td>\n",
       "      <td>2.859504</td>\n",
       "    </tr>\n",
       "    <tr>\n",
       "      <th>15</th>\n",
       "      <td>AD-5</td>\n",
       "      <td>428.309</td>\n",
       "      <td>5.70820</td>\n",
       "      <td>2.970</td>\n",
       "      <td>COc3ccc(C/C=C/C2=[O+][B-](F)(F)OC(/C=C/Cc1ccc(...</td>\n",
       "      <td>&lt;rdkit.Chem.rdchem.Mol object at 0x0000011FAE9...</td>\n",
       "      <td>0</td>\n",
       "      <td>0</td>\n",
       "      <td>0</td>\n",
       "      <td>0</td>\n",
       "      <td>...</td>\n",
       "      <td>0</td>\n",
       "      <td>0</td>\n",
       "      <td>0</td>\n",
       "      <td>0</td>\n",
       "      <td>0</td>\n",
       "      <td>0</td>\n",
       "      <td>0</td>\n",
       "      <td>0</td>\n",
       "      <td>0</td>\n",
       "      <td>3.227829</td>\n",
       "    </tr>\n",
       "    <tr>\n",
       "      <th>16</th>\n",
       "      <td>AD-6</td>\n",
       "      <td>444.377</td>\n",
       "      <td>6.42150</td>\n",
       "      <td>2.890</td>\n",
       "      <td>CSc3ccc(C/C=C/C2=CC(/C=C/Cc1ccc(SC)cc1)=[O+][B...</td>\n",
       "      <td>&lt;rdkit.Chem.rdchem.Mol object at 0x0000011FAE9...</td>\n",
       "      <td>0</td>\n",
       "      <td>0</td>\n",
       "      <td>0</td>\n",
       "      <td>0</td>\n",
       "      <td>...</td>\n",
       "      <td>0</td>\n",
       "      <td>0</td>\n",
       "      <td>0</td>\n",
       "      <td>0</td>\n",
       "      <td>0</td>\n",
       "      <td>0</td>\n",
       "      <td>0</td>\n",
       "      <td>0</td>\n",
       "      <td>0</td>\n",
       "      <td>3.227347</td>\n",
       "    </tr>\n",
       "    <tr>\n",
       "      <th>17</th>\n",
       "      <td>AD-7</td>\n",
       "      <td>425.284</td>\n",
       "      <td>5.05230</td>\n",
       "      <td>2.859</td>\n",
       "      <td>COc3ccc(C/C=C/C2=CC(/C=C/Cc1ccc(N(C)C)cc1)=[O+...</td>\n",
       "      <td>&lt;rdkit.Chem.rdchem.Mol object at 0x0000011FAE9...</td>\n",
       "      <td>0</td>\n",
       "      <td>0</td>\n",
       "      <td>0</td>\n",
       "      <td>0</td>\n",
       "      <td>...</td>\n",
       "      <td>0</td>\n",
       "      <td>0</td>\n",
       "      <td>0</td>\n",
       "      <td>0</td>\n",
       "      <td>0</td>\n",
       "      <td>0</td>\n",
       "      <td>0</td>\n",
       "      <td>0</td>\n",
       "      <td>0</td>\n",
       "      <td>3.193822</td>\n",
       "    </tr>\n",
       "    <tr>\n",
       "      <th>18</th>\n",
       "      <td>AD-9</td>\n",
       "      <td>412.241</td>\n",
       "      <td>4.99490</td>\n",
       "      <td>3.137</td>\n",
       "      <td>COc1ccccc1C/C=C/C3=CC(/C=C/Cc2ccccc2OC)=[O+][B...</td>\n",
       "      <td>&lt;rdkit.Chem.rdchem.Mol object at 0x0000011FAE9...</td>\n",
       "      <td>0</td>\n",
       "      <td>0</td>\n",
       "      <td>0</td>\n",
       "      <td>0</td>\n",
       "      <td>...</td>\n",
       "      <td>0</td>\n",
       "      <td>0</td>\n",
       "      <td>0</td>\n",
       "      <td>0</td>\n",
       "      <td>0</td>\n",
       "      <td>0</td>\n",
       "      <td>0</td>\n",
       "      <td>0</td>\n",
       "      <td>0</td>\n",
       "      <td>2.910167</td>\n",
       "    </tr>\n",
       "    <tr>\n",
       "      <th>19</th>\n",
       "      <td>YD-30</td>\n",
       "      <td>752.933</td>\n",
       "      <td>14.70550</td>\n",
       "      <td>2.525</td>\n",
       "      <td>CCCCCC(CC)c5ccc(c4ccc(C/C=C/C3=CC(/C=C/Cc2ccc(...</td>\n",
       "      <td>&lt;rdkit.Chem.rdchem.Mol object at 0x0000011FAE9...</td>\n",
       "      <td>0</td>\n",
       "      <td>1</td>\n",
       "      <td>0</td>\n",
       "      <td>0</td>\n",
       "      <td>...</td>\n",
       "      <td>0</td>\n",
       "      <td>0</td>\n",
       "      <td>1</td>\n",
       "      <td>0</td>\n",
       "      <td>0</td>\n",
       "      <td>0</td>\n",
       "      <td>0</td>\n",
       "      <td>0</td>\n",
       "      <td>0</td>\n",
       "      <td>2.812595</td>\n",
       "    </tr>\n",
       "  </tbody>\n",
       "</table>\n",
       "<p>20 rows × 2055 columns</p>\n",
       "</div>"
      ],
      "text/plain": [
       "       Molecule  Molecular Weight      LogP  Homo-Lumo Gap (eV)  \\\n",
       "0      2-ADMeO3           532.345   5.02930               3.077   \n",
       "1       3-MR83a           472.293   5.01210               3.072   \n",
       "2         AD-10           472.293   5.01210               3.259   \n",
       "3       AD-1013           482.335   7.29270               2.625   \n",
       "4       AD-1022           472.293   5.01210               2.938   \n",
       "5         AD-11           444.239   4.40610               2.946   \n",
       "6   AD-14-Moore           438.327   5.10970               2.811   \n",
       "7     AD-16-DMF           377.199   4.84938               3.231   \n",
       "8         AD-18           506.357   7.88370               2.735   \n",
       "9         AD-24           512.361   7.30130               2.878   \n",
       "10        AD-25           538.447   7.41610               2.686   \n",
       "11         AD-3           402.209   4.72106               3.215   \n",
       "12        AD-35           606.651   9.79090               2.770   \n",
       "13         AD-4           407.225   4.85798               3.001   \n",
       "14        AD-48           542.479   7.89550               2.702   \n",
       "15         AD-5           428.309   5.70820               2.970   \n",
       "16         AD-6           444.377   6.42150               2.890   \n",
       "17         AD-7           425.284   5.05230               2.859   \n",
       "18         AD-9           412.241   4.99490               3.137   \n",
       "19        YD-30           752.933  14.70550               2.525   \n",
       "\n",
       "                                               Smiles  \\\n",
       "0   COc3cc(OC)c(C/C=C/C2=CC(/C=C/Cc1c(OC)cc(OC)cc1...   \n",
       "1   COc3ccc(C/C=C/C2=[O+][B-](F)(F)OC(/C=C/Cc1c(OC...   \n",
       "2   COc3ccc(C/C=C/C2=CC(/C=C/Cc1ccc(OC)cc1OC)=[O+]...   \n",
       "3   COc5ccc(C/C=C/C4=[O+][B-](F)(F)OC(/C=C/Cc2c1cc...   \n",
       "4   COc3ccc(OC)c(C/C=C/C2=CC(/C=C/Cc1cc(OC)ccc1OC)...   \n",
       "5   COc3cc(C/C=C/C2=CC(/C=C/Cc1ccc(O)c(OC)c1)=[O+]...   \n",
       "6   CN(C)c3ccc(C/C=C/C2=CC(/C=C/Cc1ccc(N(C)C)cc1)=...   \n",
       "7   N#Cc3ccc(C/C=C/C2=[O+][B-](F)(F)OC(/C=C/Cc1ccc...   \n",
       "8   COc6ccc(C/C=C/C5=CC(/C=C/Cc1cc2ccc3cccc4ccc(c1...   \n",
       "9   COc4ccc(C/C=C/C3=CC(/C=C/Cc1ccc(OC)c2ccccc12)=...   \n",
       "10  CN(C)c4ccc(C/C=C/C3=CC(/C=C/Cc1ccc(N(C)C)c2ccc...   \n",
       "11  N#Cc3ccc(C/C=C/C2=CC(/C=C/Cc1ccc(C#N)cc1)=[O+]...   \n",
       "12  CCCCN(CCCC)c3ccc(C/C=C/C2=CC(/C=C/Cc1ccc(N(CCC...   \n",
       "13  COc3ccc(C/C=C/C2=CC(/C=C/Cc1ccc(C#N)cc1)=[O+][...   \n",
       "14  CN5/C(=C\\C\\C=C\\C3=CC(/C=C/C/C=C/2N(C)c1ccccc1C...   \n",
       "15  COc3ccc(C/C=C/C2=[O+][B-](F)(F)OC(/C=C/Cc1ccc(...   \n",
       "16  CSc3ccc(C/C=C/C2=CC(/C=C/Cc1ccc(SC)cc1)=[O+][B...   \n",
       "17  COc3ccc(C/C=C/C2=CC(/C=C/Cc1ccc(N(C)C)cc1)=[O+...   \n",
       "18  COc1ccccc1C/C=C/C3=CC(/C=C/Cc2ccccc2OC)=[O+][B...   \n",
       "19  CCCCCC(CC)c5ccc(c4ccc(C/C=C/C3=CC(/C=C/Cc2ccc(...   \n",
       "\n",
       "                                                  mol  morgan_0  morgan_1  \\\n",
       "0   <rdkit.Chem.rdchem.Mol object at 0x0000011FAE9...         0         0   \n",
       "1   <rdkit.Chem.rdchem.Mol object at 0x0000011FAE9...         0         0   \n",
       "2   <rdkit.Chem.rdchem.Mol object at 0x0000011FAE9...         0         0   \n",
       "3   <rdkit.Chem.rdchem.Mol object at 0x0000011FAE9...         0         0   \n",
       "4   <rdkit.Chem.rdchem.Mol object at 0x0000011FAE9...         0         0   \n",
       "5   <rdkit.Chem.rdchem.Mol object at 0x0000011FAE9...         0         0   \n",
       "6   <rdkit.Chem.rdchem.Mol object at 0x0000011FAE9...         0         0   \n",
       "7   <rdkit.Chem.rdchem.Mol object at 0x0000011FAE9...         0         0   \n",
       "8   <rdkit.Chem.rdchem.Mol object at 0x0000011FAE9...         0         0   \n",
       "9   <rdkit.Chem.rdchem.Mol object at 0x0000011FAE9...         0         0   \n",
       "10  <rdkit.Chem.rdchem.Mol object at 0x0000011FAE9...         0         0   \n",
       "11  <rdkit.Chem.rdchem.Mol object at 0x0000011FAE9...         0         0   \n",
       "12  <rdkit.Chem.rdchem.Mol object at 0x0000011FAE9...         0         0   \n",
       "13  <rdkit.Chem.rdchem.Mol object at 0x0000011FAE9...         0         0   \n",
       "14  <rdkit.Chem.rdchem.Mol object at 0x0000011FAE9...         0         0   \n",
       "15  <rdkit.Chem.rdchem.Mol object at 0x0000011FAE9...         0         0   \n",
       "16  <rdkit.Chem.rdchem.Mol object at 0x0000011FAE9...         0         0   \n",
       "17  <rdkit.Chem.rdchem.Mol object at 0x0000011FAE9...         0         0   \n",
       "18  <rdkit.Chem.rdchem.Mol object at 0x0000011FAE9...         0         0   \n",
       "19  <rdkit.Chem.rdchem.Mol object at 0x0000011FAE9...         0         1   \n",
       "\n",
       "    morgan_2  morgan_3  ...  morgan_2039  morgan_2040  morgan_2041  \\\n",
       "0          0         0  ...            0            0            0   \n",
       "1          0         0  ...            0            0            0   \n",
       "2          0         0  ...            0            0            0   \n",
       "3          0         0  ...            0            0            0   \n",
       "4          0         0  ...            0            0            0   \n",
       "5          0         0  ...            0            0            0   \n",
       "6          0         0  ...            0            0            0   \n",
       "7          0         0  ...            0            0            0   \n",
       "8          0         0  ...            0            0            0   \n",
       "9          0         0  ...            0            0            0   \n",
       "10         0         0  ...            0            0            0   \n",
       "11         0         0  ...            0            0            0   \n",
       "12         0         0  ...            0            0            0   \n",
       "13         0         0  ...            0            0            0   \n",
       "14         0         0  ...            0            0            0   \n",
       "15         0         0  ...            0            0            0   \n",
       "16         0         0  ...            0            0            0   \n",
       "17         0         0  ...            0            0            0   \n",
       "18         0         0  ...            0            0            0   \n",
       "19         0         0  ...            0            0            1   \n",
       "\n",
       "    morgan_2042  morgan_2043  morgan_2044  morgan_2045  morgan_2046  \\\n",
       "0             0            0            0            0            0   \n",
       "1             0            0            0            0            0   \n",
       "2             0            0            0            0            0   \n",
       "3             0            0            0            0            0   \n",
       "4             0            0            0            0            0   \n",
       "5             0            0            0            0            0   \n",
       "6             0            0            0            0            0   \n",
       "7             0            0            0            0            0   \n",
       "8             0            0            0            0            0   \n",
       "9             0            0            0            0            0   \n",
       "10            0            0            0            0            0   \n",
       "11            0            0            0            0            0   \n",
       "12            0            0            0            0            0   \n",
       "13            0            0            0            0            0   \n",
       "14            0            0            0            0            0   \n",
       "15            0            0            0            0            0   \n",
       "16            0            0            0            0            0   \n",
       "17            0            0            0            0            0   \n",
       "18            0            0            0            0            0   \n",
       "19            0            0            0            0            0   \n",
       "\n",
       "    morgan_2047  Homo-Lumo Gap (eV) Predicted  \n",
       "0             0                      3.364453  \n",
       "1             0                      3.226149  \n",
       "2             0                      2.944993  \n",
       "3             0                      3.016535  \n",
       "4             0                      2.958797  \n",
       "5             0                      3.065937  \n",
       "6             0                      3.193340  \n",
       "7             0                      3.145588  \n",
       "8             0                      2.977047  \n",
       "9             0                      2.833901  \n",
       "10            0                      2.924279  \n",
       "11            0                      3.222392  \n",
       "12            0                      2.943746  \n",
       "13            0                      3.130062  \n",
       "14            0                      2.859504  \n",
       "15            0                      3.227829  \n",
       "16            0                      3.227347  \n",
       "17            0                      3.193822  \n",
       "18            0                      2.910167  \n",
       "19            0                      2.812595  \n",
       "\n",
       "[20 rows x 2055 columns]"
      ]
     },
     "execution_count": 7,
     "metadata": {},
     "output_type": "execute_result"
    }
   ],
   "source": [
    "# Initialize an empty list to store the predicted energy gaps\n",
    "predicted_energy_gaps = []\n",
    "\n",
    "# Iterate through each row in the curcumin_df_mf\n",
    "for index, row in curcumin_df_mf.iterrows():\n",
    "    # Extract the variant number from the index\n",
    "    variant_number = f'{index:02d}'  # Format index to match the two-digit variant in model names\n",
    "    \n",
    "    # Construct the model key using the variant number\n",
    "    model_key = f'similarity_dfs_top48_curcumin_variant{variant_number}_morgan_dice'\n",
    "    \n",
    "    # Get the corresponding model from the best_models dictionary\n",
    "    model = best_models.get(model_key)\n",
    "    \n",
    "    if model is not None:\n",
    "        # Extract the fingerprint data (last 2048 columns)\n",
    "        fingerprint_data = row.iloc[-2048:].values.reshape(1, -1)\n",
    "        \n",
    "        # Predict the energy gap using the model\n",
    "        energy_gap = model.predict(fingerprint_data)[0]\n",
    "        predicted_energy_gaps.append(energy_gap)\n",
    "    else:\n",
    "        # If no model is found, append None\n",
    "        predicted_energy_gaps.append(None)\n",
    "\n",
    "# Add the predictions as a new column to curcumin_df_mf\n",
    "curcumin_df_mf['Homo-Lumo Gap (eV) Predicted'] = predicted_energy_gaps\n",
    "\n",
    "# Display the updated dataframe\n",
    "curcumin_df_mf"
   ]
  },
  {
   "cell_type": "code",
   "execution_count": 8,
   "metadata": {},
   "outputs": [],
   "source": [
    "curcumin_df_mf.to_csv(path_or_buf=r\"C:\\Users\\Chamod Peiris\\Documents\\Curcumin_Scripts\\curcumin_pred_48_20mol_pred_best_opt.csv\")"
   ]
  },
  {
   "cell_type": "code",
   "execution_count": 9,
   "metadata": {},
   "outputs": [
    {
     "data": {
      "image/png": "[encoded data removed]",
      "text/plain": [
       "<Figure size 1200x600 with 1 Axes>"
      ]
     },
     "metadata": {},
     "output_type": "display_data"
    }
   ],
   "source": [
    "import pandas as pd\n",
    "import matplotlib.pyplot as plt\n",
    "\n",
    "# Assuming curcumin_df_mf already has a 'Homo-Lumo Gap (eV) Predicted' column from the previous steps\n",
    "\n",
    "# Sort curcumin_df_mf by 'Homo-Lumo Gap (eV)' in descending order and reset the index\n",
    "curcumin_df_mf = curcumin_df_mf.sort_values(by='Homo-Lumo Gap (eV)', ascending=False).reset_index(drop=True)\n",
    "\n",
    "# Calculate the absolute variance between 'Homo-Lumo Gap (eV)' and 'Homo-Lumo Gap (eV) Predicted'\n",
    "curcumin_df_mf['absolute_variance'] = (curcumin_df_mf['Homo-Lumo Gap (eV)'] - curcumin_df_mf['Homo-Lumo Gap (eV) Predicted']).abs()\n",
    "\n",
    "# Plotting the actual vs predicted energy gaps\n",
    "fig, ax1 = plt.subplots(figsize=(12, 6))\n",
    "\n",
    "# Plot the actual values\n",
    "ax1.plot(curcumin_df_mf['Molecule'], curcumin_df_mf['Homo-Lumo Gap (eV)'], marker='s', label='Actual HOMO-LUMO Gap (eV)', color='orange')\n",
    "\n",
    "# Plot the predicted values\n",
    "ax1.plot(curcumin_df_mf['Molecule'], curcumin_df_mf['Homo-Lumo Gap (eV) Predicted'], marker='x', linestyle='--', label='Predicted HOMO-LUMO Gap (eV)', color='blue')\n",
    "\n",
    "# Plot the absolute variance as a dotted line\n",
    "ax1.plot(curcumin_df_mf['Molecule'], curcumin_df_mf['absolute_variance'], marker='v', linestyle=':', label='Absolute Variance', color='crimson')\n",
    "\n",
    "# Set labels for the axes and the range\n",
    "ax1.set_xlabel('Curcumin Derivative Molecule Name')\n",
    "ax1.set_ylabel('Homo-Lumo Energy Gap (eV)')\n",
    "ax1.set_ylim([0, 3.75])  # Adjust the y-axis range as needed\n",
    "ax1.tick_params(axis='y')\n",
    "ax1.legend(loc='upper right')\n",
    "\n",
    "# Customize the plot\n",
    "plt.title('Comparison of Actual vs Predicted HOMO-LUMO Gap (eV) and Absolute Variance')\n",
    "plt.grid(True)\n",
    "plt.legend(loc='center')\n",
    "plt.tight_layout()\n",
    "plt.xticks(rotation=90)\n",
    "\n",
    "# Show the plot\n",
    "plt.show()"
   ]
  },
  {
   "cell_type": "code",
   "execution_count": 10,
   "metadata": {},
   "outputs": [
    {
     "data": {
      "image/png": "[encoded data removed]",
      "text/plain": [
       "<Figure size 1400x700 with 1 Axes>"
      ]
     },
     "metadata": {},
     "output_type": "display_data"
    }
   ],
   "source": [
    "import pandas as pd\n",
    "import matplotlib.pyplot as plt\n",
    "import numpy as np\n",
    "\n",
    "# Assuming curcumin_df_mf already has a 'Homo-Lumo Gap (eV) Predicted' column from the previous steps\n",
    "\n",
    "# Sort curcumin_df_mf by 'Homo-Lumo Gap (eV)' in descending order and reset the index\n",
    "curcumin_df_mf = curcumin_df_mf.sort_values(by='Homo-Lumo Gap (eV)', ascending=False).reset_index(drop=True)\n",
    "\n",
    "# Calculate the absolute variance between 'Homo-Lumo Gap (eV)' and 'Homo-Lumo Gap (eV) Predicted'\n",
    "curcumin_df_mf['absolute_variance'] = (curcumin_df_mf['Homo-Lumo Gap (eV)'] - curcumin_df_mf['Homo-Lumo Gap (eV) Predicted']).abs()\n",
    "\n",
    "# Calculate linear trendline for absolute variance\n",
    "x = curcumin_df_mf.index\n",
    "y = curcumin_df_mf['absolute_variance']\n",
    "coefficients = np.polyfit(x, y, 1)  # Fit a linear polynomial\n",
    "trendline = np.polyval(coefficients, x)\n",
    "\n",
    "# Calculate the average absolute variance\n",
    "average_variance = y.mean()\n",
    "\n",
    "# Plotting the actual vs predicted energy gaps\n",
    "fig, ax1 = plt.subplots(figsize=(14,7))\n",
    "\n",
    "# Plot the actual values\n",
    "ax1.plot(curcumin_df_mf['Molecule'], curcumin_df_mf['Homo-Lumo Gap (eV)'], marker='s', label='Actual HOMO-LUMO Gap (eV)', color='orange')\n",
    "\n",
    "# Plot the predicted values\n",
    "ax1.plot(curcumin_df_mf['Molecule'], curcumin_df_mf['Homo-Lumo Gap (eV) Predicted'], marker='x', linestyle='--', label='Predicted HOMO-LUMO Gap (eV)', color='blue')\n",
    "\n",
    "# Plot the absolute variance as a dotted line\n",
    "ax1.plot(curcumin_df_mf['Molecule'], curcumin_df_mf['absolute_variance'], marker='v', linestyle=':', label='Absolute Variance', color='crimson')\n",
    "\n",
    "# Plot the trendline for absolute variance\n",
    "ax1.plot(curcumin_df_mf['Molecule'], trendline, linestyle='-', color='grey', label=f'Trendline (Avg. Abs. Variance: {average_variance:.2f} eV)')\n",
    "\n",
    "# Set labels for the axes and the range\n",
    "ax1.set_xlabel('Curcumin Derivative Molecule Name')\n",
    "ax1.set_ylabel('Energy Gap (eV)')\n",
    "ax1.set_ylim([0, 3.75])  # Adjust the y-axis range as needed\n",
    "ax1.tick_params(axis='y')\n",
    "ax1.legend(loc='center')\n",
    "\n",
    "# Customize the plot\n",
    "plt.title('Comparison of Actual vs Predicted HOMO-LUMO Gap (eV) and Absolute Variance')\n",
    "plt.grid(True)\n",
    "plt.tight_layout()\n",
    "plt.xticks(rotation=90)\n",
    "\n",
    "# Show the plot\n",
    "plt.show()"
   ]
  },
  {
   "cell_type": "code",
   "execution_count": 11,
   "metadata": {},
   "outputs": [
    {
     "name": "stdout",
     "output_type": "stream",
     "text": [
      "Overall MAE score: 0.20961\n",
      "Overall RMSE value: 0.05711\n"
     ]
    }
   ],
   "source": [
    "from sklearn.metrics import mean_absolute_error, mean_squared_error\n",
    "overall_MAE = mean_absolute_error(curcumin_df_mf['Homo-Lumo Gap (eV)'], curcumin_df_mf['Homo-Lumo Gap (eV) Predicted'])\n",
    "overall_rmse = mean_squared_error(curcumin_df_mf['Homo-Lumo Gap (eV)'], curcumin_df_mf['Homo-Lumo Gap (eV) Predicted'])\n",
    "print(f\"Overall MAE score: {overall_MAE:.5f}\")\n",
    "print(f\"Overall RMSE value: {overall_rmse:.5f}\")"
   ]
  },
  {
   "cell_type": "code",
   "execution_count": 12,
   "metadata": {},
   "outputs": [
    {
     "data": {
      "text/html": [
       "<div>\n",
       "<style scoped>\n",
       "    .dataframe tbody tr th:only-of-type {\n",
       "        vertical-align: middle;\n",
       "    }\n",
       "\n",
       "    .dataframe tbody tr th {\n",
       "        vertical-align: top;\n",
       "    }\n",
       "\n",
       "    .dataframe thead th {\n",
       "        text-align: right;\n",
       "    }\n",
       "</style>\n",
       "<table border=\"1\" class=\"dataframe\">\n",
       "  <thead>\n",
       "    <tr style=\"text-align: right;\">\n",
       "      <th></th>\n",
       "      <th>Molecule</th>\n",
       "      <th>Molecular Weight</th>\n",
       "      <th>LogP</th>\n",
       "      <th>Homo-Lumo Gap (eV)</th>\n",
       "      <th>Smiles</th>\n",
       "      <th>curcumin_pred_init_best</th>\n",
       "      <th>curcumin_pred_init_best_opt</th>\n",
       "      <th>curcumin_pred_48_best_opt</th>\n",
       "      <th>curcumin_pred_48_20mol_pred_bes</th>\n",
       "    </tr>\n",
       "  </thead>\n",
       "  <tbody>\n",
       "    <tr>\n",
       "      <th>0</th>\n",
       "      <td>AD-10</td>\n",
       "      <td>472.293</td>\n",
       "      <td>5.01210</td>\n",
       "      <td>3.259</td>\n",
       "      <td>COc3ccc(C/C=C/C2=CC(/C=C/Cc1ccc(OC)cc1OC)=[O+]...</td>\n",
       "      <td>3.010236</td>\n",
       "      <td>3.105641</td>\n",
       "      <td>3.072501</td>\n",
       "      <td>3.364453</td>\n",
       "    </tr>\n",
       "    <tr>\n",
       "      <th>1</th>\n",
       "      <td>AD-16-DMF</td>\n",
       "      <td>377.199</td>\n",
       "      <td>4.84938</td>\n",
       "      <td>3.231</td>\n",
       "      <td>N#Cc3ccc(C/C=C/C2=[O+][B-](F)(F)OC(/C=C/Cc1ccc...</td>\n",
       "      <td>3.250746</td>\n",
       "      <td>3.325188</td>\n",
       "      <td>2.948920</td>\n",
       "      <td>3.226149</td>\n",
       "    </tr>\n",
       "  </tbody>\n",
       "</table>\n",
       "</div>"
      ],
      "text/plain": [
       "    Molecule  Molecular Weight     LogP  Homo-Lumo Gap (eV)  \\\n",
       "0      AD-10           472.293  5.01210               3.259   \n",
       "1  AD-16-DMF           377.199  4.84938               3.231   \n",
       "\n",
       "                                              Smiles  curcumin_pred_init_best  \\\n",
       "0  COc3ccc(C/C=C/C2=CC(/C=C/Cc1ccc(OC)cc1OC)=[O+]...                 3.010236   \n",
       "1  N#Cc3ccc(C/C=C/C2=[O+][B-](F)(F)OC(/C=C/Cc1ccc...                 3.250746   \n",
       "\n",
       "   curcumin_pred_init_best_opt  curcumin_pred_48_best_opt  \\\n",
       "0                     3.105641                   3.072501   \n",
       "1                     3.325188                   2.948920   \n",
       "\n",
       "   curcumin_pred_48_20mol_pred_bes  \n",
       "0                         3.364453  \n",
       "1                         3.226149  "
      ]
     },
     "execution_count": 12,
     "metadata": {},
     "output_type": "execute_result"
    }
   ],
   "source": [
    "data = pd.read_excel(r\"C:\\Users\\Chamod Peiris\\OneDrive - Chulalongkorn University\\MS_Projects\\Cheminformatics\\Curcumin_EnergyGap\\Curcumin_Masked_Data_Training_FInal.xlsx\")\n",
    "data.head(2)"
   ]
  },
  {
   "cell_type": "code",
   "execution_count": 13,
   "metadata": {},
   "outputs": [
    {
     "data": {
      "text/plain": [
       "Index(['Molecule', 'Molecular Weight', 'LogP', 'Homo-Lumo Gap (eV)', 'Smiles',\n",
       "       'curcumin_pred_init_best', 'curcumin_pred_init_best_opt',\n",
       "       'curcumin_pred_48_best_opt', 'curcumin_pred_48_20mol_pred_bes'],\n",
       "      dtype='object')"
      ]
     },
     "execution_count": 13,
     "metadata": {},
     "output_type": "execute_result"
    }
   ],
   "source": [
    "data.columns"
   ]
  },
  {
   "cell_type": "code",
   "execution_count": 22,
   "metadata": {},
   "outputs": [
    {
     "data": {
      "image/png": "[encoded data removed]",
      "text/plain": [
       "<Figure size 1400x700 with 1 Axes>"
      ]
     },
     "metadata": {},
     "output_type": "display_data"
    }
   ],
   "source": [
    "import matplotlib.pyplot as plt\n",
    "import numpy as np\n",
    "\n",
    "# Assuming `data` is your DataFrame and contains the necessary columns\n",
    "\n",
    "# Calculate the variations\n",
    "variation_lgbm = data['curcumin_pred_init_best'] - data['Homo-Lumo Gap (eV)']\n",
    "variation_optimized_lgbm = data['curcumin_pred_init_best_opt'] - data['Homo-Lumo Gap (eV)']\n",
    "variation_48percent = data['curcumin_pred_48_best_opt'] - data['Homo-Lumo Gap (eV)']\n",
    "variation_48percent_each_mol = data['curcumin_pred_48_20mol_pred_bes'] - data['Homo-Lumo Gap (eV)']\n",
    "\n",
    "# Calculate the average variations\n",
    "avg_variation_lgbm = np.mean(np.abs(variation_lgbm))\n",
    "avg_variation_optimized_lgbm = np.mean(np.abs(variation_optimized_lgbm))\n",
    "avg_variation_48percent = np.mean(np.abs(variation_48percent))\n",
    "avg_variation_48percent_each_mol = np.mean(np.abs(variation_48percent_each_mol))\n",
    "\n",
    "# Plotting the original GAP and the predicted values from both models\n",
    "plt.figure(figsize=(14, 7))\n",
    "\n",
    "# Plot original Homo-Lumo Gap (eV)\n",
    "plt.plot(data['Molecule'], data['Homo-Lumo Gap (eV)'], marker='v', label='Original Homo-Lumo Energy Gap (eV)', color=\"crimson\", linewidth = 2.5)\n",
    "\n",
    "# Plot predicted Homo-Lumo Gap (eV) using curcumin_pred_init_best\n",
    "plt.plot(data['Molecule'], data['curcumin_pred_init_best'], marker='p', label='Predicted Homo-Lumo Energy Gap (eV) with LGBM', color=\"green\")\n",
    "\n",
    "# Plot predicted Homo-Lumo Gap (eV) using curcumin_pred_init_best_opt\n",
    "plt.plot(data['Molecule'], data['curcumin_pred_init_best_opt'], marker='p', label='Predicted Homo-Lumo Energy Gap (eV) with Optimized LGBM', color=\"purple\")\n",
    "\n",
    "#Plot predicted Homo-Lumo Gap (eV) using curcumin_pred_48_best_opt\n",
    "plt.plot(data['Molecule'], data['curcumin_pred_48_best_opt'], marker='p', label=f'Predicted Homo-Lumo Energy Gap (eV) with 48% Filtered Model', color=\"navy\")\n",
    "\n",
    "#Plot predicted Homo-Lumo Gap (eV) using curcumin_pred_48_20mol_pred_bes\n",
    "plt.plot(data['Molecule'], data['curcumin_pred_48_20mol_pred_bes'], marker='p', label=f'Predicted Homo-Lumo Energy Gap (eV) with 48% Filtered Model of each molecule', color=\"orange\")\n",
    "\n",
    "# Plot variation lines\n",
    "plt.plot(data['Molecule'], variation_lgbm, linestyle='--', color='green', alpha=0.7, label=f'Variation with LGBM (avg. {avg_variation_lgbm:.2f} eV)')\n",
    "plt.plot(data['Molecule'], variation_optimized_lgbm, linestyle='--', color='purple', alpha=0.5, label=f'Variation with Optimized LGBM (avg. {avg_variation_optimized_lgbm:.2f} eV)')\n",
    "plt.plot(data['Molecule'], variation_48percent, linestyle='--', color='navy', alpha=0.5, label=f'Variation with with 48% Filtered Model (avg. {avg_variation_48percent:.2f} eV)')\n",
    "plt.plot(data['Molecule'], variation_48percent_each_mol, linestyle='--', color='orange', alpha=0.9, label=f'Variation with 48% Filtered Model of each molecule (avg. {avg_variation_48percent_each_mol:.2f} eV)')\n",
    "\n",
    "# Labeling the axes\n",
    "plt.xlabel('Curcumin Derivative Molecules')\n",
    "plt.ylabel('Homo-Lumo Gap (eV)')\n",
    "\n",
    "# Adding grid, layout, and title\n",
    "plt.grid(True)\n",
    "plt.tight_layout()\n",
    "plt.title('Homo-Lumo Gap (eV) vs Predicted Values [Curcumin Dataset] Comparison')\n",
    "\n",
    "# Displaying legend with centered position\n",
    "plt.legend(loc='center')\n",
    "\n",
    "# Setting y-axis limits\n",
    "plt.ylim(0, 3.75)\n",
    "\n",
    "# Rotating x-axis labels for better readability\n",
    "plt.xticks(rotation=90)\n",
    "\n",
    "# Display the plot\n",
    "plt.show()"
   ]
  },
  {
   "cell_type": "code",
   "execution_count": 14,
   "metadata": {},
   "outputs": [
    {
     "ename": "NameError",
     "evalue": "name 'final_results_top30' is not defined",
     "output_type": "error",
     "traceback": [
      "\u001b[1;31m---------------------------------------------------------------------------\u001b[0m",
      "\u001b[1;31mNameError\u001b[0m                                 Traceback (most recent call last)",
      "Cell \u001b[1;32mIn[14], line 7\u001b[0m\n\u001b[0;32m      4\u001b[0m fig \u001b[38;5;241m=\u001b[39m go\u001b[38;5;241m.\u001b[39mFigure()\n\u001b[0;32m      6\u001b[0m \u001b[38;5;66;03m# Add bars for each Fingerprint type\u001b[39;00m\n\u001b[1;32m----> 7\u001b[0m \u001b[38;5;28;01mfor\u001b[39;00m similarity_method \u001b[38;5;129;01min\u001b[39;00m \u001b[43mfinal_results_top30\u001b[49m[\u001b[38;5;124m'\u001b[39m\u001b[38;5;124mFingerprint type\u001b[39m\u001b[38;5;124m'\u001b[39m]\u001b[38;5;241m.\u001b[39munique():\n\u001b[0;32m      8\u001b[0m     filtered_df \u001b[38;5;241m=\u001b[39m final_results_top30[final_results_top30[\u001b[38;5;124m'\u001b[39m\u001b[38;5;124mFingerprint type\u001b[39m\u001b[38;5;124m'\u001b[39m] \u001b[38;5;241m==\u001b[39m similarity_method]\n\u001b[0;32m      9\u001b[0m     fig\u001b[38;5;241m.\u001b[39madd_trace(go\u001b[38;5;241m.\u001b[39mBar(\n\u001b[0;32m     10\u001b[0m         x\u001b[38;5;241m=\u001b[39mfiltered_df[\u001b[38;5;124m'\u001b[39m\u001b[38;5;124mSimilarity Method\u001b[39m\u001b[38;5;124m'\u001b[39m],\n\u001b[0;32m     11\u001b[0m         y\u001b[38;5;241m=\u001b[39mfiltered_df[\u001b[38;5;124m'\u001b[39m\u001b[38;5;124mr2_score\u001b[39m\u001b[38;5;124m'\u001b[39m],\n\u001b[1;32m   (...)\u001b[0m\n\u001b[0;32m     14\u001b[0m         textposition\u001b[38;5;241m=\u001b[39m\u001b[38;5;124m'\u001b[39m\u001b[38;5;124mauto\u001b[39m\u001b[38;5;124m'\u001b[39m\n\u001b[0;32m     15\u001b[0m     ))\n",
      "\u001b[1;31mNameError\u001b[0m: name 'final_results_top30' is not defined"
     ]
    }
   ],
   "source": [
    "import plotly.graph_objects as go\n",
    "\n",
    "# Create a bar plot\n",
    "fig = go.Figure()\n",
    "\n",
    "# Add bars for each Fingerprint type\n",
    "for similarity_method in final_results_top30['Fingerprint type'].unique():\n",
    "    filtered_df = final_results_top30[final_results_top30['Fingerprint type'] == similarity_method]\n",
    "    fig.add_trace(go.Bar(\n",
    "        x=filtered_df['Similarity Method'],\n",
    "        y=filtered_df['r2_score'],\n",
    "        name=similarity_method,\n",
    "        text=filtered_df['r2_score'].round(4),\n",
    "        textposition='auto'\n",
    "    ))\n",
    "\n",
    "# Update layout\n",
    "fig.update_layout(\n",
    "    title='R2 Scores by Fingerprint type and Similarity Method (Top 30% filtered data with LightGBM Tuned Model)',\n",
    "    xaxis_title='Similarity Method',\n",
    "    yaxis_title='R2 Score',\n",
    "    barmode='group',  # Group bars together\n",
    "    height=800,\n",
    "    width=970,\n",
    "    legend=dict(\n",
    "        orientation='h',  # Horizontal orientation\n",
    "        yanchor='bottom',\n",
    "        y=1.01,  # Position above the plot\n",
    "        xanchor='center',\n",
    "        x=0.5  # Center horizontally\n",
    "    )\n",
    ")\n",
    "\n",
    "# Show the plot\n",
    "fig.show()"
   ]
  },
  {
   "cell_type": "code",
   "execution_count": 35,
   "metadata": {},
   "outputs": [
    {
     "data": {
      "application/vnd.plotly.v1+json": {
       "config": {
        "plotlyServerURL": "https://plot.ly"
       },
       "data": [
        {
         "marker": {
          "color": [
           "red",
           "blue",
           "blue",
           "blue"
          ]
         },
         "name": "Morgan Fingerprint",
         "text": [
          0.9398,
          0.9351,
          0.9344,
          0.9398
         ],
         "textposition": "auto",
         "type": "bar",
         "x": [
          "Dice Similarity",
          "Cosine Similarity",
          "Kulczynski Similarity",
          "Tanimoto Similarity"
         ],
         "y": [
          0.9398020190041924,
          0.9351186613326533,
          0.9344150864637872,
          0.9398020190041924
         ]
        },
        {
         "marker": {
          "color": [
           "blue",
           "blue",
           "blue",
           "blue"
          ]
         },
         "name": "Atom Pair Fingerprint",
         "text": [
          0.9276,
          0.9293,
          0.9298,
          0.9276
         ],
         "textposition": "auto",
         "type": "bar",
         "x": [
          "Dice Similarity",
          "Cosine Similarity",
          "Kulczynski Similarity",
          "Tanimoto Similarity"
         ],
         "y": [
          0.9276074084185486,
          0.9293196203560332,
          0.9298419367636672,
          0.9276074084185486
         ]
        },
        {
         "marker": {
          "color": [
           "blue",
           "blue",
           "blue",
           "blue"
          ]
         },
         "name": "MACCS Fingerprint",
         "text": [
          0.9288,
          0.9325,
          0.9364,
          0.9288
         ],
         "textposition": "auto",
         "type": "bar",
         "x": [
          "Dice Similarity",
          "Cosine Similarity",
          "Kulczynski Similarity",
          "Tanimoto Similarity"
         ],
         "y": [
          0.9288217053124538,
          0.9325258494192095,
          0.9364081010414715,
          0.9288217053124538
         ]
        }
       ],
       "layout": {
        "annotations": [
         {
          "arrowhead": 2,
          "ax": 0,
          "ay": -40,
          "showarrow": true,
          "text": "Best: Dice Similarity<br>Fingerprint: Morgan Fingerprint<br>R2: 0.9398",
          "x": "Dice Similarity",
          "y": 0.9398020190041924
         }
        ],
        "barmode": "group",
        "height": 600,
        "template": {
         "data": {
          "bar": [
           {
            "error_x": {
             "color": "#2a3f5f"
            },
            "error_y": {
             "color": "#2a3f5f"
            },
            "marker": {
             "line": {
              "color": "#E5ECF6",
              "width": 0.5
             },
             "pattern": {
              "fillmode": "overlay",
              "size": 10,
              "solidity": 0.2
             }
            },
            "type": "bar"
           }
          ],
          "barpolar": [
           {
            "marker": {
             "line": {
              "color": "#E5ECF6",
              "width": 0.5
             },
             "pattern": {
              "fillmode": "overlay",
              "size": 10,
              "solidity": 0.2
             }
            },
            "type": "barpolar"
           }
          ],
          "carpet": [
           {
            "aaxis": {
             "endlinecolor": "#2a3f5f",
             "gridcolor": "white",
             "linecolor": "white",
             "minorgridcolor": "white",
             "startlinecolor": "#2a3f5f"
            },
            "baxis": {
             "endlinecolor": "#2a3f5f",
             "gridcolor": "white",
             "linecolor": "white",
             "minorgridcolor": "white",
             "startlinecolor": "#2a3f5f"
            },
            "type": "carpet"
           }
          ],
          "choropleth": [
           {
            "colorbar": {
             "outlinewidth": 0,
             "ticks": ""
            },
            "type": "choropleth"
           }
          ],
          "contour": [
           {
            "colorbar": {
             "outlinewidth": 0,
             "ticks": ""
            },
            "colorscale": [
             [
              0,
              "#0d0887"
             ],
             [
              0.1111111111111111,
              "#46039f"
             ],
             [
              0.2222222222222222,
              "#7201a8"
             ],
             [
              0.3333333333333333,
              "#9c179e"
             ],
             [
              0.4444444444444444,
              "#bd3786"
             ],
             [
              0.5555555555555556,
              "#d8576b"
             ],
             [
              0.6666666666666666,
              "#ed7953"
             ],
             [
              0.7777777777777778,
              "#fb9f3a"
             ],
             [
              0.8888888888888888,
              "#fdca26"
             ],
             [
              1,
              "#f0f921"
             ]
            ],
            "type": "contour"
           }
          ],
          "contourcarpet": [
           {
            "colorbar": {
             "outlinewidth": 0,
             "ticks": ""
            },
            "type": "contourcarpet"
           }
          ],
          "heatmap": [
           {
            "colorbar": {
             "outlinewidth": 0,
             "ticks": ""
            },
            "colorscale": [
             [
              0,
              "#0d0887"
             ],
             [
              0.1111111111111111,
              "#46039f"
             ],
             [
              0.2222222222222222,
              "#7201a8"
             ],
             [
              0.3333333333333333,
              "#9c179e"
             ],
             [
              0.4444444444444444,
              "#bd3786"
             ],
             [
              0.5555555555555556,
              "#d8576b"
             ],
             [
              0.6666666666666666,
              "#ed7953"
             ],
             [
              0.7777777777777778,
              "#fb9f3a"
             ],
             [
              0.8888888888888888,
              "#fdca26"
             ],
             [
              1,
              "#f0f921"
             ]
            ],
            "type": "heatmap"
           }
          ],
          "heatmapgl": [
           {
            "colorbar": {
             "outlinewidth": 0,
             "ticks": ""
            },
            "colorscale": [
             [
              0,
              "#0d0887"
             ],
             [
              0.1111111111111111,
              "#46039f"
             ],
             [
              0.2222222222222222,
              "#7201a8"
             ],
             [
              0.3333333333333333,
              "#9c179e"
             ],
             [
              0.4444444444444444,
              "#bd3786"
             ],
             [
              0.5555555555555556,
              "#d8576b"
             ],
             [
              0.6666666666666666,
              "#ed7953"
             ],
             [
              0.7777777777777778,
              "#fb9f3a"
             ],
             [
              0.8888888888888888,
              "#fdca26"
             ],
             [
              1,
              "#f0f921"
             ]
            ],
            "type": "heatmapgl"
           }
          ],
          "histogram": [
           {
            "marker": {
             "pattern": {
              "fillmode": "overlay",
              "size": 10,
              "solidity": 0.2
             }
            },
            "type": "histogram"
           }
          ],
          "histogram2d": [
           {
            "colorbar": {
             "outlinewidth": 0,
             "ticks": ""
            },
            "colorscale": [
             [
              0,
              "#0d0887"
             ],
             [
              0.1111111111111111,
              "#46039f"
             ],
             [
              0.2222222222222222,
              "#7201a8"
             ],
             [
              0.3333333333333333,
              "#9c179e"
             ],
             [
              0.4444444444444444,
              "#bd3786"
             ],
             [
              0.5555555555555556,
              "#d8576b"
             ],
             [
              0.6666666666666666,
              "#ed7953"
             ],
             [
              0.7777777777777778,
              "#fb9f3a"
             ],
             [
              0.8888888888888888,
              "#fdca26"
             ],
             [
              1,
              "#f0f921"
             ]
            ],
            "type": "histogram2d"
           }
          ],
          "histogram2dcontour": [
           {
            "colorbar": {
             "outlinewidth": 0,
             "ticks": ""
            },
            "colorscale": [
             [
              0,
              "#0d0887"
             ],
             [
              0.1111111111111111,
              "#46039f"
             ],
             [
              0.2222222222222222,
              "#7201a8"
             ],
             [
              0.3333333333333333,
              "#9c179e"
             ],
             [
              0.4444444444444444,
              "#bd3786"
             ],
             [
              0.5555555555555556,
              "#d8576b"
             ],
             [
              0.6666666666666666,
              "#ed7953"
             ],
             [
              0.7777777777777778,
              "#fb9f3a"
             ],
             [
              0.8888888888888888,
              "#fdca26"
             ],
             [
              1,
              "#f0f921"
             ]
            ],
            "type": "histogram2dcontour"
           }
          ],
          "mesh3d": [
           {
            "colorbar": {
             "outlinewidth": 0,
             "ticks": ""
            },
            "type": "mesh3d"
           }
          ],
          "parcoords": [
           {
            "line": {
             "colorbar": {
              "outlinewidth": 0,
              "ticks": ""
             }
            },
            "type": "parcoords"
           }
          ],
          "pie": [
           {
            "automargin": true,
            "type": "pie"
           }
          ],
          "scatter": [
           {
            "fillpattern": {
             "fillmode": "overlay",
             "size": 10,
             "solidity": 0.2
            },
            "type": "scatter"
           }
          ],
          "scatter3d": [
           {
            "line": {
             "colorbar": {
              "outlinewidth": 0,
              "ticks": ""
             }
            },
            "marker": {
             "colorbar": {
              "outlinewidth": 0,
              "ticks": ""
             }
            },
            "type": "scatter3d"
           }
          ],
          "scattercarpet": [
           {
            "marker": {
             "colorbar": {
              "outlinewidth": 0,
              "ticks": ""
             }
            },
            "type": "scattercarpet"
           }
          ],
          "scattergeo": [
           {
            "marker": {
             "colorbar": {
              "outlinewidth": 0,
              "ticks": ""
             }
            },
            "type": "scattergeo"
           }
          ],
          "scattergl": [
           {
            "marker": {
             "colorbar": {
              "outlinewidth": 0,
              "ticks": ""
             }
            },
            "type": "scattergl"
           }
          ],
          "scattermapbox": [
           {
            "marker": {
             "colorbar": {
              "outlinewidth": 0,
              "ticks": ""
             }
            },
            "type": "scattermapbox"
           }
          ],
          "scatterpolar": [
           {
            "marker": {
             "colorbar": {
              "outlinewidth": 0,
              "ticks": ""
             }
            },
            "type": "scatterpolar"
           }
          ],
          "scatterpolargl": [
           {
            "marker": {
             "colorbar": {
              "outlinewidth": 0,
              "ticks": ""
             }
            },
            "type": "scatterpolargl"
           }
          ],
          "scatterternary": [
           {
            "marker": {
             "colorbar": {
              "outlinewidth": 0,
              "ticks": ""
             }
            },
            "type": "scatterternary"
           }
          ],
          "surface": [
           {
            "colorbar": {
             "outlinewidth": 0,
             "ticks": ""
            },
            "colorscale": [
             [
              0,
              "#0d0887"
             ],
             [
              0.1111111111111111,
              "#46039f"
             ],
             [
              0.2222222222222222,
              "#7201a8"
             ],
             [
              0.3333333333333333,
              "#9c179e"
             ],
             [
              0.4444444444444444,
              "#bd3786"
             ],
             [
              0.5555555555555556,
              "#d8576b"
             ],
             [
              0.6666666666666666,
              "#ed7953"
             ],
             [
              0.7777777777777778,
              "#fb9f3a"
             ],
             [
              0.8888888888888888,
              "#fdca26"
             ],
             [
              1,
              "#f0f921"
             ]
            ],
            "type": "surface"
           }
          ],
          "table": [
           {
            "cells": {
             "fill": {
              "color": "#EBF0F8"
             },
             "line": {
              "color": "white"
             }
            },
            "header": {
             "fill": {
              "color": "#C8D4E3"
             },
             "line": {
              "color": "white"
             }
            },
            "type": "table"
           }
          ]
         },
         "layout": {
          "annotationdefaults": {
           "arrowcolor": "#2a3f5f",
           "arrowhead": 0,
           "arrowwidth": 1
          },
          "autotypenumbers": "strict",
          "coloraxis": {
           "colorbar": {
            "outlinewidth": 0,
            "ticks": ""
           }
          },
          "colorscale": {
           "diverging": [
            [
             0,
             "#8e0152"
            ],
            [
             0.1,
             "#c51b7d"
            ],
            [
             0.2,
             "#de77ae"
            ],
            [
             0.3,
             "#f1b6da"
            ],
            [
             0.4,
             "#fde0ef"
            ],
            [
             0.5,
             "#f7f7f7"
            ],
            [
             0.6,
             "#e6f5d0"
            ],
            [
             0.7,
             "#b8e186"
            ],
            [
             0.8,
             "#7fbc41"
            ],
            [
             0.9,
             "#4d9221"
            ],
            [
             1,
             "#276419"
            ]
           ],
           "sequential": [
            [
             0,
             "#0d0887"
            ],
            [
             0.1111111111111111,
             "#46039f"
            ],
            [
             0.2222222222222222,
             "#7201a8"
            ],
            [
             0.3333333333333333,
             "#9c179e"
            ],
            [
             0.4444444444444444,
             "#bd3786"
            ],
            [
             0.5555555555555556,
             "#d8576b"
            ],
            [
             0.6666666666666666,
             "#ed7953"
            ],
            [
             0.7777777777777778,
             "#fb9f3a"
            ],
            [
             0.8888888888888888,
             "#fdca26"
            ],
            [
             1,
             "#f0f921"
            ]
           ],
           "sequentialminus": [
            [
             0,
             "#0d0887"
            ],
            [
             0.1111111111111111,
             "#46039f"
            ],
            [
             0.2222222222222222,
             "#7201a8"
            ],
            [
             0.3333333333333333,
             "#9c179e"
            ],
            [
             0.4444444444444444,
             "#bd3786"
            ],
            [
             0.5555555555555556,
             "#d8576b"
            ],
            [
             0.6666666666666666,
             "#ed7953"
            ],
            [
             0.7777777777777778,
             "#fb9f3a"
            ],
            [
             0.8888888888888888,
             "#fdca26"
            ],
            [
             1,
             "#f0f921"
            ]
           ]
          },
          "colorway": [
           "#636efa",
           "#EF553B",
           "#00cc96",
           "#ab63fa",
           "#FFA15A",
           "#19d3f3",
           "#FF6692",
           "#B6E880",
           "#FF97FF",
           "#FECB52"
          ],
          "font": {
           "color": "#2a3f5f"
          },
          "geo": {
           "bgcolor": "white",
           "lakecolor": "white",
           "landcolor": "#E5ECF6",
           "showlakes": true,
           "showland": true,
           "subunitcolor": "white"
          },
          "hoverlabel": {
           "align": "left"
          },
          "hovermode": "closest",
          "mapbox": {
           "style": "light"
          },
          "paper_bgcolor": "white",
          "plot_bgcolor": "#E5ECF6",
          "polar": {
           "angularaxis": {
            "gridcolor": "white",
            "linecolor": "white",
            "ticks": ""
           },
           "bgcolor": "#E5ECF6",
           "radialaxis": {
            "gridcolor": "white",
            "linecolor": "white",
            "ticks": ""
           }
          },
          "scene": {
           "xaxis": {
            "backgroundcolor": "#E5ECF6",
            "gridcolor": "white",
            "gridwidth": 2,
            "linecolor": "white",
            "showbackground": true,
            "ticks": "",
            "zerolinecolor": "white"
           },
           "yaxis": {
            "backgroundcolor": "#E5ECF6",
            "gridcolor": "white",
            "gridwidth": 2,
            "linecolor": "white",
            "showbackground": true,
            "ticks": "",
            "zerolinecolor": "white"
           },
           "zaxis": {
            "backgroundcolor": "#E5ECF6",
            "gridcolor": "white",
            "gridwidth": 2,
            "linecolor": "white",
            "showbackground": true,
            "ticks": "",
            "zerolinecolor": "white"
           }
          },
          "shapedefaults": {
           "line": {
            "color": "#2a3f5f"
           }
          },
          "ternary": {
           "aaxis": {
            "gridcolor": "white",
            "linecolor": "white",
            "ticks": ""
           },
           "baxis": {
            "gridcolor": "white",
            "linecolor": "white",
            "ticks": ""
           },
           "bgcolor": "#E5ECF6",
           "caxis": {
            "gridcolor": "white",
            "linecolor": "white",
            "ticks": ""
           }
          },
          "title": {
           "x": 0.05
          },
          "xaxis": {
           "automargin": true,
           "gridcolor": "white",
           "linecolor": "white",
           "ticks": "",
           "title": {
            "standoff": 15
           },
           "zerolinecolor": "white",
           "zerolinewidth": 2
          },
          "yaxis": {
           "automargin": true,
           "gridcolor": "white",
           "linecolor": "white",
           "ticks": "",
           "title": {
            "standoff": 15
           },
           "zerolinecolor": "white",
           "zerolinewidth": 2
          }
         }
        },
        "title": {
         "text": "R2 Scores by Fingerprint type and Similarity Method (Top 30% filtered data with LightGBM Tuned Model)"
        },
        "width": 1150,
        "xaxis": {
         "title": {
          "text": "Similarity Method"
         }
        },
        "yaxis": {
         "title": {
          "text": "R2 Score"
         }
        }
       }
      }
     },
     "metadata": {},
     "output_type": "display_data"
    }
   ],
   "source": [
    "import plotly.graph_objects as go\n",
    "\n",
    "# Find the best model and fingerprint type\n",
    "best_row = final_results_top30.loc[final_results_top30['r2_score'].idxmax()]\n",
    "best_similarity_method = best_row['Similarity Method']\n",
    "best_fingerprint_type = best_row['Fingerprint type']\n",
    "best_r2 = best_row['r2_score']\n",
    "\n",
    "# Create a bar plot\n",
    "fig = go.Figure()\n",
    "\n",
    "# Add bars for each Fingerprint type\n",
    "for fingerprint_type in final_results_top30['Fingerprint type'].unique():\n",
    "    filtered_df = final_results_top30[final_results_top30['Fingerprint type'] == fingerprint_type]\n",
    "    fig.add_trace(go.Bar(\n",
    "        x=filtered_df['Similarity Method'],\n",
    "        y=filtered_df['r2_score'],\n",
    "        name=fingerprint_type,\n",
    "        text=filtered_df['r2_score'].round(4),\n",
    "        textposition='auto',\n",
    "        marker=dict(color=['red' if (row['Similarity Method'] == best_similarity_method and row['Fingerprint type'] == best_fingerprint_type) else 'blue' for index, row in filtered_df.iterrows()])\n",
    "    ))\n",
    "\n",
    "# Add annotation for the best model\n",
    "fig.add_annotation(\n",
    "    x=best_similarity_method,\n",
    "    y=best_r2,\n",
    "    text=f\"Best: {best_similarity_method}<br>Fingerprint: {best_fingerprint_type}<br>R2: {best_r2:.4f}\",\n",
    "    showarrow=True,\n",
    "    arrowhead=2,\n",
    "    ax=0,\n",
    "    ay=-40\n",
    ")\n",
    "\n",
    "# Update layout\n",
    "fig.update_layout(\n",
    "    title='R2 Scores by Fingerprint type and Similarity Method (Top 30% filtered data with LightGBM Tuned Model)',\n",
    "    xaxis_title='Similarity Method',\n",
    "    yaxis_title='R2 Score',\n",
    "    barmode='group',  # Group bars together\n",
    "    height=600,\n",
    "    width=1150\n",
    ")\n",
    "\n",
    "# Show the plot\n",
    "fig.show()"
   ]
  },
  {
   "cell_type": "code",
   "execution_count": 79,
   "metadata": {},
   "outputs": [
    {
     "data": {
      "application/vnd.plotly.v1+json": {
       "config": {
        "plotlyServerURL": "https://plot.ly"
       },
       "data": [
        {
         "marker": {
          "color": [
           "red",
           "green",
           "blue",
           "blue"
          ]
         },
         "name": "Morgan Fingerprint",
         "showlegend": false,
         "text": [
          "Best 1<br>R2: 0.9398",
          "Best 2<br>R2: 0.9398",
          "R2: 0.9351",
          "R2: 0.9344"
         ],
         "textposition": "auto",
         "type": "bar",
         "x": [
          "Dice Similarity",
          "Tanimoto Similarity",
          "Cosine Similarity",
          "Kulczynski Similarity"
         ],
         "y": [
          0.9398020190041924,
          0.9398020190041924,
          0.9351186613326533,
          0.9344150864637872
         ]
        },
        {
         "marker": {
          "color": [
           "blue",
           "blue",
           "blue",
           "blue"
          ]
         },
         "name": "Atom Pair Fingerprint",
         "showlegend": false,
         "text": [
          "R2: 0.9298",
          "R2: 0.9293",
          "R2: 0.9276",
          "R2: 0.9276"
         ],
         "textposition": "auto",
         "type": "bar",
         "x": [
          "Kulczynski Similarity",
          "Cosine Similarity",
          "Dice Similarity",
          "Tanimoto Similarity"
         ],
         "y": [
          0.9298419367636672,
          0.9293196203560332,
          0.9276074084185486,
          0.9276074084185486
         ]
        },
        {
         "marker": {
          "color": [
           "orange",
           "blue",
           "blue",
           "blue"
          ]
         },
         "name": "MACCS Fingerprint",
         "showlegend": false,
         "text": [
          "Best 3<br>R2: 0.9364",
          "R2: 0.9325",
          "R2: 0.9288",
          "R2: 0.9288"
         ],
         "textposition": "auto",
         "type": "bar",
         "x": [
          "Kulczynski Similarity",
          "Cosine Similarity",
          "Dice Similarity",
          "Tanimoto Similarity"
         ],
         "y": [
          0.9364081010414715,
          0.9325258494192095,
          0.9288217053124538,
          0.9288217053124538
         ]
        }
       ],
       "layout": {
        "annotations": [
         {
          "arrowhead": 2,
          "ax": 0,
          "ay": -40,
          "showarrow": true,
          "text": "Best 1: Dice Similarity<br>Fingerprint: Morgan Fingerprint<br>R2: 0.9398",
          "x": "Dice Similarity",
          "y": 0.9398020190041924
         },
         {
          "arrowhead": 2,
          "ax": 0,
          "ay": -40,
          "showarrow": true,
          "text": "Best 2: Tanimoto Similarity<br>Fingerprint: Morgan Fingerprint<br>R2: 0.9398",
          "x": "Tanimoto Similarity",
          "y": 0.9398020190041924
         },
         {
          "arrowhead": 2,
          "ax": 0,
          "ay": -40,
          "showarrow": true,
          "text": "Best 3: Kulczynski Similarity<br>Fingerprint: MACCS Fingerprint<br>R2: 0.9364",
          "x": "Kulczynski Similarity",
          "y": 0.9364081010414715
         }
        ],
        "barmode": "group",
        "height": 800,
        "template": {
         "data": {
          "bar": [
           {
            "error_x": {
             "color": "#2a3f5f"
            },
            "error_y": {
             "color": "#2a3f5f"
            },
            "marker": {
             "line": {
              "color": "#E5ECF6",
              "width": 0.5
             },
             "pattern": {
              "fillmode": "overlay",
              "size": 10,
              "solidity": 0.2
             }
            },
            "type": "bar"
           }
          ],
          "barpolar": [
           {
            "marker": {
             "line": {
              "color": "#E5ECF6",
              "width": 0.5
             },
             "pattern": {
              "fillmode": "overlay",
              "size": 10,
              "solidity": 0.2
             }
            },
            "type": "barpolar"
           }
          ],
          "carpet": [
           {
            "aaxis": {
             "endlinecolor": "#2a3f5f",
             "gridcolor": "white",
             "linecolor": "white",
             "minorgridcolor": "white",
             "startlinecolor": "#2a3f5f"
            },
            "baxis": {
             "endlinecolor": "#2a3f5f",
             "gridcolor": "white",
             "linecolor": "white",
             "minorgridcolor": "white",
             "startlinecolor": "#2a3f5f"
            },
            "type": "carpet"
           }
          ],
          "choropleth": [
           {
            "colorbar": {
             "outlinewidth": 0,
             "ticks": ""
            },
            "type": "choropleth"
           }
          ],
          "contour": [
           {
            "colorbar": {
             "outlinewidth": 0,
             "ticks": ""
            },
            "colorscale": [
             [
              0,
              "#0d0887"
             ],
             [
              0.1111111111111111,
              "#46039f"
             ],
             [
              0.2222222222222222,
              "#7201a8"
             ],
             [
              0.3333333333333333,
              "#9c179e"
             ],
             [
              0.4444444444444444,
              "#bd3786"
             ],
             [
              0.5555555555555556,
              "#d8576b"
             ],
             [
              0.6666666666666666,
              "#ed7953"
             ],
             [
              0.7777777777777778,
              "#fb9f3a"
             ],
             [
              0.8888888888888888,
              "#fdca26"
             ],
             [
              1,
              "#f0f921"
             ]
            ],
            "type": "contour"
           }
          ],
          "contourcarpet": [
           {
            "colorbar": {
             "outlinewidth": 0,
             "ticks": ""
            },
            "type": "contourcarpet"
           }
          ],
          "heatmap": [
           {
            "colorbar": {
             "outlinewidth": 0,
             "ticks": ""
            },
            "colorscale": [
             [
              0,
              "#0d0887"
             ],
             [
              0.1111111111111111,
              "#46039f"
             ],
             [
              0.2222222222222222,
              "#7201a8"
             ],
             [
              0.3333333333333333,
              "#9c179e"
             ],
             [
              0.4444444444444444,
              "#bd3786"
             ],
             [
              0.5555555555555556,
              "#d8576b"
             ],
             [
              0.6666666666666666,
              "#ed7953"
             ],
             [
              0.7777777777777778,
              "#fb9f3a"
             ],
             [
              0.8888888888888888,
              "#fdca26"
             ],
             [
              1,
              "#f0f921"
             ]
            ],
            "type": "heatmap"
           }
          ],
          "heatmapgl": [
           {
            "colorbar": {
             "outlinewidth": 0,
             "ticks": ""
            },
            "colorscale": [
             [
              0,
              "#0d0887"
             ],
             [
              0.1111111111111111,
              "#46039f"
             ],
             [
              0.2222222222222222,
              "#7201a8"
             ],
             [
              0.3333333333333333,
              "#9c179e"
             ],
             [
              0.4444444444444444,
              "#bd3786"
             ],
             [
              0.5555555555555556,
              "#d8576b"
             ],
             [
              0.6666666666666666,
              "#ed7953"
             ],
             [
              0.7777777777777778,
              "#fb9f3a"
             ],
             [
              0.8888888888888888,
              "#fdca26"
             ],
             [
              1,
              "#f0f921"
             ]
            ],
            "type": "heatmapgl"
           }
          ],
          "histogram": [
           {
            "marker": {
             "pattern": {
              "fillmode": "overlay",
              "size": 10,
              "solidity": 0.2
             }
            },
            "type": "histogram"
           }
          ],
          "histogram2d": [
           {
            "colorbar": {
             "outlinewidth": 0,
             "ticks": ""
            },
            "colorscale": [
             [
              0,
              "#0d0887"
             ],
             [
              0.1111111111111111,
              "#46039f"
             ],
             [
              0.2222222222222222,
              "#7201a8"
             ],
             [
              0.3333333333333333,
              "#9c179e"
             ],
             [
              0.4444444444444444,
              "#bd3786"
             ],
             [
              0.5555555555555556,
              "#d8576b"
             ],
             [
              0.6666666666666666,
              "#ed7953"
             ],
             [
              0.7777777777777778,
              "#fb9f3a"
             ],
             [
              0.8888888888888888,
              "#fdca26"
             ],
             [
              1,
              "#f0f921"
             ]
            ],
            "type": "histogram2d"
           }
          ],
          "histogram2dcontour": [
           {
            "colorbar": {
             "outlinewidth": 0,
             "ticks": ""
            },
            "colorscale": [
             [
              0,
              "#0d0887"
             ],
             [
              0.1111111111111111,
              "#46039f"
             ],
             [
              0.2222222222222222,
              "#7201a8"
             ],
             [
              0.3333333333333333,
              "#9c179e"
             ],
             [
              0.4444444444444444,
              "#bd3786"
             ],
             [
              0.5555555555555556,
              "#d8576b"
             ],
             [
              0.6666666666666666,
              "#ed7953"
             ],
             [
              0.7777777777777778,
              "#fb9f3a"
             ],
             [
              0.8888888888888888,
              "#fdca26"
             ],
             [
              1,
              "#f0f921"
             ]
            ],
            "type": "histogram2dcontour"
           }
          ],
          "mesh3d": [
           {
            "colorbar": {
             "outlinewidth": 0,
             "ticks": ""
            },
            "type": "mesh3d"
           }
          ],
          "parcoords": [
           {
            "line": {
             "colorbar": {
              "outlinewidth": 0,
              "ticks": ""
             }
            },
            "type": "parcoords"
           }
          ],
          "pie": [
           {
            "automargin": true,
            "type": "pie"
           }
          ],
          "scatter": [
           {
            "fillpattern": {
             "fillmode": "overlay",
             "size": 10,
             "solidity": 0.2
            },
            "type": "scatter"
           }
          ],
          "scatter3d": [
           {
            "line": {
             "colorbar": {
              "outlinewidth": 0,
              "ticks": ""
             }
            },
            "marker": {
             "colorbar": {
              "outlinewidth": 0,
              "ticks": ""
             }
            },
            "type": "scatter3d"
           }
          ],
          "scattercarpet": [
           {
            "marker": {
             "colorbar": {
              "outlinewidth": 0,
              "ticks": ""
             }
            },
            "type": "scattercarpet"
           }
          ],
          "scattergeo": [
           {
            "marker": {
             "colorbar": {
              "outlinewidth": 0,
              "ticks": ""
             }
            },
            "type": "scattergeo"
           }
          ],
          "scattergl": [
           {
            "marker": {
             "colorbar": {
              "outlinewidth": 0,
              "ticks": ""
             }
            },
            "type": "scattergl"
           }
          ],
          "scattermapbox": [
           {
            "marker": {
             "colorbar": {
              "outlinewidth": 0,
              "ticks": ""
             }
            },
            "type": "scattermapbox"
           }
          ],
          "scatterpolar": [
           {
            "marker": {
             "colorbar": {
              "outlinewidth": 0,
              "ticks": ""
             }
            },
            "type": "scatterpolar"
           }
          ],
          "scatterpolargl": [
           {
            "marker": {
             "colorbar": {
              "outlinewidth": 0,
              "ticks": ""
             }
            },
            "type": "scatterpolargl"
           }
          ],
          "scatterternary": [
           {
            "marker": {
             "colorbar": {
              "outlinewidth": 0,
              "ticks": ""
             }
            },
            "type": "scatterternary"
           }
          ],
          "surface": [
           {
            "colorbar": {
             "outlinewidth": 0,
             "ticks": ""
            },
            "colorscale": [
             [
              0,
              "#0d0887"
             ],
             [
              0.1111111111111111,
              "#46039f"
             ],
             [
              0.2222222222222222,
              "#7201a8"
             ],
             [
              0.3333333333333333,
              "#9c179e"
             ],
             [
              0.4444444444444444,
              "#bd3786"
             ],
             [
              0.5555555555555556,
              "#d8576b"
             ],
             [
              0.6666666666666666,
              "#ed7953"
             ],
             [
              0.7777777777777778,
              "#fb9f3a"
             ],
             [
              0.8888888888888888,
              "#fdca26"
             ],
             [
              1,
              "#f0f921"
             ]
            ],
            "type": "surface"
           }
          ],
          "table": [
           {
            "cells": {
             "fill": {
              "color": "#EBF0F8"
             },
             "line": {
              "color": "white"
             }
            },
            "header": {
             "fill": {
              "color": "#C8D4E3"
             },
             "line": {
              "color": "white"
             }
            },
            "type": "table"
           }
          ]
         },
         "layout": {
          "annotationdefaults": {
           "arrowcolor": "#2a3f5f",
           "arrowhead": 0,
           "arrowwidth": 1
          },
          "autotypenumbers": "strict",
          "coloraxis": {
           "colorbar": {
            "outlinewidth": 0,
            "ticks": ""
           }
          },
          "colorscale": {
           "diverging": [
            [
             0,
             "#8e0152"
            ],
            [
             0.1,
             "#c51b7d"
            ],
            [
             0.2,
             "#de77ae"
            ],
            [
             0.3,
             "#f1b6da"
            ],
            [
             0.4,
             "#fde0ef"
            ],
            [
             0.5,
             "#f7f7f7"
            ],
            [
             0.6,
             "#e6f5d0"
            ],
            [
             0.7,
             "#b8e186"
            ],
            [
             0.8,
             "#7fbc41"
            ],
            [
             0.9,
             "#4d9221"
            ],
            [
             1,
             "#276419"
            ]
           ],
           "sequential": [
            [
             0,
             "#0d0887"
            ],
            [
             0.1111111111111111,
             "#46039f"
            ],
            [
             0.2222222222222222,
             "#7201a8"
            ],
            [
             0.3333333333333333,
             "#9c179e"
            ],
            [
             0.4444444444444444,
             "#bd3786"
            ],
            [
             0.5555555555555556,
             "#d8576b"
            ],
            [
             0.6666666666666666,
             "#ed7953"
            ],
            [
             0.7777777777777778,
             "#fb9f3a"
            ],
            [
             0.8888888888888888,
             "#fdca26"
            ],
            [
             1,
             "#f0f921"
            ]
           ],
           "sequentialminus": [
            [
             0,
             "#0d0887"
            ],
            [
             0.1111111111111111,
             "#46039f"
            ],
            [
             0.2222222222222222,
             "#7201a8"
            ],
            [
             0.3333333333333333,
             "#9c179e"
            ],
            [
             0.4444444444444444,
             "#bd3786"
            ],
            [
             0.5555555555555556,
             "#d8576b"
            ],
            [
             0.6666666666666666,
             "#ed7953"
            ],
            [
             0.7777777777777778,
             "#fb9f3a"
            ],
            [
             0.8888888888888888,
             "#fdca26"
            ],
            [
             1,
             "#f0f921"
            ]
           ]
          },
          "colorway": [
           "#636efa",
           "#EF553B",
           "#00cc96",
           "#ab63fa",
           "#FFA15A",
           "#19d3f3",
           "#FF6692",
           "#B6E880",
           "#FF97FF",
           "#FECB52"
          ],
          "font": {
           "color": "#2a3f5f"
          },
          "geo": {
           "bgcolor": "white",
           "lakecolor": "white",
           "landcolor": "#E5ECF6",
           "showlakes": true,
           "showland": true,
           "subunitcolor": "white"
          },
          "hoverlabel": {
           "align": "left"
          },
          "hovermode": "closest",
          "mapbox": {
           "style": "light"
          },
          "paper_bgcolor": "white",
          "plot_bgcolor": "#E5ECF6",
          "polar": {
           "angularaxis": {
            "gridcolor": "white",
            "linecolor": "white",
            "ticks": ""
           },
           "bgcolor": "#E5ECF6",
           "radialaxis": {
            "gridcolor": "white",
            "linecolor": "white",
            "ticks": ""
           }
          },
          "scene": {
           "xaxis": {
            "backgroundcolor": "#E5ECF6",
            "gridcolor": "white",
            "gridwidth": 2,
            "linecolor": "white",
            "showbackground": true,
            "ticks": "",
            "zerolinecolor": "white"
           },
           "yaxis": {
            "backgroundcolor": "#E5ECF6",
            "gridcolor": "white",
            "gridwidth": 2,
            "linecolor": "white",
            "showbackground": true,
            "ticks": "",
            "zerolinecolor": "white"
           },
           "zaxis": {
            "backgroundcolor": "#E5ECF6",
            "gridcolor": "white",
            "gridwidth": 2,
            "linecolor": "white",
            "showbackground": true,
            "ticks": "",
            "zerolinecolor": "white"
           }
          },
          "shapedefaults": {
           "line": {
            "color": "#2a3f5f"
           }
          },
          "ternary": {
           "aaxis": {
            "gridcolor": "white",
            "linecolor": "white",
            "ticks": ""
           },
           "baxis": {
            "gridcolor": "white",
            "linecolor": "white",
            "ticks": ""
           },
           "bgcolor": "#E5ECF6",
           "caxis": {
            "gridcolor": "white",
            "linecolor": "white",
            "ticks": ""
           }
          },
          "title": {
           "x": 0.05
          },
          "xaxis": {
           "automargin": true,
           "gridcolor": "white",
           "linecolor": "white",
           "ticks": "",
           "title": {
            "standoff": 15
           },
           "zerolinecolor": "white",
           "zerolinewidth": 2
          },
          "yaxis": {
           "automargin": true,
           "gridcolor": "white",
           "linecolor": "white",
           "ticks": "",
           "title": {
            "standoff": 15
           },
           "zerolinecolor": "white",
           "zerolinewidth": 2
          }
         }
        },
        "title": {
         "text": "R2 Scores by Fingerprint Type and Similarity Method (Top 30% filtered data with LightGBM Tuned Model)"
        },
        "width": 1100,
        "xaxis": {
         "title": {
          "text": "Similarity Method"
         }
        },
        "yaxis": {
         "title": {
          "text": "R2 Score"
         }
        }
       }
      }
     },
     "metadata": {},
     "output_type": "display_data"
    }
   ],
   "source": [
    "import plotly.graph_objects as go\n",
    "\n",
    "# Sort the dataframe by R2 score and label Best 1, Best 2, Best 3\n",
    "sorted_df = final_results_top30.sort_values(by='r2_score', ascending=False).reset_index(drop=True)\n",
    "sorted_df['Rank'] = ['Best 1', 'Best 2', 'Best 3'] + [''] * (len(sorted_df) - 3)\n",
    "\n",
    "# Create a bar plot\n",
    "fig = go.Figure()\n",
    "\n",
    "# Add bars for each Fingerprint type\n",
    "for fingerprint_type in final_results_top30['Fingerprint type'].unique():\n",
    "    filtered_df = sorted_df[sorted_df['Fingerprint type'] == fingerprint_type]\n",
    "    \n",
    "    fig.add_trace(go.Bar(\n",
    "        x=filtered_df['Similarity Method'],\n",
    "        y=filtered_df['r2_score'],\n",
    "        name=fingerprint_type,\n",
    "        text=filtered_df.apply(lambda row: f\"{row['Rank']}<br>R2: {row['r2_score']:.4f}\" if row['Rank'] else f\"R2: {row['r2_score']:.4f}\", axis=1),\n",
    "        textposition='auto',\n",
    "        showlegend=False,\n",
    "        marker=dict(color=[\n",
    "            'red' if row['Rank'] == 'Best 1' else \n",
    "            'green' if row['Rank'] == 'Best 2' else \n",
    "            'orange' if row['Rank'] == 'Best 3' else \n",
    "            'blue' \n",
    "            for index, row in filtered_df.iterrows()\n",
    "        ])\n",
    "    ))\n",
    "\n",
    "# Add annotations for the top 3 models\n",
    "for i, row in sorted_df.head(3).iterrows():\n",
    "    fig.add_annotation(\n",
    "        x=row['Similarity Method'],\n",
    "        y=row['r2_score'],\n",
    "        text=f\"{row['Rank']}: {row['Similarity Method']}<br>Fingerprint: {row['Fingerprint type']}<br>R2: {row['r2_score']:.4f}\",\n",
    "        showarrow=True,\n",
    "        arrowhead=2,\n",
    "        ax=0,\n",
    "        ay=-40\n",
    "    )\n",
    "\n",
    "# Update layout\n",
    "fig.update_layout(\n",
    "    title='R2 Scores by Fingerprint Type and Similarity Method (Top 30% filtered data with LightGBM Tuned Model)',\n",
    "    xaxis_title='Similarity Method',\n",
    "    yaxis_title='R2 Score',\n",
    "    barmode='group',  # Group bars together\n",
    "    height=800,\n",
    "    width=1100\n",
    ")\n",
    "\n",
    "# Show the plot\n",
    "fig.show()"
   ]
  },
  {
   "cell_type": "code",
   "execution_count": 6,
   "metadata": {},
   "outputs": [
    {
     "data": {
      "text/html": [
       "<div>\n",
       "<style scoped>\n",
       "    .dataframe tbody tr th:only-of-type {\n",
       "        vertical-align: middle;\n",
       "    }\n",
       "\n",
       "    .dataframe tbody tr th {\n",
       "        vertical-align: top;\n",
       "    }\n",
       "\n",
       "    .dataframe thead th {\n",
       "        text-align: right;\n",
       "    }\n",
       "</style>\n",
       "<table border=\"1\" class=\"dataframe\">\n",
       "  <thead>\n",
       "    <tr style=\"text-align: right;\">\n",
       "      <th></th>\n",
       "      <th>Molecule</th>\n",
       "      <th>Molecular Weight</th>\n",
       "      <th>LogP</th>\n",
       "      <th>Homo-Lumo Gap (eV)</th>\n",
       "      <th>Smiles</th>\n",
       "      <th>mol</th>\n",
       "      <th>morgan_0</th>\n",
       "      <th>morgan_1</th>\n",
       "      <th>morgan_2</th>\n",
       "      <th>morgan_3</th>\n",
       "      <th>...</th>\n",
       "      <th>morgan_2038</th>\n",
       "      <th>morgan_2039</th>\n",
       "      <th>morgan_2040</th>\n",
       "      <th>morgan_2041</th>\n",
       "      <th>morgan_2042</th>\n",
       "      <th>morgan_2043</th>\n",
       "      <th>morgan_2044</th>\n",
       "      <th>morgan_2045</th>\n",
       "      <th>morgan_2046</th>\n",
       "      <th>morgan_2047</th>\n",
       "    </tr>\n",
       "  </thead>\n",
       "  <tbody>\n",
       "    <tr>\n",
       "      <th>0</th>\n",
       "      <td>AD-10</td>\n",
       "      <td>472.293</td>\n",
       "      <td>5.01210</td>\n",
       "      <td>3.259</td>\n",
       "      <td>COc3ccc(C/C=C/C2=CC(/C=C/Cc1ccc(OC)cc1OC)=[O+]...</td>\n",
       "      <td>&lt;rdkit.Chem.rdchem.Mol object at 0x0000021E40F...</td>\n",
       "      <td>0</td>\n",
       "      <td>0</td>\n",
       "      <td>0</td>\n",
       "      <td>0</td>\n",
       "      <td>...</td>\n",
       "      <td>0</td>\n",
       "      <td>0</td>\n",
       "      <td>0</td>\n",
       "      <td>0</td>\n",
       "      <td>0</td>\n",
       "      <td>0</td>\n",
       "      <td>0</td>\n",
       "      <td>0</td>\n",
       "      <td>0</td>\n",
       "      <td>0</td>\n",
       "    </tr>\n",
       "    <tr>\n",
       "      <th>1</th>\n",
       "      <td>AD-16-DMF</td>\n",
       "      <td>377.199</td>\n",
       "      <td>4.84938</td>\n",
       "      <td>3.231</td>\n",
       "      <td>N#Cc3ccc(C/C=C/C2=[O+][B-](F)(F)OC(/C=C/Cc1ccc...</td>\n",
       "      <td>&lt;rdkit.Chem.rdchem.Mol object at 0x0000021E40F...</td>\n",
       "      <td>0</td>\n",
       "      <td>0</td>\n",
       "      <td>0</td>\n",
       "      <td>0</td>\n",
       "      <td>...</td>\n",
       "      <td>0</td>\n",
       "      <td>0</td>\n",
       "      <td>0</td>\n",
       "      <td>0</td>\n",
       "      <td>0</td>\n",
       "      <td>0</td>\n",
       "      <td>0</td>\n",
       "      <td>0</td>\n",
       "      <td>0</td>\n",
       "      <td>0</td>\n",
       "    </tr>\n",
       "    <tr>\n",
       "      <th>2</th>\n",
       "      <td>AD-3</td>\n",
       "      <td>402.209</td>\n",
       "      <td>4.72106</td>\n",
       "      <td>3.215</td>\n",
       "      <td>N#Cc3ccc(C/C=C/C2=CC(/C=C/Cc1ccc(C#N)cc1)=[O+]...</td>\n",
       "      <td>&lt;rdkit.Chem.rdchem.Mol object at 0x0000021E40F...</td>\n",
       "      <td>0</td>\n",
       "      <td>0</td>\n",
       "      <td>0</td>\n",
       "      <td>0</td>\n",
       "      <td>...</td>\n",
       "      <td>0</td>\n",
       "      <td>0</td>\n",
       "      <td>0</td>\n",
       "      <td>0</td>\n",
       "      <td>0</td>\n",
       "      <td>0</td>\n",
       "      <td>0</td>\n",
       "      <td>0</td>\n",
       "      <td>0</td>\n",
       "      <td>0</td>\n",
       "    </tr>\n",
       "    <tr>\n",
       "      <th>3</th>\n",
       "      <td>AD-9</td>\n",
       "      <td>412.241</td>\n",
       "      <td>4.99490</td>\n",
       "      <td>3.137</td>\n",
       "      <td>COc1ccccc1C/C=C/C3=CC(/C=C/Cc2ccccc2OC)=[O+][B...</td>\n",
       "      <td>&lt;rdkit.Chem.rdchem.Mol object at 0x0000021E40F...</td>\n",
       "      <td>0</td>\n",
       "      <td>0</td>\n",
       "      <td>0</td>\n",
       "      <td>0</td>\n",
       "      <td>...</td>\n",
       "      <td>0</td>\n",
       "      <td>0</td>\n",
       "      <td>0</td>\n",
       "      <td>0</td>\n",
       "      <td>0</td>\n",
       "      <td>0</td>\n",
       "      <td>0</td>\n",
       "      <td>0</td>\n",
       "      <td>0</td>\n",
       "      <td>0</td>\n",
       "    </tr>\n",
       "    <tr>\n",
       "      <th>4</th>\n",
       "      <td>2-ADMeO3</td>\n",
       "      <td>532.345</td>\n",
       "      <td>5.02930</td>\n",
       "      <td>3.077</td>\n",
       "      <td>COc3cc(OC)c(C/C=C/C2=CC(/C=C/Cc1c(OC)cc(OC)cc1...</td>\n",
       "      <td>&lt;rdkit.Chem.rdchem.Mol object at 0x0000021E40D...</td>\n",
       "      <td>0</td>\n",
       "      <td>0</td>\n",
       "      <td>0</td>\n",
       "      <td>0</td>\n",
       "      <td>...</td>\n",
       "      <td>0</td>\n",
       "      <td>0</td>\n",
       "      <td>0</td>\n",
       "      <td>0</td>\n",
       "      <td>0</td>\n",
       "      <td>0</td>\n",
       "      <td>0</td>\n",
       "      <td>0</td>\n",
       "      <td>0</td>\n",
       "      <td>0</td>\n",
       "    </tr>\n",
       "  </tbody>\n",
       "</table>\n",
       "<p>5 rows × 2054 columns</p>\n",
       "</div>"
      ],
      "text/plain": [
       "    Molecule  Molecular Weight     LogP  Homo-Lumo Gap (eV)  \\\n",
       "0      AD-10           472.293  5.01210               3.259   \n",
       "1  AD-16-DMF           377.199  4.84938               3.231   \n",
       "2       AD-3           402.209  4.72106               3.215   \n",
       "3       AD-9           412.241  4.99490               3.137   \n",
       "4   2-ADMeO3           532.345  5.02930               3.077   \n",
       "\n",
       "                                              Smiles  \\\n",
       "0  COc3ccc(C/C=C/C2=CC(/C=C/Cc1ccc(OC)cc1OC)=[O+]...   \n",
       "1  N#Cc3ccc(C/C=C/C2=[O+][B-](F)(F)OC(/C=C/Cc1ccc...   \n",
       "2  N#Cc3ccc(C/C=C/C2=CC(/C=C/Cc1ccc(C#N)cc1)=[O+]...   \n",
       "3  COc1ccccc1C/C=C/C3=CC(/C=C/Cc2ccccc2OC)=[O+][B...   \n",
       "4  COc3cc(OC)c(C/C=C/C2=CC(/C=C/Cc1c(OC)cc(OC)cc1...   \n",
       "\n",
       "                                                 mol  morgan_0  morgan_1  \\\n",
       "0  <rdkit.Chem.rdchem.Mol object at 0x0000021E40F...         0         0   \n",
       "1  <rdkit.Chem.rdchem.Mol object at 0x0000021E40F...         0         0   \n",
       "2  <rdkit.Chem.rdchem.Mol object at 0x0000021E40F...         0         0   \n",
       "3  <rdkit.Chem.rdchem.Mol object at 0x0000021E40F...         0         0   \n",
       "4  <rdkit.Chem.rdchem.Mol object at 0x0000021E40D...         0         0   \n",
       "\n",
       "   morgan_2  morgan_3  ...  morgan_2038  morgan_2039  morgan_2040  \\\n",
       "0         0         0  ...            0            0            0   \n",
       "1         0         0  ...            0            0            0   \n",
       "2         0         0  ...            0            0            0   \n",
       "3         0         0  ...            0            0            0   \n",
       "4         0         0  ...            0            0            0   \n",
       "\n",
       "   morgan_2041  morgan_2042  morgan_2043  morgan_2044  morgan_2045  \\\n",
       "0            0            0            0            0            0   \n",
       "1            0            0            0            0            0   \n",
       "2            0            0            0            0            0   \n",
       "3            0            0            0            0            0   \n",
       "4            0            0            0            0            0   \n",
       "\n",
       "   morgan_2046  morgan_2047  \n",
       "0            0            0  \n",
       "1            0            0  \n",
       "2            0            0  \n",
       "3            0            0  \n",
       "4            0            0  \n",
       "\n",
       "[5 rows x 2054 columns]"
      ]
     },
     "execution_count": 6,
     "metadata": {},
     "output_type": "execute_result"
    }
   ],
   "source": [
    "curcumin_df_mf = curcumin_df.copy()\n",
    "curcumin_df_mf['Morgan_Fingerprints'] = curcumin_df_mf['mol'].apply(\n",
    "    lambda x: list(AllChem.GetMorganFingerprintAsBitVect(x, 2, nBits=2048))\n",
    ")\n",
    "curcumin_df_mf.head()\n",
    "\n",
    "# convert the fingerprints to a DataFrame\n",
    "morgan_df = pd.DataFrame(curcumin_df_mf['Morgan_Fingerprints'].tolist(), columns=[f'morgan_{i}' for i in range(2048)])\n",
    "curcumin_df_mf = pd.concat([curcumin_df_mf.drop(columns=['Morgan_Fingerprints']), morgan_df], axis=1)\n",
    "curcumin_df_mf = curcumin_df_mf.sort_values(by='Homo-Lumo Gap (eV)', ascending=False).reset_index(drop=True)\n",
    "curcumin_df_mf.head()"
   ]
  },
  {
   "cell_type": "code",
   "execution_count": 7,
   "metadata": {},
   "outputs": [
    {
     "ename": "NameError",
     "evalue": "name 'similarity_dfs_similarity_morgan_dice_top30' is not defined",
     "output_type": "error",
     "traceback": [
      "\u001b[1;31m---------------------------------------------------------------------------\u001b[0m",
      "\u001b[1;31mNameError\u001b[0m                                 Traceback (most recent call last)",
      "Cell \u001b[1;32mIn[7], line 1\u001b[0m\n\u001b[1;32m----> 1\u001b[0m x \u001b[38;5;241m=\u001b[39m \u001b[43msimilarity_dfs_similarity_morgan_dice_top30\u001b[49m\u001b[38;5;241m.\u001b[39miloc[:, \u001b[38;5;241m4\u001b[39m:]\n\u001b[0;32m      2\u001b[0m y \u001b[38;5;241m=\u001b[39m similarity_dfs_similarity_morgan_dice_top30[\u001b[38;5;124m'\u001b[39m\u001b[38;5;124mGAP_calib\u001b[39m\u001b[38;5;124m'\u001b[39m]\n\u001b[0;32m      4\u001b[0m \u001b[38;5;66;03m# Split the data into training and testing sets\u001b[39;00m\n",
      "\u001b[1;31mNameError\u001b[0m: name 'similarity_dfs_similarity_morgan_dice_top30' is not defined"
     ]
    }
   ],
   "source": [
    "x = similarity_dfs_similarity_morgan_dice_top30.iloc[:, 4:]\n",
    "y = similarity_dfs_similarity_morgan_dice_top30['GAP_calib']\n",
    "\n",
    "# Split the data into training and testing sets\n",
    "x_train, x_test, y_train, y_test = train_test_split(x, y, test_size=0.25, random_state=123)\n",
    "\n",
    "# Initialize and train the LightGBM model\n",
    "model = lgb.LGBMRegressor(**tuned_params)\n",
    "model.fit(x_train, y_train)\n",
    "\n",
    "# Make predictions and calculate R^2 score\n",
    "y_pred = model.predict(x_test)\n",
    "\n",
    "# Calculate R2 score\n",
    "r2_model = r2_score(y_test, y_pred)\n",
    "from sklearn.metrics import mean_squared_error\n",
    "rmse_model = mean_squared_error(y_test, y_pred, squared=False)\n",
    "\n",
    "curcumin_df_mf_pred = curcumin_df_mf.copy()\n",
    "curcumin_df_mf_pred['Homo-Lumo Gap (eV) Pred'] = model.predict(curcumin_df_mf.iloc[:, 6:])\n",
    "\n",
    "r2_predict = r2_score(curcumin_df_mf_pred['Homo-Lumo Gap (eV)'],curcumin_df_mf_pred['Homo-Lumo Gap (eV) Pred'])\n",
    "rmse_predict = mean_squared_error(curcumin_df_mf_pred['Homo-Lumo Gap (eV)'],curcumin_df_mf_pred['Homo-Lumo Gap (eV) Pred'])\n",
    "\n",
    "print(f\"Model similarity_morgan_dice R2 Score: {r2_model} & RMSE value: {rmse_model}\")\n",
    "print(f\"Prediction with similarity_morgan_dice model R2 Score: {r2_predict} & RMSE value: {rmse_predict}\")                                           "
   ]
  },
  {
   "cell_type": "code",
   "execution_count": 106,
   "metadata": {},
   "outputs": [
    {
     "data": {
      "image/png": "[encoded data removed]",
      "text/plain": [
       "<Figure size 900x400 with 1 Axes>"
      ]
     },
     "metadata": {},
     "output_type": "display_data"
    }
   ],
   "source": [
    "import matplotlib.pyplot as plt\n",
    "plt.figure(figsize=(9, 4))\n",
    "plt.plot(curcumin_df_mf_pred['Molecule'], curcumin_df_mf_pred['Homo-Lumo Gap (eV)'], marker='s', label='Homo-Lumo Gap (eV)', color='blue')\n",
    "plt.plot(curcumin_df_mf_pred['Molecule'], curcumin_df_mf_pred[f'Homo-Lumo Gap (eV) Pred'], marker='h', label=f'Homo-Lumo Gap (eV) Pred', color='orange')\n",
    "plt.xlabel('Molecule')\n",
    "plt.ylabel('Homo-Lumo Gap (eV)')\n",
    "plt.grid(True)\n",
    "plt.tight_layout()\n",
    "plt.title(f'Homo-Lumo Gap (eV) vs Homo-Lumo Gap (eV) Pred')\n",
    "plt.legend()\n",
    "plt.legend(loc='lower center')\n",
    "plt.ylim(0, 3.75)\n",
    "plt.xticks(rotation=90)\n",
    "plt.show()"
   ]
  },
  {
   "cell_type": "code",
   "execution_count": 111,
   "metadata": {},
   "outputs": [
    {
     "name": "stdout",
     "output_type": "stream",
     "text": [
      "[LightGBM] [Info] Auto-choosing row-wise multi-threading, the overhead of testing was 0.029369 seconds.\n",
      "You can set `force_row_wise=true` to remove the overhead.\n",
      "And if memory is not enough, you can set `force_col_wise=true`.\n",
      "[LightGBM] [Info] Total Bins 2302\n",
      "[LightGBM] [Info] Number of data points in the train set: 11690, number of used features: 1151\n",
      "[LightGBM] [Info] Start training from score 2.764779\n",
      "Model similarity_morgan_tanimoto R2 Score: 0.9398020190041924 & RMSE value: 0.14614475789047782\n",
      "Prediction with similarity_morgan_tanimoto model R2 Score: -0.42051782594244336 & RMSE value: 0.058863854753810944\n"
     ]
    }
   ],
   "source": [
    "x = similarity_dfs_similarity_morgan_tanimoto_top30.iloc[:, 4:]\n",
    "y = similarity_dfs_similarity_morgan_tanimoto_top30['GAP_calib']\n",
    "\n",
    "# Split the data into training and testing sets\n",
    "x_train, x_test, y_train, y_test = train_test_split(x, y, test_size=0.25, random_state=123)\n",
    "\n",
    "# Initialize and train the LightGBM model\n",
    "model = lgb.LGBMRegressor(**tuned_params)\n",
    "model.fit(x_train, y_train)\n",
    "\n",
    "# Make predictions and calculate R^2 score\n",
    "y_pred = model.predict(x_test)\n",
    "\n",
    "# Calculate R2 score\n",
    "r2_model = r2_score(y_test, y_pred)\n",
    "from sklearn.metrics import mean_squared_error\n",
    "rmse_model = mean_squared_error(y_test, y_pred, squared=False)\n",
    "\n",
    "curcumin_df_mf_pred = curcumin_df_mf.copy()\n",
    "curcumin_df_mf_pred['Homo-Lumo Gap (eV) Pred'] = model.predict(curcumin_df_mf.iloc[:, 6:])\n",
    "\n",
    "r2_predict = r2_score(curcumin_df_mf_pred['Homo-Lumo Gap (eV)'],curcumin_df_mf_pred['Homo-Lumo Gap (eV) Pred'])\n",
    "rmse_predict = mean_squared_error(curcumin_df_mf_pred['Homo-Lumo Gap (eV)'],curcumin_df_mf_pred['Homo-Lumo Gap (eV) Pred'])\n",
    "\n",
    "print(f\"Model similarity_morgan_tanimoto R2 Score: {r2_model} & RMSE value: {rmse_model}\")\n",
    "print(f\"Prediction with similarity_morgan_tanimoto model R2 Score: {r2_predict} & RMSE value: {rmse_predict}\")                                           "
   ]
  },
  {
   "cell_type": "code",
   "execution_count": 112,
   "metadata": {},
   "outputs": [
    {
     "data": {
      "image/png": "[encoded data removed]",
      "text/plain": [
       "<Figure size 900x400 with 1 Axes>"
      ]
     },
     "metadata": {},
     "output_type": "display_data"
    }
   ],
   "source": [
    "import matplotlib.pyplot as plt\n",
    "plt.figure(figsize=(9, 4))\n",
    "plt.plot(curcumin_df_mf_pred['Molecule'], curcumin_df_mf_pred['Homo-Lumo Gap (eV)'], marker='o', label='Homo-Lumo Gap (eV)', color='green')\n",
    "plt.plot(curcumin_df_mf_pred['Molecule'], curcumin_df_mf_pred[f'Homo-Lumo Gap (eV) Pred'], marker='v', label=f'Homo-Lumo Gap (eV) Pred', color='black')\n",
    "plt.xlabel('Molecule')\n",
    "plt.ylabel('Homo-Lumo Gap (eV)')\n",
    "plt.grid(True)\n",
    "plt.tight_layout()\n",
    "plt.title(f'Homo-Lumo Gap (eV) vs Homo-Lumo Gap (eV) Pred')\n",
    "plt.legend()\n",
    "plt.ylim(0, 3.75)\n",
    "plt.legend(loc='lower center')\n",
    "plt.xticks(rotation=90)\n",
    "plt.show()"
   ]
  },
  {
   "cell_type": "code",
   "execution_count": 113,
   "metadata": {},
   "outputs": [
    {
     "name": "stdout",
     "output_type": "stream",
     "text": [
      "[LightGBM] [Info] Auto-choosing row-wise multi-threading, the overhead of testing was 0.035341 seconds.\n",
      "You can set `force_row_wise=true` to remove the overhead.\n",
      "And if memory is not enough, you can set `force_col_wise=true`.\n",
      "[LightGBM] [Info] Total Bins 2278\n",
      "[LightGBM] [Info] Number of data points in the train set: 11697, number of used features: 1139\n",
      "[LightGBM] [Info] Start training from score 2.777426\n",
      "Model similarity_maccs_kulczynski R2 Score: 0.9364081010414715 & RMSE value: 0.14527166736579736\n",
      "Prediction with similarity_maccs_kulczynski model R2 Score: -2.3031114967937163 & RMSE value: 0.136875350546137\n"
     ]
    }
   ],
   "source": [
    "x = similarity_dfs_similarity_maccs_kulczynski_top30.iloc[:, 4:]\n",
    "y = similarity_dfs_similarity_maccs_kulczynski_top30['GAP_calib']\n",
    "\n",
    "# Split the data into training and testing sets\n",
    "x_train, x_test, y_train, y_test = train_test_split(x, y, test_size=0.25, random_state=123)\n",
    "\n",
    "# Initialize and train the LightGBM model\n",
    "model = lgb.LGBMRegressor(**tuned_params)\n",
    "model.fit(x_train, y_train)\n",
    "\n",
    "# Make predictions and calculate R^2 score\n",
    "y_pred = model.predict(x_test)\n",
    "\n",
    "# Calculate R2 score\n",
    "r2_model = r2_score(y_test, y_pred)\n",
    "from sklearn.metrics import mean_squared_error\n",
    "rmse_model = mean_squared_error(y_test, y_pred, squared=False)\n",
    "\n",
    "curcumin_df_mf_pred = curcumin_df_mf.copy()\n",
    "curcumin_df_mf_pred['Homo-Lumo Gap (eV) Pred'] = model.predict(curcumin_df_mf.iloc[:, 6:])\n",
    "\n",
    "r2_predict = r2_score(curcumin_df_mf_pred['Homo-Lumo Gap (eV)'],curcumin_df_mf_pred['Homo-Lumo Gap (eV) Pred'])\n",
    "rmse_predict = mean_squared_error(curcumin_df_mf_pred['Homo-Lumo Gap (eV)'],curcumin_df_mf_pred['Homo-Lumo Gap (eV) Pred'])\n",
    "\n",
    "print(f\"Model similarity_maccs_kulczynski R2 Score: {r2_model} & RMSE value: {rmse_model}\")\n",
    "print(f\"Prediction with similarity_maccs_kulczynski model R2 Score: {r2_predict} & RMSE value: {rmse_predict}\")                                           "
   ]
  },
  {
   "cell_type": "code",
   "execution_count": 115,
   "metadata": {},
   "outputs": [
    {
     "data": {
      "image/png": "[encoded data removed]",
      "text/plain": [
       "<Figure size 900x400 with 1 Axes>"
      ]
     },
     "metadata": {},
     "output_type": "display_data"
    }
   ],
   "source": [
    "import matplotlib.pyplot as plt\n",
    "plt.figure(figsize=(9, 4))\n",
    "plt.plot(curcumin_df_mf_pred['Molecule'], curcumin_df_mf_pred['Homo-Lumo Gap (eV)'], marker='p', label='Homo-Lumo Gap (eV)', color='purple')\n",
    "plt.plot(curcumin_df_mf_pred['Molecule'], curcumin_df_mf_pred[f'Homo-Lumo Gap (eV) Pred'], marker='^', label=f'Homo-Lumo Gap (eV) Pred', color='red')\n",
    "plt.xlabel('Molecule')\n",
    "plt.ylabel('Homo-Lumo Gap (eV)')\n",
    "plt.grid(True)\n",
    "plt.tight_layout()\n",
    "plt.title(f'Homo-Lumo Gap (eV) vs Homo-Lumo Gap (eV) Pred')\n",
    "plt.legend()\n",
    "plt.ylim(0, 3.75)\n",
    "plt.legend(loc='lower center')\n",
    "plt.xticks(rotation=90)\n",
    "plt.show()"
   ]
  }
 ],
 "metadata": {
  "kernelspec": {
   "display_name": "Python 3",
   "language": "python",
   "name": "python3"
  },
  "language_info": {
   "codemirror_mode": {
    "name": "ipython",
    "version": 3
   },
   "file_extension": ".py",
   "mimetype": "text/x-python",
   "name": "python",
   "nbconvert_exporter": "python",
   "pygments_lexer": "ipython3",
   "version": "3.11.5"
  }
 },
 "nbformat": 4,
 "nbformat_minor": 2
}
